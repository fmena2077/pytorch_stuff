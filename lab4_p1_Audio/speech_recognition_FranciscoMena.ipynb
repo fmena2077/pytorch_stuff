{
  "nbformat": 4,
  "nbformat_minor": 0,
  "metadata": {
    "colab": {
      "name": "speech_recognition_FranciscoMena.ipynb",
      "provenance": [],
      "collapsed_sections": [],
      "toc_visible": true
    },
    "kernelspec": {
      "name": "python3",
      "display_name": "Python 3"
    },
    "accelerator": "GPU"
  },
  "cells": [
    {
      "cell_type": "markdown",
      "metadata": {
        "id": "MTaiMfyno1ah"
      },
      "source": [
        "# **Diplomado IA: Audio y Video - Parte 1**. <br> Práctico 5: Aplicaciones 2\n",
        "---\n",
        "---\n",
        "\n",
        "**Profesores:**\n",
        "- Alain Raymond\n",
        "- Gabriel Sepúlveda\n",
        "- Álvaro Soto\n",
        "\n",
        "**Ayudante:**\n",
        "- Gabriel Molina\n",
        "---\n",
        "---"
      ]
    },
    {
      "cell_type": "markdown",
      "metadata": {
        "id": "cG5guAAPo6Zg"
      },
      "source": [
        "# **Instrucciones Generales**\n",
        "\n",
        "El siguiente práctico se debe realizar de forma individual. El formato de entregar es el **archivo .ipynb con todas las celdas ejecutadas**. Las secciones donde se planteen preguntas de forma explícita, deben ser respondida en celdas de texto, y no se aceptará solo el _output_ de una celda de código como respuesta.\n",
        "\n",
        "**Nombre alumno:** FRANCISCO MENA\n",
        "\n",
        "El siguiente práctico cuenta con secciones que contienen los experimentos presentados durante la sesión de laboratorio, y actividades que deberán ser desarrolladas y luego entregadas como tarea. Algunas actividades correspondrán a escribir código y otras a responder preguntas. \n",
        "\n",
        "Antes de responder, se recomienda **fuertemente** revisar las secciones previas donde se desarrollan los ejemplos, dado que algunas de las actividades pueden ser completadas reutilizando el mismo código.\n",
        "\n",
        "**Fecha de entrega:** viernes 28 de mayo de 2021, 23:59 hrs.\n",
        "\n",
        "---\n",
        "**IMPORTANTE:** habrá un bonus de 1 décima para todos aquellos alumnos/as que muestren buen orden en sus respuestas (esto aplica a legibilidad de código, buena redacción, formalidad, organización del jupyter notebook, seguimiento de instrucciones, etc). El criterio lo pondrá cada ayudante corrector. La nota máxima obtenible en el laboratorio es 7.0"
      ]
    },
    {
      "cell_type": "markdown",
      "metadata": {
        "id": "TKFX0hhSZStH"
      },
      "source": [
        "#Sources"
      ]
    },
    {
      "cell_type": "markdown",
      "metadata": {
        "id": "u0mI1U26ZWHq"
      },
      "source": [
        "**End-to-End Audiovisual Speech Recognition**\n",
        "\n",
        "dataset: https://www.robots.ox.ac.uk/~vgg/data/lip_reading/lrw1.html\n",
        "\n",
        "paper: https://arxiv.org/pdf/1802.06424.pdf\n",
        "\n",
        "github: https://github.com/mpc001/end-to-end-lipreading"
      ]
    },
    {
      "cell_type": "markdown",
      "metadata": {
        "id": "fa2sYk8e8F3h"
      },
      "source": [
        "#Preámbulo"
      ]
    },
    {
      "cell_type": "code",
      "metadata": {
        "id": "X_IBsrGQ8h93"
      },
      "source": [
        "import sys\n",
        "import os\n",
        "import os.path\n",
        "import glob\n",
        "import math\n",
        "import random\n",
        "import numpy as np\n",
        "import cv2\n",
        "import librosa\n",
        "\n",
        "import torch\n",
        "import torch.nn as nn\n",
        "from torch.autograd import Variable\n",
        "import torch.nn.functional as F"
      ],
      "execution_count": 1,
      "outputs": []
    },
    {
      "cell_type": "code",
      "metadata": {
        "id": "3TWMH3FL8Mk4",
        "colab": {
          "base_uri": "https://localhost:8080/"
        },
        "outputId": "3eeee188-cdf3-4ecb-96aa-6c216adf9322"
      },
      "source": [
        "!if [ ! -f Audiovisual.zip ]; then wget -q --show-progress https://www.dropbox.com/s/j6het8rq3j2ewng/Audiovisual.zip; fi\n",
        "!if [ ! -f label_sorted.txt ]; then wget -q --show-progress https://www.dropbox.com/s/r44j8lhhsgjvjzb/label_sorted.txt; fi\n",
        "!if [ ! -f lipread_testset_mini.tar.gz ]; then wget -q --show-progress https://www.dropbox.com/s/cbr5q72b8cef22i/lipread_testset_mini.tar.gz; fi\n",
        "#!if [ ! -f lipread_testset.tar.gz ]; then wget -q --show-progress https://www.dropbox.com/s/4e3hkzaoizd491y/lipread_testset.tar.gz; fi\n",
        "!unzip -q Audiovisual.zip\n",
        "!tar xzf lipread_testset_mini.tar.gz\n",
        "#!tar xzf lipread_testset.tar.gz"
      ],
      "execution_count": 2,
      "outputs": [
        {
          "output_type": "stream",
          "text": [
            "Audiovisual.zip     100%[===================>] 287.80M   108MB/s    in 2.7s    \n",
            "label_sorted.txt    100%[===================>]   3.70K  --.-KB/s    in 0s      \n",
            "lipread_testset_min 100%[===================>] 339.64M  33.9MB/s    in 11s     \n"
          ],
          "name": "stdout"
        }
      ]
    },
    {
      "cell_type": "markdown",
      "metadata": {
        "id": "AA5Nq6hvjuX-"
      },
      "source": [
        "#Preprocesamiento de datos"
      ]
    },
    {
      "cell_type": "code",
      "metadata": {
        "id": "SUtNCMVOjyqy"
      },
      "source": [
        "def extract_opencv(filename):\n",
        "  video = []\n",
        "  cap = cv2.VideoCapture(filename)\n",
        "  while cap.isOpened():\n",
        "    ret, frame = cap.read() # BGR\n",
        "    if ret:\n",
        "      video.append(frame)\n",
        "    else:\n",
        "      break \n",
        "  cap.release()\n",
        "  video = np.array(video)\n",
        "  return video[...,::-1]\n",
        "\n",
        "def video_converter(basedir, basedir_to_save):\n",
        "  if not os.path.isdir( basedir_to_save ):\n",
        "    os.makedirs( basedir_to_save, exist_ok = True )\n",
        "  filenames = glob.glob(os.path.join(basedir, '*', '*', '*.mp4')) # <basedir>/<word>/<train, val, test>/<filename.mp4>\n",
        "  for filename in filenames:\n",
        "    data = extract_opencv(filename)[:, 115:211, 79:175]\n",
        "    path_to_save = os.path.join(basedir_to_save,\n",
        "                  filename.split('/')[-3],\n",
        "                  filename.split('/')[-2],\n",
        "                  filename.split('/')[-1][:-4]+'.npz')\n",
        "    if not os.path.exists(os.path.dirname(path_to_save)):\n",
        "      try:\n",
        "        os.makedirs(os.path.dirname(path_to_save))\n",
        "      except OSError as exc:\n",
        "        if exc.errno != errno.EEXIST:\n",
        "          raise   \n",
        "    np.savez(path_to_save, data=data)\n",
        "\n",
        "def audio_converter(basedir, basedir_to_save):\n",
        "  if not os.path.isdir( basedir_to_save ):\n",
        "    os.makedirs( basedir_to_save, exist_ok = True )\n",
        "  filenames = glob.glob(os.path.join(basedir, '*', '*', '*.mp4')) # <basedir>/<word>/<train, val, test>/<filename.mp4>\n",
        "  for filename in filenames:\n",
        "    data = librosa.load(filename, sr=16000)[0][-19456:]\n",
        "    path_to_save = os.path.join(basedir_to_save,\n",
        "                  filename.split('/')[-3],\n",
        "                  filename.split('/')[-2],\n",
        "                  filename.split('/')[-1][:-4]+'.npz')\n",
        "    if not os.path.exists(os.path.dirname(path_to_save)):\n",
        "      try:\n",
        "        os.makedirs(os.path.dirname(path_to_save))\n",
        "      except OSError as exc:\n",
        "        if exc.errno != errno.EEXIST:\n",
        "          raise\n",
        "    np.savez( path_to_save, data=data)"
      ],
      "execution_count": 3,
      "outputs": []
    },
    {
      "cell_type": "code",
      "metadata": {
        "id": "nqrdIEXxli0r"
      },
      "source": [
        "video_converter('lipread_testset_mini', 'preprocessed/video')\n",
        "audio_converter('lipread_testset_mini', 'preprocessed/audio')"
      ],
      "execution_count": null,
      "outputs": []
    },
    {
      "cell_type": "markdown",
      "metadata": {
        "id": "rws0az5AUAei"
      },
      "source": [
        "#Dataloader"
      ]
    },
    {
      "cell_type": "code",
      "metadata": {
        "id": "rhRaug_aUfiz"
      },
      "source": [
        "def load_audio_file(filename):\n",
        "  return np.load(filename)['data']\n",
        "\n",
        "def load_video_file(filename):\n",
        "  cap = np.load(filename)['data']\n",
        "  arrays = np.stack([cv2.cvtColor(cap[_], cv2.COLOR_RGB2GRAY) for _ in range(29)], axis=0)\n",
        "  arrays = arrays / 255.\n",
        "  return arrays\n",
        "\n",
        "class MyDataset():\n",
        "  def __init__(self, folds, audio_path, video_path):\n",
        "    self.folds = folds\n",
        "    self.audio_path = audio_path\n",
        "    self.video_path = video_path\n",
        "    self.clean = 1 / 7.\n",
        "    with open('label_sorted.txt') as myfile:\n",
        "      self.data_dir = myfile.read().splitlines()\n",
        "    self.filenames = glob.glob(os.path.join(self.audio_path, '*', self.folds, '*.npz'))\n",
        "    self.list = {}\n",
        "    for i, x in enumerate(self.filenames):\n",
        "      target = x.split('/')[-3]\n",
        "      for j, elem in enumerate(self.data_dir):\n",
        "        if elem == target:\n",
        "          self.list[i] = [x]\n",
        "          self.list[i].append(j)\n",
        "\n",
        "  def normalisation(self, inputs):\n",
        "    inputs_std = np.std(inputs)\n",
        "    if inputs_std == 0.:\n",
        "      inputs_std = 1.\n",
        "    return (inputs - np.mean(inputs))/inputs_std\n",
        "\n",
        "  def __getitem__(self, idx):\n",
        "    video_inputs = load_video_file(os.path.join(self.video_path,\n",
        "                          self.list[idx][0].split('/')[-3],\n",
        "                          self.list[idx][0].split('/')[-2],\n",
        "                          self.list[idx][0].split('/')[-1][:-4]+'.npz'))\n",
        "    self.list[idx][0] = self.list[idx][0]\n",
        "    audio_inputs = load_audio_file(self.list[idx][0])\n",
        "    audio_inputs = self.normalisation(audio_inputs)\n",
        "    labels = self.list[idx][1]\n",
        "    return audio_inputs, video_inputs, labels\n",
        "\n",
        "  def __len__(self):\n",
        "    return len(self.filenames)"
      ],
      "execution_count": 5,
      "outputs": []
    },
    {
      "cell_type": "code",
      "metadata": {
        "id": "sAgiCOw1UEEx"
      },
      "source": [
        "def data_loader(datatype, audio_dataset, video_dataset, batch_size):\n",
        "  dsets = MyDataset(datatype, audio_dataset, video_dataset)\n",
        "  dset_loader = torch.utils.data.DataLoader(dsets, batch_size = batch_size, shuffle=True, num_workers=4)\n",
        "  dset_size = len(dsets)\n",
        "  print('\\nStatistics: {}: {}'.format(datatype, dset_size))\n",
        "  return dset_loader, dset_size"
      ],
      "execution_count": 6,
      "outputs": []
    },
    {
      "cell_type": "markdown",
      "metadata": {
        "id": "69UVB_pI8Jej"
      },
      "source": [
        "#Modelo"
      ]
    },
    {
      "cell_type": "markdown",
      "metadata": {
        "id": "Ldx6eQ9pTzkh"
      },
      "source": [
        "##Bloques genéricos"
      ]
    },
    {
      "cell_type": "code",
      "metadata": {
        "id": "8w77GyKvT2zo"
      },
      "source": [
        "class GRU(nn.Module):\n",
        "\n",
        "  def __init__(self, input_size, hidden_size, num_layers, num_classes, output_layer=False, every_frame=False):\n",
        "    super(GRU, self).__init__()\n",
        "    self.hidden_size = hidden_size\n",
        "    self.num_layers = num_layers\n",
        "    self.output_layer = output_layer\n",
        "    self.every_frame = every_frame\n",
        "    self.gru = nn.GRU(input_size, hidden_size, num_layers, batch_first=True, bidirectional=True)\n",
        "    self.fc = nn.Linear(hidden_size*2, num_classes)\n",
        "\n",
        "  def to( self, device ):\n",
        "    self.device = device\n",
        "    return super( GRU, self ).to( device )\n",
        "\n",
        "  def forward(self, x):\n",
        "    h0 = Variable(torch.zeros(self.num_layers*2, x.size(0), self.hidden_size).to(self.device))\n",
        "    # Forward propagate RNN\n",
        "    out, _ = self.gru(x, h0)\n",
        "    if self.output_layer:\n",
        "      if self.every_frame:\n",
        "        out = self.fc(out)  # predictions based on every time step\n",
        "      else:\n",
        "        out = self.fc(out[:, -1, :])  # predictions based on last time-step\n",
        "    return out "
      ],
      "execution_count": 7,
      "outputs": []
    },
    {
      "cell_type": "markdown",
      "metadata": {
        "id": "c84Xd8ntAbL5"
      },
      "source": [
        "##Modelo de audio\n"
      ]
    },
    {
      "cell_type": "code",
      "metadata": {
        "id": "BvaU_AlE92nl"
      },
      "source": [
        "class BasicBlock1D(nn.Module):\n",
        "  expansion = 1\n",
        "\n",
        "  def __init__(self, inplanes, planes, stride=1, downsample=None):\n",
        "    super(BasicBlock1D, self).__init__()\n",
        "    self.downsample = downsample\n",
        "    self.stride = stride\n",
        "\n",
        "    self.conv1 = nn.Conv1d(inplanes, planes, kernel_size=3, stride=stride, padding=1, bias=False)\n",
        "    self.bn1 = nn.BatchNorm1d(planes)\n",
        "    self.relu = nn.ReLU(inplace=True)\n",
        "\n",
        "    self.conv2 = nn.Conv1d(planes, planes, kernel_size=3, stride=1, padding=1, bias=False)\n",
        "    self.bn2 = nn.BatchNorm1d(planes)\n",
        "\n",
        "  def forward(self, x):\n",
        "    residual = x\n",
        "    out = self.conv1(x)\n",
        "    out = self.bn1(out)\n",
        "    out = self.relu(out)\n",
        "    out = self.conv2(out)\n",
        "    out = self.bn2(out)\n",
        "    if self.downsample is not None:\n",
        "      residual = self.downsample(x)\n",
        "    out += residual\n",
        "    out = self.relu(out)\n",
        "    return out\n",
        "\n",
        "\n",
        "class ResNet(nn.Module):\n",
        "\n",
        "  def __init__(self, block, layers, num_classes=1000):\n",
        "    self.inplanes = 64\n",
        "    super(ResNet, self).__init__()\n",
        "    self.layer1 = self._make_layer(block, 64, layers[0])\n",
        "    self.layer2 = self._make_layer(block, 128, layers[1], stride=2)\n",
        "    self.layer3 = self._make_layer(block, 256, layers[2], stride=2)\n",
        "    self.layer4 = self._make_layer(block, 512, layers[3], stride=2)\n",
        "    self.avgpool = nn.AvgPool1d(kernel_size=21, padding=1)\n",
        "    self.fc = nn.Linear(512 * block.expansion, num_classes)\n",
        "    for m in self.modules():\n",
        "      if isinstance(m, nn.Conv1d):\n",
        "        n = m.kernel_size[0] * m.out_channels\n",
        "        m.weight.data.normal_(0, math.sqrt(2. / n))\n",
        "      elif isinstance(m, nn.BatchNorm1d):\n",
        "        m.weight.data.fill_(1)\n",
        "        m.bias.data.zero_()\n",
        "\n",
        "  def _make_layer(self, block, planes, blocks, stride=1):\n",
        "    downsample = None\n",
        "    if stride != 1 or self.inplanes != planes * block.expansion:\n",
        "      downsample = nn.Sequential(\n",
        "        nn.Conv1d(self.inplanes, planes * block.expansion,\n",
        "              kernel_size=1, stride=stride, bias=False),\n",
        "        nn.BatchNorm1d(planes * block.expansion),\n",
        "      )\n",
        "\n",
        "    layers = []\n",
        "    layers.append(block(self.inplanes, planes, stride, downsample))\n",
        "    self.inplanes = planes * block.expansion\n",
        "    for i in range(1, blocks):\n",
        "      layers.append(block(self.inplanes, planes))\n",
        "\n",
        "    return nn.Sequential(*layers)\n",
        "\n",
        "  def forward(self, x):\n",
        "    x = self.layer1(x)\n",
        "    x = self.layer2(x)\n",
        "    x = self.layer3(x)\n",
        "    x = self.layer4(x)\n",
        "    x = self.avgpool(x)\n",
        "    x = x.transpose(1, 2)\n",
        "    x = x.contiguous()\n",
        "    x = x.view(-1, x.size(2))\n",
        "    x = self.fc(x)\n",
        "    return x\n",
        "\n",
        "\n",
        "class AudioLipreading(nn.Module):\n",
        "  def __init__(self, inputDim=256, hiddenDim=512, nClasses=500, frameLen=29):\n",
        "    super(AudioLipreading, self).__init__()\n",
        "    self.inputDim = inputDim\n",
        "    self.hiddenDim = hiddenDim\n",
        "    self.nClasses = nClasses\n",
        "    self.frameLen = frameLen\n",
        "    self.nLayers = 2\n",
        "    # frontend1D\n",
        "    self.fronted1D = nn.Sequential(\n",
        "        nn.Conv1d(1, 64, kernel_size=80, stride=4, padding=38, bias=False),\n",
        "        nn.BatchNorm1d(64),\n",
        "        nn.ReLU(True)\n",
        "        )\n",
        "    # resnet\n",
        "    self.resnet18 = ResNet(BasicBlock1D, [2, 2, 2, 2], num_classes=self.inputDim)\n",
        "    # backend_gru\n",
        "    self.gru = GRU(self.inputDim, self.hiddenDim, self.nLayers, self.nClasses)\n",
        "\n",
        "  def to( self, device ):\n",
        "    self.gru.to(device)\n",
        "    return super( AudioLipreading, self ).to( device )\n",
        "\n",
        "  def forward(self, x):\n",
        "    x = x.view(-1, 1, x.size(1))\n",
        "    x = self.fronted1D(x)\n",
        "    x = x.contiguous()\n",
        "    x = self.resnet18(x)\n",
        "    x = x.view(-1, self.frameLen, self.inputDim)\n",
        "    x = self.gru(x)\n",
        "    return x"
      ],
      "execution_count": 8,
      "outputs": []
    },
    {
      "cell_type": "markdown",
      "metadata": {
        "id": "zEGWIJ6fAfBb"
      },
      "source": [
        "##Modelo de video"
      ]
    },
    {
      "cell_type": "code",
      "metadata": {
        "id": "0EwkA0WD-Hhn"
      },
      "source": [
        "class BasicBlock2D(nn.Module):\n",
        "  expansion = 1\n",
        "\n",
        "  def __init__(self, inplanes, planes, stride=1, downsample=None):\n",
        "    super(BasicBlock2D, self).__init__()\n",
        "    self.conv1 = nn.Conv2d(inplanes, planes, kernel_size=3, stride=stride, padding=1, bias=False)\n",
        "    self.bn1 = nn.BatchNorm2d(planes)\n",
        "    self.relu = nn.ReLU(inplace=True)\n",
        "    self.conv2 = nn.Conv2d(planes, planes, kernel_size=3, stride=1, padding=1, bias=False)\n",
        "    self.bn2 = nn.BatchNorm2d(planes)\n",
        "    self.downsample = downsample\n",
        "    self.stride = stride\n",
        "\n",
        "  def forward(self, x):\n",
        "    residual = x\n",
        "    out = self.conv1(x)\n",
        "    out = self.bn1(out)\n",
        "    out = self.relu(out)\n",
        "    out = self.conv2(out)\n",
        "    out = self.bn2(out)\n",
        "    if self.downsample is not None:\n",
        "      residual = self.downsample(x)\n",
        "    out += residual\n",
        "    out = self.relu(out)\n",
        "    return out\n",
        "\n",
        "\n",
        "class ResNet2D(nn.Module):\n",
        "\n",
        "  def __init__(self, block, layers, num_classes=1000):\n",
        "    self.inplanes = 64\n",
        "    super(ResNet2D, self).__init__()\n",
        "    self.layer1 = self._make_layer(block, 64, layers[0])\n",
        "    self.layer2 = self._make_layer(block, 128, layers[1], stride=2)\n",
        "    self.layer3 = self._make_layer(block, 256, layers[2], stride=2)\n",
        "    self.layer4 = self._make_layer(block, 512, layers[3], stride=2)\n",
        "    self.avgpool = nn.AvgPool2d(2)\n",
        "    self.fc = nn.Linear(512 * block.expansion, num_classes)\n",
        "    self.bnfc = nn.BatchNorm1d(num_classes)\n",
        "    for m in self.modules():\n",
        "      if isinstance(m, nn.Conv2d):\n",
        "        n = m.kernel_size[0] * m.kernel_size[1] * m.out_channels\n",
        "        m.weight.data.normal_(0, math.sqrt(2. / n))\n",
        "      elif isinstance(m, nn.BatchNorm2d):\n",
        "        m.weight.data.fill_(1)\n",
        "        m.bias.data.zero_()\n",
        "      elif isinstance(m, nn.BatchNorm1d):\n",
        "        m.weight.data.fill_(1)\n",
        "        m.bias.data.zero_()\n",
        "\n",
        "  def _make_layer(self, block, planes, blocks, stride=1):\n",
        "    downsample = None\n",
        "    if stride != 1 or self.inplanes != planes * block.expansion:\n",
        "      downsample = nn.Sequential(\n",
        "        nn.Conv2d(self.inplanes, planes * block.expansion,\n",
        "              kernel_size=1, stride=stride, bias=False),\n",
        "        nn.BatchNorm2d(planes * block.expansion),\n",
        "      )\n",
        "\n",
        "    layers = []\n",
        "    layers.append(block(self.inplanes, planes, stride, downsample))\n",
        "    self.inplanes = planes * block.expansion\n",
        "    for i in range(1, blocks):\n",
        "      layers.append(block(self.inplanes, planes))\n",
        "\n",
        "    return nn.Sequential(*layers)\n",
        "\n",
        "  def forward(self, x):\n",
        "    x = self.layer1(x)\n",
        "    x = self.layer2(x)\n",
        "    x = self.layer3(x)\n",
        "    x = self.layer4(x)\n",
        "    x = self.avgpool(x)\n",
        "    x = x.view(x.size(0), -1)\n",
        "    x = self.fc(x)\n",
        "    x = self.bnfc(x)\n",
        "    return x\n",
        "\n",
        "\n",
        "class VideoLipreading(nn.Module):\n",
        "\n",
        "  def __init__(self, inputDim=256, hiddenDim=512, nClasses=500, frameLen=29):\n",
        "    super(VideoLipreading, self).__init__()\n",
        "    self.inputDim = inputDim\n",
        "    self.hiddenDim = hiddenDim\n",
        "    self.nClasses = nClasses\n",
        "    self.frameLen = frameLen\n",
        "    self.nLayers = 2\n",
        "    # frontend3D\n",
        "    self.frontend3D = nn.Sequential(\n",
        "        nn.Conv3d(1, 64, kernel_size=(5, 7, 7), stride=(1, 2, 2), padding=(2, 3, 3), bias=False),\n",
        "        nn.BatchNorm3d(64),\n",
        "        nn.ReLU(True),\n",
        "        nn.MaxPool3d(kernel_size=(1, 3, 3), stride=(1, 2, 2), padding=(0, 1, 1))\n",
        "        )\n",
        "    # resnet\n",
        "    self.resnet34 = ResNet2D(BasicBlock2D, [3, 4, 6, 3], num_classes=self.inputDim)\n",
        "    # backend_gru\n",
        "    self.gru = GRU(self.inputDim, self.hiddenDim, self.nLayers, self.nClasses)\n",
        "\n",
        "  def to( self, device ):\n",
        "    self.gru.to(device)\n",
        "    return super( VideoLipreading, self ).to( device )\n",
        "\n",
        "  def forward(self, x):\n",
        "    x = self.frontend3D(x)\n",
        "    x = x.transpose(1, 2)\n",
        "    x = x.contiguous()\n",
        "    x = x.view(-1, 64, x.size(3), x.size(4))\n",
        "    x = self.resnet34(x)\n",
        "    x = x.view(-1, self.frameLen, self.inputDim)\n",
        "    x = self.gru(x)\n",
        "    return x"
      ],
      "execution_count": 9,
      "outputs": []
    },
    {
      "cell_type": "markdown",
      "metadata": {
        "id": "r-YAJRlsndlY"
      },
      "source": [
        "#Evaluación"
      ]
    },
    {
      "cell_type": "code",
      "metadata": {
        "id": "Ka1C3ep_48jx"
      },
      "source": [
        "def CenterCrop(batch_img, size):\n",
        "  w, h = batch_img[0][0].shape[1], batch_img[0][0].shape[0]\n",
        "  th, tw = size\n",
        "  img = np.zeros((len(batch_img), len(batch_img[0]), th, tw))\n",
        "  for i in range(len(batch_img)):\n",
        "    x1 = int(round((w - tw))/2.)\n",
        "    y1 = int(round((h - th))/2.)\n",
        "    img[i] = batch_img[i, :, y1:y1+th, x1:x1+tw]\n",
        "  return img\n",
        "\n",
        "def ColorNormalize(batch_img):\n",
        "  mean = 0.413621\n",
        "  std = 0.1700239\n",
        "  batch_img = (batch_img - mean) / std\n",
        "  return batch_img"
      ],
      "execution_count": 10,
      "outputs": []
    },
    {
      "cell_type": "code",
      "metadata": {
        "id": "HzCbyVhjxIQQ"
      },
      "source": [
        "def reload_model(model, path=\"\"):\n",
        "  model_dict = model.state_dict()\n",
        "  pretrained_dict = torch.load(path)\n",
        "  pretrained_dict = {k: v for k, v in pretrained_dict.items() if k in model_dict}\n",
        "  model_dict.update(pretrained_dict)\n",
        "  model.load_state_dict(model_dict)\n",
        "  print('*** model has been successfully loaded! ***')\n",
        "  return model"
      ],
      "execution_count": 11,
      "outputs": []
    },
    {
      "cell_type": "code",
      "metadata": {
        "id": "jmhzFvSenf6X",
        "colab": {
          "base_uri": "https://localhost:8080/"
        },
        "outputId": "bbd56432-81b9-4a1c-ebbd-8c56edbfb643"
      },
      "source": [
        "device = torch.device( 'cuda' if torch.cuda.is_available() else 'cpu' )\n",
        "print( 'running on: %s' % (device) )\n",
        "\n",
        "every_frame = True\n",
        "audio_model = AudioLipreading(inputDim=512, hiddenDim=512, nClasses=500, frameLen=29)\n",
        "video_model = VideoLipreading(inputDim=256, hiddenDim=512, nClasses=500, frameLen=29)\n",
        "concat_model = GRU(2048, 512, 2, 500, output_layer=True, every_frame=every_frame)\n",
        "\n",
        "# reload model\n",
        "print('reload audio model')\n",
        "audio_model = reload_model(audio_model, 'Audiovisual/Audiovisual_a_part.pt')\n",
        "print(\"reload video model\")\n",
        "video_model = reload_model(video_model, 'Audiovisual/Audiovisual_v_part.pt')\n",
        "print(\"reload LSTM model\")\n",
        "concat_model = reload_model(concat_model, 'Audiovisual/Audiovisual_c_part.pt')\n",
        "\n",
        "audio_model = audio_model.to( device )\n",
        "video_model = video_model.to( device )\n",
        "concat_model = concat_model.to( device )"
      ],
      "execution_count": 12,
      "outputs": [
        {
          "output_type": "stream",
          "text": [
            "running on: cuda\n",
            "reload audio model\n",
            "*** model has been successfully loaded! ***\n",
            "reload video model\n",
            "*** model has been successfully loaded! ***\n",
            "reload LSTM model\n",
            "*** model has been successfully loaded! ***\n"
          ],
          "name": "stdout"
        }
      ]
    },
    {
      "cell_type": "code",
      "metadata": {
        "id": "QEU3I6IEYhmU",
        "colab": {
          "base_uri": "https://localhost:8080/"
        },
        "outputId": "ef550c32-ab99-4f38-d6b7-9c09eefdc961"
      },
      "source": [
        "dset_loader, dset_size = data_loader('test', 'preprocessed/audio', 'preprocessed/video', batch_size = 1)"
      ],
      "execution_count": 13,
      "outputs": [
        {
          "output_type": "stream",
          "text": [
            "\n",
            "Statistics: test: 2500\n"
          ],
          "name": "stdout"
        },
        {
          "output_type": "stream",
          "text": [
            "/usr/local/lib/python3.7/dist-packages/torch/utils/data/dataloader.py:477: UserWarning: This DataLoader will create 4 worker processes in total. Our suggested max number of worker in current system is 2, which is smaller than what this DataLoader is going to create. Please be aware that excessive worker creation might get DataLoader running slow or even freeze, lower the worker number to avoid potential slowness/freeze if necessary.\n",
            "  cpuset_checked))\n"
          ],
          "name": "stderr"
        }
      ]
    },
    {
      "cell_type": "code",
      "metadata": {
        "id": "rwYlhz6CVpr0",
        "colab": {
          "base_uri": "https://localhost:8080/"
        },
        "outputId": "bdb4d1de-3f3b-45aa-f176-9f6ff7a1c33f"
      },
      "source": [
        "audio_model.eval()\n",
        "video_model.eval()\n",
        "concat_model.eval()\n",
        "\n",
        "running_loss = 0.0\n",
        "running_corrects = 0.0\n",
        "running_all = 0.0\n",
        "with torch.no_grad():\n",
        "  for batch_idx, (audio_inputs, video_inputs, targets) in enumerate(dset_loader):\n",
        "    batch_img = CenterCrop(video_inputs.numpy(), (88, 88))\n",
        "    batch_img = ColorNormalize(batch_img)\n",
        "\n",
        "    batch_img = np.reshape(batch_img, (batch_img.shape[0], batch_img.shape[1], batch_img.shape[2], batch_img.shape[3], 1))\n",
        "    video_inputs = torch.from_numpy(batch_img)\n",
        "    video_inputs = video_inputs.float().permute(0, 4, 1, 2, 3)\n",
        "\n",
        "    audio_inputs = audio_inputs.float()\n",
        "\n",
        "    audio_inputs = audio_inputs.to( device )\n",
        "    video_inputs = video_inputs.to( device )\n",
        "    targets = targets.to( device )\n",
        "\n",
        "    audio_outputs = audio_model(audio_inputs)\n",
        "    video_outputs = video_model(video_inputs)\n",
        "    inputs = torch.cat((audio_outputs, video_outputs), dim=2)\n",
        "    outputs = concat_model(inputs)\n",
        "\n",
        "    if every_frame:\n",
        "      outputs = torch.mean(outputs, 1) # average probability among frames\n",
        "    _, preds = torch.max(F.softmax(outputs, dim=1).data, 1)\n",
        "\n",
        "    #running_loss += loss.data[0] * inputs.size(0)\n",
        "    running_corrects += torch.sum(preds == targets.data)\n",
        "    running_all += len(inputs)\n",
        "print('Accuracy: {:.4f}'.format(running_corrects / len(dset_loader.dataset))+'\\n')"
      ],
      "execution_count": 14,
      "outputs": [
        {
          "output_type": "stream",
          "text": [
            "/usr/local/lib/python3.7/dist-packages/torch/utils/data/dataloader.py:477: UserWarning: This DataLoader will create 4 worker processes in total. Our suggested max number of worker in current system is 2, which is smaller than what this DataLoader is going to create. Please be aware that excessive worker creation might get DataLoader running slow or even freeze, lower the worker number to avoid potential slowness/freeze if necessary.\n",
            "  cpuset_checked))\n"
          ],
          "name": "stderr"
        },
        {
          "output_type": "stream",
          "text": [
            "Accuracy: 0.9884\n",
            "\n"
          ],
          "name": "stdout"
        }
      ]
    },
    {
      "cell_type": "markdown",
      "metadata": {
        "id": "-4nUeZaboqMM"
      },
      "source": [
        "##Evaluación cualitativa"
      ]
    },
    {
      "cell_type": "code",
      "metadata": {
        "id": "qIV4AQ5-bag0"
      },
      "source": [
        "def normalisation(inputs):\n",
        "  inputs_std = np.std(inputs)\n",
        "  if inputs_std == 0.:\n",
        "    inputs_std = 1.\n",
        "  return (inputs - np.mean(inputs))/inputs_std\n",
        "\n",
        "def predict(filename):\n",
        "  # data loading\n",
        "  npy_basename = 'preprocessed'\n",
        "  with open('label_sorted.txt') as myfile:\n",
        "    id2label = myfile.read().splitlines()\n",
        "    label2id = { klass:i for i, klass in enumerate(id2label) }\n",
        "  audio_input = load_audio_file( os.path.join( npy_basename,\n",
        "                                               'audio',\n",
        "                                                filename.split('/')[-3],\n",
        "                                                filename.split('/')[-2],\n",
        "                                                filename.split('/')[-1][:-4]+'.npz' ) )\n",
        "  audio_input = normalisation(audio_input)\n",
        "  video_input = load_video_file( os.path.join( npy_basename,\n",
        "                                               'video',\n",
        "                                                filename.split('/')[-3],\n",
        "                                                filename.split('/')[-2],\n",
        "                                                filename.split('/')[-1][:-4]+'.npz' ) )\n",
        "  label = filename.split('/')[-3]\n",
        "  label_id = label2id[label]\n",
        "\n",
        "  audio_input = np.expand_dims( audio_input, 0 ) # add batch dimension\n",
        "  video_input = np.expand_dims( video_input, 0 ) # add batch dimension\n",
        "\n",
        "  # prediction\n",
        "  batch_img = CenterCrop(video_input, (88, 88))\n",
        "  batch_img = ColorNormalize(batch_img)\n",
        "\n",
        "  batch_img = np.reshape(batch_img, (batch_img.shape[0], batch_img.shape[1], batch_img.shape[2], batch_img.shape[3], 1))\n",
        "  video_input = torch.from_numpy(batch_img)\n",
        "  video_input = video_input.float().permute(0, 4, 1, 2, 3)\n",
        "\n",
        "  \n",
        "  audio_input = torch.from_numpy(audio_input).float()\n",
        "\n",
        "  audio_input = audio_input.to( device )\n",
        "  video_input = video_input.to( device )\n",
        "\n",
        "  audio_output = audio_model(audio_input)\n",
        "  video_output = video_model(video_input)\n",
        "  input = torch.cat((audio_output, video_output), dim=2)\n",
        "  output = concat_model(input)\n",
        "\n",
        "  if every_frame:\n",
        "    output = torch.mean(output, 1) # average probability among frames\n",
        "  _, pred = torch.max(F.softmax(output, dim=1).data, 1)\n",
        "  \n",
        "  pred_str = id2label[int(pred)]\n",
        "\n",
        "  return preds, pred_str"
      ],
      "execution_count": 15,
      "outputs": []
    },
    {
      "cell_type": "code",
      "metadata": {
        "id": "MT0K1iCiibKU",
        "colab": {
          "base_uri": "https://localhost:8080/"
        },
        "outputId": "e54fea96-e0f7-4e4e-e35b-aa4ad55f15d7"
      },
      "source": [
        "video_filename = 'lipread_testset_mini/AMERICAN/test/AMERICAN_00001.mp4'\n",
        "#video_filename = 'lipread_testset_mini/CHILDREN/test/CHILDREN_00001.mp4'\n",
        "#video_filename = 'lipread_testset_mini/EXAMPLE/test/EXAMPLE_00001.mp4'\n",
        "#video_filename = 'lipread_testset_mini/MAKING/test/MAKING_00001.mp4'\n",
        "#video_filename = 'lipread_testset_mini/YESTERDAY/test/YESTERDAY_00001.mp4'\n",
        "\n",
        "pred, pred_str = predict(video_filename)\n",
        "print( 'Model prediction: %s [%d]' % (pred_str, int(pred)) )"
      ],
      "execution_count": 16,
      "outputs": [
        {
          "output_type": "stream",
          "text": [
            "Model prediction: AMERICAN [157]\n"
          ],
          "name": "stdout"
        }
      ]
    },
    {
      "cell_type": "code",
      "metadata": {
        "id": "N0MSW9TWjwC5",
        "colab": {
          "base_uri": "https://localhost:8080/",
          "height": 495
        },
        "outputId": "0c6e6d0e-36fe-47d9-9300-2b8603555006"
      },
      "source": [
        "from IPython.display import HTML\n",
        "from base64 import b64encode\n",
        "# Convert mp4 to format supported by Colab\n",
        "os.system(f\"ffmpeg -i {video_filename} -vcodec libx264 {os.path.basename(video_filename)}\")\n",
        "mp4 = open(os.path.basename(video_filename),'rb').read()\n",
        "data_url = \"data:video/mp4;base64,\" + b64encode(mp4).decode()\n",
        "HTML(\"\"\"\n",
        "<h1>Predicted word: %s</h1>\n",
        "<br>\n",
        "<video width=400 controls>\n",
        "      <source src=\"%s\" type=\"video/mp4\">\n",
        "</video>\n",
        "\"\"\" % (pred_str, data_url))"
      ],
      "execution_count": 17,
      "outputs": [
        {
          "output_type": "execute_result",
          "data": {
            "text/html": [
              "\n",
              "<h1>Predicted word: AMERICAN</h1>\n",
              "<br>\n",
              "<video width=400 controls>\n",
              "      <source src=\"data:video/mp4;base64,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\" type=\"video/mp4\">\n",
              "</video>\n"
            ],
            "text/plain": [
              "<IPython.core.display.HTML object>"
            ]
          },
          "metadata": {
            "tags": []
          },
          "execution_count": 17
        }
      ]
    },
    {
      "cell_type": "markdown",
      "metadata": {
        "id": "nU01fzTxomtm"
      },
      "source": [
        "#Actividades"
      ]
    },
    {
      "cell_type": "markdown",
      "metadata": {
        "id": "_gF066WKHnFp"
      },
      "source": [
        "##Actividad 1"
      ]
    },
    {
      "cell_type": "markdown",
      "metadata": {
        "id": "JCHgr7hLHrF1"
      },
      "source": [
        "¿ Por qué puede ser necesario utilizar los frames de video para la tarea de speech recognition ?"
      ]
    },
    {
      "cell_type": "code",
      "metadata": {
        "id": "9EzPFKZ0oodR"
      },
      "source": [
        "Respuesta = 'Para dar robustez al modelo cuando el audio viene con ruido ambiente' #@param [\"seleccione una opcion\", \"Los frames de video son utilizados para leer los labios y generar el audio del habla\",\"Para dar robustez al modelo cuando el audio viene con ruido ambiente\", \"Para localizar la persona que está hablando dentro de la imagen\", \"Para determinar el intervalo de tiempo donde se produce el habla\", \"Los frames de video son imprescindibles para reconocer la palabra pronunciada\"]"
      ],
      "execution_count": null,
      "outputs": []
    },
    {
      "cell_type": "markdown",
      "metadata": {
        "id": "dfKz4lLbJRzU"
      },
      "source": [
        "##Actividad 2"
      ]
    },
    {
      "cell_type": "markdown",
      "metadata": {
        "id": "dQ0BVRswnwWO"
      },
      "source": [
        "¿ Por qué el entrenamiento del modelo se hace por etapas ? ( primero ResNets, luego BiGRUs, luego todo junto )."
      ]
    },
    {
      "cell_type": "code",
      "metadata": {
        "id": "4aIeS2-5JS6m"
      },
      "source": [
        "Respuesta = 'Para aumentar la estabilidad del entrenamiento y obtener un mayor rendimiento' #@param [\"seleccione una opcion\", \"Porque el modelo es muy grande y no es posible alamcenar el gradiente de todos sus pesos en una GPU\",\"Porque no es posible combinar modelos feedforward con modelos recurrentes en la propagación de gradientes\", \"Para separar el entrenamiento del stream de video del de audio\", \"Para aumentar la estabilidad del entrenamiento y obtener un mayor rendimiento\", \"Para separar cada uno de los 29 instantes de tiempo que componen los videos de entrada\"]"
      ],
      "execution_count": null,
      "outputs": []
    },
    {
      "cell_type": "markdown",
      "metadata": {
        "id": "j1aL1waPJUF2"
      },
      "source": [
        "##Actividad 3"
      ]
    },
    {
      "cell_type": "markdown",
      "metadata": {
        "id": "i6QYmNZMobdJ"
      },
      "source": [
        "Como vimos en clases, para la *rama* que se encarga de procesar el video, se comienza por agregar una capa convolucional 3D. ¿ Cuál es el principal objetivo de esta capa ?\n",
        "\n",
        "**Hint:** Si no se acuerda, puede descargar el paper y leer la sección 3.1, página 2."
      ]
    },
    {
      "cell_type": "code",
      "metadata": {
        "id": "agUHQId9JVDj"
      },
      "source": [
        "Respuesta = 'Capturar las din\\xE1micas producidas en peque\\xF1os intervalos de tiempo' #@param [\"seleccione una opcion\", \"Reducir la dimensión temporal desde 29 frames a 1 que resuma todo el movimiento\",\"Reducir los 3 canales RGB de entrada a una matriz bidimensional\", \"Realizar un downsampling de algunos frames que permitan recuperar patrones temporales\", \"Capturar las dinámicas producidas en pequeños intervalos de tiempo\"]"
      ],
      "execution_count": null,
      "outputs": []
    }
  ]
}