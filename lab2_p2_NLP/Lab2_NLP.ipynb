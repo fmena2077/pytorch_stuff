{
  "nbformat": 4,
  "nbformat_minor": 0,
  "metadata": {
    "colab": {
      "name": "Practico2_NLP_FranciscoMena.ipynb",
      "provenance": [],
      "collapsed_sections": [],
      "toc_visible": true
    },
    "kernelspec": {
      "name": "python3",
      "display_name": "Python 3"
    }
  },
  "cells": [
    {
      "cell_type": "markdown",
      "metadata": {
        "id": "plzhxS5oY5ju"
      },
      "source": [
        "# **Diplomado IA: Aplicaciones 1 - NLP**. <br> Práctico 2: Word Embeddings\n",
        "---\n",
        "---\n",
        "\n",
        "**Profesores:**\n",
        "- Carlos Aspillaga\n",
        "- Pablo Messina\n",
        "\n",
        "**Ayudante:**\n",
        "- Nissim Ergas\n",
        "---\n",
        "---"
      ]
    },
    {
      "cell_type": "markdown",
      "metadata": {
        "id": "rRW7Tk3GY-80"
      },
      "source": [
        "# **Instrucciones Generales**\n"
      ]
    },
    {
      "cell_type": "markdown",
      "metadata": {
        "id": "8wOWahHBZAli"
      },
      "source": [
        "El siguiente práctico se puede realizar **individualmente o en parejas**. Solo uno debe realizar la entrega. El formato de entrega es el **archivo .ipynb con todas las celdas ejecutadas**. Todas las preguntas deben ser respondidas en las celdas dispuestas para ello. No se aceptará el _output_ de una celda de código como respuesta.\n",
        "\n",
        "**Nombre compañero 1:** Francisco Mena\n",
        "\n",
        "**Nombre compañero 2:** COMPLETAR\n",
        "\n",
        "El siguiente práctico cuenta con varias secciones y en varias de ellas se incluye actividades a realizar.\n",
        "\n",
        "**IMPORTANTE: habrá un bonus de 1 décima para todos aquellos alumnos/as que muestren buen orden en sus respuestas (esto aplica a legibilidad de código, buena redacción, formalidad, organización del jupyter notebook, seguimiento de instrucciones, etc). El criterio lo pondrá cada ayudante corrector. La nota máxima obtenible en el laboratorio es 7.0**"
      ]
    },
    {
      "cell_type": "markdown",
      "metadata": {
        "id": "RCFtEh8SZoYp"
      },
      "source": [
        "# **Importamos librerías a usar**"
      ]
    },
    {
      "cell_type": "code",
      "metadata": {
        "id": "oszevfH3Ue3b"
      },
      "source": [
        "import gdown\n",
        "import random\n",
        "import matplotlib.pyplot as plt\n",
        "import pandas as pd\n",
        "import numpy as np\n",
        "\n",
        "import nltk\n",
        "from nltk.tokenize import WordPunctTokenizer\n",
        "from nltk.corpus import stopwords\n",
        "from bs4 import BeautifulSoup\n",
        "import re\n",
        "\n",
        "from sklearn.decomposition import PCA\n",
        "from sklearn.neural_network import MLPClassifier\n",
        "\n",
        "import warnings\n",
        "warnings.simplefilter(action='ignore', category=FutureWarning)"
      ],
      "execution_count": null,
      "outputs": []
    },
    {
      "cell_type": "markdown",
      "metadata": {
        "id": "tjeqIzZAaWq1"
      },
      "source": [
        "# **Descargamos Word2vec pre-entrenado**"
      ]
    },
    {
      "cell_type": "code",
      "metadata": {
        "id": "UJwae10aUpuq",
        "colab": {
          "base_uri": "https://localhost:8080/",
          "height": 106
        },
        "outputId": "1ca74e5c-19bb-4d0e-c54c-79f32fd7a32b"
      },
      "source": [
        "url = 'https://s3.amazonaws.com/dl4j-distribution/GoogleNews-vectors-negative300.bin.gz'\n",
        "output = 'GoogleNews-vectors-negative300.bin.gz'\n",
        "gdown.download(url, output, quiet=False)"
      ],
      "execution_count": null,
      "outputs": [
        {
          "output_type": "stream",
          "text": [
            "Downloading...\n",
            "From: https://s3.amazonaws.com/dl4j-distribution/GoogleNews-vectors-negative300.bin.gz\n",
            "To: /content/GoogleNews-vectors-negative300.bin.gz\n",
            "100%|██████████| 1.65G/1.65G [00:35<00:00, 46.4MB/s]\n"
          ],
          "name": "stderr"
        },
        {
          "output_type": "execute_result",
          "data": {
            "application/vnd.google.colaboratory.intrinsic+json": {
              "type": "string"
            },
            "text/plain": [
              "'GoogleNews-vectors-negative300.bin.gz'"
            ]
          },
          "metadata": {
            "tags": []
          },
          "execution_count": 2
        }
      ]
    },
    {
      "cell_type": "code",
      "metadata": {
        "id": "FGr290wpEDMG"
      },
      "source": [
        "from gensim.models.keyedvectors import KeyedVectors\n",
        "goog_wordvecs = KeyedVectors.load_word2vec_format('GoogleNews-vectors-negative300.bin.gz', binary=True, limit=100000)"
      ],
      "execution_count": null,
      "outputs": []
    },
    {
      "cell_type": "markdown",
      "metadata": {
        "id": "hY8QkDn8a_di"
      },
      "source": [
        "# **Analogías con Word2vec**\n",
        "## (Álgebra de vectores con interpretación semántica)\n",
        "\n",
        "Inspirado y basado en: https://github.com/dccuchile/spanish-word-embeddings/blob/master/examples/Ejemplo_WordVectors.ipynb"
      ]
    },
    {
      "cell_type": "markdown",
      "metadata": {
        "id": "3Cp0hxESiAWN"
      },
      "source": [
        "Ejemplo de uso: most_similar_cosmul(positive=lista_palabras_positivas, negative=lista_palabras_negativas)\n",
        "\n",
        "Esta llamada encuentra las palabras del vocabulario que están más cercanas a las palabras en listas_palabras_positivas y no estén cercanas a lista_palabras_negativas (para una formalización del procedimiento, ver la fórmula (4) en la Sección 6 de este [artículo](http://www.aclweb.org/anthology/W14-1618)).\n",
        "\n",
        "Cuando lista_palabras_positivas contiene dos palabras, digamos a y b_p, y lista_palabras_negativas contiene una palabra, digamos a_p, el anterior procedimiento se lee coloquialmente como el encontrar la palabra b que responde a la pregunta: a_p es a a como b_p es a ???. El ejemplo clásico se tiene cuando a es rey, b_p es mujer, y a_p es hombre. La palabra buscada b es reina, pues hombre es a rey como mujer es a reina."
      ]
    },
    {
      "cell_type": "code",
      "metadata": {
        "id": "yqpwNMkiUdl4",
        "colab": {
          "base_uri": "https://localhost:8080/"
        },
        "outputId": "ca1db93c-f1db-4cac-ddfa-dc4d121102ec"
      },
      "source": [
        "goog_wordvecs.most_similar_cosmul(positive=['woman','king'],negative=['queen'])"
      ],
      "execution_count": null,
      "outputs": [
        {
          "output_type": "execute_result",
          "data": {
            "text/plain": [
              "[('man', 0.9307777285575867),\n",
              " ('boy', 0.8291135430335999),\n",
              " ('motorcyclist', 0.7735415101051331),\n",
              " ('teenage_girl', 0.7693272829055786),\n",
              " ('teenager', 0.7692984938621521),\n",
              " ('taxi_driver', 0.7674798965454102),\n",
              " ('girl', 0.7596036195755005),\n",
              " ('victim', 0.7527119517326355),\n",
              " ('bicyclist', 0.7488751411437988),\n",
              " ('father', 0.7468023896217346)]"
            ]
          },
          "metadata": {
            "tags": []
          },
          "execution_count": 4
        }
      ]
    },
    {
      "cell_type": "code",
      "metadata": {
        "id": "lB8gEN8kWrNp",
        "colab": {
          "base_uri": "https://localhost:8080/"
        },
        "outputId": "4a44156f-cf42-4ed6-b548-39d927ba19a8"
      },
      "source": [
        "goog_wordvecs.most_similar_cosmul(positive=['actor','woman'],negative=['man'])"
      ],
      "execution_count": null,
      "outputs": [
        {
          "output_type": "execute_result",
          "data": {
            "text/plain": [
              "[('actress', 1.0588080883026123),\n",
              " ('actresses', 0.930428147315979),\n",
              " ('Best_Actress', 0.8946203589439392),\n",
              " ('Actress', 0.8936436772346497),\n",
              " ('comedienne', 0.8506139516830444),\n",
              " ('Best_Supporting_Actress', 0.8503093123435974),\n",
              " ('actors', 0.8433448672294617),\n",
              " ('Paltrow', 0.8427857160568237),\n",
              " ('Heigl', 0.8372300267219543),\n",
              " ('Golden_Globe', 0.8350875973701477)]"
            ]
          },
          "metadata": {
            "tags": []
          },
          "execution_count": 5
        }
      ]
    },
    {
      "cell_type": "code",
      "metadata": {
        "id": "dbSslUP9Wy5x",
        "colab": {
          "base_uri": "https://localhost:8080/"
        },
        "outputId": "26fe202d-f32d-47f1-8d18-8c20ddffe9a9"
      },
      "source": [
        "goog_wordvecs.most_similar_cosmul(positive=['son','woman'],negative=['man'])"
      ],
      "execution_count": null,
      "outputs": [
        {
          "output_type": "execute_result",
          "data": {
            "text/plain": [
              "[('daughter', 1.053764820098877),\n",
              " ('mother', 1.0130525827407837),\n",
              " ('niece', 0.9732571840286255),\n",
              " ('eldest_daughter', 0.9666094779968262),\n",
              " ('granddaughter', 0.95781010389328),\n",
              " ('husband', 0.9567869901657104),\n",
              " ('daughters', 0.9557827711105347),\n",
              " ('sister', 0.9450976252555847),\n",
              " ('father', 0.9181193709373474),\n",
              " ('wife', 0.9142287969589233)]"
            ]
          },
          "metadata": {
            "tags": []
          },
          "execution_count": 6
        }
      ]
    },
    {
      "cell_type": "code",
      "metadata": {
        "id": "xnhEqr-qZZi_",
        "colab": {
          "base_uri": "https://localhost:8080/"
        },
        "outputId": "8aedbd56-ea7f-4811-b3ce-9d111cc2ec17"
      },
      "source": [
        "goog_wordvecs.most_similar_cosmul(positive=['play','singing'],negative=['sing'])"
      ],
      "execution_count": null,
      "outputs": [
        {
          "output_type": "execute_result",
          "data": {
            "text/plain": [
              "[('playing', 0.9153854846954346),\n",
              " ('played', 0.8183861970901489),\n",
              " ('game', 0.8155624270439148),\n",
              " ('plays', 0.8033236861228943),\n",
              " ('Playing', 0.7878930568695068),\n",
              " ('games', 0.7651411294937134),\n",
              " ('scoring', 0.7445952296257019),\n",
              " ('physicality', 0.7320943474769592),\n",
              " ('Play', 0.728746771812439),\n",
              " ('playmaking', 0.7280517220497131)]"
            ]
          },
          "metadata": {
            "tags": []
          },
          "execution_count": 7
        }
      ]
    },
    {
      "cell_type": "code",
      "metadata": {
        "id": "36S8sJ6VZsld",
        "colab": {
          "base_uri": "https://localhost:8080/"
        },
        "outputId": "138d54bf-6616-41a8-e665-6dcc5f701d80"
      },
      "source": [
        "goog_wordvecs.most_similar_cosmul(positive=['play','sang'],negative=['sing'])"
      ],
      "execution_count": null,
      "outputs": [
        {
          "output_type": "execute_result",
          "data": {
            "text/plain": [
              "[('played', 0.9050214886665344),\n",
              " ('playing', 0.8536635637283325),\n",
              " ('plays', 0.8203080296516418),\n",
              " ('Playing', 0.7951125502586365),\n",
              " ('game', 0.7891285419464111),\n",
              " ('Played', 0.7801413536071777),\n",
              " ('played_sparingly', 0.7400324940681458),\n",
              " ('games', 0.737052321434021),\n",
              " ('outplayed', 0.7354370951652527),\n",
              " ('ball', 0.7341139316558838)]"
            ]
          },
          "metadata": {
            "tags": []
          },
          "execution_count": 8
        }
      ]
    },
    {
      "cell_type": "code",
      "metadata": {
        "id": "9QgJ9GGeXXgh",
        "colab": {
          "base_uri": "https://localhost:8080/"
        },
        "outputId": "ae2a25ea-78ea-4ec1-cdf8-128b0a3094d4"
      },
      "source": [
        "goog_wordvecs.most_similar_cosmul(positive=['Santiago','Venezuela'],negative=['Chile'])"
      ],
      "execution_count": null,
      "outputs": [
        {
          "output_type": "execute_result",
          "data": {
            "text/plain": [
              "[('Caracas', 0.9518517851829529),\n",
              " ('Ramírez', 0.9386518597602844),\n",
              " ('Peña', 0.918656051158905),\n",
              " ('Chavez', 0.9147827625274658),\n",
              " ('Rodríguez', 0.9133161306381226),\n",
              " ('Martinez', 0.9109025597572327),\n",
              " ('Ramirez', 0.9093918204307556),\n",
              " ('Ortiz', 0.9087135791778564),\n",
              " ('Venezuelan', 0.9070562124252319),\n",
              " ('Martínez', 0.9041159749031067)]"
            ]
          },
          "metadata": {
            "tags": []
          },
          "execution_count": 9
        }
      ]
    },
    {
      "cell_type": "code",
      "metadata": {
        "id": "DHNpE7vEY3K1",
        "colab": {
          "base_uri": "https://localhost:8080/"
        },
        "outputId": "5351ef3b-e2be-44db-eeb3-f83dfd2683fd"
      },
      "source": [
        "goog_wordvecs.most_similar_cosmul(positive=['Buenos_Aires','Chile'],negative=['Santiago'])"
      ],
      "execution_count": null,
      "outputs": [
        {
          "output_type": "execute_result",
          "data": {
            "text/plain": [
              "[('Argentina', 1.010602593421936),\n",
              " ('Brazil', 0.9226211905479431),\n",
              " ('Uruguay', 0.8886620402336121),\n",
              " ('Chilean', 0.8861171007156372),\n",
              " ('Argentine', 0.879367470741272),\n",
              " ('Argentines', 0.8666806221008301),\n",
              " ('Peru', 0.863406240940094),\n",
              " ('Paraguay', 0.8630523681640625),\n",
              " ('Bolivia', 0.8587836027145386),\n",
              " ('President_Nestor_Kirchner', 0.8434462547302246)]"
            ]
          },
          "metadata": {
            "tags": []
          },
          "execution_count": 10
        }
      ]
    },
    {
      "cell_type": "markdown",
      "metadata": {
        "id": "mMEI1T_Kc976"
      },
      "source": [
        "**Actividad 1**\n",
        "\n",
        "Use su creatividad y encuentre al menos unos 3 ejemplos interesantes adicionales de analogías (hay 3 celdas en blanco abajo para ello, pero siéntase libre de agregar más si lo desea). Luego comente más abajo por qué escogió dichos ejemplos."
      ]
    },
    {
      "cell_type": "code",
      "metadata": {
        "id": "QRQLhev7UBzU",
        "colab": {
          "base_uri": "https://localhost:8080/"
        },
        "outputId": "8a9652ee-f698-454f-a993-76237adc5196"
      },
      "source": [
        "goog_wordvecs.most_similar_cosmul(positive=['Vegetables','Vegan'],negative=['Meat'])"
      ],
      "execution_count": null,
      "outputs": [
        {
          "output_type": "execute_result",
          "data": {
            "text/plain": [
              "[('Herbs', 0.8506293296813965),\n",
              " ('Recipes', 0.846846878528595),\n",
              " ('veggies', 0.8460578918457031),\n",
              " ('veggie', 0.831598699092865),\n",
              " ('Vegetarian', 0.8206036686897278),\n",
              " ('herbs', 0.8185856938362122),\n",
              " ('Cooking', 0.8173354864120483),\n",
              " ('Dishes', 0.8162689208984375),\n",
              " ('Baked', 0.8119561076164246),\n",
              " ('kale', 0.8039235472679138)]"
            ]
          },
          "metadata": {
            "tags": []
          },
          "execution_count": 51
        }
      ]
    },
    {
      "cell_type": "code",
      "metadata": {
        "id": "RPjl1SPmc3Dm",
        "colab": {
          "base_uri": "https://localhost:8080/"
        },
        "outputId": "5168ce4b-ee62-41d1-9bb8-f9f267727a7e"
      },
      "source": [
        "goog_wordvecs.most_similar_cosmul(positive=['racket','tennis'],negative=['soccer'])"
      ],
      "execution_count": null,
      "outputs": [
        {
          "output_type": "execute_result",
          "data": {
            "text/plain": [
              "[('rackets', 1.0587873458862305),\n",
              " ('racquet', 1.0481599569320679),\n",
              " ('groundstrokes', 0.9866098165512085),\n",
              " ('Schnyder', 0.9772009253501892),\n",
              " ('Roddick', 0.9743760228157043),\n",
              " ('forehands', 0.9712996482849121),\n",
              " ('Davydenko', 0.9643523693084717),\n",
              " ('Agassi', 0.960224449634552),\n",
              " ('Djokovic', 0.9579830169677734),\n",
              " ('Berdych', 0.9571759104728699)]"
            ]
          },
          "metadata": {
            "tags": []
          },
          "execution_count": 63
        }
      ]
    },
    {
      "cell_type": "code",
      "metadata": {
        "id": "9mM3Hi48eNwu",
        "colab": {
          "base_uri": "https://localhost:8080/"
        },
        "outputId": "17c1f5c2-c7f1-44c0-88bf-2968140660a7"
      },
      "source": [
        "goog_wordvecs.most_similar_cosmul(positive=['swimming','athlete'],negative=['running'])"
      ],
      "execution_count": null,
      "outputs": [
        {
          "output_type": "execute_result",
          "data": {
            "text/plain": [
              "[('swimmer', 1.2377222776412964),\n",
              " ('swimmers', 1.105785608291626),\n",
              " ('athletes', 1.077569603919983),\n",
              " ('diver', 1.0565121173858643),\n",
              " ('gymnast', 1.0554314851760864),\n",
              " ('gymnastics', 1.0377086400985718),\n",
              " ('Swimming', 1.018602728843689),\n",
              " ('water_polo', 1.0125449895858765),\n",
              " ('pole_vaulter', 1.003133773803711),\n",
              " ('triathlete', 0.9965822100639343)]"
            ]
          },
          "metadata": {
            "tags": []
          },
          "execution_count": 68
        }
      ]
    },
    {
      "cell_type": "markdown",
      "metadata": {
        "id": "XPEFw9BNfq-L"
      },
      "source": [
        "**Comente aquí los ejemplos**: \r\n",
        "Es interesante que a la carne la relaciona con hierbas. La relacion de soccer no es muy clara, muestra más palabras de tennis en vez de palabras relacionadas a soccer u otros deportes. Y con running, es interesante que muestra otros deportes como gimnasia, water polo, o triatleta.\r\n",
        "Elegí \"meat\" y \"vegan\" porque son terminos bien opuestos, y los otros ejemplos de deportes (swimming, soccer) porque me imaginé que el modelo tiene bastante información de deportes."
      ]
    },
    {
      "cell_type": "markdown",
      "metadata": {
        "id": "Tomxfmphgb0r"
      },
      "source": [
        "# **Word vectors en términos excluídos**"
      ]
    },
    {
      "cell_type": "markdown",
      "metadata": {
        "id": "ghxz5vcCigkp"
      },
      "source": [
        "Ejemplo de uso: doesnt_match(lista_palabras)\n",
        "\n",
        "Esta llamada selecciona la palabra dentro de listas_palabras que está más lejana del resto de las palabras de la lista. La distancia es simplemente el ángulo entre las direcciones de los vectores de las palabras."
      ]
    },
    {
      "cell_type": "code",
      "metadata": {
        "id": "MyG7ndCAaEP8",
        "colab": {
          "base_uri": "https://localhost:8080/",
          "height": 35
        },
        "outputId": "d79d9000-80a2-4258-cadb-01717bbfe681"
      },
      "source": [
        "goog_wordvecs.doesnt_match(['white','blue','red','Chile'])"
      ],
      "execution_count": null,
      "outputs": [
        {
          "output_type": "execute_result",
          "data": {
            "application/vnd.google.colaboratory.intrinsic+json": {
              "type": "string"
            },
            "text/plain": [
              "'Chile'"
            ]
          },
          "metadata": {
            "tags": []
          },
          "execution_count": 11
        }
      ]
    },
    {
      "cell_type": "code",
      "metadata": {
        "id": "ZCRCA7e2aEzf",
        "colab": {
          "base_uri": "https://localhost:8080/",
          "height": 35
        },
        "outputId": "6e836551-4725-4a65-be9a-c9639cd816ff"
      },
      "source": [
        "goog_wordvecs.doesnt_match(['Sun','Moon','lunch','Jupiter'])"
      ],
      "execution_count": null,
      "outputs": [
        {
          "output_type": "execute_result",
          "data": {
            "application/vnd.google.colaboratory.intrinsic+json": {
              "type": "string"
            },
            "text/plain": [
              "'lunch'"
            ]
          },
          "metadata": {
            "tags": []
          },
          "execution_count": 12
        }
      ]
    },
    {
      "cell_type": "code",
      "metadata": {
        "id": "FdQtVp4iaFGU",
        "colab": {
          "base_uri": "https://localhost:8080/",
          "height": 35
        },
        "outputId": "6682c422-c8ed-4a48-f4a0-6356db339369"
      },
      "source": [
        "goog_wordvecs.doesnt_match(['April', 'May', 'September', 'Tuesday', 'July'])"
      ],
      "execution_count": null,
      "outputs": [
        {
          "output_type": "execute_result",
          "data": {
            "application/vnd.google.colaboratory.intrinsic+json": {
              "type": "string"
            },
            "text/plain": [
              "'Tuesday'"
            ]
          },
          "metadata": {
            "tags": []
          },
          "execution_count": 13
        }
      ]
    },
    {
      "cell_type": "code",
      "metadata": {
        "id": "JYfSjlx_aFYV",
        "colab": {
          "base_uri": "https://localhost:8080/",
          "height": 35
        },
        "outputId": "e96dd397-7c08-4d4b-89f4-59af7eb58087"
      },
      "source": [
        "goog_wordvecs.doesnt_match(['Monday', 'Tuesday', 'September', 'Thursday', 'Friday'])"
      ],
      "execution_count": null,
      "outputs": [
        {
          "output_type": "execute_result",
          "data": {
            "application/vnd.google.colaboratory.intrinsic+json": {
              "type": "string"
            },
            "text/plain": [
              "'September'"
            ]
          },
          "metadata": {
            "tags": []
          },
          "execution_count": 14
        }
      ]
    },
    {
      "cell_type": "code",
      "metadata": {
        "id": "JPjsl_SUaFp7",
        "colab": {
          "base_uri": "https://localhost:8080/",
          "height": 35
        },
        "outputId": "70a27187-35dc-46f6-9b0c-0c260482a6ef"
      },
      "source": [
        "goog_wordvecs.doesnt_match(['Lima', 'Paris', 'London', 'Madrid'])"
      ],
      "execution_count": null,
      "outputs": [
        {
          "output_type": "execute_result",
          "data": {
            "application/vnd.google.colaboratory.intrinsic+json": {
              "type": "string"
            },
            "text/plain": [
              "'Lima'"
            ]
          },
          "metadata": {
            "tags": []
          },
          "execution_count": 15
        }
      ]
    },
    {
      "cell_type": "markdown",
      "metadata": {
        "id": "su4Txdplipha"
      },
      "source": [
        "**Actividad 2**\n",
        "\n",
        "Use su creatividad y encuentre al menos unos 3 ejemplos interesantes adicionales de términos excluidos (hay 3 celdas en blanco abajo para ello, pero siéntase libre de agregar más si lo desea). Luego comente más abajo por qué escogió dichos ejemplos."
      ]
    },
    {
      "cell_type": "code",
      "metadata": {
        "id": "QIKTvr8NiuWr",
        "colab": {
          "base_uri": "https://localhost:8080/",
          "height": 35
        },
        "outputId": "6b01d590-7bd6-4b64-ff64-d238c1ceb34a"
      },
      "source": [
        "goog_wordvecs.doesnt_match(['banana','apple', 'orange', 'lettuce'])"
      ],
      "execution_count": null,
      "outputs": [
        {
          "output_type": "execute_result",
          "data": {
            "application/vnd.google.colaboratory.intrinsic+json": {
              "type": "string"
            },
            "text/plain": [
              "'orange'"
            ]
          },
          "metadata": {
            "tags": []
          },
          "execution_count": 69
        }
      ]
    },
    {
      "cell_type": "code",
      "metadata": {
        "id": "WZhzY8_SiunC",
        "colab": {
          "base_uri": "https://localhost:8080/",
          "height": 35
        },
        "outputId": "aa74cd85-33e3-4a17-ac8c-626073a4dbb8"
      },
      "source": [
        "goog_wordvecs.doesnt_match(['chicken', 'beef', 'pork', 'tofu'])"
      ],
      "execution_count": null,
      "outputs": [
        {
          "output_type": "execute_result",
          "data": {
            "application/vnd.google.colaboratory.intrinsic+json": {
              "type": "string"
            },
            "text/plain": [
              "'tofu'"
            ]
          },
          "metadata": {
            "tags": []
          },
          "execution_count": 70
        }
      ]
    },
    {
      "cell_type": "code",
      "metadata": {
        "id": "EMa9eMLhivPm",
        "colab": {
          "base_uri": "https://localhost:8080/",
          "height": 35
        },
        "outputId": "11de87e6-4326-4723-9989-2cfd2ac6df4d"
      },
      "source": [
        "goog_wordvecs.doesnt_match(['pants', 'shoes', 'shirt', 'socks', 'glasses'])"
      ],
      "execution_count": null,
      "outputs": [
        {
          "output_type": "execute_result",
          "data": {
            "application/vnd.google.colaboratory.intrinsic+json": {
              "type": "string"
            },
            "text/plain": [
              "'glasses'"
            ]
          },
          "metadata": {
            "tags": []
          },
          "execution_count": 72
        }
      ]
    },
    {
      "cell_type": "markdown",
      "metadata": {
        "id": "CL3nx_g1ixMZ"
      },
      "source": [
        "**Comentario**\n",
        "\n",
        "Es interesante que el modelo distingue tofu y lentes, pero me llama la atencion que elije la naranja en vez de la lechuga. Quizas el modelo piensa en el color.\n",
        "Elegi estos ejemplos porque queria ver si el modelo distingue las diferencias entre vegetales y frutas, si distingue que tofu no es una carne, o que lentes no son ropa.\n"
      ]
    },
    {
      "cell_type": "markdown",
      "metadata": {
        "id": "o07B2eSSjIwZ"
      },
      "source": [
        "# **Visualizando Word Embeddings**"
      ]
    },
    {
      "cell_type": "markdown",
      "metadata": {
        "id": "5a8mkguNjsR3"
      },
      "source": [
        "Proyectamos los word vectors a un plano 2D usando reducción de dimensionalidad con PCA"
      ]
    },
    {
      "cell_type": "code",
      "metadata": {
        "id": "-SYzhXaIXJU4"
      },
      "source": [
        "vectors_2d = PCA(n_components=2).fit_transform(goog_wordvecs.vectors)"
      ],
      "execution_count": null,
      "outputs": []
    },
    {
      "cell_type": "markdown",
      "metadata": {
        "id": "JxQNUsJ6j22A"
      },
      "source": [
        "Recolectamos todas las palabras del vocabulario en una lista"
      ]
    },
    {
      "cell_type": "code",
      "metadata": {
        "id": "zQUYXb57eIHd"
      },
      "source": [
        "all_words = [None] * len(goog_wordvecs.vocab)\n",
        "for k,v in goog_wordvecs.vocab.items():\n",
        "  all_words[v.index] = k"
      ],
      "execution_count": null,
      "outputs": []
    },
    {
      "cell_type": "markdown",
      "metadata": {
        "id": "Qp3j84thkC_4"
      },
      "source": [
        "Funciones para generar scatter plots de word vectors con sus respectivas palabras en un plano 2D"
      ]
    },
    {
      "cell_type": "code",
      "metadata": {
        "id": "AmJy3d1yao0_"
      },
      "source": [
        "# Esta función escoge palabras del vocabulario de manera aleatoria\n",
        "def plot_word_embeddings_2d_random(words, embeddings, n_samples):\n",
        "  n = len(words)\n",
        "  indices = random.sample(range(n), n_samples)\n",
        "  X = [embeddings[i][0] for i in indices]\n",
        "  Y = [embeddings[i][1] for i in indices]\n",
        "  plt.figure(figsize=(15,9))\n",
        "  plt.scatter(X, Y, linewidths=5, color='blue')\n",
        "  plt.xlabel(\"PC1\",size=15)\n",
        "  plt.ylabel(\"PC2\",size=15)\n",
        "  plt.title(\"Word Embedding Space\", size=20)\n",
        "  for i in range(n_samples):\n",
        "    plt.annotate(\"  \" + words[indices[i]], xy=(X[i],Y[i]))\n",
        "  plt.show()\n",
        "\n",
        "# Esta función recibe de forma explícita las palabras\n",
        "def plot_word_embeddings_2d(words, vocab, embeddings):\n",
        "  indices = [vocab[w].index for w in words]\n",
        "  X = [embeddings[i][0] for i in indices]\n",
        "  Y = [embeddings[i][1] for i in indices]\n",
        "  plt.figure(figsize=(15,9))\n",
        "  plt.scatter(X, Y, linewidths=5, color='blue')\n",
        "  plt.xlabel(\"PC1\",size=15)\n",
        "  plt.ylabel(\"PC2\",size=15)\n",
        "  plt.title(\"Word Embedding Space\", size=20)\n",
        "  for i, word in enumerate(words):\n",
        "    plt.annotate(\"  \" + word, xy=(X[i],Y[i]))\n",
        "  plt.show()"
      ],
      "execution_count": null,
      "outputs": []
    },
    {
      "cell_type": "code",
      "metadata": {
        "id": "hGSGhgx9X30G",
        "colab": {
          "base_uri": "https://localhost:8080/",
          "height": 549
        },
        "outputId": "f456d502-92ea-4bc0-ec5f-d6a6ae1e4bc7"
      },
      "source": [
        "plot_word_embeddings_2d_random(all_words, vectors_2d, 20)"
      ],
      "execution_count": null,
      "outputs": [
        {
          "output_type": "display_data",
          "data": {
            "image/png": "[encoded data removed]",
            "text/plain": [
              "<Figure size 1080x648 with 1 Axes>"
            ]
          },
          "metadata": {
            "tags": [],
            "needs_background": "light"
          }
        }
      ]
    },
    {
      "cell_type": "code",
      "metadata": {
        "id": "uG5E5IqhlEpw",
        "colab": {
          "base_uri": "https://localhost:8080/",
          "height": 577
        },
        "outputId": "bf43bc46-fa68-401b-d97a-0fbdf401aff2"
      },
      "source": [
        "plot_word_embeddings_2d(all_words[400:430], goog_wordvecs.vocab, vectors_2d)"
      ],
      "execution_count": null,
      "outputs": [
        {
          "output_type": "display_data",
          "data": {
            "image/png": "[encoded data removed]",
            "text/plain": [
              "<Figure size 1080x648 with 1 Axes>"
            ]
          },
          "metadata": {
            "tags": [],
            "needs_background": "light"
          }
        }
      ]
    },
    {
      "cell_type": "code",
      "metadata": {
        "id": "rSKBUiUblBwR",
        "colab": {
          "base_uri": "https://localhost:8080/",
          "height": 577
        },
        "outputId": "9d660e53-923b-43e1-fc83-910b76d9a1c3"
      },
      "source": [
        "plot_word_embeddings_2d(all_words[500:530], goog_wordvecs.vocab, vectors_2d)"
      ],
      "execution_count": null,
      "outputs": [
        {
          "output_type": "display_data",
          "data": {
            "image/png": "[encoded data removed]",
            "text/plain": [
              "<Figure size 1080x648 with 1 Axes>"
            ]
          },
          "metadata": {
            "tags": [],
            "needs_background": "light"
          }
        }
      ]
    },
    {
      "cell_type": "code",
      "metadata": {
        "id": "rxCKSfM8gobJ",
        "colab": {
          "base_uri": "https://localhost:8080/",
          "height": 577
        },
        "outputId": "6661c303-0cbd-4f68-9b25-a3ac5eb30854"
      },
      "source": [
        "plot_word_embeddings_2d([\"queen\", \"king\", \"woman\", \"man\"],\n",
        "                        goog_wordvecs.vocab, vectors_2d)"
      ],
      "execution_count": null,
      "outputs": [
        {
          "output_type": "display_data",
          "data": {
            "image/png": "[encoded data removed]",
            "text/plain": [
              "<Figure size 1080x648 with 1 Axes>"
            ]
          },
          "metadata": {
            "tags": [],
            "needs_background": "light"
          }
        }
      ]
    },
    {
      "cell_type": "code",
      "metadata": {
        "id": "T0zCkd0mhQSk",
        "colab": {
          "base_uri": "https://localhost:8080/",
          "height": 577
        },
        "outputId": "065a982f-0410-4a47-a383-9dd731778990"
      },
      "source": [
        "plot_word_embeddings_2d([\"dog\", \"cat\", \"animal\", \"lion\", \"tiger\", \"car\", \"truck\", \"vehicle\"],\n",
        "                        goog_wordvecs.vocab, vectors_2d)"
      ],
      "execution_count": null,
      "outputs": [
        {
          "output_type": "display_data",
          "data": {
            "image/png": "[encoded data removed]",
            "text/plain": [
              "<Figure size 1080x648 with 1 Axes>"
            ]
          },
          "metadata": {
            "tags": [],
            "needs_background": "light"
          }
        }
      ]
    },
    {
      "cell_type": "code",
      "metadata": {
        "id": "tbuRz4_Xhug1",
        "colab": {
          "base_uri": "https://localhost:8080/",
          "height": 577
        },
        "outputId": "15fe4804-03ae-484a-b176-3e150343b7db"
      },
      "source": [
        "words = [\n",
        "         \"Chile\", \"Santiago\",\n",
        "         \"England\", \"London\",\n",
        "         \"France\", \"Paris\",\n",
        "         \"China\", \"Beijing\",\n",
        "         \"Russia\", \"Moscow\",\n",
        "         \"Japan\", \"Tokyo\",\n",
        "         \"Spain\", \"Madrid\",\n",
        "         \"Portugal\", \"Lisbon\",\n",
        "         \"Italy\", \"Rome\",\n",
        "         \"Greece\", \"Athens\",\n",
        "         ]\n",
        "plot_word_embeddings_2d(words, goog_wordvecs.vocab, vectors_2d)"
      ],
      "execution_count": null,
      "outputs": [
        {
          "output_type": "display_data",
          "data": {
            "image/png": "[encoded data removed]",
            "text/plain": [
              "<Figure size 1080x648 with 1 Axes>"
            ]
          },
          "metadata": {
            "tags": [],
            "needs_background": "light"
          }
        }
      ]
    },
    {
      "cell_type": "markdown",
      "metadata": {
        "id": "R3pBLGsGluri"
      },
      "source": [
        "**Actividad 3**\n",
        "\n",
        "\n",
        "Use su creatividad y genere al menos unos 3 gráficos adicionales que le parezcan interesantes (hay 3 celdas en blanco abajo para ello, pero siéntase libre de agregar más si lo desea). Luego comente más abajo por qué escogió dichos gráficos."
      ]
    },
    {
      "cell_type": "code",
      "metadata": {
        "id": "T975_-e1lurj",
        "colab": {
          "base_uri": "https://localhost:8080/",
          "height": 577
        },
        "outputId": "1fedb442-8a2f-45cf-b9bc-f6a5e284d0d2"
      },
      "source": [
        "words = [\r\n",
        "         \"banana\", \"apple\", \"orange\", \"watermelon\", \"blueberries\", \"cherries\", \"pear\", \"lettuce\", \"spinach\", \"carrot\", \r\n",
        "         \"onion\", \"garlic\", \"chicken\", \"beef\",\r\n",
        "         ]\r\n",
        "plot_word_embeddings_2d(words, goog_wordvecs.vocab, vectors_2d)"
      ],
      "execution_count": null,
      "outputs": [
        {
          "output_type": "display_data",
          "data": {
            "image/png": "[encoded data removed]",
            "text/plain": [
              "<Figure size 1080x648 with 1 Axes>"
            ]
          },
          "metadata": {
            "tags": [],
            "needs_background": "light"
          }
        }
      ]
    },
    {
      "cell_type": "code",
      "metadata": {
        "id": "ztDb5umflurm",
        "colab": {
          "base_uri": "https://localhost:8080/",
          "height": 577
        },
        "outputId": "bb3a7095-d3ff-4277-d10b-bd4e6ce839c7"
      },
      "source": [
        "words = [\r\n",
        "         \"swimming\", \"running\", \"jumping\", \"playing\", \"tennis\", \"soccer\", \"rugby\", \"football\", \"sleeping\", \"studying\"\r\n",
        "         ]\r\n",
        "plot_word_embeddings_2d(words, goog_wordvecs.vocab, vectors_2d)"
      ],
      "execution_count": null,
      "outputs": [
        {
          "output_type": "display_data",
          "data": {
            "image/png": "[encoded data removed]",
            "text/plain": [
              "<Figure size 1080x648 with 1 Axes>"
            ]
          },
          "metadata": {
            "tags": [],
            "needs_background": "light"
          }
        }
      ]
    },
    {
      "cell_type": "code",
      "metadata": {
        "id": "N-X1iuFqlurp",
        "colab": {
          "base_uri": "https://localhost:8080/",
          "height": 577
        },
        "outputId": "af7d6ae4-e54d-493c-89c4-4149dc4f9da7"
      },
      "source": [
        "words = [\r\n",
        "         \"sweet\", \"sour\", \"hot\", \"cold\", \"spicy\", \"delicious\", \"soft\", \"hard\", \"salty\", \"bitter\"\r\n",
        "         ]\r\n",
        "plot_word_embeddings_2d(words, goog_wordvecs.vocab, vectors_2d)"
      ],
      "execution_count": null,
      "outputs": [
        {
          "output_type": "display_data",
          "data": {
            "image/png": "[encoded data removed]",
            "text/plain": [
              "<Figure size 1080x648 with 1 Axes>"
            ]
          },
          "metadata": {
            "tags": [],
            "needs_background": "light"
          }
        }
      ]
    },
    {
      "cell_type": "markdown",
      "metadata": {
        "id": "nsatEe3qmGq6"
      },
      "source": [
        "**Comentario**\r\n",
        "\r\n",
        "Es interesante que carne y pollo aparecen cerca, que estudiar aparece tan lejos de los deportes, y que spicy esta tan lejos de \"soft\" o \"cold\". El modelo parece que logra detectar patrones importantes en las palabras. \r\n",
        "Elegi estas palabras para ver si el modelo distingue entre distintos tipos de comida, o de deportes, o entre distintos adjetivos."
      ]
    },
    {
      "cell_type": "markdown",
      "metadata": {
        "id": "QpI1sMjQxPnM"
      },
      "source": [
        "**Actividad 4**\n",
        "\n",
        "Responda la siguiente pregunta:\n",
        "\n",
        "**Pregunta**: ¿Cuál cree usted que sea la explicación de la propiedad de álgebra semántica demostrada por word embeddings como Word2vec? ¿A qué se debe que sumando y restando vectores podamos hacer analogías, detectar términos excluídos, entre otras cosas?\n",
        "\n",
        "Esta pregunta no es sencilla, por lo que se le invita a investigar en internet y resumir en sus palabras lo que logre entender. Recuerde citar el material consultado.\n",
        "\n",
        "**Su respuesta**:\n",
        "\n",
        "Los vectores que crea el modelo son representaciones matemáticas de cada palabra que el computador puede leer. Semánticamente, uno podría pensar que estos vectores estan correlacionados a la combinación de sus componentes semánticas, por ejemplo, el vector de \"rey\" contiene partes del vector \"hombre\", \"gobernante\", \"persona\", etc. Similarmente, el vector \"reina\" estaría compuesta por vectores similares, excepto que tiene \"mujer\" en vez de \"hombre\". Por eso, al restar \"rey\" y \"reina\" quedaría la componente que más difiere, en este caso, \"mujer\" en vez de \"hombre\".\n",
        "\n",
        "Referencias:\n",
        "- https://medium.com/@zafaralibagh6/simple-tutorial-on-word-embedding-and-word2vec-43d477624b6d\n",
        "- https://stats.stackexchange.com/questions/145438/word2vec-interpretation-of-subtraction-or-addition-of-vectors\n",
        "- https://blog.galvanize.com/add-and-subtract-words-like-vectors-with-word2vec-2/\n"
      ]
    },
    {
      "cell_type": "markdown",
      "metadata": {
        "id": "568165sjn7bv"
      },
      "source": [
        "# **Análisis de Sentimiento de Tweets usando Word embeddings**\n",
        "\n",
        "Inspirado en: https://github.com/tthustla/twitter_sentiment_analysis_part1"
      ]
    },
    {
      "cell_type": "markdown",
      "metadata": {
        "id": "-HWifFwZmmB_"
      },
      "source": [
        "Descargamos el dataset de tweets"
      ]
    },
    {
      "cell_type": "code",
      "metadata": {
        "id": "d2XsE8BaoDkk",
        "colab": {
          "base_uri": "https://localhost:8080/"
        },
        "outputId": "17a00769-5ed4-4494-cc43-dfacec016115"
      },
      "source": [
        "!wget https://cs.stanford.edu/people/alecmgo/trainingandtestdata.zip"
      ],
      "execution_count": null,
      "outputs": [
        {
          "output_type": "stream",
          "text": [
            "--2020-12-13 16:33:48--  https://cs.stanford.edu/people/alecmgo/trainingandtestdata.zip\n",
            "Resolving cs.stanford.edu (cs.stanford.edu)... 171.64.64.64\n",
            "Connecting to cs.stanford.edu (cs.stanford.edu)|171.64.64.64|:443... connected.\n",
            "HTTP request sent, awaiting response... 200 OK\n",
            "Length: 81363704 (78M) [application/zip]\n",
            "Saving to: ‘trainingandtestdata.zip’\n",
            "\n",
            "trainingandtestdata 100%[===================>]  77.59M  37.9MB/s    in 2.0s    \n",
            "\n",
            "2020-12-13 16:33:51 (37.9 MB/s) - ‘trainingandtestdata.zip’ saved [81363704/81363704]\n",
            "\n"
          ],
          "name": "stdout"
        }
      ]
    },
    {
      "cell_type": "code",
      "metadata": {
        "id": "boTOl6lLq3mg",
        "colab": {
          "base_uri": "https://localhost:8080/"
        },
        "outputId": "109eb25e-1832-4767-801a-87c22604636e"
      },
      "source": [
        "!unzip trainingandtestdata.zip"
      ],
      "execution_count": null,
      "outputs": [
        {
          "output_type": "stream",
          "text": [
            "Archive:  trainingandtestdata.zip\n",
            "  inflating: testdata.manual.2009.06.14.csv  \n",
            "  inflating: training.1600000.processed.noemoticon.csv  \n"
          ],
          "name": "stdout"
        }
      ]
    },
    {
      "cell_type": "code",
      "metadata": {
        "id": "1l2NiMhArD8h",
        "colab": {
          "base_uri": "https://localhost:8080/"
        },
        "outputId": "b5e3f749-7376-4750-ca49-a650666d0261"
      },
      "source": [
        "!ls"
      ],
      "execution_count": null,
      "outputs": [
        {
          "output_type": "stream",
          "text": [
            "GoogleNews-vectors-negative300.bin.gz\n",
            "sample_data\n",
            "testdata.manual.2009.06.14.csv\n",
            "training.1600000.processed.noemoticon.csv\n",
            "trainingandtestdata.zip\n"
          ],
          "name": "stdout"
        }
      ]
    },
    {
      "cell_type": "markdown",
      "metadata": {
        "id": "6hRI7MtOnuvE"
      },
      "source": [
        "Cargamos el csv de entrenamiento en un dataframe de pandas"
      ]
    },
    {
      "cell_type": "code",
      "metadata": {
        "id": "LmY4FM4rrKiw"
      },
      "source": [
        "df_train = pd.read_csv('./training.1600000.processed.noemoticon.csv',\n",
        "                       header=None,\n",
        "                       names=['sentiment','id','date','query_string','user','text'],\n",
        "                       encoding = \"ISO-8859-1\")\n",
        "df_train.drop(['id','date','query_string','user'], axis=1, inplace=True)"
      ],
      "execution_count": null,
      "outputs": []
    },
    {
      "cell_type": "markdown",
      "metadata": {
        "id": "sDHtw-pCn42G"
      },
      "source": [
        "Lo inspeccionamos un poquito:"
      ]
    },
    {
      "cell_type": "code",
      "metadata": {
        "id": "A6maSZaeu3Ex",
        "colab": {
          "base_uri": "https://localhost:8080/",
          "height": 413
        },
        "outputId": "5c5d17e3-9277-4d58-b58a-8d213c2e9d2b"
      },
      "source": [
        "df_train"
      ],
      "execution_count": null,
      "outputs": [
        {
          "output_type": "execute_result",
          "data": {
            "text/html": [
              "<div>\n",
              "<style scoped>\n",
              "    .dataframe tbody tr th:only-of-type {\n",
              "        vertical-align: middle;\n",
              "    }\n",
              "\n",
              "    .dataframe tbody tr th {\n",
              "        vertical-align: top;\n",
              "    }\n",
              "\n",
              "    .dataframe thead th {\n",
              "        text-align: right;\n",
              "    }\n",
              "</style>\n",
              "<table border=\"1\" class=\"dataframe\">\n",
              "  <thead>\n",
              "    <tr style=\"text-align: right;\">\n",
              "      <th></th>\n",
              "      <th>sentiment</th>\n",
              "      <th>text</th>\n",
              "    </tr>\n",
              "  </thead>\n",
              "  <tbody>\n",
              "    <tr>\n",
              "      <th>0</th>\n",
              "      <td>0</td>\n",
              "      <td>@switchfoot http://twitpic.com/2y1zl - Awww, t...</td>\n",
              "    </tr>\n",
              "    <tr>\n",
              "      <th>1</th>\n",
              "      <td>0</td>\n",
              "      <td>is upset that he can't update his Facebook by ...</td>\n",
              "    </tr>\n",
              "    <tr>\n",
              "      <th>2</th>\n",
              "      <td>0</td>\n",
              "      <td>@Kenichan I dived many times for the ball. Man...</td>\n",
              "    </tr>\n",
              "    <tr>\n",
              "      <th>3</th>\n",
              "      <td>0</td>\n",
              "      <td>my whole body feels itchy and like its on fire</td>\n",
              "    </tr>\n",
              "    <tr>\n",
              "      <th>4</th>\n",
              "      <td>0</td>\n",
              "      <td>@nationwideclass no, it's not behaving at all....</td>\n",
              "    </tr>\n",
              "    <tr>\n",
              "      <th>...</th>\n",
              "      <td>...</td>\n",
              "      <td>...</td>\n",
              "    </tr>\n",
              "    <tr>\n",
              "      <th>1599995</th>\n",
              "      <td>4</td>\n",
              "      <td>Just woke up. Having no school is the best fee...</td>\n",
              "    </tr>\n",
              "    <tr>\n",
              "      <th>1599996</th>\n",
              "      <td>4</td>\n",
              "      <td>TheWDB.com - Very cool to hear old Walt interv...</td>\n",
              "    </tr>\n",
              "    <tr>\n",
              "      <th>1599997</th>\n",
              "      <td>4</td>\n",
              "      <td>Are you ready for your MoJo Makeover? Ask me f...</td>\n",
              "    </tr>\n",
              "    <tr>\n",
              "      <th>1599998</th>\n",
              "      <td>4</td>\n",
              "      <td>Happy 38th Birthday to my boo of alll time!!! ...</td>\n",
              "    </tr>\n",
              "    <tr>\n",
              "      <th>1599999</th>\n",
              "      <td>4</td>\n",
              "      <td>happy #charitytuesday @theNSPCC @SparksCharity...</td>\n",
              "    </tr>\n",
              "  </tbody>\n",
              "</table>\n",
              "<p>1600000 rows × 2 columns</p>\n",
              "</div>"
            ],
            "text/plain": [
              "         sentiment                                               text\n",
              "0                0  @switchfoot http://twitpic.com/2y1zl - Awww, t...\n",
              "1                0  is upset that he can't update his Facebook by ...\n",
              "2                0  @Kenichan I dived many times for the ball. Man...\n",
              "3                0    my whole body feels itchy and like its on fire \n",
              "4                0  @nationwideclass no, it's not behaving at all....\n",
              "...            ...                                                ...\n",
              "1599995          4  Just woke up. Having no school is the best fee...\n",
              "1599996          4  TheWDB.com - Very cool to hear old Walt interv...\n",
              "1599997          4  Are you ready for your MoJo Makeover? Ask me f...\n",
              "1599998          4  Happy 38th Birthday to my boo of alll time!!! ...\n",
              "1599999          4  happy #charitytuesday @theNSPCC @SparksCharity...\n",
              "\n",
              "[1600000 rows x 2 columns]"
            ]
          },
          "metadata": {
            "tags": []
          },
          "execution_count": 29
        }
      ]
    },
    {
      "cell_type": "markdown",
      "metadata": {
        "id": "-fhVf-DSoHYZ"
      },
      "source": [
        "Definimos una funcion para limpiar tweets y aprovechar de borrar stopwords"
      ]
    },
    {
      "cell_type": "code",
      "metadata": {
        "id": "Q4QtdVpXwRRk",
        "colab": {
          "base_uri": "https://localhost:8080/"
        },
        "outputId": "f6c61433-f0f8-4092-f26b-66de06545d88"
      },
      "source": [
        "pat1 = r'@[A-Za-z0-9]+'\n",
        "pat2 = r'https?://[A-Za-z0-9./]+'\n",
        "combined_pat = r'|'.join((pat1, pat2))\n",
        "tok = WordPunctTokenizer()\n",
        "nltk.download('stopwords')\n",
        "stop_words = set(stopwords.words('english'))\n",
        "\n",
        "def tweet_cleaner(text):\n",
        "    soup = BeautifulSoup(text, 'lxml')\n",
        "    souped = soup.get_text()\n",
        "    stripped = re.sub(combined_pat, '', souped)\n",
        "    try:\n",
        "        clean = stripped.decode(\"utf-8-sig\").replace(u\"\\ufffd\", \"?\")\n",
        "    except:\n",
        "        clean = stripped\n",
        "    letters_only = re.sub(\"[^a-zA-Z]\", \" \", clean)\n",
        "    lower_case = letters_only.lower()\n",
        "    words = tok.tokenize(lower_case)\n",
        "    words = [w for w in words if w not in stop_words]\n",
        "    return (\" \".join(words)).strip()"
      ],
      "execution_count": null,
      "outputs": [
        {
          "output_type": "stream",
          "text": [
            "[nltk_data] Downloading package stopwords to /root/nltk_data...\n",
            "[nltk_data]   Unzipping corpora/stopwords.zip.\n"
          ],
          "name": "stdout"
        }
      ]
    },
    {
      "cell_type": "markdown",
      "metadata": {
        "id": "3JC1UrMuoa8W"
      },
      "source": [
        "Probamos nuestra función con algunos ejemplos para ver cómo quedan:"
      ]
    },
    {
      "cell_type": "code",
      "metadata": {
        "id": "hiOilUtsyJm_",
        "colab": {
          "base_uri": "https://localhost:8080/"
        },
        "outputId": "2fc0f79b-dbf1-4e75-edb1-5f31a679cab0"
      },
      "source": [
        "for x in [279, 343, 0, 226, 175]:\n",
        "  print('-------')\n",
        "  print(df_train.text[x])\n",
        "  print(tweet_cleaner(df_train.text[x]))"
      ],
      "execution_count": null,
      "outputs": [
        {
          "output_type": "stream",
          "text": [
            "-------\n",
            "Whinging. My client&amp;boss don't understand English well. Rewrote some text unreadable. It's written by v. good writer&amp;reviewed correctly. \n",
            "whinging client boss understand english well rewrote text unreadable written v good writer reviewed correctly\n",
            "-------\n",
            "@TheLeagueSF Not Fun &amp; Furious? The new mantra for the Bay 2 Breakers? It was getting 2 rambunctious;the city overreacted &amp; clamped down \n",
            "fun furious new mantra bay breakers getting rambunctious city overreacted clamped\n",
            "-------\n",
            "@switchfoot http://twitpic.com/2y1zl - Awww, that's a bummer.  You shoulda got David Carr of Third Day to do it. ;D\n",
            "awww bummer shoulda got david carr third day\n",
            "-------\n",
            "Tuesdayï¿½ll start with reflection ï¿½n then a lecture in Stress reducing techniques. That sure might become very useful for us accompaniers \n",
            "tuesday start reflection n lecture stress reducing techniques sure might become useful us accompaniers\n",
            "-------\n",
            "@machineplay I'm so sorry you're having to go through this. Again.  #therapyfail\n",
            "sorry go therapyfail\n"
          ],
          "name": "stdout"
        }
      ]
    },
    {
      "cell_type": "markdown",
      "metadata": {
        "id": "M7lDYDi8ot4e"
      },
      "source": [
        "Definimos una función para limpiar un dataframe completo:"
      ]
    },
    {
      "cell_type": "code",
      "metadata": {
        "id": "MFww3tH0owtr"
      },
      "source": [
        "def clean_dataframe(df, print_every=10000):\n",
        "  clean_tweet_texts = []\n",
        "  for i in range(len(df)):\n",
        "      if (i+1)%print_every == 0 or i+1 == len(df):\n",
        "          print(\"Tweets %d of %d have been processed\" % (i+1, len(df)))\n",
        "      clean_tweet_texts.append(tweet_cleaner(df.text.iloc[i]))\n",
        "  df_clean = pd.DataFrame(clean_tweet_texts, columns=['text'])\n",
        "  df_clean['target'] = df.sentiment\n",
        "  return df_clean"
      ],
      "execution_count": null,
      "outputs": []
    },
    {
      "cell_type": "markdown",
      "metadata": {
        "id": "psXHGAAho3Xq"
      },
      "source": [
        "Dado que el set de entrenamiento consiste de 1.6 M de instancias, por motivos de tiempo y para fines ilustrativos sampleamos un subconjunto razonable:"
      ]
    },
    {
      "cell_type": "code",
      "metadata": {
        "id": "Nbz8jwyw0T5K",
        "colab": {
          "base_uri": "https://localhost:8080/",
          "height": 413
        },
        "outputId": "3d89c5f5-be8c-4598-e76f-80c4d97ee4bd"
      },
      "source": [
        "df_sample = df_train.sample(random_state=1, n=20000)\n",
        "df_sample.reset_index(inplace=True)\n",
        "df_sample"
      ],
      "execution_count": null,
      "outputs": [
        {
          "output_type": "execute_result",
          "data": {
            "text/html": [
              "<div>\n",
              "<style scoped>\n",
              "    .dataframe tbody tr th:only-of-type {\n",
              "        vertical-align: middle;\n",
              "    }\n",
              "\n",
              "    .dataframe tbody tr th {\n",
              "        vertical-align: top;\n",
              "    }\n",
              "\n",
              "    .dataframe thead th {\n",
              "        text-align: right;\n",
              "    }\n",
              "</style>\n",
              "<table border=\"1\" class=\"dataframe\">\n",
              "  <thead>\n",
              "    <tr style=\"text-align: right;\">\n",
              "      <th></th>\n",
              "      <th>index</th>\n",
              "      <th>sentiment</th>\n",
              "      <th>text</th>\n",
              "    </tr>\n",
              "  </thead>\n",
              "  <tbody>\n",
              "    <tr>\n",
              "      <th>0</th>\n",
              "      <td>514293</td>\n",
              "      <td>0</td>\n",
              "      <td>i miss nikki nu nu already  shes always there ...</td>\n",
              "    </tr>\n",
              "    <tr>\n",
              "      <th>1</th>\n",
              "      <td>142282</td>\n",
              "      <td>0</td>\n",
              "      <td>So I had a dream last night. I  remember a sig...</td>\n",
              "    </tr>\n",
              "    <tr>\n",
              "      <th>2</th>\n",
              "      <td>403727</td>\n",
              "      <td>0</td>\n",
              "      <td>@girlyghost ohh poor sickly you   (((hugs)) ho...</td>\n",
              "    </tr>\n",
              "    <tr>\n",
              "      <th>3</th>\n",
              "      <td>649503</td>\n",
              "      <td>0</td>\n",
              "      <td>it is raining again</td>\n",
              "    </tr>\n",
              "    <tr>\n",
              "      <th>4</th>\n",
              "      <td>610789</td>\n",
              "      <td>0</td>\n",
              "      <td>@MissKeriBaby wish I was in LA right now</td>\n",
              "    </tr>\n",
              "    <tr>\n",
              "      <th>...</th>\n",
              "      <td>...</td>\n",
              "      <td>...</td>\n",
              "      <td>...</td>\n",
              "    </tr>\n",
              "    <tr>\n",
              "      <th>19995</th>\n",
              "      <td>1200592</td>\n",
              "      <td>4</td>\n",
              "      <td>I get the worst writer's cramp. These thank yo...</td>\n",
              "    </tr>\n",
              "    <tr>\n",
              "      <th>19996</th>\n",
              "      <td>333050</td>\n",
              "      <td>0</td>\n",
              "      <td>@ladyinreddress the sun is all gone now...</td>\n",
              "    </tr>\n",
              "    <tr>\n",
              "      <th>19997</th>\n",
              "      <td>893698</td>\n",
              "      <td>4</td>\n",
              "      <td>FINALLY a break till Wed, no work OR school, b...</td>\n",
              "    </tr>\n",
              "    <tr>\n",
              "      <th>19998</th>\n",
              "      <td>1145456</td>\n",
              "      <td>4</td>\n",
              "      <td>I want a Blackberry...</td>\n",
              "    </tr>\n",
              "    <tr>\n",
              "      <th>19999</th>\n",
              "      <td>837125</td>\n",
              "      <td>4</td>\n",
              "      <td>in montrea doing some much needed ocean swimmi...</td>\n",
              "    </tr>\n",
              "  </tbody>\n",
              "</table>\n",
              "<p>20000 rows × 3 columns</p>\n",
              "</div>"
            ],
            "text/plain": [
              "         index  sentiment                                               text\n",
              "0       514293          0  i miss nikki nu nu already  shes always there ...\n",
              "1       142282          0  So I had a dream last night. I  remember a sig...\n",
              "2       403727          0  @girlyghost ohh poor sickly you   (((hugs)) ho...\n",
              "3       649503          0                               it is raining again \n",
              "4       610789          0          @MissKeriBaby wish I was in LA right now \n",
              "...        ...        ...                                                ...\n",
              "19995  1200592          4  I get the worst writer's cramp. These thank yo...\n",
              "19996   333050          0        @ladyinreddress the sun is all gone now... \n",
              "19997   893698          4  FINALLY a break till Wed, no work OR school, b...\n",
              "19998  1145456          4                            I want a Blackberry... \n",
              "19999   837125          4  in montrea doing some much needed ocean swimmi...\n",
              "\n",
              "[20000 rows x 3 columns]"
            ]
          },
          "metadata": {
            "tags": []
          },
          "execution_count": 33
        }
      ]
    },
    {
      "cell_type": "markdown",
      "metadata": {
        "id": "kAL8k3o8pboN"
      },
      "source": [
        "Limpiamos nuestro dataframe de entrenamiento:"
      ]
    },
    {
      "cell_type": "code",
      "metadata": {
        "id": "uwstTZNO1kT-",
        "colab": {
          "base_uri": "https://localhost:8080/",
          "height": 448
        },
        "outputId": "e2b91c63-1fcc-4731-9f55-86967dfef3fd"
      },
      "source": [
        "df_samp_clean = clean_dataframe(df_sample)\n",
        "df_samp_clean"
      ],
      "execution_count": null,
      "outputs": [
        {
          "output_type": "stream",
          "text": [
            "Tweets 10000 of 20000 have been processed\n",
            "Tweets 20000 of 20000 have been processed\n"
          ],
          "name": "stdout"
        },
        {
          "output_type": "execute_result",
          "data": {
            "text/html": [
              "<div>\n",
              "<style scoped>\n",
              "    .dataframe tbody tr th:only-of-type {\n",
              "        vertical-align: middle;\n",
              "    }\n",
              "\n",
              "    .dataframe tbody tr th {\n",
              "        vertical-align: top;\n",
              "    }\n",
              "\n",
              "    .dataframe thead th {\n",
              "        text-align: right;\n",
              "    }\n",
              "</style>\n",
              "<table border=\"1\" class=\"dataframe\">\n",
              "  <thead>\n",
              "    <tr style=\"text-align: right;\">\n",
              "      <th></th>\n",
              "      <th>text</th>\n",
              "      <th>target</th>\n",
              "    </tr>\n",
              "  </thead>\n",
              "  <tbody>\n",
              "    <tr>\n",
              "      <th>0</th>\n",
              "      <td>miss nikki nu nu already shes always needed th...</td>\n",
              "      <td>0</td>\n",
              "    </tr>\n",
              "    <tr>\n",
              "      <th>1</th>\n",
              "      <td>dream last night remember sign clearly told ge...</td>\n",
              "      <td>0</td>\n",
              "    </tr>\n",
              "    <tr>\n",
              "      <th>2</th>\n",
              "      <td>ohh poor sickly hugs hope feel little better soon</td>\n",
              "      <td>0</td>\n",
              "    </tr>\n",
              "    <tr>\n",
              "      <th>3</th>\n",
              "      <td>raining</td>\n",
              "      <td>0</td>\n",
              "    </tr>\n",
              "    <tr>\n",
              "      <th>4</th>\n",
              "      <td>wish la right</td>\n",
              "      <td>0</td>\n",
              "    </tr>\n",
              "    <tr>\n",
              "      <th>...</th>\n",
              "      <td>...</td>\n",
              "      <td>...</td>\n",
              "    </tr>\n",
              "    <tr>\n",
              "      <th>19995</th>\n",
              "      <td>get worst writer cramp thank notes killing hand</td>\n",
              "      <td>4</td>\n",
              "    </tr>\n",
              "    <tr>\n",
              "      <th>19996</th>\n",
              "      <td>sun gone</td>\n",
              "      <td>0</td>\n",
              "    </tr>\n",
              "    <tr>\n",
              "      <th>19997</th>\n",
              "      <td>finally break till wed work school hectic yay ...</td>\n",
              "      <td>4</td>\n",
              "    </tr>\n",
              "    <tr>\n",
              "      <th>19998</th>\n",
              "      <td>want blackberry</td>\n",
              "      <td>4</td>\n",
              "    </tr>\n",
              "    <tr>\n",
              "      <th>19999</th>\n",
              "      <td>montrea much needed ocean swimming surfs</td>\n",
              "      <td>4</td>\n",
              "    </tr>\n",
              "  </tbody>\n",
              "</table>\n",
              "<p>20000 rows × 2 columns</p>\n",
              "</div>"
            ],
            "text/plain": [
              "                                                    text  target\n",
              "0      miss nikki nu nu already shes always needed th...       0\n",
              "1      dream last night remember sign clearly told ge...       0\n",
              "2      ohh poor sickly hugs hope feel little better soon       0\n",
              "3                                                raining       0\n",
              "4                                          wish la right       0\n",
              "...                                                  ...     ...\n",
              "19995    get worst writer cramp thank notes killing hand       4\n",
              "19996                                           sun gone       0\n",
              "19997  finally break till wed work school hectic yay ...       4\n",
              "19998                                    want blackberry       4\n",
              "19999           montrea much needed ocean swimming surfs       4\n",
              "\n",
              "[20000 rows x 2 columns]"
            ]
          },
          "metadata": {
            "tags": []
          },
          "execution_count": 34
        }
      ]
    },
    {
      "cell_type": "markdown",
      "metadata": {
        "id": "ambpMhmyqH46"
      },
      "source": [
        "Cargamos y limpiamos el dataset de test:"
      ]
    },
    {
      "cell_type": "code",
      "metadata": {
        "id": "OToxla9u243Y",
        "colab": {
          "base_uri": "https://localhost:8080/",
          "height": 501
        },
        "outputId": "8358f137-1a03-4208-a10d-c5576403293d"
      },
      "source": [
        "df_test = pd.read_csv('./testdata.manual.2009.06.14.csv',\n",
        "                       header=None,\n",
        "                       names=['sentiment','id','date','query_string','user','text'],\n",
        "                       encoding = \"ISO-8859-1\")\n",
        "df_test.drop(['id','date','query_string','user'], axis=1, inplace=True)\n",
        "df_test = clean_dataframe(df_test, print_every=100)\n",
        "df_test"
      ],
      "execution_count": null,
      "outputs": [
        {
          "output_type": "stream",
          "text": [
            "Tweets 100 of 498 have been processed\n",
            "Tweets 200 of 498 have been processed\n",
            "Tweets 300 of 498 have been processed\n",
            "Tweets 400 of 498 have been processed\n",
            "Tweets 498 of 498 have been processed\n"
          ],
          "name": "stdout"
        },
        {
          "output_type": "execute_result",
          "data": {
            "text/html": [
              "<div>\n",
              "<style scoped>\n",
              "    .dataframe tbody tr th:only-of-type {\n",
              "        vertical-align: middle;\n",
              "    }\n",
              "\n",
              "    .dataframe tbody tr th {\n",
              "        vertical-align: top;\n",
              "    }\n",
              "\n",
              "    .dataframe thead th {\n",
              "        text-align: right;\n",
              "    }\n",
              "</style>\n",
              "<table border=\"1\" class=\"dataframe\">\n",
              "  <thead>\n",
              "    <tr style=\"text-align: right;\">\n",
              "      <th></th>\n",
              "      <th>text</th>\n",
              "      <th>target</th>\n",
              "    </tr>\n",
              "  </thead>\n",
              "  <tbody>\n",
              "    <tr>\n",
              "      <th>0</th>\n",
              "      <td>loooooooovvvvvveee kindle dx cool fantastic right</td>\n",
              "      <td>4</td>\n",
              "    </tr>\n",
              "    <tr>\n",
              "      <th>1</th>\n",
              "      <td>reading kindle love lee childs good read</td>\n",
              "      <td>4</td>\n",
              "    </tr>\n",
              "    <tr>\n",
              "      <th>2</th>\n",
              "      <td>ok first assesment kindle fucking rocks</td>\n",
              "      <td>4</td>\n",
              "    </tr>\n",
              "    <tr>\n",
              "      <th>3</th>\n",
              "      <td>love kindle mine months never looked back new ...</td>\n",
              "      <td>4</td>\n",
              "    </tr>\n",
              "    <tr>\n",
              "      <th>4</th>\n",
              "      <td>fair enough kindle think perfect</td>\n",
              "      <td>4</td>\n",
              "    </tr>\n",
              "    <tr>\n",
              "      <th>...</th>\n",
              "      <td>...</td>\n",
              "      <td>...</td>\n",
              "    </tr>\n",
              "    <tr>\n",
              "      <th>493</th>\n",
              "      <td>ask programming latex indesign submitted calci...</td>\n",
              "      <td>2</td>\n",
              "    </tr>\n",
              "    <tr>\n",
              "      <th>494</th>\n",
              "      <td>note hate word hate pages hate latex said hate...</td>\n",
              "      <td>0</td>\n",
              "    </tr>\n",
              "    <tr>\n",
              "      <th>495</th>\n",
              "      <td>ahhh back real text editing environment latex</td>\n",
              "      <td>4</td>\n",
              "    </tr>\n",
              "    <tr>\n",
              "      <th>496</th>\n",
              "      <td>trouble iran see hmm iran iran far away flocko...</td>\n",
              "      <td>0</td>\n",
              "    </tr>\n",
              "    <tr>\n",
              "      <th>497</th>\n",
              "      <td>reading tweets coming iran whole thing terrify...</td>\n",
              "      <td>0</td>\n",
              "    </tr>\n",
              "  </tbody>\n",
              "</table>\n",
              "<p>498 rows × 2 columns</p>\n",
              "</div>"
            ],
            "text/plain": [
              "                                                  text  target\n",
              "0    loooooooovvvvvveee kindle dx cool fantastic right       4\n",
              "1             reading kindle love lee childs good read       4\n",
              "2              ok first assesment kindle fucking rocks       4\n",
              "3    love kindle mine months never looked back new ...       4\n",
              "4                     fair enough kindle think perfect       4\n",
              "..                                                 ...     ...\n",
              "493  ask programming latex indesign submitted calci...       2\n",
              "494  note hate word hate pages hate latex said hate...       0\n",
              "495      ahhh back real text editing environment latex       4\n",
              "496  trouble iran see hmm iran iran far away flocko...       0\n",
              "497  reading tweets coming iran whole thing terrify...       0\n",
              "\n",
              "[498 rows x 2 columns]"
            ]
          },
          "metadata": {
            "tags": []
          },
          "execution_count": 35
        }
      ]
    },
    {
      "cell_type": "markdown",
      "metadata": {
        "id": "FOPEZT7sBh6v"
      },
      "source": [
        "## **Generando Tweet Vectors a partir de Word Embeddings**\n",
        "Probaremos dos estrategias simples:\n",
        "\n",
        "1) Suma de los vectores de las palabras\n",
        "\n",
        "2) Promedio de los vectores de las palabras"
      ]
    },
    {
      "cell_type": "markdown",
      "metadata": {
        "id": "XUfWBzzCq-5D"
      },
      "source": [
        "Funciones para obtener matrices de numpy con las sumas/promedios de los vectores de las palabras de cada tweet:"
      ]
    },
    {
      "cell_type": "code",
      "metadata": {
        "id": "sl99YdtnBowH"
      },
      "source": [
        "def get_embedding_sum(df, w2v, embed_dim):\n",
        "  n = len(df)\n",
        "  out = np.zeros((n, embed_dim))\n",
        "  for i in range(n):\n",
        "    for word in df.text[i].split():\n",
        "      if word in w2v:\n",
        "        out[i] += w2v[word]\n",
        "  return out\n",
        "\n",
        "def get_embedding_avg(df, w2v, embed_dim):\n",
        "  n = len(df)\n",
        "  out = np.zeros((n, embed_dim))\n",
        "  for i in range(n):\n",
        "    count = 0.\n",
        "    for word in df.text[i].split():      \n",
        "      if word in w2v:\n",
        "        out[i] += w2v[word]\n",
        "        count += 1\n",
        "    if count > 0:\n",
        "      out[i] /= count\n",
        "  return out"
      ],
      "execution_count": null,
      "outputs": []
    },
    {
      "cell_type": "markdown",
      "metadata": {
        "id": "KyxD-MxsrNJZ"
      },
      "source": [
        "Computamos entradas y los labels de salida para entrenar y evaluar nuestro clasificador de sentimientos:"
      ]
    },
    {
      "cell_type": "code",
      "metadata": {
        "id": "ZTzV3V2fEzrI"
      },
      "source": [
        "y_train = ((df_samp_clean.target == 4) + 0).to_numpy()"
      ],
      "execution_count": null,
      "outputs": []
    },
    {
      "cell_type": "code",
      "metadata": {
        "id": "bNWstFQ5Fgn_"
      },
      "source": [
        "y_test = df_test.target.to_numpy() / 4.0"
      ],
      "execution_count": null,
      "outputs": []
    },
    {
      "cell_type": "code",
      "metadata": {
        "id": "DbfLHsxiDFN0"
      },
      "source": [
        "X_train_sum = get_embedding_sum(df_samp_clean, goog_wordvecs, 300)"
      ],
      "execution_count": null,
      "outputs": []
    },
    {
      "cell_type": "code",
      "metadata": {
        "id": "Xe4QuMcuDpJr"
      },
      "source": [
        "X_test_sum = get_embedding_sum(df_test, goog_wordvecs, 300)"
      ],
      "execution_count": null,
      "outputs": []
    },
    {
      "cell_type": "code",
      "metadata": {
        "id": "rY5qRJV1Kmj0"
      },
      "source": [
        "X_train_avg = get_embedding_avg(df_samp_clean, goog_wordvecs, 300)"
      ],
      "execution_count": null,
      "outputs": []
    },
    {
      "cell_type": "code",
      "metadata": {
        "id": "Zl6Ftmp1OZYW"
      },
      "source": [
        "X_test_avg = get_embedding_avg(df_test, goog_wordvecs, 300)"
      ],
      "execution_count": null,
      "outputs": []
    },
    {
      "cell_type": "markdown",
      "metadata": {
        "id": "XtrVZpWar9aE"
      },
      "source": [
        "#### 1) Entrenamos y evaluamos un MLP con 1 capa oculta y usando **suma** de word embeddings como entrada"
      ]
    },
    {
      "cell_type": "code",
      "metadata": {
        "id": "Ph9sguE1D3B3",
        "colab": {
          "base_uri": "https://localhost:8080/"
        },
        "outputId": "ab6f37e5-067a-4dd1-9690-0e766faa6fc2"
      },
      "source": [
        "clf = MLPClassifier(solver='adam', hidden_layer_sizes=[50,], random_state=1, verbose=1)\n",
        "clf.fit(X_train_sum, y_train)"
      ],
      "execution_count": null,
      "outputs": [
        {
          "output_type": "stream",
          "text": [
            "Iteration 1, loss = 0.61849875\n",
            "Iteration 2, loss = 0.56042239\n",
            "Iteration 3, loss = 0.54576977\n",
            "Iteration 4, loss = 0.53707918\n",
            "Iteration 5, loss = 0.52608536\n",
            "Iteration 6, loss = 0.51768436\n",
            "Iteration 7, loss = 0.50935790\n",
            "Iteration 8, loss = 0.49802519\n",
            "Iteration 9, loss = 0.48935478\n",
            "Iteration 10, loss = 0.48228322\n",
            "Iteration 11, loss = 0.47217623\n",
            "Iteration 12, loss = 0.46448450\n",
            "Iteration 13, loss = 0.45620101\n",
            "Iteration 14, loss = 0.44664539\n",
            "Iteration 15, loss = 0.43892144\n",
            "Iteration 16, loss = 0.43204252\n",
            "Iteration 17, loss = 0.42405602\n",
            "Iteration 18, loss = 0.41725871\n",
            "Iteration 19, loss = 0.41090974\n",
            "Iteration 20, loss = 0.40249311\n",
            "Iteration 21, loss = 0.39649679\n",
            "Iteration 22, loss = 0.38872729\n",
            "Iteration 23, loss = 0.38216502\n",
            "Iteration 24, loss = 0.37640367\n",
            "Iteration 25, loss = 0.37522744\n",
            "Iteration 26, loss = 0.36647307\n",
            "Iteration 27, loss = 0.35878879\n",
            "Iteration 28, loss = 0.35231100\n",
            "Iteration 29, loss = 0.35006558\n",
            "Iteration 30, loss = 0.34303927\n",
            "Iteration 31, loss = 0.33765563\n",
            "Iteration 32, loss = 0.33281347\n",
            "Iteration 33, loss = 0.32647048\n",
            "Iteration 34, loss = 0.32241260\n",
            "Iteration 35, loss = 0.31710597\n",
            "Iteration 36, loss = 0.31280324\n",
            "Iteration 37, loss = 0.30767766\n",
            "Iteration 38, loss = 0.30240180\n",
            "Iteration 39, loss = 0.30041697\n",
            "Iteration 40, loss = 0.29404800\n",
            "Iteration 41, loss = 0.28992423\n",
            "Iteration 42, loss = 0.28560584\n",
            "Iteration 43, loss = 0.28193623\n",
            "Iteration 44, loss = 0.27973842\n",
            "Iteration 45, loss = 0.27774985\n",
            "Iteration 46, loss = 0.26833348\n",
            "Iteration 47, loss = 0.26679346\n",
            "Iteration 48, loss = 0.26200804\n",
            "Iteration 49, loss = 0.25792073\n",
            "Iteration 50, loss = 0.25503870\n",
            "Iteration 51, loss = 0.25222283\n",
            "Iteration 52, loss = 0.24935741\n",
            "Iteration 53, loss = 0.24338538\n",
            "Iteration 54, loss = 0.24252588\n",
            "Iteration 55, loss = 0.24482832\n",
            "Iteration 56, loss = 0.23583455\n",
            "Iteration 57, loss = 0.23155280\n",
            "Iteration 58, loss = 0.23047016\n",
            "Iteration 59, loss = 0.22865567\n",
            "Iteration 60, loss = 0.22415070\n",
            "Iteration 61, loss = 0.22040785\n",
            "Iteration 62, loss = 0.21959968\n",
            "Iteration 63, loss = 0.21568105\n",
            "Iteration 64, loss = 0.21371806\n",
            "Iteration 65, loss = 0.20887105\n",
            "Iteration 66, loss = 0.20627497\n",
            "Iteration 67, loss = 0.20360670\n",
            "Iteration 68, loss = 0.20085294\n",
            "Iteration 69, loss = 0.20211777\n",
            "Iteration 70, loss = 0.19828279\n",
            "Iteration 71, loss = 0.19346284\n",
            "Iteration 72, loss = 0.19152321\n",
            "Iteration 73, loss = 0.18895611\n",
            "Iteration 74, loss = 0.18670968\n",
            "Iteration 75, loss = 0.18537447\n",
            "Iteration 76, loss = 0.18219509\n",
            "Iteration 77, loss = 0.17920054\n",
            "Iteration 78, loss = 0.17695233\n",
            "Iteration 79, loss = 0.17485661\n",
            "Iteration 80, loss = 0.17423455\n",
            "Iteration 81, loss = 0.17043495\n",
            "Iteration 82, loss = 0.16933499\n",
            "Iteration 83, loss = 0.16867427\n",
            "Iteration 84, loss = 0.16454093\n",
            "Iteration 85, loss = 0.16369917\n",
            "Iteration 86, loss = 0.16112422\n",
            "Iteration 87, loss = 0.15855150\n",
            "Iteration 88, loss = 0.15728356\n",
            "Iteration 89, loss = 0.15535328\n",
            "Iteration 90, loss = 0.15486430\n",
            "Iteration 91, loss = 0.15152903\n",
            "Iteration 92, loss = 0.14948407\n",
            "Iteration 93, loss = 0.14855045\n",
            "Iteration 94, loss = 0.14495977\n",
            "Iteration 95, loss = 0.14643201\n",
            "Iteration 96, loss = 0.14204221\n",
            "Iteration 97, loss = 0.14104971\n",
            "Iteration 98, loss = 0.14117003\n",
            "Iteration 99, loss = 0.13931477\n",
            "Iteration 100, loss = 0.13735752\n",
            "Iteration 101, loss = 0.13331713\n",
            "Iteration 102, loss = 0.13379155\n",
            "Iteration 103, loss = 0.13544307\n",
            "Iteration 104, loss = 0.12907392\n",
            "Iteration 105, loss = 0.12921582\n",
            "Iteration 106, loss = 0.12679469\n",
            "Iteration 107, loss = 0.12837647\n",
            "Iteration 108, loss = 0.12444754\n",
            "Iteration 109, loss = 0.12319149\n",
            "Iteration 110, loss = 0.12015377\n",
            "Iteration 111, loss = 0.12188035\n",
            "Iteration 112, loss = 0.11843762\n",
            "Iteration 113, loss = 0.11770146\n",
            "Iteration 114, loss = 0.11681608\n",
            "Iteration 115, loss = 0.11555455\n",
            "Iteration 116, loss = 0.11477497\n",
            "Iteration 117, loss = 0.11283035\n",
            "Iteration 118, loss = 0.12013681\n",
            "Iteration 119, loss = 0.11083352\n",
            "Iteration 120, loss = 0.10879673\n",
            "Iteration 121, loss = 0.10721970\n",
            "Iteration 122, loss = 0.10557471\n",
            "Iteration 123, loss = 0.10670140\n",
            "Iteration 124, loss = 0.10587722\n",
            "Iteration 125, loss = 0.10518145\n",
            "Iteration 126, loss = 0.10217131\n",
            "Iteration 127, loss = 0.10119520\n",
            "Iteration 128, loss = 0.09924305\n",
            "Iteration 129, loss = 0.09995977\n",
            "Iteration 130, loss = 0.09991708\n",
            "Iteration 131, loss = 0.09770457\n",
            "Iteration 132, loss = 0.09911670\n",
            "Iteration 133, loss = 0.09473881\n",
            "Iteration 134, loss = 0.09392384\n",
            "Iteration 135, loss = 0.09653328\n",
            "Iteration 136, loss = 0.09187614\n",
            "Iteration 137, loss = 0.09043255\n",
            "Iteration 138, loss = 0.09243501\n",
            "Iteration 139, loss = 0.08996392\n",
            "Iteration 140, loss = 0.08975860\n",
            "Iteration 141, loss = 0.09025089\n",
            "Iteration 142, loss = 0.08660232\n",
            "Iteration 143, loss = 0.08822333\n",
            "Iteration 144, loss = 0.08649356\n",
            "Iteration 145, loss = 0.08552642\n",
            "Iteration 146, loss = 0.08357494\n",
            "Iteration 147, loss = 0.08172746\n",
            "Iteration 148, loss = 0.08288979\n",
            "Iteration 149, loss = 0.08408511\n",
            "Iteration 150, loss = 0.08215067\n",
            "Iteration 151, loss = 0.08553687\n",
            "Iteration 152, loss = 0.07875467\n",
            "Iteration 153, loss = 0.07906863\n",
            "Iteration 154, loss = 0.07782100\n",
            "Iteration 155, loss = 0.07762320\n",
            "Iteration 156, loss = 0.07685723\n",
            "Iteration 157, loss = 0.07657115\n",
            "Iteration 158, loss = 0.07358123\n",
            "Iteration 159, loss = 0.07523024\n",
            "Iteration 160, loss = 0.07411078\n",
            "Iteration 161, loss = 0.07216122\n",
            "Iteration 162, loss = 0.07529220\n",
            "Iteration 163, loss = 0.07224869\n",
            "Iteration 164, loss = 0.07106551\n",
            "Iteration 165, loss = 0.07083448\n",
            "Iteration 166, loss = 0.07264462\n",
            "Iteration 167, loss = 0.07048542\n",
            "Iteration 168, loss = 0.06844629\n",
            "Iteration 169, loss = 0.07111124\n",
            "Iteration 170, loss = 0.06824652\n",
            "Iteration 171, loss = 0.06685273\n",
            "Iteration 172, loss = 0.06772967\n",
            "Iteration 173, loss = 0.06583881\n",
            "Iteration 174, loss = 0.06467451\n",
            "Iteration 175, loss = 0.06524098\n",
            "Iteration 176, loss = 0.06436297\n",
            "Iteration 177, loss = 0.06440445\n",
            "Iteration 178, loss = 0.06261663\n",
            "Iteration 179, loss = 0.06224809\n",
            "Iteration 180, loss = 0.06687341\n",
            "Iteration 181, loss = 0.06036268\n",
            "Iteration 182, loss = 0.06072171\n",
            "Iteration 183, loss = 0.06050000\n",
            "Iteration 184, loss = 0.06030509\n",
            "Iteration 185, loss = 0.06167554\n",
            "Iteration 186, loss = 0.06048554\n",
            "Iteration 187, loss = 0.06224030\n",
            "Iteration 188, loss = 0.06377924\n",
            "Iteration 189, loss = 0.05866037\n",
            "Iteration 190, loss = 0.05809919\n",
            "Iteration 191, loss = 0.05635540\n",
            "Iteration 192, loss = 0.05653853\n",
            "Iteration 193, loss = 0.05712540\n",
            "Iteration 194, loss = 0.05722352\n",
            "Iteration 195, loss = 0.05613800\n",
            "Iteration 196, loss = 0.05507017\n",
            "Iteration 197, loss = 0.06063041\n",
            "Iteration 198, loss = 0.05436104\n",
            "Iteration 199, loss = 0.05391409\n",
            "Iteration 200, loss = 0.05324669\n"
          ],
          "name": "stdout"
        },
        {
          "output_type": "stream",
          "text": [
            "/usr/local/lib/python3.6/dist-packages/sklearn/neural_network/_multilayer_perceptron.py:571: ConvergenceWarning: Stochastic Optimizer: Maximum iterations (200) reached and the optimization hasn't converged yet.\n",
            "  % self.max_iter, ConvergenceWarning)\n"
          ],
          "name": "stderr"
        },
        {
          "output_type": "execute_result",
          "data": {
            "text/plain": [
              "MLPClassifier(activation='relu', alpha=0.0001, batch_size='auto', beta_1=0.9,\n",
              "              beta_2=0.999, early_stopping=False, epsilon=1e-08,\n",
              "              hidden_layer_sizes=[50], learning_rate='constant',\n",
              "              learning_rate_init=0.001, max_fun=15000, max_iter=200,\n",
              "              momentum=0.9, n_iter_no_change=10, nesterovs_momentum=True,\n",
              "              power_t=0.5, random_state=1, shuffle=True, solver='adam',\n",
              "              tol=0.0001, validation_fraction=0.1, verbose=1, warm_start=False)"
            ]
          },
          "metadata": {
            "tags": []
          },
          "execution_count": 43
        }
      ]
    },
    {
      "cell_type": "markdown",
      "metadata": {
        "id": "aQXGY97rs3BM"
      },
      "source": [
        "Evaluamos en el mismo set de train:"
      ]
    },
    {
      "cell_type": "code",
      "metadata": {
        "id": "pq8TF_ttISyF",
        "colab": {
          "base_uri": "https://localhost:8080/"
        },
        "outputId": "c46ff7b6-8221-42ca-ac86-a8a60be799b7"
      },
      "source": [
        "clf.score(X_train_sum, y_train)"
      ],
      "execution_count": null,
      "outputs": [
        {
          "output_type": "execute_result",
          "data": {
            "text/plain": [
              "0.98495"
            ]
          },
          "metadata": {
            "tags": []
          },
          "execution_count": 44
        }
      ]
    },
    {
      "cell_type": "markdown",
      "metadata": {
        "id": "y19PWpAMs_vN"
      },
      "source": [
        "Calculamos el error absoluto medio (MAE) en el set de test (entre más cercano a 0, mejor):"
      ]
    },
    {
      "cell_type": "code",
      "metadata": {
        "id": "JeHwwet6PJvP",
        "colab": {
          "base_uri": "https://localhost:8080/"
        },
        "outputId": "e0189d55-6162-40cf-d1fa-dd1ca45f5632"
      },
      "source": [
        "pred_proba = clf.predict_proba(X_test_sum)\n",
        "sum(abs(pred_proba.T[1] - y_test)) / len(y_test)"
      ],
      "execution_count": null,
      "outputs": [
        {
          "output_type": "execute_result",
          "data": {
            "text/plain": [
              "0.31472815409126914"
            ]
          },
          "metadata": {
            "tags": []
          },
          "execution_count": 45
        }
      ]
    },
    {
      "cell_type": "markdown",
      "metadata": {
        "id": "klSwcii-tY14"
      },
      "source": [
        "#### 2) Entrenamos y evaluamos un MLP con 1 capa oculta y usando **promedio** de word embeddings como entrada"
      ]
    },
    {
      "cell_type": "code",
      "metadata": {
        "id": "Udy2MoOpQizg",
        "colab": {
          "base_uri": "https://localhost:8080/"
        },
        "outputId": "c56d07df-6927-47b6-efac-2638488a6c11"
      },
      "source": [
        "clf = MLPClassifier(solver='adam', hidden_layer_sizes=(50,), random_state=1, verbose=1)\n",
        "clf.fit(X_train_avg, y_train)"
      ],
      "execution_count": null,
      "outputs": [
        {
          "output_type": "stream",
          "text": [
            "Iteration 1, loss = 0.62416915\n",
            "Iteration 2, loss = 0.55761791\n",
            "Iteration 3, loss = 0.54496394\n",
            "Iteration 4, loss = 0.54070303\n",
            "Iteration 5, loss = 0.53645758\n",
            "Iteration 6, loss = 0.53372963\n",
            "Iteration 7, loss = 0.53080569\n",
            "Iteration 8, loss = 0.52764666\n",
            "Iteration 9, loss = 0.52447367\n",
            "Iteration 10, loss = 0.52214055\n",
            "Iteration 11, loss = 0.51871559\n",
            "Iteration 12, loss = 0.51618074\n",
            "Iteration 13, loss = 0.51411855\n",
            "Iteration 14, loss = 0.51087053\n",
            "Iteration 15, loss = 0.50794612\n",
            "Iteration 16, loss = 0.50535801\n",
            "Iteration 17, loss = 0.50240298\n",
            "Iteration 18, loss = 0.50059934\n",
            "Iteration 19, loss = 0.49730507\n",
            "Iteration 20, loss = 0.49408342\n",
            "Iteration 21, loss = 0.49145020\n",
            "Iteration 22, loss = 0.48867104\n",
            "Iteration 23, loss = 0.48710544\n",
            "Iteration 24, loss = 0.48437182\n",
            "Iteration 25, loss = 0.48130643\n",
            "Iteration 26, loss = 0.47844160\n",
            "Iteration 27, loss = 0.47550022\n",
            "Iteration 28, loss = 0.47392769\n",
            "Iteration 29, loss = 0.46992742\n",
            "Iteration 30, loss = 0.46831307\n",
            "Iteration 31, loss = 0.46490374\n",
            "Iteration 32, loss = 0.46377576\n",
            "Iteration 33, loss = 0.45918346\n",
            "Iteration 34, loss = 0.45894519\n",
            "Iteration 35, loss = 0.45501804\n",
            "Iteration 36, loss = 0.45295527\n",
            "Iteration 37, loss = 0.44976720\n",
            "Iteration 38, loss = 0.44660823\n",
            "Iteration 39, loss = 0.44488226\n",
            "Iteration 40, loss = 0.44211002\n",
            "Iteration 41, loss = 0.44054101\n",
            "Iteration 42, loss = 0.43725433\n",
            "Iteration 43, loss = 0.43365221\n",
            "Iteration 44, loss = 0.43129766\n",
            "Iteration 45, loss = 0.42861137\n",
            "Iteration 46, loss = 0.42716794\n",
            "Iteration 47, loss = 0.42346535\n",
            "Iteration 48, loss = 0.42072372\n",
            "Iteration 49, loss = 0.41939502\n",
            "Iteration 50, loss = 0.41611268\n",
            "Iteration 51, loss = 0.41355844\n",
            "Iteration 52, loss = 0.41052013\n",
            "Iteration 53, loss = 0.40827306\n",
            "Iteration 54, loss = 0.40638336\n",
            "Iteration 55, loss = 0.40410885\n",
            "Iteration 56, loss = 0.40162662\n",
            "Iteration 57, loss = 0.39817418\n",
            "Iteration 58, loss = 0.39582942\n",
            "Iteration 59, loss = 0.39374488\n",
            "Iteration 60, loss = 0.39152737\n",
            "Iteration 61, loss = 0.38912523\n",
            "Iteration 62, loss = 0.38657174\n",
            "Iteration 63, loss = 0.38385211\n",
            "Iteration 64, loss = 0.38138042\n",
            "Iteration 65, loss = 0.37794795\n",
            "Iteration 66, loss = 0.37729521\n",
            "Iteration 67, loss = 0.37423726\n",
            "Iteration 68, loss = 0.37233625\n",
            "Iteration 69, loss = 0.36923501\n",
            "Iteration 70, loss = 0.36680634\n",
            "Iteration 71, loss = 0.36610237\n",
            "Iteration 72, loss = 0.36120981\n",
            "Iteration 73, loss = 0.35982558\n",
            "Iteration 74, loss = 0.35881807\n",
            "Iteration 75, loss = 0.35557574\n",
            "Iteration 76, loss = 0.35411756\n",
            "Iteration 77, loss = 0.35070215\n",
            "Iteration 78, loss = 0.34851989\n",
            "Iteration 79, loss = 0.34636274\n",
            "Iteration 80, loss = 0.34409838\n",
            "Iteration 81, loss = 0.34198690\n",
            "Iteration 82, loss = 0.34090356\n",
            "Iteration 83, loss = 0.33958558\n",
            "Iteration 84, loss = 0.33533067\n",
            "Iteration 85, loss = 0.33418612\n",
            "Iteration 86, loss = 0.33174977\n",
            "Iteration 87, loss = 0.32962011\n",
            "Iteration 88, loss = 0.32750316\n",
            "Iteration 89, loss = 0.32734855\n",
            "Iteration 90, loss = 0.32590551\n",
            "Iteration 91, loss = 0.32160544\n",
            "Iteration 92, loss = 0.32060591\n",
            "Iteration 93, loss = 0.31933200\n",
            "Iteration 94, loss = 0.31574555\n",
            "Iteration 95, loss = 0.31571441\n",
            "Iteration 96, loss = 0.31461598\n",
            "Iteration 97, loss = 0.31216320\n",
            "Iteration 98, loss = 0.31025428\n",
            "Iteration 99, loss = 0.30672934\n",
            "Iteration 100, loss = 0.30567944\n",
            "Iteration 101, loss = 0.30453936\n",
            "Iteration 102, loss = 0.30169898\n",
            "Iteration 103, loss = 0.30168914\n",
            "Iteration 104, loss = 0.29780305\n",
            "Iteration 105, loss = 0.29655456\n",
            "Iteration 106, loss = 0.29493827\n",
            "Iteration 107, loss = 0.29281988\n",
            "Iteration 108, loss = 0.29266600\n",
            "Iteration 109, loss = 0.29073619\n",
            "Iteration 110, loss = 0.28847277\n",
            "Iteration 111, loss = 0.28847386\n",
            "Iteration 112, loss = 0.28532152\n",
            "Iteration 113, loss = 0.28384294\n",
            "Iteration 114, loss = 0.28227239\n",
            "Iteration 115, loss = 0.28074136\n",
            "Iteration 116, loss = 0.28029582\n",
            "Iteration 117, loss = 0.27817581\n",
            "Iteration 118, loss = 0.27859101\n",
            "Iteration 119, loss = 0.27525386\n",
            "Iteration 120, loss = 0.27502722\n",
            "Iteration 121, loss = 0.27164168\n",
            "Iteration 122, loss = 0.27073658\n",
            "Iteration 123, loss = 0.26973177\n",
            "Iteration 124, loss = 0.26795480\n",
            "Iteration 125, loss = 0.26746706\n",
            "Iteration 126, loss = 0.26456625\n",
            "Iteration 127, loss = 0.26481601\n",
            "Iteration 128, loss = 0.26273527\n",
            "Iteration 129, loss = 0.26055849\n",
            "Iteration 130, loss = 0.26171221\n",
            "Iteration 131, loss = 0.25794466\n",
            "Iteration 132, loss = 0.25811751\n",
            "Iteration 133, loss = 0.25492242\n",
            "Iteration 134, loss = 0.25445576\n",
            "Iteration 135, loss = 0.25305159\n",
            "Iteration 136, loss = 0.25328192\n",
            "Iteration 137, loss = 0.25188865\n",
            "Iteration 138, loss = 0.24983422\n",
            "Iteration 139, loss = 0.24770170\n",
            "Iteration 140, loss = 0.24700060\n",
            "Iteration 141, loss = 0.24481542\n",
            "Iteration 142, loss = 0.24527230\n",
            "Iteration 143, loss = 0.24411033\n",
            "Iteration 144, loss = 0.24217084\n",
            "Iteration 145, loss = 0.24066441\n",
            "Iteration 146, loss = 0.24101044\n",
            "Iteration 147, loss = 0.23868641\n",
            "Iteration 148, loss = 0.23808406\n",
            "Iteration 149, loss = 0.23771499\n",
            "Iteration 150, loss = 0.23562329\n",
            "Iteration 151, loss = 0.23434046\n",
            "Iteration 152, loss = 0.23305787\n",
            "Iteration 153, loss = 0.23196585\n",
            "Iteration 154, loss = 0.23083395\n",
            "Iteration 155, loss = 0.22941953\n",
            "Iteration 156, loss = 0.22770880\n",
            "Iteration 157, loss = 0.22651403\n",
            "Iteration 158, loss = 0.22730300\n",
            "Iteration 159, loss = 0.22488348\n",
            "Iteration 160, loss = 0.22340312\n",
            "Iteration 161, loss = 0.22256296\n",
            "Iteration 162, loss = 0.22298599\n",
            "Iteration 163, loss = 0.22228093\n",
            "Iteration 164, loss = 0.21955738\n",
            "Iteration 165, loss = 0.21961475\n",
            "Iteration 166, loss = 0.21802763\n",
            "Iteration 167, loss = 0.21803896\n",
            "Iteration 168, loss = 0.21646210\n",
            "Iteration 169, loss = 0.21417154\n",
            "Iteration 170, loss = 0.21243419\n",
            "Iteration 171, loss = 0.21296258\n",
            "Iteration 172, loss = 0.21188841\n",
            "Iteration 173, loss = 0.21012501\n",
            "Iteration 174, loss = 0.21147086\n",
            "Iteration 175, loss = 0.20877796\n",
            "Iteration 176, loss = 0.20906340\n",
            "Iteration 177, loss = 0.20701154\n",
            "Iteration 178, loss = 0.20567209\n",
            "Iteration 179, loss = 0.20457870\n",
            "Iteration 180, loss = 0.20413500\n",
            "Iteration 181, loss = 0.20362890\n",
            "Iteration 182, loss = 0.20022540\n",
            "Iteration 183, loss = 0.20220317\n",
            "Iteration 184, loss = 0.19928848\n",
            "Iteration 185, loss = 0.20020983\n",
            "Iteration 186, loss = 0.19822411\n",
            "Iteration 187, loss = 0.19776692\n",
            "Iteration 188, loss = 0.19645912\n",
            "Iteration 189, loss = 0.19601222\n",
            "Iteration 190, loss = 0.19508547\n",
            "Iteration 191, loss = 0.19361651\n",
            "Iteration 192, loss = 0.19197067\n",
            "Iteration 193, loss = 0.19184814\n",
            "Iteration 194, loss = 0.19094532\n",
            "Iteration 195, loss = 0.19394163\n",
            "Iteration 196, loss = 0.19073890\n",
            "Iteration 197, loss = 0.18816051\n",
            "Iteration 198, loss = 0.18699723\n",
            "Iteration 199, loss = 0.18668861\n",
            "Iteration 200, loss = 0.18679162\n"
          ],
          "name": "stdout"
        },
        {
          "output_type": "stream",
          "text": [
            "/usr/local/lib/python3.6/dist-packages/sklearn/neural_network/_multilayer_perceptron.py:571: ConvergenceWarning: Stochastic Optimizer: Maximum iterations (200) reached and the optimization hasn't converged yet.\n",
            "  % self.max_iter, ConvergenceWarning)\n"
          ],
          "name": "stderr"
        },
        {
          "output_type": "execute_result",
          "data": {
            "text/plain": [
              "MLPClassifier(activation='relu', alpha=0.0001, batch_size='auto', beta_1=0.9,\n",
              "              beta_2=0.999, early_stopping=False, epsilon=1e-08,\n",
              "              hidden_layer_sizes=(50,), learning_rate='constant',\n",
              "              learning_rate_init=0.001, max_fun=15000, max_iter=200,\n",
              "              momentum=0.9, n_iter_no_change=10, nesterovs_momentum=True,\n",
              "              power_t=0.5, random_state=1, shuffle=True, solver='adam',\n",
              "              tol=0.0001, validation_fraction=0.1, verbose=1, warm_start=False)"
            ]
          },
          "metadata": {
            "tags": []
          },
          "execution_count": 46
        }
      ]
    },
    {
      "cell_type": "markdown",
      "metadata": {
        "id": "FvbPQgQCuK1F"
      },
      "source": [
        "Evaluamos en el mismo set de train:"
      ]
    },
    {
      "cell_type": "code",
      "metadata": {
        "id": "Dn9BPFyqQ1Az",
        "colab": {
          "base_uri": "https://localhost:8080/"
        },
        "outputId": "72e87fa0-4a3f-4c89-9b8a-0a30fe3dbd04"
      },
      "source": [
        "clf.score(X_train_avg, y_train)"
      ],
      "execution_count": null,
      "outputs": [
        {
          "output_type": "execute_result",
          "data": {
            "text/plain": [
              "0.9382"
            ]
          },
          "metadata": {
            "tags": []
          },
          "execution_count": 47
        }
      ]
    },
    {
      "cell_type": "markdown",
      "metadata": {
        "id": "_DGQQLlUuOjz"
      },
      "source": [
        "Calculamos el error absoluto medio (MAE) en el set de test (entre más cercano a 0, mejor):"
      ]
    },
    {
      "cell_type": "code",
      "metadata": {
        "id": "_rKHDU-8Q5tm",
        "colab": {
          "base_uri": "https://localhost:8080/"
        },
        "outputId": "281f22ab-6130-4c90-e863-1df77b71ff0a"
      },
      "source": [
        "pred_proba = clf.predict_proba(X_test_avg)\n",
        "sum(abs(pred_proba.T[1] - y_test)) / len(y_test)"
      ],
      "execution_count": null,
      "outputs": [
        {
          "output_type": "execute_result",
          "data": {
            "text/plain": [
              "0.288449713808073"
            ]
          },
          "metadata": {
            "tags": []
          },
          "execution_count": 48
        }
      ]
    },
    {
      "cell_type": "markdown",
      "metadata": {
        "id": "QePwYykuutvc"
      },
      "source": [
        "**Actividad 5**\n",
        "\n",
        "Comente los resultados obtenidos por ambas estrategias. ¿Cómo interpreta los valores de error absoluto medio obtenidos en cada caso? ¿Son buenos resultados, malos, aceptables? ¿Cuál de las dos estrategias (promedio o suma) se desempeñó mejor y cuál cree usted que sea la explicación de la diferencia?\n",
        "\n",
        "**Su respuesta:** \n",
        "Usar la suma resulta en un MAE de 0.31, mientras que el promedio tiene un mejor MAE de 0.29, lo que indica que el promedio es mejor. Me imagino que el promedio es mejor porque la suma le da mucho peso a vectores con mayor magnitud, mientras que el promedio es mas representativo de la diversidad de los vectores.\n",
        "Con respecto a si es bueno o malo el resultado, creo que depende del contexto. Si es para un analisis preliminar en un proyecto, para entender la diversidad en el texto como se trabaja, puede ser una util herramienta. Pero para lleva a produccion en un proyecto, me imagino que se necesitaria una mejor precision del modelo. "
      ]
    },
    {
      "cell_type": "markdown",
      "metadata": {
        "id": "q0tK3eVcwS1V"
      },
      "source": [
        "**Actividad 6**\n",
        "\n",
        "Los métodos para obtener Tweet Vectors recién vistos son bastante sencillos, simplemente promediamos/sumamos los embeddings de las palabras. Sin duda deben haber estrategias mejores. ¿Qué otras estrategias posiblemente más sofisticadas podrían sacar mayor provecho de los word embeddings y obtener mejores representaciones para los Tweets? Mencione al menos 2 estrategias distintas que se le ocurran y justifique por qué podrían ser mejores en la tarea de Análisis de Sentimiento:\n",
        "\n",
        "**Su respuesta:**\n",
        "\n",
        "Un metodo que se me occure que puede dar mejores resultados seria incluir emojis en el analisis de sentimientos. Mucha gente usa emojis frecuentemente, y si el modelo fuese capas de analizar embeddings junto con los emojis, me imagino que seria una gran mejora.\n",
        "Otra mejora seria usar un RNN o LSTM, que usa la secuencia de palabras para entender el significado de la frase. El modelo simple de MLPClassifier no considera el orden de palabras."
      ]
    },
    {
      "cell_type": "markdown",
      "metadata": {
        "id": "hhRToAM38o82"
      },
      "source": [
        "**Actividad 7**\n",
        "El preprocesamiento y limpieza que hicimos de los tweets quizás no es el mejor y posiblemente se está perdiendo algo de información que podría ser útil para capturar de mejor manera los sentimientos expresados. ¿Se le ocurren mejoras a dicha etapa?\n",
        "\n",
        "**Su respuesta:**\n",
        "\n",
        "En la limpieza se borran los emojis, seria util mantener y procesar los emojis para incluirlos en el modelo.\n",
        "Tambien se usan los stopwords de nltk, se mejorarian los resultados refinando el listado de stopwords."
      ]
    },
    {
      "cell_type": "code",
      "metadata": {
        "id": "F_slm2eCGMXt"
      },
      "source": [
        ""
      ],
      "execution_count": null,
      "outputs": []
    }
  ]
}