{
  "nbformat": 4,
  "nbformat_minor": 0,
  "metadata": {
    "colab": {
      "name": "Lab3_FranciscoMena.ipynb",
      "provenance": [],
      "collapsed_sections": [],
      "toc_visible": true
    },
    "kernelspec": {
      "name": "python3",
      "display_name": "Python 3"
    },
    "accelerator": "GPU",
    "widgets": {
      "application/vnd.jupyter.widget-state+json": {
        "44b20d1ad695475e91e371b482e23314": {
          "model_module": "@jupyter-widgets/controls",
          "model_name": "HBoxModel",
          "state": {
            "_view_name": "HBoxView",
            "_dom_classes": [],
            "_model_name": "HBoxModel",
            "_view_module": "@jupyter-widgets/controls",
            "_model_module_version": "1.5.0",
            "_view_count": null,
            "_view_module_version": "1.5.0",
            "box_style": "",
            "layout": "IPY_MODEL_4a74b67a95bb4719a72279b0df914fde",
            "_model_module": "@jupyter-widgets/controls",
            "children": [
              "IPY_MODEL_8e4c4e94c65849009ddbd0759fe24367",
              "IPY_MODEL_b1f1c99d24464407b47f5dde7dcb897c"
            ]
          }
        },
        "4a74b67a95bb4719a72279b0df914fde": {
          "model_module": "@jupyter-widgets/base",
          "model_name": "LayoutModel",
          "state": {
            "_view_name": "LayoutView",
            "grid_template_rows": null,
            "right": null,
            "justify_content": null,
            "_view_module": "@jupyter-widgets/base",
            "overflow": null,
            "_model_module_version": "1.2.0",
            "_view_count": null,
            "flex_flow": null,
            "width": null,
            "min_width": null,
            "border": null,
            "align_items": null,
            "bottom": null,
            "_model_module": "@jupyter-widgets/base",
            "top": null,
            "grid_column": null,
            "overflow_y": null,
            "overflow_x": null,
            "grid_auto_flow": null,
            "grid_area": null,
            "grid_template_columns": null,
            "flex": null,
            "_model_name": "LayoutModel",
            "justify_items": null,
            "grid_row": null,
            "max_height": null,
            "align_content": null,
            "visibility": null,
            "align_self": null,
            "height": null,
            "min_height": null,
            "padding": null,
            "grid_auto_rows": null,
            "grid_gap": null,
            "max_width": null,
            "order": null,
            "_view_module_version": "1.2.0",
            "grid_template_areas": null,
            "object_position": null,
            "object_fit": null,
            "grid_auto_columns": null,
            "margin": null,
            "display": null,
            "left": null
          }
        },
        "8e4c4e94c65849009ddbd0759fe24367": {
          "model_module": "@jupyter-widgets/controls",
          "model_name": "FloatProgressModel",
          "state": {
            "_view_name": "ProgressView",
            "style": "IPY_MODEL_dc364dcf0aa3425588ee15869c655a9f",
            "_dom_classes": [],
            "description": "Downloading: 100%",
            "_model_name": "FloatProgressModel",
            "bar_style": "success",
            "max": 798011,
            "_view_module": "@jupyter-widgets/controls",
            "_model_module_version": "1.5.0",
            "value": 798011,
            "_view_count": null,
            "_view_module_version": "1.5.0",
            "orientation": "horizontal",
            "min": 0,
            "description_tooltip": null,
            "_model_module": "@jupyter-widgets/controls",
            "layout": "IPY_MODEL_e370afae4b64444783f8c83bbbe58440"
          }
        },
        "b1f1c99d24464407b47f5dde7dcb897c": {
          "model_module": "@jupyter-widgets/controls",
          "model_name": "HTMLModel",
          "state": {
            "_view_name": "HTMLView",
            "style": "IPY_MODEL_1154dc0129c74bde9b0da62a884e739f",
            "_dom_classes": [],
            "description": "",
            "_model_name": "HTMLModel",
            "placeholder": "​",
            "_view_module": "@jupyter-widgets/controls",
            "_model_module_version": "1.5.0",
            "value": " 798k/798k [00:00&lt;00:00, 5.93MB/s]",
            "_view_count": null,
            "_view_module_version": "1.5.0",
            "description_tooltip": null,
            "_model_module": "@jupyter-widgets/controls",
            "layout": "IPY_MODEL_d4b7732b80784ef289c608e82d30998a"
          }
        },
        "dc364dcf0aa3425588ee15869c655a9f": {
          "model_module": "@jupyter-widgets/controls",
          "model_name": "ProgressStyleModel",
          "state": {
            "_view_name": "StyleView",
            "_model_name": "ProgressStyleModel",
            "description_width": "initial",
            "_view_module": "@jupyter-widgets/base",
            "_model_module_version": "1.5.0",
            "_view_count": null,
            "_view_module_version": "1.2.0",
            "bar_color": null,
            "_model_module": "@jupyter-widgets/controls"
          }
        },
        "e370afae4b64444783f8c83bbbe58440": {
          "model_module": "@jupyter-widgets/base",
          "model_name": "LayoutModel",
          "state": {
            "_view_name": "LayoutView",
            "grid_template_rows": null,
            "right": null,
            "justify_content": null,
            "_view_module": "@jupyter-widgets/base",
            "overflow": null,
            "_model_module_version": "1.2.0",
            "_view_count": null,
            "flex_flow": null,
            "width": null,
            "min_width": null,
            "border": null,
            "align_items": null,
            "bottom": null,
            "_model_module": "@jupyter-widgets/base",
            "top": null,
            "grid_column": null,
            "overflow_y": null,
            "overflow_x": null,
            "grid_auto_flow": null,
            "grid_area": null,
            "grid_template_columns": null,
            "flex": null,
            "_model_name": "LayoutModel",
            "justify_items": null,
            "grid_row": null,
            "max_height": null,
            "align_content": null,
            "visibility": null,
            "align_self": null,
            "height": null,
            "min_height": null,
            "padding": null,
            "grid_auto_rows": null,
            "grid_gap": null,
            "max_width": null,
            "order": null,
            "_view_module_version": "1.2.0",
            "grid_template_areas": null,
            "object_position": null,
            "object_fit": null,
            "grid_auto_columns": null,
            "margin": null,
            "display": null,
            "left": null
          }
        },
        "1154dc0129c74bde9b0da62a884e739f": {
          "model_module": "@jupyter-widgets/controls",
          "model_name": "DescriptionStyleModel",
          "state": {
            "_view_name": "StyleView",
            "_model_name": "DescriptionStyleModel",
            "description_width": "",
            "_view_module": "@jupyter-widgets/base",
            "_model_module_version": "1.5.0",
            "_view_count": null,
            "_view_module_version": "1.2.0",
            "_model_module": "@jupyter-widgets/controls"
          }
        },
        "d4b7732b80784ef289c608e82d30998a": {
          "model_module": "@jupyter-widgets/base",
          "model_name": "LayoutModel",
          "state": {
            "_view_name": "LayoutView",
            "grid_template_rows": null,
            "right": null,
            "justify_content": null,
            "_view_module": "@jupyter-widgets/base",
            "overflow": null,
            "_model_module_version": "1.2.0",
            "_view_count": null,
            "flex_flow": null,
            "width": null,
            "min_width": null,
            "border": null,
            "align_items": null,
            "bottom": null,
            "_model_module": "@jupyter-widgets/base",
            "top": null,
            "grid_column": null,
            "overflow_y": null,
            "overflow_x": null,
            "grid_auto_flow": null,
            "grid_area": null,
            "grid_template_columns": null,
            "flex": null,
            "_model_name": "LayoutModel",
            "justify_items": null,
            "grid_row": null,
            "max_height": null,
            "align_content": null,
            "visibility": null,
            "align_self": null,
            "height": null,
            "min_height": null,
            "padding": null,
            "grid_auto_rows": null,
            "grid_gap": null,
            "max_width": null,
            "order": null,
            "_view_module_version": "1.2.0",
            "grid_template_areas": null,
            "object_position": null,
            "object_fit": null,
            "grid_auto_columns": null,
            "margin": null,
            "display": null,
            "left": null
          }
        },
        "1fe1684c089840a1b2a9a95af7ecaab4": {
          "model_module": "@jupyter-widgets/controls",
          "model_name": "HBoxModel",
          "state": {
            "_view_name": "HBoxView",
            "_dom_classes": [],
            "_model_name": "HBoxModel",
            "_view_module": "@jupyter-widgets/controls",
            "_model_module_version": "1.5.0",
            "_view_count": null,
            "_view_module_version": "1.5.0",
            "box_style": "",
            "layout": "IPY_MODEL_d57f772829a0450086afee69a698e8e7",
            "_model_module": "@jupyter-widgets/controls",
            "children": [
              "IPY_MODEL_c6af602c406d4276b0d900ea1531fb48",
              "IPY_MODEL_d6cb60fefb68463b931747d033c1e642"
            ]
          }
        },
        "d57f772829a0450086afee69a698e8e7": {
          "model_module": "@jupyter-widgets/base",
          "model_name": "LayoutModel",
          "state": {
            "_view_name": "LayoutView",
            "grid_template_rows": null,
            "right": null,
            "justify_content": null,
            "_view_module": "@jupyter-widgets/base",
            "overflow": null,
            "_model_module_version": "1.2.0",
            "_view_count": null,
            "flex_flow": null,
            "width": null,
            "min_width": null,
            "border": null,
            "align_items": null,
            "bottom": null,
            "_model_module": "@jupyter-widgets/base",
            "top": null,
            "grid_column": null,
            "overflow_y": null,
            "overflow_x": null,
            "grid_auto_flow": null,
            "grid_area": null,
            "grid_template_columns": null,
            "flex": null,
            "_model_name": "LayoutModel",
            "justify_items": null,
            "grid_row": null,
            "max_height": null,
            "align_content": null,
            "visibility": null,
            "align_self": null,
            "height": null,
            "min_height": null,
            "padding": null,
            "grid_auto_rows": null,
            "grid_gap": null,
            "max_width": null,
            "order": null,
            "_view_module_version": "1.2.0",
            "grid_template_areas": null,
            "object_position": null,
            "object_fit": null,
            "grid_auto_columns": null,
            "margin": null,
            "display": null,
            "left": null
          }
        },
        "c6af602c406d4276b0d900ea1531fb48": {
          "model_module": "@jupyter-widgets/controls",
          "model_name": "FloatProgressModel",
          "state": {
            "_view_name": "ProgressView",
            "style": "IPY_MODEL_a7f6c4921a8542d38593c07d14a0c352",
            "_dom_classes": [],
            "description": "Downloading: 100%",
            "_model_name": "FloatProgressModel",
            "bar_style": "success",
            "max": 760,
            "_view_module": "@jupyter-widgets/controls",
            "_model_module_version": "1.5.0",
            "value": 760,
            "_view_count": null,
            "_view_module_version": "1.5.0",
            "orientation": "horizontal",
            "min": 0,
            "description_tooltip": null,
            "_model_module": "@jupyter-widgets/controls",
            "layout": "IPY_MODEL_ec8caff07c694eecb91f0986b9075012"
          }
        },
        "d6cb60fefb68463b931747d033c1e642": {
          "model_module": "@jupyter-widgets/controls",
          "model_name": "HTMLModel",
          "state": {
            "_view_name": "HTMLView",
            "style": "IPY_MODEL_0f7563ae35654ff9a1522ae1d389353f",
            "_dom_classes": [],
            "description": "",
            "_model_name": "HTMLModel",
            "placeholder": "​",
            "_view_module": "@jupyter-widgets/controls",
            "_model_module_version": "1.5.0",
            "value": " 760/760 [00:00&lt;00:00, 1.10kB/s]",
            "_view_count": null,
            "_view_module_version": "1.5.0",
            "description_tooltip": null,
            "_model_module": "@jupyter-widgets/controls",
            "layout": "IPY_MODEL_3bd7ed9d21ad4d9985b3d080c68496b7"
          }
        },
        "a7f6c4921a8542d38593c07d14a0c352": {
          "model_module": "@jupyter-widgets/controls",
          "model_name": "ProgressStyleModel",
          "state": {
            "_view_name": "StyleView",
            "_model_name": "ProgressStyleModel",
            "description_width": "initial",
            "_view_module": "@jupyter-widgets/base",
            "_model_module_version": "1.5.0",
            "_view_count": null,
            "_view_module_version": "1.2.0",
            "bar_color": null,
            "_model_module": "@jupyter-widgets/controls"
          }
        },
        "ec8caff07c694eecb91f0986b9075012": {
          "model_module": "@jupyter-widgets/base",
          "model_name": "LayoutModel",
          "state": {
            "_view_name": "LayoutView",
            "grid_template_rows": null,
            "right": null,
            "justify_content": null,
            "_view_module": "@jupyter-widgets/base",
            "overflow": null,
            "_model_module_version": "1.2.0",
            "_view_count": null,
            "flex_flow": null,
            "width": null,
            "min_width": null,
            "border": null,
            "align_items": null,
            "bottom": null,
            "_model_module": "@jupyter-widgets/base",
            "top": null,
            "grid_column": null,
            "overflow_y": null,
            "overflow_x": null,
            "grid_auto_flow": null,
            "grid_area": null,
            "grid_template_columns": null,
            "flex": null,
            "_model_name": "LayoutModel",
            "justify_items": null,
            "grid_row": null,
            "max_height": null,
            "align_content": null,
            "visibility": null,
            "align_self": null,
            "height": null,
            "min_height": null,
            "padding": null,
            "grid_auto_rows": null,
            "grid_gap": null,
            "max_width": null,
            "order": null,
            "_view_module_version": "1.2.0",
            "grid_template_areas": null,
            "object_position": null,
            "object_fit": null,
            "grid_auto_columns": null,
            "margin": null,
            "display": null,
            "left": null
          }
        },
        "0f7563ae35654ff9a1522ae1d389353f": {
          "model_module": "@jupyter-widgets/controls",
          "model_name": "DescriptionStyleModel",
          "state": {
            "_view_name": "StyleView",
            "_model_name": "DescriptionStyleModel",
            "description_width": "",
            "_view_module": "@jupyter-widgets/base",
            "_model_module_version": "1.5.0",
            "_view_count": null,
            "_view_module_version": "1.2.0",
            "_model_module": "@jupyter-widgets/controls"
          }
        },
        "3bd7ed9d21ad4d9985b3d080c68496b7": {
          "model_module": "@jupyter-widgets/base",
          "model_name": "LayoutModel",
          "state": {
            "_view_name": "LayoutView",
            "grid_template_rows": null,
            "right": null,
            "justify_content": null,
            "_view_module": "@jupyter-widgets/base",
            "overflow": null,
            "_model_module_version": "1.2.0",
            "_view_count": null,
            "flex_flow": null,
            "width": null,
            "min_width": null,
            "border": null,
            "align_items": null,
            "bottom": null,
            "_model_module": "@jupyter-widgets/base",
            "top": null,
            "grid_column": null,
            "overflow_y": null,
            "overflow_x": null,
            "grid_auto_flow": null,
            "grid_area": null,
            "grid_template_columns": null,
            "flex": null,
            "_model_name": "LayoutModel",
            "justify_items": null,
            "grid_row": null,
            "max_height": null,
            "align_content": null,
            "visibility": null,
            "align_self": null,
            "height": null,
            "min_height": null,
            "padding": null,
            "grid_auto_rows": null,
            "grid_gap": null,
            "max_width": null,
            "order": null,
            "_view_module_version": "1.2.0",
            "grid_template_areas": null,
            "object_position": null,
            "object_fit": null,
            "grid_auto_columns": null,
            "margin": null,
            "display": null,
            "left": null
          }
        },
        "4bb56cc67d17478b9571f78b1938ffed": {
          "model_module": "@jupyter-widgets/controls",
          "model_name": "HBoxModel",
          "state": {
            "_view_name": "HBoxView",
            "_dom_classes": [],
            "_model_name": "HBoxModel",
            "_view_module": "@jupyter-widgets/controls",
            "_model_module_version": "1.5.0",
            "_view_count": null,
            "_view_module_version": "1.5.0",
            "box_style": "",
            "layout": "IPY_MODEL_820520798a544472904d7c77852ce829",
            "_model_module": "@jupyter-widgets/controls",
            "children": [
              "IPY_MODEL_0870f306ebf04a97980dd4f2ecfe1fc8",
              "IPY_MODEL_33400f4db1914c2890a9dd42da51f4bc"
            ]
          }
        },
        "820520798a544472904d7c77852ce829": {
          "model_module": "@jupyter-widgets/base",
          "model_name": "LayoutModel",
          "state": {
            "_view_name": "LayoutView",
            "grid_template_rows": null,
            "right": null,
            "justify_content": null,
            "_view_module": "@jupyter-widgets/base",
            "overflow": null,
            "_model_module_version": "1.2.0",
            "_view_count": null,
            "flex_flow": null,
            "width": null,
            "min_width": null,
            "border": null,
            "align_items": null,
            "bottom": null,
            "_model_module": "@jupyter-widgets/base",
            "top": null,
            "grid_column": null,
            "overflow_y": null,
            "overflow_x": null,
            "grid_auto_flow": null,
            "grid_area": null,
            "grid_template_columns": null,
            "flex": null,
            "_model_name": "LayoutModel",
            "justify_items": null,
            "grid_row": null,
            "max_height": null,
            "align_content": null,
            "visibility": null,
            "align_self": null,
            "height": null,
            "min_height": null,
            "padding": null,
            "grid_auto_rows": null,
            "grid_gap": null,
            "max_width": null,
            "order": null,
            "_view_module_version": "1.2.0",
            "grid_template_areas": null,
            "object_position": null,
            "object_fit": null,
            "grid_auto_columns": null,
            "margin": null,
            "display": null,
            "left": null
          }
        },
        "0870f306ebf04a97980dd4f2ecfe1fc8": {
          "model_module": "@jupyter-widgets/controls",
          "model_name": "FloatProgressModel",
          "state": {
            "_view_name": "ProgressView",
            "style": "IPY_MODEL_b841bc461e9349c89bbc9d3542a063eb",
            "_dom_classes": [],
            "description": "Downloading: 100%",
            "_model_name": "FloatProgressModel",
            "bar_style": "success",
            "max": 467042463,
            "_view_module": "@jupyter-widgets/controls",
            "_model_module_version": "1.5.0",
            "value": 467042463,
            "_view_count": null,
            "_view_module_version": "1.5.0",
            "orientation": "horizontal",
            "min": 0,
            "description_tooltip": null,
            "_model_module": "@jupyter-widgets/controls",
            "layout": "IPY_MODEL_169d07e28ef94ead8f3bd0c86a39f898"
          }
        },
        "33400f4db1914c2890a9dd42da51f4bc": {
          "model_module": "@jupyter-widgets/controls",
          "model_name": "HTMLModel",
          "state": {
            "_view_name": "HTMLView",
            "style": "IPY_MODEL_934ce009b31847ba95671db55c9c6dee",
            "_dom_classes": [],
            "description": "",
            "_model_name": "HTMLModel",
            "placeholder": "​",
            "_view_module": "@jupyter-widgets/controls",
            "_model_module_version": "1.5.0",
            "value": " 467M/467M [00:13&lt;00:00, 33.9MB/s]",
            "_view_count": null,
            "_view_module_version": "1.5.0",
            "description_tooltip": null,
            "_model_module": "@jupyter-widgets/controls",
            "layout": "IPY_MODEL_fb2099e6416e496fbb9da200e54f0a67"
          }
        },
        "b841bc461e9349c89bbc9d3542a063eb": {
          "model_module": "@jupyter-widgets/controls",
          "model_name": "ProgressStyleModel",
          "state": {
            "_view_name": "StyleView",
            "_model_name": "ProgressStyleModel",
            "description_width": "initial",
            "_view_module": "@jupyter-widgets/base",
            "_model_module_version": "1.5.0",
            "_view_count": null,
            "_view_module_version": "1.2.0",
            "bar_color": null,
            "_model_module": "@jupyter-widgets/controls"
          }
        },
        "169d07e28ef94ead8f3bd0c86a39f898": {
          "model_module": "@jupyter-widgets/base",
          "model_name": "LayoutModel",
          "state": {
            "_view_name": "LayoutView",
            "grid_template_rows": null,
            "right": null,
            "justify_content": null,
            "_view_module": "@jupyter-widgets/base",
            "overflow": null,
            "_model_module_version": "1.2.0",
            "_view_count": null,
            "flex_flow": null,
            "width": null,
            "min_width": null,
            "border": null,
            "align_items": null,
            "bottom": null,
            "_model_module": "@jupyter-widgets/base",
            "top": null,
            "grid_column": null,
            "overflow_y": null,
            "overflow_x": null,
            "grid_auto_flow": null,
            "grid_area": null,
            "grid_template_columns": null,
            "flex": null,
            "_model_name": "LayoutModel",
            "justify_items": null,
            "grid_row": null,
            "max_height": null,
            "align_content": null,
            "visibility": null,
            "align_self": null,
            "height": null,
            "min_height": null,
            "padding": null,
            "grid_auto_rows": null,
            "grid_gap": null,
            "max_width": null,
            "order": null,
            "_view_module_version": "1.2.0",
            "grid_template_areas": null,
            "object_position": null,
            "object_fit": null,
            "grid_auto_columns": null,
            "margin": null,
            "display": null,
            "left": null
          }
        },
        "934ce009b31847ba95671db55c9c6dee": {
          "model_module": "@jupyter-widgets/controls",
          "model_name": "DescriptionStyleModel",
          "state": {
            "_view_name": "StyleView",
            "_model_name": "DescriptionStyleModel",
            "description_width": "",
            "_view_module": "@jupyter-widgets/base",
            "_model_module_version": "1.5.0",
            "_view_count": null,
            "_view_module_version": "1.2.0",
            "_model_module": "@jupyter-widgets/controls"
          }
        },
        "fb2099e6416e496fbb9da200e54f0a67": {
          "model_module": "@jupyter-widgets/base",
          "model_name": "LayoutModel",
          "state": {
            "_view_name": "LayoutView",
            "grid_template_rows": null,
            "right": null,
            "justify_content": null,
            "_view_module": "@jupyter-widgets/base",
            "overflow": null,
            "_model_module_version": "1.2.0",
            "_view_count": null,
            "flex_flow": null,
            "width": null,
            "min_width": null,
            "border": null,
            "align_items": null,
            "bottom": null,
            "_model_module": "@jupyter-widgets/base",
            "top": null,
            "grid_column": null,
            "overflow_y": null,
            "overflow_x": null,
            "grid_auto_flow": null,
            "grid_area": null,
            "grid_template_columns": null,
            "flex": null,
            "_model_name": "LayoutModel",
            "justify_items": null,
            "grid_row": null,
            "max_height": null,
            "align_content": null,
            "visibility": null,
            "align_self": null,
            "height": null,
            "min_height": null,
            "padding": null,
            "grid_auto_rows": null,
            "grid_gap": null,
            "max_width": null,
            "order": null,
            "_view_module_version": "1.2.0",
            "grid_template_areas": null,
            "object_position": null,
            "object_fit": null,
            "grid_auto_columns": null,
            "margin": null,
            "display": null,
            "left": null
          }
        },
        "3cc897b7d7e14b12bf9556866d078937": {
          "model_module": "@jupyter-widgets/controls",
          "model_name": "HBoxModel",
          "state": {
            "_view_name": "HBoxView",
            "_dom_classes": [],
            "_model_name": "HBoxModel",
            "_view_module": "@jupyter-widgets/controls",
            "_model_module_version": "1.5.0",
            "_view_count": null,
            "_view_module_version": "1.5.0",
            "box_style": "",
            "layout": "IPY_MODEL_cf71df9b6aad4f60a01d31290e046305",
            "_model_module": "@jupyter-widgets/controls",
            "children": [
              "IPY_MODEL_1f6bc4c7062d409784f8e4c2abee31b7",
              "IPY_MODEL_881799996f9d4a9ebce12f679522b695"
            ]
          }
        },
        "cf71df9b6aad4f60a01d31290e046305": {
          "model_module": "@jupyter-widgets/base",
          "model_name": "LayoutModel",
          "state": {
            "_view_name": "LayoutView",
            "grid_template_rows": null,
            "right": null,
            "justify_content": null,
            "_view_module": "@jupyter-widgets/base",
            "overflow": null,
            "_model_module_version": "1.2.0",
            "_view_count": null,
            "flex_flow": null,
            "width": null,
            "min_width": null,
            "border": null,
            "align_items": null,
            "bottom": null,
            "_model_module": "@jupyter-widgets/base",
            "top": null,
            "grid_column": null,
            "overflow_y": null,
            "overflow_x": null,
            "grid_auto_flow": null,
            "grid_area": null,
            "grid_template_columns": null,
            "flex": null,
            "_model_name": "LayoutModel",
            "justify_items": null,
            "grid_row": null,
            "max_height": null,
            "align_content": null,
            "visibility": null,
            "align_self": null,
            "height": null,
            "min_height": null,
            "padding": null,
            "grid_auto_rows": null,
            "grid_gap": null,
            "max_width": null,
            "order": null,
            "_view_module_version": "1.2.0",
            "grid_template_areas": null,
            "object_position": null,
            "object_fit": null,
            "grid_auto_columns": null,
            "margin": null,
            "display": null,
            "left": null
          }
        },
        "1f6bc4c7062d409784f8e4c2abee31b7": {
          "model_module": "@jupyter-widgets/controls",
          "model_name": "FloatProgressModel",
          "state": {
            "_view_name": "ProgressView",
            "style": "IPY_MODEL_a2380aadfe114d1daf4682ffea47e410",
            "_dom_classes": [],
            "description": "Downloading: 100%",
            "_model_name": "FloatProgressModel",
            "bar_style": "success",
            "max": 791656,
            "_view_module": "@jupyter-widgets/controls",
            "_model_module_version": "1.5.0",
            "value": 791656,
            "_view_count": null,
            "_view_module_version": "1.5.0",
            "orientation": "horizontal",
            "min": 0,
            "description_tooltip": null,
            "_model_module": "@jupyter-widgets/controls",
            "layout": "IPY_MODEL_f4c3e11e64e949c9b766316431c06249"
          }
        },
        "881799996f9d4a9ebce12f679522b695": {
          "model_module": "@jupyter-widgets/controls",
          "model_name": "HTMLModel",
          "state": {
            "_view_name": "HTMLView",
            "style": "IPY_MODEL_63966f49141c436da37a114165f6c243",
            "_dom_classes": [],
            "description": "",
            "_model_name": "HTMLModel",
            "placeholder": "​",
            "_view_module": "@jupyter-widgets/controls",
            "_model_module_version": "1.5.0",
            "value": " 792k/792k [00:00&lt;00:00, 2.32MB/s]",
            "_view_count": null,
            "_view_module_version": "1.5.0",
            "description_tooltip": null,
            "_model_module": "@jupyter-widgets/controls",
            "layout": "IPY_MODEL_e00f37f94871415f91b89f9b79ffdd42"
          }
        },
        "a2380aadfe114d1daf4682ffea47e410": {
          "model_module": "@jupyter-widgets/controls",
          "model_name": "ProgressStyleModel",
          "state": {
            "_view_name": "StyleView",
            "_model_name": "ProgressStyleModel",
            "description_width": "initial",
            "_view_module": "@jupyter-widgets/base",
            "_model_module_version": "1.5.0",
            "_view_count": null,
            "_view_module_version": "1.2.0",
            "bar_color": null,
            "_model_module": "@jupyter-widgets/controls"
          }
        },
        "f4c3e11e64e949c9b766316431c06249": {
          "model_module": "@jupyter-widgets/base",
          "model_name": "LayoutModel",
          "state": {
            "_view_name": "LayoutView",
            "grid_template_rows": null,
            "right": null,
            "justify_content": null,
            "_view_module": "@jupyter-widgets/base",
            "overflow": null,
            "_model_module_version": "1.2.0",
            "_view_count": null,
            "flex_flow": null,
            "width": null,
            "min_width": null,
            "border": null,
            "align_items": null,
            "bottom": null,
            "_model_module": "@jupyter-widgets/base",
            "top": null,
            "grid_column": null,
            "overflow_y": null,
            "overflow_x": null,
            "grid_auto_flow": null,
            "grid_area": null,
            "grid_template_columns": null,
            "flex": null,
            "_model_name": "LayoutModel",
            "justify_items": null,
            "grid_row": null,
            "max_height": null,
            "align_content": null,
            "visibility": null,
            "align_self": null,
            "height": null,
            "min_height": null,
            "padding": null,
            "grid_auto_rows": null,
            "grid_gap": null,
            "max_width": null,
            "order": null,
            "_view_module_version": "1.2.0",
            "grid_template_areas": null,
            "object_position": null,
            "object_fit": null,
            "grid_auto_columns": null,
            "margin": null,
            "display": null,
            "left": null
          }
        },
        "63966f49141c436da37a114165f6c243": {
          "model_module": "@jupyter-widgets/controls",
          "model_name": "DescriptionStyleModel",
          "state": {
            "_view_name": "StyleView",
            "_model_name": "DescriptionStyleModel",
            "description_width": "",
            "_view_module": "@jupyter-widgets/base",
            "_model_module_version": "1.5.0",
            "_view_count": null,
            "_view_module_version": "1.2.0",
            "_model_module": "@jupyter-widgets/controls"
          }
        },
        "e00f37f94871415f91b89f9b79ffdd42": {
          "model_module": "@jupyter-widgets/base",
          "model_name": "LayoutModel",
          "state": {
            "_view_name": "LayoutView",
            "grid_template_rows": null,
            "right": null,
            "justify_content": null,
            "_view_module": "@jupyter-widgets/base",
            "overflow": null,
            "_model_module_version": "1.2.0",
            "_view_count": null,
            "flex_flow": null,
            "width": null,
            "min_width": null,
            "border": null,
            "align_items": null,
            "bottom": null,
            "_model_module": "@jupyter-widgets/base",
            "top": null,
            "grid_column": null,
            "overflow_y": null,
            "overflow_x": null,
            "grid_auto_flow": null,
            "grid_area": null,
            "grid_template_columns": null,
            "flex": null,
            "_model_name": "LayoutModel",
            "justify_items": null,
            "grid_row": null,
            "max_height": null,
            "align_content": null,
            "visibility": null,
            "align_self": null,
            "height": null,
            "min_height": null,
            "padding": null,
            "grid_auto_rows": null,
            "grid_gap": null,
            "max_width": null,
            "order": null,
            "_view_module_version": "1.2.0",
            "grid_template_areas": null,
            "object_position": null,
            "object_fit": null,
            "grid_auto_columns": null,
            "margin": null,
            "display": null,
            "left": null
          }
        },
        "9a6031d16c74421a9a53eb19ffdeaa5c": {
          "model_module": "@jupyter-widgets/controls",
          "model_name": "HBoxModel",
          "state": {
            "_view_name": "HBoxView",
            "_dom_classes": [],
            "_model_name": "HBoxModel",
            "_view_module": "@jupyter-widgets/controls",
            "_model_module_version": "1.5.0",
            "_view_count": null,
            "_view_module_version": "1.5.0",
            "box_style": "",
            "layout": "IPY_MODEL_19c1ed70aded4acfb9371d8454d3ba52",
            "_model_module": "@jupyter-widgets/controls",
            "children": [
              "IPY_MODEL_67b5d6b1139440acaa991964a22c1696",
              "IPY_MODEL_1f2413e76a294c32869549f9e46d20af"
            ]
          }
        },
        "19c1ed70aded4acfb9371d8454d3ba52": {
          "model_module": "@jupyter-widgets/base",
          "model_name": "LayoutModel",
          "state": {
            "_view_name": "LayoutView",
            "grid_template_rows": null,
            "right": null,
            "justify_content": null,
            "_view_module": "@jupyter-widgets/base",
            "overflow": null,
            "_model_module_version": "1.2.0",
            "_view_count": null,
            "flex_flow": null,
            "width": null,
            "min_width": null,
            "border": null,
            "align_items": null,
            "bottom": null,
            "_model_module": "@jupyter-widgets/base",
            "top": null,
            "grid_column": null,
            "overflow_y": null,
            "overflow_x": null,
            "grid_auto_flow": null,
            "grid_area": null,
            "grid_template_columns": null,
            "flex": null,
            "_model_name": "LayoutModel",
            "justify_items": null,
            "grid_row": null,
            "max_height": null,
            "align_content": null,
            "visibility": null,
            "align_self": null,
            "height": null,
            "min_height": null,
            "padding": null,
            "grid_auto_rows": null,
            "grid_gap": null,
            "max_width": null,
            "order": null,
            "_view_module_version": "1.2.0",
            "grid_template_areas": null,
            "object_position": null,
            "object_fit": null,
            "grid_auto_columns": null,
            "margin": null,
            "display": null,
            "left": null
          }
        },
        "67b5d6b1139440acaa991964a22c1696": {
          "model_module": "@jupyter-widgets/controls",
          "model_name": "FloatProgressModel",
          "state": {
            "_view_name": "ProgressView",
            "style": "IPY_MODEL_2d136fe5e49b44998efcda0c8e8bf7fc",
            "_dom_classes": [],
            "description": "Downloading: 100%",
            "_model_name": "FloatProgressModel",
            "bar_style": "success",
            "max": 1197,
            "_view_module": "@jupyter-widgets/controls",
            "_model_module_version": "1.5.0",
            "value": 1197,
            "_view_count": null,
            "_view_module_version": "1.5.0",
            "orientation": "horizontal",
            "min": 0,
            "description_tooltip": null,
            "_model_module": "@jupyter-widgets/controls",
            "layout": "IPY_MODEL_70bb0eb587a244b6aa9d9c466e22518b"
          }
        },
        "1f2413e76a294c32869549f9e46d20af": {
          "model_module": "@jupyter-widgets/controls",
          "model_name": "HTMLModel",
          "state": {
            "_view_name": "HTMLView",
            "style": "IPY_MODEL_7ca9cb5749504d21ba06cc39fa6b308a",
            "_dom_classes": [],
            "description": "",
            "_model_name": "HTMLModel",
            "placeholder": "​",
            "_view_module": "@jupyter-widgets/controls",
            "_model_module_version": "1.5.0",
            "value": " 1.20k/1.20k [00:00&lt;00:00, 6.36kB/s]",
            "_view_count": null,
            "_view_module_version": "1.5.0",
            "description_tooltip": null,
            "_model_module": "@jupyter-widgets/controls",
            "layout": "IPY_MODEL_e0813e837cc8460284d83146d1c38a4f"
          }
        },
        "2d136fe5e49b44998efcda0c8e8bf7fc": {
          "model_module": "@jupyter-widgets/controls",
          "model_name": "ProgressStyleModel",
          "state": {
            "_view_name": "StyleView",
            "_model_name": "ProgressStyleModel",
            "description_width": "initial",
            "_view_module": "@jupyter-widgets/base",
            "_model_module_version": "1.5.0",
            "_view_count": null,
            "_view_module_version": "1.2.0",
            "bar_color": null,
            "_model_module": "@jupyter-widgets/controls"
          }
        },
        "70bb0eb587a244b6aa9d9c466e22518b": {
          "model_module": "@jupyter-widgets/base",
          "model_name": "LayoutModel",
          "state": {
            "_view_name": "LayoutView",
            "grid_template_rows": null,
            "right": null,
            "justify_content": null,
            "_view_module": "@jupyter-widgets/base",
            "overflow": null,
            "_model_module_version": "1.2.0",
            "_view_count": null,
            "flex_flow": null,
            "width": null,
            "min_width": null,
            "border": null,
            "align_items": null,
            "bottom": null,
            "_model_module": "@jupyter-widgets/base",
            "top": null,
            "grid_column": null,
            "overflow_y": null,
            "overflow_x": null,
            "grid_auto_flow": null,
            "grid_area": null,
            "grid_template_columns": null,
            "flex": null,
            "_model_name": "LayoutModel",
            "justify_items": null,
            "grid_row": null,
            "max_height": null,
            "align_content": null,
            "visibility": null,
            "align_self": null,
            "height": null,
            "min_height": null,
            "padding": null,
            "grid_auto_rows": null,
            "grid_gap": null,
            "max_width": null,
            "order": null,
            "_view_module_version": "1.2.0",
            "grid_template_areas": null,
            "object_position": null,
            "object_fit": null,
            "grid_auto_columns": null,
            "margin": null,
            "display": null,
            "left": null
          }
        },
        "7ca9cb5749504d21ba06cc39fa6b308a": {
          "model_module": "@jupyter-widgets/controls",
          "model_name": "DescriptionStyleModel",
          "state": {
            "_view_name": "StyleView",
            "_model_name": "DescriptionStyleModel",
            "description_width": "",
            "_view_module": "@jupyter-widgets/base",
            "_model_module_version": "1.5.0",
            "_view_count": null,
            "_view_module_version": "1.2.0",
            "_model_module": "@jupyter-widgets/controls"
          }
        },
        "e0813e837cc8460284d83146d1c38a4f": {
          "model_module": "@jupyter-widgets/base",
          "model_name": "LayoutModel",
          "state": {
            "_view_name": "LayoutView",
            "grid_template_rows": null,
            "right": null,
            "justify_content": null,
            "_view_module": "@jupyter-widgets/base",
            "overflow": null,
            "_model_module_version": "1.2.0",
            "_view_count": null,
            "flex_flow": null,
            "width": null,
            "min_width": null,
            "border": null,
            "align_items": null,
            "bottom": null,
            "_model_module": "@jupyter-widgets/base",
            "top": null,
            "grid_column": null,
            "overflow_y": null,
            "overflow_x": null,
            "grid_auto_flow": null,
            "grid_area": null,
            "grid_template_columns": null,
            "flex": null,
            "_model_name": "LayoutModel",
            "justify_items": null,
            "grid_row": null,
            "max_height": null,
            "align_content": null,
            "visibility": null,
            "align_self": null,
            "height": null,
            "min_height": null,
            "padding": null,
            "grid_auto_rows": null,
            "grid_gap": null,
            "max_width": null,
            "order": null,
            "_view_module_version": "1.2.0",
            "grid_template_areas": null,
            "object_position": null,
            "object_fit": null,
            "grid_auto_columns": null,
            "margin": null,
            "display": null,
            "left": null
          }
        },
        "c64eabfe1ded4469a39c98c98de139b5": {
          "model_module": "@jupyter-widgets/controls",
          "model_name": "HBoxModel",
          "state": {
            "_view_name": "HBoxView",
            "_dom_classes": [],
            "_model_name": "HBoxModel",
            "_view_module": "@jupyter-widgets/controls",
            "_model_module_version": "1.5.0",
            "_view_count": null,
            "_view_module_version": "1.5.0",
            "box_style": "",
            "layout": "IPY_MODEL_0b80f0e9e22643f0afab892874d45428",
            "_model_module": "@jupyter-widgets/controls",
            "children": [
              "IPY_MODEL_a4fcede9278d4001908a65a363a54aa2",
              "IPY_MODEL_2f3a065e974b498b9f409b78c679d209"
            ]
          }
        },
        "0b80f0e9e22643f0afab892874d45428": {
          "model_module": "@jupyter-widgets/base",
          "model_name": "LayoutModel",
          "state": {
            "_view_name": "LayoutView",
            "grid_template_rows": null,
            "right": null,
            "justify_content": null,
            "_view_module": "@jupyter-widgets/base",
            "overflow": null,
            "_model_module_version": "1.2.0",
            "_view_count": null,
            "flex_flow": null,
            "width": null,
            "min_width": null,
            "border": null,
            "align_items": null,
            "bottom": null,
            "_model_module": "@jupyter-widgets/base",
            "top": null,
            "grid_column": null,
            "overflow_y": null,
            "overflow_x": null,
            "grid_auto_flow": null,
            "grid_area": null,
            "grid_template_columns": null,
            "flex": null,
            "_model_name": "LayoutModel",
            "justify_items": null,
            "grid_row": null,
            "max_height": null,
            "align_content": null,
            "visibility": null,
            "align_self": null,
            "height": null,
            "min_height": null,
            "padding": null,
            "grid_auto_rows": null,
            "grid_gap": null,
            "max_width": null,
            "order": null,
            "_view_module_version": "1.2.0",
            "grid_template_areas": null,
            "object_position": null,
            "object_fit": null,
            "grid_auto_columns": null,
            "margin": null,
            "display": null,
            "left": null
          }
        },
        "a4fcede9278d4001908a65a363a54aa2": {
          "model_module": "@jupyter-widgets/controls",
          "model_name": "FloatProgressModel",
          "state": {
            "_view_name": "ProgressView",
            "style": "IPY_MODEL_218cb40f72234f50b7c6cbc2c41261a3",
            "_dom_classes": [],
            "description": "Downloading: 100%",
            "_model_name": "FloatProgressModel",
            "bar_style": "success",
            "max": 242065649,
            "_view_module": "@jupyter-widgets/controls",
            "_model_module_version": "1.5.0",
            "value": 242065649,
            "_view_count": null,
            "_view_module_version": "1.5.0",
            "orientation": "horizontal",
            "min": 0,
            "description_tooltip": null,
            "_model_module": "@jupyter-widgets/controls",
            "layout": "IPY_MODEL_01513e765e3a4435b51f0bfc5b41441d"
          }
        },
        "2f3a065e974b498b9f409b78c679d209": {
          "model_module": "@jupyter-widgets/controls",
          "model_name": "HTMLModel",
          "state": {
            "_view_name": "HTMLView",
            "style": "IPY_MODEL_84c05d52e7494fc685d6d30b48cf7425",
            "_dom_classes": [],
            "description": "",
            "_model_name": "HTMLModel",
            "placeholder": "​",
            "_view_module": "@jupyter-widgets/controls",
            "_model_module_version": "1.5.0",
            "value": " 242M/242M [00:06&lt;00:00, 35.1MB/s]",
            "_view_count": null,
            "_view_module_version": "1.5.0",
            "description_tooltip": null,
            "_model_module": "@jupyter-widgets/controls",
            "layout": "IPY_MODEL_c4a77bc3961f4676ae048cc5a76c27a8"
          }
        },
        "218cb40f72234f50b7c6cbc2c41261a3": {
          "model_module": "@jupyter-widgets/controls",
          "model_name": "ProgressStyleModel",
          "state": {
            "_view_name": "StyleView",
            "_model_name": "ProgressStyleModel",
            "description_width": "initial",
            "_view_module": "@jupyter-widgets/base",
            "_model_module_version": "1.5.0",
            "_view_count": null,
            "_view_module_version": "1.2.0",
            "bar_color": null,
            "_model_module": "@jupyter-widgets/controls"
          }
        },
        "01513e765e3a4435b51f0bfc5b41441d": {
          "model_module": "@jupyter-widgets/base",
          "model_name": "LayoutModel",
          "state": {
            "_view_name": "LayoutView",
            "grid_template_rows": null,
            "right": null,
            "justify_content": null,
            "_view_module": "@jupyter-widgets/base",
            "overflow": null,
            "_model_module_version": "1.2.0",
            "_view_count": null,
            "flex_flow": null,
            "width": null,
            "min_width": null,
            "border": null,
            "align_items": null,
            "bottom": null,
            "_model_module": "@jupyter-widgets/base",
            "top": null,
            "grid_column": null,
            "overflow_y": null,
            "overflow_x": null,
            "grid_auto_flow": null,
            "grid_area": null,
            "grid_template_columns": null,
            "flex": null,
            "_model_name": "LayoutModel",
            "justify_items": null,
            "grid_row": null,
            "max_height": null,
            "align_content": null,
            "visibility": null,
            "align_self": null,
            "height": null,
            "min_height": null,
            "padding": null,
            "grid_auto_rows": null,
            "grid_gap": null,
            "max_width": null,
            "order": null,
            "_view_module_version": "1.2.0",
            "grid_template_areas": null,
            "object_position": null,
            "object_fit": null,
            "grid_auto_columns": null,
            "margin": null,
            "display": null,
            "left": null
          }
        },
        "84c05d52e7494fc685d6d30b48cf7425": {
          "model_module": "@jupyter-widgets/controls",
          "model_name": "DescriptionStyleModel",
          "state": {
            "_view_name": "StyleView",
            "_model_name": "DescriptionStyleModel",
            "description_width": "",
            "_view_module": "@jupyter-widgets/base",
            "_model_module_version": "1.5.0",
            "_view_count": null,
            "_view_module_version": "1.2.0",
            "_model_module": "@jupyter-widgets/controls"
          }
        },
        "c4a77bc3961f4676ae048cc5a76c27a8": {
          "model_module": "@jupyter-widgets/base",
          "model_name": "LayoutModel",
          "state": {
            "_view_name": "LayoutView",
            "grid_template_rows": null,
            "right": null,
            "justify_content": null,
            "_view_module": "@jupyter-widgets/base",
            "overflow": null,
            "_model_module_version": "1.2.0",
            "_view_count": null,
            "flex_flow": null,
            "width": null,
            "min_width": null,
            "border": null,
            "align_items": null,
            "bottom": null,
            "_model_module": "@jupyter-widgets/base",
            "top": null,
            "grid_column": null,
            "overflow_y": null,
            "overflow_x": null,
            "grid_auto_flow": null,
            "grid_area": null,
            "grid_template_columns": null,
            "flex": null,
            "_model_name": "LayoutModel",
            "justify_items": null,
            "grid_row": null,
            "max_height": null,
            "align_content": null,
            "visibility": null,
            "align_self": null,
            "height": null,
            "min_height": null,
            "padding": null,
            "grid_auto_rows": null,
            "grid_gap": null,
            "max_width": null,
            "order": null,
            "_view_module_version": "1.2.0",
            "grid_template_areas": null,
            "object_position": null,
            "object_fit": null,
            "grid_auto_columns": null,
            "margin": null,
            "display": null,
            "left": null
          }
        },
        "81941c8a443442cdb19589f5bcee8f9d": {
          "model_module": "@jupyter-widgets/controls",
          "model_name": "HBoxModel",
          "state": {
            "_view_name": "HBoxView",
            "_dom_classes": [],
            "_model_name": "HBoxModel",
            "_view_module": "@jupyter-widgets/controls",
            "_model_module_version": "1.5.0",
            "_view_count": null,
            "_view_module_version": "1.5.0",
            "box_style": "",
            "layout": "IPY_MODEL_0477d5a723ef44859650bff4de640c16",
            "_model_module": "@jupyter-widgets/controls",
            "children": [
              "IPY_MODEL_43f4accba9a9401aa08ed3619efaafd9",
              "IPY_MODEL_ab45ef4d81c944529c5e0d10b2589114"
            ]
          }
        },
        "0477d5a723ef44859650bff4de640c16": {
          "model_module": "@jupyter-widgets/base",
          "model_name": "LayoutModel",
          "state": {
            "_view_name": "LayoutView",
            "grid_template_rows": null,
            "right": null,
            "justify_content": null,
            "_view_module": "@jupyter-widgets/base",
            "overflow": null,
            "_model_module_version": "1.2.0",
            "_view_count": null,
            "flex_flow": null,
            "width": null,
            "min_width": null,
            "border": null,
            "align_items": null,
            "bottom": null,
            "_model_module": "@jupyter-widgets/base",
            "top": null,
            "grid_column": null,
            "overflow_y": null,
            "overflow_x": null,
            "grid_auto_flow": null,
            "grid_area": null,
            "grid_template_columns": null,
            "flex": null,
            "_model_name": "LayoutModel",
            "justify_items": null,
            "grid_row": null,
            "max_height": null,
            "align_content": null,
            "visibility": null,
            "align_self": null,
            "height": null,
            "min_height": null,
            "padding": null,
            "grid_auto_rows": null,
            "grid_gap": null,
            "max_width": null,
            "order": null,
            "_view_module_version": "1.2.0",
            "grid_template_areas": null,
            "object_position": null,
            "object_fit": null,
            "grid_auto_columns": null,
            "margin": null,
            "display": null,
            "left": null
          }
        },
        "43f4accba9a9401aa08ed3619efaafd9": {
          "model_module": "@jupyter-widgets/controls",
          "model_name": "FloatProgressModel",
          "state": {
            "_view_name": "ProgressView",
            "style": "IPY_MODEL_f9f6c1bfbc7f41c2824f75f733240bcf",
            "_dom_classes": [],
            "description": "Downloading: 100%",
            "_model_name": "FloatProgressModel",
            "bar_style": "success",
            "max": 231508,
            "_view_module": "@jupyter-widgets/controls",
            "_model_module_version": "1.5.0",
            "value": 231508,
            "_view_count": null,
            "_view_module_version": "1.5.0",
            "orientation": "horizontal",
            "min": 0,
            "description_tooltip": null,
            "_model_module": "@jupyter-widgets/controls",
            "layout": "IPY_MODEL_0da53d807dd145b4b0fe16524284a305"
          }
        },
        "ab45ef4d81c944529c5e0d10b2589114": {
          "model_module": "@jupyter-widgets/controls",
          "model_name": "HTMLModel",
          "state": {
            "_view_name": "HTMLView",
            "style": "IPY_MODEL_a299204468ba455dafc2c6d6da9fcce9",
            "_dom_classes": [],
            "description": "",
            "_model_name": "HTMLModel",
            "placeholder": "​",
            "_view_module": "@jupyter-widgets/controls",
            "_model_module_version": "1.5.0",
            "value": " 232k/232k [00:00&lt;00:00, 3.11MB/s]",
            "_view_count": null,
            "_view_module_version": "1.5.0",
            "description_tooltip": null,
            "_model_module": "@jupyter-widgets/controls",
            "layout": "IPY_MODEL_9cb7cec14a8a4e819bde51d9489b40c6"
          }
        },
        "f9f6c1bfbc7f41c2824f75f733240bcf": {
          "model_module": "@jupyter-widgets/controls",
          "model_name": "ProgressStyleModel",
          "state": {
            "_view_name": "StyleView",
            "_model_name": "ProgressStyleModel",
            "description_width": "initial",
            "_view_module": "@jupyter-widgets/base",
            "_model_module_version": "1.5.0",
            "_view_count": null,
            "_view_module_version": "1.2.0",
            "bar_color": null,
            "_model_module": "@jupyter-widgets/controls"
          }
        },
        "0da53d807dd145b4b0fe16524284a305": {
          "model_module": "@jupyter-widgets/base",
          "model_name": "LayoutModel",
          "state": {
            "_view_name": "LayoutView",
            "grid_template_rows": null,
            "right": null,
            "justify_content": null,
            "_view_module": "@jupyter-widgets/base",
            "overflow": null,
            "_model_module_version": "1.2.0",
            "_view_count": null,
            "flex_flow": null,
            "width": null,
            "min_width": null,
            "border": null,
            "align_items": null,
            "bottom": null,
            "_model_module": "@jupyter-widgets/base",
            "top": null,
            "grid_column": null,
            "overflow_y": null,
            "overflow_x": null,
            "grid_auto_flow": null,
            "grid_area": null,
            "grid_template_columns": null,
            "flex": null,
            "_model_name": "LayoutModel",
            "justify_items": null,
            "grid_row": null,
            "max_height": null,
            "align_content": null,
            "visibility": null,
            "align_self": null,
            "height": null,
            "min_height": null,
            "padding": null,
            "grid_auto_rows": null,
            "grid_gap": null,
            "max_width": null,
            "order": null,
            "_view_module_version": "1.2.0",
            "grid_template_areas": null,
            "object_position": null,
            "object_fit": null,
            "grid_auto_columns": null,
            "margin": null,
            "display": null,
            "left": null
          }
        },
        "a299204468ba455dafc2c6d6da9fcce9": {
          "model_module": "@jupyter-widgets/controls",
          "model_name": "DescriptionStyleModel",
          "state": {
            "_view_name": "StyleView",
            "_model_name": "DescriptionStyleModel",
            "description_width": "",
            "_view_module": "@jupyter-widgets/base",
            "_model_module_version": "1.5.0",
            "_view_count": null,
            "_view_module_version": "1.2.0",
            "_model_module": "@jupyter-widgets/controls"
          }
        },
        "9cb7cec14a8a4e819bde51d9489b40c6": {
          "model_module": "@jupyter-widgets/base",
          "model_name": "LayoutModel",
          "state": {
            "_view_name": "LayoutView",
            "grid_template_rows": null,
            "right": null,
            "justify_content": null,
            "_view_module": "@jupyter-widgets/base",
            "overflow": null,
            "_model_module_version": "1.2.0",
            "_view_count": null,
            "flex_flow": null,
            "width": null,
            "min_width": null,
            "border": null,
            "align_items": null,
            "bottom": null,
            "_model_module": "@jupyter-widgets/base",
            "top": null,
            "grid_column": null,
            "overflow_y": null,
            "overflow_x": null,
            "grid_auto_flow": null,
            "grid_area": null,
            "grid_template_columns": null,
            "flex": null,
            "_model_name": "LayoutModel",
            "justify_items": null,
            "grid_row": null,
            "max_height": null,
            "align_content": null,
            "visibility": null,
            "align_self": null,
            "height": null,
            "min_height": null,
            "padding": null,
            "grid_auto_rows": null,
            "grid_gap": null,
            "max_width": null,
            "order": null,
            "_view_module_version": "1.2.0",
            "grid_template_areas": null,
            "object_position": null,
            "object_fit": null,
            "grid_auto_columns": null,
            "margin": null,
            "display": null,
            "left": null
          }
        },
        "1a37ff81ecd64f02a6e17dc7e9d83831": {
          "model_module": "@jupyter-widgets/controls",
          "model_name": "HBoxModel",
          "state": {
            "_view_name": "HBoxView",
            "_dom_classes": [],
            "_model_name": "HBoxModel",
            "_view_module": "@jupyter-widgets/controls",
            "_model_module_version": "1.5.0",
            "_view_count": null,
            "_view_module_version": "1.5.0",
            "box_style": "",
            "layout": "IPY_MODEL_a0ad24f98d814ae3baac136c459ab319",
            "_model_module": "@jupyter-widgets/controls",
            "children": [
              "IPY_MODEL_1a9584757ade495d9d46e9c337ed2996",
              "IPY_MODEL_316dc56c843c4ae1b058363378eebc1b"
            ]
          }
        },
        "a0ad24f98d814ae3baac136c459ab319": {
          "model_module": "@jupyter-widgets/base",
          "model_name": "LayoutModel",
          "state": {
            "_view_name": "LayoutView",
            "grid_template_rows": null,
            "right": null,
            "justify_content": null,
            "_view_module": "@jupyter-widgets/base",
            "overflow": null,
            "_model_module_version": "1.2.0",
            "_view_count": null,
            "flex_flow": null,
            "width": null,
            "min_width": null,
            "border": null,
            "align_items": null,
            "bottom": null,
            "_model_module": "@jupyter-widgets/base",
            "top": null,
            "grid_column": null,
            "overflow_y": null,
            "overflow_x": null,
            "grid_auto_flow": null,
            "grid_area": null,
            "grid_template_columns": null,
            "flex": null,
            "_model_name": "LayoutModel",
            "justify_items": null,
            "grid_row": null,
            "max_height": null,
            "align_content": null,
            "visibility": null,
            "align_self": null,
            "height": null,
            "min_height": null,
            "padding": null,
            "grid_auto_rows": null,
            "grid_gap": null,
            "max_width": null,
            "order": null,
            "_view_module_version": "1.2.0",
            "grid_template_areas": null,
            "object_position": null,
            "object_fit": null,
            "grid_auto_columns": null,
            "margin": null,
            "display": null,
            "left": null
          }
        },
        "1a9584757ade495d9d46e9c337ed2996": {
          "model_module": "@jupyter-widgets/controls",
          "model_name": "FloatProgressModel",
          "state": {
            "_view_name": "ProgressView",
            "style": "IPY_MODEL_8339df50d4a34aad988d475b747ffd1f",
            "_dom_classes": [],
            "description": "Downloading: 100%",
            "_model_name": "FloatProgressModel",
            "bar_style": "success",
            "max": 433,
            "_view_module": "@jupyter-widgets/controls",
            "_model_module_version": "1.5.0",
            "value": 433,
            "_view_count": null,
            "_view_module_version": "1.5.0",
            "orientation": "horizontal",
            "min": 0,
            "description_tooltip": null,
            "_model_module": "@jupyter-widgets/controls",
            "layout": "IPY_MODEL_d2a144ae6ccb406ab09e5e36fa5fe939"
          }
        },
        "316dc56c843c4ae1b058363378eebc1b": {
          "model_module": "@jupyter-widgets/controls",
          "model_name": "HTMLModel",
          "state": {
            "_view_name": "HTMLView",
            "style": "IPY_MODEL_4a89c0804fd549999a2101ea2114145e",
            "_dom_classes": [],
            "description": "",
            "_model_name": "HTMLModel",
            "placeholder": "​",
            "_view_module": "@jupyter-widgets/controls",
            "_model_module_version": "1.5.0",
            "value": " 433/433 [00:00&lt;00:00, 2.29kB/s]",
            "_view_count": null,
            "_view_module_version": "1.5.0",
            "description_tooltip": null,
            "_model_module": "@jupyter-widgets/controls",
            "layout": "IPY_MODEL_a11272ebde414821bcf4035a5d3856c1"
          }
        },
        "8339df50d4a34aad988d475b747ffd1f": {
          "model_module": "@jupyter-widgets/controls",
          "model_name": "ProgressStyleModel",
          "state": {
            "_view_name": "StyleView",
            "_model_name": "ProgressStyleModel",
            "description_width": "initial",
            "_view_module": "@jupyter-widgets/base",
            "_model_module_version": "1.5.0",
            "_view_count": null,
            "_view_module_version": "1.2.0",
            "bar_color": null,
            "_model_module": "@jupyter-widgets/controls"
          }
        },
        "d2a144ae6ccb406ab09e5e36fa5fe939": {
          "model_module": "@jupyter-widgets/base",
          "model_name": "LayoutModel",
          "state": {
            "_view_name": "LayoutView",
            "grid_template_rows": null,
            "right": null,
            "justify_content": null,
            "_view_module": "@jupyter-widgets/base",
            "overflow": null,
            "_model_module_version": "1.2.0",
            "_view_count": null,
            "flex_flow": null,
            "width": null,
            "min_width": null,
            "border": null,
            "align_items": null,
            "bottom": null,
            "_model_module": "@jupyter-widgets/base",
            "top": null,
            "grid_column": null,
            "overflow_y": null,
            "overflow_x": null,
            "grid_auto_flow": null,
            "grid_area": null,
            "grid_template_columns": null,
            "flex": null,
            "_model_name": "LayoutModel",
            "justify_items": null,
            "grid_row": null,
            "max_height": null,
            "align_content": null,
            "visibility": null,
            "align_self": null,
            "height": null,
            "min_height": null,
            "padding": null,
            "grid_auto_rows": null,
            "grid_gap": null,
            "max_width": null,
            "order": null,
            "_view_module_version": "1.2.0",
            "grid_template_areas": null,
            "object_position": null,
            "object_fit": null,
            "grid_auto_columns": null,
            "margin": null,
            "display": null,
            "left": null
          }
        },
        "4a89c0804fd549999a2101ea2114145e": {
          "model_module": "@jupyter-widgets/controls",
          "model_name": "DescriptionStyleModel",
          "state": {
            "_view_name": "StyleView",
            "_model_name": "DescriptionStyleModel",
            "description_width": "",
            "_view_module": "@jupyter-widgets/base",
            "_model_module_version": "1.5.0",
            "_view_count": null,
            "_view_module_version": "1.2.0",
            "_model_module": "@jupyter-widgets/controls"
          }
        },
        "a11272ebde414821bcf4035a5d3856c1": {
          "model_module": "@jupyter-widgets/base",
          "model_name": "LayoutModel",
          "state": {
            "_view_name": "LayoutView",
            "grid_template_rows": null,
            "right": null,
            "justify_content": null,
            "_view_module": "@jupyter-widgets/base",
            "overflow": null,
            "_model_module_version": "1.2.0",
            "_view_count": null,
            "flex_flow": null,
            "width": null,
            "min_width": null,
            "border": null,
            "align_items": null,
            "bottom": null,
            "_model_module": "@jupyter-widgets/base",
            "top": null,
            "grid_column": null,
            "overflow_y": null,
            "overflow_x": null,
            "grid_auto_flow": null,
            "grid_area": null,
            "grid_template_columns": null,
            "flex": null,
            "_model_name": "LayoutModel",
            "justify_items": null,
            "grid_row": null,
            "max_height": null,
            "align_content": null,
            "visibility": null,
            "align_self": null,
            "height": null,
            "min_height": null,
            "padding": null,
            "grid_auto_rows": null,
            "grid_gap": null,
            "max_width": null,
            "order": null,
            "_view_module_version": "1.2.0",
            "grid_template_areas": null,
            "object_position": null,
            "object_fit": null,
            "grid_auto_columns": null,
            "margin": null,
            "display": null,
            "left": null
          }
        },
        "1f8dd348ca6343b3939ad157e90e9980": {
          "model_module": "@jupyter-widgets/controls",
          "model_name": "HBoxModel",
          "state": {
            "_view_name": "HBoxView",
            "_dom_classes": [],
            "_model_name": "HBoxModel",
            "_view_module": "@jupyter-widgets/controls",
            "_model_module_version": "1.5.0",
            "_view_count": null,
            "_view_module_version": "1.5.0",
            "box_style": "",
            "layout": "IPY_MODEL_b474955fa3494641b0d3d0be18796d9e",
            "_model_module": "@jupyter-widgets/controls",
            "children": [
              "IPY_MODEL_43304479b74142508d89895518c179bc",
              "IPY_MODEL_01c8ec0bb8fb48c199a98c11edc52249"
            ]
          }
        },
        "b474955fa3494641b0d3d0be18796d9e": {
          "model_module": "@jupyter-widgets/base",
          "model_name": "LayoutModel",
          "state": {
            "_view_name": "LayoutView",
            "grid_template_rows": null,
            "right": null,
            "justify_content": null,
            "_view_module": "@jupyter-widgets/base",
            "overflow": null,
            "_model_module_version": "1.2.0",
            "_view_count": null,
            "flex_flow": null,
            "width": null,
            "min_width": null,
            "border": null,
            "align_items": null,
            "bottom": null,
            "_model_module": "@jupyter-widgets/base",
            "top": null,
            "grid_column": null,
            "overflow_y": null,
            "overflow_x": null,
            "grid_auto_flow": null,
            "grid_area": null,
            "grid_template_columns": null,
            "flex": null,
            "_model_name": "LayoutModel",
            "justify_items": null,
            "grid_row": null,
            "max_height": null,
            "align_content": null,
            "visibility": null,
            "align_self": null,
            "height": null,
            "min_height": null,
            "padding": null,
            "grid_auto_rows": null,
            "grid_gap": null,
            "max_width": null,
            "order": null,
            "_view_module_version": "1.2.0",
            "grid_template_areas": null,
            "object_position": null,
            "object_fit": null,
            "grid_auto_columns": null,
            "margin": null,
            "display": null,
            "left": null
          }
        },
        "43304479b74142508d89895518c179bc": {
          "model_module": "@jupyter-widgets/controls",
          "model_name": "FloatProgressModel",
          "state": {
            "_view_name": "ProgressView",
            "style": "IPY_MODEL_73ccb30958d14700b503d666d1f03413",
            "_dom_classes": [],
            "description": "Downloading: 100%",
            "_model_name": "FloatProgressModel",
            "bar_style": "success",
            "max": 440473133,
            "_view_module": "@jupyter-widgets/controls",
            "_model_module_version": "1.5.0",
            "value": 440473133,
            "_view_count": null,
            "_view_module_version": "1.5.0",
            "orientation": "horizontal",
            "min": 0,
            "description_tooltip": null,
            "_model_module": "@jupyter-widgets/controls",
            "layout": "IPY_MODEL_0a571493ff924980ac2567e9b3bf0ffa"
          }
        },
        "01c8ec0bb8fb48c199a98c11edc52249": {
          "model_module": "@jupyter-widgets/controls",
          "model_name": "HTMLModel",
          "state": {
            "_view_name": "HTMLView",
            "style": "IPY_MODEL_a96b4d2293ce40719065ed5ca4817e3b",
            "_dom_classes": [],
            "description": "",
            "_model_name": "HTMLModel",
            "placeholder": "​",
            "_view_module": "@jupyter-widgets/controls",
            "_model_module_version": "1.5.0",
            "value": " 440M/440M [01:27&lt;00:00, 5.04MB/s]",
            "_view_count": null,
            "_view_module_version": "1.5.0",
            "description_tooltip": null,
            "_model_module": "@jupyter-widgets/controls",
            "layout": "IPY_MODEL_4e8296fc15ab4e33a0c15ecacad861ed"
          }
        },
        "73ccb30958d14700b503d666d1f03413": {
          "model_module": "@jupyter-widgets/controls",
          "model_name": "ProgressStyleModel",
          "state": {
            "_view_name": "StyleView",
            "_model_name": "ProgressStyleModel",
            "description_width": "initial",
            "_view_module": "@jupyter-widgets/base",
            "_model_module_version": "1.5.0",
            "_view_count": null,
            "_view_module_version": "1.2.0",
            "bar_color": null,
            "_model_module": "@jupyter-widgets/controls"
          }
        },
        "0a571493ff924980ac2567e9b3bf0ffa": {
          "model_module": "@jupyter-widgets/base",
          "model_name": "LayoutModel",
          "state": {
            "_view_name": "LayoutView",
            "grid_template_rows": null,
            "right": null,
            "justify_content": null,
            "_view_module": "@jupyter-widgets/base",
            "overflow": null,
            "_model_module_version": "1.2.0",
            "_view_count": null,
            "flex_flow": null,
            "width": null,
            "min_width": null,
            "border": null,
            "align_items": null,
            "bottom": null,
            "_model_module": "@jupyter-widgets/base",
            "top": null,
            "grid_column": null,
            "overflow_y": null,
            "overflow_x": null,
            "grid_auto_flow": null,
            "grid_area": null,
            "grid_template_columns": null,
            "flex": null,
            "_model_name": "LayoutModel",
            "justify_items": null,
            "grid_row": null,
            "max_height": null,
            "align_content": null,
            "visibility": null,
            "align_self": null,
            "height": null,
            "min_height": null,
            "padding": null,
            "grid_auto_rows": null,
            "grid_gap": null,
            "max_width": null,
            "order": null,
            "_view_module_version": "1.2.0",
            "grid_template_areas": null,
            "object_position": null,
            "object_fit": null,
            "grid_auto_columns": null,
            "margin": null,
            "display": null,
            "left": null
          }
        },
        "a96b4d2293ce40719065ed5ca4817e3b": {
          "model_module": "@jupyter-widgets/controls",
          "model_name": "DescriptionStyleModel",
          "state": {
            "_view_name": "StyleView",
            "_model_name": "DescriptionStyleModel",
            "description_width": "",
            "_view_module": "@jupyter-widgets/base",
            "_model_module_version": "1.5.0",
            "_view_count": null,
            "_view_module_version": "1.2.0",
            "_model_module": "@jupyter-widgets/controls"
          }
        },
        "4e8296fc15ab4e33a0c15ecacad861ed": {
          "model_module": "@jupyter-widgets/base",
          "model_name": "LayoutModel",
          "state": {
            "_view_name": "LayoutView",
            "grid_template_rows": null,
            "right": null,
            "justify_content": null,
            "_view_module": "@jupyter-widgets/base",
            "overflow": null,
            "_model_module_version": "1.2.0",
            "_view_count": null,
            "flex_flow": null,
            "width": null,
            "min_width": null,
            "border": null,
            "align_items": null,
            "bottom": null,
            "_model_module": "@jupyter-widgets/base",
            "top": null,
            "grid_column": null,
            "overflow_y": null,
            "overflow_x": null,
            "grid_auto_flow": null,
            "grid_area": null,
            "grid_template_columns": null,
            "flex": null,
            "_model_name": "LayoutModel",
            "justify_items": null,
            "grid_row": null,
            "max_height": null,
            "align_content": null,
            "visibility": null,
            "align_self": null,
            "height": null,
            "min_height": null,
            "padding": null,
            "grid_auto_rows": null,
            "grid_gap": null,
            "max_width": null,
            "order": null,
            "_view_module_version": "1.2.0",
            "grid_template_areas": null,
            "object_position": null,
            "object_fit": null,
            "grid_auto_columns": null,
            "margin": null,
            "display": null,
            "left": null
          }
        },
        "5a2842a843ff4606bacb3551979efb22": {
          "model_module": "@jupyter-widgets/controls",
          "model_name": "HBoxModel",
          "state": {
            "_view_name": "HBoxView",
            "_dom_classes": [],
            "_model_name": "HBoxModel",
            "_view_module": "@jupyter-widgets/controls",
            "_model_module_version": "1.5.0",
            "_view_count": null,
            "_view_module_version": "1.5.0",
            "box_style": "",
            "layout": "IPY_MODEL_f9a33124f7d8481198b55cf2472124c1",
            "_model_module": "@jupyter-widgets/controls",
            "children": [
              "IPY_MODEL_5f03e436d8414e62abfe5adc415fba18",
              "IPY_MODEL_3571ec80aa4744cda885b559d10faab3"
            ]
          }
        },
        "f9a33124f7d8481198b55cf2472124c1": {
          "model_module": "@jupyter-widgets/base",
          "model_name": "LayoutModel",
          "state": {
            "_view_name": "LayoutView",
            "grid_template_rows": null,
            "right": null,
            "justify_content": null,
            "_view_module": "@jupyter-widgets/base",
            "overflow": null,
            "_model_module_version": "1.2.0",
            "_view_count": null,
            "flex_flow": null,
            "width": null,
            "min_width": null,
            "border": null,
            "align_items": null,
            "bottom": null,
            "_model_module": "@jupyter-widgets/base",
            "top": null,
            "grid_column": null,
            "overflow_y": null,
            "overflow_x": null,
            "grid_auto_flow": null,
            "grid_area": null,
            "grid_template_columns": null,
            "flex": null,
            "_model_name": "LayoutModel",
            "justify_items": null,
            "grid_row": null,
            "max_height": null,
            "align_content": null,
            "visibility": null,
            "align_self": null,
            "height": null,
            "min_height": null,
            "padding": null,
            "grid_auto_rows": null,
            "grid_gap": null,
            "max_width": null,
            "order": null,
            "_view_module_version": "1.2.0",
            "grid_template_areas": null,
            "object_position": null,
            "object_fit": null,
            "grid_auto_columns": null,
            "margin": null,
            "display": null,
            "left": null
          }
        },
        "5f03e436d8414e62abfe5adc415fba18": {
          "model_module": "@jupyter-widgets/controls",
          "model_name": "FloatProgressModel",
          "state": {
            "_view_name": "ProgressView",
            "style": "IPY_MODEL_25765c60aa9640ea9ac0eaefc561d1e7",
            "_dom_classes": [],
            "description": "Downloading: 100%",
            "_model_name": "FloatProgressModel",
            "bar_style": "success",
            "max": 1042301,
            "_view_module": "@jupyter-widgets/controls",
            "_model_module_version": "1.5.0",
            "value": 1042301,
            "_view_count": null,
            "_view_module_version": "1.5.0",
            "orientation": "horizontal",
            "min": 0,
            "description_tooltip": null,
            "_model_module": "@jupyter-widgets/controls",
            "layout": "IPY_MODEL_d3f58bb69f2342bea490bc5accf0f120"
          }
        },
        "3571ec80aa4744cda885b559d10faab3": {
          "model_module": "@jupyter-widgets/controls",
          "model_name": "HTMLModel",
          "state": {
            "_view_name": "HTMLView",
            "style": "IPY_MODEL_175fbe5fa06640d5bbf573bd40c5431f",
            "_dom_classes": [],
            "description": "",
            "_model_name": "HTMLModel",
            "placeholder": "​",
            "_view_module": "@jupyter-widgets/controls",
            "_model_module_version": "1.5.0",
            "value": " 1.04M/1.04M [00:00&lt;00:00, 4.83MB/s]",
            "_view_count": null,
            "_view_module_version": "1.5.0",
            "description_tooltip": null,
            "_model_module": "@jupyter-widgets/controls",
            "layout": "IPY_MODEL_2be186c7a08940ddab9e4147b598ab1f"
          }
        },
        "25765c60aa9640ea9ac0eaefc561d1e7": {
          "model_module": "@jupyter-widgets/controls",
          "model_name": "ProgressStyleModel",
          "state": {
            "_view_name": "StyleView",
            "_model_name": "ProgressStyleModel",
            "description_width": "initial",
            "_view_module": "@jupyter-widgets/base",
            "_model_module_version": "1.5.0",
            "_view_count": null,
            "_view_module_version": "1.2.0",
            "bar_color": null,
            "_model_module": "@jupyter-widgets/controls"
          }
        },
        "d3f58bb69f2342bea490bc5accf0f120": {
          "model_module": "@jupyter-widgets/base",
          "model_name": "LayoutModel",
          "state": {
            "_view_name": "LayoutView",
            "grid_template_rows": null,
            "right": null,
            "justify_content": null,
            "_view_module": "@jupyter-widgets/base",
            "overflow": null,
            "_model_module_version": "1.2.0",
            "_view_count": null,
            "flex_flow": null,
            "width": null,
            "min_width": null,
            "border": null,
            "align_items": null,
            "bottom": null,
            "_model_module": "@jupyter-widgets/base",
            "top": null,
            "grid_column": null,
            "overflow_y": null,
            "overflow_x": null,
            "grid_auto_flow": null,
            "grid_area": null,
            "grid_template_columns": null,
            "flex": null,
            "_model_name": "LayoutModel",
            "justify_items": null,
            "grid_row": null,
            "max_height": null,
            "align_content": null,
            "visibility": null,
            "align_self": null,
            "height": null,
            "min_height": null,
            "padding": null,
            "grid_auto_rows": null,
            "grid_gap": null,
            "max_width": null,
            "order": null,
            "_view_module_version": "1.2.0",
            "grid_template_areas": null,
            "object_position": null,
            "object_fit": null,
            "grid_auto_columns": null,
            "margin": null,
            "display": null,
            "left": null
          }
        },
        "175fbe5fa06640d5bbf573bd40c5431f": {
          "model_module": "@jupyter-widgets/controls",
          "model_name": "DescriptionStyleModel",
          "state": {
            "_view_name": "StyleView",
            "_model_name": "DescriptionStyleModel",
            "description_width": "",
            "_view_module": "@jupyter-widgets/base",
            "_model_module_version": "1.5.0",
            "_view_count": null,
            "_view_module_version": "1.2.0",
            "_model_module": "@jupyter-widgets/controls"
          }
        },
        "2be186c7a08940ddab9e4147b598ab1f": {
          "model_module": "@jupyter-widgets/base",
          "model_name": "LayoutModel",
          "state": {
            "_view_name": "LayoutView",
            "grid_template_rows": null,
            "right": null,
            "justify_content": null,
            "_view_module": "@jupyter-widgets/base",
            "overflow": null,
            "_model_module_version": "1.2.0",
            "_view_count": null,
            "flex_flow": null,
            "width": null,
            "min_width": null,
            "border": null,
            "align_items": null,
            "bottom": null,
            "_model_module": "@jupyter-widgets/base",
            "top": null,
            "grid_column": null,
            "overflow_y": null,
            "overflow_x": null,
            "grid_auto_flow": null,
            "grid_area": null,
            "grid_template_columns": null,
            "flex": null,
            "_model_name": "LayoutModel",
            "justify_items": null,
            "grid_row": null,
            "max_height": null,
            "align_content": null,
            "visibility": null,
            "align_self": null,
            "height": null,
            "min_height": null,
            "padding": null,
            "grid_auto_rows": null,
            "grid_gap": null,
            "max_width": null,
            "order": null,
            "_view_module_version": "1.2.0",
            "grid_template_areas": null,
            "object_position": null,
            "object_fit": null,
            "grid_auto_columns": null,
            "margin": null,
            "display": null,
            "left": null
          }
        },
        "4f0578e725d943dd9e49f396cf74a5cd": {
          "model_module": "@jupyter-widgets/controls",
          "model_name": "HBoxModel",
          "state": {
            "_view_name": "HBoxView",
            "_dom_classes": [],
            "_model_name": "HBoxModel",
            "_view_module": "@jupyter-widgets/controls",
            "_model_module_version": "1.5.0",
            "_view_count": null,
            "_view_module_version": "1.5.0",
            "box_style": "",
            "layout": "IPY_MODEL_42c1583a112745ae99d20c8a6ab5088c",
            "_model_module": "@jupyter-widgets/controls",
            "children": [
              "IPY_MODEL_3f72806335144b71b558d78e9148964e",
              "IPY_MODEL_cea60c3a97b1407794c31f5325a24c67"
            ]
          }
        },
        "42c1583a112745ae99d20c8a6ab5088c": {
          "model_module": "@jupyter-widgets/base",
          "model_name": "LayoutModel",
          "state": {
            "_view_name": "LayoutView",
            "grid_template_rows": null,
            "right": null,
            "justify_content": null,
            "_view_module": "@jupyter-widgets/base",
            "overflow": null,
            "_model_module_version": "1.2.0",
            "_view_count": null,
            "flex_flow": null,
            "width": null,
            "min_width": null,
            "border": null,
            "align_items": null,
            "bottom": null,
            "_model_module": "@jupyter-widgets/base",
            "top": null,
            "grid_column": null,
            "overflow_y": null,
            "overflow_x": null,
            "grid_auto_flow": null,
            "grid_area": null,
            "grid_template_columns": null,
            "flex": null,
            "_model_name": "LayoutModel",
            "justify_items": null,
            "grid_row": null,
            "max_height": null,
            "align_content": null,
            "visibility": null,
            "align_self": null,
            "height": null,
            "min_height": null,
            "padding": null,
            "grid_auto_rows": null,
            "grid_gap": null,
            "max_width": null,
            "order": null,
            "_view_module_version": "1.2.0",
            "grid_template_areas": null,
            "object_position": null,
            "object_fit": null,
            "grid_auto_columns": null,
            "margin": null,
            "display": null,
            "left": null
          }
        },
        "3f72806335144b71b558d78e9148964e": {
          "model_module": "@jupyter-widgets/controls",
          "model_name": "FloatProgressModel",
          "state": {
            "_view_name": "ProgressView",
            "style": "IPY_MODEL_aa8223553d2f46f5a330cd10a0fe35e0",
            "_dom_classes": [],
            "description": "Downloading: 100%",
            "_model_name": "FloatProgressModel",
            "bar_style": "success",
            "max": 456318,
            "_view_module": "@jupyter-widgets/controls",
            "_model_module_version": "1.5.0",
            "value": 456318,
            "_view_count": null,
            "_view_module_version": "1.5.0",
            "orientation": "horizontal",
            "min": 0,
            "description_tooltip": null,
            "_model_module": "@jupyter-widgets/controls",
            "layout": "IPY_MODEL_a3b2bd0ec9ed41288d07e5ca4c7c7c59"
          }
        },
        "cea60c3a97b1407794c31f5325a24c67": {
          "model_module": "@jupyter-widgets/controls",
          "model_name": "HTMLModel",
          "state": {
            "_view_name": "HTMLView",
            "style": "IPY_MODEL_bbc2b3efefca4f0aa2a67e2531cb985e",
            "_dom_classes": [],
            "description": "",
            "_model_name": "HTMLModel",
            "placeholder": "​",
            "_view_module": "@jupyter-widgets/controls",
            "_model_module_version": "1.5.0",
            "value": " 456k/456k [00:00&lt;00:00, 4.42MB/s]",
            "_view_count": null,
            "_view_module_version": "1.5.0",
            "description_tooltip": null,
            "_model_module": "@jupyter-widgets/controls",
            "layout": "IPY_MODEL_27fabeaf3bf745758023d074b5885889"
          }
        },
        "aa8223553d2f46f5a330cd10a0fe35e0": {
          "model_module": "@jupyter-widgets/controls",
          "model_name": "ProgressStyleModel",
          "state": {
            "_view_name": "StyleView",
            "_model_name": "ProgressStyleModel",
            "description_width": "initial",
            "_view_module": "@jupyter-widgets/base",
            "_model_module_version": "1.5.0",
            "_view_count": null,
            "_view_module_version": "1.2.0",
            "bar_color": null,
            "_model_module": "@jupyter-widgets/controls"
          }
        },
        "a3b2bd0ec9ed41288d07e5ca4c7c7c59": {
          "model_module": "@jupyter-widgets/base",
          "model_name": "LayoutModel",
          "state": {
            "_view_name": "LayoutView",
            "grid_template_rows": null,
            "right": null,
            "justify_content": null,
            "_view_module": "@jupyter-widgets/base",
            "overflow": null,
            "_model_module_version": "1.2.0",
            "_view_count": null,
            "flex_flow": null,
            "width": null,
            "min_width": null,
            "border": null,
            "align_items": null,
            "bottom": null,
            "_model_module": "@jupyter-widgets/base",
            "top": null,
            "grid_column": null,
            "overflow_y": null,
            "overflow_x": null,
            "grid_auto_flow": null,
            "grid_area": null,
            "grid_template_columns": null,
            "flex": null,
            "_model_name": "LayoutModel",
            "justify_items": null,
            "grid_row": null,
            "max_height": null,
            "align_content": null,
            "visibility": null,
            "align_self": null,
            "height": null,
            "min_height": null,
            "padding": null,
            "grid_auto_rows": null,
            "grid_gap": null,
            "max_width": null,
            "order": null,
            "_view_module_version": "1.2.0",
            "grid_template_areas": null,
            "object_position": null,
            "object_fit": null,
            "grid_auto_columns": null,
            "margin": null,
            "display": null,
            "left": null
          }
        },
        "bbc2b3efefca4f0aa2a67e2531cb985e": {
          "model_module": "@jupyter-widgets/controls",
          "model_name": "DescriptionStyleModel",
          "state": {
            "_view_name": "StyleView",
            "_model_name": "DescriptionStyleModel",
            "description_width": "",
            "_view_module": "@jupyter-widgets/base",
            "_model_module_version": "1.5.0",
            "_view_count": null,
            "_view_module_version": "1.2.0",
            "_model_module": "@jupyter-widgets/controls"
          }
        },
        "27fabeaf3bf745758023d074b5885889": {
          "model_module": "@jupyter-widgets/base",
          "model_name": "LayoutModel",
          "state": {
            "_view_name": "LayoutView",
            "grid_template_rows": null,
            "right": null,
            "justify_content": null,
            "_view_module": "@jupyter-widgets/base",
            "overflow": null,
            "_model_module_version": "1.2.0",
            "_view_count": null,
            "flex_flow": null,
            "width": null,
            "min_width": null,
            "border": null,
            "align_items": null,
            "bottom": null,
            "_model_module": "@jupyter-widgets/base",
            "top": null,
            "grid_column": null,
            "overflow_y": null,
            "overflow_x": null,
            "grid_auto_flow": null,
            "grid_area": null,
            "grid_template_columns": null,
            "flex": null,
            "_model_name": "LayoutModel",
            "justify_items": null,
            "grid_row": null,
            "max_height": null,
            "align_content": null,
            "visibility": null,
            "align_self": null,
            "height": null,
            "min_height": null,
            "padding": null,
            "grid_auto_rows": null,
            "grid_gap": null,
            "max_width": null,
            "order": null,
            "_view_module_version": "1.2.0",
            "grid_template_areas": null,
            "object_position": null,
            "object_fit": null,
            "grid_auto_columns": null,
            "margin": null,
            "display": null,
            "left": null
          }
        },
        "4db19fe40b6a4517bb89d8ea4e727035": {
          "model_module": "@jupyter-widgets/controls",
          "model_name": "HBoxModel",
          "state": {
            "_view_name": "HBoxView",
            "_dom_classes": [],
            "_model_name": "HBoxModel",
            "_view_module": "@jupyter-widgets/controls",
            "_model_module_version": "1.5.0",
            "_view_count": null,
            "_view_module_version": "1.5.0",
            "box_style": "",
            "layout": "IPY_MODEL_74402142ba3d4fafa265abe4cb3418ce",
            "_model_module": "@jupyter-widgets/controls",
            "children": [
              "IPY_MODEL_48f4319f95a246878b8e9a10471262b2",
              "IPY_MODEL_23dc02e764074fb5aadf245eb608d4e3"
            ]
          }
        },
        "74402142ba3d4fafa265abe4cb3418ce": {
          "model_module": "@jupyter-widgets/base",
          "model_name": "LayoutModel",
          "state": {
            "_view_name": "LayoutView",
            "grid_template_rows": null,
            "right": null,
            "justify_content": null,
            "_view_module": "@jupyter-widgets/base",
            "overflow": null,
            "_model_module_version": "1.2.0",
            "_view_count": null,
            "flex_flow": null,
            "width": null,
            "min_width": null,
            "border": null,
            "align_items": null,
            "bottom": null,
            "_model_module": "@jupyter-widgets/base",
            "top": null,
            "grid_column": null,
            "overflow_y": null,
            "overflow_x": null,
            "grid_auto_flow": null,
            "grid_area": null,
            "grid_template_columns": null,
            "flex": null,
            "_model_name": "LayoutModel",
            "justify_items": null,
            "grid_row": null,
            "max_height": null,
            "align_content": null,
            "visibility": null,
            "align_self": null,
            "height": null,
            "min_height": null,
            "padding": null,
            "grid_auto_rows": null,
            "grid_gap": null,
            "max_width": null,
            "order": null,
            "_view_module_version": "1.2.0",
            "grid_template_areas": null,
            "object_position": null,
            "object_fit": null,
            "grid_auto_columns": null,
            "margin": null,
            "display": null,
            "left": null
          }
        },
        "48f4319f95a246878b8e9a10471262b2": {
          "model_module": "@jupyter-widgets/controls",
          "model_name": "FloatProgressModel",
          "state": {
            "_view_name": "ProgressView",
            "style": "IPY_MODEL_cb6d66d9860449b5b6a4a931e2699009",
            "_dom_classes": [],
            "description": "Downloading: 100%",
            "_model_name": "FloatProgressModel",
            "bar_style": "success",
            "max": 665,
            "_view_module": "@jupyter-widgets/controls",
            "_model_module_version": "1.5.0",
            "value": 665,
            "_view_count": null,
            "_view_module_version": "1.5.0",
            "orientation": "horizontal",
            "min": 0,
            "description_tooltip": null,
            "_model_module": "@jupyter-widgets/controls",
            "layout": "IPY_MODEL_ec59af67d0104b30b8ead4da5639de94"
          }
        },
        "23dc02e764074fb5aadf245eb608d4e3": {
          "model_module": "@jupyter-widgets/controls",
          "model_name": "HTMLModel",
          "state": {
            "_view_name": "HTMLView",
            "style": "IPY_MODEL_e6f6dc4777674de4ac163d0584e228a5",
            "_dom_classes": [],
            "description": "",
            "_model_name": "HTMLModel",
            "placeholder": "​",
            "_view_module": "@jupyter-widgets/controls",
            "_model_module_version": "1.5.0",
            "value": " 665/665 [00:00&lt;00:00, 2.05kB/s]",
            "_view_count": null,
            "_view_module_version": "1.5.0",
            "description_tooltip": null,
            "_model_module": "@jupyter-widgets/controls",
            "layout": "IPY_MODEL_e11fa5a34e7d4defa6fae8aa98b4c5af"
          }
        },
        "cb6d66d9860449b5b6a4a931e2699009": {
          "model_module": "@jupyter-widgets/controls",
          "model_name": "ProgressStyleModel",
          "state": {
            "_view_name": "StyleView",
            "_model_name": "ProgressStyleModel",
            "description_width": "initial",
            "_view_module": "@jupyter-widgets/base",
            "_model_module_version": "1.5.0",
            "_view_count": null,
            "_view_module_version": "1.2.0",
            "bar_color": null,
            "_model_module": "@jupyter-widgets/controls"
          }
        },
        "ec59af67d0104b30b8ead4da5639de94": {
          "model_module": "@jupyter-widgets/base",
          "model_name": "LayoutModel",
          "state": {
            "_view_name": "LayoutView",
            "grid_template_rows": null,
            "right": null,
            "justify_content": null,
            "_view_module": "@jupyter-widgets/base",
            "overflow": null,
            "_model_module_version": "1.2.0",
            "_view_count": null,
            "flex_flow": null,
            "width": null,
            "min_width": null,
            "border": null,
            "align_items": null,
            "bottom": null,
            "_model_module": "@jupyter-widgets/base",
            "top": null,
            "grid_column": null,
            "overflow_y": null,
            "overflow_x": null,
            "grid_auto_flow": null,
            "grid_area": null,
            "grid_template_columns": null,
            "flex": null,
            "_model_name": "LayoutModel",
            "justify_items": null,
            "grid_row": null,
            "max_height": null,
            "align_content": null,
            "visibility": null,
            "align_self": null,
            "height": null,
            "min_height": null,
            "padding": null,
            "grid_auto_rows": null,
            "grid_gap": null,
            "max_width": null,
            "order": null,
            "_view_module_version": "1.2.0",
            "grid_template_areas": null,
            "object_position": null,
            "object_fit": null,
            "grid_auto_columns": null,
            "margin": null,
            "display": null,
            "left": null
          }
        },
        "e6f6dc4777674de4ac163d0584e228a5": {
          "model_module": "@jupyter-widgets/controls",
          "model_name": "DescriptionStyleModel",
          "state": {
            "_view_name": "StyleView",
            "_model_name": "DescriptionStyleModel",
            "description_width": "",
            "_view_module": "@jupyter-widgets/base",
            "_model_module_version": "1.5.0",
            "_view_count": null,
            "_view_module_version": "1.2.0",
            "_model_module": "@jupyter-widgets/controls"
          }
        },
        "e11fa5a34e7d4defa6fae8aa98b4c5af": {
          "model_module": "@jupyter-widgets/base",
          "model_name": "LayoutModel",
          "state": {
            "_view_name": "LayoutView",
            "grid_template_rows": null,
            "right": null,
            "justify_content": null,
            "_view_module": "@jupyter-widgets/base",
            "overflow": null,
            "_model_module_version": "1.2.0",
            "_view_count": null,
            "flex_flow": null,
            "width": null,
            "min_width": null,
            "border": null,
            "align_items": null,
            "bottom": null,
            "_model_module": "@jupyter-widgets/base",
            "top": null,
            "grid_column": null,
            "overflow_y": null,
            "overflow_x": null,
            "grid_auto_flow": null,
            "grid_area": null,
            "grid_template_columns": null,
            "flex": null,
            "_model_name": "LayoutModel",
            "justify_items": null,
            "grid_row": null,
            "max_height": null,
            "align_content": null,
            "visibility": null,
            "align_self": null,
            "height": null,
            "min_height": null,
            "padding": null,
            "grid_auto_rows": null,
            "grid_gap": null,
            "max_width": null,
            "order": null,
            "_view_module_version": "1.2.0",
            "grid_template_areas": null,
            "object_position": null,
            "object_fit": null,
            "grid_auto_columns": null,
            "margin": null,
            "display": null,
            "left": null
          }
        },
        "eca38129caa844738ea86239aae26637": {
          "model_module": "@jupyter-widgets/controls",
          "model_name": "HBoxModel",
          "state": {
            "_view_name": "HBoxView",
            "_dom_classes": [],
            "_model_name": "HBoxModel",
            "_view_module": "@jupyter-widgets/controls",
            "_model_module_version": "1.5.0",
            "_view_count": null,
            "_view_module_version": "1.5.0",
            "box_style": "",
            "layout": "IPY_MODEL_ac98a54cc6c44d2e8b94b6ddf3a6ba7b",
            "_model_module": "@jupyter-widgets/controls",
            "children": [
              "IPY_MODEL_8e33da906ee34dc68bbea3ce1359cb4a",
              "IPY_MODEL_b73dd0c870384496955fc8409b3e09df"
            ]
          }
        },
        "ac98a54cc6c44d2e8b94b6ddf3a6ba7b": {
          "model_module": "@jupyter-widgets/base",
          "model_name": "LayoutModel",
          "state": {
            "_view_name": "LayoutView",
            "grid_template_rows": null,
            "right": null,
            "justify_content": null,
            "_view_module": "@jupyter-widgets/base",
            "overflow": null,
            "_model_module_version": "1.2.0",
            "_view_count": null,
            "flex_flow": null,
            "width": null,
            "min_width": null,
            "border": null,
            "align_items": null,
            "bottom": null,
            "_model_module": "@jupyter-widgets/base",
            "top": null,
            "grid_column": null,
            "overflow_y": null,
            "overflow_x": null,
            "grid_auto_flow": null,
            "grid_area": null,
            "grid_template_columns": null,
            "flex": null,
            "_model_name": "LayoutModel",
            "justify_items": null,
            "grid_row": null,
            "max_height": null,
            "align_content": null,
            "visibility": null,
            "align_self": null,
            "height": null,
            "min_height": null,
            "padding": null,
            "grid_auto_rows": null,
            "grid_gap": null,
            "max_width": null,
            "order": null,
            "_view_module_version": "1.2.0",
            "grid_template_areas": null,
            "object_position": null,
            "object_fit": null,
            "grid_auto_columns": null,
            "margin": null,
            "display": null,
            "left": null
          }
        },
        "8e33da906ee34dc68bbea3ce1359cb4a": {
          "model_module": "@jupyter-widgets/controls",
          "model_name": "FloatProgressModel",
          "state": {
            "_view_name": "ProgressView",
            "style": "IPY_MODEL_f1ad234a246248ad97252c7e363ed0f1",
            "_dom_classes": [],
            "description": "Downloading: 100%",
            "_model_name": "FloatProgressModel",
            "bar_style": "success",
            "max": 497933648,
            "_view_module": "@jupyter-widgets/controls",
            "_model_module_version": "1.5.0",
            "value": 497933648,
            "_view_count": null,
            "_view_module_version": "1.5.0",
            "orientation": "horizontal",
            "min": 0,
            "description_tooltip": null,
            "_model_module": "@jupyter-widgets/controls",
            "layout": "IPY_MODEL_b818271c8e5745a3bd3cac2e383118a0"
          }
        },
        "b73dd0c870384496955fc8409b3e09df": {
          "model_module": "@jupyter-widgets/controls",
          "model_name": "HTMLModel",
          "state": {
            "_view_name": "HTMLView",
            "style": "IPY_MODEL_9a317f82a30b4a28b0f897a399bc1b68",
            "_dom_classes": [],
            "description": "",
            "_model_name": "HTMLModel",
            "placeholder": "​",
            "_view_module": "@jupyter-widgets/controls",
            "_model_module_version": "1.5.0",
            "value": " 498M/498M [00:13&lt;00:00, 37.3MB/s]",
            "_view_count": null,
            "_view_module_version": "1.5.0",
            "description_tooltip": null,
            "_model_module": "@jupyter-widgets/controls",
            "layout": "IPY_MODEL_452cc031fca1474d9db2589b1fac2004"
          }
        },
        "f1ad234a246248ad97252c7e363ed0f1": {
          "model_module": "@jupyter-widgets/controls",
          "model_name": "ProgressStyleModel",
          "state": {
            "_view_name": "StyleView",
            "_model_name": "ProgressStyleModel",
            "description_width": "initial",
            "_view_module": "@jupyter-widgets/base",
            "_model_module_version": "1.5.0",
            "_view_count": null,
            "_view_module_version": "1.2.0",
            "bar_color": null,
            "_model_module": "@jupyter-widgets/controls"
          }
        },
        "b818271c8e5745a3bd3cac2e383118a0": {
          "model_module": "@jupyter-widgets/base",
          "model_name": "LayoutModel",
          "state": {
            "_view_name": "LayoutView",
            "grid_template_rows": null,
            "right": null,
            "justify_content": null,
            "_view_module": "@jupyter-widgets/base",
            "overflow": null,
            "_model_module_version": "1.2.0",
            "_view_count": null,
            "flex_flow": null,
            "width": null,
            "min_width": null,
            "border": null,
            "align_items": null,
            "bottom": null,
            "_model_module": "@jupyter-widgets/base",
            "top": null,
            "grid_column": null,
            "overflow_y": null,
            "overflow_x": null,
            "grid_auto_flow": null,
            "grid_area": null,
            "grid_template_columns": null,
            "flex": null,
            "_model_name": "LayoutModel",
            "justify_items": null,
            "grid_row": null,
            "max_height": null,
            "align_content": null,
            "visibility": null,
            "align_self": null,
            "height": null,
            "min_height": null,
            "padding": null,
            "grid_auto_rows": null,
            "grid_gap": null,
            "max_width": null,
            "order": null,
            "_view_module_version": "1.2.0",
            "grid_template_areas": null,
            "object_position": null,
            "object_fit": null,
            "grid_auto_columns": null,
            "margin": null,
            "display": null,
            "left": null
          }
        },
        "9a317f82a30b4a28b0f897a399bc1b68": {
          "model_module": "@jupyter-widgets/controls",
          "model_name": "DescriptionStyleModel",
          "state": {
            "_view_name": "StyleView",
            "_model_name": "DescriptionStyleModel",
            "description_width": "",
            "_view_module": "@jupyter-widgets/base",
            "_model_module_version": "1.5.0",
            "_view_count": null,
            "_view_module_version": "1.2.0",
            "_model_module": "@jupyter-widgets/controls"
          }
        },
        "452cc031fca1474d9db2589b1fac2004": {
          "model_module": "@jupyter-widgets/base",
          "model_name": "LayoutModel",
          "state": {
            "_view_name": "LayoutView",
            "grid_template_rows": null,
            "right": null,
            "justify_content": null,
            "_view_module": "@jupyter-widgets/base",
            "overflow": null,
            "_model_module_version": "1.2.0",
            "_view_count": null,
            "flex_flow": null,
            "width": null,
            "min_width": null,
            "border": null,
            "align_items": null,
            "bottom": null,
            "_model_module": "@jupyter-widgets/base",
            "top": null,
            "grid_column": null,
            "overflow_y": null,
            "overflow_x": null,
            "grid_auto_flow": null,
            "grid_area": null,
            "grid_template_columns": null,
            "flex": null,
            "_model_name": "LayoutModel",
            "justify_items": null,
            "grid_row": null,
            "max_height": null,
            "align_content": null,
            "visibility": null,
            "align_self": null,
            "height": null,
            "min_height": null,
            "padding": null,
            "grid_auto_rows": null,
            "grid_gap": null,
            "max_width": null,
            "order": null,
            "_view_module_version": "1.2.0",
            "grid_template_areas": null,
            "object_position": null,
            "object_fit": null,
            "grid_auto_columns": null,
            "margin": null,
            "display": null,
            "left": null
          }
        }
      }
    }
  },
  "cells": [
    {
      "cell_type": "markdown",
      "metadata": {
        "id": "tHopPtVaNF1K"
      },
      "source": [
        "# **Diplomado IA: Aplicaciones 1 - NLP**. <br> Práctico 3: Modelos de lenguaje (ElMo, BERT, GPT2)\n",
        "---\n",
        "---\n",
        "\n",
        "**Profesores:**\n",
        "- Carlos Aspillaga\n",
        "- Pablo Messina\n",
        "\n",
        "**Ayudante:**\n",
        "- Nissim Ergas\n",
        "---\n",
        "---"
      ]
    },
    {
      "cell_type": "markdown",
      "metadata": {
        "id": "D4--58EgLXxI"
      },
      "source": [
        "# **Instrucciones Generales**"
      ]
    },
    {
      "cell_type": "markdown",
      "metadata": {
        "id": "BmhnKlt8Ns7A"
      },
      "source": [
        "El siguiente práctico se puede realizar **individualmente o en parejas**. Solo uno debe realizar la entrega. El formato de entrega es el **archivo .ipynb con todas las celdas ejecutadas**. Todas las preguntas deben ser respondidas en las celdas dispuestas para ello. No se aceptará el _output_ de una celda de código como respuesta.\n",
        "\n",
        "**Nombre compañero 1:** FRANCISCO MENA\n",
        "\n",
        "**Nombre compañero 2:** COMPLETAR\n",
        "\n",
        "El siguiente práctico cuenta con 4 partes y contendrá actividades a realizar."
      ]
    },
    {
      "cell_type": "markdown",
      "metadata": {
        "id": "vHDoXTE35Dc5"
      },
      "source": [
        "**IMPORTANTE: habrá un bonus de 1 décima para todos aquellos alumnos/as que muestren buen orden en sus respuestas (esto aplica a legibilidad de código, buena redacción, formalidad, organización del jupyter notebook, seguimiento de instrucciones, etc). El criterio lo pondrá cada ayudante corrector. La nota máxima obtenible en el laboratorio es 7.0**"
      ]
    },
    {
      "cell_type": "markdown",
      "metadata": {
        "id": "jCb8075QLdVx"
      },
      "source": [
        "# **Índice**"
      ]
    },
    {
      "cell_type": "markdown",
      "metadata": {
        "id": "DGlX5q_pQYRa",
        "colab_type": "toc"
      },
      "source": [
        ">[Diplomado IA: Aplicaciones 1 - NLP.  Práctico 3: Modelos de lenguaje (ElMo, BERT, GPT2)](#scrollTo=tHopPtVaNF1K)\n",
        "\n",
        ">[Instrucciones Generales](#scrollTo=D4--58EgLXxI)\n",
        "\n",
        ">[Índice](#scrollTo=jCb8075QLdVx)\n",
        "\n",
        ">[ELMo](#scrollTo=QowbUszVAyrv)\n",
        "\n",
        ">>[Instalación de dependencias](#scrollTo=s_-RHBZkLxIO)\n",
        "\n",
        ">>[ELMo: Uso Básico](#scrollTo=GeY2bVqKLUz1)\n",
        "\n",
        ">>[Visualizando los embeddings de ELMo](#scrollTo=Kzd_GOxunlh5)\n",
        "\n",
        ">>[Actividades](#scrollTo=QiOarh-8d81k)\n",
        "\n",
        ">[Librería \"Transformers\", de Huggingface](#scrollTo=XmRz5CaMDuNJ)\n",
        "\n",
        ">>[Instalación de dependencias](#scrollTo=WAl2ZQQ3Lm9R)\n",
        "\n",
        ">>[Uso básico de la librería](#scrollTo=IEf542-yNkLX)\n",
        "\n",
        ">>[Actividad](#scrollTo=rzmdJB4EObaw)\n",
        "\n",
        ">[BERT](#scrollTo=TUoT7x1uNu0i)\n",
        "\n",
        ">>[Finetuning de BERT para detectar Fake News](#scrollTo=9D9wMxO7NDAy)\n",
        "\n",
        ">[GPT-2](#scrollTo=uCE6qym-NxJs)\n",
        "\n",
        ">>[GPT-2: Generación de texto](#scrollTo=sQI4zJORMjkX)\n",
        "\n",
        ">>[Actividades](#scrollTo=rKftFZ2W4XKJ)\n",
        "\n",
        ">[Actividad Final](#scrollTo=Acvhf7xiPN1W)\n",
        "\n"
      ]
    },
    {
      "cell_type": "markdown",
      "metadata": {
        "id": "QowbUszVAyrv"
      },
      "source": [
        "# **ELMo**"
      ]
    },
    {
      "cell_type": "markdown",
      "metadata": {
        "id": "FOD6z3IZ49Lj"
      },
      "source": [
        "![ELMo](https://cdn.analyticsvidhya.com/wp-content/uploads/2019/03/output_YyJc8E.gif)"
      ]
    },
    {
      "cell_type": "markdown",
      "metadata": {
        "id": "s_-RHBZkLxIO"
      },
      "source": [
        "##Instalación de dependencias"
      ]
    },
    {
      "cell_type": "markdown",
      "metadata": {
        "id": "MN8X5iC2hYr3"
      },
      "source": [
        "Instalamos el tokenizador usado en la implementación original de ELMo: Moses"
      ]
    },
    {
      "cell_type": "code",
      "metadata": {
        "id": "XeMq_07MR6jl",
        "colab": {
          "base_uri": "https://localhost:8080/"
        },
        "outputId": "8dadb254-1f09-4754-cc03-2b79e459b147"
      },
      "source": [
        "!pip install sacremoses"
      ],
      "execution_count": null,
      "outputs": [
        {
          "output_type": "stream",
          "text": [
            "Collecting sacremoses\n",
            "\u001b[?25l  Downloading https://files.pythonhosted.org/packages/7d/34/09d19aff26edcc8eb2a01bed8e98f13a1537005d31e95233fd48216eed10/sacremoses-0.0.43.tar.gz (883kB)\n",
            "\r\u001b[K     |▍                               | 10kB 26.3MB/s eta 0:00:01\r\u001b[K     |▊                               | 20kB 14.5MB/s eta 0:00:01\r\u001b[K     |█▏                              | 30kB 12.7MB/s eta 0:00:01\r\u001b[K     |█▌                              | 40kB 11.3MB/s eta 0:00:01\r\u001b[K     |█▉                              | 51kB 7.7MB/s eta 0:00:01\r\u001b[K     |██▎                             | 61kB 7.2MB/s eta 0:00:01\r\u001b[K     |██▋                             | 71kB 8.2MB/s eta 0:00:01\r\u001b[K     |███                             | 81kB 9.1MB/s eta 0:00:01\r\u001b[K     |███▍                            | 92kB 9.6MB/s eta 0:00:01\r\u001b[K     |███▊                            | 102kB 7.5MB/s eta 0:00:01\r\u001b[K     |████                            | 112kB 7.5MB/s eta 0:00:01\r\u001b[K     |████▌                           | 122kB 7.5MB/s eta 0:00:01\r\u001b[K     |████▉                           | 133kB 7.5MB/s eta 0:00:01\r\u001b[K     |█████▏                          | 143kB 7.5MB/s eta 0:00:01\r\u001b[K     |█████▋                          | 153kB 7.5MB/s eta 0:00:01\r\u001b[K     |██████                          | 163kB 7.5MB/s eta 0:00:01\r\u001b[K     |██████▎                         | 174kB 7.5MB/s eta 0:00:01\r\u001b[K     |██████▊                         | 184kB 7.5MB/s eta 0:00:01\r\u001b[K     |███████                         | 194kB 7.5MB/s eta 0:00:01\r\u001b[K     |███████▍                        | 204kB 7.5MB/s eta 0:00:01\r\u001b[K     |███████▉                        | 215kB 7.5MB/s eta 0:00:01\r\u001b[K     |████████▏                       | 225kB 7.5MB/s eta 0:00:01\r\u001b[K     |████████▌                       | 235kB 7.5MB/s eta 0:00:01\r\u001b[K     |█████████                       | 245kB 7.5MB/s eta 0:00:01\r\u001b[K     |█████████▎                      | 256kB 7.5MB/s eta 0:00:01\r\u001b[K     |█████████▋                      | 266kB 7.5MB/s eta 0:00:01\r\u001b[K     |██████████                      | 276kB 7.5MB/s eta 0:00:01\r\u001b[K     |██████████▍                     | 286kB 7.5MB/s eta 0:00:01\r\u001b[K     |██████████▊                     | 296kB 7.5MB/s eta 0:00:01\r\u001b[K     |███████████▏                    | 307kB 7.5MB/s eta 0:00:01\r\u001b[K     |███████████▌                    | 317kB 7.5MB/s eta 0:00:01\r\u001b[K     |███████████▉                    | 327kB 7.5MB/s eta 0:00:01\r\u001b[K     |████████████▎                   | 337kB 7.5MB/s eta 0:00:01\r\u001b[K     |████████████▋                   | 348kB 7.5MB/s eta 0:00:01\r\u001b[K     |█████████████                   | 358kB 7.5MB/s eta 0:00:01\r\u001b[K     |█████████████▍                  | 368kB 7.5MB/s eta 0:00:01\r\u001b[K     |█████████████▊                  | 378kB 7.5MB/s eta 0:00:01\r\u001b[K     |██████████████                  | 389kB 7.5MB/s eta 0:00:01\r\u001b[K     |██████████████▌                 | 399kB 7.5MB/s eta 0:00:01\r\u001b[K     |██████████████▉                 | 409kB 7.5MB/s eta 0:00:01\r\u001b[K     |███████████████▏                | 419kB 7.5MB/s eta 0:00:01\r\u001b[K     |███████████████▋                | 430kB 7.5MB/s eta 0:00:01\r\u001b[K     |████████████████                | 440kB 7.5MB/s eta 0:00:01\r\u001b[K     |████████████████▎               | 450kB 7.5MB/s eta 0:00:01\r\u001b[K     |████████████████▊               | 460kB 7.5MB/s eta 0:00:01\r\u001b[K     |█████████████████               | 471kB 7.5MB/s eta 0:00:01\r\u001b[K     |█████████████████▍              | 481kB 7.5MB/s eta 0:00:01\r\u001b[K     |█████████████████▉              | 491kB 7.5MB/s eta 0:00:01\r\u001b[K     |██████████████████▏             | 501kB 7.5MB/s eta 0:00:01\r\u001b[K     |██████████████████▌             | 512kB 7.5MB/s eta 0:00:01\r\u001b[K     |███████████████████             | 522kB 7.5MB/s eta 0:00:01\r\u001b[K     |███████████████████▎            | 532kB 7.5MB/s eta 0:00:01\r\u001b[K     |███████████████████▋            | 542kB 7.5MB/s eta 0:00:01\r\u001b[K     |████████████████████            | 552kB 7.5MB/s eta 0:00:01\r\u001b[K     |████████████████████▍           | 563kB 7.5MB/s eta 0:00:01\r\u001b[K     |████████████████████▊           | 573kB 7.5MB/s eta 0:00:01\r\u001b[K     |█████████████████████▏          | 583kB 7.5MB/s eta 0:00:01\r\u001b[K     |█████████████████████▌          | 593kB 7.5MB/s eta 0:00:01\r\u001b[K     |█████████████████████▉          | 604kB 7.5MB/s eta 0:00:01\r\u001b[K     |██████████████████████▎         | 614kB 7.5MB/s eta 0:00:01\r\u001b[K     |██████████████████████▋         | 624kB 7.5MB/s eta 0:00:01\r\u001b[K     |███████████████████████         | 634kB 7.5MB/s eta 0:00:01\r\u001b[K     |███████████████████████▍        | 645kB 7.5MB/s eta 0:00:01\r\u001b[K     |███████████████████████▊        | 655kB 7.5MB/s eta 0:00:01\r\u001b[K     |████████████████████████        | 665kB 7.5MB/s eta 0:00:01\r\u001b[K     |████████████████████████▌       | 675kB 7.5MB/s eta 0:00:01\r\u001b[K     |████████████████████████▉       | 686kB 7.5MB/s eta 0:00:01\r\u001b[K     |█████████████████████████▏      | 696kB 7.5MB/s eta 0:00:01\r\u001b[K     |█████████████████████████▋      | 706kB 7.5MB/s eta 0:00:01\r\u001b[K     |██████████████████████████      | 716kB 7.5MB/s eta 0:00:01\r\u001b[K     |██████████████████████████▎     | 727kB 7.5MB/s eta 0:00:01\r\u001b[K     |██████████████████████████▊     | 737kB 7.5MB/s eta 0:00:01\r\u001b[K     |███████████████████████████     | 747kB 7.5MB/s eta 0:00:01\r\u001b[K     |███████████████████████████▍    | 757kB 7.5MB/s eta 0:00:01\r\u001b[K     |███████████████████████████▉    | 768kB 7.5MB/s eta 0:00:01\r\u001b[K     |████████████████████████████▏   | 778kB 7.5MB/s eta 0:00:01\r\u001b[K     |████████████████████████████▌   | 788kB 7.5MB/s eta 0:00:01\r\u001b[K     |█████████████████████████████   | 798kB 7.5MB/s eta 0:00:01\r\u001b[K     |█████████████████████████████▎  | 808kB 7.5MB/s eta 0:00:01\r\u001b[K     |█████████████████████████████▋  | 819kB 7.5MB/s eta 0:00:01\r\u001b[K     |██████████████████████████████  | 829kB 7.5MB/s eta 0:00:01\r\u001b[K     |██████████████████████████████▍ | 839kB 7.5MB/s eta 0:00:01\r\u001b[K     |██████████████████████████████▊ | 849kB 7.5MB/s eta 0:00:01\r\u001b[K     |███████████████████████████████▏| 860kB 7.5MB/s eta 0:00:01\r\u001b[K     |███████████████████████████████▌| 870kB 7.5MB/s eta 0:00:01\r\u001b[K     |███████████████████████████████▉| 880kB 7.5MB/s eta 0:00:01\r\u001b[K     |████████████████████████████████| 890kB 7.5MB/s \n",
            "\u001b[?25hRequirement already satisfied: regex in /usr/local/lib/python3.6/dist-packages (from sacremoses) (2019.12.20)\n",
            "Requirement already satisfied: six in /usr/local/lib/python3.6/dist-packages (from sacremoses) (1.15.0)\n",
            "Requirement already satisfied: click in /usr/local/lib/python3.6/dist-packages (from sacremoses) (7.1.2)\n",
            "Requirement already satisfied: joblib in /usr/local/lib/python3.6/dist-packages (from sacremoses) (1.0.0)\n",
            "Requirement already satisfied: tqdm in /usr/local/lib/python3.6/dist-packages (from sacremoses) (4.41.1)\n",
            "Building wheels for collected packages: sacremoses\n",
            "  Building wheel for sacremoses (setup.py) ... \u001b[?25l\u001b[?25hdone\n",
            "  Created wheel for sacremoses: filename=sacremoses-0.0.43-cp36-none-any.whl size=893261 sha256=dd50a14325be97b240e86e1f3f8b783d1184065e9eff17cda87535b96166a5c5\n",
            "  Stored in directory: /root/.cache/pip/wheels/29/3c/fd/7ce5c3f0666dab31a50123635e6fb5e19ceb42ce38d4e58f45\n",
            "Successfully built sacremoses\n",
            "Installing collected packages: sacremoses\n",
            "Successfully installed sacremoses-0.0.43\n"
          ],
          "name": "stdout"
        }
      ]
    },
    {
      "cell_type": "markdown",
      "metadata": {
        "id": "WuH59ctyhlT8"
      },
      "source": [
        "Instalamos la librería donde está la implementación original de los autores"
      ]
    },
    {
      "cell_type": "code",
      "metadata": {
        "id": "CVppsfjChkJ2",
        "colab": {
          "base_uri": "https://localhost:8080/",
          "height": 1000
        },
        "outputId": "406c9e39-57c7-4295-c9e6-0a8b20dbe446"
      },
      "source": [
        "!pip install allennlp==0.4.2"
      ],
      "execution_count": null,
      "outputs": [
        {
          "output_type": "stream",
          "text": [
            "Collecting allennlp==0.4.2\n",
            "\u001b[?25l  Downloading https://files.pythonhosted.org/packages/c5/60/fa613bdea022bd6c26176f5786efcc0b5a6d8acf97131e324179a99fcbaf/allennlp-0.4.2-py3-none-any.whl (710kB)\n",
            "\u001b[K     |████████████████████████████████| 716kB 7.5MB/s \n",
            "\u001b[?25hRequirement already satisfied: numpy in /usr/local/lib/python3.6/dist-packages (from allennlp==0.4.2) (1.19.4)\n",
            "Collecting argparse\n",
            "  Downloading https://files.pythonhosted.org/packages/f2/94/3af39d34be01a24a6e65433d19e107099374224905f1e0cc6bbe1fd22a2f/argparse-1.4.0-py2.py3-none-any.whl\n",
            "Collecting typing\n",
            "\u001b[?25l  Downloading https://files.pythonhosted.org/packages/05/d9/6eebe19d46bd05360c9a9aae822e67a80f9242aabbfc58b641b957546607/typing-3.7.4.3.tar.gz (78kB)\n",
            "\u001b[K     |████████████████████████████████| 81kB 8.3MB/s \n",
            "\u001b[?25hCollecting unidecode\n",
            "\u001b[?25l  Downloading https://files.pythonhosted.org/packages/d0/42/d9edfed04228bacea2d824904cae367ee9efd05e6cce7ceaaedd0b0ad964/Unidecode-1.1.1-py2.py3-none-any.whl (238kB)\n",
            "\u001b[K     |████████████████████████████████| 245kB 15.5MB/s \n",
            "\u001b[?25hRequirement already satisfied: psycopg2 in /usr/local/lib/python3.6/dist-packages (from allennlp==0.4.2) (2.7.6.1)\n",
            "Collecting awscli>=1.11.91\n",
            "\u001b[?25l  Downloading https://files.pythonhosted.org/packages/04/6a/5955f36bb3f4daf390270fbd0ae8ada3e7b8f067cc548aefb5a82dd6d423/awscli-1.18.199-py2.py3-none-any.whl (3.5MB)\n",
            "\u001b[K     |████████████████████████████████| 3.5MB 19.4MB/s \n",
            "\u001b[?25hCollecting cffi==1.11.2\n",
            "\u001b[?25l  Downloading https://files.pythonhosted.org/packages/dc/1e/b383fde1f0a14b6ef5a60f71797c778ea1ef8bb34b726cb57061c0542c58/cffi-1.11.2-cp36-cp36m-manylinux1_x86_64.whl (419kB)\n",
            "\u001b[K     |████████████████████████████████| 430kB 51.8MB/s \n",
            "\u001b[?25hRequirement already satisfied: scipy in /usr/local/lib/python3.6/dist-packages (from allennlp==0.4.2) (1.4.1)\n",
            "Collecting pyhocon==0.3.35\n",
            "\u001b[?25l  Downloading https://files.pythonhosted.org/packages/95/b9/72883593ce531e95ac8190e251ae6f5377eada69504248bf1aebfce4c5b4/pyhocon-0.3.35.tar.gz (94kB)\n",
            "\u001b[K     |████████████████████████████████| 102kB 15.7MB/s \n",
            "\u001b[?25hCollecting flask-cors==3.0.3\n",
            "  Downloading https://files.pythonhosted.org/packages/83/a7/c7243ffd096a491013956c9ee71e2ed0b7d14979fafe89986ca2d30fc6f7/Flask_Cors-3.0.3-py2.py3-none-any.whl\n",
            "Collecting pytz==2017.3\n",
            "\u001b[?25l  Downloading https://files.pythonhosted.org/packages/a3/7f/e7d1acbd433b929168a4fb4182a2ff3c33653717195a26c1de099ad1ef29/pytz-2017.3-py2.py3-none-any.whl (511kB)\n",
            "\u001b[K     |████████████████████████████████| 512kB 60.2MB/s \n",
            "\u001b[?25hRequirement already satisfied: editdistance in /usr/local/lib/python3.6/dist-packages (from allennlp==0.4.2) (0.5.3)\n",
            "Collecting gevent==1.2.2\n",
            "\u001b[?25l  Downloading https://files.pythonhosted.org/packages/a3/af/438c505b62f630c203a6a6a5a3b6fec49524c0cda7ab6392be03999537ad/gevent-1.2.2-cp36-cp36m-manylinux1_x86_64.whl (1.7MB)\n",
            "\u001b[K     |████████████████████████████████| 1.7MB 57.2MB/s \n",
            "\u001b[?25hRequirement already satisfied: h5py in /usr/local/lib/python3.6/dist-packages (from allennlp==0.4.2) (2.10.0)\n",
            "Collecting overrides\n",
            "  Downloading https://files.pythonhosted.org/packages/ff/b1/10f69c00947518e6676bbd43e739733048de64b8dd998e9c2d5a71f44c5d/overrides-3.1.0.tar.gz\n",
            "Requirement already satisfied: scikit-learn in /usr/local/lib/python3.6/dist-packages (from allennlp==0.4.2) (0.22.2.post1)\n",
            "Requirement already satisfied: requests>=2.18 in /usr/local/lib/python3.6/dist-packages (from allennlp==0.4.2) (2.23.0)\n",
            "Collecting spacy<2.1,>=2.0\n",
            "\u001b[?25l  Downloading https://files.pythonhosted.org/packages/ae/6e/a89da6b5c83f8811e46e3a9270c1aed90e9b9ee6c60faf52b7239e5d3d69/spacy-2.0.18-cp36-cp36m-manylinux1_x86_64.whl (25.2MB)\n",
            "\u001b[K     |████████████████████████████████| 25.2MB 128kB/s \n",
            "\u001b[?25hRequirement already satisfied: nltk in /usr/local/lib/python3.6/dist-packages (from allennlp==0.4.2) (3.2.5)\n",
            "Requirement already satisfied: tqdm>=4.19 in /usr/local/lib/python3.6/dist-packages (from allennlp==0.4.2) (4.41.1)\n",
            "Collecting torch==0.3.1\n",
            "\u001b[?25l  Downloading https://files.pythonhosted.org/packages/5b/a5/e8b50b55b1abac9f1e3346c4242f1e42a82d368a8442cbd50c532922f6c4/torch-0.3.1-cp36-cp36m-manylinux1_x86_64.whl (496.4MB)\n",
            "\u001b[K     |████████████████████████████████| 496.4MB 33kB/s \n",
            "\u001b[?25hCollecting tensorboardX==1.0\n",
            "\u001b[?25l  Downloading https://files.pythonhosted.org/packages/fc/bf/b98db400dd0d8a500d4ab318c410701c5b6f2b9fdd220900569dbd0a8528/tensorboardX-1.0-py2.py3-none-any.whl (42kB)\n",
            "\u001b[K     |████████████████████████████████| 51kB 9.1MB/s \n",
            "\u001b[?25hCollecting flask==0.12.1\n",
            "\u001b[?25l  Downloading https://files.pythonhosted.org/packages/f4/43/fb2d5fb1d10e1d0402dd57836cf9a78b7f69c8b5f76a04b6e6113d0d7c5a/Flask-0.12.1-py2.py3-none-any.whl (82kB)\n",
            "\u001b[K     |████████████████████████████████| 92kB 14.2MB/s \n",
            "\u001b[?25hCollecting botocore==1.19.39\n",
            "\u001b[?25l  Downloading https://files.pythonhosted.org/packages/88/7a/44a3411ff1b4814210197e314ab5b63e7313fc01886bbb9f04b953cfccef/botocore-1.19.39-py2.py3-none-any.whl (7.1MB)\n",
            "\u001b[K     |████████████████████████████████| 7.1MB 48.1MB/s \n",
            "\u001b[?25hCollecting rsa<=4.5.0,>=3.1.2; python_version != \"3.4\"\n",
            "  Downloading https://files.pythonhosted.org/packages/26/f8/8127fdda0294f044121d20aac7785feb810e159098447967a6103dedfb96/rsa-4.5-py2.py3-none-any.whl\n",
            "Collecting docutils<0.16,>=0.10\n",
            "\u001b[?25l  Downloading https://files.pythonhosted.org/packages/22/cd/a6aa959dca619918ccb55023b4cb151949c64d4d5d55b3f4ffd7eee0c6e8/docutils-0.15.2-py3-none-any.whl (547kB)\n",
            "\u001b[K     |████████████████████████████████| 552kB 55.1MB/s \n",
            "\u001b[?25hCollecting colorama<0.4.4,>=0.2.5; python_version != \"3.4\"\n",
            "  Downloading https://files.pythonhosted.org/packages/c9/dc/45cdef1b4d119eb96316b3117e6d5708a08029992b2fee2c143c7a0a5cc5/colorama-0.4.3-py2.py3-none-any.whl\n",
            "Requirement already satisfied: PyYAML<5.4,>=3.10; python_version != \"3.4\" in /usr/local/lib/python3.6/dist-packages (from awscli>=1.11.91->allennlp==0.4.2) (3.13)\n",
            "Collecting s3transfer<0.4.0,>=0.3.0\n",
            "\u001b[?25l  Downloading https://files.pythonhosted.org/packages/69/79/e6afb3d8b0b4e96cefbdc690f741d7dd24547ff1f94240c997a26fa908d3/s3transfer-0.3.3-py2.py3-none-any.whl (69kB)\n",
            "\u001b[K     |████████████████████████████████| 71kB 11.9MB/s \n",
            "\u001b[?25hRequirement already satisfied: pycparser in /usr/local/lib/python3.6/dist-packages (from cffi==1.11.2->allennlp==0.4.2) (2.20)\n",
            "Requirement already satisfied: pyparsing>=2.0.3 in /usr/local/lib/python3.6/dist-packages (from pyhocon==0.3.35->allennlp==0.4.2) (2.4.7)\n",
            "Requirement already satisfied: Six in /usr/local/lib/python3.6/dist-packages (from flask-cors==3.0.3->allennlp==0.4.2) (1.15.0)\n",
            "Collecting greenlet>=0.4.10\n",
            "\u001b[?25l  Downloading https://files.pythonhosted.org/packages/80/d0/532e160c777b42f6f393f9de8c88abb8af6c892037c55e4d3a8a211324dd/greenlet-0.4.17-cp36-cp36m-manylinux1_x86_64.whl (44kB)\n",
            "\u001b[K     |████████████████████████████████| 51kB 9.3MB/s \n",
            "\u001b[?25hRequirement already satisfied: joblib>=0.11 in /usr/local/lib/python3.6/dist-packages (from scikit-learn->allennlp==0.4.2) (1.0.0)\n",
            "Requirement already satisfied: urllib3!=1.25.0,!=1.25.1,<1.26,>=1.21.1 in /usr/local/lib/python3.6/dist-packages (from requests>=2.18->allennlp==0.4.2) (1.24.3)\n",
            "Requirement already satisfied: certifi>=2017.4.17 in /usr/local/lib/python3.6/dist-packages (from requests>=2.18->allennlp==0.4.2) (2020.12.5)\n",
            "Requirement already satisfied: idna<3,>=2.5 in /usr/local/lib/python3.6/dist-packages (from requests>=2.18->allennlp==0.4.2) (2.10)\n",
            "Requirement already satisfied: chardet<4,>=3.0.2 in /usr/local/lib/python3.6/dist-packages (from requests>=2.18->allennlp==0.4.2) (3.0.4)\n",
            "Collecting preshed<2.1.0,>=2.0.1\n",
            "\u001b[?25l  Downloading https://files.pythonhosted.org/packages/20/93/f222fb957764a283203525ef20e62008675fd0a14ffff8cc1b1490147c63/preshed-2.0.1-cp36-cp36m-manylinux1_x86_64.whl (83kB)\n",
            "\u001b[K     |████████████████████████████████| 92kB 14.6MB/s \n",
            "\u001b[?25hCollecting regex==2018.01.10\n",
            "\u001b[?25l  Downloading https://files.pythonhosted.org/packages/76/f4/7146c3812f96fcaaf2d06ff6862582302626a59011ccb6f2833bb38d80f7/regex-2018.01.10.tar.gz (612kB)\n",
            "\u001b[K     |████████████████████████████████| 614kB 45.0MB/s \n",
            "\u001b[?25hCollecting plac<1.0.0,>=0.9.6\n",
            "  Downloading https://files.pythonhosted.org/packages/9e/9b/62c60d2f5bc135d2aa1d8c8a86aaf84edb719a59c7f11a4316259e61a298/plac-0.9.6-py2.py3-none-any.whl\n",
            "Collecting ujson>=1.35\n",
            "\u001b[?25l  Downloading https://files.pythonhosted.org/packages/f1/84/e039c6ffc6603f2dfe966972d345d4f650a4ffd74b18c852ece645de12ac/ujson-4.0.1-cp36-cp36m-manylinux1_x86_64.whl (179kB)\n",
            "\u001b[K     |████████████████████████████████| 184kB 54.1MB/s \n",
            "\u001b[?25hCollecting thinc<6.13.0,>=6.12.1\n",
            "\u001b[?25l  Downloading https://files.pythonhosted.org/packages/db/a7/46640a46fd707aeb204aa4257a70974b6a22a0204ba703164d803215776f/thinc-6.12.1-cp36-cp36m-manylinux1_x86_64.whl (1.9MB)\n",
            "\u001b[K     |████████████████████████████████| 1.9MB 51.5MB/s \n",
            "\u001b[?25hRequirement already satisfied: murmurhash<1.1.0,>=0.28.0 in /usr/local/lib/python3.6/dist-packages (from spacy<2.1,>=2.0->allennlp==0.4.2) (1.0.5)\n",
            "Requirement already satisfied: cymem<2.1.0,>=2.0.2 in /usr/local/lib/python3.6/dist-packages (from spacy<2.1,>=2.0->allennlp==0.4.2) (2.0.5)\n",
            "Collecting dill<0.3,>=0.2\n",
            "\u001b[?25l  Downloading https://files.pythonhosted.org/packages/fe/42/bfe2e0857bc284cbe6a011d93f2a9ad58a22cb894461b199ae72cfef0f29/dill-0.2.9.tar.gz (150kB)\n",
            "\u001b[K     |████████████████████████████████| 153kB 54.5MB/s \n",
            "\u001b[?25hRequirement already satisfied: protobuf>=0.3.2 in /usr/local/lib/python3.6/dist-packages (from tensorboardX==1.0->allennlp==0.4.2) (3.12.4)\n",
            "Requirement already satisfied: click>=2.0 in /usr/local/lib/python3.6/dist-packages (from flask==0.12.1->allennlp==0.4.2) (7.1.2)\n",
            "Requirement already satisfied: itsdangerous>=0.21 in /usr/local/lib/python3.6/dist-packages (from flask==0.12.1->allennlp==0.4.2) (1.1.0)\n",
            "Requirement already satisfied: Jinja2>=2.4 in /usr/local/lib/python3.6/dist-packages (from flask==0.12.1->allennlp==0.4.2) (2.11.2)\n",
            "Requirement already satisfied: Werkzeug>=0.7 in /usr/local/lib/python3.6/dist-packages (from flask==0.12.1->allennlp==0.4.2) (1.0.1)\n",
            "Collecting jmespath<1.0.0,>=0.7.1\n",
            "  Downloading https://files.pythonhosted.org/packages/07/cb/5f001272b6faeb23c1c9e0acc04d48eaaf5c862c17709d20e3469c6e0139/jmespath-0.10.0-py2.py3-none-any.whl\n",
            "Requirement already satisfied: python-dateutil<3.0.0,>=2.1 in /usr/local/lib/python3.6/dist-packages (from botocore==1.19.39->awscli>=1.11.91->allennlp==0.4.2) (2.8.1)\n",
            "Requirement already satisfied: pyasn1>=0.1.3 in /usr/local/lib/python3.6/dist-packages (from rsa<=4.5.0,>=3.1.2; python_version != \"3.4\"->awscli>=1.11.91->allennlp==0.4.2) (0.4.8)\n",
            "Collecting wrapt<1.11.0,>=1.10.0\n",
            "  Downloading https://files.pythonhosted.org/packages/a0/47/66897906448185fcb77fc3c2b1bc20ed0ecca81a0f2f88eda3fc5a34fc3d/wrapt-1.10.11.tar.gz\n",
            "Collecting cytoolz<0.10,>=0.9.0\n",
            "\u001b[?25l  Downloading https://files.pythonhosted.org/packages/36/f4/9728ba01ccb2f55df9a5af029b48ba0aaca1081bbd7823ea2ee223ba7a42/cytoolz-0.9.0.1.tar.gz (443kB)\n",
            "\u001b[K     |████████████████████████████████| 450kB 47.8MB/s \n",
            "\u001b[?25hCollecting msgpack<0.6.0,>=0.5.6\n",
            "\u001b[?25l  Downloading https://files.pythonhosted.org/packages/22/4e/dcf124fd97e5f5611123d6ad9f40ffd6eb979d1efdc1049e28a795672fcd/msgpack-0.5.6-cp36-cp36m-manylinux1_x86_64.whl (315kB)\n",
            "\u001b[K     |████████████████████████████████| 317kB 55.8MB/s \n",
            "\u001b[?25hCollecting msgpack-numpy<0.4.4\n",
            "  Downloading https://files.pythonhosted.org/packages/ad/45/464be6da85b5ca893cfcbd5de3b31a6710f636ccb8521b17bd4110a08d94/msgpack_numpy-0.4.3.2-py2.py3-none-any.whl\n",
            "Requirement already satisfied: setuptools in /usr/local/lib/python3.6/dist-packages (from protobuf>=0.3.2->tensorboardX==1.0->allennlp==0.4.2) (50.3.2)\n",
            "Requirement already satisfied: MarkupSafe>=0.23 in /usr/local/lib/python3.6/dist-packages (from Jinja2>=2.4->flask==0.12.1->allennlp==0.4.2) (1.1.1)\n",
            "Requirement already satisfied: toolz>=0.8.0 in /usr/local/lib/python3.6/dist-packages (from cytoolz<0.10,>=0.9.0->thinc<6.13.0,>=6.12.1->spacy<2.1,>=2.0->allennlp==0.4.2) (0.11.1)\n",
            "Building wheels for collected packages: typing, pyhocon, overrides, regex, dill, wrapt, cytoolz\n",
            "  Building wheel for typing (setup.py) ... \u001b[?25l\u001b[?25hdone\n",
            "  Created wheel for typing: filename=typing-3.7.4.3-cp36-none-any.whl size=26310 sha256=59073b78f767e0873b2147038320e1dd8134b02548297bdd40d26f955f2452b3\n",
            "  Stored in directory: /root/.cache/pip/wheels/2d/04/41/8e1836e79581989c22eebac3f4e70aaac9af07b0908da173be\n",
            "  Building wheel for pyhocon (setup.py) ... \u001b[?25l\u001b[?25hdone\n",
            "  Created wheel for pyhocon: filename=pyhocon-0.3.35-cp36-none-any.whl size=14123 sha256=eb817ab1af79ed1fb4af1419d3d8d04df90bf74a98084cf335783930268e445c\n",
            "  Stored in directory: /root/.cache/pip/wheels/97/ea/cd/d2b70c1cfa9e6b1242709de5a64fd46be8982bc42be56d9390\n",
            "  Building wheel for overrides (setup.py) ... \u001b[?25l\u001b[?25hdone\n",
            "  Created wheel for overrides: filename=overrides-3.1.0-cp36-none-any.whl size=10175 sha256=abc8c73ac3a31f4b4836911d5e0bc60468719de7c78a54cad41d5a0ebfd987f3\n",
            "  Stored in directory: /root/.cache/pip/wheels/5c/24/13/6ef8600e6f147c95e595f1289a86a3cc82ed65df57582c65a9\n",
            "  Building wheel for regex (setup.py) ... \u001b[?25l\u001b[?25hdone\n",
            "  Created wheel for regex: filename=regex-2018.1.10-cp36-cp36m-linux_x86_64.whl size=548000 sha256=00d29835d26e0e6e976fd7834c49c59449c85579250ad7a6885b96e28bc6a4f0\n",
            "  Stored in directory: /root/.cache/pip/wheels/74/17/3f/c77bba99efd74ba1a19862c9dd97f4b6d735e2826721dc00ff\n",
            "  Building wheel for dill (setup.py) ... \u001b[?25l\u001b[?25hdone\n",
            "  Created wheel for dill: filename=dill-0.2.9-cp36-none-any.whl size=77404 sha256=902074533429f039215c612d3c5a04c418ff071d50c81bace222be1bff1d694f\n",
            "  Stored in directory: /root/.cache/pip/wheels/5b/d7/0f/e58eae695403de585269f4e4a94e0cd6ca60ec0c202936fa4a\n",
            "  Building wheel for wrapt (setup.py) ... \u001b[?25l\u001b[?25hdone\n",
            "  Created wheel for wrapt: filename=wrapt-1.10.11-cp36-cp36m-linux_x86_64.whl size=65119 sha256=cd51fb5c209f445fe2039687266125c3089232a447258e9671770561e713e8c6\n",
            "  Stored in directory: /root/.cache/pip/wheels/48/5d/04/22361a593e70d23b1f7746d932802efe1f0e523376a74f321e\n",
            "  Building wheel for cytoolz (setup.py) ... \u001b[?25l\u001b[?25hdone\n",
            "  Created wheel for cytoolz: filename=cytoolz-0.9.0.1-cp36-cp36m-linux_x86_64.whl size=1247704 sha256=706ee612d88beaef047dbe14256b5d7470f97229a13ac2b0c4119d3c200f8de8\n",
            "  Stored in directory: /root/.cache/pip/wheels/88/f3/11/9817b001e59ab04889e8cffcbd9087e2e2155b9ebecfc8dd38\n",
            "Successfully built typing pyhocon overrides regex dill wrapt cytoolz\n",
            "\u001b[31mERROR: torchvision 0.8.1+cu101 has requirement torch==1.7.0, but you'll have torch 0.3.1 which is incompatible.\u001b[0m\n",
            "\u001b[31mERROR: tensorflow 2.4.0 has requirement wrapt~=1.12.1, but you'll have wrapt 1.10.11 which is incompatible.\u001b[0m\n",
            "\u001b[31mERROR: rpy2 3.2.7 has requirement cffi>=1.13.1, but you'll have cffi 1.11.2 which is incompatible.\u001b[0m\n",
            "\u001b[31mERROR: multiprocess 0.70.11.1 has requirement dill>=0.3.3, but you'll have dill 0.2.9 which is incompatible.\u001b[0m\n",
            "\u001b[31mERROR: fastai 1.0.61 has requirement torch>=1.0.0, but you'll have torch 0.3.1 which is incompatible.\u001b[0m\n",
            "\u001b[31mERROR: en-core-web-sm 2.2.5 has requirement spacy>=2.2.2, but you'll have spacy 2.0.18 which is incompatible.\u001b[0m\n",
            "\u001b[31mERROR: datascience 0.10.6 has requirement folium==0.2.1, but you'll have folium 0.8.3 which is incompatible.\u001b[0m\n",
            "\u001b[31mERROR: botocore 1.19.39 has requirement urllib3<1.27,>=1.25.4; python_version != \"3.4\", but you'll have urllib3 1.24.3 which is incompatible.\u001b[0m\n",
            "Installing collected packages: argparse, typing, unidecode, jmespath, botocore, rsa, docutils, colorama, s3transfer, awscli, cffi, pyhocon, flask, flask-cors, pytz, greenlet, gevent, overrides, preshed, regex, plac, ujson, wrapt, cytoolz, dill, msgpack, msgpack-numpy, thinc, spacy, torch, tensorboardX, allennlp\n",
            "  Found existing installation: rsa 4.6\n",
            "    Uninstalling rsa-4.6:\n",
            "      Successfully uninstalled rsa-4.6\n",
            "  Found existing installation: docutils 0.16\n",
            "    Uninstalling docutils-0.16:\n",
            "      Successfully uninstalled docutils-0.16\n",
            "  Found existing installation: cffi 1.14.4\n",
            "    Uninstalling cffi-1.14.4:\n",
            "      Successfully uninstalled cffi-1.14.4\n",
            "  Found existing installation: Flask 1.1.2\n",
            "    Uninstalling Flask-1.1.2:\n",
            "      Successfully uninstalled Flask-1.1.2\n",
            "  Found existing installation: pytz 2018.9\n",
            "    Uninstalling pytz-2018.9:\n",
            "      Successfully uninstalled pytz-2018.9\n",
            "  Found existing installation: preshed 3.0.5\n",
            "    Uninstalling preshed-3.0.5:\n",
            "      Successfully uninstalled preshed-3.0.5\n",
            "  Found existing installation: regex 2019.12.20\n",
            "    Uninstalling regex-2019.12.20:\n",
            "      Successfully uninstalled regex-2019.12.20\n",
            "  Found existing installation: plac 1.1.3\n",
            "    Uninstalling plac-1.1.3:\n",
            "      Successfully uninstalled plac-1.1.3\n",
            "  Found existing installation: wrapt 1.12.1\n",
            "    Uninstalling wrapt-1.12.1:\n",
            "      Successfully uninstalled wrapt-1.12.1\n",
            "  Found existing installation: dill 0.3.3\n",
            "    Uninstalling dill-0.3.3:\n",
            "      Successfully uninstalled dill-0.3.3\n",
            "  Found existing installation: msgpack 1.0.1\n",
            "    Uninstalling msgpack-1.0.1:\n",
            "      Successfully uninstalled msgpack-1.0.1\n",
            "  Found existing installation: thinc 7.4.0\n",
            "    Uninstalling thinc-7.4.0:\n",
            "      Successfully uninstalled thinc-7.4.0\n",
            "  Found existing installation: spacy 2.2.4\n",
            "    Uninstalling spacy-2.2.4:\n",
            "      Successfully uninstalled spacy-2.2.4\n",
            "  Found existing installation: torch 1.7.0+cu101\n",
            "    Uninstalling torch-1.7.0+cu101:\n",
            "      Successfully uninstalled torch-1.7.0+cu101\n",
            "Successfully installed allennlp-0.4.2 argparse-1.4.0 awscli-1.18.199 botocore-1.19.39 cffi-1.11.2 colorama-0.4.3 cytoolz-0.9.0.1 dill-0.2.9 docutils-0.15.2 flask-0.12.1 flask-cors-3.0.3 gevent-1.2.2 greenlet-0.4.17 jmespath-0.10.0 msgpack-0.5.6 msgpack-numpy-0.4.3.2 overrides-3.1.0 plac-0.9.6 preshed-2.0.1 pyhocon-0.3.35 pytz-2017.3 regex-2018.1.10 rsa-4.5 s3transfer-0.3.3 spacy-2.0.18 tensorboardX-1.0 thinc-6.12.1 torch-0.3.1 typing-3.7.4.3 ujson-4.0.1 unidecode-1.1.1 wrapt-1.10.11\n"
          ],
          "name": "stdout"
        },
        {
          "output_type": "display_data",
          "data": {
            "application/vnd.colab-display-data+json": {
              "pip_warning": {
                "packages": [
                  "argparse",
                  "cffi",
                  "pytz",
                  "typing"
                ]
              }
            }
          },
          "metadata": {
            "tags": []
          }
        }
      ]
    },
    {
      "cell_type": "markdown",
      "metadata": {
        "id": "GeY2bVqKLUz1"
      },
      "source": [
        "## ELMo: Uso Básico"
      ]
    },
    {
      "cell_type": "markdown",
      "metadata": {
        "id": "b8e3_Od0D9_K"
      },
      "source": [
        "Con la librería AllenNLP, para usar ELMo preentrenado basta con crear un ElmoEmbedder indicando la ruta (o la URL) de los parámetros a usar (options.json) y pesos preentrenados (weights.hdf5) que corresponda.\n",
        "\n",
        "En el ejemplo usaremos el ELMo-large original (en inglés), pero existen varios modelos preentrenados alternativos. Por ejemplo, existe ELMo para documentos médicos (pubmed), para diferentes idiomas, etc.\n",
        "\n",
        "Aquí dejamos algunos links a versiones preentrenadas de ELMo que pueden ser de utilidad para usted:\n",
        "\n",
        "https://allennlp.org/elmo\n",
        "\n",
        "https://github.com/lastrodrigo/SpanishElmoFullWeights\n",
        "\n",
        "https://github.com/HIT-SCIR/ELMoForManyLangs"
      ]
    },
    {
      "cell_type": "code",
      "metadata": {
        "id": "aP7BE_Lzhwvw",
        "colab": {
          "base_uri": "https://localhost:8080/"
        },
        "outputId": "05a2d864-a15c-40ae-b995-e2a74c014d63"
      },
      "source": [
        "from sacremoses import MosesTokenizer\n",
        "import allennlp\n",
        "from allennlp.commands.elmo import ElmoEmbedder\n",
        "import numpy as np\n",
        "\n",
        "elmo = allennlp.commands.elmo.ElmoEmbedder(\n",
        "    options_file='https://s3-us-west-2.amazonaws.com/allennlp/models/elmo/2x4096_512_2048cnn_2xhighway_5.5B/elmo_2x4096_512_2048cnn_2xhighway_5.5B_options.json', \n",
        "    weight_file='https://s3-us-west-2.amazonaws.com/allennlp/models/elmo/2x4096_512_2048cnn_2xhighway_5.5B/elmo_2x4096_512_2048cnn_2xhighway_5.5B_weights.hdf5'\n",
        ")\n",
        "moses_tokenizer = MosesTokenizer()"
      ],
      "execution_count": null,
      "outputs": [
        {
          "output_type": "stream",
          "text": [
            "/usr/local/lib/python3.6/dist-packages/sklearn/utils/linear_assignment_.py:22: FutureWarning: The linear_assignment_ module is deprecated in 0.21 and will be removed from 0.23. Use scipy.optimize.linear_sum_assignment instead.\n",
            "  FutureWarning)\n",
            "/usr/local/lib/python3.6/dist-packages/psycopg2/__init__.py:144: UserWarning: The psycopg2 wheel package will be renamed from release 2.8; in order to keep installing from binary please use \"pip install psycopg2-binary\" instead. For details see: <http://initd.org/psycopg/docs/install.html#binary-install-from-pypi>.\n",
            "  \"\"\")\n",
            "100%|██████████| 336/336 [00:00<00:00, 96711.92B/s]\n",
            "100%|██████████| 374434792/374434792 [00:05<00:00, 65443568.04B/s]\n"
          ],
          "name": "stderr"
        }
      ]
    },
    {
      "cell_type": "code",
      "metadata": {
        "id": "EAw-n9s7h845",
        "colab": {
          "base_uri": "https://localhost:8080/"
        },
        "outputId": "120a268a-0035-480b-f971-29efb052515a"
      },
      "source": [
        "text = \"I love to eat pizza!\"\n",
        "tokenized_text = moses_tokenizer.tokenize(text, escape=False)\n",
        "embeddings = elmo.embed_sentence(tokenized_text) \n",
        "\n",
        "print('Tokenized text: '+str(tokenized_text))\n",
        "print('Output type: '+str(type(embeddings)))\n",
        "print('Output shape: '+str(embeddings.shape))\n",
        "#print('Output values: '+str(embeddings))\n"
      ],
      "execution_count": null,
      "outputs": [
        {
          "output_type": "stream",
          "text": [
            "Tokenized text: ['I', 'love', 'to', 'eat', 'pizza', '!']\n",
            "Output type: <class 'numpy.ndarray'>\n",
            "Output shape: (3, 6, 1024)\n"
          ],
          "name": "stdout"
        }
      ]
    },
    {
      "cell_type": "code",
      "metadata": {
        "id": "sxRE5gxrmc75",
        "colab": {
          "base_uri": "https://localhost:8080/"
        },
        "outputId": "8475b958-1e8b-41f3-a077-13cfec52c4dc"
      },
      "source": [
        "text = \"I love to eat chocolate ice-cream!\"\n",
        "tokenized_text = moses_tokenizer.tokenize(text, escape=False)\n",
        "embeddings = elmo.embed_sentence(tokenized_text) \n",
        "\n",
        "print('Tokenized text: '+str(tokenized_text))\n",
        "print('Output type: '+str(type(embeddings)))\n",
        "print('Output shape: '+str(embeddings.shape))\n",
        "#print('Output values: '+str(embeddings))"
      ],
      "execution_count": null,
      "outputs": [
        {
          "output_type": "stream",
          "text": [
            "Tokenized text: ['I', 'love', 'to', 'eat', 'chocolate', 'ice-cream', '!']\n",
            "Output type: <class 'numpy.ndarray'>\n",
            "Output shape: (3, 7, 1024)\n"
          ],
          "name": "stdout"
        }
      ]
    },
    {
      "cell_type": "code",
      "metadata": {
        "colab": {
          "base_uri": "https://localhost:8080/"
        },
        "id": "2jlxMkzkL-eK",
        "outputId": "53d080ad-5600-4757-b295-794de736277d"
      },
      "source": [
        "#Embedding de la palabra chocolate\r\n",
        "embeddings[:,4, :]"
      ],
      "execution_count": null,
      "outputs": [
        {
          "output_type": "execute_result",
          "data": {
            "text/plain": [
              "array([[-0.2549594 , -0.07758811,  0.07650048, ...,  0.49495095,\n",
              "        -0.332729  , -0.52942926],\n",
              "       [-0.3559524 ,  0.14694646, -0.29904157, ..., -0.02152529,\n",
              "        -0.02482205,  0.25790268],\n",
              "       [-0.5058409 ,  0.59350306, -1.0214949 , ..., -0.01887555,\n",
              "        -0.17183164,  0.40613195]], dtype=float32)"
            ]
          },
          "metadata": {
            "tags": []
          },
          "execution_count": 6
        }
      ]
    },
    {
      "cell_type": "markdown",
      "metadata": {
        "id": "6J8Wp7VBm97S"
      },
      "source": [
        "Estos vectores podríamos usarlos para cualquier tarea down-stream. Podríamos usarlos en lugar de los vectores Word2Vec de la clase pasada, de tal manera de que la representación considere contexto y no solo las palabras individualmente."
      ]
    },
    {
      "cell_type": "markdown",
      "metadata": {
        "id": "Kzd_GOxunlh5"
      },
      "source": [
        "## Visualizando los embeddings de ELMo"
      ]
    },
    {
      "cell_type": "markdown",
      "metadata": {
        "id": "o2u-aPY3lBuD"
      },
      "source": [
        "A continuación extraeremos los embeddings ELMo para diferentes oraciones donde se usa la palabra \"play\" con diferentes sentidos semánticos."
      ]
    },
    {
      "cell_type": "code",
      "metadata": {
        "id": "8Gk81OLpa8IF"
      },
      "source": [
        "sentences = [\"Chile plays soccer like anyone else\",\n",
        "             \"My father plays the piano every day\",\n",
        "             \"We went to see the play Romeo and Juliet at the theater\", \n",
        "             \"A child is playing the guitar\",\n",
        "             \"There was absolute silence during the play\",\n",
        "             \"The coach devised a great play that put the visiting team on the defensive\",\n",
        "             \"The children went out to play in the park\",\n",
        "             \"He plays the King, and she's the Queen\",\n",
        "             \"No part of the brain plays the role of permanent memory\",\n",
        "             \"I've practiced the piano off and on, but I still can't play very well\",\n",
        "             \"We especially like to play jazz together\",\n",
        "             \"You can play the DVD now\",\n",
        "             \"to play cannon upon a fortification\",\n",
        "             \"My son thinks he can play music\",\n",
        "             \"Look at the score now ... 23 plays 8!\",\n",
        "             \"You played me!\",\n",
        "             \"to play a trump in a card game\",\n",
        "             \"His latest film is playing in the local theatre tomorrow\",\n",
        "             \"He played the torch beam around the room\"]\n",
        "\n",
        "labels = []\n",
        "all_embeddings = []\n",
        "for sentence in sentences:\n",
        "    tok = moses_tokenizer.tokenize(sentence, escape=False)\n",
        "    emb = elmo.embed_sentence(tok)\n",
        "    emb = emb.transpose(1,0,2).reshape((emb.shape[1], emb.shape[-1]*emb.shape[0])) # reordenamos el resultado para que en las filas queden los tokens y en las columnas los features\n",
        "    all_embeddings.append(emb)\n",
        "    labels += list(tok)\n",
        "tokens = np.concatenate(all_embeddings, axis=0) # concatenamos todo para que quede un gran numpy array donde cada fila es un token y cada columna un feature"
      ],
      "execution_count": null,
      "outputs": []
    },
    {
      "cell_type": "markdown",
      "metadata": {
        "id": "L66bikGGly-w"
      },
      "source": [
        "A continuación visualizaremos los embeddings (que son multidimensionales) llevándolos a 2D gracias a una técnica llamada T-SNE (van der Maaten, L.J.P.; Hinton, G.E. Visualizing High-Dimensional Data) que esencialmente intenta preservar las relaciones de cercanía entre elementos."
      ]
    },
    {
      "cell_type": "code",
      "metadata": {
        "id": "4f-7ebTdT4Ov",
        "colab": {
          "base_uri": "https://localhost:8080/",
          "height": 630
        },
        "outputId": "1a7481e9-f17c-4cc4-e20e-da9bb14b562f"
      },
      "source": [
        "from sklearn.manifold import TSNE\n",
        "import matplotlib.pyplot as plt\n",
        "\n",
        "tsne_model = TSNE(perplexity=6, n_components=2, init='random', n_iter=800)\n",
        "new_values = tsne_model.fit_transform(tokens)\n",
        "\n",
        "x = []\n",
        "y = []\n",
        "for value in new_values:\n",
        "    x.append(value[0])\n",
        "    y.append(value[1])\n",
        "    \n",
        "plt.figure(figsize=(18, 12)) \n",
        "for i in range(len(x)):\n",
        "    plt.scatter(x[i],y[i])\n",
        "    plt.annotate(labels[i],\n",
        "                  xy=(x[i], y[i]),\n",
        "                  xytext=(5, 2),\n",
        "                  textcoords='offset points',\n",
        "                  ha='right',\n",
        "                  va='bottom')\n",
        "plt.show()"
      ],
      "execution_count": null,
      "outputs": [
        {
          "output_type": "display_data",
          "data": {
            "image/png": "[encoded data removed]",
            "text/plain": [
              "<Figure size 1296x864 with 1 Axes>"
            ]
          },
          "metadata": {
            "tags": [],
            "needs_background": "light"
          }
        }
      ]
    },
    {
      "cell_type": "markdown",
      "metadata": {
        "id": "QiOarh-8d81k"
      },
      "source": [
        "## Actividades"
      ]
    },
    {
      "cell_type": "markdown",
      "metadata": {
        "id": "jOnwCKIfr3So"
      },
      "source": [
        "Como vimos anteriormente, obtener los embeddings de ELMo es sencillo. Lo único con que hay que ser cuidadosos es al usar el resultado entregado por ELMo. Las actividades a continuación buscan precisamente reforzar el entendimiento de este punto.\n",
        "\n",
        "*   **1) Observe las dimensiones del resultado entregado por ELMo al ejecutarlo sobre las oraciones de ejemplo. Por ejemplo, al ejecutarlo sobre la oración \"I love to eat chocolate ice-cream!\" se puede ver que entrega un arreglo de tamaño (3, 7, 1024) ¿Qué representa la primera componente del tamaño de este arreglo (en el ejemplo, el 3)?**"
      ]
    },
    {
      "cell_type": "code",
      "metadata": {
        "id": "5pPU3WTqsy28",
        "colab": {
          "base_uri": "https://localhost:8080/",
          "height": 185
        },
        "outputId": "86859f6c-0577-4f7d-9930-52d6b22b2dbb"
      },
      "source": [
        "#@title Respuesta 1\n",
        "\n",
        "Primera componente = 'Uno para cada capa (estado oculto o entrada o salida)' #@param [\"seleccione una opcion\", \"Uno para cada token\",\"Uno para cada estado oculto final de cada bi-LSTM luego de procesar toda la oracion\", \"Uno para cada dimension del estado oculto (o entrada o salida)\",\"Uno para cada peso de las bi-LSTMs correspondientes a esa capa\",\"Uno para cada capa (estado oculto o entrada o salida)\"]"
      ],
      "execution_count": null,
      "outputs": [
        {
          "output_type": "error",
          "ename": "SyntaxError",
          "evalue": "ignored",
          "traceback": [
            "\u001b[0;36m  File \u001b[0;32m\"<ipython-input-9-955d805295bc>\"\u001b[0;36m, line \u001b[0;32m3\u001b[0m\n\u001b[0;31m    Primera componente = 'Uno para cada capa (estado oculto o entrada o salida)' #@param [\"seleccione una opcion\", \"Uno para cada token\",\"Uno para cada estado oculto final de cada bi-LSTM luego de procesar toda la oracion\", \"Uno para cada dimension del estado oculto (o entrada o salida)\",\"Uno para cada peso de las bi-LSTMs correspondientes a esa capa\",\"Uno para cada capa (estado oculto o entrada o salida)\"]\u001b[0m\n\u001b[0m                     ^\u001b[0m\n\u001b[0;31mSyntaxError\u001b[0m\u001b[0;31m:\u001b[0m invalid syntax\n"
          ]
        }
      ]
    },
    {
      "cell_type": "markdown",
      "metadata": {
        "id": "SPBjAlZUxKw_"
      },
      "source": [
        "*   **2) Observe las dimensiones del resultado entregado por ELMo al ejecutarlo sobre las oraciones de ejemplo. Por ejemplo, al ejecutarlo sobre la oración \"I love to eat chocolate ice-cream!\" se puede ver que entrega un arreglo de tamaño (3, 7, 1024) ¿Qué representa la segunda componente del tamaño de este arreglo (en el ejemplo, el 7)?**"
      ]
    },
    {
      "cell_type": "code",
      "metadata": {
        "id": "uJf5viwexQsh"
      },
      "source": [
        "#@title Respuesta 2\n",
        "\n",
        "Segunda componente = 'Uno para cada token' #@param [\"seleccione una opcion\", \"Uno para cada token\",\"Uno para cada estado oculto final de cada bi-LSTM luego de procesar toda la oracion\", \"Uno para cada dimension del estado oculto (o entrada o salida)\",\"Uno para cada peso de las bi-LSTMs correspondientes a esa capa\",\"Uno para cada capa (estado oculto o entrada o salida)\"]"
      ],
      "execution_count": null,
      "outputs": []
    },
    {
      "cell_type": "markdown",
      "metadata": {
        "id": "IrEXRjWGx1KC"
      },
      "source": [
        "*   **3) Observe las dimensiones del resultado entregado por ELMo al ejecutarlo sobre las oraciones de ejemplo. Por ejemplo, al ejecutarlo sobre la oración \"I love to eat chocolate ice-cream!\" se puede ver que entrega un arreglo de tamaño (3, 7, 1024) ¿Qué representa la tercera componente del tamaño de este arreglo (en el ejemplo, el 1024)?**"
      ]
    },
    {
      "cell_type": "code",
      "metadata": {
        "id": "3BozahA1yMg7"
      },
      "source": [
        "#@title Respuesta 3\n",
        "\n",
        "Tercera componente = 'Uno para cada estado oculto final de cada bi-LSTM luego de procesar toda la oracion' #@param [\"seleccione una opcion\", \"Uno para cada token\",\"Uno para cada estado oculto final de cada bi-LSTM luego de procesar toda la oracion\", \"Uno para cada dimension del estado oculto (o entrada o salida)\",\"Uno para cada peso de las bi-LSTMs correspondientes a esa capa\",\"Uno para cada capa (estado oculto o entrada o salida)\"]"
      ],
      "execution_count": null,
      "outputs": []
    },
    {
      "cell_type": "markdown",
      "metadata": {
        "id": "bDy3byKHrxba"
      },
      "source": [
        "*   **4) A partir del output que entrega ELMo para la oración \"I love to eat chocolate ice-cream!\", extraiga los embeddings correspondientes a la palabra \"chocolate\".** Importante!: Imprima en pantalla el vector, para poder verificar su respuesta. No importa si numpy muestra el resultado truncado al hacer el print\n",
        "\n",
        "*Hint: En la dimensión correspondiente, la implementación de ELMo entrega los resultados ordenados: el primer elemento será el token de más a la izquierda, y el último será el token de más a la derecha.*"
      ]
    },
    {
      "cell_type": "code",
      "metadata": {
        "id": "Cd-4gqS_1FN3",
        "colab": {
          "base_uri": "https://localhost:8080/"
        },
        "outputId": "55cb3e9a-ee1d-4994-ed5a-810f1233aba2"
      },
      "source": [
        "text = \"I love to eat chocolate ice-cream!\"\n",
        "# Escriba aquí su respuesta.\n",
        "# No olvide hacer print() de la salida!\n",
        "text = \"I love to eat chocolate ice-cream!\"\n",
        "tokenized_text = moses_tokenizer.tokenize(text, escape=False)\n",
        "embeddings = elmo.embed_sentence(tokenized_text) \n",
        "\n",
        "print('Tokenized text: '+str(tokenized_text))\n",
        "print('Output type: '+str(type(embeddings)))\n",
        "print('Output shape: '+str(embeddings.shape))\n",
        "print('Embedding de palabra chocolate: '+str(embeddings[:,4,:]))"
      ],
      "execution_count": null,
      "outputs": [
        {
          "output_type": "stream",
          "text": [
            "Tokenized text: ['I', 'love', 'to', 'eat', 'chocolate', 'ice-cream', '!']\n",
            "Output type: <class 'numpy.ndarray'>\n",
            "Output shape: (3, 7, 1024)\n",
            "Embedding de palabra chocolate: [[-0.2549594  -0.07758811  0.07650048 ...  0.49495095 -0.332729\n",
            "  -0.52942926]\n",
            " [-0.3628501   0.13626194 -0.29133984 ... -0.0216265  -0.02666566\n",
            "   0.26002395]\n",
            " [-0.59124655  0.6813808  -0.97513413 ... -0.01152388 -0.16444278\n",
            "   0.39782   ]]\n"
          ],
          "name": "stdout"
        }
      ]
    },
    {
      "cell_type": "markdown",
      "metadata": {
        "id": "3fWeeOgO1R7s"
      },
      "source": [
        "*   **5) A partir del output que entrega ELMo para la oración \"I love to eat chocolate ice-cream!\", extraiga todos los embeddings que resultan luego de correr la capa de salida para toda la oración.** Importante! Imprima en pantalla el vector, para poder verificar su respuesta. No importa si numpy muestra el resultado truncado al hacer el print.\n",
        "\n",
        "*Hint: En la dimensión correspondiente, la implementación de ELMo entrega los resultados ordenados: el primer elemento será el más cercano a la entrada y el último a la salida.*"
      ]
    },
    {
      "cell_type": "code",
      "metadata": {
        "id": "Ukf-he751RC5",
        "colab": {
          "base_uri": "https://localhost:8080/"
        },
        "outputId": "969b2fc5-2190-4f20-9a3f-d9e463ecb5d8"
      },
      "source": [
        "text = \"I love to eat chocolate ice-cream!\"\n",
        "# Escriba aquí su respuesta.\n",
        "# No olvide hacer print() de la salida!\n",
        "tokenized_text = moses_tokenizer.tokenize(text, escape=False)\n",
        "embeddings = elmo.embed_sentence(tokenized_text) \n",
        "\n",
        "print('Tokenized text: '+str(tokenized_text))\n",
        "print('Output type: '+str(type(embeddings)))\n",
        "print('Output shape: '+str(embeddings.shape))\n",
        "print('Output values Ultima Capa: '+str(embeddings[-1,4,:]))"
      ],
      "execution_count": null,
      "outputs": [
        {
          "output_type": "stream",
          "text": [
            "Tokenized text: ['I', 'love', 'to', 'eat', 'chocolate', 'ice-cream', '!']\n",
            "Output type: <class 'numpy.ndarray'>\n",
            "Output shape: (3, 7, 1024)\n",
            "Output values Ultima Capa: [-0.5894432   0.6800121  -0.9763435  ... -0.01250124 -0.1637129\n",
            "  0.3975544 ]\n"
          ],
          "name": "stdout"
        }
      ]
    },
    {
      "cell_type": "markdown",
      "metadata": {
        "id": "XmRz5CaMDuNJ"
      },
      "source": [
        "# **Librería \"Transformers\", de Huggingface**"
      ]
    },
    {
      "cell_type": "markdown",
      "metadata": {
        "id": "aNQ_tpxqEHPj"
      },
      "source": [
        "**NOTA IMPORTANTE: Dado que para correr ELMo tuvimos que instalar una versión antigua de pytorch, recomendamos reiniciar el entorno de ejecución antes de continuar ejecutando el resto del laboratorio:**\n",
        "\n",
        "`Entorno de ejecución > Restablecer estado de fábrica del entorno de ejecución`"
      ]
    },
    {
      "cell_type": "markdown",
      "metadata": {
        "id": "WAl2ZQQ3Lm9R"
      },
      "source": [
        "## Instalación de dependencias"
      ]
    },
    {
      "cell_type": "code",
      "metadata": {
        "id": "PiY-TgKPoIWM",
        "colab": {
          "base_uri": "https://localhost:8080/"
        },
        "outputId": "5bba2e98-2e85-4807-8469-cb438a1167c4"
      },
      "source": [
        "!pip install transformers==3.5.1"
      ],
      "execution_count": null,
      "outputs": [
        {
          "output_type": "stream",
          "text": [
            "Collecting transformers==3.5.1\n",
            "\u001b[?25l  Downloading https://files.pythonhosted.org/packages/3a/83/e74092e7f24a08d751aa59b37a9fc572b2e4af3918cb66f7766c3affb1b4/transformers-3.5.1-py3-none-any.whl (1.3MB)\n",
            "\r\u001b[K     |▎                               | 10kB 20.6MB/s eta 0:00:01\r\u001b[K     |▌                               | 20kB 27.3MB/s eta 0:00:01\r\u001b[K     |▊                               | 30kB 32.2MB/s eta 0:00:01\r\u001b[K     |█                               | 40kB 30.6MB/s eta 0:00:01\r\u001b[K     |█▎                              | 51kB 31.3MB/s eta 0:00:01\r\u001b[K     |█▌                              | 61kB 32.9MB/s eta 0:00:01\r\u001b[K     |█▊                              | 71kB 28.2MB/s eta 0:00:01\r\u001b[K     |██                              | 81kB 24.3MB/s eta 0:00:01\r\u001b[K     |██▎                             | 92kB 25.4MB/s eta 0:00:01\r\u001b[K     |██▌                             | 102kB 24.3MB/s eta 0:00:01\r\u001b[K     |██▊                             | 112kB 24.3MB/s eta 0:00:01\r\u001b[K     |███                             | 122kB 24.3MB/s eta 0:00:01\r\u001b[K     |███▎                            | 133kB 24.3MB/s eta 0:00:01\r\u001b[K     |███▌                            | 143kB 24.3MB/s eta 0:00:01\r\u001b[K     |███▉                            | 153kB 24.3MB/s eta 0:00:01\r\u001b[K     |████                            | 163kB 24.3MB/s eta 0:00:01\r\u001b[K     |████▎                           | 174kB 24.3MB/s eta 0:00:01\r\u001b[K     |████▌                           | 184kB 24.3MB/s eta 0:00:01\r\u001b[K     |████▉                           | 194kB 24.3MB/s eta 0:00:01\r\u001b[K     |█████                           | 204kB 24.3MB/s eta 0:00:01\r\u001b[K     |█████▎                          | 215kB 24.3MB/s eta 0:00:01\r\u001b[K     |█████▌                          | 225kB 24.3MB/s eta 0:00:01\r\u001b[K     |█████▉                          | 235kB 24.3MB/s eta 0:00:01\r\u001b[K     |██████                          | 245kB 24.3MB/s eta 0:00:01\r\u001b[K     |██████▎                         | 256kB 24.3MB/s eta 0:00:01\r\u001b[K     |██████▌                         | 266kB 24.3MB/s eta 0:00:01\r\u001b[K     |██████▉                         | 276kB 24.3MB/s eta 0:00:01\r\u001b[K     |███████                         | 286kB 24.3MB/s eta 0:00:01\r\u001b[K     |███████▎                        | 296kB 24.3MB/s eta 0:00:01\r\u001b[K     |███████▋                        | 307kB 24.3MB/s eta 0:00:01\r\u001b[K     |███████▉                        | 317kB 24.3MB/s eta 0:00:01\r\u001b[K     |████████                        | 327kB 24.3MB/s eta 0:00:01\r\u001b[K     |████████▎                       | 337kB 24.3MB/s eta 0:00:01\r\u001b[K     |████████▋                       | 348kB 24.3MB/s eta 0:00:01\r\u001b[K     |████████▉                       | 358kB 24.3MB/s eta 0:00:01\r\u001b[K     |█████████                       | 368kB 24.3MB/s eta 0:00:01\r\u001b[K     |█████████▎                      | 378kB 24.3MB/s eta 0:00:01\r\u001b[K     |█████████▋                      | 389kB 24.3MB/s eta 0:00:01\r\u001b[K     |█████████▉                      | 399kB 24.3MB/s eta 0:00:01\r\u001b[K     |██████████                      | 409kB 24.3MB/s eta 0:00:01\r\u001b[K     |██████████▎                     | 419kB 24.3MB/s eta 0:00:01\r\u001b[K     |██████████▋                     | 430kB 24.3MB/s eta 0:00:01\r\u001b[K     |██████████▉                     | 440kB 24.3MB/s eta 0:00:01\r\u001b[K     |███████████                     | 450kB 24.3MB/s eta 0:00:01\r\u001b[K     |███████████▍                    | 460kB 24.3MB/s eta 0:00:01\r\u001b[K     |███████████▋                    | 471kB 24.3MB/s eta 0:00:01\r\u001b[K     |███████████▉                    | 481kB 24.3MB/s eta 0:00:01\r\u001b[K     |████████████                    | 491kB 24.3MB/s eta 0:00:01\r\u001b[K     |████████████▍                   | 501kB 24.3MB/s eta 0:00:01\r\u001b[K     |████████████▋                   | 512kB 24.3MB/s eta 0:00:01\r\u001b[K     |████████████▉                   | 522kB 24.3MB/s eta 0:00:01\r\u001b[K     |█████████████                   | 532kB 24.3MB/s eta 0:00:01\r\u001b[K     |█████████████▍                  | 542kB 24.3MB/s eta 0:00:01\r\u001b[K     |█████████████▋                  | 552kB 24.3MB/s eta 0:00:01\r\u001b[K     |█████████████▉                  | 563kB 24.3MB/s eta 0:00:01\r\u001b[K     |██████████████                  | 573kB 24.3MB/s eta 0:00:01\r\u001b[K     |██████████████▍                 | 583kB 24.3MB/s eta 0:00:01\r\u001b[K     |██████████████▋                 | 593kB 24.3MB/s eta 0:00:01\r\u001b[K     |██████████████▉                 | 604kB 24.3MB/s eta 0:00:01\r\u001b[K     |███████████████▏                | 614kB 24.3MB/s eta 0:00:01\r\u001b[K     |███████████████▍                | 624kB 24.3MB/s eta 0:00:01\r\u001b[K     |███████████████▋                | 634kB 24.3MB/s eta 0:00:01\r\u001b[K     |███████████████▉                | 645kB 24.3MB/s eta 0:00:01\r\u001b[K     |████████████████▏               | 655kB 24.3MB/s eta 0:00:01\r\u001b[K     |████████████████▍               | 665kB 24.3MB/s eta 0:00:01\r\u001b[K     |████████████████▋               | 675kB 24.3MB/s eta 0:00:01\r\u001b[K     |████████████████▉               | 686kB 24.3MB/s eta 0:00:01\r\u001b[K     |█████████████████▏              | 696kB 24.3MB/s eta 0:00:01\r\u001b[K     |█████████████████▍              | 706kB 24.3MB/s eta 0:00:01\r\u001b[K     |█████████████████▋              | 716kB 24.3MB/s eta 0:00:01\r\u001b[K     |██████████████████              | 727kB 24.3MB/s eta 0:00:01\r\u001b[K     |██████████████████▏             | 737kB 24.3MB/s eta 0:00:01\r\u001b[K     |██████████████████▍             | 747kB 24.3MB/s eta 0:00:01\r\u001b[K     |██████████████████▋             | 757kB 24.3MB/s eta 0:00:01\r\u001b[K     |███████████████████             | 768kB 24.3MB/s eta 0:00:01\r\u001b[K     |███████████████████▏            | 778kB 24.3MB/s eta 0:00:01\r\u001b[K     |███████████████████▍            | 788kB 24.3MB/s eta 0:00:01\r\u001b[K     |███████████████████▋            | 798kB 24.3MB/s eta 0:00:01\r\u001b[K     |████████████████████            | 808kB 24.3MB/s eta 0:00:01\r\u001b[K     |████████████████████▏           | 819kB 24.3MB/s eta 0:00:01\r\u001b[K     |████████████████████▍           | 829kB 24.3MB/s eta 0:00:01\r\u001b[K     |████████████████████▋           | 839kB 24.3MB/s eta 0:00:01\r\u001b[K     |█████████████████████           | 849kB 24.3MB/s eta 0:00:01\r\u001b[K     |█████████████████████▏          | 860kB 24.3MB/s eta 0:00:01\r\u001b[K     |█████████████████████▍          | 870kB 24.3MB/s eta 0:00:01\r\u001b[K     |█████████████████████▊          | 880kB 24.3MB/s eta 0:00:01\r\u001b[K     |██████████████████████          | 890kB 24.3MB/s eta 0:00:01\r\u001b[K     |██████████████████████▏         | 901kB 24.3MB/s eta 0:00:01\r\u001b[K     |██████████████████████▍         | 911kB 24.3MB/s eta 0:00:01\r\u001b[K     |██████████████████████▊         | 921kB 24.3MB/s eta 0:00:01\r\u001b[K     |███████████████████████         | 931kB 24.3MB/s eta 0:00:01\r\u001b[K     |███████████████████████▏        | 942kB 24.3MB/s eta 0:00:01\r\u001b[K     |███████████████████████▍        | 952kB 24.3MB/s eta 0:00:01\r\u001b[K     |███████████████████████▊        | 962kB 24.3MB/s eta 0:00:01\r\u001b[K     |████████████████████████        | 972kB 24.3MB/s eta 0:00:01\r\u001b[K     |████████████████████████▏       | 983kB 24.3MB/s eta 0:00:01\r\u001b[K     |████████████████████████▍       | 993kB 24.3MB/s eta 0:00:01\r\u001b[K     |████████████████████████▊       | 1.0MB 24.3MB/s eta 0:00:01\r\u001b[K     |█████████████████████████       | 1.0MB 24.3MB/s eta 0:00:01\r\u001b[K     |█████████████████████████▏      | 1.0MB 24.3MB/s eta 0:00:01\r\u001b[K     |█████████████████████████▌      | 1.0MB 24.3MB/s eta 0:00:01\r\u001b[K     |█████████████████████████▊      | 1.0MB 24.3MB/s eta 0:00:01\r\u001b[K     |██████████████████████████      | 1.1MB 24.3MB/s eta 0:00:01\r\u001b[K     |██████████████████████████▏     | 1.1MB 24.3MB/s eta 0:00:01\r\u001b[K     |██████████████████████████▌     | 1.1MB 24.3MB/s eta 0:00:01\r\u001b[K     |██████████████████████████▊     | 1.1MB 24.3MB/s eta 0:00:01\r\u001b[K     |███████████████████████████     | 1.1MB 24.3MB/s eta 0:00:01\r\u001b[K     |███████████████████████████▏    | 1.1MB 24.3MB/s eta 0:00:01\r\u001b[K     |███████████████████████████▌    | 1.1MB 24.3MB/s eta 0:00:01\r\u001b[K     |███████████████████████████▊    | 1.1MB 24.3MB/s eta 0:00:01\r\u001b[K     |████████████████████████████    | 1.1MB 24.3MB/s eta 0:00:01\r\u001b[K     |████████████████████████████▏   | 1.1MB 24.3MB/s eta 0:00:01\r\u001b[K     |████████████████████████████▌   | 1.2MB 24.3MB/s eta 0:00:01\r\u001b[K     |████████████████████████████▊   | 1.2MB 24.3MB/s eta 0:00:01\r\u001b[K     |█████████████████████████████   | 1.2MB 24.3MB/s eta 0:00:01\r\u001b[K     |█████████████████████████████▎  | 1.2MB 24.3MB/s eta 0:00:01\r\u001b[K     |█████████████████████████████▌  | 1.2MB 24.3MB/s eta 0:00:01\r\u001b[K     |█████████████████████████████▊  | 1.2MB 24.3MB/s eta 0:00:01\r\u001b[K     |██████████████████████████████  | 1.2MB 24.3MB/s eta 0:00:01\r\u001b[K     |██████████████████████████████▎ | 1.2MB 24.3MB/s eta 0:00:01\r\u001b[K     |██████████████████████████████▌ | 1.2MB 24.3MB/s eta 0:00:01\r\u001b[K     |██████████████████████████████▊ | 1.2MB 24.3MB/s eta 0:00:01\r\u001b[K     |███████████████████████████████ | 1.3MB 24.3MB/s eta 0:00:01\r\u001b[K     |███████████████████████████████▎| 1.3MB 24.3MB/s eta 0:00:01\r\u001b[K     |███████████████████████████████▌| 1.3MB 24.3MB/s eta 0:00:01\r\u001b[K     |███████████████████████████████▊| 1.3MB 24.3MB/s eta 0:00:01\r\u001b[K     |████████████████████████████████| 1.3MB 24.3MB/s eta 0:00:01\r\u001b[K     |████████████████████████████████| 1.3MB 24.3MB/s \n",
            "\u001b[?25hRequirement already satisfied: protobuf in /usr/local/lib/python3.6/dist-packages (from transformers==3.5.1) (3.12.4)\n",
            "Requirement already satisfied: filelock in /usr/local/lib/python3.6/dist-packages (from transformers==3.5.1) (3.0.12)\n",
            "Collecting tokenizers==0.9.3\n",
            "\u001b[?25l  Downloading https://files.pythonhosted.org/packages/4c/34/b39eb9994bc3c999270b69c9eea40ecc6f0e97991dba28282b9fd32d44ee/tokenizers-0.9.3-cp36-cp36m-manylinux1_x86_64.whl (2.9MB)\n",
            "\u001b[K     |████████████████████████████████| 2.9MB 53.5MB/s \n",
            "\u001b[?25hRequirement already satisfied: numpy in /usr/local/lib/python3.6/dist-packages (from transformers==3.5.1) (1.19.4)\n",
            "Requirement already satisfied: regex!=2019.12.17 in /usr/local/lib/python3.6/dist-packages (from transformers==3.5.1) (2019.12.20)\n",
            "Collecting sacremoses\n",
            "\u001b[?25l  Downloading https://files.pythonhosted.org/packages/7d/34/09d19aff26edcc8eb2a01bed8e98f13a1537005d31e95233fd48216eed10/sacremoses-0.0.43.tar.gz (883kB)\n",
            "\u001b[K     |████████████████████████████████| 890kB 52.7MB/s \n",
            "\u001b[?25hCollecting sentencepiece==0.1.91\n",
            "\u001b[?25l  Downloading https://files.pythonhosted.org/packages/d4/a4/d0a884c4300004a78cca907a6ff9a5e9fe4f090f5d95ab341c53d28cbc58/sentencepiece-0.1.91-cp36-cp36m-manylinux1_x86_64.whl (1.1MB)\n",
            "\u001b[K     |████████████████████████████████| 1.1MB 41.9MB/s \n",
            "\u001b[?25hRequirement already satisfied: packaging in /usr/local/lib/python3.6/dist-packages (from transformers==3.5.1) (20.8)\n",
            "Requirement already satisfied: dataclasses; python_version < \"3.7\" in /usr/local/lib/python3.6/dist-packages (from transformers==3.5.1) (0.8)\n",
            "Requirement already satisfied: requests in /usr/local/lib/python3.6/dist-packages (from transformers==3.5.1) (2.23.0)\n",
            "Requirement already satisfied: tqdm>=4.27 in /usr/local/lib/python3.6/dist-packages (from transformers==3.5.1) (4.41.1)\n",
            "Requirement already satisfied: setuptools in /usr/local/lib/python3.6/dist-packages (from protobuf->transformers==3.5.1) (50.3.2)\n",
            "Requirement already satisfied: six>=1.9 in /usr/local/lib/python3.6/dist-packages (from protobuf->transformers==3.5.1) (1.15.0)\n",
            "Requirement already satisfied: click in /usr/local/lib/python3.6/dist-packages (from sacremoses->transformers==3.5.1) (7.1.2)\n",
            "Requirement already satisfied: joblib in /usr/local/lib/python3.6/dist-packages (from sacremoses->transformers==3.5.1) (1.0.0)\n",
            "Requirement already satisfied: pyparsing>=2.0.2 in /usr/local/lib/python3.6/dist-packages (from packaging->transformers==3.5.1) (2.4.7)\n",
            "Requirement already satisfied: idna<3,>=2.5 in /usr/local/lib/python3.6/dist-packages (from requests->transformers==3.5.1) (2.10)\n",
            "Requirement already satisfied: chardet<4,>=3.0.2 in /usr/local/lib/python3.6/dist-packages (from requests->transformers==3.5.1) (3.0.4)\n",
            "Requirement already satisfied: certifi>=2017.4.17 in /usr/local/lib/python3.6/dist-packages (from requests->transformers==3.5.1) (2020.12.5)\n",
            "Requirement already satisfied: urllib3!=1.25.0,!=1.25.1,<1.26,>=1.21.1 in /usr/local/lib/python3.6/dist-packages (from requests->transformers==3.5.1) (1.24.3)\n",
            "Building wheels for collected packages: sacremoses\n",
            "  Building wheel for sacremoses (setup.py) ... \u001b[?25l\u001b[?25hdone\n",
            "  Created wheel for sacremoses: filename=sacremoses-0.0.43-cp36-none-any.whl size=893261 sha256=0c15365b0804a8f2ac89ffc460811a85e8c597d196dd6ed6014f29565d8626e3\n",
            "  Stored in directory: /root/.cache/pip/wheels/29/3c/fd/7ce5c3f0666dab31a50123635e6fb5e19ceb42ce38d4e58f45\n",
            "Successfully built sacremoses\n",
            "Installing collected packages: tokenizers, sacremoses, sentencepiece, transformers\n",
            "Successfully installed sacremoses-0.0.43 sentencepiece-0.1.91 tokenizers-0.9.3 transformers-3.5.1\n"
          ],
          "name": "stdout"
        }
      ]
    },
    {
      "cell_type": "markdown",
      "metadata": {
        "id": "IEf542-yNkLX"
      },
      "source": [
        "## Uso básico de la librería"
      ]
    },
    {
      "cell_type": "markdown",
      "metadata": {
        "id": "3QWtkK2_PddC"
      },
      "source": [
        "La librería \"Transformers\" de Huggingface es una librería opensource que se ha encargado de facilitar el uso de los modelos basados en transformer. Incluye prácticamente todos los modelos principales y está en constante actualización (actualmente tiene 33 + varios otros contrinuidos por la comunidad).\n",
        "\n",
        "Aquí puede ver todas las arquitecturas soportadas: https://huggingface.co/transformers/index.html\n",
        "\n",
        "Aquí puede ver todos los pesos preentrenados disponibles:\n",
        "https://huggingface.co/transformers/pretrained_models.html\n",
        "\n",
        "Aquí puede ver ejemplos de código ejecutando las tareas más comunes: https://huggingface.co/transformers/examples.html\n",
        "\n",
        "A continuación veremos un ejemplo de uso de un modelo cualquiera, que debería ser muy similar a casi todos los modelos disponibles en la librería."
      ]
    },
    {
      "cell_type": "code",
      "metadata": {
        "id": "TjohfJ7wfW0u",
        "colab": {
          "base_uri": "https://localhost:8080/",
          "height": 166,
          "referenced_widgets": [
            "44b20d1ad695475e91e371b482e23314",
            "4a74b67a95bb4719a72279b0df914fde",
            "8e4c4e94c65849009ddbd0759fe24367",
            "b1f1c99d24464407b47f5dde7dcb897c",
            "dc364dcf0aa3425588ee15869c655a9f",
            "e370afae4b64444783f8c83bbbe58440",
            "1154dc0129c74bde9b0da62a884e739f",
            "d4b7732b80784ef289c608e82d30998a",
            "1fe1684c089840a1b2a9a95af7ecaab4",
            "d57f772829a0450086afee69a698e8e7",
            "c6af602c406d4276b0d900ea1531fb48",
            "d6cb60fefb68463b931747d033c1e642",
            "a7f6c4921a8542d38593c07d14a0c352",
            "ec8caff07c694eecb91f0986b9075012",
            "0f7563ae35654ff9a1522ae1d389353f",
            "3bd7ed9d21ad4d9985b3d080c68496b7",
            "4bb56cc67d17478b9571f78b1938ffed",
            "820520798a544472904d7c77852ce829",
            "0870f306ebf04a97980dd4f2ecfe1fc8",
            "33400f4db1914c2890a9dd42da51f4bc",
            "b841bc461e9349c89bbc9d3542a063eb",
            "169d07e28ef94ead8f3bd0c86a39f898",
            "934ce009b31847ba95671db55c9c6dee",
            "fb2099e6416e496fbb9da200e54f0a67"
          ]
        },
        "outputId": "2cf5c04e-9bc7-456e-ab71-77d87a512435"
      },
      "source": [
        "from transformers import XLNetTokenizer, XLNetModel\n",
        "import torch\n",
        "\n",
        "tokenizer = XLNetTokenizer.from_pretrained('xlnet-base-cased')\n",
        "model = XLNetModel.from_pretrained('xlnet-base-cased', return_dict=True)\n",
        "\n",
        "inputs = tokenizer(\"Hello, my dog is cute\", return_tensors=\"pt\")\n",
        "outputs = model(**inputs)\n",
        "\n",
        "last_hidden_states = outputs.last_hidden_state"
      ],
      "execution_count": null,
      "outputs": [
        {
          "output_type": "display_data",
          "data": {
            "application/vnd.jupyter.widget-view+json": {
              "model_id": "44b20d1ad695475e91e371b482e23314",
              "version_minor": 0,
              "version_major": 2
            },
            "text/plain": [
              "HBox(children=(FloatProgress(value=0.0, description='Downloading', max=798011.0, style=ProgressStyle(descripti…"
            ]
          },
          "metadata": {
            "tags": []
          }
        },
        {
          "output_type": "stream",
          "text": [
            "\n"
          ],
          "name": "stdout"
        },
        {
          "output_type": "display_data",
          "data": {
            "application/vnd.jupyter.widget-view+json": {
              "model_id": "1fe1684c089840a1b2a9a95af7ecaab4",
              "version_minor": 0,
              "version_major": 2
            },
            "text/plain": [
              "HBox(children=(FloatProgress(value=0.0, description='Downloading', max=760.0, style=ProgressStyle(description_…"
            ]
          },
          "metadata": {
            "tags": []
          }
        },
        {
          "output_type": "stream",
          "text": [
            "\n"
          ],
          "name": "stdout"
        },
        {
          "output_type": "display_data",
          "data": {
            "application/vnd.jupyter.widget-view+json": {
              "model_id": "4bb56cc67d17478b9571f78b1938ffed",
              "version_minor": 0,
              "version_major": 2
            },
            "text/plain": [
              "HBox(children=(FloatProgress(value=0.0, description='Downloading', max=467042463.0, style=ProgressStyle(descri…"
            ]
          },
          "metadata": {
            "tags": []
          }
        },
        {
          "output_type": "stream",
          "text": [
            "\n"
          ],
          "name": "stdout"
        }
      ]
    },
    {
      "cell_type": "code",
      "metadata": {
        "id": "1C5Fd8bzeCGX",
        "colab": {
          "base_uri": "https://localhost:8080/"
        },
        "outputId": "cb696a8e-8122-422d-ab6c-fe898d845e41"
      },
      "source": [
        "from transformers import XLNetTokenizer, XLNetForQuestionAnswering\n",
        "import torch\n",
        "\n",
        "tokenizer =  XLNetTokenizer.from_pretrained('xlnet-base-cased')\n",
        "model = XLNetForQuestionAnswering.from_pretrained('xlnet-base-cased', return_dict=True)\n",
        "\n",
        "input_ids = torch.tensor(tokenizer.encode(\"Hello, my dog is cute\", add_special_tokens=True)).unsqueeze(0)  # Batch size 1\n",
        "start_positions = torch.tensor([1])\n",
        "end_positions = torch.tensor([3])\n",
        "outputs = model(input_ids, start_positions=start_positions, end_positions=end_positions)\n",
        "\n",
        "loss = outputs.loss"
      ],
      "execution_count": null,
      "outputs": [
        {
          "output_type": "stream",
          "text": [
            "Some weights of the model checkpoint at xlnet-base-cased were not used when initializing XLNetForQuestionAnswering: ['lm_loss.weight', 'lm_loss.bias']\n",
            "- This IS expected if you are initializing XLNetForQuestionAnswering from the checkpoint of a model trained on another task or with another architecture (e.g. initializing a BertForSequenceClassification model from a BertForPreTraining model).\n",
            "- This IS NOT expected if you are initializing XLNetForQuestionAnswering from the checkpoint of a model that you expect to be exactly identical (initializing a BertForSequenceClassification model from a BertForSequenceClassification model).\n",
            "Some weights of XLNetForQuestionAnswering were not initialized from the model checkpoint at xlnet-base-cased and are newly initialized: ['start_logits.dense.weight', 'start_logits.dense.bias', 'end_logits.dense_0.weight', 'end_logits.dense_0.bias', 'end_logits.LayerNorm.weight', 'end_logits.LayerNorm.bias', 'end_logits.dense_1.weight', 'end_logits.dense_1.bias', 'answer_class.dense_0.weight', 'answer_class.dense_0.bias', 'answer_class.dense_1.weight']\n",
            "You should probably TRAIN this model on a down-stream task to be able to use it for predictions and inference.\n"
          ],
          "name": "stderr"
        }
      ]
    },
    {
      "cell_type": "code",
      "metadata": {
        "id": "3W6B39j4fq08",
        "colab": {
          "base_uri": "https://localhost:8080/"
        },
        "outputId": "089023fe-d869-4bb9-c39e-a91cd42d507d"
      },
      "source": [
        "from transformers import XLNetTokenizer, XLNetForMultipleChoice\n",
        "import torch\n",
        "\n",
        "tokenizer = XLNetTokenizer.from_pretrained('xlnet-base-cased')\n",
        "model = XLNetForMultipleChoice.from_pretrained('xlnet-base-cased', return_dict=True)\n",
        "\n",
        "prompt = \"In Italy, pizza served in formal settings, such as at a restaurant, is presented unsliced.\"\n",
        "choice0 = \"It is eaten with a fork and a knife.\"\n",
        "choice1 = \"It is eaten while held in the hand.\"\n",
        "labels = torch.tensor(0).unsqueeze(0)  # choice0 is correct (according to Wikipedia ;)), batch size 1\n",
        "\n",
        "encoding = tokenizer([[prompt, prompt], [choice0, choice1]], return_tensors='pt', padding=True)\n",
        "outputs = model(**{k: v.unsqueeze(0) for k,v in encoding.items()}, labels=labels)  # batch size is 1\n",
        "\n",
        "# the linear classifier still needs to be trained\n",
        "loss = outputs.loss\n",
        "logits = outputs.logits"
      ],
      "execution_count": null,
      "outputs": [
        {
          "output_type": "stream",
          "text": [
            "Some weights of the model checkpoint at xlnet-base-cased were not used when initializing XLNetForMultipleChoice: ['lm_loss.weight', 'lm_loss.bias']\n",
            "- This IS expected if you are initializing XLNetForMultipleChoice from the checkpoint of a model trained on another task or with another architecture (e.g. initializing a BertForSequenceClassification model from a BertForPreTraining model).\n",
            "- This IS NOT expected if you are initializing XLNetForMultipleChoice from the checkpoint of a model that you expect to be exactly identical (initializing a BertForSequenceClassification model from a BertForSequenceClassification model).\n",
            "Some weights of XLNetForMultipleChoice were not initialized from the model checkpoint at xlnet-base-cased and are newly initialized: ['sequence_summary.summary.weight', 'sequence_summary.summary.bias', 'logits_proj.weight', 'logits_proj.bias']\n",
            "You should probably TRAIN this model on a down-stream task to be able to use it for predictions and inference.\n"
          ],
          "name": "stderr"
        }
      ]
    },
    {
      "cell_type": "markdown",
      "metadata": {
        "id": "rzmdJB4EObaw"
      },
      "source": [
        "##Actividad"
      ]
    },
    {
      "cell_type": "markdown",
      "metadata": {
        "id": "F56nv9-mOdpk"
      },
      "source": [
        "Para esta actividad tendrá que revisar la documentación de Huggingface para un modelo diferente a los mostrados en clase. Puede elegir cualquiera que le llame la atención de entre los soportados por huggingface (siempre que no sea BERT ni GPT2 ni XLNet). Nos interesa que usted sea capaz de hacer esto pues en el futuro posiblemente nazcan modelos superiores a los vistos en clase y usted quiera poder usarlos.\n",
        "\n",
        "**6) Escriba (o copie-pegue) aquí la(s) línea(s) de código necesaria(s) para crear el modelo en su versión basica (es decir, no especializado en QuestionAnswering, MultipleChoice, ni nada por el estilo) y para cargar sus pesos preentrenados. No olvide los imports necesarios**"
      ]
    },
    {
      "cell_type": "code",
      "metadata": {
        "id": "G6YwziriPwVT",
        "colab": {
          "base_uri": "https://localhost:8080/",
          "height": 221,
          "referenced_widgets": [
            "3cc897b7d7e14b12bf9556866d078937",
            "cf71df9b6aad4f60a01d31290e046305",
            "1f6bc4c7062d409784f8e4c2abee31b7",
            "881799996f9d4a9ebce12f679522b695",
            "a2380aadfe114d1daf4682ffea47e410",
            "f4c3e11e64e949c9b766316431c06249",
            "63966f49141c436da37a114165f6c243",
            "e00f37f94871415f91b89f9b79ffdd42",
            "9a6031d16c74421a9a53eb19ffdeaa5c",
            "19c1ed70aded4acfb9371d8454d3ba52",
            "67b5d6b1139440acaa991964a22c1696",
            "1f2413e76a294c32869549f9e46d20af",
            "2d136fe5e49b44998efcda0c8e8bf7fc",
            "70bb0eb587a244b6aa9d9c466e22518b",
            "7ca9cb5749504d21ba06cc39fa6b308a",
            "e0813e837cc8460284d83146d1c38a4f",
            "c64eabfe1ded4469a39c98c98de139b5",
            "0b80f0e9e22643f0afab892874d45428",
            "a4fcede9278d4001908a65a363a54aa2",
            "2f3a065e974b498b9f409b78c679d209",
            "218cb40f72234f50b7c6cbc2c41261a3",
            "01513e765e3a4435b51f0bfc5b41441d",
            "84c05d52e7494fc685d6d30b48cf7425",
            "c4a77bc3961f4676ae048cc5a76c27a8"
          ]
        },
        "outputId": "51d294ad-1932-4d4a-9779-b667e6fb4f3e"
      },
      "source": [
        "from transformers import T5Tokenizer, T5Model\r\n",
        "import torch\r\n",
        "\r\n",
        "tokenizer = T5Tokenizer.from_pretrained('t5-small')\r\n",
        "model = T5Model.from_pretrained('t5-small', return_dict=True)\r\n"
      ],
      "execution_count": null,
      "outputs": [
        {
          "output_type": "display_data",
          "data": {
            "application/vnd.jupyter.widget-view+json": {
              "model_id": "3cc897b7d7e14b12bf9556866d078937",
              "version_minor": 0,
              "version_major": 2
            },
            "text/plain": [
              "HBox(children=(FloatProgress(value=0.0, description='Downloading', max=791656.0, style=ProgressStyle(descripti…"
            ]
          },
          "metadata": {
            "tags": []
          }
        },
        {
          "output_type": "stream",
          "text": [
            "\n"
          ],
          "name": "stdout"
        },
        {
          "output_type": "display_data",
          "data": {
            "application/vnd.jupyter.widget-view+json": {
              "model_id": "9a6031d16c74421a9a53eb19ffdeaa5c",
              "version_minor": 0,
              "version_major": 2
            },
            "text/plain": [
              "HBox(children=(FloatProgress(value=0.0, description='Downloading', max=1197.0, style=ProgressStyle(description…"
            ]
          },
          "metadata": {
            "tags": []
          }
        },
        {
          "output_type": "stream",
          "text": [
            "\n"
          ],
          "name": "stdout"
        },
        {
          "output_type": "display_data",
          "data": {
            "application/vnd.jupyter.widget-view+json": {
              "model_id": "c64eabfe1ded4469a39c98c98de139b5",
              "version_minor": 0,
              "version_major": 2
            },
            "text/plain": [
              "HBox(children=(FloatProgress(value=0.0, description='Downloading', max=242065649.0, style=ProgressStyle(descri…"
            ]
          },
          "metadata": {
            "tags": []
          }
        },
        {
          "output_type": "stream",
          "text": [
            "\n"
          ],
          "name": "stdout"
        },
        {
          "output_type": "stream",
          "text": [
            "Some weights of T5Model were not initialized from the model checkpoint at t5-small and are newly initialized: ['encoder.embed_tokens.weight', 'decoder.embed_tokens.weight']\n",
            "You should probably TRAIN this model on a down-stream task to be able to use it for predictions and inference.\n"
          ],
          "name": "stderr"
        }
      ]
    },
    {
      "cell_type": "markdown",
      "metadata": {
        "id": "c4XRQLEcPm-3"
      },
      "source": [
        "**7) Escriba aquí la linea de código necesaria para crear el tokenizador. No olvide los imports necesarios**"
      ]
    },
    {
      "cell_type": "code",
      "metadata": {
        "id": "g9KueaiwPzWJ"
      },
      "source": [
        "tokenizer = T5Tokenizer.from_pretrained('t5-small')"
      ],
      "execution_count": null,
      "outputs": []
    },
    {
      "cell_type": "markdown",
      "metadata": {
        "id": "W8RhvVySPvOg"
      },
      "source": [
        "**8) Escriba aquí la(s) líneas de código necesarias para tokenizar la oración \"Hello World!\"**"
      ]
    },
    {
      "cell_type": "code",
      "metadata": {
        "id": "usoxmwHKQTGQ",
        "colab": {
          "base_uri": "https://localhost:8080/"
        },
        "outputId": "a2fb41f8-6c2c-4055-8b86-b91316588c2e"
      },
      "source": [
        "text = \"Hello World!\"\n",
        "# Escriba aquí el codigo con su respuesta\n",
        "tokenizer(text)"
      ],
      "execution_count": null,
      "outputs": [
        {
          "output_type": "execute_result",
          "data": {
            "text/plain": [
              "{'input_ids': [8774, 1150, 55, 1], 'attention_mask': [1, 1, 1, 1]}"
            ]
          },
          "metadata": {
            "tags": []
          },
          "execution_count": 9
        }
      ]
    },
    {
      "cell_type": "markdown",
      "metadata": {
        "id": "cVJfKkmRQTl0"
      },
      "source": [
        "**9) Escriba aquí la(s) líneas de código necesarias para ejecutar el modelo sobre la oración tokenizada**"
      ]
    },
    {
      "cell_type": "code",
      "metadata": {
        "id": "2owS3JngRFAu",
        "colab": {
          "base_uri": "https://localhost:8080/"
        },
        "outputId": "1dd429fc-4a93-4e27-cf95-4e03ae6de51e"
      },
      "source": [
        "# Escriba aquí el codigo con su respuesta\r\n",
        "\r\n",
        "#NOTA: referencia usada: https://huggingface.co/transformers/model_doc/t5.html\r\n",
        "\r\n",
        "input_ids = tokenizer(\"Hello World!\", return_tensors=\"pt\").input_ids  # Batch size 1\r\n",
        "decoder_input_ids = tokenizer(\"Hi!\", return_tensors=\"pt\").input_ids  # Batch size 1\r\n",
        "\r\n",
        "outputs = model(input_ids=input_ids, decoder_input_ids=decoder_input_ids)\r\n",
        "\r\n",
        "last_hidden_states = outputs.last_hidden_state\r\n",
        "last_hidden_states"
      ],
      "execution_count": null,
      "outputs": [
        {
          "output_type": "execute_result",
          "data": {
            "text/plain": [
              "tensor([[[ 1.9406e-01,  9.9607e-03, -5.8667e-02,  ...,  5.7367e-02,\n",
              "          -3.5076e-04,  1.8007e-01],\n",
              "         [ 1.4713e-01,  7.1189e-02, -8.2752e-02,  ...,  4.8894e-02,\n",
              "           1.5128e-04,  9.2527e-02],\n",
              "         [ 1.1639e-01,  1.0161e-01, -3.7652e-02,  ...,  4.6462e-02,\n",
              "           3.5707e-04,  6.6578e-02]]], grad_fn=<MulBackward0>)"
            ]
          },
          "metadata": {
            "tags": []
          },
          "execution_count": 14
        }
      ]
    },
    {
      "cell_type": "markdown",
      "metadata": {
        "id": "TUoT7x1uNu0i"
      },
      "source": [
        "# **BERT**"
      ]
    },
    {
      "cell_type": "markdown",
      "metadata": {
        "id": "9D9wMxO7NDAy"
      },
      "source": [
        "##Finetuning de BERT para detectar Fake News"
      ]
    },
    {
      "cell_type": "code",
      "metadata": {
        "id": "EVVUePaiiN9Z",
        "colab": {
          "base_uri": "https://localhost:8080/"
        },
        "outputId": "ff2e48f3-6d5b-4781-9515-f1b3edf8dd82"
      },
      "source": [
        "!pip install transformers==3.5.1"
      ],
      "execution_count": null,
      "outputs": [
        {
          "output_type": "stream",
          "text": [
            "Requirement already satisfied: transformers==3.5.1 in /usr/local/lib/python3.6/dist-packages (3.5.1)\n",
            "Requirement already satisfied: tokenizers==0.9.3 in /usr/local/lib/python3.6/dist-packages (from transformers==3.5.1) (0.9.3)\n",
            "Requirement already satisfied: sentencepiece==0.1.91 in /usr/local/lib/python3.6/dist-packages (from transformers==3.5.1) (0.1.91)\n",
            "Requirement already satisfied: protobuf in /usr/local/lib/python3.6/dist-packages (from transformers==3.5.1) (3.12.4)\n",
            "Requirement already satisfied: packaging in /usr/local/lib/python3.6/dist-packages (from transformers==3.5.1) (20.8)\n",
            "Requirement already satisfied: dataclasses; python_version < \"3.7\" in /usr/local/lib/python3.6/dist-packages (from transformers==3.5.1) (0.8)\n",
            "Requirement already satisfied: regex!=2019.12.17 in /usr/local/lib/python3.6/dist-packages (from transformers==3.5.1) (2019.12.20)\n",
            "Requirement already satisfied: sacremoses in /usr/local/lib/python3.6/dist-packages (from transformers==3.5.1) (0.0.43)\n",
            "Requirement already satisfied: filelock in /usr/local/lib/python3.6/dist-packages (from transformers==3.5.1) (3.0.12)\n",
            "Requirement already satisfied: numpy in /usr/local/lib/python3.6/dist-packages (from transformers==3.5.1) (1.19.4)\n",
            "Requirement already satisfied: requests in /usr/local/lib/python3.6/dist-packages (from transformers==3.5.1) (2.23.0)\n",
            "Requirement already satisfied: tqdm>=4.27 in /usr/local/lib/python3.6/dist-packages (from transformers==3.5.1) (4.41.1)\n",
            "Requirement already satisfied: six>=1.9 in /usr/local/lib/python3.6/dist-packages (from protobuf->transformers==3.5.1) (1.15.0)\n",
            "Requirement already satisfied: setuptools in /usr/local/lib/python3.6/dist-packages (from protobuf->transformers==3.5.1) (50.3.2)\n",
            "Requirement already satisfied: pyparsing>=2.0.2 in /usr/local/lib/python3.6/dist-packages (from packaging->transformers==3.5.1) (2.4.7)\n",
            "Requirement already satisfied: click in /usr/local/lib/python3.6/dist-packages (from sacremoses->transformers==3.5.1) (7.1.2)\n",
            "Requirement already satisfied: joblib in /usr/local/lib/python3.6/dist-packages (from sacremoses->transformers==3.5.1) (1.0.0)\n",
            "Requirement already satisfied: chardet<4,>=3.0.2 in /usr/local/lib/python3.6/dist-packages (from requests->transformers==3.5.1) (3.0.4)\n",
            "Requirement already satisfied: certifi>=2017.4.17 in /usr/local/lib/python3.6/dist-packages (from requests->transformers==3.5.1) (2020.12.5)\n",
            "Requirement already satisfied: urllib3!=1.25.0,!=1.25.1,<1.26,>=1.21.1 in /usr/local/lib/python3.6/dist-packages (from requests->transformers==3.5.1) (1.24.3)\n",
            "Requirement already satisfied: idna<3,>=2.5 in /usr/local/lib/python3.6/dist-packages (from requests->transformers==3.5.1) (2.10)\n"
          ],
          "name": "stdout"
        }
      ]
    },
    {
      "cell_type": "markdown",
      "metadata": {
        "id": "V51Kl9ChUX0H"
      },
      "source": [
        "Parcialmente basado en el tutorial de https://towardsdatascience.com/bert-text-classification-using-pytorch-723dfb8b6b5b"
      ]
    },
    {
      "cell_type": "markdown",
      "metadata": {
        "id": "SnnfO46obBtH"
      },
      "source": [
        "Dataset https://www.kaggle.com/nopdev/real-and-fake-news-dataset\n",
        "\n",
        "Preprocesamiento:\n",
        "\n",
        "*  Eliminación de textos cortos (<5 palabras)\n",
        "*  Concatenación de titulo + texto (separado por un punto)\n",
        "*  Truncamiento de textos largos a máximo 200 caracteres\n",
        "*  FAKE = 1, REAL = 0\n",
        "*  Split de train (80%), dev (15%) y test (15%)"
      ]
    },
    {
      "cell_type": "code",
      "metadata": {
        "id": "hWZTKb5pppYp"
      },
      "source": [
        "!if [ ! -f news.csv ]; then wget -q https://www.dropbox.com/s/5pfv1td1oyj611w/news.csv; fi"
      ],
      "execution_count": null,
      "outputs": []
    },
    {
      "cell_type": "code",
      "metadata": {
        "id": "D6sRiW6ZX_Vs"
      },
      "source": [
        "import pandas as pd\n",
        "from sklearn.model_selection import train_test_split\n",
        "import matplotlib.pyplot as plt\n",
        "import torch\n",
        "from torchtext.data import Field, TabularDataset, BucketIterator, Iterator\n",
        "import torch.nn as nn\n",
        "from transformers import BertTokenizer, BertForSequenceClassification\n",
        "import torch.optim as optim\n",
        "from sklearn.metrics import accuracy_score, classification_report, confusion_matrix\n",
        "import seaborn as sns\n",
        "import os\n",
        "\n",
        "# Leer CSV original\n",
        "df_raw = pd.read_csv('news.csv')\n",
        "\n",
        "# Preparar columnas\n",
        "df_raw['label'] = (df_raw['label'] == 'FAKE').astype('int')\n",
        "df_raw['titletext'] = df_raw['title'] + \". \" + df_raw['text']\n",
        "df_raw = df_raw.reindex(columns=['label', 'title', 'text', 'titletext'])\n",
        "\n",
        "# Eliminar textos muy cortos y truncar textos muy largos\n",
        "df_raw.drop(df_raw[df_raw.text.str.len() < 5].index, inplace=True)\n",
        "df_raw['text'] = df_raw['text'].apply(lambda x: ' '.join(x.split(maxsplit=200)[:200]))\n",
        "df_raw['titletext'] = df_raw['titletext'].apply(lambda x: ' '.join(x.split(maxsplit=200)[:200])) \n",
        "\n",
        "# Separar por clase, para dividir train-val-test de manera balanceada\n",
        "df_real = df_raw[df_raw['label'] == 0]\n",
        "df_fake = df_raw[df_raw['label'] == 1]\n",
        "\n",
        "# Dividir en train-val y test a razon 80%/10%/10%\n",
        "df_real_train, df_real_full_test = train_test_split(df_real, train_size = 0.8, random_state = 1)\n",
        "df_fake_train, df_fake_full_test = train_test_split(df_fake, train_size = 0.8, random_state = 1)\n",
        "df_real_test, df_real_valid = train_test_split(df_real_full_test, train_size = 0.5, random_state = 1)\n",
        "df_fake_test, df_fake_valid = train_test_split(df_fake_full_test, train_size = 0.5, random_state = 1)\n",
        "df_train = pd.concat([df_real_train, df_fake_train], ignore_index=True, sort=False)\n",
        "df_valid = pd.concat([df_real_valid, df_fake_valid], ignore_index=True, sort=False)\n",
        "df_test = pd.concat([df_real_test, df_fake_test], ignore_index=True, sort=False)\n",
        "\n",
        "# Guardar resultado como CSV\n",
        "df_train.to_csv('news_train.csv', index=False)\n",
        "df_valid.to_csv('news_val.csv', index=False)\n",
        "df_test.to_csv('news_test.csv', index=False)"
      ],
      "execution_count": null,
      "outputs": []
    },
    {
      "cell_type": "code",
      "metadata": {
        "id": "6zNEdKmwieun",
        "colab": {
          "base_uri": "https://localhost:8080/"
        },
        "outputId": "19764bdf-0130-4f2b-f8eb-46d7fd9b73b8"
      },
      "source": [
        "device = torch.device('cuda:0' if torch.cuda.is_available() else 'cpu')\n",
        "print(device)"
      ],
      "execution_count": null,
      "outputs": [
        {
          "output_type": "stream",
          "text": [
            "cuda:0\n"
          ],
          "name": "stdout"
        }
      ]
    },
    {
      "cell_type": "code",
      "metadata": {
        "id": "i9xlRQx4jL6z",
        "colab": {
          "base_uri": "https://localhost:8080/",
          "height": 104,
          "referenced_widgets": [
            "81941c8a443442cdb19589f5bcee8f9d",
            "0477d5a723ef44859650bff4de640c16",
            "43f4accba9a9401aa08ed3619efaafd9",
            "ab45ef4d81c944529c5e0d10b2589114",
            "f9f6c1bfbc7f41c2824f75f733240bcf",
            "0da53d807dd145b4b0fe16524284a305",
            "a299204468ba455dafc2c6d6da9fcce9",
            "9cb7cec14a8a4e819bde51d9489b40c6"
          ]
        },
        "outputId": "84e602cd-62ca-489c-fe92-9fe4e18b0af3"
      },
      "source": [
        "tokenizer = BertTokenizer.from_pretrained('bert-base-uncased')\n",
        "\n",
        "# Parametros del modelo\n",
        "MAX_SEQ_LEN = 128\n",
        "PAD_INDEX = tokenizer.convert_tokens_to_ids(tokenizer.pad_token)\n",
        "UNK_INDEX = tokenizer.convert_tokens_to_ids(tokenizer.unk_token)\n",
        "\n",
        "# Crear el dataset\n",
        "label_field = Field(sequential=False, use_vocab=False, batch_first=True, dtype=torch.float)\n",
        "text_field = Field(use_vocab=False, tokenize=tokenizer.encode, lower=False, include_lengths=False, batch_first=True,\n",
        "                   fix_length=MAX_SEQ_LEN, pad_token=PAD_INDEX, unk_token=UNK_INDEX)\n",
        "fields = [('label', label_field), ('title', text_field), ('text', text_field), ('titletext', text_field)]\n",
        "train, valid, test = TabularDataset.splits(path='.', train='news_train.csv', validation='news_val.csv',\n",
        "                                           test='news_test.csv', format='CSV', fields=fields, skip_header=True)\n",
        "\n",
        "# Crear iteradores de los sets de entrenamiento, validación y test\n",
        "train_iter = BucketIterator(train, batch_size=16, sort_key=lambda x: len(x.text),\n",
        "                            device=device, train=True, sort=True, sort_within_batch=True)\n",
        "valid_iter = BucketIterator(valid, batch_size=16, sort_key=lambda x: len(x.text),\n",
        "                            device=device, train=True, sort=True, sort_within_batch=True)\n",
        "test_iter = Iterator(test, batch_size=16, device=device, train=False, shuffle=False, sort=False)"
      ],
      "execution_count": null,
      "outputs": [
        {
          "output_type": "display_data",
          "data": {
            "application/vnd.jupyter.widget-view+json": {
              "model_id": "81941c8a443442cdb19589f5bcee8f9d",
              "version_minor": 0,
              "version_major": 2
            },
            "text/plain": [
              "HBox(children=(FloatProgress(value=0.0, description='Downloading', max=231508.0, style=ProgressStyle(descripti…"
            ]
          },
          "metadata": {
            "tags": []
          }
        },
        {
          "output_type": "stream",
          "text": [
            "\n"
          ],
          "name": "stdout"
        },
        {
          "output_type": "stream",
          "text": [
            "Token indices sequence length is longer than the specified maximum sequence length for this model (4230 > 512). Running this sequence through the model will result in indexing errors\n"
          ],
          "name": "stderr"
        }
      ]
    },
    {
      "cell_type": "code",
      "metadata": {
        "id": "zxHUBLUfjzJa"
      },
      "source": [
        "def train(model,\n",
        "          optimizer,\n",
        "          criterion = nn.BCELoss(),\n",
        "          train_loader = train_iter,\n",
        "          valid_loader = valid_iter,\n",
        "          num_epochs = 5,\n",
        "          eval_every = len(train_iter) // 2,\n",
        "          file_path = 'temp_results',\n",
        "          best_valid_loss = float(\"Inf\")):\n",
        "\n",
        "    if not os.path.exists(file_path):\n",
        "        os.makedirs(file_path)\n",
        "    \n",
        "    # inicializar contadores\n",
        "    running_loss = 0.0\n",
        "    valid_running_loss = 0.0\n",
        "    global_step = 0\n",
        "    train_loss_list = []\n",
        "    valid_loss_list = []\n",
        "    global_steps_list = []\n",
        "\n",
        "    # loop de entrenamento\n",
        "    model.train()\n",
        "    for epoch in range(num_epochs):\n",
        "        for (labels, title, text, titletext), _ in train_loader:\n",
        "            labels = labels.type(torch.LongTensor)           \n",
        "            labels = labels.to(device)\n",
        "            titletext = titletext.type(torch.LongTensor)  \n",
        "            titletext = titletext.to(device)\n",
        "            loss, predictions = model(titletext, labels=labels)[:2]\n",
        "\n",
        "            optimizer.zero_grad()\n",
        "            loss.backward()\n",
        "            optimizer.step()\n",
        "\n",
        "            # actualizar conteos\n",
        "            running_loss += loss.item()\n",
        "            global_step += 1\n",
        "\n",
        "            # evaluacion\n",
        "            if global_step % eval_every == 0:\n",
        "                model.eval()\n",
        "                with torch.no_grad():                    \n",
        "\n",
        "                    # validacion\n",
        "                    for (labels, title, text, titletext), _ in valid_loader:\n",
        "                        labels = labels.type(torch.LongTensor)           \n",
        "                        labels = labels.to(device)\n",
        "                        titletext = titletext.type(torch.LongTensor)  \n",
        "                        titletext = titletext.to(device)\n",
        "                        loss, predictions = model(titletext, labels=labels)[:2]\n",
        "                        \n",
        "                        valid_running_loss += loss.item()\n",
        "\n",
        "                # evaluacion\n",
        "                average_train_loss = running_loss / eval_every\n",
        "                average_valid_loss = valid_running_loss / len(valid_loader)\n",
        "                train_loss_list.append(average_train_loss)\n",
        "                valid_loss_list.append(average_valid_loss)\n",
        "                global_steps_list.append(global_step)\n",
        "\n",
        "                # resetear conteos de la epoca\n",
        "                running_loss = 0.0                \n",
        "                valid_running_loss = 0.0\n",
        "                model.train()\n",
        "\n",
        "                # imprimir resultados hasta el momento\n",
        "                print('Epoch [{}/{}], Step [{}/{}], Train Loss: {:.4f}, Valid Loss: {:.4f}'\n",
        "                      .format(epoch+1, num_epochs, global_step, num_epochs*len(train_loader),\n",
        "                              average_train_loss, average_valid_loss))\n",
        "                \n",
        "                # checkpoint\n",
        "                if best_valid_loss > average_valid_loss:\n",
        "                    best_valid_loss = average_valid_loss\n",
        "                    save_checkpoint(file_path + '/' + 'model.pt', model, best_valid_loss)\n",
        "    \n",
        "    print('Finished Training!')\n",
        "\n",
        "def save_checkpoint(save_path, model, valid_loss):\n",
        "    if save_path == None:\n",
        "        return\n",
        "    state_dict = {'model_state_dict': model.state_dict(),\n",
        "                  'valid_loss': valid_loss}\n",
        "    torch.save(state_dict, save_path)\n",
        "    print(f'Model saved to ==> {save_path}')\n",
        "\n",
        "def load_checkpoint(load_path, model):\n",
        "    if load_path==None:\n",
        "        return\n",
        "    state_dict = torch.load(load_path, map_location=device)\n",
        "    print(f'Model loaded from <== {load_path}')\n",
        "    model.load_state_dict(state_dict['model_state_dict'])\n",
        "    return state_dict['valid_loss']"
      ],
      "execution_count": null,
      "outputs": []
    },
    {
      "cell_type": "code",
      "metadata": {
        "id": "CdPOGwoxkMYw",
        "colab": {
          "base_uri": "https://localhost:8080/",
          "height": 294,
          "referenced_widgets": [
            "1a37ff81ecd64f02a6e17dc7e9d83831",
            "a0ad24f98d814ae3baac136c459ab319",
            "1a9584757ade495d9d46e9c337ed2996",
            "316dc56c843c4ae1b058363378eebc1b",
            "8339df50d4a34aad988d475b747ffd1f",
            "d2a144ae6ccb406ab09e5e36fa5fe939",
            "4a89c0804fd549999a2101ea2114145e",
            "a11272ebde414821bcf4035a5d3856c1",
            "1f8dd348ca6343b3939ad157e90e9980",
            "b474955fa3494641b0d3d0be18796d9e",
            "43304479b74142508d89895518c179bc",
            "01c8ec0bb8fb48c199a98c11edc52249",
            "73ccb30958d14700b503d666d1f03413",
            "0a571493ff924980ac2567e9b3bf0ffa",
            "a96b4d2293ce40719065ed5ca4817e3b",
            "4e8296fc15ab4e33a0c15ecacad861ed"
          ]
        },
        "outputId": "f4873d3e-c9bc-4464-b146-c43835a13a6b"
      },
      "source": [
        "model = BertForSequenceClassification.from_pretrained(\"bert-base-uncased\", num_labels=2)\n",
        "model = model.to(device)\n",
        "optimizer = optim.Adam(model.parameters(), lr=2e-5)\n",
        "\n",
        "train(model=model, optimizer=optimizer, num_epochs=1)"
      ],
      "execution_count": null,
      "outputs": [
        {
          "output_type": "display_data",
          "data": {
            "application/vnd.jupyter.widget-view+json": {
              "model_id": "1a37ff81ecd64f02a6e17dc7e9d83831",
              "version_minor": 0,
              "version_major": 2
            },
            "text/plain": [
              "HBox(children=(FloatProgress(value=0.0, description='Downloading', max=433.0, style=ProgressStyle(description_…"
            ]
          },
          "metadata": {
            "tags": []
          }
        },
        {
          "output_type": "stream",
          "text": [
            "\n"
          ],
          "name": "stdout"
        },
        {
          "output_type": "display_data",
          "data": {
            "application/vnd.jupyter.widget-view+json": {
              "model_id": "1f8dd348ca6343b3939ad157e90e9980",
              "version_minor": 0,
              "version_major": 2
            },
            "text/plain": [
              "HBox(children=(FloatProgress(value=0.0, description='Downloading', max=440473133.0, style=ProgressStyle(descri…"
            ]
          },
          "metadata": {
            "tags": []
          }
        },
        {
          "output_type": "stream",
          "text": [
            "\n"
          ],
          "name": "stdout"
        },
        {
          "output_type": "stream",
          "text": [
            "Some weights of the model checkpoint at bert-base-uncased were not used when initializing BertForSequenceClassification: ['cls.predictions.bias', 'cls.predictions.transform.dense.weight', 'cls.predictions.transform.dense.bias', 'cls.predictions.decoder.weight', 'cls.seq_relationship.weight', 'cls.seq_relationship.bias', 'cls.predictions.transform.LayerNorm.weight', 'cls.predictions.transform.LayerNorm.bias']\n",
            "- This IS expected if you are initializing BertForSequenceClassification from the checkpoint of a model trained on another task or with another architecture (e.g. initializing a BertForSequenceClassification model from a BertForPreTraining model).\n",
            "- This IS NOT expected if you are initializing BertForSequenceClassification from the checkpoint of a model that you expect to be exactly identical (initializing a BertForSequenceClassification model from a BertForSequenceClassification model).\n",
            "Some weights of BertForSequenceClassification were not initialized from the model checkpoint at bert-base-uncased and are newly initialized: ['classifier.weight', 'classifier.bias']\n",
            "You should probably TRAIN this model on a down-stream task to be able to use it for predictions and inference.\n"
          ],
          "name": "stderr"
        },
        {
          "output_type": "stream",
          "text": [
            "Epoch [1/1], Step [157/315], Train Loss: 0.4133, Valid Loss: 0.3283\n",
            "Model saved to ==> temp_results/model.pt\n",
            "Epoch [1/1], Step [314/315], Train Loss: 0.1373, Valid Loss: 0.3308\n",
            "Finished Training!\n"
          ],
          "name": "stdout"
        }
      ]
    },
    {
      "cell_type": "code",
      "metadata": {
        "id": "CSq2JA6exF53"
      },
      "source": [
        "# Evaluation Function\n",
        "\n",
        "def evaluate(model, test_loader):\n",
        "    y_pred = []\n",
        "    y_true = []\n",
        "\n",
        "    model.eval()\n",
        "    with torch.no_grad():\n",
        "        for (labels, title, text, titletext), _ in test_loader:\n",
        "\n",
        "                labels = labels.type(torch.LongTensor)           \n",
        "                labels = labels.to(device)\n",
        "                titletext = titletext.type(torch.LongTensor)  \n",
        "                titletext = titletext.to(device)\n",
        "                loss, predictions = model(titletext, labels=labels)[:2]\n",
        "                y_pred.extend(torch.argmax(predictions, 1).tolist())\n",
        "                y_true.extend(labels.tolist())\n",
        "    \n",
        "    print('Classification Report:')\n",
        "    print(classification_report(y_true, y_pred, labels=[1,0], digits=4))\n",
        "    \n",
        "    cm = confusion_matrix(y_true, y_pred, labels=[1,0])\n",
        "    ax= plt.subplot()\n",
        "    sns.heatmap(cm, annot=True, ax = ax, cmap='Blues', fmt=\"d\")\n",
        "\n",
        "    ax.set_title('Confusion Matrix')\n",
        "\n",
        "    ax.set_xlabel('Predicted Labels')\n",
        "    ax.set_ylabel('True Labels')\n",
        "\n",
        "    ax.xaxis.set_ticklabels(['FAKE', 'REAL'])\n",
        "    ax.yaxis.set_ticklabels(['FAKE', 'REAL'])"
      ],
      "execution_count": null,
      "outputs": []
    },
    {
      "cell_type": "code",
      "metadata": {
        "id": "N82p0T2ExzI4",
        "colab": {
          "base_uri": "https://localhost:8080/",
          "height": 489
        },
        "outputId": "01aef2de-9bdc-4098-ad5c-afcc02be5910"
      },
      "source": [
        "load_checkpoint('temp_results/model.pt', model)\n",
        "\n",
        "evaluate(model, test_iter)"
      ],
      "execution_count": null,
      "outputs": [
        {
          "output_type": "stream",
          "text": [
            "Model loaded from <== temp_results/model.pt\n",
            "Classification Report:\n",
            "              precision    recall  f1-score   support\n",
            "\n",
            "           1     0.9094    0.8978    0.9035       313\n",
            "           0     0.9003    0.9117    0.9060       317\n",
            "\n",
            "    accuracy                         0.9048       630\n",
            "   macro avg     0.9048    0.9047    0.9047       630\n",
            "weighted avg     0.9048    0.9048    0.9048       630\n",
            "\n"
          ],
          "name": "stdout"
        },
        {
          "output_type": "display_data",
          "data": {
            "image/png": "[encoded data removed]",
            "text/plain": [
              "<Figure size 432x288 with 2 Axes>"
            ]
          },
          "metadata": {
            "tags": [],
            "needs_background": "light"
          }
        }
      ]
    },
    {
      "cell_type": "markdown",
      "metadata": {
        "id": "uCE6qym-NxJs"
      },
      "source": [
        "# **GPT-2**"
      ]
    },
    {
      "cell_type": "markdown",
      "metadata": {
        "id": "sQI4zJORMjkX"
      },
      "source": [
        "## GPT-2: Generación de texto"
      ]
    },
    {
      "cell_type": "markdown",
      "metadata": {
        "id": "FnNkzl9mTdK2"
      },
      "source": [
        "En la siguiente actividad, generaremos texto usaremos GPT2 preentrenado. \n",
        "\n",
        "Si bien estaremos usando los pesos preentrenados de la versión pequeña (gpt2) puede usar también la versión grande (gpt2-xl).\n",
        "\n",
        "Adicionalmente también es posible hacer finetuning de GPT2 para que genere textos según lo que usted requiera. Un tutorial para eso puede encontrarse en https://towardsdatascience.com/fine-tuning-gpt2-for-text-generation-using-pytorch-2ee61a4f1ba7"
      ]
    },
    {
      "cell_type": "markdown",
      "metadata": {
        "id": "WaFV9QPd-GfD"
      },
      "source": [
        "Primero instalaremos la librería (en caso de no estar instalada)"
      ]
    },
    {
      "cell_type": "code",
      "metadata": {
        "id": "uIPBArHEDQ5a",
        "colab": {
          "base_uri": "https://localhost:8080/"
        },
        "outputId": "34b10a76-23b6-4c0c-e9ae-9b32373f1053"
      },
      "source": [
        "!pip install transformers==3.5.1"
      ],
      "execution_count": null,
      "outputs": [
        {
          "output_type": "stream",
          "text": [
            "Requirement already satisfied: transformers==3.5.1 in /usr/local/lib/python3.6/dist-packages (3.5.1)\n",
            "Requirement already satisfied: regex!=2019.12.17 in /usr/local/lib/python3.6/dist-packages (from transformers==3.5.1) (2019.12.20)\n",
            "Requirement already satisfied: sentencepiece==0.1.91 in /usr/local/lib/python3.6/dist-packages (from transformers==3.5.1) (0.1.91)\n",
            "Requirement already satisfied: dataclasses; python_version < \"3.7\" in /usr/local/lib/python3.6/dist-packages (from transformers==3.5.1) (0.8)\n",
            "Requirement already satisfied: sacremoses in /usr/local/lib/python3.6/dist-packages (from transformers==3.5.1) (0.0.43)\n",
            "Requirement already satisfied: numpy in /usr/local/lib/python3.6/dist-packages (from transformers==3.5.1) (1.19.4)\n",
            "Requirement already satisfied: protobuf in /usr/local/lib/python3.6/dist-packages (from transformers==3.5.1) (3.12.4)\n",
            "Requirement already satisfied: packaging in /usr/local/lib/python3.6/dist-packages (from transformers==3.5.1) (20.8)\n",
            "Requirement already satisfied: filelock in /usr/local/lib/python3.6/dist-packages (from transformers==3.5.1) (3.0.12)\n",
            "Requirement already satisfied: tqdm>=4.27 in /usr/local/lib/python3.6/dist-packages (from transformers==3.5.1) (4.41.1)\n",
            "Requirement already satisfied: requests in /usr/local/lib/python3.6/dist-packages (from transformers==3.5.1) (2.23.0)\n",
            "Requirement already satisfied: tokenizers==0.9.3 in /usr/local/lib/python3.6/dist-packages (from transformers==3.5.1) (0.9.3)\n",
            "Requirement already satisfied: six in /usr/local/lib/python3.6/dist-packages (from sacremoses->transformers==3.5.1) (1.15.0)\n",
            "Requirement already satisfied: click in /usr/local/lib/python3.6/dist-packages (from sacremoses->transformers==3.5.1) (7.1.2)\n",
            "Requirement already satisfied: joblib in /usr/local/lib/python3.6/dist-packages (from sacremoses->transformers==3.5.1) (1.0.0)\n",
            "Requirement already satisfied: setuptools in /usr/local/lib/python3.6/dist-packages (from protobuf->transformers==3.5.1) (50.3.2)\n",
            "Requirement already satisfied: pyparsing>=2.0.2 in /usr/local/lib/python3.6/dist-packages (from packaging->transformers==3.5.1) (2.4.7)\n",
            "Requirement already satisfied: certifi>=2017.4.17 in /usr/local/lib/python3.6/dist-packages (from requests->transformers==3.5.1) (2020.12.5)\n",
            "Requirement already satisfied: urllib3!=1.25.0,!=1.25.1,<1.26,>=1.21.1 in /usr/local/lib/python3.6/dist-packages (from requests->transformers==3.5.1) (1.24.3)\n",
            "Requirement already satisfied: idna<3,>=2.5 in /usr/local/lib/python3.6/dist-packages (from requests->transformers==3.5.1) (2.10)\n",
            "Requirement already satisfied: chardet<4,>=3.0.2 in /usr/local/lib/python3.6/dist-packages (from requests->transformers==3.5.1) (3.0.4)\n"
          ],
          "name": "stdout"
        }
      ]
    },
    {
      "cell_type": "code",
      "metadata": {
        "id": "3Vqcw5YYHo5p",
        "colab": {
          "base_uri": "https://localhost:8080/",
          "height": 306,
          "referenced_widgets": [
            "5a2842a843ff4606bacb3551979efb22",
            "f9a33124f7d8481198b55cf2472124c1",
            "5f03e436d8414e62abfe5adc415fba18",
            "3571ec80aa4744cda885b559d10faab3",
            "25765c60aa9640ea9ac0eaefc561d1e7",
            "d3f58bb69f2342bea490bc5accf0f120",
            "175fbe5fa06640d5bbf573bd40c5431f",
            "2be186c7a08940ddab9e4147b598ab1f",
            "4f0578e725d943dd9e49f396cf74a5cd",
            "42c1583a112745ae99d20c8a6ab5088c",
            "3f72806335144b71b558d78e9148964e",
            "cea60c3a97b1407794c31f5325a24c67",
            "aa8223553d2f46f5a330cd10a0fe35e0",
            "a3b2bd0ec9ed41288d07e5ca4c7c7c59",
            "bbc2b3efefca4f0aa2a67e2531cb985e",
            "27fabeaf3bf745758023d074b5885889",
            "4db19fe40b6a4517bb89d8ea4e727035",
            "74402142ba3d4fafa265abe4cb3418ce",
            "48f4319f95a246878b8e9a10471262b2",
            "23dc02e764074fb5aadf245eb608d4e3",
            "cb6d66d9860449b5b6a4a931e2699009",
            "ec59af67d0104b30b8ead4da5639de94",
            "e6f6dc4777674de4ac163d0584e228a5",
            "e11fa5a34e7d4defa6fae8aa98b4c5af",
            "eca38129caa844738ea86239aae26637",
            "ac98a54cc6c44d2e8b94b6ddf3a6ba7b",
            "8e33da906ee34dc68bbea3ce1359cb4a",
            "b73dd0c870384496955fc8409b3e09df",
            "f1ad234a246248ad97252c7e363ed0f1",
            "b818271c8e5745a3bd3cac2e383118a0",
            "9a317f82a30b4a28b0f897a399bc1b68",
            "452cc031fca1474d9db2589b1fac2004"
          ]
        },
        "outputId": "e36c57fe-8c43-45aa-cf5e-f0423547850e"
      },
      "source": [
        "from transformers import TFGPT2LMHeadModel, GPT2Tokenizer\n",
        "\n",
        "\n",
        "tokenizer = GPT2Tokenizer.from_pretrained(\"gpt2\")\n",
        "\n",
        "# add the EOS token as PAD token to avoid warnings\n",
        "model = TFGPT2LMHeadModel.from_pretrained(\"gpt2\", pad_token_id=tokenizer.eos_token_id)"
      ],
      "execution_count": null,
      "outputs": [
        {
          "output_type": "display_data",
          "data": {
            "application/vnd.jupyter.widget-view+json": {
              "model_id": "5a2842a843ff4606bacb3551979efb22",
              "version_minor": 0,
              "version_major": 2
            },
            "text/plain": [
              "HBox(children=(FloatProgress(value=0.0, description='Downloading', max=1042301.0, style=ProgressStyle(descript…"
            ]
          },
          "metadata": {
            "tags": []
          }
        },
        {
          "output_type": "stream",
          "text": [
            "\n"
          ],
          "name": "stdout"
        },
        {
          "output_type": "display_data",
          "data": {
            "application/vnd.jupyter.widget-view+json": {
              "model_id": "4f0578e725d943dd9e49f396cf74a5cd",
              "version_minor": 0,
              "version_major": 2
            },
            "text/plain": [
              "HBox(children=(FloatProgress(value=0.0, description='Downloading', max=456318.0, style=ProgressStyle(descripti…"
            ]
          },
          "metadata": {
            "tags": []
          }
        },
        {
          "output_type": "stream",
          "text": [
            "\n"
          ],
          "name": "stdout"
        },
        {
          "output_type": "display_data",
          "data": {
            "application/vnd.jupyter.widget-view+json": {
              "model_id": "4db19fe40b6a4517bb89d8ea4e727035",
              "version_minor": 0,
              "version_major": 2
            },
            "text/plain": [
              "HBox(children=(FloatProgress(value=0.0, description='Downloading', max=665.0, style=ProgressStyle(description_…"
            ]
          },
          "metadata": {
            "tags": []
          }
        },
        {
          "output_type": "stream",
          "text": [
            "\n"
          ],
          "name": "stdout"
        },
        {
          "output_type": "display_data",
          "data": {
            "application/vnd.jupyter.widget-view+json": {
              "model_id": "eca38129caa844738ea86239aae26637",
              "version_minor": 0,
              "version_major": 2
            },
            "text/plain": [
              "HBox(children=(FloatProgress(value=0.0, description='Downloading', max=497933648.0, style=ProgressStyle(descri…"
            ]
          },
          "metadata": {
            "tags": []
          }
        },
        {
          "output_type": "stream",
          "text": [
            "\n"
          ],
          "name": "stdout"
        },
        {
          "output_type": "stream",
          "text": [
            "All model checkpoint layers were used when initializing TFGPT2LMHeadModel.\n",
            "\n",
            "All the layers of TFGPT2LMHeadModel were initialized from the model checkpoint at gpt2.\n",
            "If your task is similar to the task the model of the checkpoint was trained on, you can already use TFGPT2LMHeadModel for predictions without further training.\n"
          ],
          "name": "stderr"
        }
      ]
    },
    {
      "cell_type": "markdown",
      "metadata": {
        "id": "RZRgKoOo6lrZ"
      },
      "source": [
        "A continuación podemos generar un texto usando el modelo GPT2. Solamente le tenemos que entregar una frase inicial, y el modelo luego entrega una posible continuación para el texto."
      ]
    },
    {
      "cell_type": "code",
      "metadata": {
        "id": "cEyYFiHQG7ot",
        "colab": {
          "base_uri": "https://localhost:8080/"
        },
        "outputId": "9cf7075c-8cf5-4a23-ec6c-d9f3cda175db"
      },
      "source": [
        "input_ids = tokenizer.encode('I enjoy walking with my cute dog', return_tensors='tf')\n",
        "\n",
        "beam_output = model.generate(\n",
        "    input_ids, \n",
        "    max_length=100, \n",
        "    num_beams=5, \n",
        "    early_stopping=True\n",
        ")\n",
        "\n",
        "print(\"Output:\\n\" + 100 * '-')\n",
        "print(tokenizer.decode(beam_output[0], skip_special_tokens=True))"
      ],
      "execution_count": null,
      "outputs": [
        {
          "output_type": "stream",
          "text": [
            "Output:\n",
            "----------------------------------------------------------------------------------------------------\n",
            "I enjoy walking with my cute dog, but I'm not sure if I'll ever be able to walk with him again.\n",
            "\n",
            "I'm not sure if I'll ever be able to walk with him again.\n",
            "\n",
            "I'm not sure if I'll ever be able to walk with him again.\n",
            "\n",
            "I'm not sure if I'll ever be able to walk with him again.\n",
            "\n",
            "I'm not sure if I'll ever be able to walk with him again.\n",
            "\n",
            "I\n"
          ],
          "name": "stdout"
        }
      ]
    },
    {
      "cell_type": "markdown",
      "metadata": {
        "id": "ZWWjUtVJ69tH"
      },
      "source": [
        "Vemos que no genera un texto del todo convincente, pues tiene muchas repeticiones (lo cual es muy usual en este tipo de modelos). Para resolver eso podemos restringir que no repita ciertos ngrams de la siguiente forma:"
      ]
    },
    {
      "cell_type": "code",
      "metadata": {
        "id": "9fDQOvSoFfLK",
        "colab": {
          "base_uri": "https://localhost:8080/"
        },
        "outputId": "69bfa54b-b3d6-434e-ed62-d33756b50b1d"
      },
      "source": [
        "input_ids = tokenizer.encode('I enjoy walking with my cute dog', return_tensors='tf')\n",
        "\n",
        "beam_output = model.generate(\n",
        "    input_ids, \n",
        "    max_length=100, \n",
        "    num_beams=5, \n",
        "    no_repeat_ngram_size=2,\n",
        "    early_stopping=True\n",
        ")\n",
        "\n",
        "print(\"Output:\\n\" + 100 * '-')\n",
        "print(tokenizer.decode(beam_output[0], skip_special_tokens=True))"
      ],
      "execution_count": null,
      "outputs": [
        {
          "output_type": "stream",
          "text": [
            "Output:\n",
            "----------------------------------------------------------------------------------------------------\n",
            "I enjoy walking with my cute dog, but I'm not sure if I'll ever be able to walk with him again.\n",
            "\n",
            "I've been thinking about this for a while now, and I think it's time for me to take a step back and think about what I want to do next. I've always wanted to be a writer, so I thought I'd share my thoughts on how I would go about writing a book about my love of writing. Here are some of the things I\n"
          ],
          "name": "stdout"
        }
      ]
    },
    {
      "cell_type": "markdown",
      "metadata": {
        "id": "rKftFZ2W4XKJ"
      },
      "source": [
        "## Actividades"
      ]
    },
    {
      "cell_type": "markdown",
      "metadata": {
        "id": "XGzR2FZJHOQ6"
      },
      "source": [
        "**10) Como ha visto a lo largo de este laboratorio, cada modelo trae su propio tokenizador. ¿Qué efecto tendría si usáramos el tokenizador de un modelo (ejemplo: el de BERT) para otro (ejemplo: para GPT2)?. Explique muy brevemente el efecto que podría tener en los resultados, asumiendo que solo se usará en modo \"inferencia\", no en modo \"entrenamiento\" ni \"finetuning\", y que el código ejecuta sin errores.**"
      ]
    },
    {
      "cell_type": "markdown",
      "metadata": {
        "id": "mBquOpihywsN"
      },
      "source": [
        "Los modelos fueron entrenados con sus propios tokenizadores. Es posible que el modelo no se cayese y entregase un resultado con texto procesado con un tokenizador de otro modelo, pero el resultado podria no tener sentido. "
      ]
    },
    {
      "cell_type": "markdown",
      "metadata": {
        "id": "KZP7f0Vp5uqO"
      },
      "source": [
        "**11) Los modelos GPT, GPT2 y GPT3 son modelos diseñado para generar texto. El modo de uso básico es entregarle un texto inicial, y el modelo simplemente completa el resto del texto según lo que estima como una continuación probable (dado lo que vio en entrenamiento). ¿Es esto un impedimento para realizar tareas más dirigidas, donde nos gustaría hacer que el modelo genere un texto siguiendo cierta lógica de interés (ej: summarization)?** Asuma que está usando el modelo sin modificaciones a la medida ni finetuning.\n",
        "\n",
        "*Hint: esto fue mencionado durante la clase o laboratorio, así que en caso de dudas puede consultar la grabación de la clase :)*\n"
      ]
    },
    {
      "cell_type": "code",
      "metadata": {
        "id": "v3-8g-4OvI65"
      },
      "source": [
        "#@title Respuesta\n",
        "\n",
        "Respuesta = 'No es un impedimento. Si se puede hacer.' #@param [\"seleccione una opcion\", \"Si es un impedimento. No se puede hacer.\", \"No es un impedimento. Si se puede hacer.\", \"Es un impedimento en algunos casos, pero no en otros.\"]\n",
        "Justificación = \"Uno puede usar el \\\"base\\\" model y hacerle fine-tuning para que cumpla otras tareas. De esta manera uno tiene todas las ventajas del \\\"base model\\\", y ahora especializado para la tarea que uno quiere.\" #@param {type:\"string\"}"
      ],
      "execution_count": null,
      "outputs": []
    },
    {
      "cell_type": "markdown",
      "metadata": {
        "id": "Q3yJcc187HCW"
      },
      "source": [
        "**12) Supongamos que usted quiere generar con GPT2 un texto extenso (supongamos que son varias hojas de texto generado) donde el tema principal sea \"New York\". Como se mencionó en el laboratorio, usar un código como este puede traer un problema en cuanto al texto generado.**\n",
        " \n",
        " ```\n",
        " model.generate(input, max_length=1000000, \n",
        "    num_beams=5, \n",
        "    no_repeat_ngram_size=2,\n",
        "    early_stopping=True\n",
        ")\n",
        "```\n",
        "\n",
        "\n",
        "**¿Cuál es ese problema? ¿Cómo podría resolverse?**\n",
        "\n",
        "*Hint: esto fue mencionado durante la clase o laboratorio, así que en caso de dudas puede consultar la grabación de la clase :)*"
      ]
    },
    {
      "cell_type": "code",
      "metadata": {
        "id": "tNC2RKDY8EGv",
        "colab": {
          "base_uri": "https://localhost:8080/",
          "height": 150
        },
        "outputId": "1a7e771c-8643-4354-9a66-b9a40fb81a9b"
      },
      "source": [
        "#@title Respuesta\n",
        "\n",
        "Problema = \"El problema es que cuando max_length es demasiado grande, el modelo se demora muchisimo\" #@param {type:\"string\"}\n",
        "Una posible solución = 'Uno podria usar el modelo con max_length = 1.000, y generar texto multiples veces. Luego el texto total es la union de los distintos textos.' #@param {type:\"string\"}"
      ],
      "execution_count": null,
      "outputs": [
        {
          "output_type": "error",
          "ename": "SyntaxError",
          "evalue": "ignored",
          "traceback": [
            "\u001b[0;36m  File \u001b[0;32m\"<ipython-input-16-c1a7d69fc0a4>\"\u001b[0;36m, line \u001b[0;32m4\u001b[0m\n\u001b[0;31m    Una posible solución = 'Uno podria usar el modelo con max_length = 1.000, y generar texto multiples veces. Luego el texto total es la union de los distintos textos.' #@param {type:\"string\"}\u001b[0m\n\u001b[0m              ^\u001b[0m\n\u001b[0;31mSyntaxError\u001b[0m\u001b[0;31m:\u001b[0m invalid syntax\n"
          ]
        }
      ]
    },
    {
      "cell_type": "markdown",
      "metadata": {
        "id": "Acvhf7xiPN1W"
      },
      "source": [
        "# **Actividad Final**"
      ]
    },
    {
      "cell_type": "markdown",
      "metadata": {
        "id": "JcnGq8ZjPYbl"
      },
      "source": [
        "En este laboratorio usamos los modelos pre-entrenados para ELMo, BERT y GPT2, los cuales fueron entrenados en inglés. **¿Qué recomendaría hacer para usarlos para el idioma español en sus propios proyectos?** Asuma que tiene recursos y tiempo acotados (ej: no es factible entrenar GPT2 desde cero para español).\n",
        "\n",
        "Para cada arquitectura, comente si es posible o no. De ser posible proponga al menos una solución concreta (OJO: se evaluará que la solución sea super concreta). De no ser posible, justifique. No se extienda más allá de un párrafo por modelo (Ojo: se espera que la respuesta sea breve)."
      ]
    },
    {
      "cell_type": "markdown",
      "metadata": {
        "id": "BM2wIkpMQ9Mt"
      },
      "source": [
        "**13) Para el caso de ELMo**: \n",
        "- ¿Es posible?: Si\n",
        "- Justificación/Solución: Se puede obtener los pesos para Elmo en Español desde https://github.com/lastrodrigo/SpanishElmoFullWeights"
      ]
    },
    {
      "cell_type": "markdown",
      "metadata": {
        "id": "4HXQHyt0QeWw"
      },
      "source": [
        "**14) Para el caso de BERT**: \n",
        "- ¿Es posible?: Si\n",
        "- Justificación/Solución: Se pueden bajar los pesos de Bert de la version \"bert-base-multilingual-cased\" desde la web https://huggingface.co/transformers/pretrained_models.html, y hacerle fine tuning al español. O tambien uno podria bajar y usar Beto desde https://github.com/dccuchile/beto"
      ]
    },
    {
      "cell_type": "markdown",
      "metadata": {
        "id": "5osKRrSFSf1u"
      },
      "source": [
        "**15) Para el caso de GPT2**: \n",
        "- ¿Es posible?: Si, aunque no sera facil\n",
        "- Justificación/Solución: Se pueden bajar los pesos de GPT2 de la web https://huggingface.co/transformers/pretrained_models.html y luego hacer fine-tuning al español. Claro que como GPT2 es muy grande tomará tiempo y recursos. "
      ]
    },
    {
      "cell_type": "code",
      "metadata": {
        "id": "fnXldR509FFt"
      },
      "source": [
        ""
      ],
      "execution_count": null,
      "outputs": []
    }
  ]
}