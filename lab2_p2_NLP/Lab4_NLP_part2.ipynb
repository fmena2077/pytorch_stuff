{
  "nbformat": 4,
  "nbformat_minor": 0,
  "metadata": {
    "accelerator": "GPU",
    "colab": {
      "name": "Laboratorio_4_Parte_2_FranciscoMena.ipynb",
      "provenance": [],
      "collapsed_sections": [],
      "toc_visible": true
    },
    "kernelspec": {
      "display_name": "Python 3",
      "name": "python3"
    },
    "widgets": {
      "application/vnd.jupyter.widget-state+json": {
        "175d5865a08940c7b145af0171f6fe9b": {
          "model_module": "@jupyter-widgets/controls",
          "model_name": "HBoxModel",
          "state": {
            "_view_name": "HBoxView",
            "_dom_classes": [],
            "_model_name": "HBoxModel",
            "_view_module": "@jupyter-widgets/controls",
            "_model_module_version": "1.5.0",
            "_view_count": null,
            "_view_module_version": "1.5.0",
            "box_style": "",
            "layout": "IPY_MODEL_9d2deafe4d77474e8a6bd24ca2c67e7d",
            "_model_module": "@jupyter-widgets/controls",
            "children": [
              "IPY_MODEL_554405b62a9547618fc482939c593dc9",
              "IPY_MODEL_11b3b89b616848438e2b9063875ef7d1"
            ]
          }
        },
        "9d2deafe4d77474e8a6bd24ca2c67e7d": {
          "model_module": "@jupyter-widgets/base",
          "model_name": "LayoutModel",
          "state": {
            "_view_name": "LayoutView",
            "grid_template_rows": null,
            "right": null,
            "justify_content": null,
            "_view_module": "@jupyter-widgets/base",
            "overflow": null,
            "_model_module_version": "1.2.0",
            "_view_count": null,
            "flex_flow": null,
            "width": null,
            "min_width": null,
            "border": null,
            "align_items": null,
            "bottom": null,
            "_model_module": "@jupyter-widgets/base",
            "top": null,
            "grid_column": null,
            "overflow_y": null,
            "overflow_x": null,
            "grid_auto_flow": null,
            "grid_area": null,
            "grid_template_columns": null,
            "flex": null,
            "_model_name": "LayoutModel",
            "justify_items": null,
            "grid_row": null,
            "max_height": null,
            "align_content": null,
            "visibility": null,
            "align_self": null,
            "height": null,
            "min_height": null,
            "padding": null,
            "grid_auto_rows": null,
            "grid_gap": null,
            "max_width": null,
            "order": null,
            "_view_module_version": "1.2.0",
            "grid_template_areas": null,
            "object_position": null,
            "object_fit": null,
            "grid_auto_columns": null,
            "margin": null,
            "display": null,
            "left": null
          }
        },
        "554405b62a9547618fc482939c593dc9": {
          "model_module": "@jupyter-widgets/controls",
          "model_name": "FloatProgressModel",
          "state": {
            "_view_name": "ProgressView",
            "style": "IPY_MODEL_24aa822d06384425bf87005ec4218d66",
            "_dom_classes": [],
            "description": "",
            "_model_name": "FloatProgressModel",
            "bar_style": "danger",
            "max": 57,
            "_view_module": "@jupyter-widgets/controls",
            "_model_module_version": "1.5.0",
            "value": 57,
            "_view_count": null,
            "_view_module_version": "1.5.0",
            "orientation": "horizontal",
            "min": 0,
            "description_tooltip": null,
            "_model_module": "@jupyter-widgets/controls",
            "layout": "IPY_MODEL_4c5cab6c87684b6194b802068ed3422d"
          }
        },
        "11b3b89b616848438e2b9063875ef7d1": {
          "model_module": "@jupyter-widgets/controls",
          "model_name": "HTMLModel",
          "state": {
            "_view_name": "HTMLView",
            "style": "IPY_MODEL_1bae3dc3832641e18a9e9a1dcb2ee40a",
            "_dom_classes": [],
            "description": "",
            "_model_name": "HTMLModel",
            "placeholder": "​",
            "_view_module": "@jupyter-widgets/controls",
            "_model_module_version": "1.5.0",
            "value": " 58/? [04:44&lt;00:00,  4.78s/it]",
            "_view_count": null,
            "_view_module_version": "1.5.0",
            "description_tooltip": null,
            "_model_module": "@jupyter-widgets/controls",
            "layout": "IPY_MODEL_01f1bd7005534dafa04058f7e8a71e4c"
          }
        },
        "24aa822d06384425bf87005ec4218d66": {
          "model_module": "@jupyter-widgets/controls",
          "model_name": "ProgressStyleModel",
          "state": {
            "_view_name": "StyleView",
            "_model_name": "ProgressStyleModel",
            "description_width": "initial",
            "_view_module": "@jupyter-widgets/base",
            "_model_module_version": "1.5.0",
            "_view_count": null,
            "_view_module_version": "1.2.0",
            "bar_color": null,
            "_model_module": "@jupyter-widgets/controls"
          }
        },
        "4c5cab6c87684b6194b802068ed3422d": {
          "model_module": "@jupyter-widgets/base",
          "model_name": "LayoutModel",
          "state": {
            "_view_name": "LayoutView",
            "grid_template_rows": null,
            "right": null,
            "justify_content": null,
            "_view_module": "@jupyter-widgets/base",
            "overflow": null,
            "_model_module_version": "1.2.0",
            "_view_count": null,
            "flex_flow": null,
            "width": null,
            "min_width": null,
            "border": null,
            "align_items": null,
            "bottom": null,
            "_model_module": "@jupyter-widgets/base",
            "top": null,
            "grid_column": null,
            "overflow_y": null,
            "overflow_x": null,
            "grid_auto_flow": null,
            "grid_area": null,
            "grid_template_columns": null,
            "flex": null,
            "_model_name": "LayoutModel",
            "justify_items": null,
            "grid_row": null,
            "max_height": null,
            "align_content": null,
            "visibility": null,
            "align_self": null,
            "height": null,
            "min_height": null,
            "padding": null,
            "grid_auto_rows": null,
            "grid_gap": null,
            "max_width": null,
            "order": null,
            "_view_module_version": "1.2.0",
            "grid_template_areas": null,
            "object_position": null,
            "object_fit": null,
            "grid_auto_columns": null,
            "margin": null,
            "display": null,
            "left": null
          }
        },
        "1bae3dc3832641e18a9e9a1dcb2ee40a": {
          "model_module": "@jupyter-widgets/controls",
          "model_name": "DescriptionStyleModel",
          "state": {
            "_view_name": "StyleView",
            "_model_name": "DescriptionStyleModel",
            "description_width": "",
            "_view_module": "@jupyter-widgets/base",
            "_model_module_version": "1.5.0",
            "_view_count": null,
            "_view_module_version": "1.2.0",
            "_model_module": "@jupyter-widgets/controls"
          }
        },
        "01f1bd7005534dafa04058f7e8a71e4c": {
          "model_module": "@jupyter-widgets/base",
          "model_name": "LayoutModel",
          "state": {
            "_view_name": "LayoutView",
            "grid_template_rows": null,
            "right": null,
            "justify_content": null,
            "_view_module": "@jupyter-widgets/base",
            "overflow": null,
            "_model_module_version": "1.2.0",
            "_view_count": null,
            "flex_flow": null,
            "width": null,
            "min_width": null,
            "border": null,
            "align_items": null,
            "bottom": null,
            "_model_module": "@jupyter-widgets/base",
            "top": null,
            "grid_column": null,
            "overflow_y": null,
            "overflow_x": null,
            "grid_auto_flow": null,
            "grid_area": null,
            "grid_template_columns": null,
            "flex": null,
            "_model_name": "LayoutModel",
            "justify_items": null,
            "grid_row": null,
            "max_height": null,
            "align_content": null,
            "visibility": null,
            "align_self": null,
            "height": null,
            "min_height": null,
            "padding": null,
            "grid_auto_rows": null,
            "grid_gap": null,
            "max_width": null,
            "order": null,
            "_view_module_version": "1.2.0",
            "grid_template_areas": null,
            "object_position": null,
            "object_fit": null,
            "grid_auto_columns": null,
            "margin": null,
            "display": null,
            "left": null
          }
        },
        "e4c7df4aafdd4172a9520cacfad084fe": {
          "model_module": "@jupyter-widgets/controls",
          "model_name": "HBoxModel",
          "state": {
            "_view_name": "HBoxView",
            "_dom_classes": [],
            "_model_name": "HBoxModel",
            "_view_module": "@jupyter-widgets/controls",
            "_model_module_version": "1.5.0",
            "_view_count": null,
            "_view_module_version": "1.5.0",
            "box_style": "",
            "layout": "IPY_MODEL_20e57666eadf400998b10f6df4706ef6",
            "_model_module": "@jupyter-widgets/controls",
            "children": [
              "IPY_MODEL_123b4af02b884ebc8f75792b23ff4897",
              "IPY_MODEL_5be8f4ebaf3146fdb4dcbe2d003b05b7"
            ]
          }
        },
        "20e57666eadf400998b10f6df4706ef6": {
          "model_module": "@jupyter-widgets/base",
          "model_name": "LayoutModel",
          "state": {
            "_view_name": "LayoutView",
            "grid_template_rows": null,
            "right": null,
            "justify_content": null,
            "_view_module": "@jupyter-widgets/base",
            "overflow": null,
            "_model_module_version": "1.2.0",
            "_view_count": null,
            "flex_flow": null,
            "width": null,
            "min_width": null,
            "border": null,
            "align_items": null,
            "bottom": null,
            "_model_module": "@jupyter-widgets/base",
            "top": null,
            "grid_column": null,
            "overflow_y": null,
            "overflow_x": null,
            "grid_auto_flow": null,
            "grid_area": null,
            "grid_template_columns": null,
            "flex": null,
            "_model_name": "LayoutModel",
            "justify_items": null,
            "grid_row": null,
            "max_height": null,
            "align_content": null,
            "visibility": null,
            "align_self": null,
            "height": null,
            "min_height": null,
            "padding": null,
            "grid_auto_rows": null,
            "grid_gap": null,
            "max_width": null,
            "order": null,
            "_view_module_version": "1.2.0",
            "grid_template_areas": null,
            "object_position": null,
            "object_fit": null,
            "grid_auto_columns": null,
            "margin": null,
            "display": null,
            "left": null
          }
        },
        "123b4af02b884ebc8f75792b23ff4897": {
          "model_module": "@jupyter-widgets/controls",
          "model_name": "FloatProgressModel",
          "state": {
            "_view_name": "ProgressView",
            "style": "IPY_MODEL_9875ee7c6da541208fd2babb4c3bdcac",
            "_dom_classes": [],
            "description": "",
            "_model_name": "FloatProgressModel",
            "bar_style": "danger",
            "max": 57,
            "_view_module": "@jupyter-widgets/controls",
            "_model_module_version": "1.5.0",
            "value": 57,
            "_view_count": null,
            "_view_module_version": "1.5.0",
            "orientation": "horizontal",
            "min": 0,
            "description_tooltip": null,
            "_model_module": "@jupyter-widgets/controls",
            "layout": "IPY_MODEL_0b1f81f250d64d0b983f541f79f3536d"
          }
        },
        "5be8f4ebaf3146fdb4dcbe2d003b05b7": {
          "model_module": "@jupyter-widgets/controls",
          "model_name": "HTMLModel",
          "state": {
            "_view_name": "HTMLView",
            "style": "IPY_MODEL_5a92327206884de189ca1753bde53fa6",
            "_dom_classes": [],
            "description": "",
            "_model_name": "HTMLModel",
            "placeholder": "​",
            "_view_module": "@jupyter-widgets/controls",
            "_model_module_version": "1.5.0",
            "value": " 58/? [07:57&lt;00:00,  8.32s/it]",
            "_view_count": null,
            "_view_module_version": "1.5.0",
            "description_tooltip": null,
            "_model_module": "@jupyter-widgets/controls",
            "layout": "IPY_MODEL_d3cbdc34602b48b99d08633e97629bb1"
          }
        },
        "9875ee7c6da541208fd2babb4c3bdcac": {
          "model_module": "@jupyter-widgets/controls",
          "model_name": "ProgressStyleModel",
          "state": {
            "_view_name": "StyleView",
            "_model_name": "ProgressStyleModel",
            "description_width": "initial",
            "_view_module": "@jupyter-widgets/base",
            "_model_module_version": "1.5.0",
            "_view_count": null,
            "_view_module_version": "1.2.0",
            "bar_color": null,
            "_model_module": "@jupyter-widgets/controls"
          }
        },
        "0b1f81f250d64d0b983f541f79f3536d": {
          "model_module": "@jupyter-widgets/base",
          "model_name": "LayoutModel",
          "state": {
            "_view_name": "LayoutView",
            "grid_template_rows": null,
            "right": null,
            "justify_content": null,
            "_view_module": "@jupyter-widgets/base",
            "overflow": null,
            "_model_module_version": "1.2.0",
            "_view_count": null,
            "flex_flow": null,
            "width": null,
            "min_width": null,
            "border": null,
            "align_items": null,
            "bottom": null,
            "_model_module": "@jupyter-widgets/base",
            "top": null,
            "grid_column": null,
            "overflow_y": null,
            "overflow_x": null,
            "grid_auto_flow": null,
            "grid_area": null,
            "grid_template_columns": null,
            "flex": null,
            "_model_name": "LayoutModel",
            "justify_items": null,
            "grid_row": null,
            "max_height": null,
            "align_content": null,
            "visibility": null,
            "align_self": null,
            "height": null,
            "min_height": null,
            "padding": null,
            "grid_auto_rows": null,
            "grid_gap": null,
            "max_width": null,
            "order": null,
            "_view_module_version": "1.2.0",
            "grid_template_areas": null,
            "object_position": null,
            "object_fit": null,
            "grid_auto_columns": null,
            "margin": null,
            "display": null,
            "left": null
          }
        },
        "5a92327206884de189ca1753bde53fa6": {
          "model_module": "@jupyter-widgets/controls",
          "model_name": "DescriptionStyleModel",
          "state": {
            "_view_name": "StyleView",
            "_model_name": "DescriptionStyleModel",
            "description_width": "",
            "_view_module": "@jupyter-widgets/base",
            "_model_module_version": "1.5.0",
            "_view_count": null,
            "_view_module_version": "1.2.0",
            "_model_module": "@jupyter-widgets/controls"
          }
        },
        "d3cbdc34602b48b99d08633e97629bb1": {
          "model_module": "@jupyter-widgets/base",
          "model_name": "LayoutModel",
          "state": {
            "_view_name": "LayoutView",
            "grid_template_rows": null,
            "right": null,
            "justify_content": null,
            "_view_module": "@jupyter-widgets/base",
            "overflow": null,
            "_model_module_version": "1.2.0",
            "_view_count": null,
            "flex_flow": null,
            "width": null,
            "min_width": null,
            "border": null,
            "align_items": null,
            "bottom": null,
            "_model_module": "@jupyter-widgets/base",
            "top": null,
            "grid_column": null,
            "overflow_y": null,
            "overflow_x": null,
            "grid_auto_flow": null,
            "grid_area": null,
            "grid_template_columns": null,
            "flex": null,
            "_model_name": "LayoutModel",
            "justify_items": null,
            "grid_row": null,
            "max_height": null,
            "align_content": null,
            "visibility": null,
            "align_self": null,
            "height": null,
            "min_height": null,
            "padding": null,
            "grid_auto_rows": null,
            "grid_gap": null,
            "max_width": null,
            "order": null,
            "_view_module_version": "1.2.0",
            "grid_template_areas": null,
            "object_position": null,
            "object_fit": null,
            "grid_auto_columns": null,
            "margin": null,
            "display": null,
            "left": null
          }
        },
        "fc898800a99345dc9bb4ec8c2e9ef13f": {
          "model_module": "@jupyter-widgets/controls",
          "model_name": "HBoxModel",
          "state": {
            "_view_name": "HBoxView",
            "_dom_classes": [],
            "_model_name": "HBoxModel",
            "_view_module": "@jupyter-widgets/controls",
            "_model_module_version": "1.5.0",
            "_view_count": null,
            "_view_module_version": "1.5.0",
            "box_style": "",
            "layout": "IPY_MODEL_bc1e4caa46ac4e3c8026fc7191e19d5c",
            "_model_module": "@jupyter-widgets/controls",
            "children": [
              "IPY_MODEL_221d2e4d88eb49b8b49dad3cdbf43573",
              "IPY_MODEL_2b571f0b1d024a969d5fe3bd48859ac7"
            ]
          }
        },
        "bc1e4caa46ac4e3c8026fc7191e19d5c": {
          "model_module": "@jupyter-widgets/base",
          "model_name": "LayoutModel",
          "state": {
            "_view_name": "LayoutView",
            "grid_template_rows": null,
            "right": null,
            "justify_content": null,
            "_view_module": "@jupyter-widgets/base",
            "overflow": null,
            "_model_module_version": "1.2.0",
            "_view_count": null,
            "flex_flow": null,
            "width": null,
            "min_width": null,
            "border": null,
            "align_items": null,
            "bottom": null,
            "_model_module": "@jupyter-widgets/base",
            "top": null,
            "grid_column": null,
            "overflow_y": null,
            "overflow_x": null,
            "grid_auto_flow": null,
            "grid_area": null,
            "grid_template_columns": null,
            "flex": null,
            "_model_name": "LayoutModel",
            "justify_items": null,
            "grid_row": null,
            "max_height": null,
            "align_content": null,
            "visibility": null,
            "align_self": null,
            "height": null,
            "min_height": null,
            "padding": null,
            "grid_auto_rows": null,
            "grid_gap": null,
            "max_width": null,
            "order": null,
            "_view_module_version": "1.2.0",
            "grid_template_areas": null,
            "object_position": null,
            "object_fit": null,
            "grid_auto_columns": null,
            "margin": null,
            "display": null,
            "left": null
          }
        },
        "221d2e4d88eb49b8b49dad3cdbf43573": {
          "model_module": "@jupyter-widgets/controls",
          "model_name": "FloatProgressModel",
          "state": {
            "_view_name": "ProgressView",
            "style": "IPY_MODEL_8e525293e74748b3b4034cd5b4c8e20e",
            "_dom_classes": [],
            "description": "",
            "_model_name": "FloatProgressModel",
            "bar_style": "danger",
            "max": 57,
            "_view_module": "@jupyter-widgets/controls",
            "_model_module_version": "1.5.0",
            "value": 57,
            "_view_count": null,
            "_view_module_version": "1.5.0",
            "orientation": "horizontal",
            "min": 0,
            "description_tooltip": null,
            "_model_module": "@jupyter-widgets/controls",
            "layout": "IPY_MODEL_91a63afd331c4fef9f8cb82ca8f3e288"
          }
        },
        "2b571f0b1d024a969d5fe3bd48859ac7": {
          "model_module": "@jupyter-widgets/controls",
          "model_name": "HTMLModel",
          "state": {
            "_view_name": "HTMLView",
            "style": "IPY_MODEL_c90adfb6c49d46b68955c4a6a387e107",
            "_dom_classes": [],
            "description": "",
            "_model_name": "HTMLModel",
            "placeholder": "​",
            "_view_module": "@jupyter-widgets/controls",
            "_model_module_version": "1.5.0",
            "value": " 58/? [07:46&lt;00:00,  8.26s/it]",
            "_view_count": null,
            "_view_module_version": "1.5.0",
            "description_tooltip": null,
            "_model_module": "@jupyter-widgets/controls",
            "layout": "IPY_MODEL_62a4563ead644daa9b7b151d1a050434"
          }
        },
        "8e525293e74748b3b4034cd5b4c8e20e": {
          "model_module": "@jupyter-widgets/controls",
          "model_name": "ProgressStyleModel",
          "state": {
            "_view_name": "StyleView",
            "_model_name": "ProgressStyleModel",
            "description_width": "initial",
            "_view_module": "@jupyter-widgets/base",
            "_model_module_version": "1.5.0",
            "_view_count": null,
            "_view_module_version": "1.2.0",
            "bar_color": null,
            "_model_module": "@jupyter-widgets/controls"
          }
        },
        "91a63afd331c4fef9f8cb82ca8f3e288": {
          "model_module": "@jupyter-widgets/base",
          "model_name": "LayoutModel",
          "state": {
            "_view_name": "LayoutView",
            "grid_template_rows": null,
            "right": null,
            "justify_content": null,
            "_view_module": "@jupyter-widgets/base",
            "overflow": null,
            "_model_module_version": "1.2.0",
            "_view_count": null,
            "flex_flow": null,
            "width": null,
            "min_width": null,
            "border": null,
            "align_items": null,
            "bottom": null,
            "_model_module": "@jupyter-widgets/base",
            "top": null,
            "grid_column": null,
            "overflow_y": null,
            "overflow_x": null,
            "grid_auto_flow": null,
            "grid_area": null,
            "grid_template_columns": null,
            "flex": null,
            "_model_name": "LayoutModel",
            "justify_items": null,
            "grid_row": null,
            "max_height": null,
            "align_content": null,
            "visibility": null,
            "align_self": null,
            "height": null,
            "min_height": null,
            "padding": null,
            "grid_auto_rows": null,
            "grid_gap": null,
            "max_width": null,
            "order": null,
            "_view_module_version": "1.2.0",
            "grid_template_areas": null,
            "object_position": null,
            "object_fit": null,
            "grid_auto_columns": null,
            "margin": null,
            "display": null,
            "left": null
          }
        },
        "c90adfb6c49d46b68955c4a6a387e107": {
          "model_module": "@jupyter-widgets/controls",
          "model_name": "DescriptionStyleModel",
          "state": {
            "_view_name": "StyleView",
            "_model_name": "DescriptionStyleModel",
            "description_width": "",
            "_view_module": "@jupyter-widgets/base",
            "_model_module_version": "1.5.0",
            "_view_count": null,
            "_view_module_version": "1.2.0",
            "_model_module": "@jupyter-widgets/controls"
          }
        },
        "62a4563ead644daa9b7b151d1a050434": {
          "model_module": "@jupyter-widgets/base",
          "model_name": "LayoutModel",
          "state": {
            "_view_name": "LayoutView",
            "grid_template_rows": null,
            "right": null,
            "justify_content": null,
            "_view_module": "@jupyter-widgets/base",
            "overflow": null,
            "_model_module_version": "1.2.0",
            "_view_count": null,
            "flex_flow": null,
            "width": null,
            "min_width": null,
            "border": null,
            "align_items": null,
            "bottom": null,
            "_model_module": "@jupyter-widgets/base",
            "top": null,
            "grid_column": null,
            "overflow_y": null,
            "overflow_x": null,
            "grid_auto_flow": null,
            "grid_area": null,
            "grid_template_columns": null,
            "flex": null,
            "_model_name": "LayoutModel",
            "justify_items": null,
            "grid_row": null,
            "max_height": null,
            "align_content": null,
            "visibility": null,
            "align_self": null,
            "height": null,
            "min_height": null,
            "padding": null,
            "grid_auto_rows": null,
            "grid_gap": null,
            "max_width": null,
            "order": null,
            "_view_module_version": "1.2.0",
            "grid_template_areas": null,
            "object_position": null,
            "object_fit": null,
            "grid_auto_columns": null,
            "margin": null,
            "display": null,
            "left": null
          }
        }
      }
    }
  },
  "cells": [
    {
      "cell_type": "markdown",
      "metadata": {
        "id": "tHopPtVaNF1K"
      },
      "source": [
        "# **Diplomado IA: Aplicaciones de Inteligencia Artificial I - Parte 2**. <br> Práctico 4: Generación de resúmenes\n",
        "---\n",
        "---\n",
        "\n",
        "**Profesores:**\n",
        "- Vladimir Araujo\n",
        "- Felipe del Río\n",
        "\n",
        "**Ayudante:**\n",
        "- Nissim Ergas\n",
        "---\n",
        "---"
      ]
    },
    {
      "cell_type": "markdown",
      "metadata": {
        "id": "uIdAKAdELPSl"
      },
      "source": [
        "# **Instrucciones Generales**"
      ]
    },
    {
      "cell_type": "markdown",
      "metadata": {
        "id": "BmhnKlt8Ns7A"
      },
      "source": [
        "El siguiente práctico se debe realizar de forma **individual**. El formato de entregar es el **archivo .ipynb con todas las celdas ejecutadas**. Todas las preguntas deben ser respondida en celdas de texto. No se aceptará el _output_ de una celda de código como respuesta.\n",
        "\n",
        "**Nombre:** FRANCISCO MENA\n",
        "\n",
        "**Fecha de entrega: Viernes 8 de enero.**\n",
        "\n",
        "El siguiente práctico cuanta con 2 secciones donde cada una contendrá 1 o más actividades a realizar. Algunas actividades correspondrán a escribir código y otras a responder preguntas. \n",
        "\n",
        "Se recomienda **fuertemente** revisar las secciones donde se entrega código porque algunas actividades de código pueden reutilizar el mismo código pero con cambios en algunas líneas.\n",
        "\n"
      ]
    },
    {
      "cell_type": "markdown",
      "metadata": {
        "id": "kEloa5uXLIPK"
      },
      "source": [
        "# **Agenda**"
      ]
    },
    {
      "cell_type": "markdown",
      "metadata": {
        "colab_type": "toc",
        "id": "DGlX5q_pQYRa"
      },
      "source": [
        ">[Diplomado IA: Aplicaciones de Inteligencia Artificial I - Parte 2.  Práctico 4: Generación de resúmenes](#scrollTo=tHopPtVaNF1K)\n",
        "\n",
        ">[Instrucciones Generales](#scrollTo=uIdAKAdELPSl)\n",
        "\n",
        ">[Agenda](#scrollTo=kEloa5uXLIPK)\n",
        "\n",
        ">[Parte II: Generación de Resumenes Abstractivos ft. OpenNMT](#scrollTo=I3GBi78rnDo_)\n",
        "\n",
        ">>[Preámbulo](#scrollTo=jFqmDr1T6mVq)\n",
        "\n",
        ">>[Creación del vocabulario](#scrollTo=WHBf45mu25ya)\n",
        "\n",
        ">>[Entrenamiento](#scrollTo=TJGWJOFz3Pnh)\n",
        "\n",
        ">>[Creación de Resumenes](#scrollTo=SCJz6aHv3GY8)\n",
        "\n",
        ">>>[Preámbulo](#scrollTo=SCJz6aHv3GY8)\n",
        "\n",
        ">>>[Modelo Base](#scrollTo=zYaRvQ-lzTN6)\n",
        "\n",
        ">>>>[Configuración de la ejecución](#scrollTo=zYaRvQ-lzTN6)\n",
        "\n",
        ">>>>[Evaluación cualitativa](#scrollTo=E8MyjKOkU0oR)\n",
        "\n",
        ">>>>[Evaluación cuantitativa](#scrollTo=D3tKPzA9Jbm7)\n",
        "\n",
        ">>>[Modelo Pointer](#scrollTo=-O1CWc8rLt1n)\n",
        "\n",
        ">>>>[Evaluación cualitativa](#scrollTo=BBhZbHUQWkGA)\n",
        "\n",
        ">>>>[Evaluación cuantitativa](#scrollTo=f32nJ1iQWkGN)\n",
        "\n",
        ">>>>[Actividad 2](#scrollTo=qMaayH1yiMup)\n",
        "\n",
        ">>>[Actividad 3: Modelo Coverage](#scrollTo=O2kVqHVELyGR)\n",
        "\n",
        ">>>>[Evaluación cualitativa](#scrollTo=UAMSGfksWueT)\n",
        "\n",
        ">>>>[Evaluación cuantitativa](#scrollTo=E2QFB_-5Wuee)\n",
        "\n",
        ">>>>[Respuesta Actividad 3](#scrollTo=EKL2gbIyVHRG)\n",
        "\n"
      ]
    },
    {
      "cell_type": "markdown",
      "metadata": {
        "id": "I3GBi78rnDo_"
      },
      "source": [
        "# Parte II: Generación de Resumenes Abstractivos ft. OpenNMT\n",
        "\n",
        "En esta segunda parte del laboratorio, utilizaremos la librería [OpenNMT](https://opennmt.net/) para generar resumenes del tipo abstractivo.\n",
        "\n",
        "Esta librería originalmente se especializó en modelos seq2seq para traducción. Sin embargo, también se puede ver el problema de summarization como una traducción a un texto más condensado, por lo que podemos usar los mismos modelos con este fin.\n",
        "\n",
        "En este caso utilizaremos la versión para PyTorch de OpenNMT, `OpenNMT-py`. Esta nos probee de varias utilidades sobre PyTorch, que nos ayudaran en todo el proceso, partiendo por preprocesar los datos, para luego entrenar un modelo y finalmente evaluarlo y generar resumenes.\n",
        "\n",
        "OpenNMT está pensado principalmente para ser ejecutado por medio de distintos scripts o comandos que procesan las distintas etapas. Los comandos son instalados junto con la librería y simplemente son una forma directa de acceder a los scripts. Sin emabargo, en el último tiempo han estado migrando esta forma de operar a una que sea más similar al uso de una librería, por esto, hay partes que su uso como tal todavía no parece natural.\n",
        "\n",
        "Al ser pensada de esta forma, los archivos de configuración son bastante relevantes, para tener una referencia de cada parte del archivo de configuración, pueden ir a la [documentación de OpenNMT](https://opennmt.net/OpenNMT-py/examples/Summarization.html) para el script en particula que deseen usar.\n",
        "\n",
        "A medida que vayamos avanzando en la actividad explicaremos los distintos componentes de esta librería que vayamos utilizando.\n"
      ]
    },
    {
      "cell_type": "markdown",
      "metadata": {
        "id": "jFqmDr1T6mVq"
      },
      "source": [
        "## Preámbulo\n",
        "\n",
        "Primero debemos descargar distintas utilidades para realizar la actividad.\n",
        "\n",
        "Debemos descargar el dataset hacia colab para luego decomprimirlo dentro del directorio `data`, que recién creamos. También importamos algunas de las librerías que ocuparemos durante esta actividad, como `rougue-score` para ayudarnos a calcular la métric ROUGE y `OpenNMT-py` nombrada anteriormente."
      ]
    },
    {
      "cell_type": "code",
      "metadata": {
        "id": "1taCP_BxhOKD"
      },
      "source": [
        "import warnings\n",
        "warnings.filterwarnings('ignore')"
      ],
      "execution_count": 1,
      "outputs": []
    },
    {
      "cell_type": "code",
      "metadata": {
        "colab": {
          "base_uri": "https://localhost:8080/"
        },
        "id": "8hX8g-uspWBI",
        "outputId": "9c588739-2fad-49af-992b-3d2ac80bacef"
      },
      "source": [
        "! wget -q --show-progress https://raw.githubusercontent.com/Hernan4444/MyScripts/master/google_drive/google_api.py\n",
        "! mkdir -p data/cnndm"
      ],
      "execution_count": 2,
      "outputs": [
        {
          "output_type": "stream",
          "text": [
            "\rgoogle_api.py         0%[                    ]       0  --.-KB/s               \rgoogle_api.py       100%[===================>]   5.55K  --.-KB/s    in 0s      \n"
          ],
          "name": "stdout"
        }
      ]
    },
    {
      "cell_type": "code",
      "metadata": {
        "id": "KsfRsBn__9Qb"
      },
      "source": [
        "import os\n",
        "from google_api import download_file_without_authenticate\n",
        "\n",
        "# Descargamos nuestros checkpoints y archivos de configuración.\n",
        "if not os.path.exists('lab4.zip'): \n",
        "    download_file_without_authenticate('18ecT1r9jFGyChATPwTdRgvj9dKctd3sS', 'lab4.zip') "
      ],
      "execution_count": 3,
      "outputs": []
    },
    {
      "cell_type": "code",
      "metadata": {
        "id": "HqL9gmoO9U-W"
      },
      "source": [
        "!unzip -nq lab4.zip -d . \n",
        "!mv lab4/activity\\ 2/* ."
      ],
      "execution_count": 4,
      "outputs": []
    },
    {
      "cell_type": "code",
      "metadata": {
        "colab": {
          "base_uri": "https://localhost:8080/"
        },
        "id": "bSU5NL6BFCvh",
        "outputId": "2cc9cbc5-fc76-4a20-cb2e-6c34f0f33bad"
      },
      "source": [
        "# Descargamos los datos a utilizar.\n",
        "!wget -nc https://s3.amazonaws.com/opennmt-models/Summary/cnndm.tar.gz -P data -q --show-progress\n",
        "!tar -xf data/cnndm.tar.gz -C data/cnndm"
      ],
      "execution_count": 5,
      "outputs": [
        {
          "output_type": "stream",
          "text": [
            "cnndm.tar.gz        100%[===================>] 477.20M  14.1MB/s    in 36s     \n"
          ],
          "name": "stdout"
        }
      ]
    },
    {
      "cell_type": "code",
      "metadata": {
        "colab": {
          "base_uri": "https://localhost:8080/"
        },
        "id": "WyGfm91cTibv",
        "outputId": "6ffd8d6b-44ad-460c-b0d2-52ed5254c9e3"
      },
      "source": [
        "# Instalamos los paquetes a utilizar.\n",
        "!pip install rouge-score -q\n",
        "!pip install git+https://github.com/OpenNMT/OpenNMT-py.git@905673188d78530246d40b77c9eac77bee909126 -q # Instalamos desde github pues queremos usar la versión en un commit específico."
      ],
      "execution_count": 6,
      "outputs": [
        {
          "output_type": "stream",
          "text": [
            "\u001b[?25l\r\u001b[K     |██████▏                         | 10kB 28.9MB/s eta 0:00:01\r\u001b[K     |████████████▍                   | 20kB 33.3MB/s eta 0:00:01\r\u001b[K     |██████████████████▌             | 30kB 25.4MB/s eta 0:00:01\r\u001b[K     |████████████████████████▊       | 40kB 29.1MB/s eta 0:00:01\r\u001b[K     |██████████████████████████████▉ | 51kB 16.7MB/s eta 0:00:01\r\u001b[K     |████████████████████████████████| 61kB 6.9MB/s \n",
            "\u001b[K     |████████████████████████████████| 51kB 6.7MB/s \n",
            "\u001b[K     |████████████████████████████████| 61kB 6.1MB/s \n",
            "\u001b[K     |████████████████████████████████| 2.5MB 19.2MB/s \n",
            "\u001b[?25h  Building wheel for OpenNMT-py (setup.py) ... \u001b[?25l\u001b[?25hdone\n",
            "  Building wheel for configargparse (setup.py) ... \u001b[?25l\u001b[?25hdone\n"
          ],
          "name": "stdout"
        }
      ]
    },
    {
      "cell_type": "markdown",
      "metadata": {
        "id": "WHBf45mu25ya"
      },
      "source": [
        "## Creación del vocabulario\n",
        "\n",
        "Antes de poder trabajar con datos de texto, debemos crear nuestro vocabulario y dejarlo fijo para esta aplicación, esto nos perimitirá transformar nuestras palabras (y tokens) a números. Con el siguiente comando la librería OpenNMT hará este trabajo por nosotros en base a la configuración que le demos en el archivo `cnndm.yaml`. Veamos su contenido:\n",
        "\n",
        "En partícular son importantes los campos:\n",
        "- `src_vocab`, `tgt_vocab`: Path a la ubicación donde se guardarán nuestros vobalarios creados.\n",
        "- `share_vocab`: Si el vocabulario de src y tgt serán el mismo (notar que en traducción, por ejemplo, no se usa el mismo).\n",
        "- `src_seq_length_trunc`, `tgt_seq_length_trunc`: Máximos largo de texto tanto para el input como el output.\n",
        "- `data.cnndm.path_src`, `data.cnndm.path_tgt`: Corresponden al path de los datos de entrenamiento para el input y output respectivamente. `data.valid.<path>` contiene los datos de validación."
      ]
    },
    {
      "cell_type": "code",
      "metadata": {
        "colab": {
          "base_uri": "https://localhost:8080/"
        },
        "id": "hobMPbgRASTa",
        "outputId": "8625a9d3-0b47-44d6-c990-b400dbb5f2b8"
      },
      "source": [
        "!cat configs/cnndm.yaml"
      ],
      "execution_count": 7,
      "outputs": [
        {
          "output_type": "stream",
          "text": [
            "save_data: data/cnndm\n",
            "src_vocab: data/cnndm/run/cnndm.vocab.src\n",
            "tgt_vocab: data/cnndm/run/cnndm.vocab.tgt\n",
            "overwrite: False\n",
            "src_seq_length_trunc: 400\n",
            "tgt_seq_length_trunc: 100\n",
            "share_vocab: True\n",
            "data:\n",
            "    cnndm:\n",
            "        path_src: data/cnndm/train.txt.src\n",
            "        path_tgt: data/cnndm/train.txt.tgt.tagged\n",
            "    valid:\n",
            "        path_src: data/cnndm/val.txt.src\n",
            "        path_tgt: data/cnndm/val.txt.tgt.tagged\n"
          ],
          "name": "stdout"
        }
      ]
    },
    {
      "cell_type": "code",
      "metadata": {
        "colab": {
          "base_uri": "https://localhost:8080/"
        },
        "id": "45B5iRldyFEz",
        "outputId": "bda21503-423b-4c76-b800-a1434f3ef583"
      },
      "source": [
        "!onmt_build_vocab -config configs/cnndm.yaml -n_sample -1"
      ],
      "execution_count": 8,
      "outputs": [
        {
          "output_type": "stream",
          "text": [
            "Corpus cnndm's weight should be given. We default it to 1 for you.\n",
            "[2021-01-08 12:47:09,542 INFO] Counter vocab from -1 samples.\n",
            "[2021-01-08 12:47:09,543 INFO] n_sample=-1: Save full transformed corpus.\n",
            "[2021-01-08 12:47:09,543 INFO] cnndm's transforms: TransformPipe()\n",
            "[2021-01-08 12:47:09,543 INFO] Loading ParallelCorpus(data/cnndm/train.txt.src, data/cnndm/train.txt.tgt.tagged, align=None)...\n",
            "[2021-01-08 12:47:09,662 WARNING] Empty line exists in cnndm#598.\n",
            "[2021-01-08 12:47:09,665 WARNING] Empty line exists in cnndm#611.\n",
            "[2021-01-08 12:47:09,677 WARNING] Empty line exists in cnndm#676.\n",
            "[2021-01-08 12:47:09,680 WARNING] Empty line exists in cnndm#687.\n",
            "[2021-01-08 12:47:09,739 WARNING] Empty line exists in cnndm#986.\n",
            "[2021-01-08 12:47:09,802 WARNING] Empty line exists in cnndm#1276.\n",
            "[2021-01-08 12:47:09,816 WARNING] Empty line exists in cnndm#1339.\n",
            "[2021-01-08 12:47:09,864 WARNING] Empty line exists in cnndm#1561.\n",
            "[2021-01-08 12:47:09,882 WARNING] Empty line exists in cnndm#1640.\n",
            "[2021-01-08 12:47:09,918 WARNING] Empty line exists in cnndm#1825.\n",
            "[2021-01-08 12:47:09,935 WARNING] Empty line exists in cnndm#1903.\n",
            "[2021-01-08 12:47:09,967 WARNING] Empty line exists in cnndm#2044.\n",
            "[2021-01-08 12:47:09,998 WARNING] Empty line exists in cnndm#2198.\n",
            "[2021-01-08 12:47:10,124 WARNING] Empty line exists in cnndm#2727.\n",
            "[2021-01-08 12:47:10,169 WARNING] Empty line exists in cnndm#2941.\n",
            "[2021-01-08 12:47:10,172 WARNING] Empty line exists in cnndm#2956.\n",
            "[2021-01-08 12:47:10,192 WARNING] Empty line exists in cnndm#3056.\n",
            "[2021-01-08 12:47:10,211 WARNING] Empty line exists in cnndm#3152.\n",
            "[2021-01-08 12:47:10,398 WARNING] Empty line exists in cnndm#3978.\n",
            "[2021-01-08 12:47:10,445 WARNING] Empty line exists in cnndm#4192.\n",
            "[2021-01-08 12:47:10,479 WARNING] Empty line exists in cnndm#4345.\n",
            "[2021-01-08 12:47:10,482 WARNING] Empty line exists in cnndm#4358.\n",
            "[2021-01-08 12:47:10,494 WARNING] Empty line exists in cnndm#4409.\n",
            "[2021-01-08 12:47:10,594 WARNING] Empty line exists in cnndm#4866.\n",
            "[2021-01-08 12:47:10,609 WARNING] Empty line exists in cnndm#4930.\n",
            "[2021-01-08 12:47:10,651 WARNING] Empty line exists in cnndm#5110.\n",
            "[2021-01-08 12:47:10,679 WARNING] Empty line exists in cnndm#5228.\n",
            "[2021-01-08 12:47:10,728 WARNING] Empty line exists in cnndm#5402.\n",
            "[2021-01-08 12:47:10,957 WARNING] Empty line exists in cnndm#6429.\n",
            "[2021-01-08 12:47:10,985 WARNING] Empty line exists in cnndm#6556.\n",
            "[2021-01-08 12:47:11,022 WARNING] Empty line exists in cnndm#6722.\n",
            "[2021-01-08 12:47:11,082 WARNING] Empty line exists in cnndm#6962.\n",
            "[2021-01-08 12:47:11,145 WARNING] Empty line exists in cnndm#7235.\n",
            "[2021-01-08 12:47:11,487 WARNING] Empty line exists in cnndm#8753.\n",
            "[2021-01-08 12:47:11,492 WARNING] Empty line exists in cnndm#8770.\n",
            "[2021-01-08 12:47:11,616 WARNING] Empty line exists in cnndm#9347.\n",
            "[2021-01-08 12:47:12,433 WARNING] Empty line exists in cnndm#13161.\n",
            "[2021-01-08 12:47:12,511 WARNING] Empty line exists in cnndm#13562.\n",
            "[2021-01-08 12:47:12,511 WARNING] Empty line exists in cnndm#13563.\n",
            "[2021-01-08 12:47:12,511 WARNING] Empty line exists in cnndm#13564.\n",
            "[2021-01-08 12:47:12,511 WARNING] Empty line exists in cnndm#13565.\n",
            "[2021-01-08 12:47:12,511 WARNING] Empty line exists in cnndm#13566.\n",
            "[2021-01-08 12:47:12,511 WARNING] Empty line exists in cnndm#13567.\n",
            "[2021-01-08 12:47:12,511 WARNING] Empty line exists in cnndm#13568.\n",
            "[2021-01-08 12:47:12,511 WARNING] Empty line exists in cnndm#13569.\n",
            "[2021-01-08 12:47:12,511 WARNING] Empty line exists in cnndm#13570.\n",
            "[2021-01-08 12:47:12,511 WARNING] Empty line exists in cnndm#13571.\n",
            "[2021-01-08 12:47:12,512 WARNING] Empty line exists in cnndm#13572.\n",
            "[2021-01-08 12:47:12,512 WARNING] Empty line exists in cnndm#13573.\n",
            "[2021-01-08 12:47:12,512 WARNING] Empty line exists in cnndm#13574.\n",
            "[2021-01-08 12:47:12,584 WARNING] Empty line exists in cnndm#13936.\n",
            "[2021-01-08 12:47:12,584 WARNING] Empty line exists in cnndm#13937.\n",
            "[2021-01-08 12:47:12,584 WARNING] Empty line exists in cnndm#13938.\n",
            "[2021-01-08 12:47:12,596 WARNING] Empty line exists in cnndm#13998.\n",
            "[2021-01-08 12:47:12,662 WARNING] Empty line exists in cnndm#14332.\n",
            "[2021-01-08 12:47:12,852 WARNING] Empty line exists in cnndm#15313.\n",
            "[2021-01-08 12:47:12,852 WARNING] Empty line exists in cnndm#15314.\n",
            "[2021-01-08 12:47:12,873 WARNING] Empty line exists in cnndm#15419.\n",
            "[2021-01-08 12:47:12,874 WARNING] Empty line exists in cnndm#15420.\n",
            "[2021-01-08 12:47:12,875 WARNING] Empty line exists in cnndm#15428.\n",
            "[2021-01-08 12:47:12,891 WARNING] Empty line exists in cnndm#15501.\n",
            "[2021-01-08 12:47:12,896 WARNING] Empty line exists in cnndm#15526.\n",
            "[2021-01-08 12:47:12,977 WARNING] Empty line exists in cnndm#15898.\n",
            "[2021-01-08 12:47:12,978 WARNING] Empty line exists in cnndm#15903.\n",
            "[2021-01-08 12:47:13,026 WARNING] Empty line exists in cnndm#16108.\n",
            "[2021-01-08 12:47:13,027 WARNING] Empty line exists in cnndm#16111.\n",
            "[2021-01-08 12:47:13,027 WARNING] Empty line exists in cnndm#16113.\n",
            "[2021-01-08 12:47:13,027 WARNING] Empty line exists in cnndm#16114.\n",
            "[2021-01-08 12:47:13,027 WARNING] Empty line exists in cnndm#16115.\n",
            "[2021-01-08 12:47:13,734 WARNING] Empty line exists in cnndm#19413.\n",
            "[2021-01-08 12:47:13,867 WARNING] Empty line exists in cnndm#20028.\n",
            "[2021-01-08 12:47:13,867 WARNING] Empty line exists in cnndm#20029.\n",
            "[2021-01-08 12:47:13,889 WARNING] Empty line exists in cnndm#20104.\n",
            "[2021-01-08 12:47:14,250 WARNING] Empty line exists in cnndm#21622.\n",
            "[2021-01-08 12:47:14,324 WARNING] Empty line exists in cnndm#21958.\n",
            "[2021-01-08 12:47:14,377 WARNING] Empty line exists in cnndm#22200.\n",
            "[2021-01-08 12:47:14,653 WARNING] Empty line exists in cnndm#23376.\n",
            "[2021-01-08 12:47:14,793 WARNING] Empty line exists in cnndm#24014.\n",
            "[2021-01-08 12:47:14,855 WARNING] Empty line exists in cnndm#24314.\n",
            "[2021-01-08 12:47:14,863 WARNING] Empty line exists in cnndm#24350.\n",
            "[2021-01-08 12:47:14,866 WARNING] Empty line exists in cnndm#24363.\n",
            "[2021-01-08 12:47:14,873 WARNING] Empty line exists in cnndm#24395.\n",
            "[2021-01-08 12:47:15,292 WARNING] Empty line exists in cnndm#26300.\n",
            "[2021-01-08 12:47:15,478 WARNING] Empty line exists in cnndm#27149.\n",
            "[2021-01-08 12:47:16,037 WARNING] Empty line exists in cnndm#29611.\n",
            "[2021-01-08 12:47:16,369 WARNING] Empty line exists in cnndm#30677.\n",
            "[2021-01-08 12:47:16,395 WARNING] Empty line exists in cnndm#30773.\n",
            "[2021-01-08 12:47:16,411 WARNING] Empty line exists in cnndm#30838.\n",
            "[2021-01-08 12:47:16,539 WARNING] Empty line exists in cnndm#31400.\n",
            "[2021-01-08 12:47:16,838 WARNING] Empty line exists in cnndm#32753.\n",
            "[2021-01-08 12:47:16,993 WARNING] Empty line exists in cnndm#33415.\n",
            "[2021-01-08 12:47:17,288 WARNING] Empty line exists in cnndm#34726.\n",
            "[2021-01-08 12:47:18,680 WARNING] Empty line exists in cnndm#40501.\n",
            "[2021-01-08 12:47:18,916 WARNING] Empty line exists in cnndm#41440.\n",
            "[2021-01-08 12:47:19,464 WARNING] Empty line exists in cnndm#43685.\n",
            "[2021-01-08 12:47:19,775 WARNING] Empty line exists in cnndm#45040.\n",
            "[2021-01-08 12:47:19,855 WARNING] Empty line exists in cnndm#45369.\n",
            "[2021-01-08 12:47:20,937 WARNING] Empty line exists in cnndm#49937.\n",
            "[2021-01-08 12:47:21,883 WARNING] Empty line exists in cnndm#53760.\n",
            "[2021-01-08 12:47:22,107 WARNING] Empty line exists in cnndm#54642.\n",
            "[2021-01-08 12:47:22,425 WARNING] Empty line exists in cnndm#55890.\n",
            "[2021-01-08 12:47:22,587 WARNING] Empty line exists in cnndm#56591.\n",
            "[2021-01-08 12:47:22,605 WARNING] Empty line exists in cnndm#56676.\n",
            "[2021-01-08 12:47:23,043 WARNING] Empty line exists in cnndm#58341.\n",
            "[2021-01-08 12:47:23,075 WARNING] Empty line exists in cnndm#58447.\n",
            "[2021-01-08 12:47:24,903 WARNING] Empty line exists in cnndm#65483.\n",
            "[2021-01-08 12:47:25,357 WARNING] Empty line exists in cnndm#67114.\n",
            "[2021-01-08 12:47:25,374 WARNING] Empty line exists in cnndm#67189.\n",
            "[2021-01-08 12:47:26,043 WARNING] Empty line exists in cnndm#69903.\n",
            "[2021-01-08 12:47:26,806 WARNING] Empty line exists in cnndm#72920.\n",
            "[2021-01-08 12:47:26,813 WARNING] Empty line exists in cnndm#72942.\n",
            "[2021-01-08 12:47:29,022 WARNING] Empty line exists in cnndm#81686.\n",
            "[2021-01-08 12:47:29,548 WARNING] Empty line exists in cnndm#83574.\n",
            "[2021-01-08 12:47:29,639 WARNING] Empty line exists in cnndm#83924.\n",
            "[2021-01-08 12:48:22,465 INFO] Counters src:722715\n",
            "[2021-01-08 12:48:22,465 INFO] Counters tgt:197771\n",
            "[2021-01-08 12:48:22,689 INFO] Counters after share:732402\n"
          ],
          "name": "stdout"
        }
      ]
    },
    {
      "cell_type": "markdown",
      "metadata": {
        "id": "k3Br9g6I1n0b"
      },
      "source": [
        "Finalmente, podemos observar el formato del vocabulario resultante y las entradas más comunes. Pueden observar que a la derecha del token en el vocabulario, aparece la frecuencia del término en el corpus (input y output) de dicho token."
      ]
    },
    {
      "cell_type": "code",
      "metadata": {
        "colab": {
          "base_uri": "https://localhost:8080/"
        },
        "id": "_r7xjxEJ1oJi",
        "outputId": "08853cc9-06f1-4cd8-c95d-f06724138d06"
      },
      "source": [
        "!head data/cnndm/run/cnndm.vocab.src"
      ],
      "execution_count": 9,
      "outputs": [
        {
          "output_type": "stream",
          "text": [
            ".\t12171859\n",
            "the\t11896137\n",
            ",\t9608868\n",
            "to\t5751070\n",
            "a\t5100465\n",
            "and\t4892178\n",
            "of\t4867755\n",
            "in\t4431027\n",
            "'s\t2202677\n",
            "was\t2085975\n"
          ],
          "name": "stdout"
        }
      ]
    },
    {
      "cell_type": "markdown",
      "metadata": {
        "id": "TJGWJOFz3Pnh"
      },
      "source": [
        "## Entrenamiento\n",
        "\n",
        "Al igual que en la parte 1 de este laboratorio, no entrenaremos un modelo sino que utilizaremos uno previamente entrenado. De todas formas en caso de que deseen entrenar su propi modelo pueden hacerlo tal y como se muestra a continuación.\n",
        "\n",
        "También, como en la creación del vocabulario, entrenaremos el modelo utilizando un comando de OpenNMT, en este caso `onmt_train`. La configuración del entrenamiento se hace en base a archivos `.yaml` que se entrega al comando en la opción `-config`. \n",
        "\n",
        "En nuestro caso como tenemos tres modelos distintos existe un archivo por cada tipo de modelo:\n",
        "1. Modelo base: `configs/config-cnndm-base.yaml`\n",
        "2. Modelo que utiliza pointer networks: `configs/config-cnndm-pointer.yaml`\n",
        "3. Modelo que utiliza pointer networks y coverage: `configs/config-cnndm-coverage.yaml`\n",
        "\n",
        "A continuación pueden ver como ejemplo el archivo de configuración del modelo base:"
      ]
    },
    {
      "cell_type": "code",
      "metadata": {
        "colab": {
          "base_uri": "https://localhost:8080/"
        },
        "id": "x6ht2qgKa_A-",
        "outputId": "1b3caeaf-91be-4952-dc28-21eba99bb7a5"
      },
      "source": [
        "!cat configs/config-cnndm-pointer.yaml"
      ],
      "execution_count": 10,
      "outputs": [
        {
          "output_type": "stream",
          "text": [
            "# maximum vocab size\n",
            "src_vocab_size: 50000\n",
            "tgt_vocab_size: 50000\n",
            "\n",
            "# Corpus opts:\n",
            "save_data: data/cnndm\n",
            "src_vocab: data/cnndm/run/cnndm.vocab.src\n",
            "tgt_vocab: data/cnndm/run/cnndm.vocab.src\n",
            "overwrite: False\n",
            "src_seq_length_trunc: 400\n",
            "tgt_seq_length_trunc: 100\n",
            "share_vocab: True\n",
            "data:\n",
            "    cnndm:\n",
            "        path_src: data/cnndm/train.txt.src\n",
            "        path_tgt: data/cnndm/train.txt.tgt.tagged\n",
            "    valid:\n",
            "        path_src: data/cnndm/val.txt.src\n",
            "        path_tgt: data/cnndm/val.txt.tgt.tagged\n",
            "\n",
            "save_model: checkpoints/base/checkpoint\n",
            "global_attention: mlp\n",
            "word_vec_size: 128\n",
            "rnn_size: 512\n",
            "layers: 2\n",
            "encoder_type: brnn\n",
            "train_steps: 200000\n",
            "max_grad_norm: 2\n",
            "dropout: 0\n",
            "batch_size: 16\n",
            "valid_batch_size: 16\n",
            "optim: adagrad\n",
            "learning_rate: 0.15\n",
            "adagrad_accumulator_init: 0.1\n",
            "copy_attn: true\n",
            "reuse_copy_attn: true\n",
            "coverage_attn: false\n",
            "lambda_coverage: 0.0\n",
            "copy_loss_by_seqlength: true\n",
            "bridge: true\n",
            "seed: 777\n",
            "world_size: 1\n",
            "gpu_ranks: [0]"
          ],
          "name": "stdout"
        }
      ]
    },
    {
      "cell_type": "markdown",
      "metadata": {
        "id": "k-m8zlfQ64Xh"
      },
      "source": [
        "El archivo de configuración sigue los mismo principios que el anterior y las llaves que se repiten tienen el mismo significado. Para el entrnamiento destacamos:\n",
        "\n",
        "- `src_vocab_size`: El tamaño del vocabulario a utilizar.\n",
        "- `save_model`: Lugar donde se guardaran los checkpoints durante el entrenamiento.\n",
        "- `copy_attn`: `True` para utilizar pointer networks, `False` en caso contrario.\n",
        "- `coverage_attn`: `True` para utilizar el módulo de coverages, `False` en caso contrario.\n",
        "- `lambda_coverage`: En caso de utilizar coverage, este parámetro define cuanto se ponderará en la pérdida final."
      ]
    },
    {
      "cell_type": "markdown",
      "metadata": {
        "id": "Vy6-rNixa8qc"
      },
      "source": [
        "En caso de querer entrenar un modelo propio, solo deben descomentar las siguientes celdas de esta sección. Si desean cambiar el tipo de modelo utilizado, distinto del base, deben setear el path al archivo de configuración correcto en la variable `CONFIG` para poder realizar el entrenamiento."
      ]
    },
    {
      "cell_type": "code",
      "metadata": {
        "id": "kiFWqEEo3QZb"
      },
      "source": [
        "# %%shell\n",
        "# CONFIG=configs/config-cnndm-base.yaml\n",
        "# onmt_train -config $CONFIG\n",
        "# ls checkpoints/base/"
      ],
      "execution_count": 11,
      "outputs": []
    },
    {
      "cell_type": "markdown",
      "metadata": {
        "id": "pZL2yxsQ4qu9"
      },
      "source": [
        "**Importante:** En caso de querer usar el modelo entrenado para los siguientes pasos de la actividad, debes setear correctamente tanto el archivo de configuración usado como el checkpoint deseado cuando sea necesario a continuación.\n",
        "\n",
        "El archivo de checkpoint debe ser el mismo que el seteado en la variable de entorno `$CONFIG`. \n",
        "\n",
        "Y el checkpoint estará en la carpeta `checkpoints/base/`, ahí el valor que aparece en el nombre corresponde a la iteración en que fue creado, se recomienda usar el último."
      ]
    },
    {
      "cell_type": "markdown",
      "metadata": {
        "id": "SCJz6aHv3GY8"
      },
      "source": [
        "## Creación de Resumenes\n",
        "En esta sección veremos como funcionan los tres modelos pre-entrenados de forma cualitativa y cuantitativamente.\n",
        "\n",
        "Dado que queremos tener más flexibilidad en este proceso, utilizaremos OpenNMT como librería, importando y utilizando sus distintos módulos.\n",
        "\n",
        "### Preámbulo\n",
        "\n",
        "Primero debemos importar los paquetes y módulos a utilizar. También definiremos funciones auxiliares que nos ayudaran durante la ejecución de esta parte del laboratorio."
      ]
    },
    {
      "cell_type": "code",
      "metadata": {
        "id": "tTgpl2yP_BO3"
      },
      "source": [
        "from collections import defaultdict, Counter\n",
        "import random\n",
        "\n",
        "import torch\n",
        "from torch import nn\n",
        "from tqdm import tqdm_notebook as tqdm\n",
        "from rouge_score.scoring import BootstrapAggregator\n",
        "\n",
        "import onmt\n",
        "from onmt.inputters.inputter import _load_vocab, _build_fields_vocab, get_fields\n",
        "from onmt.model_builder import build_model\n",
        "from onmt.models.model_saver import load_checkpoint\n",
        "from onmt.translate import GNMTGlobalScorer, Translator, TranslationBuilder\n",
        "from onmt.opts import dynamic_prepare_opts, translate_opts\n",
        "from onmt.utils.parse import ArgumentParser"
      ],
      "execution_count": 12,
      "outputs": []
    },
    {
      "cell_type": "code",
      "metadata": {
        "id": "9OPXf239APdZ"
      },
      "source": [
        "# Obtención del checkpoint en base a su path\n",
        "def get_checkpoint_data(checkpoint_path):\n",
        "    checkpoint = load_checkpoint(checkpoint_path)\n",
        "    fields = checkpoint['vocab']\n",
        "    opts = checkpoint['opt']\n",
        "    return checkpoint, fields, opts\n",
        "\n",
        "# Actualización de la configuración por defecto en base a las del checkpoint\n",
        "def update_opts(opts, config_path):\n",
        "    parser = ArgumentParser(description='translate.py')\n",
        "    dynamic_prepare_opts(parser, build_vocab_only=False)\n",
        "    translate_opts(parser)\n",
        "\n",
        "    base_args = ['-config', config_path,\n",
        "                 '-out_file', './out.txt'\n",
        "                 '-n_sample', '-1',\n",
        "                 '-gpu', '0',\n",
        "                 '-batch_size', '20',\n",
        "                 '-beam_size', '10',\n",
        "                 '-model', 'checkpoints/ptr_checkpoint.pt',\n",
        "                 '-src', 'data/cnndm/test.txt.src',\n",
        "                 '-output', 'testout/cnndm.out',\n",
        "                 '-min_length', '35',\n",
        "                 '-verbose', \n",
        "                 '-stepwise_penalty', \n",
        "                 '-coverage_penalty', 'summary',\n",
        "                 '-beta', '5',\n",
        "                 '-length_penalty', 'wu',\n",
        "                 '-alpha', '0.9',\n",
        "                 '-verbose', \n",
        "                 '-block_ngram_repeat', '3',\n",
        "                 '-ignore_when_blocking', '\".\"', '\"</t>\" \"<t>\"']\n",
        "\n",
        "    opts, unknown = parser.parse_known_args(base_args, namespace=opts)\n",
        "\n",
        "    model_opt = ArgumentParser.ckpt_model_opts(opts)\n",
        "    ArgumentParser.update_model_opts(model_opt)\n",
        "    ArgumentParser.validate_model_opts(model_opt)\n",
        "\n",
        "    opts.out_file = './out.txt'\n",
        "    return opts, model_opt"
      ],
      "execution_count": 13,
      "outputs": []
    },
    {
      "cell_type": "markdown",
      "metadata": {
        "id": "aRs2LfHky-4u"
      },
      "source": [
        "Además, crearemos varias funciones que nos ayudarán el entrenaminto de modelos reiteradas veces en este práctico. Les recomendamos que traten de entender cada una de estas funciones pues podrán reforzar conocimientos que ya han aprendido en el diplomado hasta ahora, pero para efectos de esta actividad no es necesario hacerlo."
      ]
    },
    {
      "cell_type": "code",
      "metadata": {
        "id": "8Jf7oDDxJs6m"
      },
      "source": [
        "import re\n",
        "import textwrap\n",
        "\n",
        "from rouge_score import rouge_scorer\n",
        "\n",
        "# Utilidades\n",
        "\n",
        "def normalize_txt(txt):\n",
        "    norm_str = txt\n",
        "    norm_str = norm_str.replace('</t> <t>', '\\n')\n",
        "    norm_str = re.sub('</?t>', '', norm_str)\n",
        "    norm_str = re.sub(' +', ' ', norm_str)\n",
        "    norm_str = re.sub('\\n ', '\\n', norm_str)\n",
        "    norm_str = norm_str.strip()\n",
        "    return norm_str\n",
        "\n",
        "def translation2texts(translation):\n",
        "    src = normalize_txt(' '.join(translation.src_raw))\n",
        "    tgt = normalize_txt(' '.join(translation.gold_sent))\n",
        "    preds = [normalize_txt(' '.join(sents)) for sents in translation.pred_sents]\n",
        "    return src, tgt, preds\n",
        "\n",
        "\n",
        "# Funciones auxiliares para mostrar los resultados\n",
        "\n",
        "def bold(text):\n",
        "  return '\\033[1m' + text + '\\033[0m'\n",
        "\n",
        "def display_translation(translation):\n",
        "    src, tgt, preds = translation2texts(translation)\n",
        "\n",
        "    print(bold('Source Text:'))\n",
        "    print(textwrap.fill(src, width=70), end='\\n\\n')\n",
        "\n",
        "    print(bold('Gold Standard Summarization:'))\n",
        "    print(textwrap.fill(tgt, width=70), end='\\n\\n')\n",
        "\n",
        "    print(bold('Predicted Summarization:'))\n",
        "    for sent in preds:\n",
        "        print(textwrap.fill(sent, width=70), end='\\n\\n')\n",
        "\n",
        "# Función auxiliares para calcular el ROUGE en base a una `Translation`\n",
        "def translation_score(translation):\n",
        "    scorer = rouge_scorer.RougeScorer(['rouge1', 'rouge2', 'rougeLsum'], use_stemmer=False)\n",
        "    src, tgt, preds = translation2texts(translation)\n",
        "    scores = scorer.score(tgt, preds[0])\n",
        "    return scores"
      ],
      "execution_count": 14,
      "outputs": []
    },
    {
      "cell_type": "markdown",
      "metadata": {
        "id": "1m0LdkDt_i63"
      },
      "source": [
        "Las siguientes dos funciones son interesantes pues se utilizan para crear el `Dataset` (`build_dataset`) y el `Translator` (`build_translator`).\n",
        "\n",
        "El `Dataset` al igual que los que ya han visto al utilizar PyTorch, nos ayudará a acceder los datos y dejarlos en el formato correcto para el modelo.\n",
        "\n",
        "Por otro lado, el `Translator` nos proveerá funcionalidades necesarias para poder obtener \"traducciones\" (`Translations`), en nuestro caso los resumenes, a partir de un batch de datos. En particular nos facilitará mucho el trabajo de hacer el decoding de lo predicho por el modelo y formar así el texto resultante. Nos ofrece dos funciones para este propósito, `Translator.translate` y `Translator.translate_batch` que reciben un `src` que será traducido, o resumido en nuestro caso. \n",
        "\n",
        "El resultado de estos métodos lo podemos pasar por un `TranslationBuilder` el cual transformará de indices de tokens a texto y nos retornará una `Translation`. Esta última es una estructura de datos que agrupa información relevante a una traducción.\n",
        "Algunos atributos importantes son:\n",
        "- `src`: Input en forma de ids de tokens.\n",
        "- `src_raw`: Input en forma de texto plano.\n",
        "- `pred_sents`: Output en forma de ids de tokens.\n",
        "- `pred_scores`: Output en forma de texto plano.\n",
        "- `attns`: Attenciones del modelo\n",
        "- `gold_sent`: El output de referencia del resumen (*ground truth*).\n",
        "\n",
        "\n",
        "\n",
        "\n",
        "Notar que el `Translator` no corresponde a un modelo de PyTorch. Como no usaremos esta clase para entrenar no es necesario que lo sea, así que simplemente utiliza un modelo que le debemos entregar con este proposito. Esto es bueno pues de desacopla del tipo de modelo utilizado sin afectar su forma de funcionar."
      ]
    },
    {
      "cell_type": "code",
      "metadata": {
        "id": "FVKc10Eaml6b"
      },
      "source": [
        "def build_dataset(src_path, tgt_path):\n",
        "    src_data = {\"reader\": onmt.inputters.str2reader[\"text\"].from_opt(opts), \"data\": src_path}\n",
        "    tgt_data = {\"reader\": onmt.inputters.str2reader[\"text\"].from_opt(opts), \"data\": tgt_path}\n",
        "    _readers, _data = onmt.inputters.Dataset.config(\n",
        "        [('src', src_data), ('tgt', tgt_data)])\n",
        "\n",
        "    dataset = onmt.inputters.Dataset(\n",
        "        fields, readers=_readers, data=_data,\n",
        "        sort_key=onmt.inputters.str2sortkey[\"text\"])\n",
        "\n",
        "    return dataset\n",
        "\n",
        "def build_translator(opts, model, dataset, fields, tgt_path):\n",
        "    scorer = onmt.translate.GNMTGlobalScorer.from_opt(opts)\n",
        "\n",
        "    translator = Translator.from_opt(\n",
        "        model,\n",
        "        fields,\n",
        "        opts,\n",
        "        model_opt,\n",
        "        global_scorer=scorer,\n",
        "        out_file=opts.out_file,\n",
        "        report_align=False,\n",
        "        report_score=True\n",
        "    )\n",
        "\n",
        "    builder = onmt.translate.TranslationBuilder(\n",
        "        dataset, fields, opts.n_best, opts.replace_unk, tgt_path,\n",
        "        opts.phrase_table\n",
        "    )\n",
        "\n",
        "    return translator, scorer, builder"
      ],
      "execution_count": 15,
      "outputs": []
    },
    {
      "cell_type": "code",
      "metadata": {
        "id": "eGrQF1ZaLdqc"
      },
      "source": [
        "device = 'cuda' if torch.cuda.is_available() else 'cpu'"
      ],
      "execution_count": 16,
      "outputs": []
    },
    {
      "cell_type": "markdown",
      "metadata": {
        "id": "zYaRvQ-lzTN6"
      },
      "source": [
        "### Modelo Base\n",
        "\n",
        "Habiendo explorados los datos, prosigamos a explorar un modelo base. Este modelo nos servirá para poder tener un punto de comparación, y así tener una mejor idea de cuanto ayuda usar las técnicas que vimos en clases.\n",
        "\n",
        "Este modelo consiste en una arquitectura seq2seq con atención basado en LSTMs bidireccionales, igual al modelo base que vimos en clase.\n",
        "\n",
        "#### Configuración de la ejecución\n",
        "\n",
        "Para poder configurar correctamente nuestra ejecución utlizaremos los argumentos previamente definidos, para que estos estén ad-hoc a como está dispuesto nuestro entorno de colab. También consideraremos los argumentos que se usaron en el entrenamiento para mantenerlos igual en la creación del modelo.\n",
        "\n",
        "Estos últimos vienen en el checkpoint que tenemos del entrenamiento, así que lo leemos y actualizamos nuestros argumentos."
      ]
    },
    {
      "cell_type": "code",
      "metadata": {
        "id": "G7MFxO5iLdmY"
      },
      "source": [
        "checkpoint_path = 'checkpoints/base_checkpoint.pt'\n",
        "config_path = 'configs/config-cnndm-base.yaml'\n",
        "\n",
        "checkpoint, fields, opts = get_checkpoint_data(checkpoint_path)\n",
        "opts, model_opt = update_opts(opts, config_path)"
      ],
      "execution_count": null,
      "outputs": []
    },
    {
      "cell_type": "markdown",
      "metadata": {
        "id": "Ly-U1KgVJhci"
      },
      "source": [
        "Debemos crear nuestro `Dataset` y también una especie de `DataLoader`, que en este caso es un `torchtext.data.Iterator` y nos ayudará a recorrer nuestros datos."
      ]
    },
    {
      "cell_type": "code",
      "metadata": {
        "id": "oCnk7wEx_BLk"
      },
      "source": [
        "src_val = \"data/cnndm/val.txt.src\"\n",
        "tgt_val = \"data/cnndm/val.txt.tgt.tagged\"\n",
        "src_test = \"data/cnndm/test.txt.src\"\n",
        "tgt_test = \"data/cnndm/test.txt.tgt.tagged\"\n",
        "\n",
        "src = src_test\n",
        "tgt = tgt_test\n",
        "\n",
        "dataset = build_dataset(src, tgt)\n",
        "data_iter = onmt.inputters.OrderedIterator(\n",
        "                dataset=dataset,\n",
        "                device=device,\n",
        "                batch_size=opts.batch_size,\n",
        "                train=False,\n",
        "                sort=False,\n",
        "                sort_within_batch=True,\n",
        "                shuffle=False,\n",
        "            )"
      ],
      "execution_count": null,
      "outputs": []
    },
    {
      "cell_type": "markdown",
      "metadata": {
        "id": "-j00pVHBJEny"
      },
      "source": [
        "Debemos crear nuestro modelo en base la configuración que tenemos para nuestro modelo base."
      ]
    },
    {
      "cell_type": "code",
      "metadata": {
        "id": "bOdRquHwPCYQ"
      },
      "source": [
        "model = build_model(model_opt, opts, fields, checkpoint)\n",
        "model.to(device)\n",
        "\n",
        "translator, scorer, builder = build_translator(opts, model, dataset, fields, tgt)"
      ],
      "execution_count": null,
      "outputs": []
    },
    {
      "cell_type": "markdown",
      "metadata": {
        "id": "E8MyjKOkU0oR"
      },
      "source": [
        "#### Evaluación cualitativa\n",
        "\n",
        "Veamos algunos de los ejemplos abstractivos que produce nuestro modelo. Podemos aprovechar funciones que nos da `OpenNMT` para realizar esta inspección."
      ]
    },
    {
      "cell_type": "code",
      "metadata": {
        "colab": {
          "base_uri": "https://localhost:8080/"
        },
        "id": "YZbtVZLK_BD8",
        "outputId": "7aefc2e3-0de5-4038-9093-6e28ab59c1dc"
      },
      "source": [
        "for batch in data_iter:\n",
        "    trans_batch = translator.translate_batch(\n",
        "        batch=batch, src_vocabs=dataset.src_vocabs,\n",
        "        attn_debug=False)\n",
        "    translations = builder.from_batch(trans_batch)\n",
        "    for trans in translations:\n",
        "        print(trans.log(0))\n",
        "    break"
      ],
      "execution_count": null,
      "outputs": [
        {
          "output_type": "stream",
          "text": [
            "\n",
            "SENT 0: ['marseille', ',', 'france', '-lrb-', 'cnn', '-rrb-', 'the', 'french', 'prosecutor', 'leading', 'an', 'investigation', 'into', 'the', 'crash', 'of', 'germanwings', 'flight', '9525', 'insisted', 'wednesday', 'that', 'he', 'was', 'not', 'aware', 'of', 'any', 'video', 'footage', 'from', 'on', 'board', 'the', 'plane', '.', 'marseille', 'prosecutor', 'brice', 'robin', 'told', 'cnn', 'that', '``', 'so', 'far', 'no', 'videos', 'were', 'used', 'in', 'the', 'crash', 'investigation', '.', \"''\", 'he', 'added', ',', '``', 'a', 'person', 'who', 'has', 'such', 'a', 'video', 'needs', 'to', 'immediately', 'give', 'it', 'to', 'the', 'investigators', '.', \"''\", 'robin', \"'s\", 'comments', 'follow', 'claims', 'by', 'two', 'magazines', ',', 'german', 'daily', 'bild', 'and', 'french', 'paris', 'match', ',', 'of', 'a', 'cell', 'phone', 'video', 'showing', 'the', 'harrowing', 'final', 'seconds', 'from', 'on', 'board', 'germanwings', 'flight', '9525', 'as', 'it', 'crashed', 'into', 'the', 'french', 'alps', '.', 'all', '150', 'on', 'board', 'were', 'killed', '.', 'paris', 'match', 'and', 'bild', 'reported', 'that', 'the', 'video', 'was', 'recovered', 'from', 'a', 'phone', 'at', 'the', 'wreckage', 'site', '.', 'the', 'two', 'publications', 'described', 'the', 'supposed', 'video', ',', 'but', 'did', 'not', 'post', 'it', 'on', 'their', 'websites', '.', 'the', 'publications', 'said', 'that', 'they', 'watched', 'the', 'video', ',', 'which', 'was', 'found', 'by', 'a', 'source', 'close', 'to', 'the', 'investigation', '.', '``', 'one', 'can', 'hear', 'cries', 'of', '`', 'my', 'god', \"'\", 'in', 'several', 'languages', ',', \"''\", 'paris', 'match', 'reported', '.', '``', 'metallic', 'banging', 'can', 'also', 'be', 'heard', 'more', 'than', 'three', 'times', ',', 'perhaps', 'of', 'the', 'pilot', 'trying', 'to', 'open', 'the', 'cockpit', 'door', 'with', 'a', 'heavy', 'object', '.', 'towards', 'the', 'end', ',', 'after', 'a', 'heavy', 'shake', ',', 'stronger', 'than', 'the', 'others', ',', 'the', 'screaming', 'intensifies', '.', 'then', 'nothing', '.', \"''\", '``', 'it', 'is', 'a', 'very', 'disturbing', 'scene', ',', \"''\", 'said', 'julian', 'reichelt', ',', 'editor-in-chief', 'of', 'bild', 'online', '.', 'an', 'official', 'with', 'france', \"'s\", 'accident', 'investigation', 'agency', ',', 'the', 'bea', ',', 'said', 'the', 'agency', 'is', 'not', 'aware', 'of', 'any', 'such', 'video', '.', 'lt.', 'col.', 'jean-marc', 'menichini', ',', 'a', 'french', 'gendarmerie', 'spokesman', 'in', 'charge', 'of', 'communications', 'on', 'rescue', 'efforts', 'around', 'the', 'germanwings', 'crash', 'site', ',', 'told', 'cnn', 'that', 'the', 'reports', 'were', '``', 'completely', 'wrong', \"''\", 'and', '``', 'unwarranted', '.', \"''\", 'cell', 'phones', 'have', 'been', 'collected', 'at', 'the', 'site', ',', 'he', 'said', ',', 'but', 'that', 'they', '``', 'had', \"n't\", 'been', 'exploited', 'yet', '.', \"''\", 'menichini', 'said', 'he', 'believed', 'the', 'cell', 'phones', 'would', 'need', 'to', 'be', 'sent', 'to', 'the', 'criminal', 'research', 'institute', 'in', 'rosny', 'sous-bois', ',', 'near', 'paris', ',', 'in', 'order', 'to', 'be', 'analyzed', 'by', 'specialized', 'technicians', 'working', 'hand-in-hand', 'with', 'investigators', '.', 'but', 'none', 'of', 'the', 'cell', 'phones', 'found', 'so', 'far', 'have', 'been', 'sent', 'to', 'the']\n",
            "PRED 0: <t> <unk> flight <unk> says he was not aware of any video footage . </t> <t> he says the video was recovered from a phone at the wreckage site . it was found by a source close to the investigation . </t>\n",
            "PRED SCORE: -6.4880\n",
            "GOLD 0: <t> marseille prosecutor says `` so far no videos were used in the crash investigation '' despite media reports . </t> <t> journalists at bild and paris match are `` very confident '' the video clip is real , an editor says . </t> <t> andreas <unk> had informed his lufthansa training school of an episode of severe depression , airline says . </t>\n",
            "GOLD SCORE: -259.1561\n",
            "\n",
            "\n",
            "SENT 0: ['-lrb-', 'cnn', '-rrb-', 'the', 'palestinian', 'authority', 'officially', 'became', 'the', '123rd', 'member', 'of', 'the', 'international', 'criminal', 'court', 'on', 'wednesday', ',', 'a', 'step', 'that', 'gives', 'the', 'court', 'jurisdiction', 'over', 'alleged', 'crimes', 'in', 'palestinian', 'territories', '.', 'the', 'formal', 'accession', 'was', 'marked', 'with', 'a', 'ceremony', 'at', 'the', 'hague', ',', 'in', 'the', 'netherlands', ',', 'where', 'the', 'court', 'is', 'based', '.', 'the', 'palestinians', 'signed', 'the', 'icc', \"'s\", 'founding', 'rome', 'statute', 'in', 'january', ',', 'when', 'they', 'also', 'accepted', 'its', 'jurisdiction', 'over', 'alleged', 'crimes', 'committed', '``', 'in', 'the', 'occupied', 'palestinian', 'territory', ',', 'including', 'east', 'jerusalem', ',', 'since', 'june', '13', ',', '2014', '.', \"''\", 'later', 'that', 'month', ',', 'the', 'icc', 'opened', 'a', 'preliminary', 'examination', 'into', 'the', 'situation', 'in', 'palestinian', 'territories', ',', 'paving', 'the', 'way', 'for', 'possible', 'war', 'crimes', 'investigations', 'against', 'israelis', '.', 'as', 'members', 'of', 'the', 'court', ',', 'palestinians', 'may', 'be', 'subject', 'to', 'counter-charges', 'as', 'well', '.', 'israel', 'and', 'the', 'united', 'states', ',', 'neither', 'of', 'which', 'is', 'an', 'icc', 'member', ',', 'opposed', 'the', 'palestinians', \"'\", 'efforts', 'to', 'join', 'the', 'body', '.', 'but', 'palestinian', 'foreign', 'minister', 'riad', 'al-malki', ',', 'speaking', 'at', 'wednesday', \"'s\", 'ceremony', ',', 'said', 'it', 'was', 'a', 'move', 'toward', 'greater', 'justice', '.', '``', 'as', 'palestine', 'formally', 'becomes', 'a', 'state', 'party', 'to', 'the', 'rome', 'statute', 'today', ',', 'the', 'world', 'is', 'also', 'a', 'step', 'closer', 'to', 'ending', 'a', 'long', 'era', 'of', 'impunity', 'and', 'injustice', ',', \"''\", 'he', 'said', ',', 'according', 'to', 'an', 'icc', 'news', 'release', '.', '``', 'indeed', ',', 'today', 'brings', 'us', 'closer', 'to', 'our', 'shared', 'goals', 'of', 'justice', 'and', 'peace', '.', \"''\", 'judge', 'kuniko', 'ozaki', ',', 'a', 'vice', 'president', 'of', 'the', 'icc', ',', 'said', 'acceding', 'to', 'the', 'treaty', 'was', 'just', 'the', 'first', 'step', 'for', 'the', 'palestinians', '.', '``', 'as', 'the', 'rome', 'statute', 'today', 'enters', 'into', 'force', 'for', 'the', 'state', 'of', 'palestine', ',', 'palestine', 'acquires', 'all', 'the', 'rights', 'as', 'well', 'as', 'responsibilities', 'that', 'come', 'with', 'being', 'a', 'state', 'party', 'to', 'the', 'statute', '.', 'these', 'are', 'substantive', 'commitments', ',', 'which', 'can', 'not', 'be', 'taken', 'lightly', ',', \"''\", 'she', 'said', '.', 'rights', 'group', 'human', 'rights', 'watch', 'welcomed', 'the', 'development', '.', '``', 'governments', 'seeking', 'to', 'penalize', 'palestine', 'for', 'joining', 'the', 'icc', 'should', 'immediately', 'end', 'their', 'pressure', ',', 'and', 'countries', 'that', 'support', 'universal', 'acceptance', 'of', 'the', 'court', \"'s\", 'treaty', 'should', 'speak', 'out', 'to', 'welcome', 'its', 'membership', ',', \"''\", 'said', 'balkees', 'jarrah', ',', 'international', 'justice', 'counsel', 'for', 'the', 'group', '.', '``', 'what', \"'s\", 'objectionable', 'is', 'the', 'attempts', 'to', 'undermine', 'international', 'justice', ',', 'not', 'palestine', \"'s\", 'decision', 'to', 'join', 'a', 'treaty', 'to', 'which', 'over', '100', 'countries']\n",
            "PRED 0: <t> the palestinian authority officially became the <unk> member of the international criminal court on wednesday . </t> <t> the ban was held at the hague , in the netherlands , where the court is based . </t>\n",
            "PRED SCORE: -5.0178\n",
            "GOLD 0: <t> membership gives the icc jurisdiction over alleged crimes committed in palestinian territories since last june . </t> <t> israel and the united states opposed the move , which could open the door to war crimes investigations against israelis . </t>\n",
            "GOLD SCORE: -120.0753\n",
            "\n",
            "\n",
            "SENT 0: ['-lrb-', 'cnn', '-rrb-', 'governments', 'around', 'the', 'world', 'are', 'using', 'the', 'threat', 'of', 'terrorism', '--', 'real', 'or', 'perceived', '--', 'to', 'advance', 'executions', ',', 'amnesty', 'international', 'alleges', 'in', 'its', 'annual', 'report', 'on', 'the', 'death', 'penalty', '.', '``', 'the', 'dark', 'trend', 'of', 'governments', 'using', 'the', 'death', 'penalty', 'in', 'a', 'futile', 'attempt', 'to', 'tackle', 'real', 'or', 'imaginary', 'threats', 'to', 'state', 'security', 'and', 'public', 'safety', 'was', 'stark', 'last', 'year', ',', \"''\", 'said', 'salil', 'shetty', ',', 'amnesty', \"'s\", 'secretary', 'general', 'in', 'a', 'release', '.', '``', 'it', 'is', 'shameful', 'that', 'so', 'many', 'states', 'around', 'the', 'world', 'are', 'essentially', 'playing', 'with', 'people', \"'s\", 'lives', '--', 'putting', 'people', 'to', 'death', 'for', '`', 'terrorism', \"'\", 'or', 'to', 'quell', 'internal', 'instability', 'on', 'the', 'ill-conceived', 'premise', 'of', 'deterrence', '.', \"''\", 'the', 'report', ',', '``', 'death', 'sentences', 'and', 'executions', '2014', ',', \"''\", 'cites', 'the', 'example', 'of', 'pakistan', 'lifting', 'a', 'six-year', 'moratorium', 'on', 'the', 'execution', 'of', 'civilians', 'following', 'the', 'horrific', 'attack', 'on', 'a', 'school', 'in', 'peshawar', 'in', 'december', '.', 'china', 'is', 'also', 'mentioned', ',', 'as', 'having', 'used', 'the', 'death', 'penalty', 'as', 'a', 'tool', 'in', 'its', '``', 'strike', 'hard', \"''\", 'campaign', 'against', 'terrorism', 'in', 'the', 'restive', 'far-western', 'province', 'of', 'xinjiang', '.', 'the', 'annual', 'report', 'catalogs', 'the', 'use', 'of', 'state-sanctioned', 'killing', 'as', 'a', 'punitive', 'measure', 'across', 'the', 'globe', ',', 'and', 'this', 'year', \"'s\", 'edition', 'contains', 'some', 'mixed', 'findings', '.', 'on', 'one', 'hand', ',', 'the', 'number', 'of', 'executions', 'worldwide', 'has', 'gone', 'down', 'by', 'almost', '22', '%', 'on', 'the', 'previous', 'year', '.', 'at', 'least', '607', 'people', 'were', 'executed', 'around', 'the', 'world', 'in', '2014', ',', 'compared', 'to', '778', 'in', '2013', '.', 'amnesty', \"'s\", 'figures', 'do', 'not', 'include', 'statistics', 'on', 'executions', 'carried', 'out', 'in', 'china', ',', 'where', 'information', 'on', 'the', 'practice', 'is', 'regarded', 'as', 'a', 'state', 'secret', '.', 'belarus', 'and', 'vietnam', ',', 'too', ',', 'do', 'not', 'release', 'data', 'on', 'death', 'penalty', 'cases', '.', '``', 'the', 'long-term', 'trend', 'is', 'definitely', 'positive', '--', 'we', 'are', 'seeing', 'a', 'decrease', 'in', 'the', 'number', 'of', 'executions', '-lrb-', 'worldwide', '-rrb-', ',', \"''\", 'audrey', 'gaughran', ',', 'amnesty', \"'s\", 'director', 'of', 'global', 'issues', ',', 'told', 'cnn', '.', '``', 'a', 'number', 'of', 'countries', 'are', 'closer', 'to', 'abolition', ',', 'and', 'there', 'are', 'some', 'signs', 'that', 'some', 'countries', 'will', 'be', 'abolitionist', 'by', '2015', '.', '-lrb-', 'there', 'are', '-rrb-', 'signals', 'of', 'a', 'world', 'that', 'is', 'nearing', 'abolition', '.', \"''\", 'while', 'the', 'report', 'notes', 'some', 'encouraging', 'signs', ',', 'it', 'also', 'highlights', 'a', 'marked', 'increase', 'in', 'the', 'number', 'of', 'people', 'sentenced', 'to', 'death', 'in', '2014', '.', 'at', 'least', '2,466', 'people', 'globally', 'are', 'confirmed', 'to']\n",
            "PRED 0: <t> amnesty international claims in its annual report on the death penalty . </t> <t> the number of executions has gone down by almost 22 % on the previous year , according to the report . </t>\n",
            "PRED SCORE: -4.5930\n",
            "GOLD 0: <t> amnesty 's annual death penalty report <unk> encouraging signs , but setbacks in numbers of those sentenced to death . </t> <t> organization claims that governments around the world are using the threat of terrorism to advance executions . </t> <t> the number of executions worldwide has gone down by almost 22 % compared with 2013 , but death sentences up by 28 % . </t>\n",
            "GOLD SCORE: -200.9264\n",
            "\n",
            "\n",
            "SENT 0: ['-lrb-', 'cnn', '-rrb-', 'on', 'may', '28', ',', '2014', ',', 'some', '7,000', 'people', 'gathered', 'in', 'a', 'stadium', 'in', 'china', \"'s\", 'northwestern', 'xinjiang', 'region', '.', 'but', 'they', 'had', 'not', 'come', 'to', 'watch', 'the', 'local', 'football', 'team', 'or', 'any', 'other', 'grand', 'sporting', 'event', '.', 'instead', ',', 'the', 'authorities', 'paraded', 'scores', 'of', 'prisoners', 'dressed', 'in', 'orange', 'jumpsuits', '.', 'armed', 'soldiers', 'guarded', 'the', 'exits', '.', 'in', 'the', 'patently', 'unfair', ',', 'open', 'air', 'trial', 'that', 'followed', ',', '55', 'people', 'were', 'found', 'guilty', 'of', 'a', 'range', 'of', 'offenses', 'linked', 'to', 'violent', 'attacks', 'in', 'the', 'region', 'and', 'jailed', '.', 'three', 'were', 'sentenced', 'to', 'death', '.', 'the', 'public', 'mass', 'sentencing', 'was', 'part', 'a', 'china', \"'s\", '``', 'strike', 'hard', \"''\", 'campaign', 'against', 'unrest', 'in', 'xinjiang', ',', 'a', 'campaign', 'the', 'government', 'claims', 'was', 'launched', 'to', 'combat', '``', 'terrorism', \"''\", 'and', '``', 'separatism', '.', \"''\", 'but', 'it', 'was', 'also', 'indicative', 'of', 'a', 'trend', 'that', 'was', 'starkly', 'evident', 'last', 'year', 'around', 'the', 'world', '--', 'governments', 'using', 'the', 'death', 'penalty', 'in', 'a', 'misguided', ',', 'and', 'often', 'cynical', ',', 'attempt', 'to', 'tackle', 'crime', 'and', 'terrorism', '.', 'today', ',', 'amnesty', 'international', 'releases', 'its', 'annual', 'review', 'of', 'the', 'death', 'penalty', 'worldwide', '.', 'much', 'of', 'it', 'makes', 'for', 'grim', 'reading', '.', 'in', 'pakistan', ',', 'the', 'government', 'lifted', 'a', 'six-year', 'moratorium', 'on', 'the', 'execution', 'of', 'civilians', 'in', 'the', 'wake', 'of', 'the', 'horrific', 'taliban', 'attack', 'on', 'a', 'school', 'in', 'peshawar', 'in', 'december', '.', 'more', 'than', '60', 'people', 'have', 'been', 'put', 'to', 'death', 'since', ',', 'and', 'the', 'government', 'has', 'threatened', 'to', 'send', 'thousands', 'more', 'death', 'row', 'prisoners', 'to', 'the', 'gallows', '.', 'iran', 'and', 'iraq', 'executed', 'people', 'for', '``', 'terrorism', ',', \"''\", 'and', 'other', 'countries', 'expanded', 'the', 'scope', 'of', 'capital', 'crimes', 'in', 'their', 'penal', 'codes', '.', 'in', 'a', 'year', 'when', 'abhorrent', 'summary', 'executions', 'by', 'armed', 'groups', 'were', 'branded', 'on', 'the', 'global', 'consciousness', 'as', 'never', 'before', ',', 'governments', 'are', 'themselves', 'resorting', 'to', 'more', 'executions', 'in', 'a', 'knee-jerk', 'reaction', 'to', 'terrorism', '.', 'other', 'countries', 'made', 'use', 'of', 'executions', 'in', 'similarly', 'flawed', 'attempts', 'to', 'address', '--', 'or', 'appear', 'to', 'address', '--', 'crime', 'rates', '.', 'jordan', 'ended', 'an', 'eight-year', 'moratorium', 'in', 'december', ',', 'putting', '11', 'murder', 'convicts', 'to', 'death', ',', 'with', 'the', 'government', 'saying', 'it', 'was', 'a', 'move', 'to', 'end', 'a', 'surge', 'in', 'violent', 'crime', '.', 'in', 'indonesia', ',', 'authorities', 'announced', 'plans', 'to', 'execute', 'mainly', 'drug', 'traffickers', 'to', 'tackle', 'a', 'public', 'safety', '``', 'national', 'emergency', '.', \"''\", 'six', 'people', 'have', 'already', 'been', 'executed', 'this', 'year', '.', 'a', 'sharp', 'spike', 'in', 'death', 'sentences', 'recorded', 'in', '2014', '--']\n",
            "PRED 0: <t> more than 60 people were found guilty of a range of offenses linked to violent attacks . </t> <t> they had not come to watch the local football team or any other grand sporting events . </t>\n",
            "PRED SCORE: -4.5713\n",
            "GOLD 0: <t> amnesty international releases its annual review of the death penalty worldwide ; much of it makes for grim reading . </t> <t> <unk> shetty : countries that use executions to deal with problems are on the wrong side of history . </t>\n",
            "GOLD SCORE: -137.1114\n",
            "\n",
            "\n",
            "SENT 0: ['-lrb-', 'cnn', '-rrb-', 'seventy', 'years', 'ago', ',', 'anne', 'frank', 'died', 'of', 'typhus', 'in', 'a', 'nazi', 'concentration', 'camp', 'at', 'the', 'age', 'of', '15', '.', 'just', 'two', 'weeks', 'after', 'her', 'supposed', 'death', 'on', 'march', '31', ',', '1945', ',', 'the', 'bergen-belsen', 'concentration', 'camp', 'where', 'she', 'had', 'been', 'imprisoned', 'was', 'liberated', '--', 'timing', 'that', 'showed', 'how', 'close', 'the', 'jewish', 'diarist', 'had', 'been', 'to', 'surviving', 'the', 'holocaust', '.', 'but', 'new', 'research', 'released', 'by', 'the', 'anne', 'frank', 'house', 'shows', 'that', 'anne', 'and', 'her', 'older', 'sister', ',', 'margot', 'frank', ',', 'died', 'at', 'least', 'a', 'month', 'earlier', 'than', 'previously', 'thought', '.', 'researchers', 're-examined', 'archives', 'of', 'the', 'red', 'cross', ',', 'the', 'international', 'training', 'service', 'and', 'the', 'bergen-belsen', 'memorial', ',', 'along', 'with', 'testimonies', 'of', 'survivors', '.', 'they', 'concluded', 'that', 'anne', 'and', 'margot', 'probably', 'did', 'not', 'survive', 'to', 'march', '1945', '--', 'contradicting', 'the', 'date', 'of', 'death', 'which', 'had', 'previously', 'been', 'determined', 'by', 'dutch', 'authorities', '.', 'in', '1944', ',', 'anne', 'and', 'seven', 'others', 'hiding', 'in', 'the', 'amsterdam', 'secret', 'annex', 'were', 'arrested', 'and', 'sent', 'to', 'the', 'auschwitz-birkenau', 'concentration', 'camp', '.', 'anne', 'frank', \"'s\", 'final', 'entry', '.', 'that', 'same', 'year', ',', 'anne', 'and', 'margot', 'were', 'separated', 'from', 'their', 'mother', 'and', 'sent', 'away', 'to', 'work', 'as', 'slave', 'labor', 'at', 'the', 'bergen-belsen', 'camp', 'in', 'germany', '.', 'days', 'at', 'the', 'camp', 'were', 'filled', 'with', 'terror', 'and', 'dread', ',', 'witnesses', 'said', '.', 'the', 'sisters', 'stayed', 'in', 'a', 'section', 'of', 'the', 'overcrowded', 'camp', 'with', 'no', 'lighting', ',', 'little', 'water', 'and', 'no', 'latrine', '.', 'they', 'slept', 'on', 'lice-ridden', 'straw', 'and', 'violent', 'storms', 'shredded', 'the', 'tents', ',', 'according', 'to', 'the', 'researchers', '.', 'like', 'the', 'other', 'prisoners', ',', 'the', 'sisters', 'endured', 'long', 'hours', 'at', 'roll', 'call', '.', 'her', 'classmate', ',', 'nannette', 'blitz', ',', 'recalled', 'seeing', 'anne', 'there', 'in', 'december', '1944', ':', '``', 'she', 'was', 'no', 'more', 'than', 'a', 'skeleton', 'by', 'then', '.', 'she', 'was', 'wrapped', 'in', 'a', 'blanket', ';', 'she', 'could', \"n't\", 'bear', 'to', 'wear', 'her', 'clothes', 'anymore', 'because', 'they', 'were', 'crawling', 'with', 'lice', '.', \"''\", 'listen', 'to', 'anne', 'frank', \"'s\", 'friends', 'describe', 'her', 'concentration', 'camp', 'experience', '.', 'as', 'the', 'russians', 'advanced', 'further', ',', 'the', 'bergen-belsen', 'concentration', 'camp', 'became', 'even', 'more', 'crowded', ',', 'bringing', 'more', 'disease', '.', 'a', 'deadly', 'typhus', 'outbreak', 'caused', 'thousands', 'to', 'die', 'each', 'day', '.', 'typhus', 'is', 'an', 'infectious', 'disease', 'caused', 'by', 'lice', 'that', 'breaks', 'out', 'in', 'places', 'with', 'poor', 'hygiene', '.', 'the', 'disease', 'causes', 'high', 'fever', ',', 'chills', 'and', 'skin', 'eruptions', '.', '``', 'because', 'of', 'the', 'lice', 'infesting', 'the', 'bedstraw', 'and', 'her', 'clothes', ',', 'anne', 'was', 'exposed', 'to']\n",
            "PRED 0: <t> anne frank died of <unk> in a nazi concentration camp at the age of 15 . </t> <t> she died at least a month earlier than previously thought , according to the king frank . </t>\n",
            "PRED SCORE: -5.1561\n",
            "GOLD 0: <t> museum : anne frank died earlier than previously believed . </t> <t> researchers re-examined archives and testimonies of survivors . </t> <t> anne and older sister margot frank are believed to have died in february 1945 . </t>\n",
            "GOLD SCORE: -142.4563\n",
            "\n",
            "\n",
            "SENT 0: ['-lrb-', 'cnn', '-rrb-', 'a', 'duke', 'student', 'has', 'admitted', 'to', 'hanging', 'a', 'noose', 'made', 'of', 'rope', 'from', 'a', 'tree', 'near', 'a', 'student', 'union', ',', 'university', 'officials', 'said', 'thursday', '.', 'the', 'prestigious', 'private', 'school', 'did', \"n't\", 'identify', 'the', 'student', ',', 'citing', 'federal', 'privacy', 'laws', '.', 'in', 'a', 'news', 'release', ',', 'it', 'said', 'the', 'student', 'was', 'no', 'longer', 'on', 'campus', 'and', 'will', 'face', 'student', 'conduct', 'review', '.', 'the', 'student', 'was', 'identified', 'during', 'an', 'investigation', 'by', 'campus', 'police', 'and', 'the', 'office', 'of', 'student', 'affairs', 'and', 'admitted', 'to', 'placing', 'the', 'noose', 'on', 'the', 'tree', 'early', 'wednesday', ',', 'the', 'university', 'said', '.', 'officials', 'are', 'still', 'trying', 'to', 'determine', 'if', 'other', 'people', 'were', 'involved', '.', 'criminal', 'investigations', 'into', 'the', 'incident', 'are', 'ongoing', 'as', 'well', '.', 'students', 'and', 'faculty', 'members', 'marched', 'wednesday', 'afternoon', 'chanting', '``', 'we', 'are', 'not', 'afraid', '.', 'we', 'stand', 'together', ',', \"''\", 'after', 'pictures', 'of', 'the', 'noose', 'were', 'passed', 'around', 'on', 'social', 'media', '.', 'at', 'a', 'forum', 'held', 'on', 'the', 'steps', 'of', 'duke', 'chapel', ',', 'close', 'to', 'where', 'the', 'noose', 'was', 'discovered', 'at', '2', 'a.m.', ',', 'hundreds', 'of', 'people', 'gathered', '.', '``', 'you', 'came', 'here', 'for', 'the', 'reason', 'that', 'you', 'want', 'to', 'say', 'with', 'me', ',', '`', 'this', 'is', 'no', 'duke', 'we', 'will', 'accept', '.', 'this', 'is', 'no', 'duke', 'we', 'want', '.', 'this', 'is', 'not', 'the', 'duke', 'we', \"'re\", 'here', 'to', 'experience', '.', 'and', 'this', 'is', 'not', 'the', 'duke', 'we', \"'re\", 'here', 'to', 'create', ',', \"'\", \"''\", 'duke', 'president', 'richard', 'brodhead', 'told', 'the', 'crowd', '.', 'the', 'incident', 'is', 'one', 'of', 'several', 'recent', 'racist', 'events', 'to', 'affect', 'college', 'students', '.', 'last', 'month', 'a', 'fraternity', 'at', 'the', 'university', 'of', 'oklahoma', 'had', 'its', 'charter', 'removed', 'after', 'a', 'video', 'surfaced', 'showing', 'members', 'using', 'the', 'n-word', 'and', 'referring', 'to', 'lynching', 'in', 'a', 'chant', '.', 'two', 'students', 'were', 'expelled', '.', 'in', 'february', ',', 'a', 'noose', 'was', 'hung', 'around', 'the', 'neck', 'of', 'a', 'statue', 'of', 'a', 'famous', 'civil', 'rights', 'figure', 'at', 'the', 'university', 'of', 'mississippi', '.', 'a', 'statement', 'issued', 'by', 'duke', 'said', 'there', 'was', 'a', 'previous', 'report', 'of', 'hate', 'speech', 'directed', 'at', 'students', 'on', 'campus', '.', 'in', 'the', 'news', 'release', ',', 'the', 'vice', 'president', 'for', 'student', 'affairs', 'called', 'the', 'noose', 'incident', 'a', '``', 'cowardly', 'act', '.', \"''\", '``', 'to', 'whomever', 'committed', 'this', 'hateful', 'and', 'stupid', 'act', ',', 'i', 'just', 'want', 'to', 'say', 'that', 'if', 'your', 'intent', 'was', 'to', 'create', 'fear', ',', 'it', 'will', 'have', 'the', 'opposite', 'effect', ',', \"''\", 'larry', 'moneta', 'said', 'wednesday', '.', 'duke', 'university', 'is', 'a', 'private', 'college', 'with', 'about']\n",
            "PRED 0: <t> university officials say the student is no longer on campus and will face student conduct review . </t> <t> the student was identified during an investigation by campus police and the office of student affairs . </t>\n",
            "PRED SCORE: -3.7167\n",
            "GOLD 0: <t> student is no longer on duke university campus and will face disciplinary review . </t> <t> school officials identified student during investigation and the person admitted to hanging the noose , duke says . </t> <t> the noose , made of rope , was discovered on campus about 2 a.m. </t>\n",
            "GOLD SCORE: -194.4400\n",
            "\n",
            "\n",
            "SENT 0: ['-lrb-', 'cnn', '-rrb-', 'the', 'rev.', 'robert', 'h.', 'schuller', ',', 'california', 'televangelist', 'and', 'founder', 'of', 'the', 'television', 'ministry', '``', 'hour', 'of', 'power', ',', \"''\", 'died', 'thursday', ',', 'according', 'to', 'his', 'family', '.', 'he', 'was', '88', 'years', 'old', '.', 'schuller', ',', 'also', 'the', 'founder', 'of', 'crystal', 'cathedral', 'megachurch', ',', 'had', 'been', 'diagnosed', 'with', 'esophageal', 'cancer', 'in', 'august', '2013', ',', 'a', 'release', 'from', '``', 'hour', 'of', 'power', \"''\", 'said', '.', '``', 'my', 'father-in-law', 'passed', 'away', 'peacefully', 'early', 'this', 'morning', '.', 'he', 'was', 'a', 'great', 'dad', 'and', 'a', 'great', 'man', 'of', 'god', ',', \"''\", 'said', 'schuller', \"'s\", 'daughter-in-law', ',', 'donna', 'schuller', ',', 'in', 'a', 'twitter', 'message', '.', 'schuller', \"'s\", 'life', 'followed', 'an', 'almost', 'shakespearean', 'arc', '.', 'he', 'was', 'born', 'in', 'a', 'iowa', 'farmhouse', 'without', 'running', 'water', 'and', 'longed', 'to', 'preach', 'from', 'his', 'earliest', 'days', '.', 'in', 'his', 'autobiography', ',', '``', 'prayer', ':', 'my', 'soul', \"'s\", 'adventure', 'with', 'god', ',', \"''\", 'he', 'described', 'standing', 'alone', 'by', 'a', 'river', 'and', 'picturing', 'himself', 'delivering', 'sermons', 'to', 'a', 'rapt', 'congregation', '.', 'after', 'attending', 'a', 'hope', 'college', 'and', 'western', 'theological', 'seminary', 'in', 'michigan', ',', 'he', 'met', 'his', 'wife', 'of', 'more', 'than', '60', 'years', ',', 'arvella', ',', 'while', 'preaching', 'at', 'her', 'church', '-lrb-', 'she', 'was', 'the', 'organist', '-rrb-', '.', 'with', 'their', 'young', 'family', 'in', 'tow', ',', 'the', 'schullers', 'caravanned', 'west', 'to', 'california', ',', 'where', 'he', 'rented', 'a', 'drive-in', 'theater', 'and', 'preached', 'from', 'the', 'roof', 'of', 'the', 'snack', 'bar', '.', 'it', 'was', 'beneath', 'the', 'dignity', 'of', 'christian', 'ministry', ',', 'some', 'local', 'pastors', 'huffed', '.', 'the', '``', 'passion', 'pits', \"''\", 'where', 'teenagers', 'necked', 'was', 'no', 'place', 'for', 'the', 'gospel', '.', 'schuller', 'was', 'undeterred', ',', 'and', 'he', 'quickly', 'outgrew', 'the', 'drive-in', '.', 'he', 'called', 'the', 'explosive', 'growth', 'of', 'his', 'tiny', 'congregation', 'a', '``', 'miracle', ',', \"''\", 'though', 'his', 'many', 'mainstream', 'critics', 'had', 'other', 'names', 'for', 'it', '.', 'his', 'confident', ',', 'breezy', 'version', 'of', 'christianity', '--', 'too', 'breezy', ',', 'by', 'some', 'estimations', '--', 'drew', 'hordes', 'of', 'seekers', 'and', 'lapsed', 'christians', 'who', 'were', 'put', 'off', 'by', 'the', 'hellfire', 'fulminations', 'of', 'many', 'post-war', 'american', 'preachers', '.', 'schuller', 'sold', 'a', 'softer', ',', 'gentler', 'message', ',', 'which', 'borrowed', 'heavily', ',', 'he', 'acknowledged', ',', 'from', 'the', 'father', 'of', 'the', 'feel-good', 'gospel', ',', 'norman', 'vincent', 'peale', '.', 'he', 'preached', 'not', 'to', 'convert', 'or', 'condemn', 'people', ',', 'but', 'to', 'encourage', 'them', ',', 'a', 'sentiment', 'he', 'called', '``', 'possibility', 'thinking', '.', \"''\", 'people', 'loved', 'it', '.', '``', 'evangelicalism', 'at', 'its', 'best', 'wants', 'to', 'be', 'innovative', 'and', 'reach', 'people', ',', \"''\", 'said', 'timothy']\n",
            "PRED 0: <t> robert <unk> , founder of crystal cathedral , had been diagnosed with <unk> cancer in august 2013 . </t> <t> he was a great dad and a great man of god , according to his family . </t>\n",
            "PRED SCORE: -4.6907\n",
            "GOLD 0: <t> the rev. robert <unk> , 88 , had been diagnosed with <unk> cancer in 2013 . </t> <t> his tv show , `` hour of power , '' was enormously popular in the 1970s and 1980s . </t>\n",
            "GOLD SCORE: -95.0392\n",
            "\n",
            "\n",
            "SENT 0: ['-lrb-', 'cnn', '-rrb-', 'never', 'mind', 'cats', 'having', 'nine', 'lives', '.', 'a', 'stray', 'pooch', 'in', 'washington', 'state', 'has', 'used', 'up', 'at', 'least', 'three', 'of', 'her', 'own', 'after', 'being', 'hit', 'by', 'a', 'car', ',', 'apparently', 'whacked', 'on', 'the', 'head', 'with', 'a', 'hammer', 'in', 'a', 'misguided', 'mercy', 'killing', 'and', 'then', 'buried', 'in', 'a', 'field', '--', 'only', 'to', 'survive', '.', 'that', \"'s\", 'according', 'to', 'washington', 'state', 'university', ',', 'where', 'the', 'dog', '--', 'a', 'friendly', 'white-and-black', 'bully', 'breed', 'mix', 'now', 'named', 'theia', '--', 'has', 'been', 'receiving', 'care', 'at', 'the', 'veterinary', 'teaching', 'hospital', '.', 'four', 'days', 'after', 'her', 'apparent', 'death', ',', 'the', 'dog', 'managed', 'to', 'stagger', 'to', 'a', 'nearby', 'farm', ',', 'dirt-covered', 'and', 'emaciated', ',', 'where', 'she', 'was', 'found', 'by', 'a', 'worker', 'who', 'took', 'her', 'to', 'a', 'vet', 'for', 'help', '.', 'she', 'was', 'taken', 'in', 'by', 'moses', 'lake', ',', 'washington', ',', 'resident', 'sara', 'mellado', '.', '``', 'considering', 'everything', 'that', 'she', \"'s\", 'been', 'through', ',', 'she', \"'s\", 'incredibly', 'gentle', 'and', 'loving', ',', \"''\", 'mellado', 'said', ',', 'according', 'to', 'wsu', 'news', '.', '``', 'she', \"'s\", 'a', 'true', 'miracle', 'dog', 'and', 'she', 'deserves', 'a', 'good', 'life', '.', \"''\", 'theia', 'is', 'only', 'one', 'year', 'old', 'but', 'the', 'dog', \"'s\", 'brush', 'with', 'death', 'did', 'not', 'leave', 'her', 'unscathed', '.', 'she', 'suffered', 'a', 'dislocated', 'jaw', ',', 'leg', 'injuries', 'and', 'a', 'caved-in', 'sinus', 'cavity', '--', 'and', 'still', 'requires', 'surgery', 'to', 'help', 'her', 'breathe', '.', 'the', 'veterinary', 'hospital', \"'s\", 'good', 'samaritan', 'fund', 'committee', 'awarded', 'some', 'money', 'to', 'help', 'pay', 'for', 'the', 'dog', \"'s\", 'treatment', ',', 'but', 'mellado', 'has', 'set', 'up', 'a', 'fundraising', 'page', 'to', 'help', 'meet', 'the', 'remaining', 'cost', 'of', 'the', 'dog', \"'s\", 'care', '.', 'she', \"'s\", 'also', 'created', 'a', 'facebook', 'page', 'to', 'keep', 'supporters', 'updated', '.', 'donors', 'have', 'already', 'surpassed', 'the', '$', '10,000', 'target', ',', 'inspired', 'by', 'theia', \"'s\", 'tale', 'of', 'survival', 'against', 'the', 'odds', '.', 'on', 'the', 'fundraising', 'page', ',', 'mellado', 'writes', ',', '``', 'she', 'is', 'in', 'desperate', 'need', 'of', 'extensive', 'medical', 'procedures', 'to', 'fix', 'her', 'nasal', 'damage', 'and', 'reset', 'her', 'jaw', '.', 'i', 'agreed', 'to', 'foster', 'her', 'until', 'she', 'finally', 'found', 'a', 'loving', 'home', '.', \"''\", 'she', 'is', 'dedicated', 'to', 'making', 'sure', 'theia', 'gets', 'the', 'medical', 'attention', 'she', 'needs', ',', 'mellado', 'adds', ',', 'and', 'wants', 'to', '``', 'make', 'sure', 'she', 'gets', 'placed', 'in', 'a', 'family', 'where', 'this', 'will', 'never', 'happen', 'to', 'her', 'again', '!', \"''\", 'any', 'additional', 'funds', 'raised', 'will', 'be', '``', 'paid', 'forward', \"''\", 'to', 'help', 'other', 'animals', '.', 'theia', 'is', 'not', 'the', 'only', 'animal', 'to', 'apparently', 'rise', 'from', 'the']\n",
            "PRED 0: <t> the dog was hit by a car on the head with a hammer in <unk> , washington state . </t> <t> she was found by a worker who took her to a vet for help . </t>\n",
            "PRED SCORE: -4.6484\n",
            "GOLD 0: <t> <unk> , a bully breed mix , was apparently hit by a car , whacked with a hammer and buried in a field . </t> <t> `` she 's a true miracle dog and she deserves a good life , '' says sara <unk> , who is looking for a home for <unk> . </t>\n",
            "GOLD SCORE: -132.0547\n",
            "\n",
            "\n",
            "SENT 0: ['-lrb-', 'cnn', '-rrb-', 'if', 'you', \"'ve\", 'been', 'following', 'the', 'news', 'lately', ',', 'there', 'are', 'certain', 'things', 'you', 'doubtless', 'know', 'about', 'mohammad', 'javad', 'zarif', '.', 'he', 'is', ',', 'of', 'course', ',', 'the', 'iranian', 'foreign', 'minister', '.', 'he', 'has', 'been', 'u.s.', 'secretary', 'of', 'state', 'john', 'kerry', \"'s\", 'opposite', 'number', 'in', 'securing', 'a', 'breakthrough', 'in', 'nuclear', 'discussions', 'that', 'could', 'lead', 'to', 'an', 'end', 'to', 'sanctions', 'against', 'iran', '--', 'if', 'the', 'details', 'can', 'be', 'worked', 'out', 'in', 'the', 'coming', 'weeks', '.', 'and', 'he', 'received', 'a', 'hero', \"'s\", 'welcome', 'as', 'he', 'arrived', 'in', 'iran', 'on', 'a', 'sunny', 'friday', 'morning', '.', '``', 'long', 'live', 'zarif', ',', \"''\", 'crowds', 'chanted', 'as', 'his', 'car', 'rolled', 'slowly', 'down', 'the', 'packed', 'street', '.', 'you', 'may', 'well', 'have', 'read', 'that', 'he', 'is', '``', 'polished', \"''\", 'and', ',', 'unusually', 'for', 'one', 'burdened', 'with', 'such', 'weighty', 'issues', ',', '``', 'jovial', '.', \"''\", 'an', 'internet', 'search', 'for', '``', 'mohammad', 'javad', 'zarif', \"''\", 'and', '``', 'jovial', \"''\", 'yields', 'thousands', 'of', 'results', '.', 'he', 'certainly', 'has', 'gone', 'a', 'long', 'way', 'to', 'bring', 'iran', 'in', 'from', 'the', 'cold', 'and', 'allow', 'it', 'to', 'rejoin', 'the', 'international', 'community', '.', 'but', 'there', 'are', 'some', 'facts', 'about', 'zarif', 'that', 'are', 'less', 'well-known', '.', 'here', 'are', 'six', ':', '.', 'in', 'september', '2013', ',', 'zarif', 'tweeted', '``', 'happy', 'rosh', 'hashanah', ',', \"''\", 'referring', 'to', 'the', 'jewish', 'new', 'year', '.', 'that', 'prompted', 'christine', 'pelosi', ',', 'the', 'daughter', 'of', 'house', 'minority', 'leader', 'nancy', 'pelosi', ',', 'to', 'respond', 'with', 'a', 'tweet', 'of', 'her', 'own', ':', '``', 'thanks', '.', 'the', 'new', 'year', 'would', 'be', 'even', 'sweeter', 'if', 'you', 'would', 'end', 'iran', \"'s\", 'holocaust', 'denial', ',', 'sir', '.', \"''\", 'and', ',', 'perhaps', 'to', 'her', 'surprise', ',', 'pelosi', 'got', 'a', 'response', '.', '``', 'iran', 'never', 'denied', 'it', ',', \"''\", 'zarif', 'tweeted', 'back', '.', '``', 'the', 'man', 'who', 'was', 'perceived', 'to', 'be', 'denying', 'it', 'is', 'now', 'gone', '.', 'happy', 'new', 'year', '.', \"''\", 'the', 'reference', 'was', 'likely', 'to', 'former', 'iranian', 'president', 'mahmoud', 'ahmadinejad', ',', 'who', 'had', 'left', 'office', 'the', 'previous', 'month', '.', 'zarif', 'was', 'nominated', 'to', 'be', 'foreign', 'minister', 'by', 'ahmadinejad', \"'s\", 'successor', ',', 'hassan', 'rouhami', '.', 'his', 'foreign', 'ministry', 'notes', ',', 'perhaps', 'defensively', ',', 'that', '``', 'due', 'to', 'the', 'political', 'and', 'security', 'conditions', 'of', 'the', 'time', ',', 'he', 'decided', 'to', 'continue', 'his', 'education', 'in', 'the', 'united', 'states', '.', \"''\", 'that', 'is', 'another', 'way', 'of', 'saying', 'that', 'he', 'was', 'outside', 'the', 'country', 'during', 'the', 'demonstrations', 'against', 'the', 'shah', 'of', 'iran', ',', 'which', 'began', 'in', '1977', ',', 'and', 'during', 'the', 'iranian']\n",
            "PRED 0: <t> new : `` the man who was like to be referring it is now gone , '' he says . </t> <t> he has been u.s. secretary of state john kerry , who had left office three years ago . </t>\n",
            "PRED SCORE: -5.9047\n",
            "GOLD 0: <t> mohammad javad zarif has spent more time with john kerry than any other foreign minister . </t> <t> he once participated in a takeover of the iranian consulate in san francisco . </t> <t> the iranian foreign minister tweets in english . </t>\n",
            "GOLD SCORE: -167.0237\n",
            "\n",
            "\n",
            "SENT 0: ['-lrb-', 'cnn', '-rrb-', 'for', 'the', 'first', 'time', 'in', 'eight', 'years', ',', 'a', 'tv', 'legend', 'returned', 'to', 'doing', 'what', 'he', 'does', 'best', '.', 'contestants', 'told', 'to', '``', 'come', 'on', 'down', '!', \"''\", 'on', 'the', 'april', '1', 'edition', 'of', '``', 'the', 'price', 'is', 'right', \"''\", 'encountered', 'not', 'host', 'drew', 'carey', 'but', 'another', 'familiar', 'face', 'in', 'charge', 'of', 'the', 'proceedings', '.', 'instead', ',', 'there', 'was', 'bob', 'barker', ',', 'who', 'hosted', 'the', 'tv', 'game', 'show', 'for', '35', 'years', 'before', 'stepping', 'down', 'in', '2007', '.', 'looking', 'spry', 'at', '91', ',', 'barker', 'handled', 'the', 'first', 'price-guessing', 'game', 'of', 'the', 'show', ',', 'the', 'classic', '``', 'lucky', 'seven', ',', \"''\", 'before', 'turning', 'hosting', 'duties', 'over', 'to', 'carey', ',', 'who', 'finished', 'up', '.', 'despite', 'being', 'away', 'from', 'the', 'show', 'for', 'most', 'of', 'the', 'past', 'eight', 'years', ',', 'barker', 'did', \"n't\", 'seem', 'to', 'miss', 'a', 'beat', '.']\n",
            "PRED 0: <t> fans told to ` come on down ! '' on the april 1 edition of `` the price is right '' </t> <t> the show , the classic ` lucky seven , '' came out in 2007 . </t>\n",
            "PRED SCORE: -5.6697\n",
            "GOLD 0: <t> bob barker returned to host `` the price is right '' on wednesday . </t> <t> barker , 91 , had retired as host in 2007 . </t>\n",
            "GOLD SCORE: -98.9138\n",
            "\n",
            "\n",
            "SENT 0: ['-lrb-', 'cnn', '-rrb-', 'he', \"'s\", 'a', 'blue', 'chip', 'college', 'basketball', 'recruit', '.', 'she', \"'s\", 'a', 'high', 'school', 'freshman', 'with', 'down', 'syndrome', '.', 'at', 'first', 'glance', 'trey', 'moses', 'and', 'ellie', 'meredith', 'could', \"n't\", 'be', 'more', 'different', '.', 'but', 'all', 'that', 'changed', 'thursday', 'when', 'trey', 'asked', 'ellie', 'to', 'be', 'his', 'prom', 'date', '.', 'trey', '--', 'a', 'star', 'on', 'eastern', 'high', 'school', \"'s\", 'basketball', 'team', 'in', 'louisville', ',', 'kentucky', ',', 'who', \"'s\", 'headed', 'to', 'play', 'college', 'ball', 'next', 'year', 'at', 'ball', 'state', '--', 'was', 'originally', 'going', 'to', 'take', 'his', 'girlfriend', 'to', 'eastern', \"'s\", 'prom', '.', 'so', 'why', 'is', 'he', 'taking', 'ellie', 'instead', '?', '``', 'she', \"'s\", 'great', '...', 'she', 'listens', 'and', 'she', \"'s\", 'easy', 'to', 'talk', 'to', \"''\", 'he', 'said', '.', 'trey', 'made', 'the', 'prom-posal', '-lrb-', 'yes', ',', 'that', \"'s\", 'what', 'they', 'are', 'calling', 'invites', 'to', 'prom', 'these', 'days', '-rrb-', 'in', 'the', 'gym', 'during', 'ellie', \"'s\", 'p.e.', 'class', '.', 'trina', 'helson', ',', 'a', 'teacher', 'at', 'eastern', ',', 'alerted', 'the', 'school', \"'s\", 'newspaper', 'staff', 'to', 'the', 'prom-posal', 'and', 'posted', 'photos', 'of', 'trey', 'and', 'ellie', 'on', 'twitter', 'that', 'have', 'gone', 'viral', '.', 'she', 'was', \"n't\", 'surpristed', 'by', 'trey', \"'s\", 'actions', '.', '``', 'that', \"'s\", 'the', 'kind', 'of', 'person', 'trey', 'is', ',', \"''\", 'she', 'said', '.', 'to', 'help', 'make', 'sure', 'she', 'said', 'yes', ',', 'trey', 'entered', 'the', 'gym', 'armed', 'with', 'flowers', 'and', 'a', 'poster', 'that', 'read', '``', 'let', \"'s\", 'party', 'like', 'it', \"'s\", '1989', ',', \"''\", 'a', 'reference', 'to', 'the', 'latest', 'album', 'by', 'taylor', 'swift', ',', 'ellie', \"'s\", 'favorite', 'singer', '.', 'trey', 'also', 'got', 'the', 'ok', 'from', 'ellie', \"'s\", 'parents', 'the', 'night', 'before', 'via', 'text', '.', 'they', 'were', 'thrilled', '.', '``', 'you', 'just', 'feel', 'numb', 'to', 'those', 'moments', 'raising', 'a', 'special', 'needs', 'child', ',', \"''\", 'said', 'darla', 'meredith', ',', 'ellie', \"'s\", 'mom', '.', '``', 'you', 'first', 'feel', 'the', 'need', 'to', 'protect', 'and', 'then', 'to', 'overprotect', '.', \"''\", 'darla', 'meredith', 'said', 'ellie', 'has', 'struggled', 'with', 'friendships', 'since', 'elementary', 'school', ',', 'but', 'a', 'special', 'program', 'at', 'eastern', 'called', 'best', 'buddies', 'had', 'made', 'things', 'easier', 'for', 'her', '.', 'she', 'said', 'best', 'buddies', 'cultivates', 'friendships', 'between', 'students', 'with', 'and', 'without', 'developmental', 'disabilities', 'and', 'prevents', 'students', 'like', 'ellie', 'from', 'feeling', 'isolated', 'and', 'left', 'out', 'of', 'social', 'functions', '.', '``', 'i', 'guess', 'around', 'middle', 'school', 'is', 'when', 'kids', 'started', 'to', 'care', 'about', 'what', 'others', 'thought', ',', \"''\", 'she', 'said', ',', 'but', '``', 'this', 'school', ',', 'this', 'year', 'has', 'been', 'a', 'relief', '.', \"''\", 'trey', \"'s\", 'future', 'coach', 'at', 'ball', 'state', ',', 'james']\n",
            "PRED 0: <t> the <unk> , a star on eastern high school 's basketball team in louisville , kentucky , has been a high school freshman with down syndrome . </t> <t> <unk> , a teacher at eastern , called the school 's staff to the <unk> and posted photos of him . </t>\n",
            "PRED SCORE: -7.3153\n",
            "GOLD 0: <t> <unk> basketball star asks girl with down syndrome to high school prom . </t> <t> pictures of the two during the `` <unk> '' have gone viral . </t>\n",
            "GOLD SCORE: -109.6464\n",
            "\n",
            "\n",
            "SENT 0: ['-lrb-', 'cnn', '-rrb-', 'michele', 'bachmann', 'is', 'comparing', 'president', 'obama', 'to', 'the', 'co-pilot', 'of', 'the', 'doomed', 'germanwings', 'flight', '.', '``', 'with', 'his', 'iran', 'deal', ',', 'barack', 'obama', 'is', 'for', 'the', '300', 'million', 'souls', 'of', 'the', 'united', 'states', 'what', 'andreas', 'lubitz', 'was', 'for', 'the', '150', 'souls', 'on', 'the', 'german', 'wings', 'flight', '-', 'a', 'deranged', 'pilot', 'flying', 'his', 'entire', 'nation', 'into', 'the', 'rocks', ',', \"''\", 'the', 'minnesota', 'republican', 'and', 'former', 'representative', 'wrote', 'in', 'a', 'facebook', 'comment', 'posted', 'march', '31', '.', '``', 'after', 'the', 'fact', ',', 'among', 'the', 'smoldering', 'remains', 'of', 'american', 'cities', ',', 'the', 'shocked', 'survivors', 'will', 'ask', ',', 'why', 'did', 'he', 'do', 'it', '?', \"''\", 'andreas', 'lubitz', ',', 'the', 'co-pilot', 'of', 'germanwings', 'flight', '9525', ',', 'is', 'accused', 'by', 'authorities', 'of', 'deliberately', 'crashing', 'the', 'plane', 'in', 'the', 'french', 'alps', '.', 'he', 'died', 'in', 'the', 'crash', 'along', 'with', '149', 'other', 'crew', 'and', 'passengers', '.', 'the', 'motive', 'of', 'the', 'march', '24', 'crash', 'is', 'under', 'investigation', ',', 'though', 'investigators', 'are', 'looking', 'in', 'to', 'whether', 'lubitz', 'feared', 'a', 'medical', 'condition', 'would', 'cause', 'him', 'to', 'lose', 'his', 'pilot', \"'s\", 'license', '.', 'many', 'comments', 'posted', 'on', 'her', 'facebook', 'page', 'blasted', 'the', 'former', 'representative', '.', 'melissa', 'coca', 'wrote', ',', '``', 'comparing', 'this', 'tragedy', 'to', 'anything', 'is', 'moronic', 'and', 'despicable', '.', \"''\", 'michael', 'j', 'pristash', 'wrote', ',', '``', 'your', 'allusion', 'is', 'so', 'inappropriate', 'and', 'divisive', ',', 'not', 'to', 'mention', 'disrespectful', 'on', 'so', 'many', 'levels', '.', 'shame', 'on', 'you', '.', \"''\", 'some', 'also', 'accused', 'her', 'of', 'taking', 'desperate', 'measures', 'to', 'stay', 'in', 'the', 'public', 'eye', '.', 'lynda', 'anderson', 'wrote', ',', '``', 'posting', 'outrageous', 'things', 'in', 'a', 'pathetic', 'attempt', 'to', 'stay', 'relevant', '?', \"''\", 'negotiations', 'are', 'coming', 'down', 'to', 'the', 'wire', 'between', 'iran', ',', 'the', 'united', 'states', 'and', 'other', 'nations', 'on', 'restricting', 'tehran', \"'s\", 'nuclear', 'program', 'to', 'prevent', 'the', 'ability', 'to', 'develop', 'an', 'atomic', 'bomb', '.', 'one', 'deadline', 'passed', 'tuesday', ',', 'but', 'there', 'is', 'a', 'june', '30', 'deadline', 'for', 'a', 'comprehensive', 'deal', '--', 'with', 'all', 'technical', 'and', 'diplomatic', 'impasses', 'fully', 'worked', 'out', '.', 'bachmann', 'is', 'no', 'stranger', 'to', 'voicing', 'her', 'opinion', 'on', 'the', 'president', \"'s\", 'dealing', 'with', 'iran', ',', 'personally', 'telling', 'him', 'to', '``', 'bomb', 'iran', \"''\", 'during', 'the', '2014', 'white', 'house', 'christmas', 'party', '.', '``', 'i', 'turned', 'to', 'the', 'president', 'and', 'i', 'said', ',', 'something', 'to', 'the', 'effect', 'of', ',', '`', 'mr.', 'president', ',', 'you', 'need', 'to', 'bomb', 'the', 'iranian', 'nuclear', 'facilities', ',', 'because', 'if', 'you', 'do', \"n't\", ',', 'iran', 'will', 'have', 'a', 'nuclear', 'weapon', 'on', 'your', 'watch', 'and', 'the', 'course', 'of']\n",
            "PRED 0: <t> new : `` if you do n't , iran will have a nuclear weapon on your watch , '' he says . </t> <t> `` i wanted to bomb iran '' during the 2014 white house dinner . </t>\n",
            "PRED SCORE: -5.6695\n",
            "GOLD 0: <t> former gop representative compares president obama to andreas <unk> . </t> <t> bachmann said with possible iran deal , obama will fly `` entire nation into the rocks '' </t> <t> reaction on social media ? she was blasted by facebook commenters . </t>\n",
            "GOLD SCORE: -178.7303\n",
            "\n",
            "\n",
            "SENT 0: ['los', 'angeles', '-lrb-', 'cnn', '-rrb-', 'it', \"'s\", 'more', 'than', 'just', 'one', 'state', \"'s\", 'internal', 'problem', '.', 'the', 'historic', 'california', 'drought', 'hurts', 'the', 'rest', 'of', 'the', 'union', ',', 'too', '.', 'that', \"'s\", 'because', 'california', 'is', 'a', 'breadbasket', 'to', 'the', 'nation', ',', 'growing', 'more', 'than', 'a', 'third', 'of', 'its', 'vegetables', 'and', 'nearly', 'two-thirds', 'of', 'its', 'fruits', 'and', 'nuts', '.', 'here', \"'s\", 'why', 'we', 'should', 'heed', 'the', 'ongoing', 'drought', 'in', 'the', 'most', 'populous', 'state', ',', 'a', 'slowly', 'expanding', 'natural', 'disaster', 'now', 'in', 'its', 'fourth', 'year', 'that', 'this', 'week', 'prompted', 'gov.', 'jerry', 'brown', 'to', 'announce', 'a', 'mandatory', '25', '%', 'cutback', 'in', 'water', 'consumption', 'in', 'all', 'cities', '.', 'in', '2014', ',', 'one', 'expert', 'predicted', 'consumers', 'would', 'pay', 'more', 'for', 'some', 'groceries', 'because', 'of', 'the', 'california', 'drought', '.', 'he', 'was', 'often', 'right', ',', 'according', 'to', 'statistics', 'gathered', 'by', 'timothy', 'richards', ',', 'agribusiness', 'professor', 'at', 'arizona', 'state', 'university', '.', 'prices', 'rose', 'last', 'year', 'for', 'these', 'items', 'on', 'your', 'kitchen', 'table', ':', '.', '•', 'berries', 'rose', 'in', 'price', 'by', 'about', '80', 'cents', 'per', 'clamshell', 'to', '$', '3.88', '.', '•', 'broccoli', 'by', '11', 'cents', 'per', 'pound', 'to', '$', '1.89', '.', '•', 'grapes', 'by', '64', 'cents', 'a', 'pound', 'to', '$', '3.06', '.', '•', 'melons', 'by', '24', 'cents', 'a', 'pound', 'to', '$', '1.23', '.', '•', 'packaged', 'salad', 'by', '23', 'cents', 'a', 'bag', 'to', '$', '2.91', '.', '•', 'peppers', 'by', '26', 'cents', 'a', 'pound', 'to', '$', '2.39', '.', 'though', 'fruits', 'and', 'vegetable', 'prices', 'fell', 'in', 'february', ',', 'overall', 'prices', 'are', 'expected', 'to', 'rise', 'this', 'year', ',', 'because', 'of', 'inflation', ',', 'u.s.', 'department', 'of', 'agriculture', 'economist', 'annemarie', 'kuhns', 'said', '.', 'fresh', 'fruit', 'prices', 'are', 'projected', 'to', 'rise', 'between', '2.5', '%', 'and', '3.5', '%', ',', 'and', 'vegetables', 'between', '2', '%', 'and', '3', '%', ',', 'close', 'to', 'historical', 'average', 'increases', ',', 'kuhns', 'said', '.', 'whether', 'the', 'california', 'drought', 'will', 'affect', 'food', 'prices', 'again', 'this', 'year', 'is', 'unknown', ',', 'thanks', 'to', 'a', 'strong', 'dollar', '.', 'the', 'greenback', \"'s\", 'strength', 'allows', 'producers', 'to', 'import', 'crops', 'that', 'may', 'be', 'withering', 'under', 'the', 'absence', 'of', 'west', 'coast', 'rain', 'or', 'other', 'misfortunes', 'elsewhere', 'in', 'the', 'nation', ',', 'kuhns', 'said', '.', 'moreover', ',', 'the', 'drop', 'in', 'oil', 'prices', 'also', 'eases', 'the', 'cost', 'of', 'transporting', 'food', 'from', 'california', 'to', 'the', 'other', '49', 'states', ',', 'she', 'said', '.', 'what', 'economists', 'do', \"n't\", 'know', 'yet', 'is', 'whether', 'farmers', 'will', 'plant', 'fewer', 'crops', 'because', 'of', 'the', 'drought', '.', 'those', 'decisions', 'are', 'now', 'being', 'made', 'in', 'the', 'field', 'and', 'could', 'boost', 'supermarket', 'prices', ',', 'she', 'said']\n",
            "PRED 0: <t> one expert predicts consumers would pay more than a third of its vegetables . </t> <t> it 's a <unk> to the nation , growing over the rest of the union , says <unk> . </t>\n",
            "PRED SCORE: -6.0522\n",
            "GOLD 0: <t> americans paid more for some fruits and vegetables last year because of the drought . </t> <t> tourists will now have to ask for a glass of water at a california restaurant . </t> <t> perhaps the only good thing is another `` great '' wine grape harvest last year . </t>\n",
            "GOLD SCORE: -214.2818\n",
            "\n",
            "\n",
            "SENT 0: ['-lrb-', 'cnn', '-rrb-', 'as', 'goes', 'walmart', ',', 'so', 'goes', 'the', 'nation', '?', 'everyone', 'from', 'apple', 'ceo', 'tim', 'cook', 'to', 'the', 'head', 'of', 'the', 'ncaa', 'slammed', 'religious', 'freedom', 'laws', 'being', 'considered', 'in', 'several', 'states', 'this', 'week', ',', 'warning', 'that', 'they', 'would', 'open', 'the', 'door', 'to', 'discrimination', 'against', 'gay', 'and', 'lesbian', 'customers', '.', 'but', 'it', 'was', 'the', 'opposition', 'from', 'walmart', ',', 'the', 'ubiquitous', 'retailer', 'that', 'dots', 'the', 'american', 'landscape', ',', 'that', 'perhaps', 'resonated', 'most', 'deeply', ',', 'providing', 'the', 'latest', 'evidence', 'of', 'growing', 'support', 'for', 'gay', 'rights', 'in', 'the', 'heartland', '.', 'walmart', \"'s\", 'staunch', 'criticism', 'of', 'a', 'religious', 'freedom', 'law', 'in', 'its', 'home', 'state', 'of', 'arkansas', 'came', 'after', 'the', 'company', 'said', 'in', 'february', 'it', 'would', 'boost', 'pay', 'for', 'about', '500,000', 'workers', 'well', 'above', 'the', 'federal', 'minimum', 'wage', '.', 'taken', 'together', ',', 'the', 'company', 'is', 'emerging', 'as', 'a', 'bellwether', 'for', 'shifting', 'public', 'opinion', 'on', 'hot-button', 'political', 'issues', 'that', 'divide', 'conservatives', 'and', 'liberals', '.', 'and', 'some', 'prominent', 'republicans', 'are', 'urging', 'the', 'party', 'to', 'take', 'notice', '.', 'former', 'minnesota', 'gov.', 'tim', 'pawlenty', ',', 'who', 'famously', 'called', 'on', 'the', 'gop', 'to', '``', 'be', 'the', 'party', 'of', 'sam', \"'s\", 'club', ',', 'not', 'just', 'the', 'country', 'club', ',', \"''\", 'told', 'cnn', 'that', 'walmart', \"'s\", 'actions', '``', 'foreshadow', 'where', 'the', 'republican', 'party', 'will', 'need', 'to', 'move', '.', \"''\", '``', 'the', 'republican', 'party', 'will', 'have', 'to', 'better', 'stand', 'for', \"''\", 'ideas', 'on', 'helping', 'the', 'middle', 'class', ',', 'said', 'pawlenty', ',', 'the', 'head', 'of', 'the', 'financial', 'services', 'roundtable', ',', 'a', 'washington', 'lobbying', 'group', 'for', 'the', 'finance', 'industry', '.', 'the', 'party', \"'s\", 'leaders', 'must', 'be', '``', 'willing', 'to', 'put', 'forward', 'ideas', 'that', 'will', 'help', 'modest', 'income', 'workers', ',', 'such', 'as', 'a', 'reasonable', 'increase', 'in', 'the', 'minimum', 'wage', ',', 'and', 'prohibit', 'discrimination', 'in', 'things', 'such', 'as', 'jobs', ',', 'housing', ',', 'public', 'accommodation', 'against', 'gays', 'and', 'lesbians', '.', \"''\", 'walmart', ',', 'which', 'employs', 'more', 'than', '50,000', 'people', 'in', 'arkansas', ',', 'emerged', 'victorious', 'on', 'wednesday', '.', 'hours', 'after', 'the', 'company', \"'s\", 'ceo', ',', 'doug', 'mcmillon', ',', 'called', 'on', 'republican', 'gov.', 'asa', 'hutchinson', 'to', 'veto', 'the', 'bill', ',', 'the', 'governor', 'held', 'a', 'news', 'conference', 'and', 'announced', 'he', 'would', 'not', 'sign', 'the', 'legislation', 'unless', 'its', 'language', 'was', 'fixed', '.', 'walmart', \"'s\", 'opposition', 'to', 'the', 'religious', 'freedom', 'law', 'once', 'again', 'puts', 'the', 'company', 'at', 'odds', 'with', 'many', 'in', 'the', 'republican', 'party', ',', 'which', 'the', 'company', \"'s\", 'political', 'action', 'committee', 'has', 'tended', 'to', 'support', '.', 'in', '2004', ',', 'the', 'walmart', 'pac', 'gave', 'around', '$', '2', 'million', 'to', 'republicans', 'versus', 'less']\n",
            "PRED 0: <t> new : `` the republican party will need to put forward ideas that will help the middle class , '' the governor 's spokesman says . </t> <t> the company says it is the party of sam 's side , not just the country club . </t>\n",
            "PRED SCORE: -6.6288\n",
            "GOLD 0: <t> while republican gov. asa hutchinson was weighing an arkansas religious freedom bill , walmart voiced its opposition . </t> <t> walmart and other high-profile businesses are showing their support for gay and lesbian rights . </t> <t> their stance puts them in conflict with socially conservative republicans , traditionally seen as allies . </t>\n",
            "GOLD SCORE: -274.4702\n",
            "\n",
            "\n",
            "SENT 0: ['-lrb-', 'cnn', '-rrb-', 'five', 'americans', 'who', 'were', 'monitored', 'for', 'three', 'weeks', 'at', 'an', 'omaha', ',', 'nebraska', ',', 'hospital', 'after', 'being', 'exposed', 'to', 'ebola', 'in', 'west', 'africa', 'have', 'been', 'released', ',', 'a', 'nebraska', 'medicine', 'spokesman', 'said', 'in', 'an', 'email', 'wednesday', '.', 'one', 'of', 'the', 'five', 'had', 'a', 'heart-related', 'issue', 'on', 'saturday', 'and', 'has', 'been', 'discharged', 'but', 'has', \"n't\", 'left', 'the', 'area', ',', 'taylor', 'wilson', 'wrote', '.', 'the', 'others', 'have', 'already', 'gone', 'home', '.', 'they', 'were', 'exposed', 'to', 'ebola', 'in', 'sierra', 'leone', 'in', 'march', ',', 'but', 'none', 'developed', 'the', 'deadly', 'virus', '.', 'they', 'are', 'clinicians', 'for', 'partners', 'in', 'health', ',', 'a', 'boston-based', 'aid', 'group', '.', 'they', 'all', 'had', 'contact', 'with', 'a', 'colleague', 'who', 'was', 'diagnosed', 'with', 'the', 'disease', 'and', 'is', 'being', 'treated', 'at', 'the', 'national', 'institutes', 'of', 'health', 'in', 'bethesda', ',', 'maryland', '.', 'as', 'of', 'monday', ',', 'that', 'health', 'care', 'worker', 'is', 'in', 'fair', 'condition', '.', 'the', 'centers', 'for', 'disease', 'control', 'and', 'prevention', 'in', 'atlanta', 'has', 'said', 'the', 'last', 'of', '17', 'patients', 'who', 'were', 'being', 'monitored', 'are', 'expected', 'to', 'be', 'released', 'by', 'thursday', '.', 'more', 'than', '10,000', 'people', 'have', 'died', 'in', 'a', 'west', 'african', 'epidemic', 'of', 'ebola', 'that', 'dates', 'to', 'december', '2013', ',', 'according', 'to', 'the', 'world', 'health', 'organization', '.', 'almost', 'all', 'the', 'deaths', 'have', 'been', 'in', 'guinea', ',', 'liberia', 'and', 'sierra', 'leone', '.', 'ebola', 'is', 'spread', 'by', 'direct', 'contact', 'with', 'the', 'bodily', 'fluids', 'of', 'an', 'infected', 'person', '.']\n",
            "PRED 0: <t> more than 10,000 people have died in guinea , liberia and sierra leone . </t> <t> they were exposed to ebola in sierra leone in march , but none developed the deadly virus . </t>\n",
            "PRED SCORE: -3.6625\n",
            "GOLD 0: <t> 17 americans were exposed to the ebola virus while in sierra leone in march . </t> <t> another person was diagnosed with the disease and taken to hospital in maryland . </t> <t> national institutes of health says the patient is in fair condition after weeks of treatment . </t>\n",
            "GOLD SCORE: -114.9825\n",
            "\n",
            "\n",
            "SENT 0: ['-lrb-', 'cnn', '-rrb-', 'andrew', 'getty', ',', 'one', 'of', 'the', 'heirs', 'to', 'billions', 'of', 'oil', 'money', ',', 'appears', 'to', 'have', 'died', 'of', 'natural', 'causes', ',', 'a', 'los', 'angeles', 'police', 'department', 'spokesman', 'said', '.', 'the', 'coroner', \"'s\", 'preliminary', 'assessment', 'is', 'there', 'was', 'no', 'foul', 'play', 'involved', 'in', 'the', 'death', 'of', 'getty', ',', 'grandson', 'of', 'oil', 'tycoon', 'j.', 'paul', 'getty', ',', 'said', 'detective', 'meghan', 'aguilar', '.', 'andrew', 'getty', ',', '47', ',', 'had', '``', 'several', 'health', 'issues', ',', \"''\", 'aguilar', 'said', ',', 'adding', 'that', 'an', 'autopsy', 'will', 'be', 'conducted', '.', 'there', 'is', 'no', 'criminal', 'investigation', 'underway', ',', 'he', 'said', '.', 'some', 'medication', 'had', 'also', 'been', 'recovered', 'from', 'getty', \"'s\", 'home', ',', 'though', 'investigators', 'do', \"n't\", 'know', 'whether', 'getty', 'was', 'taking', 'it', 'or', 'what', 'his', 'medical', 'history', 'was', ',', 'ed', 'winter', ',', 'assistant', 'chief', 'in', 'the', 'los', 'angeles', 'county', 'coroner', \"'s\", 'office', ',', 'told', 'cnn', 'affiliate', 'ktla', 'tuesday', 'night', '.', 'ktla', 'reported', 'that', 'getty', 'was', 'found', 'on', 'his', 'side', 'near', 'a', 'bathroom', 'in', 'his', 'home', '.', 'getty', \"'s\", 'parents', ',', 'ann', 'and', 'gordon', 'getty', ',', 'released', 'a', 'statement', 'confirming', 'their', 'son', \"'s\", 'death', 'and', 'asking', 'for', 'privacy', '.', 'where', 'the', 'getty', 'family', 'fortune', 'came', 'from', '.', 'gordon', 'getty', 'is', 'one', 'of', 'three', 'living', 'sons', 'of', 'j.', 'paul', 'getty', ',', 'the', 'oil', 'baron', 'who', 'was', 'thought', 'to', 'be', 'the', 'richest', 'man', 'in', 'the', 'world', 'at', 'the', 'time', 'of', 'his', 'death', 'in', '1976', '.', 'gordon', 'getty', ',', '81', ',', 'has', 'a', 'net', 'worth', 'of', '$', '2.1', 'billion', ',', 'according', 'to', 'forbes', '.', 'one', 'other', 'son', 'died', 'in', '1958', 'and', 'another', 'died', 'in', '1973', '.', 'gordon', 'getty', 'spearheaded', 'the', 'controversial', 'sale', 'of', 'getty', 'to', 'texaco', 'for', '$', '10', 'billion', 'in', '1984', '.', 'in', 'its', 'list', 'of', 'richest', 'american', 'families', ',', 'forbes', 'estimated', 'the', 'gettys', \"'\", 'net', 'worth', 'to', 'be', 'about', '$', '5', 'billion', '.', 'court', 'records', 'show', 'andrew', 'getty', 'had', 'recently', 'filed', 'to', 'get', 'a', 'restraining', 'order', 'against', 'an', 'ex-girlfriend', '.', 'a', 'hearing', 'in', 'the', 'case', 'had', 'been', 'scheduled', 'for', 'next', 'week', '.', 'in', 'his', 'request', ',', 'getty', 'said', 'he', 'had', 'been', 'diagnosed', 'with', 'a', 'serious', 'medical', 'condition', 'in', '2013', '.', '``', 'a', 'rise', 'in', 'my', 'blood', 'pressure', 'places', 'me', 'in', 'grave', 'risk', 'of', 'substantial', 'and', 'irreparable', 'injury', 'or', 'death', ',', \"''\", 'he', 'wrote', 'in', 'the', 'petition', '.', '``', 'my', 'doctors', 'have', 'advised', 'that', 'heated', 'arguments', 'can', 'cause', 'my', 'blood', 'pressure', 'to', 'rise', 'dangerously', '.', \"''\", 'andrew', 'getty', 'had', 'three', 'brothers', 'and', 'three', 'half-sisters', '.', 'people', 'we', \"'ve\"]\n",
            "PRED 0: <t> new : police chief says he has `` several health issues '' </t> <t> he was found on his side near a bathroom in his home . </t> <t> investigators do n't know whether he was taking it or what his medical history was , ed winter , texas coroner 's office told cnn affiliate on a statement that he had been diagnosed with a serious medical condition in 2013 , but did n't know whether he died of natural causes , a los angeles police department spokesman says . .\n",
            "PRED SCORE: -9.6686\n",
            "GOLD 0: <t> andrew getty 's death appears to be from natural causes , police say , citing coroner 's early assessment . </t> <t> in a petition for a restraining order , getty had written he had a serious medical condition . </t> <t> police say this is not a criminal matter at this time . </t>\n",
            "GOLD SCORE: -200.7768\n",
            "\n",
            "\n",
            "SENT 0: ['-lrb-', 'cnn', '-rrb-', 'a', 'year', 'ago', 'bloomberg', 'published', 'a', 'story', 'with', 'the', 'following', 'headline', ':', 'mike', 'pence', ',', 'a', 'koch', 'favorite', ',', 'mulls', '2016', 'run', 'for', 'president', '.', 'the', 'story', 'ticked', 'off', 'items', 'on', 'pence', \"'s\", 'conservative', 'things-to-do', 'list', 'while', 'also', 'noting', 'his', 'close', 'ties', 'to', 'the', 'deep-pocketed', 'koch', 'brothers', ',', 'as', 'well', 'as', 'other', 'right-wing', 'lobbying', 'groups', '.', 'last', 'august', 'the', 'indiana', 'governor', 'was', 'in', 'dallas', 'for', 'an', 'americans', 'for', 'prosperity', 'event', ';', 'the', 'group', 'is', 'backed', 'by', 'the', 'conservative', 'koch', 'brothers', ',', 'and', 'supported', 'gov.', 'pence', \"'s\", 'tax-slashing', 'budget', '.', 'now', ',', 'pence', 'is', 'drawing', 'huge', 'heat', 'for', 'his', 'controversial', 'decision', 'to', 'sign', 'a', 'religious', 'freedom', 'law', 'last', 'week', 'that', 'opens', 'the', 'door', 'to', 'discrimination', 'against', 'gays', 'and', 'lesbians', '.', 'why', 'would', 'pence', 'ignore', 'the', 'pleas', 'of', 'indiana', \"'s\", 'chamber', 'of', 'commerce', 'as', 'well', 'as', 'the', 'republican', 'mayor', 'of', 'his', 'state', 'capital', 'and', 'sign', 'such', 'a', 'bill', '?', 'because', 'there', \"'s\", 'a', 'very', 'powerful', 'wing', 'of', 'his', 'party', 'that', 'wants', 'a', 'conservative', 'as', 'its', '2016', 'candidate', 'and', 'this', 'bill', 'was', 'pence', \"'s\", 'way', 'of', 'shoring', 'up', 'his', 'street', 'cred', '.', 'it', 'is', 'also', 'the', 'reason', 'why', 'republican', 'jeb', 'bush', ',', 'pence', \"'s\", 'fellow', 'white', 'house', 'hopeful', ',', 'who', 'is', 'viewed', 'as', 'a', 'little', 'light', 'in', 'that', 'category', ',', 'was', 'first', 'to', 'rush', 'in', 'to', 'defend', 'pence', 'and', 'the', 'law', '.', 'one', 'lesson', 'here', ':', 'just', 'because', 'more', 'than', '70', '%', 'of', 'the', 'country', 'now', 'lives', 'in', 'states', 'where', 'same-sex', 'marriage', 'is', 'legal', 'does', 'not', 'mean', '70', '%', 'of', 'the', 'country', 'is', 'happy', 'about', 'it', '.', 'backlash', 'aside', ',', 'the', 'fact', 'is', 'pence', 'has', 'scored', 'a', 'lot', 'of', 'points', 'this', 'week', 'among', 'ultraconservatives', '.', 'and', 'while', 'that', 'may', 'not', 'be', 'enough', 'to', 'get', 'him', 'over', 'this', 'political', 'hump', ',', 'the', 'very', 'public', 'debate', 'that', 'now', 'embroils', 'him', '--', 'and', 'arkansas', 'gov.', 'asa', 'hutchinson', ',', 'and', 'likely', '14', 'other', 'states', 'considering', 'similar', 'proposals', 'this', 'year', '--', 'is', 'more', 'than', 'enough', 'to', 'drag', 'the', 'entire', 'republican', 'field', 'farther', 'to', 'the', 'right', 'than', 'the', 'party', 'had', 'hoped', '.', 'pence', ':', '`', 'was', 'i', 'expecting', 'this', 'kind', 'of', 'backlash', '?', 'heavens', 'no', '.', \"'\", 'for', 'there', 'is', 'no', 'way', 'a', 'republican', 'can', 'get', 'through', 'the', 'pending', 'primary', 'without', 'denouncing', 'lgbt', 'rights', ',', 'which', 'unfortunately', 'will', 'turn', 'numerous', 'americans', 'into', 'single-issue', 'voters', '.', 'i', 'foolishly', 'hoped', 'the', 'issue', 'of', 'lgbt', 'rights', 'would', 'be', 'a', 'bit', 'player', 'in', 'the', '2016', 'general', 'election', ',', 'overshadowed', 'by']\n",
            "PRED 0: <t> new : `` it 's a very powerful wing of his party , '' he says . </t> <t> `` i 'm not going to get him over this , '' says one congressman . </t>\n",
            "PRED SCORE: -7.5201\n",
            "GOLD 0: <t> lz : indiana law pushing back lgbt rights , and other states ' <unk> moves , bow to far right wing that gop candidates need for 2016 . </t> <t> cruz , huckabee , jindal , carson , walker are reviving culture wars , he says . equality for lgbt has not yet `` won '' in america . </t>\n",
            "GOLD SCORE: -315.7840\n",
            "\n",
            "\n",
            "SENT 0: ['-lrb-', 'cnn', '-rrb-', 'filipinos', 'are', 'being', 'warned', 'to', 'be', 'on', 'guard', 'for', 'flash', 'floods', 'and', 'landslides', 'as', 'tropical', 'storm', 'maysak', 'approached', 'the', 'asian', 'island', 'nation', 'saturday', '.', 'just', 'a', 'few', 'days', 'ago', ',', 'maysak', 'gained', 'super', 'typhoon', 'status', 'thanks', 'to', 'its', 'sustained', '150', 'mph', 'winds', '.', 'it', 'has', 'since', 'lost', 'a', 'lot', 'of', 'steam', 'as', 'it', 'has', 'spun', 'west', 'in', 'the', 'pacific', 'ocean', '.', 'it', \"'s\", 'now', 'classified', 'as', 'a', 'tropical', 'storm', ',', 'according', 'to', 'the', 'philippine', 'national', 'weather', 'service', ',', 'which', 'calls', 'it', 'a', 'different', 'name', ',', 'chedeng', '.', 'it', 'boasts', 'steady', 'winds', 'of', 'more', 'than', '70', 'mph', '-lrb-', '115', 'kph', '-rrb-', 'and', 'gusts', 'up', 'to', '90', 'mph', 'as', 'of', '5', 'p.m.', '-lrb-', '5', 'a.m.', 'et', '-rrb-', 'saturday', '.', 'still', ',', 'that', 'does', \"n't\", 'mean', 'maysak', 'wo', \"n't\", 'pack', 'a', 'wallop', '.', 'authorities', 'took', 'preemptive', 'steps', 'to', 'keep', 'people', 'safe', 'such', 'as', 'barring', 'outdoor', 'activities', 'like', 'swimming', ',', 'surfing', ',', 'diving', 'and', 'boating', 'in', 'some', 'locales', ',', 'as', 'well', 'as', 'a', 'number', 'of', 'precautionary', 'evacuations', '.', 'gabriel', 'llave', ',', 'a', 'disaster', 'official', ',', 'told', 'pna', 'that', 'tourists', 'who', 'arrive', 'saturday', 'in', 'and', 'around', 'the', 'coastal', 'town', 'of', 'aurora', '``', 'will', 'not', 'be', 'accepted', 'by', 'the', 'owners', 'of', 'hotels', ',', 'resorts', ',', 'inns', 'and', 'the', 'like', '...', 'and', 'will', 'be', 'advised', 'to', 'return', 'to', 'their', 'respective', 'places', '.', \"''\", 'aldczar', 'aurelio', ',', 'a', 'meteorologist', 'with', 'the', 'philippine', 'atmospheric', ',', 'geophysical', 'and', 'astronomical', 'services', 'administration', '-lrb-', 'pagasa', '-rrb-', ',', 'said', 'the', 'storm', 'was', 'centered', '200', 'miles', 'southwest', 'of', 'aurora', 'province', 'as', 'of', '5', 'p.m.', '-lrb-', '5', 'a.m.', 'et', '-rrb-', 'and', 'heading', 'west', 'at', 'a', '12.5', 'mph', 'clip', '.', 'it', \"'s\", 'expected', 'to', 'make', 'landfall', 'sunday', 'morning', 'on', 'the', 'southeastern', 'coast', 'of', 'isabela', 'province', 'and', 'be', 'out', 'of', 'the', 'philippines', 'by', 'monday', '.', 'ahead', 'of', 'the', 'storm', '.', 'isabela', 'gov.', 'faustino', 'dry', 'iii', 'warned', 'saturday', 'that', 'residents', 'should', 'act', 'as', 'if', 'this', 'will', 'be', '``', 'no', 'ordinary', 'typhoon', '.', \"''\", 'dry', 'told', 'pna', ',', '``', 'we', 'do', 'not', 'know', 'what', 'the', 'impact', 'will', 'be', 'once', 'it', 'will', 'make', 'landfall', '.', \"''\"]\n",
            "PRED 0: <t> new : `` we do not know what the impact will be once it will make landfall , '' <unk> says . </t> <t> the storm was centered 200 miles southwest of anchorage province . </t>\n",
            "PRED SCORE: -4.9915\n",
            "GOLD 0: <t> once a super typhoon , <unk> is now a tropical storm with 70 mph winds . </t> <t> it could still cause flooding , landslides and other problems in the philippines . </t>\n",
            "GOLD SCORE: -109.7798\n",
            "\n",
            "\n",
            "SENT 0: ['norfolk', ',', 'virginia', '-lrb-', 'cnn', '-rrb-', 'the', 'second', 'mate', 'of', 'the', 'houston', 'express', 'probably', 'could', \"n't\", 'believe', 'what', 'he', 'was', 'seeing', '.', 'hundreds', 'of', 'miles', 'from', 'land', 'there', 'was', 'a', 'small', 'boat', 'nearby', '.', 'at', 'first', 'it', 'looked', 'abandoned', '.', 'it', 'was', 'in', 'bad', 'shape', ',', 'listing', 'to', 'one', 'side', '.', 'the', 'crew', 'of', 'the', '1,000-foot', 'long', 'container', 'ship', 'thought', 'it', 'was', 'a', 'yacht', 'that', 'had', 'wrecked', '.', 'incredibly', ',', 'as', 'they', 'got', 'closer', ',', 'they', 'saw', 'there', 'was', 'a', 'man', 'on', 'it', ',', 'signaling', 'for', 'help', '.', '``', 'he', 'was', 'moving', ',', 'walking', 'around', ',', 'waving', 'to', 'us', 'and', 'in', 'surprisingly', 'good', 'condition', ',', \"''\", 'capt.', 'thomas', 'grenz', 'told', 'cnn', 'by', 'phone', 'friday', '.', 'that', 'man', ',', 'louis', 'jordan', ',', '37', ',', 'had', 'an', 'amazing', 'story', '.', 'he', \"'d\", 'been', 'drifting', 'on', 'the', '35-foot', 'pearson', 'sailboat', 'for', 'more', 'than', 'two', 'months', 'since', 'leaving', 'conway', ',', 'south', 'carolina', ',', 'to', 'fish', 'in', 'the', 'ocean', '.', 'just', 'a', 'few', 'days', 'into', 'his', 'trip', ',', 'a', 'storm', 'capsized', 'his', 'boat', 'and', 'broke', 'his', 'mast', '.', 'one', 'of', 'his', 'shoulders', 'was', 'broken', ',', 'too', ',', 'so', 'he', 'could', \"n't\", 'fix', 'the', 'boat', 'right', 'away', '.', 'eventually', 'he', 'was', 'able', 'to', 'rig', 'a', 'makeshift', 'mast', 'and', 'sail', ',', 'but', 'he', 'could', 'make', 'little', 'headway', 'against', 'the', 'currents', '.', '``', 'it', 'took', 'so', 'long', ',', \"''\", 'jordan', 'said', '.', '``', 'it', 'moved', 'so', 'slowly', '.', \"''\", 'the', 'boat', 'capsized', 'two', 'more', 'times', 'before', 'he', 'was', 'rescued', ',', 'according', 'to', 'jordan', '.', 'his', 'father', ',', 'frank', 'jordan', ',', 'told', 'cnn', \"'s\", 'jim', 'sciutto', 'that', 'he', 'was', 'expecting', 'his', 'son', 'to', 'look', 'different', '.', '``', 'he', 'looked', 'good', '.', 'had', \"n't\", 'lost', 'too', 'much', 'weight', '.', 'he', 'was', \"n't\", 'badly', 'sunburned', 'like', 'i', 'thought', 'he', 'probably', 'would', 'be', ',', \"''\", 'he', 'said', '.', 'lost', 'at', 'sea', 'for', '66', 'days', '.', 'after', 'his', 'food', 'and', 'water', 'ran', 'out', ',', 'it', 'became', 'an', 'issue', 'of', 'survival', '.', 'collecting', 'fresh', 'water', 'was', 'a', 'nightmare', 'for', 'jordan', '.', 'the', 'weather', 'would', \"n't\", 'cooperate', '.', 'records', 'show', 'there', 'were', 'more', 'than', 'a', 'dozen', 'storms', 'off', 'the', 'coast', 'of', 'the', 'carolinas', 'during', 'the', 'time', 'he', 'was', 'missing', '.', 'the', 'precipitation', 'came', 'at', 'night', 'during', 'harsh', 'conditions', '.', '``', 'i', 'had', 'tried', 'to', 'collect', '-lrb-', 'rain', '-rrb-', 'water', '...', 'but', 'every', 'time', 'the', 'waves', 'would', 'splash', 'into', 'the', 'boat', ',', \"''\", 'jordan', 'said', '.', '``', 'the', 'waves', 'would', 'put', 'saltwater', 'into', 'my', 'freshwater', 'and']\n",
            "PRED 0: <t> new : the crew of the <unk> long cargo ship thought it was a yacht . </t> <t> the boat capsized two more times before he was rescued , the coast says . </t>\n",
            "PRED SCORE: -5.6621\n",
            "GOLD 0: <t> father : `` i know he went through what he went through '' </t> <t> louis jordan was found on his sailboat , which was listing and in bad shape , rescuer says . </t> <t> he appears to be in good shape , physically and mentally . </t>\n",
            "GOLD SCORE: -190.8841\n",
            "\n",
            "\n",
            "SENT 0: ['-lrb-', 'cnn', '-rrb-', 'paul', 'walker', 'is', 'hardly', 'the', 'first', 'actor', 'to', 'die', 'during', 'a', 'production', '.', 'but', 'walker', \"'s\", 'death', 'in', 'november', '2013', 'at', 'the', 'age', 'of', '40', 'after', 'a', 'car', 'crash', 'was', 'especially', 'eerie', 'given', 'his', 'rise', 'to', 'fame', 'in', 'the', '``', 'fast', 'and', 'furious', \"''\", 'film', 'franchise', '.', 'the', 'release', 'of', '``', 'furious', '7', \"''\", 'on', 'friday', 'offers', 'the', 'opportunity', 'for', 'fans', 'to', 'remember', '--', 'and', 'possibly', 'grieve', 'again', '--', 'the', 'man', 'that', 'so', 'many', 'have', 'praised', 'as', 'one', 'of', 'the', 'nicest', 'guys', 'in', 'hollywood', '.', '``', 'he', 'was', 'a', 'person', 'of', 'humility', ',', 'integrity', ',', 'and', 'compassion', ',', \"''\", 'military', 'veteran', 'kyle', 'upham', 'said', 'in', 'an', 'email', 'to', 'cnn', '.', 'walker', 'secretly', 'paid', 'for', 'the', 'engagement', 'ring', 'upham', 'shopped', 'for', 'with', 'his', 'bride', '.', '``', 'we', 'did', \"n't\", 'know', 'him', 'personally', 'but', 'this', 'was', 'apparent', 'in', 'the', 'short', 'time', 'we', 'spent', 'with', 'him', '.', 'i', 'know', 'that', 'we', 'will', 'never', 'forget', 'him', 'and', 'he', 'will', 'always', 'be', 'someone', 'very', 'special', 'to', 'us', ',', \"''\", 'said', 'upham', '.', 'the', 'actor', 'was', 'on', 'break', 'from', 'filming', '``', 'furious', '7', \"''\", 'at', 'the', 'time', 'of', 'the', 'fiery', 'accident', ',', 'which', 'also', 'claimed', 'the', 'life', 'of', 'the', 'car', \"'s\", 'driver', ',', 'roger', 'rodas', '.', 'producers', 'said', 'early', 'on', 'that', 'they', 'would', 'not', 'kill', 'off', 'walker', \"'s\", 'character', ',', 'brian', \"o'connor\", ',', 'a', 'former', 'cop', 'turned', 'road', 'racer', '.', 'instead', ',', 'the', 'script', 'was', 'rewritten', 'and', 'special', 'effects', 'were', 'used', 'to', 'finish', 'scenes', ',', 'with', 'walker', \"'s\", 'brothers', ',', 'cody', 'and', 'caleb', ',', 'serving', 'as', 'body', 'doubles', '.', 'there', 'are', 'scenes', 'that', 'will', 'resonate', 'with', 'the', 'audience', '--', 'including', 'the', 'ending', ',', 'in', 'which', 'the', 'filmmakers', 'figured', 'out', 'a', 'touching', 'way', 'to', 'pay', 'tribute', 'to', 'walker', 'while', '``', 'retiring', \"''\", 'his', 'character', '.', 'at', 'the', 'premiere', 'wednesday', 'night', 'in', 'hollywood', ',', 'walker', \"'s\", 'co-star', 'and', 'close', 'friend', 'vin', 'diesel', 'gave', 'a', 'tearful', 'speech', 'before', 'the', 'screening', ',', 'saying', '``', 'this', 'movie', 'is', 'more', 'than', 'a', 'movie', '.', \"''\", '``', 'you', \"'ll\", 'feel', 'it', 'when', 'you', 'see', 'it', ',', \"''\", 'diesel', 'said', '.', '``', 'there', \"'s\", 'something', 'emotional', 'that', 'happens', 'to', 'you', ',', 'where', 'you', 'walk', 'out', 'of', 'this', 'movie', 'and', 'you', 'appreciate', 'everyone', 'you', 'love', 'because', 'you', 'just', 'never', 'know', 'when', 'the', 'last', 'day', 'is', 'you', \"'re\", 'gon', 'na', 'see', 'them', '.', \"''\", 'there', 'have', 'been', 'multiple', 'tributes', 'to', 'walker', 'leading', 'up', 'to', 'the', 'release', '.', 'diesel', 'revealed', 'in', 'an', 'interview', 'with']\n",
            "PRED 0: <t> paul walker 's death in november 2013 at the age of 40 after a car crash . </t> <t> the actor was on break from filming `` furious 7 '' at the time of the crash . </t>\n",
            "PRED SCORE: -3.3901\n",
            "GOLD 0: <t> `` furious 7 '' pays tribute to star paul walker , who died during filming . </t> <t> vin diesel : `` this movie is more than a movie '' </t> <t> `` furious 7 '' opens friday . </t>\n",
            "GOLD SCORE: -101.4513\n",
            "\n"
          ],
          "name": "stdout"
        }
      ]
    },
    {
      "cell_type": "markdown",
      "metadata": {
        "id": "_ddSNyRKVZDi"
      },
      "source": [
        "Sin embargo estas no son muy legibles como pueden ver previamente, así que utilizaremos también una función propia en donde seleccionaremos al azar uno de estos ejemplos y la miraremos en más detalle."
      ]
    },
    {
      "cell_type": "code",
      "metadata": {
        "colab": {
          "base_uri": "https://localhost:8080/"
        },
        "id": "-yl-Xc-WWDYw",
        "outputId": "199e75d6-81eb-4327-f719-77da2ed3886c"
      },
      "source": [
        "random_translation = random.choice(translations)\n",
        "display_translation(random_translation)"
      ],
      "execution_count": null,
      "outputs": [
        {
          "output_type": "stream",
          "text": [
            "\u001b[1mSource Text:\u001b[0m\n",
            "-lrb- cnn -rrb- never mind cats having nine lives . a stray pooch in\n",
            "washington state has used up at least three of her own after being hit\n",
            "by a car , apparently whacked on the head with a hammer in a misguided\n",
            "mercy killing and then buried in a field -- only to survive . that 's\n",
            "according to washington state university , where the dog -- a friendly\n",
            "white-and-black bully breed mix now named theia -- has been receiving\n",
            "care at the veterinary teaching hospital . four days after her\n",
            "apparent death , the dog managed to stagger to a nearby farm , dirt-\n",
            "covered and emaciated , where she was found by a worker who took her\n",
            "to a vet for help . she was taken in by moses lake , washington ,\n",
            "resident sara mellado . `` considering everything that she 's been\n",
            "through , she 's incredibly gentle and loving , '' mellado said ,\n",
            "according to wsu news . `` she 's a true miracle dog and she deserves\n",
            "a good life . '' theia is only one year old but the dog 's brush with\n",
            "death did not leave her unscathed . she suffered a dislocated jaw ,\n",
            "leg injuries and a caved-in sinus cavity -- and still requires surgery\n",
            "to help her breathe . the veterinary hospital 's good samaritan fund\n",
            "committee awarded some money to help pay for the dog 's treatment ,\n",
            "but mellado has set up a fundraising page to help meet the remaining\n",
            "cost of the dog 's care . she 's also created a facebook page to keep\n",
            "supporters updated . donors have already surpassed the $ 10,000 target\n",
            ", inspired by theia 's tale of survival against the odds . on the\n",
            "fundraising page , mellado writes , `` she is in desperate need of\n",
            "extensive medical procedures to fix her nasal damage and reset her jaw\n",
            ". i agreed to foster her until she finally found a loving home . ''\n",
            "she is dedicated to making sure theia gets the medical attention she\n",
            "needs , mellado adds , and wants to `` make sure she gets placed in a\n",
            "family where this will never happen to her again ! '' any additional\n",
            "funds raised will be `` paid forward '' to help other animals . theia\n",
            "is not the only animal to apparently rise from the\n",
            "\n",
            "\u001b[1mGold Standard Summarization:\u001b[0m\n",
            "<unk> , a bully breed mix , was apparently hit by a car , whacked with\n",
            "a hammer and buried in a field .  `` she 's a true miracle dog and she\n",
            "deserves a good life , '' says sara <unk> , who is looking for a home\n",
            "for <unk> .\n",
            "\n",
            "\u001b[1mPredicted Summarization:\u001b[0m\n",
            "the dog was hit by a car on the head with a hammer in <unk> ,\n",
            "washington state .  she was found by a worker who took her to a vet\n",
            "for help .\n",
            "\n"
          ],
          "name": "stdout"
        }
      ]
    },
    {
      "cell_type": "markdown",
      "metadata": {
        "id": "D3tKPzA9Jbm7"
      },
      "source": [
        "#### Evaluación cuantitativa\n",
        "\n",
        "Ya habiendo visto ejemplos de las predicciones que genera nuestro modelo, podemos calcular también una métrica de rendimiento basada en ROUGE.\n",
        "\n",
        "Primero calculemos cuanto es el ROUGE para el ejemplo particular visto previamente."
      ]
    },
    {
      "cell_type": "code",
      "metadata": {
        "colab": {
          "base_uri": "https://localhost:8080/"
        },
        "id": "IR0TrzjyVcDk",
        "outputId": "6c5a970e-24e3-4e3d-8d1a-7ff3f2a1d555"
      },
      "source": [
        "src, tgt, preds = translation2texts(random_translation)\n",
        "scorer = rouge_scorer.RougeScorer(['rouge1', 'rouge2', 'rougeLsum'], use_stemmer=False)\n",
        "scores = scorer.score(tgt, preds[0])\n",
        "for score_type in scores:\n",
        "    score = scores[score_type].fmeasure\n",
        "    print(f'{score_type:10.10s}: {score:.4f}')"
      ],
      "execution_count": null,
      "outputs": [
        {
          "output_type": "stream",
          "text": [
            "rouge1    : 0.4324\n",
            "rouge2    : 0.1389\n",
            "rougeLsum : 0.4324\n"
          ],
          "name": "stdout"
        }
      ]
    },
    {
      "cell_type": "markdown",
      "metadata": {
        "id": "KdMLCzpoUYp2"
      },
      "source": [
        "Finalmente calculemos la métrica ROUGE para el set de test. Calcularla toma un buen rato (una hora aproximadamente) por lo que solo utilizaremos el 10% del set de test y así tener una mejor idea de como estea funcionando nuestro generador de resumenes."
      ]
    },
    {
      "cell_type": "code",
      "metadata": {
        "colab": {
          "base_uri": "https://localhost:8080/",
          "height": 103,
          "referenced_widgets": [
            "175d5865a08940c7b145af0171f6fe9b",
            "9d2deafe4d77474e8a6bd24ca2c67e7d",
            "554405b62a9547618fc482939c593dc9",
            "11b3b89b616848438e2b9063875ef7d1",
            "24aa822d06384425bf87005ec4218d66",
            "4c5cab6c87684b6194b802068ed3422d",
            "1bae3dc3832641e18a9e9a1dcb2ee40a",
            "01f1bd7005534dafa04058f7e8a71e4c"
          ]
        },
        "id": "Yh4J8W-qbzam",
        "outputId": "26c3e9cc-b047-4fdc-8269-de7f706a820b"
      },
      "source": [
        "aggregator = BootstrapAggregator()\n",
        "\n",
        "total = len(data_iter)\n",
        "\n",
        "# calcularemos el ROUGE sobre el 10% del set de test solamente, cambiar a 1 para el set completo\n",
        "test_ratio = 0.1\n",
        "stop = int(test_ratio * total)\n",
        "\n",
        "for i, batch in tqdm(enumerate(data_iter), total=min(stop, total)):\n",
        "    if i > stop:\n",
        "        break\n",
        "    trans_batch = translator.translate_batch(\n",
        "        batch=batch, src_vocabs=dataset.src_vocabs,\n",
        "        attn_debug=False)\n",
        "    translations = builder.from_batch(trans_batch)\n",
        "\n",
        "    for translation in translations:\n",
        "        score = translation_score(translation)\n",
        "        aggregator.add_scores(score)\n",
        "\n",
        "result = aggregator.aggregate()\n",
        "\n",
        "for score_type in result:\n",
        "    score = result[score_type].mid.fmeasure\n",
        "    print(f'{score_type:10.10s}: {score:.4f}')"
      ],
      "execution_count": null,
      "outputs": [
        {
          "output_type": "display_data",
          "data": {
            "application/vnd.jupyter.widget-view+json": {
              "model_id": "175d5865a08940c7b145af0171f6fe9b",
              "version_minor": 0,
              "version_major": 2
            },
            "text/plain": [
              "HBox(children=(FloatProgress(value=0.0, max=57.0), HTML(value='')))"
            ]
          },
          "metadata": {
            "tags": []
          }
        },
        {
          "output_type": "stream",
          "text": [
            "rouge1    : 0.2631\n",
            "rouge2    : 0.0846\n",
            "rougeLsum : 0.2379\n"
          ],
          "name": "stdout"
        }
      ]
    },
    {
      "cell_type": "markdown",
      "metadata": {
        "id": "-O1CWc8rLt1n"
      },
      "source": [
        "### Modelo Pointer"
      ]
    },
    {
      "cell_type": "code",
      "metadata": {
        "id": "gs4W1ArEL28X"
      },
      "source": [
        "checkpoint_path = 'checkpoints/ptr_checkpoint.pt'\n",
        "config_path = 'configs/config-cnndm-pointer.yaml'\n",
        "\n",
        "checkpoint, fields, opts = get_checkpoint_data(checkpoint_path)\n",
        "opts, model_opt = update_opts(opts, config_path)"
      ],
      "execution_count": null,
      "outputs": []
    },
    {
      "cell_type": "code",
      "metadata": {
        "id": "HhFB4ixsWkFx"
      },
      "source": [
        "src_val = \"data/cnndm/val.txt.src\"\n",
        "tgt_val = \"data/cnndm/val.txt.tgt.tagged\"\n",
        "src_test = \"data/cnndm/test.txt.src\"\n",
        "tgt_test = \"data/cnndm/test.txt.tgt.tagged\"\n",
        "\n",
        "src = src_test\n",
        "tgt = tgt_test\n",
        "\n",
        "dataset = build_dataset(src, tgt)\n",
        "data_iter = onmt.inputters.OrderedIterator(\n",
        "                dataset=dataset,\n",
        "                device=device,\n",
        "                batch_size=opts.batch_size,\n",
        "                train=False,\n",
        "                sort=False,\n",
        "                sort_within_batch=True,\n",
        "                shuffle=False,\n",
        "            )"
      ],
      "execution_count": null,
      "outputs": []
    },
    {
      "cell_type": "markdown",
      "metadata": {
        "id": "O7z0DJGBWkF4"
      },
      "source": [
        "Debemos crear nuestro modelo en base la configuración que tenemos para nuestro modelo base."
      ]
    },
    {
      "cell_type": "code",
      "metadata": {
        "id": "Ql8PAGE3WkF5"
      },
      "source": [
        "model = build_model(model_opt, opts, fields, checkpoint)\n",
        "model.to(device)\n",
        "\n",
        "translator, scorer, builder =build_translator(opts, model, dataset, fields, tgt)"
      ],
      "execution_count": null,
      "outputs": []
    },
    {
      "cell_type": "markdown",
      "metadata": {
        "id": "BBhZbHUQWkGA"
      },
      "source": [
        "#### Evaluación cualitativa\n",
        "\n",
        "Veamos algunos de los ejemplos abstractivos que produce nuestro modelo. Podemos aprovechar funciones que nos da `OpenNMT` para realizar esta inspección."
      ]
    },
    {
      "cell_type": "code",
      "metadata": {
        "colab": {
          "base_uri": "https://localhost:8080/"
        },
        "id": "iAFG3fclWkGB",
        "outputId": "389bfba0-2b90-4375-e367-1ca148711d61"
      },
      "source": [
        "for batch in data_iter:\n",
        "    trans_batch = translator.translate_batch(\n",
        "        batch=batch, src_vocabs=dataset.src_vocabs,\n",
        "        attn_debug=False)\n",
        "    translations = builder.from_batch(trans_batch)\n",
        "    for trans in translations:\n",
        "        print(trans.log(0))\n",
        "    break"
      ],
      "execution_count": null,
      "outputs": [
        {
          "output_type": "stream",
          "text": [
            "\n",
            "SENT 0: ['marseille', ',', 'france', '-lrb-', 'cnn', '-rrb-', 'the', 'french', 'prosecutor', 'leading', 'an', 'investigation', 'into', 'the', 'crash', 'of', 'germanwings', 'flight', '9525', 'insisted', 'wednesday', 'that', 'he', 'was', 'not', 'aware', 'of', 'any', 'video', 'footage', 'from', 'on', 'board', 'the', 'plane', '.', 'marseille', 'prosecutor', 'brice', 'robin', 'told', 'cnn', 'that', '``', 'so', 'far', 'no', 'videos', 'were', 'used', 'in', 'the', 'crash', 'investigation', '.', \"''\", 'he', 'added', ',', '``', 'a', 'person', 'who', 'has', 'such', 'a', 'video', 'needs', 'to', 'immediately', 'give', 'it', 'to', 'the', 'investigators', '.', \"''\", 'robin', \"'s\", 'comments', 'follow', 'claims', 'by', 'two', 'magazines', ',', 'german', 'daily', 'bild', 'and', 'french', 'paris', 'match', ',', 'of', 'a', 'cell', 'phone', 'video', 'showing', 'the', 'harrowing', 'final', 'seconds', 'from', 'on', 'board', 'germanwings', 'flight', '9525', 'as', 'it', 'crashed', 'into', 'the', 'french', 'alps', '.', 'all', '150', 'on', 'board', 'were', 'killed', '.', 'paris', 'match', 'and', 'bild', 'reported', 'that', 'the', 'video', 'was', 'recovered', 'from', 'a', 'phone', 'at', 'the', 'wreckage', 'site', '.', 'the', 'two', 'publications', 'described', 'the', 'supposed', 'video', ',', 'but', 'did', 'not', 'post', 'it', 'on', 'their', 'websites', '.', 'the', 'publications', 'said', 'that', 'they', 'watched', 'the', 'video', ',', 'which', 'was', 'found', 'by', 'a', 'source', 'close', 'to', 'the', 'investigation', '.', '``', 'one', 'can', 'hear', 'cries', 'of', '`', 'my', 'god', \"'\", 'in', 'several', 'languages', ',', \"''\", 'paris', 'match', 'reported', '.', '``', 'metallic', 'banging', 'can', 'also', 'be', 'heard', 'more', 'than', 'three', 'times', ',', 'perhaps', 'of', 'the', 'pilot', 'trying', 'to', 'open', 'the', 'cockpit', 'door', 'with', 'a', 'heavy', 'object', '.', 'towards', 'the', 'end', ',', 'after', 'a', 'heavy', 'shake', ',', 'stronger', 'than', 'the', 'others', ',', 'the', 'screaming', 'intensifies', '.', 'then', 'nothing', '.', \"''\", '``', 'it', 'is', 'a', 'very', 'disturbing', 'scene', ',', \"''\", 'said', 'julian', 'reichelt', ',', 'editor-in-chief', 'of', 'bild', 'online', '.', 'an', 'official', 'with', 'france', \"'s\", 'accident', 'investigation', 'agency', ',', 'the', 'bea', ',', 'said', 'the', 'agency', 'is', 'not', 'aware', 'of', 'any', 'such', 'video', '.', 'lt.', 'col.', 'jean-marc', 'menichini', ',', 'a', 'french', 'gendarmerie', 'spokesman', 'in', 'charge', 'of', 'communications', 'on', 'rescue', 'efforts', 'around', 'the', 'germanwings', 'crash', 'site', ',', 'told', 'cnn', 'that', 'the', 'reports', 'were', '``', 'completely', 'wrong', \"''\", 'and', '``', 'unwarranted', '.', \"''\", 'cell', 'phones', 'have', 'been', 'collected', 'at', 'the', 'site', ',', 'he', 'said', ',', 'but', 'that', 'they', '``', 'had', \"n't\", 'been', 'exploited', 'yet', '.', \"''\", 'menichini', 'said', 'he', 'believed', 'the', 'cell', 'phones', 'would', 'need', 'to', 'be', 'sent', 'to', 'the', 'criminal', 'research', 'institute', 'in', 'rosny', 'sous-bois', ',', 'near', 'paris', ',', 'in', 'order', 'to', 'be', 'analyzed', 'by', 'specialized', 'technicians', 'working', 'hand-in-hand', 'with', 'investigators', '.', 'but', 'none', 'of', 'the', 'cell', 'phones', 'found', 'so', 'far', 'have', 'been', 'sent', 'to', 'the']\n",
            "PRED 0: <t> new : `` a person who has such a video needs to immediately give it to the investigators , '' marseille prosecutor says . </t> <t> robin 's comments follow claims by two magazines , german daily bild and french paris match . </t>\n",
            "PRED SCORE: -2.8791\n",
            "GOLD 0: <t> marseille prosecutor says `` so far no videos were used in the crash investigation '' despite media reports . </t> <t> journalists at bild and paris match are `` very confident '' the video clip is real , an editor says . </t> <t> andreas <unk> had informed his lufthansa training school of an episode of severe depression , airline says . </t>\n",
            "GOLD SCORE: -702.2422\n",
            "\n",
            "\n",
            "SENT 0: ['-lrb-', 'cnn', '-rrb-', 'the', 'palestinian', 'authority', 'officially', 'became', 'the', '123rd', 'member', 'of', 'the', 'international', 'criminal', 'court', 'on', 'wednesday', ',', 'a', 'step', 'that', 'gives', 'the', 'court', 'jurisdiction', 'over', 'alleged', 'crimes', 'in', 'palestinian', 'territories', '.', 'the', 'formal', 'accession', 'was', 'marked', 'with', 'a', 'ceremony', 'at', 'the', 'hague', ',', 'in', 'the', 'netherlands', ',', 'where', 'the', 'court', 'is', 'based', '.', 'the', 'palestinians', 'signed', 'the', 'icc', \"'s\", 'founding', 'rome', 'statute', 'in', 'january', ',', 'when', 'they', 'also', 'accepted', 'its', 'jurisdiction', 'over', 'alleged', 'crimes', 'committed', '``', 'in', 'the', 'occupied', 'palestinian', 'territory', ',', 'including', 'east', 'jerusalem', ',', 'since', 'june', '13', ',', '2014', '.', \"''\", 'later', 'that', 'month', ',', 'the', 'icc', 'opened', 'a', 'preliminary', 'examination', 'into', 'the', 'situation', 'in', 'palestinian', 'territories', ',', 'paving', 'the', 'way', 'for', 'possible', 'war', 'crimes', 'investigations', 'against', 'israelis', '.', 'as', 'members', 'of', 'the', 'court', ',', 'palestinians', 'may', 'be', 'subject', 'to', 'counter-charges', 'as', 'well', '.', 'israel', 'and', 'the', 'united', 'states', ',', 'neither', 'of', 'which', 'is', 'an', 'icc', 'member', ',', 'opposed', 'the', 'palestinians', \"'\", 'efforts', 'to', 'join', 'the', 'body', '.', 'but', 'palestinian', 'foreign', 'minister', 'riad', 'al-malki', ',', 'speaking', 'at', 'wednesday', \"'s\", 'ceremony', ',', 'said', 'it', 'was', 'a', 'move', 'toward', 'greater', 'justice', '.', '``', 'as', 'palestine', 'formally', 'becomes', 'a', 'state', 'party', 'to', 'the', 'rome', 'statute', 'today', ',', 'the', 'world', 'is', 'also', 'a', 'step', 'closer', 'to', 'ending', 'a', 'long', 'era', 'of', 'impunity', 'and', 'injustice', ',', \"''\", 'he', 'said', ',', 'according', 'to', 'an', 'icc', 'news', 'release', '.', '``', 'indeed', ',', 'today', 'brings', 'us', 'closer', 'to', 'our', 'shared', 'goals', 'of', 'justice', 'and', 'peace', '.', \"''\", 'judge', 'kuniko', 'ozaki', ',', 'a', 'vice', 'president', 'of', 'the', 'icc', ',', 'said', 'acceding', 'to', 'the', 'treaty', 'was', 'just', 'the', 'first', 'step', 'for', 'the', 'palestinians', '.', '``', 'as', 'the', 'rome', 'statute', 'today', 'enters', 'into', 'force', 'for', 'the', 'state', 'of', 'palestine', ',', 'palestine', 'acquires', 'all', 'the', 'rights', 'as', 'well', 'as', 'responsibilities', 'that', 'come', 'with', 'being', 'a', 'state', 'party', 'to', 'the', 'statute', '.', 'these', 'are', 'substantive', 'commitments', ',', 'which', 'can', 'not', 'be', 'taken', 'lightly', ',', \"''\", 'she', 'said', '.', 'rights', 'group', 'human', 'rights', 'watch', 'welcomed', 'the', 'development', '.', '``', 'governments', 'seeking', 'to', 'penalize', 'palestine', 'for', 'joining', 'the', 'icc', 'should', 'immediately', 'end', 'their', 'pressure', ',', 'and', 'countries', 'that', 'support', 'universal', 'acceptance', 'of', 'the', 'court', \"'s\", 'treaty', 'should', 'speak', 'out', 'to', 'welcome', 'its', 'membership', ',', \"''\", 'said', 'balkees', 'jarrah', ',', 'international', 'justice', 'counsel', 'for', 'the', 'group', '.', '``', 'what', \"'s\", 'objectionable', 'is', 'the', 'attempts', 'to', 'undermine', 'international', 'justice', ',', 'not', 'palestine', \"'s\", 'decision', 'to', 'join', 'a', 'treaty', 'to', 'which', 'over', '100', 'countries']\n",
            "PRED 0: <t> the palestinian authority officially became the 123rd member of the international criminal court on wednesday . </t> <t> the icc opened a preliminary examination into the situation in palestinian territories , paving the way for possible war crimes investigations against israelis . </t>\n",
            "PRED SCORE: -2.0654\n",
            "GOLD 0: <t> membership gives the icc jurisdiction over alleged crimes committed in palestinian territories since last june . </t> <t> israel and the united states opposed the move , which could open the door to war crimes investigations against israelis . </t>\n",
            "GOLD SCORE: -503.3119\n",
            "\n",
            "\n",
            "SENT 0: ['-lrb-', 'cnn', '-rrb-', 'governments', 'around', 'the', 'world', 'are', 'using', 'the', 'threat', 'of', 'terrorism', '--', 'real', 'or', 'perceived', '--', 'to', 'advance', 'executions', ',', 'amnesty', 'international', 'alleges', 'in', 'its', 'annual', 'report', 'on', 'the', 'death', 'penalty', '.', '``', 'the', 'dark', 'trend', 'of', 'governments', 'using', 'the', 'death', 'penalty', 'in', 'a', 'futile', 'attempt', 'to', 'tackle', 'real', 'or', 'imaginary', 'threats', 'to', 'state', 'security', 'and', 'public', 'safety', 'was', 'stark', 'last', 'year', ',', \"''\", 'said', 'salil', 'shetty', ',', 'amnesty', \"'s\", 'secretary', 'general', 'in', 'a', 'release', '.', '``', 'it', 'is', 'shameful', 'that', 'so', 'many', 'states', 'around', 'the', 'world', 'are', 'essentially', 'playing', 'with', 'people', \"'s\", 'lives', '--', 'putting', 'people', 'to', 'death', 'for', '`', 'terrorism', \"'\", 'or', 'to', 'quell', 'internal', 'instability', 'on', 'the', 'ill-conceived', 'premise', 'of', 'deterrence', '.', \"''\", 'the', 'report', ',', '``', 'death', 'sentences', 'and', 'executions', '2014', ',', \"''\", 'cites', 'the', 'example', 'of', 'pakistan', 'lifting', 'a', 'six-year', 'moratorium', 'on', 'the', 'execution', 'of', 'civilians', 'following', 'the', 'horrific', 'attack', 'on', 'a', 'school', 'in', 'peshawar', 'in', 'december', '.', 'china', 'is', 'also', 'mentioned', ',', 'as', 'having', 'used', 'the', 'death', 'penalty', 'as', 'a', 'tool', 'in', 'its', '``', 'strike', 'hard', \"''\", 'campaign', 'against', 'terrorism', 'in', 'the', 'restive', 'far-western', 'province', 'of', 'xinjiang', '.', 'the', 'annual', 'report', 'catalogs', 'the', 'use', 'of', 'state-sanctioned', 'killing', 'as', 'a', 'punitive', 'measure', 'across', 'the', 'globe', ',', 'and', 'this', 'year', \"'s\", 'edition', 'contains', 'some', 'mixed', 'findings', '.', 'on', 'one', 'hand', ',', 'the', 'number', 'of', 'executions', 'worldwide', 'has', 'gone', 'down', 'by', 'almost', '22', '%', 'on', 'the', 'previous', 'year', '.', 'at', 'least', '607', 'people', 'were', 'executed', 'around', 'the', 'world', 'in', '2014', ',', 'compared', 'to', '778', 'in', '2013', '.', 'amnesty', \"'s\", 'figures', 'do', 'not', 'include', 'statistics', 'on', 'executions', 'carried', 'out', 'in', 'china', ',', 'where', 'information', 'on', 'the', 'practice', 'is', 'regarded', 'as', 'a', 'state', 'secret', '.', 'belarus', 'and', 'vietnam', ',', 'too', ',', 'do', 'not', 'release', 'data', 'on', 'death', 'penalty', 'cases', '.', '``', 'the', 'long-term', 'trend', 'is', 'definitely', 'positive', '--', 'we', 'are', 'seeing', 'a', 'decrease', 'in', 'the', 'number', 'of', 'executions', '-lrb-', 'worldwide', '-rrb-', ',', \"''\", 'audrey', 'gaughran', ',', 'amnesty', \"'s\", 'director', 'of', 'global', 'issues', ',', 'told', 'cnn', '.', '``', 'a', 'number', 'of', 'countries', 'are', 'closer', 'to', 'abolition', ',', 'and', 'there', 'are', 'some', 'signs', 'that', 'some', 'countries', 'will', 'be', 'abolitionist', 'by', '2015', '.', '-lrb-', 'there', 'are', '-rrb-', 'signals', 'of', 'a', 'world', 'that', 'is', 'nearing', 'abolition', '.', \"''\", 'while', 'the', 'report', 'notes', 'some', 'encouraging', 'signs', ',', 'it', 'also', 'highlights', 'a', 'marked', 'increase', 'in', 'the', 'number', 'of', 'people', 'sentenced', 'to', 'death', 'in', '2014', '.', 'at', 'least', '2,466', 'people', 'globally', 'are', 'confirmed', 'to']\n",
            "PRED 0: <t> `` the dark trend of governments using the death penalty in a futile attempt to tackle real or imaginary threats to state security and public safety was stark last year , '' amnesty international says . </t> <t> at least 607 people were executed around the world in 2014 , compared to 778 in 2013 . </t>\n",
            "PRED SCORE: -2.0289\n",
            "GOLD 0: <t> amnesty 's annual death penalty report <unk> encouraging signs , but setbacks in numbers of those sentenced to death . </t> <t> organization claims that governments around the world are using the threat of terrorism to advance executions . </t> <t> the number of executions worldwide has gone down by almost 22 % compared with 2013 , but death sentences up by 28 % . </t>\n",
            "GOLD SCORE: -768.9924\n",
            "\n",
            "\n",
            "SENT 0: ['-lrb-', 'cnn', '-rrb-', 'on', 'may', '28', ',', '2014', ',', 'some', '7,000', 'people', 'gathered', 'in', 'a', 'stadium', 'in', 'china', \"'s\", 'northwestern', 'xinjiang', 'region', '.', 'but', 'they', 'had', 'not', 'come', 'to', 'watch', 'the', 'local', 'football', 'team', 'or', 'any', 'other', 'grand', 'sporting', 'event', '.', 'instead', ',', 'the', 'authorities', 'paraded', 'scores', 'of', 'prisoners', 'dressed', 'in', 'orange', 'jumpsuits', '.', 'armed', 'soldiers', 'guarded', 'the', 'exits', '.', 'in', 'the', 'patently', 'unfair', ',', 'open', 'air', 'trial', 'that', 'followed', ',', '55', 'people', 'were', 'found', 'guilty', 'of', 'a', 'range', 'of', 'offenses', 'linked', 'to', 'violent', 'attacks', 'in', 'the', 'region', 'and', 'jailed', '.', 'three', 'were', 'sentenced', 'to', 'death', '.', 'the', 'public', 'mass', 'sentencing', 'was', 'part', 'a', 'china', \"'s\", '``', 'strike', 'hard', \"''\", 'campaign', 'against', 'unrest', 'in', 'xinjiang', ',', 'a', 'campaign', 'the', 'government', 'claims', 'was', 'launched', 'to', 'combat', '``', 'terrorism', \"''\", 'and', '``', 'separatism', '.', \"''\", 'but', 'it', 'was', 'also', 'indicative', 'of', 'a', 'trend', 'that', 'was', 'starkly', 'evident', 'last', 'year', 'around', 'the', 'world', '--', 'governments', 'using', 'the', 'death', 'penalty', 'in', 'a', 'misguided', ',', 'and', 'often', 'cynical', ',', 'attempt', 'to', 'tackle', 'crime', 'and', 'terrorism', '.', 'today', ',', 'amnesty', 'international', 'releases', 'its', 'annual', 'review', 'of', 'the', 'death', 'penalty', 'worldwide', '.', 'much', 'of', 'it', 'makes', 'for', 'grim', 'reading', '.', 'in', 'pakistan', ',', 'the', 'government', 'lifted', 'a', 'six-year', 'moratorium', 'on', 'the', 'execution', 'of', 'civilians', 'in', 'the', 'wake', 'of', 'the', 'horrific', 'taliban', 'attack', 'on', 'a', 'school', 'in', 'peshawar', 'in', 'december', '.', 'more', 'than', '60', 'people', 'have', 'been', 'put', 'to', 'death', 'since', ',', 'and', 'the', 'government', 'has', 'threatened', 'to', 'send', 'thousands', 'more', 'death', 'row', 'prisoners', 'to', 'the', 'gallows', '.', 'iran', 'and', 'iraq', 'executed', 'people', 'for', '``', 'terrorism', ',', \"''\", 'and', 'other', 'countries', 'expanded', 'the', 'scope', 'of', 'capital', 'crimes', 'in', 'their', 'penal', 'codes', '.', 'in', 'a', 'year', 'when', 'abhorrent', 'summary', 'executions', 'by', 'armed', 'groups', 'were', 'branded', 'on', 'the', 'global', 'consciousness', 'as', 'never', 'before', ',', 'governments', 'are', 'themselves', 'resorting', 'to', 'more', 'executions', 'in', 'a', 'knee-jerk', 'reaction', 'to', 'terrorism', '.', 'other', 'countries', 'made', 'use', 'of', 'executions', 'in', 'similarly', 'flawed', 'attempts', 'to', 'address', '--', 'or', 'appear', 'to', 'address', '--', 'crime', 'rates', '.', 'jordan', 'ended', 'an', 'eight-year', 'moratorium', 'in', 'december', ',', 'putting', '11', 'murder', 'convicts', 'to', 'death', ',', 'with', 'the', 'government', 'saying', 'it', 'was', 'a', 'move', 'to', 'end', 'a', 'surge', 'in', 'violent', 'crime', '.', 'in', 'indonesia', ',', 'authorities', 'announced', 'plans', 'to', 'execute', 'mainly', 'drug', 'traffickers', 'to', 'tackle', 'a', 'public', 'safety', '``', 'national', 'emergency', '.', \"''\", 'six', 'people', 'have', 'already', 'been', 'executed', 'this', 'year', '.', 'a', 'sharp', 'spike', 'in', 'death', 'sentences', 'recorded', 'in', '2014', '--']\n",
            "PRED 0: <t> the public mass sentencing was part a china 's `` strike hard '' campaign against unrest in xinjiang , a campaign the government claims was launched to combat `` terrorism '' and `` separatism '' </t>\n",
            "PRED SCORE: -2.5336\n",
            "GOLD 0: <t> amnesty international releases its annual review of the death penalty worldwide ; much of it makes for grim reading . </t> <t> <unk> shetty : countries that use executions to deal with problems are on the wrong side of history . </t>\n",
            "GOLD SCORE: -493.3782\n",
            "\n",
            "\n",
            "SENT 0: ['-lrb-', 'cnn', '-rrb-', 'seventy', 'years', 'ago', ',', 'anne', 'frank', 'died', 'of', 'typhus', 'in', 'a', 'nazi', 'concentration', 'camp', 'at', 'the', 'age', 'of', '15', '.', 'just', 'two', 'weeks', 'after', 'her', 'supposed', 'death', 'on', 'march', '31', ',', '1945', ',', 'the', 'bergen-belsen', 'concentration', 'camp', 'where', 'she', 'had', 'been', 'imprisoned', 'was', 'liberated', '--', 'timing', 'that', 'showed', 'how', 'close', 'the', 'jewish', 'diarist', 'had', 'been', 'to', 'surviving', 'the', 'holocaust', '.', 'but', 'new', 'research', 'released', 'by', 'the', 'anne', 'frank', 'house', 'shows', 'that', 'anne', 'and', 'her', 'older', 'sister', ',', 'margot', 'frank', ',', 'died', 'at', 'least', 'a', 'month', 'earlier', 'than', 'previously', 'thought', '.', 'researchers', 're-examined', 'archives', 'of', 'the', 'red', 'cross', ',', 'the', 'international', 'training', 'service', 'and', 'the', 'bergen-belsen', 'memorial', ',', 'along', 'with', 'testimonies', 'of', 'survivors', '.', 'they', 'concluded', 'that', 'anne', 'and', 'margot', 'probably', 'did', 'not', 'survive', 'to', 'march', '1945', '--', 'contradicting', 'the', 'date', 'of', 'death', 'which', 'had', 'previously', 'been', 'determined', 'by', 'dutch', 'authorities', '.', 'in', '1944', ',', 'anne', 'and', 'seven', 'others', 'hiding', 'in', 'the', 'amsterdam', 'secret', 'annex', 'were', 'arrested', 'and', 'sent', 'to', 'the', 'auschwitz-birkenau', 'concentration', 'camp', '.', 'anne', 'frank', \"'s\", 'final', 'entry', '.', 'that', 'same', 'year', ',', 'anne', 'and', 'margot', 'were', 'separated', 'from', 'their', 'mother', 'and', 'sent', 'away', 'to', 'work', 'as', 'slave', 'labor', 'at', 'the', 'bergen-belsen', 'camp', 'in', 'germany', '.', 'days', 'at', 'the', 'camp', 'were', 'filled', 'with', 'terror', 'and', 'dread', ',', 'witnesses', 'said', '.', 'the', 'sisters', 'stayed', 'in', 'a', 'section', 'of', 'the', 'overcrowded', 'camp', 'with', 'no', 'lighting', ',', 'little', 'water', 'and', 'no', 'latrine', '.', 'they', 'slept', 'on', 'lice-ridden', 'straw', 'and', 'violent', 'storms', 'shredded', 'the', 'tents', ',', 'according', 'to', 'the', 'researchers', '.', 'like', 'the', 'other', 'prisoners', ',', 'the', 'sisters', 'endured', 'long', 'hours', 'at', 'roll', 'call', '.', 'her', 'classmate', ',', 'nannette', 'blitz', ',', 'recalled', 'seeing', 'anne', 'there', 'in', 'december', '1944', ':', '``', 'she', 'was', 'no', 'more', 'than', 'a', 'skeleton', 'by', 'then', '.', 'she', 'was', 'wrapped', 'in', 'a', 'blanket', ';', 'she', 'could', \"n't\", 'bear', 'to', 'wear', 'her', 'clothes', 'anymore', 'because', 'they', 'were', 'crawling', 'with', 'lice', '.', \"''\", 'listen', 'to', 'anne', 'frank', \"'s\", 'friends', 'describe', 'her', 'concentration', 'camp', 'experience', '.', 'as', 'the', 'russians', 'advanced', 'further', ',', 'the', 'bergen-belsen', 'concentration', 'camp', 'became', 'even', 'more', 'crowded', ',', 'bringing', 'more', 'disease', '.', 'a', 'deadly', 'typhus', 'outbreak', 'caused', 'thousands', 'to', 'die', 'each', 'day', '.', 'typhus', 'is', 'an', 'infectious', 'disease', 'caused', 'by', 'lice', 'that', 'breaks', 'out', 'in', 'places', 'with', 'poor', 'hygiene', '.', 'the', 'disease', 'causes', 'high', 'fever', ',', 'chills', 'and', 'skin', 'eruptions', '.', '``', 'because', 'of', 'the', 'lice', 'infesting', 'the', 'bedstraw', 'and', 'her', 'clothes', ',', 'anne', 'was', 'exposed', 'to']\n",
            "PRED 0: <t> anne frank died of typhus in a nazi concentration camp at the age of 15 . </t> <t> just two weeks after her supposed death on march 31 , 1945 , the bergen-belsen concentration camp where she had been imprisoned was liberated . </t> <t> in 1944 , anne and margot were separated from their mother and sent away to work as slave labor at the bergen-belsen camp in germany . </t>\n",
            "PRED SCORE: -2.5091\n",
            "GOLD 0: <t> museum : anne frank died earlier than previously believed . </t> <t> researchers re-examined archives and testimonies of survivors . </t> <t> anne and older sister margot frank are believed to have died in february 1945 . </t>\n",
            "GOLD SCORE: -506.4807\n",
            "\n",
            "\n",
            "SENT 0: ['-lrb-', 'cnn', '-rrb-', 'a', 'duke', 'student', 'has', 'admitted', 'to', 'hanging', 'a', 'noose', 'made', 'of', 'rope', 'from', 'a', 'tree', 'near', 'a', 'student', 'union', ',', 'university', 'officials', 'said', 'thursday', '.', 'the', 'prestigious', 'private', 'school', 'did', \"n't\", 'identify', 'the', 'student', ',', 'citing', 'federal', 'privacy', 'laws', '.', 'in', 'a', 'news', 'release', ',', 'it', 'said', 'the', 'student', 'was', 'no', 'longer', 'on', 'campus', 'and', 'will', 'face', 'student', 'conduct', 'review', '.', 'the', 'student', 'was', 'identified', 'during', 'an', 'investigation', 'by', 'campus', 'police', 'and', 'the', 'office', 'of', 'student', 'affairs', 'and', 'admitted', 'to', 'placing', 'the', 'noose', 'on', 'the', 'tree', 'early', 'wednesday', ',', 'the', 'university', 'said', '.', 'officials', 'are', 'still', 'trying', 'to', 'determine', 'if', 'other', 'people', 'were', 'involved', '.', 'criminal', 'investigations', 'into', 'the', 'incident', 'are', 'ongoing', 'as', 'well', '.', 'students', 'and', 'faculty', 'members', 'marched', 'wednesday', 'afternoon', 'chanting', '``', 'we', 'are', 'not', 'afraid', '.', 'we', 'stand', 'together', ',', \"''\", 'after', 'pictures', 'of', 'the', 'noose', 'were', 'passed', 'around', 'on', 'social', 'media', '.', 'at', 'a', 'forum', 'held', 'on', 'the', 'steps', 'of', 'duke', 'chapel', ',', 'close', 'to', 'where', 'the', 'noose', 'was', 'discovered', 'at', '2', 'a.m.', ',', 'hundreds', 'of', 'people', 'gathered', '.', '``', 'you', 'came', 'here', 'for', 'the', 'reason', 'that', 'you', 'want', 'to', 'say', 'with', 'me', ',', '`', 'this', 'is', 'no', 'duke', 'we', 'will', 'accept', '.', 'this', 'is', 'no', 'duke', 'we', 'want', '.', 'this', 'is', 'not', 'the', 'duke', 'we', \"'re\", 'here', 'to', 'experience', '.', 'and', 'this', 'is', 'not', 'the', 'duke', 'we', \"'re\", 'here', 'to', 'create', ',', \"'\", \"''\", 'duke', 'president', 'richard', 'brodhead', 'told', 'the', 'crowd', '.', 'the', 'incident', 'is', 'one', 'of', 'several', 'recent', 'racist', 'events', 'to', 'affect', 'college', 'students', '.', 'last', 'month', 'a', 'fraternity', 'at', 'the', 'university', 'of', 'oklahoma', 'had', 'its', 'charter', 'removed', 'after', 'a', 'video', 'surfaced', 'showing', 'members', 'using', 'the', 'n-word', 'and', 'referring', 'to', 'lynching', 'in', 'a', 'chant', '.', 'two', 'students', 'were', 'expelled', '.', 'in', 'february', ',', 'a', 'noose', 'was', 'hung', 'around', 'the', 'neck', 'of', 'a', 'statue', 'of', 'a', 'famous', 'civil', 'rights', 'figure', 'at', 'the', 'university', 'of', 'mississippi', '.', 'a', 'statement', 'issued', 'by', 'duke', 'said', 'there', 'was', 'a', 'previous', 'report', 'of', 'hate', 'speech', 'directed', 'at', 'students', 'on', 'campus', '.', 'in', 'the', 'news', 'release', ',', 'the', 'vice', 'president', 'for', 'student', 'affairs', 'called', 'the', 'noose', 'incident', 'a', '``', 'cowardly', 'act', '.', \"''\", '``', 'to', 'whomever', 'committed', 'this', 'hateful', 'and', 'stupid', 'act', ',', 'i', 'just', 'want', 'to', 'say', 'that', 'if', 'your', 'intent', 'was', 'to', 'create', 'fear', ',', 'it', 'will', 'have', 'the', 'opposite', 'effect', ',', \"''\", 'larry', 'moneta', 'said', 'wednesday', '.', 'duke', 'university', 'is', 'a', 'private', 'college', 'with', 'about']\n",
            "PRED 0: <t> a duke student has admitted to hanging a noose made of rope from a tree near a student union . </t> <t> the prestigious private school did n't identify the student , citing federal privacy laws . </t>\n",
            "PRED SCORE: -2.2349\n",
            "GOLD 0: <t> student is no longer on duke university campus and will face disciplinary review . </t> <t> school officials identified student during investigation and the person admitted to hanging the noose , duke says . </t> <t> the noose , made of rope , was discovered on campus about 2 a.m. </t>\n",
            "GOLD SCORE: -557.8688\n",
            "\n",
            "\n",
            "SENT 0: ['-lrb-', 'cnn', '-rrb-', 'the', 'rev.', 'robert', 'h.', 'schuller', ',', 'california', 'televangelist', 'and', 'founder', 'of', 'the', 'television', 'ministry', '``', 'hour', 'of', 'power', ',', \"''\", 'died', 'thursday', ',', 'according', 'to', 'his', 'family', '.', 'he', 'was', '88', 'years', 'old', '.', 'schuller', ',', 'also', 'the', 'founder', 'of', 'crystal', 'cathedral', 'megachurch', ',', 'had', 'been', 'diagnosed', 'with', 'esophageal', 'cancer', 'in', 'august', '2013', ',', 'a', 'release', 'from', '``', 'hour', 'of', 'power', \"''\", 'said', '.', '``', 'my', 'father-in-law', 'passed', 'away', 'peacefully', 'early', 'this', 'morning', '.', 'he', 'was', 'a', 'great', 'dad', 'and', 'a', 'great', 'man', 'of', 'god', ',', \"''\", 'said', 'schuller', \"'s\", 'daughter-in-law', ',', 'donna', 'schuller', ',', 'in', 'a', 'twitter', 'message', '.', 'schuller', \"'s\", 'life', 'followed', 'an', 'almost', 'shakespearean', 'arc', '.', 'he', 'was', 'born', 'in', 'a', 'iowa', 'farmhouse', 'without', 'running', 'water', 'and', 'longed', 'to', 'preach', 'from', 'his', 'earliest', 'days', '.', 'in', 'his', 'autobiography', ',', '``', 'prayer', ':', 'my', 'soul', \"'s\", 'adventure', 'with', 'god', ',', \"''\", 'he', 'described', 'standing', 'alone', 'by', 'a', 'river', 'and', 'picturing', 'himself', 'delivering', 'sermons', 'to', 'a', 'rapt', 'congregation', '.', 'after', 'attending', 'a', 'hope', 'college', 'and', 'western', 'theological', 'seminary', 'in', 'michigan', ',', 'he', 'met', 'his', 'wife', 'of', 'more', 'than', '60', 'years', ',', 'arvella', ',', 'while', 'preaching', 'at', 'her', 'church', '-lrb-', 'she', 'was', 'the', 'organist', '-rrb-', '.', 'with', 'their', 'young', 'family', 'in', 'tow', ',', 'the', 'schullers', 'caravanned', 'west', 'to', 'california', ',', 'where', 'he', 'rented', 'a', 'drive-in', 'theater', 'and', 'preached', 'from', 'the', 'roof', 'of', 'the', 'snack', 'bar', '.', 'it', 'was', 'beneath', 'the', 'dignity', 'of', 'christian', 'ministry', ',', 'some', 'local', 'pastors', 'huffed', '.', 'the', '``', 'passion', 'pits', \"''\", 'where', 'teenagers', 'necked', 'was', 'no', 'place', 'for', 'the', 'gospel', '.', 'schuller', 'was', 'undeterred', ',', 'and', 'he', 'quickly', 'outgrew', 'the', 'drive-in', '.', 'he', 'called', 'the', 'explosive', 'growth', 'of', 'his', 'tiny', 'congregation', 'a', '``', 'miracle', ',', \"''\", 'though', 'his', 'many', 'mainstream', 'critics', 'had', 'other', 'names', 'for', 'it', '.', 'his', 'confident', ',', 'breezy', 'version', 'of', 'christianity', '--', 'too', 'breezy', ',', 'by', 'some', 'estimations', '--', 'drew', 'hordes', 'of', 'seekers', 'and', 'lapsed', 'christians', 'who', 'were', 'put', 'off', 'by', 'the', 'hellfire', 'fulminations', 'of', 'many', 'post-war', 'american', 'preachers', '.', 'schuller', 'sold', 'a', 'softer', ',', 'gentler', 'message', ',', 'which', 'borrowed', 'heavily', ',', 'he', 'acknowledged', ',', 'from', 'the', 'father', 'of', 'the', 'feel-good', 'gospel', ',', 'norman', 'vincent', 'peale', '.', 'he', 'preached', 'not', 'to', 'convert', 'or', 'condemn', 'people', ',', 'but', 'to', 'encourage', 'them', ',', 'a', 'sentiment', 'he', 'called', '``', 'possibility', 'thinking', '.', \"''\", 'people', 'loved', 'it', '.', '``', 'evangelicalism', 'at', 'its', 'best', 'wants', 'to', 'be', 'innovative', 'and', 'reach', 'people', ',', \"''\", 'said', 'timothy']\n",
            "PRED 0: <t> rev. robert h. schuller , california televangelist and founder of the television ministry `` hour of power , '' died thursday . </t> <t> he was born in a iowa farmhouse without running water and longed to preach from his earliest days . </t>\n",
            "PRED SCORE: -2.2994\n",
            "GOLD 0: <t> the rev. robert <unk> , 88 , had been diagnosed with <unk> cancer in 2013 . </t> <t> his tv show , `` hour of power , '' was enormously popular in the 1970s and 1980s . </t>\n",
            "GOLD SCORE: -409.9554\n",
            "\n",
            "\n",
            "SENT 0: ['-lrb-', 'cnn', '-rrb-', 'never', 'mind', 'cats', 'having', 'nine', 'lives', '.', 'a', 'stray', 'pooch', 'in', 'washington', 'state', 'has', 'used', 'up', 'at', 'least', 'three', 'of', 'her', 'own', 'after', 'being', 'hit', 'by', 'a', 'car', ',', 'apparently', 'whacked', 'on', 'the', 'head', 'with', 'a', 'hammer', 'in', 'a', 'misguided', 'mercy', 'killing', 'and', 'then', 'buried', 'in', 'a', 'field', '--', 'only', 'to', 'survive', '.', 'that', \"'s\", 'according', 'to', 'washington', 'state', 'university', ',', 'where', 'the', 'dog', '--', 'a', 'friendly', 'white-and-black', 'bully', 'breed', 'mix', 'now', 'named', 'theia', '--', 'has', 'been', 'receiving', 'care', 'at', 'the', 'veterinary', 'teaching', 'hospital', '.', 'four', 'days', 'after', 'her', 'apparent', 'death', ',', 'the', 'dog', 'managed', 'to', 'stagger', 'to', 'a', 'nearby', 'farm', ',', 'dirt-covered', 'and', 'emaciated', ',', 'where', 'she', 'was', 'found', 'by', 'a', 'worker', 'who', 'took', 'her', 'to', 'a', 'vet', 'for', 'help', '.', 'she', 'was', 'taken', 'in', 'by', 'moses', 'lake', ',', 'washington', ',', 'resident', 'sara', 'mellado', '.', '``', 'considering', 'everything', 'that', 'she', \"'s\", 'been', 'through', ',', 'she', \"'s\", 'incredibly', 'gentle', 'and', 'loving', ',', \"''\", 'mellado', 'said', ',', 'according', 'to', 'wsu', 'news', '.', '``', 'she', \"'s\", 'a', 'true', 'miracle', 'dog', 'and', 'she', 'deserves', 'a', 'good', 'life', '.', \"''\", 'theia', 'is', 'only', 'one', 'year', 'old', 'but', 'the', 'dog', \"'s\", 'brush', 'with', 'death', 'did', 'not', 'leave', 'her', 'unscathed', '.', 'she', 'suffered', 'a', 'dislocated', 'jaw', ',', 'leg', 'injuries', 'and', 'a', 'caved-in', 'sinus', 'cavity', '--', 'and', 'still', 'requires', 'surgery', 'to', 'help', 'her', 'breathe', '.', 'the', 'veterinary', 'hospital', \"'s\", 'good', 'samaritan', 'fund', 'committee', 'awarded', 'some', 'money', 'to', 'help', 'pay', 'for', 'the', 'dog', \"'s\", 'treatment', ',', 'but', 'mellado', 'has', 'set', 'up', 'a', 'fundraising', 'page', 'to', 'help', 'meet', 'the', 'remaining', 'cost', 'of', 'the', 'dog', \"'s\", 'care', '.', 'she', \"'s\", 'also', 'created', 'a', 'facebook', 'page', 'to', 'keep', 'supporters', 'updated', '.', 'donors', 'have', 'already', 'surpassed', 'the', '$', '10,000', 'target', ',', 'inspired', 'by', 'theia', \"'s\", 'tale', 'of', 'survival', 'against', 'the', 'odds', '.', 'on', 'the', 'fundraising', 'page', ',', 'mellado', 'writes', ',', '``', 'she', 'is', 'in', 'desperate', 'need', 'of', 'extensive', 'medical', 'procedures', 'to', 'fix', 'her', 'nasal', 'damage', 'and', 'reset', 'her', 'jaw', '.', 'i', 'agreed', 'to', 'foster', 'her', 'until', 'she', 'finally', 'found', 'a', 'loving', 'home', '.', \"''\", 'she', 'is', 'dedicated', 'to', 'making', 'sure', 'theia', 'gets', 'the', 'medical', 'attention', 'she', 'needs', ',', 'mellado', 'adds', ',', 'and', 'wants', 'to', '``', 'make', 'sure', 'she', 'gets', 'placed', 'in', 'a', 'family', 'where', 'this', 'will', 'never', 'happen', 'to', 'her', 'again', '!', \"''\", 'any', 'additional', 'funds', 'raised', 'will', 'be', '``', 'paid', 'forward', \"''\", 'to', 'help', 'other', 'animals', '.', 'theia', 'is', 'not', 'the', 'only', 'animal', 'to', 'apparently', 'rise', 'from', 'the']\n",
            "PRED 0: <t> a stray pooch in washington state has used up at least three of her own after being hit by a car . </t> <t> she suffered a dislocated jaw , leg injuries and a caved-in sinus cavity and still requires surgery to help her breathe . </t>\n",
            "PRED SCORE: -2.2148\n",
            "GOLD 0: <t> <unk> , a bully breed mix , was apparently hit by a car , whacked with a hammer and buried in a field . </t> <t> `` she 's a true miracle dog and she deserves a good life , '' says sara <unk> , who is looking for a home for <unk> . </t>\n",
            "GOLD SCORE: -564.1595\n",
            "\n",
            "\n",
            "SENT 0: ['-lrb-', 'cnn', '-rrb-', 'if', 'you', \"'ve\", 'been', 'following', 'the', 'news', 'lately', ',', 'there', 'are', 'certain', 'things', 'you', 'doubtless', 'know', 'about', 'mohammad', 'javad', 'zarif', '.', 'he', 'is', ',', 'of', 'course', ',', 'the', 'iranian', 'foreign', 'minister', '.', 'he', 'has', 'been', 'u.s.', 'secretary', 'of', 'state', 'john', 'kerry', \"'s\", 'opposite', 'number', 'in', 'securing', 'a', 'breakthrough', 'in', 'nuclear', 'discussions', 'that', 'could', 'lead', 'to', 'an', 'end', 'to', 'sanctions', 'against', 'iran', '--', 'if', 'the', 'details', 'can', 'be', 'worked', 'out', 'in', 'the', 'coming', 'weeks', '.', 'and', 'he', 'received', 'a', 'hero', \"'s\", 'welcome', 'as', 'he', 'arrived', 'in', 'iran', 'on', 'a', 'sunny', 'friday', 'morning', '.', '``', 'long', 'live', 'zarif', ',', \"''\", 'crowds', 'chanted', 'as', 'his', 'car', 'rolled', 'slowly', 'down', 'the', 'packed', 'street', '.', 'you', 'may', 'well', 'have', 'read', 'that', 'he', 'is', '``', 'polished', \"''\", 'and', ',', 'unusually', 'for', 'one', 'burdened', 'with', 'such', 'weighty', 'issues', ',', '``', 'jovial', '.', \"''\", 'an', 'internet', 'search', 'for', '``', 'mohammad', 'javad', 'zarif', \"''\", 'and', '``', 'jovial', \"''\", 'yields', 'thousands', 'of', 'results', '.', 'he', 'certainly', 'has', 'gone', 'a', 'long', 'way', 'to', 'bring', 'iran', 'in', 'from', 'the', 'cold', 'and', 'allow', 'it', 'to', 'rejoin', 'the', 'international', 'community', '.', 'but', 'there', 'are', 'some', 'facts', 'about', 'zarif', 'that', 'are', 'less', 'well-known', '.', 'here', 'are', 'six', ':', '.', 'in', 'september', '2013', ',', 'zarif', 'tweeted', '``', 'happy', 'rosh', 'hashanah', ',', \"''\", 'referring', 'to', 'the', 'jewish', 'new', 'year', '.', 'that', 'prompted', 'christine', 'pelosi', ',', 'the', 'daughter', 'of', 'house', 'minority', 'leader', 'nancy', 'pelosi', ',', 'to', 'respond', 'with', 'a', 'tweet', 'of', 'her', 'own', ':', '``', 'thanks', '.', 'the', 'new', 'year', 'would', 'be', 'even', 'sweeter', 'if', 'you', 'would', 'end', 'iran', \"'s\", 'holocaust', 'denial', ',', 'sir', '.', \"''\", 'and', ',', 'perhaps', 'to', 'her', 'surprise', ',', 'pelosi', 'got', 'a', 'response', '.', '``', 'iran', 'never', 'denied', 'it', ',', \"''\", 'zarif', 'tweeted', 'back', '.', '``', 'the', 'man', 'who', 'was', 'perceived', 'to', 'be', 'denying', 'it', 'is', 'now', 'gone', '.', 'happy', 'new', 'year', '.', \"''\", 'the', 'reference', 'was', 'likely', 'to', 'former', 'iranian', 'president', 'mahmoud', 'ahmadinejad', ',', 'who', 'had', 'left', 'office', 'the', 'previous', 'month', '.', 'zarif', 'was', 'nominated', 'to', 'be', 'foreign', 'minister', 'by', 'ahmadinejad', \"'s\", 'successor', ',', 'hassan', 'rouhami', '.', 'his', 'foreign', 'ministry', 'notes', ',', 'perhaps', 'defensively', ',', 'that', '``', 'due', 'to', 'the', 'political', 'and', 'security', 'conditions', 'of', 'the', 'time', ',', 'he', 'decided', 'to', 'continue', 'his', 'education', 'in', 'the', 'united', 'states', '.', \"''\", 'that', 'is', 'another', 'way', 'of', 'saying', 'that', 'he', 'was', 'outside', 'the', 'country', 'during', 'the', 'demonstrations', 'against', 'the', 'shah', 'of', 'iran', ',', 'which', 'began', 'in', '1977', ',', 'and', 'during', 'the', 'iranian']\n",
            "PRED 0: <t> the iranian foreign minister has been u.s. secretary of state john kerry 's opposite number in securing a breakthrough in nuclear discussions that could lead to an end to sanctions against iran . </t> <t> he received a hero 's welcome as he arrived in iran on a sunny friday morning . </t>\n",
            "PRED SCORE: -2.5156\n",
            "GOLD 0: <t> mohammad javad zarif has spent more time with john kerry than any other foreign minister . </t> <t> he once participated in a takeover of the iranian consulate in san francisco . </t> <t> the iranian foreign minister tweets in english . </t>\n",
            "GOLD SCORE: -512.6006\n",
            "\n",
            "\n",
            "SENT 0: ['-lrb-', 'cnn', '-rrb-', 'for', 'the', 'first', 'time', 'in', 'eight', 'years', ',', 'a', 'tv', 'legend', 'returned', 'to', 'doing', 'what', 'he', 'does', 'best', '.', 'contestants', 'told', 'to', '``', 'come', 'on', 'down', '!', \"''\", 'on', 'the', 'april', '1', 'edition', 'of', '``', 'the', 'price', 'is', 'right', \"''\", 'encountered', 'not', 'host', 'drew', 'carey', 'but', 'another', 'familiar', 'face', 'in', 'charge', 'of', 'the', 'proceedings', '.', 'instead', ',', 'there', 'was', 'bob', 'barker', ',', 'who', 'hosted', 'the', 'tv', 'game', 'show', 'for', '35', 'years', 'before', 'stepping', 'down', 'in', '2007', '.', 'looking', 'spry', 'at', '91', ',', 'barker', 'handled', 'the', 'first', 'price-guessing', 'game', 'of', 'the', 'show', ',', 'the', 'classic', '``', 'lucky', 'seven', ',', \"''\", 'before', 'turning', 'hosting', 'duties', 'over', 'to', 'carey', ',', 'who', 'finished', 'up', '.', 'despite', 'being', 'away', 'from', 'the', 'show', 'for', 'most', 'of', 'the', 'past', 'eight', 'years', ',', 'barker', 'did', \"n't\", 'seem', 'to', 'miss', 'a', 'beat', '.']\n",
            "PRED 0: <t> contestants told to `` come on down ! '' on the april 1 edition of `` the price is right '' encountered not host drew carey but another familiar face in charge of the proceedings . </t>\n",
            "PRED SCORE: -2.6033\n",
            "GOLD 0: <t> bob barker returned to host `` the price is right '' on wednesday . </t> <t> barker , 91 , had retired as host in 2007 . </t>\n",
            "GOLD SCORE: -329.9020\n",
            "\n",
            "\n",
            "SENT 0: ['-lrb-', 'cnn', '-rrb-', 'he', \"'s\", 'a', 'blue', 'chip', 'college', 'basketball', 'recruit', '.', 'she', \"'s\", 'a', 'high', 'school', 'freshman', 'with', 'down', 'syndrome', '.', 'at', 'first', 'glance', 'trey', 'moses', 'and', 'ellie', 'meredith', 'could', \"n't\", 'be', 'more', 'different', '.', 'but', 'all', 'that', 'changed', 'thursday', 'when', 'trey', 'asked', 'ellie', 'to', 'be', 'his', 'prom', 'date', '.', 'trey', '--', 'a', 'star', 'on', 'eastern', 'high', 'school', \"'s\", 'basketball', 'team', 'in', 'louisville', ',', 'kentucky', ',', 'who', \"'s\", 'headed', 'to', 'play', 'college', 'ball', 'next', 'year', 'at', 'ball', 'state', '--', 'was', 'originally', 'going', 'to', 'take', 'his', 'girlfriend', 'to', 'eastern', \"'s\", 'prom', '.', 'so', 'why', 'is', 'he', 'taking', 'ellie', 'instead', '?', '``', 'she', \"'s\", 'great', '...', 'she', 'listens', 'and', 'she', \"'s\", 'easy', 'to', 'talk', 'to', \"''\", 'he', 'said', '.', 'trey', 'made', 'the', 'prom-posal', '-lrb-', 'yes', ',', 'that', \"'s\", 'what', 'they', 'are', 'calling', 'invites', 'to', 'prom', 'these', 'days', '-rrb-', 'in', 'the', 'gym', 'during', 'ellie', \"'s\", 'p.e.', 'class', '.', 'trina', 'helson', ',', 'a', 'teacher', 'at', 'eastern', ',', 'alerted', 'the', 'school', \"'s\", 'newspaper', 'staff', 'to', 'the', 'prom-posal', 'and', 'posted', 'photos', 'of', 'trey', 'and', 'ellie', 'on', 'twitter', 'that', 'have', 'gone', 'viral', '.', 'she', 'was', \"n't\", 'surpristed', 'by', 'trey', \"'s\", 'actions', '.', '``', 'that', \"'s\", 'the', 'kind', 'of', 'person', 'trey', 'is', ',', \"''\", 'she', 'said', '.', 'to', 'help', 'make', 'sure', 'she', 'said', 'yes', ',', 'trey', 'entered', 'the', 'gym', 'armed', 'with', 'flowers', 'and', 'a', 'poster', 'that', 'read', '``', 'let', \"'s\", 'party', 'like', 'it', \"'s\", '1989', ',', \"''\", 'a', 'reference', 'to', 'the', 'latest', 'album', 'by', 'taylor', 'swift', ',', 'ellie', \"'s\", 'favorite', 'singer', '.', 'trey', 'also', 'got', 'the', 'ok', 'from', 'ellie', \"'s\", 'parents', 'the', 'night', 'before', 'via', 'text', '.', 'they', 'were', 'thrilled', '.', '``', 'you', 'just', 'feel', 'numb', 'to', 'those', 'moments', 'raising', 'a', 'special', 'needs', 'child', ',', \"''\", 'said', 'darla', 'meredith', ',', 'ellie', \"'s\", 'mom', '.', '``', 'you', 'first', 'feel', 'the', 'need', 'to', 'protect', 'and', 'then', 'to', 'overprotect', '.', \"''\", 'darla', 'meredith', 'said', 'ellie', 'has', 'struggled', 'with', 'friendships', 'since', 'elementary', 'school', ',', 'but', 'a', 'special', 'program', 'at', 'eastern', 'called', 'best', 'buddies', 'had', 'made', 'things', 'easier', 'for', 'her', '.', 'she', 'said', 'best', 'buddies', 'cultivates', 'friendships', 'between', 'students', 'with', 'and', 'without', 'developmental', 'disabilities', 'and', 'prevents', 'students', 'like', 'ellie', 'from', 'feeling', 'isolated', 'and', 'left', 'out', 'of', 'social', 'functions', '.', '``', 'i', 'guess', 'around', 'middle', 'school', 'is', 'when', 'kids', 'started', 'to', 'care', 'about', 'what', 'others', 'thought', ',', \"''\", 'she', 'said', ',', 'but', '``', 'this', 'school', ',', 'this', 'year', 'has', 'been', 'a', 'relief', '.', \"''\", 'trey', \"'s\", 'future', 'coach', 'at', 'ball', 'state', ',', 'james']\n",
            "PRED 0: <t> trey -- a star on eastern high school 's basketball team in louisville , kentucky , was originally going to take his girlfriend to eastern 's prom . </t> <t> so why is he listens and she 's easy to talk to '' he said . </t> <t> trey entered the gym armed with flowers and a poster that read `` let 's party like it 's 1989 '' </t>\n",
            "PRED SCORE: -2.1468\n",
            "GOLD 0: <t> <unk> basketball star asks girl with down syndrome to high school prom . </t> <t> pictures of the two during the `` <unk> '' have gone viral . </t>\n",
            "GOLD SCORE: -349.9637\n",
            "\n",
            "\n",
            "SENT 0: ['-lrb-', 'cnn', '-rrb-', 'michele', 'bachmann', 'is', 'comparing', 'president', 'obama', 'to', 'the', 'co-pilot', 'of', 'the', 'doomed', 'germanwings', 'flight', '.', '``', 'with', 'his', 'iran', 'deal', ',', 'barack', 'obama', 'is', 'for', 'the', '300', 'million', 'souls', 'of', 'the', 'united', 'states', 'what', 'andreas', 'lubitz', 'was', 'for', 'the', '150', 'souls', 'on', 'the', 'german', 'wings', 'flight', '-', 'a', 'deranged', 'pilot', 'flying', 'his', 'entire', 'nation', 'into', 'the', 'rocks', ',', \"''\", 'the', 'minnesota', 'republican', 'and', 'former', 'representative', 'wrote', 'in', 'a', 'facebook', 'comment', 'posted', 'march', '31', '.', '``', 'after', 'the', 'fact', ',', 'among', 'the', 'smoldering', 'remains', 'of', 'american', 'cities', ',', 'the', 'shocked', 'survivors', 'will', 'ask', ',', 'why', 'did', 'he', 'do', 'it', '?', \"''\", 'andreas', 'lubitz', ',', 'the', 'co-pilot', 'of', 'germanwings', 'flight', '9525', ',', 'is', 'accused', 'by', 'authorities', 'of', 'deliberately', 'crashing', 'the', 'plane', 'in', 'the', 'french', 'alps', '.', 'he', 'died', 'in', 'the', 'crash', 'along', 'with', '149', 'other', 'crew', 'and', 'passengers', '.', 'the', 'motive', 'of', 'the', 'march', '24', 'crash', 'is', 'under', 'investigation', ',', 'though', 'investigators', 'are', 'looking', 'in', 'to', 'whether', 'lubitz', 'feared', 'a', 'medical', 'condition', 'would', 'cause', 'him', 'to', 'lose', 'his', 'pilot', \"'s\", 'license', '.', 'many', 'comments', 'posted', 'on', 'her', 'facebook', 'page', 'blasted', 'the', 'former', 'representative', '.', 'melissa', 'coca', 'wrote', ',', '``', 'comparing', 'this', 'tragedy', 'to', 'anything', 'is', 'moronic', 'and', 'despicable', '.', \"''\", 'michael', 'j', 'pristash', 'wrote', ',', '``', 'your', 'allusion', 'is', 'so', 'inappropriate', 'and', 'divisive', ',', 'not', 'to', 'mention', 'disrespectful', 'on', 'so', 'many', 'levels', '.', 'shame', 'on', 'you', '.', \"''\", 'some', 'also', 'accused', 'her', 'of', 'taking', 'desperate', 'measures', 'to', 'stay', 'in', 'the', 'public', 'eye', '.', 'lynda', 'anderson', 'wrote', ',', '``', 'posting', 'outrageous', 'things', 'in', 'a', 'pathetic', 'attempt', 'to', 'stay', 'relevant', '?', \"''\", 'negotiations', 'are', 'coming', 'down', 'to', 'the', 'wire', 'between', 'iran', ',', 'the', 'united', 'states', 'and', 'other', 'nations', 'on', 'restricting', 'tehran', \"'s\", 'nuclear', 'program', 'to', 'prevent', 'the', 'ability', 'to', 'develop', 'an', 'atomic', 'bomb', '.', 'one', 'deadline', 'passed', 'tuesday', ',', 'but', 'there', 'is', 'a', 'june', '30', 'deadline', 'for', 'a', 'comprehensive', 'deal', '--', 'with', 'all', 'technical', 'and', 'diplomatic', 'impasses', 'fully', 'worked', 'out', '.', 'bachmann', 'is', 'no', 'stranger', 'to', 'voicing', 'her', 'opinion', 'on', 'the', 'president', \"'s\", 'dealing', 'with', 'iran', ',', 'personally', 'telling', 'him', 'to', '``', 'bomb', 'iran', \"''\", 'during', 'the', '2014', 'white', 'house', 'christmas', 'party', '.', '``', 'i', 'turned', 'to', 'the', 'president', 'and', 'i', 'said', ',', 'something', 'to', 'the', 'effect', 'of', ',', '`', 'mr.', 'president', ',', 'you', 'need', 'to', 'bomb', 'the', 'iranian', 'nuclear', 'facilities', ',', 'because', 'if', 'you', 'do', \"n't\", ',', 'iran', 'will', 'have', 'a', 'nuclear', 'weapon', 'on', 'your', 'watch', 'and', 'the', 'course', 'of']\n",
            "PRED 0: <t> andreas lubitz , the co-pilot of germanwings flight 9525 , accused by authorities of deliberately crashing the plane in the french alps . </t> <t> he died in the crash along with 149 other crew and passengers . </t>\n",
            "PRED SCORE: -2.3472\n",
            "GOLD 0: <t> former gop representative compares president obama to andreas <unk> . </t> <t> bachmann said with possible iran deal , obama will fly `` entire nation into the rocks '' </t> <t> reaction on social media ? she was blasted by facebook commenters . </t>\n",
            "GOLD SCORE: -471.4402\n",
            "\n",
            "\n",
            "SENT 0: ['los', 'angeles', '-lrb-', 'cnn', '-rrb-', 'it', \"'s\", 'more', 'than', 'just', 'one', 'state', \"'s\", 'internal', 'problem', '.', 'the', 'historic', 'california', 'drought', 'hurts', 'the', 'rest', 'of', 'the', 'union', ',', 'too', '.', 'that', \"'s\", 'because', 'california', 'is', 'a', 'breadbasket', 'to', 'the', 'nation', ',', 'growing', 'more', 'than', 'a', 'third', 'of', 'its', 'vegetables', 'and', 'nearly', 'two-thirds', 'of', 'its', 'fruits', 'and', 'nuts', '.', 'here', \"'s\", 'why', 'we', 'should', 'heed', 'the', 'ongoing', 'drought', 'in', 'the', 'most', 'populous', 'state', ',', 'a', 'slowly', 'expanding', 'natural', 'disaster', 'now', 'in', 'its', 'fourth', 'year', 'that', 'this', 'week', 'prompted', 'gov.', 'jerry', 'brown', 'to', 'announce', 'a', 'mandatory', '25', '%', 'cutback', 'in', 'water', 'consumption', 'in', 'all', 'cities', '.', 'in', '2014', ',', 'one', 'expert', 'predicted', 'consumers', 'would', 'pay', 'more', 'for', 'some', 'groceries', 'because', 'of', 'the', 'california', 'drought', '.', 'he', 'was', 'often', 'right', ',', 'according', 'to', 'statistics', 'gathered', 'by', 'timothy', 'richards', ',', 'agribusiness', 'professor', 'at', 'arizona', 'state', 'university', '.', 'prices', 'rose', 'last', 'year', 'for', 'these', 'items', 'on', 'your', 'kitchen', 'table', ':', '.', '•', 'berries', 'rose', 'in', 'price', 'by', 'about', '80', 'cents', 'per', 'clamshell', 'to', '$', '3.88', '.', '•', 'broccoli', 'by', '11', 'cents', 'per', 'pound', 'to', '$', '1.89', '.', '•', 'grapes', 'by', '64', 'cents', 'a', 'pound', 'to', '$', '3.06', '.', '•', 'melons', 'by', '24', 'cents', 'a', 'pound', 'to', '$', '1.23', '.', '•', 'packaged', 'salad', 'by', '23', 'cents', 'a', 'bag', 'to', '$', '2.91', '.', '•', 'peppers', 'by', '26', 'cents', 'a', 'pound', 'to', '$', '2.39', '.', 'though', 'fruits', 'and', 'vegetable', 'prices', 'fell', 'in', 'february', ',', 'overall', 'prices', 'are', 'expected', 'to', 'rise', 'this', 'year', ',', 'because', 'of', 'inflation', ',', 'u.s.', 'department', 'of', 'agriculture', 'economist', 'annemarie', 'kuhns', 'said', '.', 'fresh', 'fruit', 'prices', 'are', 'projected', 'to', 'rise', 'between', '2.5', '%', 'and', '3.5', '%', ',', 'and', 'vegetables', 'between', '2', '%', 'and', '3', '%', ',', 'close', 'to', 'historical', 'average', 'increases', ',', 'kuhns', 'said', '.', 'whether', 'the', 'california', 'drought', 'will', 'affect', 'food', 'prices', 'again', 'this', 'year', 'is', 'unknown', ',', 'thanks', 'to', 'a', 'strong', 'dollar', '.', 'the', 'greenback', \"'s\", 'strength', 'allows', 'producers', 'to', 'import', 'crops', 'that', 'may', 'be', 'withering', 'under', 'the', 'absence', 'of', 'west', 'coast', 'rain', 'or', 'other', 'misfortunes', 'elsewhere', 'in', 'the', 'nation', ',', 'kuhns', 'said', '.', 'moreover', ',', 'the', 'drop', 'in', 'oil', 'prices', 'also', 'eases', 'the', 'cost', 'of', 'transporting', 'food', 'from', 'california', 'to', 'the', 'other', '49', 'states', ',', 'she', 'said', '.', 'what', 'economists', 'do', \"n't\", 'know', 'yet', 'is', 'whether', 'farmers', 'will', 'plant', 'fewer', 'crops', 'because', 'of', 'the', 'drought', '.', 'those', 'decisions', 'are', 'now', 'being', 'made', 'in', 'the', 'field', 'and', 'could', 'boost', 'supermarket', 'prices', ',', 'she', 'said']\n",
            "PRED 0: <t> gov. jerry brown to announce a mandatory 25 % cutback in water consumption in all cities . </t> <t> in 2014 , one expert predicted consumers would pay more for some groceries because of the california drought . </t>\n",
            "PRED SCORE: -2.2209\n",
            "GOLD 0: <t> americans paid more for some fruits and vegetables last year because of the drought . </t> <t> tourists will now have to ask for a glass of water at a california restaurant . </t> <t> perhaps the only good thing is another `` great '' wine grape harvest last year . </t>\n",
            "GOLD SCORE: -552.0092\n",
            "\n",
            "\n",
            "SENT 0: ['-lrb-', 'cnn', '-rrb-', 'as', 'goes', 'walmart', ',', 'so', 'goes', 'the', 'nation', '?', 'everyone', 'from', 'apple', 'ceo', 'tim', 'cook', 'to', 'the', 'head', 'of', 'the', 'ncaa', 'slammed', 'religious', 'freedom', 'laws', 'being', 'considered', 'in', 'several', 'states', 'this', 'week', ',', 'warning', 'that', 'they', 'would', 'open', 'the', 'door', 'to', 'discrimination', 'against', 'gay', 'and', 'lesbian', 'customers', '.', 'but', 'it', 'was', 'the', 'opposition', 'from', 'walmart', ',', 'the', 'ubiquitous', 'retailer', 'that', 'dots', 'the', 'american', 'landscape', ',', 'that', 'perhaps', 'resonated', 'most', 'deeply', ',', 'providing', 'the', 'latest', 'evidence', 'of', 'growing', 'support', 'for', 'gay', 'rights', 'in', 'the', 'heartland', '.', 'walmart', \"'s\", 'staunch', 'criticism', 'of', 'a', 'religious', 'freedom', 'law', 'in', 'its', 'home', 'state', 'of', 'arkansas', 'came', 'after', 'the', 'company', 'said', 'in', 'february', 'it', 'would', 'boost', 'pay', 'for', 'about', '500,000', 'workers', 'well', 'above', 'the', 'federal', 'minimum', 'wage', '.', 'taken', 'together', ',', 'the', 'company', 'is', 'emerging', 'as', 'a', 'bellwether', 'for', 'shifting', 'public', 'opinion', 'on', 'hot-button', 'political', 'issues', 'that', 'divide', 'conservatives', 'and', 'liberals', '.', 'and', 'some', 'prominent', 'republicans', 'are', 'urging', 'the', 'party', 'to', 'take', 'notice', '.', 'former', 'minnesota', 'gov.', 'tim', 'pawlenty', ',', 'who', 'famously', 'called', 'on', 'the', 'gop', 'to', '``', 'be', 'the', 'party', 'of', 'sam', \"'s\", 'club', ',', 'not', 'just', 'the', 'country', 'club', ',', \"''\", 'told', 'cnn', 'that', 'walmart', \"'s\", 'actions', '``', 'foreshadow', 'where', 'the', 'republican', 'party', 'will', 'need', 'to', 'move', '.', \"''\", '``', 'the', 'republican', 'party', 'will', 'have', 'to', 'better', 'stand', 'for', \"''\", 'ideas', 'on', 'helping', 'the', 'middle', 'class', ',', 'said', 'pawlenty', ',', 'the', 'head', 'of', 'the', 'financial', 'services', 'roundtable', ',', 'a', 'washington', 'lobbying', 'group', 'for', 'the', 'finance', 'industry', '.', 'the', 'party', \"'s\", 'leaders', 'must', 'be', '``', 'willing', 'to', 'put', 'forward', 'ideas', 'that', 'will', 'help', 'modest', 'income', 'workers', ',', 'such', 'as', 'a', 'reasonable', 'increase', 'in', 'the', 'minimum', 'wage', ',', 'and', 'prohibit', 'discrimination', 'in', 'things', 'such', 'as', 'jobs', ',', 'housing', ',', 'public', 'accommodation', 'against', 'gays', 'and', 'lesbians', '.', \"''\", 'walmart', ',', 'which', 'employs', 'more', 'than', '50,000', 'people', 'in', 'arkansas', ',', 'emerged', 'victorious', 'on', 'wednesday', '.', 'hours', 'after', 'the', 'company', \"'s\", 'ceo', ',', 'doug', 'mcmillon', ',', 'called', 'on', 'republican', 'gov.', 'asa', 'hutchinson', 'to', 'veto', 'the', 'bill', ',', 'the', 'governor', 'held', 'a', 'news', 'conference', 'and', 'announced', 'he', 'would', 'not', 'sign', 'the', 'legislation', 'unless', 'its', 'language', 'was', 'fixed', '.', 'walmart', \"'s\", 'opposition', 'to', 'the', 'religious', 'freedom', 'law', 'once', 'again', 'puts', 'the', 'company', 'at', 'odds', 'with', 'many', 'in', 'the', 'republican', 'party', ',', 'which', 'the', 'company', \"'s\", 'political', 'action', 'committee', 'has', 'tended', 'to', 'support', '.', 'in', '2004', ',', 'the', 'walmart', 'pac', 'gave', 'around', '$', '2', 'million', 'to', 'republicans', 'versus', 'less']\n",
            "PRED 0: <t> walmart 's staunch criticism of a religious freedom law in its home state of arkansas came after the company said in february it would boost pay for about 500,000 workers well above the federal minimum wage . </t> <t> the company is emerging as a bellwether for shifting public opinion on hot-button political issues that divide conservatives and liberals . </t>\n",
            "PRED SCORE: -2.4310\n",
            "GOLD 0: <t> while republican gov. asa hutchinson was weighing an arkansas religious freedom bill , walmart voiced its opposition . </t> <t> walmart and other high-profile businesses are showing their support for gay and lesbian rights . </t> <t> their stance puts them in conflict with socially conservative republicans , traditionally seen as allies . </t>\n",
            "GOLD SCORE: -645.5359\n",
            "\n",
            "\n",
            "SENT 0: ['-lrb-', 'cnn', '-rrb-', 'five', 'americans', 'who', 'were', 'monitored', 'for', 'three', 'weeks', 'at', 'an', 'omaha', ',', 'nebraska', ',', 'hospital', 'after', 'being', 'exposed', 'to', 'ebola', 'in', 'west', 'africa', 'have', 'been', 'released', ',', 'a', 'nebraska', 'medicine', 'spokesman', 'said', 'in', 'an', 'email', 'wednesday', '.', 'one', 'of', 'the', 'five', 'had', 'a', 'heart-related', 'issue', 'on', 'saturday', 'and', 'has', 'been', 'discharged', 'but', 'has', \"n't\", 'left', 'the', 'area', ',', 'taylor', 'wilson', 'wrote', '.', 'the', 'others', 'have', 'already', 'gone', 'home', '.', 'they', 'were', 'exposed', 'to', 'ebola', 'in', 'sierra', 'leone', 'in', 'march', ',', 'but', 'none', 'developed', 'the', 'deadly', 'virus', '.', 'they', 'are', 'clinicians', 'for', 'partners', 'in', 'health', ',', 'a', 'boston-based', 'aid', 'group', '.', 'they', 'all', 'had', 'contact', 'with', 'a', 'colleague', 'who', 'was', 'diagnosed', 'with', 'the', 'disease', 'and', 'is', 'being', 'treated', 'at', 'the', 'national', 'institutes', 'of', 'health', 'in', 'bethesda', ',', 'maryland', '.', 'as', 'of', 'monday', ',', 'that', 'health', 'care', 'worker', 'is', 'in', 'fair', 'condition', '.', 'the', 'centers', 'for', 'disease', 'control', 'and', 'prevention', 'in', 'atlanta', 'has', 'said', 'the', 'last', 'of', '17', 'patients', 'who', 'were', 'being', 'monitored', 'are', 'expected', 'to', 'be', 'released', 'by', 'thursday', '.', 'more', 'than', '10,000', 'people', 'have', 'died', 'in', 'a', 'west', 'african', 'epidemic', 'of', 'ebola', 'that', 'dates', 'to', 'december', '2013', ',', 'according', 'to', 'the', 'world', 'health', 'organization', '.', 'almost', 'all', 'the', 'deaths', 'have', 'been', 'in', 'guinea', ',', 'liberia', 'and', 'sierra', 'leone', '.', 'ebola', 'is', 'spread', 'by', 'direct', 'contact', 'with', 'the', 'bodily', 'fluids', 'of', 'an', 'infected', 'person', '.']\n",
            "PRED 0: <t> five americans monitored for three weeks at an omaha , nebraska , hospital . </t> <t> one of the five had a heart-related issue on saturday and has n't left the area . </t>\n",
            "PRED SCORE: -2.6591\n",
            "GOLD 0: <t> 17 americans were exposed to the ebola virus while in sierra leone in march . </t> <t> another person was diagnosed with the disease and taken to hospital in maryland . </t> <t> national institutes of health says the patient is in fair condition after weeks of treatment . </t>\n",
            "GOLD SCORE: -532.0938\n",
            "\n",
            "\n",
            "SENT 0: ['-lrb-', 'cnn', '-rrb-', 'andrew', 'getty', ',', 'one', 'of', 'the', 'heirs', 'to', 'billions', 'of', 'oil', 'money', ',', 'appears', 'to', 'have', 'died', 'of', 'natural', 'causes', ',', 'a', 'los', 'angeles', 'police', 'department', 'spokesman', 'said', '.', 'the', 'coroner', \"'s\", 'preliminary', 'assessment', 'is', 'there', 'was', 'no', 'foul', 'play', 'involved', 'in', 'the', 'death', 'of', 'getty', ',', 'grandson', 'of', 'oil', 'tycoon', 'j.', 'paul', 'getty', ',', 'said', 'detective', 'meghan', 'aguilar', '.', 'andrew', 'getty', ',', '47', ',', 'had', '``', 'several', 'health', 'issues', ',', \"''\", 'aguilar', 'said', ',', 'adding', 'that', 'an', 'autopsy', 'will', 'be', 'conducted', '.', 'there', 'is', 'no', 'criminal', 'investigation', 'underway', ',', 'he', 'said', '.', 'some', 'medication', 'had', 'also', 'been', 'recovered', 'from', 'getty', \"'s\", 'home', ',', 'though', 'investigators', 'do', \"n't\", 'know', 'whether', 'getty', 'was', 'taking', 'it', 'or', 'what', 'his', 'medical', 'history', 'was', ',', 'ed', 'winter', ',', 'assistant', 'chief', 'in', 'the', 'los', 'angeles', 'county', 'coroner', \"'s\", 'office', ',', 'told', 'cnn', 'affiliate', 'ktla', 'tuesday', 'night', '.', 'ktla', 'reported', 'that', 'getty', 'was', 'found', 'on', 'his', 'side', 'near', 'a', 'bathroom', 'in', 'his', 'home', '.', 'getty', \"'s\", 'parents', ',', 'ann', 'and', 'gordon', 'getty', ',', 'released', 'a', 'statement', 'confirming', 'their', 'son', \"'s\", 'death', 'and', 'asking', 'for', 'privacy', '.', 'where', 'the', 'getty', 'family', 'fortune', 'came', 'from', '.', 'gordon', 'getty', 'is', 'one', 'of', 'three', 'living', 'sons', 'of', 'j.', 'paul', 'getty', ',', 'the', 'oil', 'baron', 'who', 'was', 'thought', 'to', 'be', 'the', 'richest', 'man', 'in', 'the', 'world', 'at', 'the', 'time', 'of', 'his', 'death', 'in', '1976', '.', 'gordon', 'getty', ',', '81', ',', 'has', 'a', 'net', 'worth', 'of', '$', '2.1', 'billion', ',', 'according', 'to', 'forbes', '.', 'one', 'other', 'son', 'died', 'in', '1958', 'and', 'another', 'died', 'in', '1973', '.', 'gordon', 'getty', 'spearheaded', 'the', 'controversial', 'sale', 'of', 'getty', 'to', 'texaco', 'for', '$', '10', 'billion', 'in', '1984', '.', 'in', 'its', 'list', 'of', 'richest', 'american', 'families', ',', 'forbes', 'estimated', 'the', 'gettys', \"'\", 'net', 'worth', 'to', 'be', 'about', '$', '5', 'billion', '.', 'court', 'records', 'show', 'andrew', 'getty', 'had', 'recently', 'filed', 'to', 'get', 'a', 'restraining', 'order', 'against', 'an', 'ex-girlfriend', '.', 'a', 'hearing', 'in', 'the', 'case', 'had', 'been', 'scheduled', 'for', 'next', 'week', '.', 'in', 'his', 'request', ',', 'getty', 'said', 'he', 'had', 'been', 'diagnosed', 'with', 'a', 'serious', 'medical', 'condition', 'in', '2013', '.', '``', 'a', 'rise', 'in', 'my', 'blood', 'pressure', 'places', 'me', 'in', 'grave', 'risk', 'of', 'substantial', 'and', 'irreparable', 'injury', 'or', 'death', ',', \"''\", 'he', 'wrote', 'in', 'the', 'petition', '.', '``', 'my', 'doctors', 'have', 'advised', 'that', 'heated', 'arguments', 'can', 'cause', 'my', 'blood', 'pressure', 'to', 'rise', 'dangerously', '.', \"''\", 'andrew', 'getty', 'had', 'three', 'brothers', 'and', 'three', 'half-sisters', '.', 'people', 'we', \"'ve\"]\n",
            "PRED 0: <t> andrew getty , one of the heirs to billions of oil money , appears to have died of natural causes . </t> <t> some medication had also been recovered from getty 's home . </t>\n",
            "PRED SCORE: -1.8958\n",
            "GOLD 0: <t> andrew getty 's death appears to be from natural causes , police say , citing coroner 's early assessment . </t> <t> in a petition for a restraining order , getty had written he had a serious medical condition . </t> <t> police say this is not a criminal matter at this time . </t>\n",
            "GOLD SCORE: -628.4885\n",
            "\n",
            "\n",
            "SENT 0: ['-lrb-', 'cnn', '-rrb-', 'a', 'year', 'ago', 'bloomberg', 'published', 'a', 'story', 'with', 'the', 'following', 'headline', ':', 'mike', 'pence', ',', 'a', 'koch', 'favorite', ',', 'mulls', '2016', 'run', 'for', 'president', '.', 'the', 'story', 'ticked', 'off', 'items', 'on', 'pence', \"'s\", 'conservative', 'things-to-do', 'list', 'while', 'also', 'noting', 'his', 'close', 'ties', 'to', 'the', 'deep-pocketed', 'koch', 'brothers', ',', 'as', 'well', 'as', 'other', 'right-wing', 'lobbying', 'groups', '.', 'last', 'august', 'the', 'indiana', 'governor', 'was', 'in', 'dallas', 'for', 'an', 'americans', 'for', 'prosperity', 'event', ';', 'the', 'group', 'is', 'backed', 'by', 'the', 'conservative', 'koch', 'brothers', ',', 'and', 'supported', 'gov.', 'pence', \"'s\", 'tax-slashing', 'budget', '.', 'now', ',', 'pence', 'is', 'drawing', 'huge', 'heat', 'for', 'his', 'controversial', 'decision', 'to', 'sign', 'a', 'religious', 'freedom', 'law', 'last', 'week', 'that', 'opens', 'the', 'door', 'to', 'discrimination', 'against', 'gays', 'and', 'lesbians', '.', 'why', 'would', 'pence', 'ignore', 'the', 'pleas', 'of', 'indiana', \"'s\", 'chamber', 'of', 'commerce', 'as', 'well', 'as', 'the', 'republican', 'mayor', 'of', 'his', 'state', 'capital', 'and', 'sign', 'such', 'a', 'bill', '?', 'because', 'there', \"'s\", 'a', 'very', 'powerful', 'wing', 'of', 'his', 'party', 'that', 'wants', 'a', 'conservative', 'as', 'its', '2016', 'candidate', 'and', 'this', 'bill', 'was', 'pence', \"'s\", 'way', 'of', 'shoring', 'up', 'his', 'street', 'cred', '.', 'it', 'is', 'also', 'the', 'reason', 'why', 'republican', 'jeb', 'bush', ',', 'pence', \"'s\", 'fellow', 'white', 'house', 'hopeful', ',', 'who', 'is', 'viewed', 'as', 'a', 'little', 'light', 'in', 'that', 'category', ',', 'was', 'first', 'to', 'rush', 'in', 'to', 'defend', 'pence', 'and', 'the', 'law', '.', 'one', 'lesson', 'here', ':', 'just', 'because', 'more', 'than', '70', '%', 'of', 'the', 'country', 'now', 'lives', 'in', 'states', 'where', 'same-sex', 'marriage', 'is', 'legal', 'does', 'not', 'mean', '70', '%', 'of', 'the', 'country', 'is', 'happy', 'about', 'it', '.', 'backlash', 'aside', ',', 'the', 'fact', 'is', 'pence', 'has', 'scored', 'a', 'lot', 'of', 'points', 'this', 'week', 'among', 'ultraconservatives', '.', 'and', 'while', 'that', 'may', 'not', 'be', 'enough', 'to', 'get', 'him', 'over', 'this', 'political', 'hump', ',', 'the', 'very', 'public', 'debate', 'that', 'now', 'embroils', 'him', '--', 'and', 'arkansas', 'gov.', 'asa', 'hutchinson', ',', 'and', 'likely', '14', 'other', 'states', 'considering', 'similar', 'proposals', 'this', 'year', '--', 'is', 'more', 'than', 'enough', 'to', 'drag', 'the', 'entire', 'republican', 'field', 'farther', 'to', 'the', 'right', 'than', 'the', 'party', 'had', 'hoped', '.', 'pence', ':', '`', 'was', 'i', 'expecting', 'this', 'kind', 'of', 'backlash', '?', 'heavens', 'no', '.', \"'\", 'for', 'there', 'is', 'no', 'way', 'a', 'republican', 'can', 'get', 'through', 'the', 'pending', 'primary', 'without', 'denouncing', 'lgbt', 'rights', ',', 'which', 'unfortunately', 'will', 'turn', 'numerous', 'americans', 'into', 'single-issue', 'voters', '.', 'i', 'foolishly', 'hoped', 'the', 'issue', 'of', 'lgbt', 'rights', 'would', 'be', 'a', 'bit', 'player', 'in', 'the', '2016', 'general', 'election', ',', 'overshadowed', 'by']\n",
            "PRED 0: <t> mike pence , a koch favorite , mulls 2016 run for president . </t> <t> last august the indiana governor was in dallas for an americans for prosperity event ; the group is backed by the conservative koch brothers . </t>\n",
            "PRED SCORE: -2.9315\n",
            "GOLD 0: <t> lz : indiana law pushing back lgbt rights , and other states ' <unk> moves , bow to far right wing that gop candidates need for 2016 . </t> <t> cruz , huckabee , jindal , carson , walker are reviving culture wars , he says . equality for lgbt has not yet `` won '' in america . </t>\n",
            "GOLD SCORE: -635.6510\n",
            "\n",
            "\n",
            "SENT 0: ['-lrb-', 'cnn', '-rrb-', 'filipinos', 'are', 'being', 'warned', 'to', 'be', 'on', 'guard', 'for', 'flash', 'floods', 'and', 'landslides', 'as', 'tropical', 'storm', 'maysak', 'approached', 'the', 'asian', 'island', 'nation', 'saturday', '.', 'just', 'a', 'few', 'days', 'ago', ',', 'maysak', 'gained', 'super', 'typhoon', 'status', 'thanks', 'to', 'its', 'sustained', '150', 'mph', 'winds', '.', 'it', 'has', 'since', 'lost', 'a', 'lot', 'of', 'steam', 'as', 'it', 'has', 'spun', 'west', 'in', 'the', 'pacific', 'ocean', '.', 'it', \"'s\", 'now', 'classified', 'as', 'a', 'tropical', 'storm', ',', 'according', 'to', 'the', 'philippine', 'national', 'weather', 'service', ',', 'which', 'calls', 'it', 'a', 'different', 'name', ',', 'chedeng', '.', 'it', 'boasts', 'steady', 'winds', 'of', 'more', 'than', '70', 'mph', '-lrb-', '115', 'kph', '-rrb-', 'and', 'gusts', 'up', 'to', '90', 'mph', 'as', 'of', '5', 'p.m.', '-lrb-', '5', 'a.m.', 'et', '-rrb-', 'saturday', '.', 'still', ',', 'that', 'does', \"n't\", 'mean', 'maysak', 'wo', \"n't\", 'pack', 'a', 'wallop', '.', 'authorities', 'took', 'preemptive', 'steps', 'to', 'keep', 'people', 'safe', 'such', 'as', 'barring', 'outdoor', 'activities', 'like', 'swimming', ',', 'surfing', ',', 'diving', 'and', 'boating', 'in', 'some', 'locales', ',', 'as', 'well', 'as', 'a', 'number', 'of', 'precautionary', 'evacuations', '.', 'gabriel', 'llave', ',', 'a', 'disaster', 'official', ',', 'told', 'pna', 'that', 'tourists', 'who', 'arrive', 'saturday', 'in', 'and', 'around', 'the', 'coastal', 'town', 'of', 'aurora', '``', 'will', 'not', 'be', 'accepted', 'by', 'the', 'owners', 'of', 'hotels', ',', 'resorts', ',', 'inns', 'and', 'the', 'like', '...', 'and', 'will', 'be', 'advised', 'to', 'return', 'to', 'their', 'respective', 'places', '.', \"''\", 'aldczar', 'aurelio', ',', 'a', 'meteorologist', 'with', 'the', 'philippine', 'atmospheric', ',', 'geophysical', 'and', 'astronomical', 'services', 'administration', '-lrb-', 'pagasa', '-rrb-', ',', 'said', 'the', 'storm', 'was', 'centered', '200', 'miles', 'southwest', 'of', 'aurora', 'province', 'as', 'of', '5', 'p.m.', '-lrb-', '5', 'a.m.', 'et', '-rrb-', 'and', 'heading', 'west', 'at', 'a', '12.5', 'mph', 'clip', '.', 'it', \"'s\", 'expected', 'to', 'make', 'landfall', 'sunday', 'morning', 'on', 'the', 'southeastern', 'coast', 'of', 'isabela', 'province', 'and', 'be', 'out', 'of', 'the', 'philippines', 'by', 'monday', '.', 'ahead', 'of', 'the', 'storm', '.', 'isabela', 'gov.', 'faustino', 'dry', 'iii', 'warned', 'saturday', 'that', 'residents', 'should', 'act', 'as', 'if', 'this', 'will', 'be', '``', 'no', 'ordinary', 'typhoon', '.', \"''\", 'dry', 'told', 'pna', ',', '``', 'we', 'do', 'not', 'know', 'what', 'the', 'impact', 'will', 'be', 'once', 'it', 'will', 'make', 'landfall', '.', \"''\"]\n",
            "PRED 0: <t> the storm was centered 200 miles southwest of aurora province as of 5 p.m. -lrb- 5 a.m. et -rrb- and heading west at a 12.5 mph clip . </t> <t> it 's expected to make landfall sunday morning on the southeastern coast of isabela province and be out of the philippines by monday . </t>\n",
            "PRED SCORE: -2.2008\n",
            "GOLD 0: <t> once a super typhoon , <unk> is now a tropical storm with 70 mph winds . </t> <t> it could still cause flooding , landslides and other problems in the philippines . </t>\n",
            "GOLD SCORE: -341.8578\n",
            "\n",
            "\n",
            "SENT 0: ['norfolk', ',', 'virginia', '-lrb-', 'cnn', '-rrb-', 'the', 'second', 'mate', 'of', 'the', 'houston', 'express', 'probably', 'could', \"n't\", 'believe', 'what', 'he', 'was', 'seeing', '.', 'hundreds', 'of', 'miles', 'from', 'land', 'there', 'was', 'a', 'small', 'boat', 'nearby', '.', 'at', 'first', 'it', 'looked', 'abandoned', '.', 'it', 'was', 'in', 'bad', 'shape', ',', 'listing', 'to', 'one', 'side', '.', 'the', 'crew', 'of', 'the', '1,000-foot', 'long', 'container', 'ship', 'thought', 'it', 'was', 'a', 'yacht', 'that', 'had', 'wrecked', '.', 'incredibly', ',', 'as', 'they', 'got', 'closer', ',', 'they', 'saw', 'there', 'was', 'a', 'man', 'on', 'it', ',', 'signaling', 'for', 'help', '.', '``', 'he', 'was', 'moving', ',', 'walking', 'around', ',', 'waving', 'to', 'us', 'and', 'in', 'surprisingly', 'good', 'condition', ',', \"''\", 'capt.', 'thomas', 'grenz', 'told', 'cnn', 'by', 'phone', 'friday', '.', 'that', 'man', ',', 'louis', 'jordan', ',', '37', ',', 'had', 'an', 'amazing', 'story', '.', 'he', \"'d\", 'been', 'drifting', 'on', 'the', '35-foot', 'pearson', 'sailboat', 'for', 'more', 'than', 'two', 'months', 'since', 'leaving', 'conway', ',', 'south', 'carolina', ',', 'to', 'fish', 'in', 'the', 'ocean', '.', 'just', 'a', 'few', 'days', 'into', 'his', 'trip', ',', 'a', 'storm', 'capsized', 'his', 'boat', 'and', 'broke', 'his', 'mast', '.', 'one', 'of', 'his', 'shoulders', 'was', 'broken', ',', 'too', ',', 'so', 'he', 'could', \"n't\", 'fix', 'the', 'boat', 'right', 'away', '.', 'eventually', 'he', 'was', 'able', 'to', 'rig', 'a', 'makeshift', 'mast', 'and', 'sail', ',', 'but', 'he', 'could', 'make', 'little', 'headway', 'against', 'the', 'currents', '.', '``', 'it', 'took', 'so', 'long', ',', \"''\", 'jordan', 'said', '.', '``', 'it', 'moved', 'so', 'slowly', '.', \"''\", 'the', 'boat', 'capsized', 'two', 'more', 'times', 'before', 'he', 'was', 'rescued', ',', 'according', 'to', 'jordan', '.', 'his', 'father', ',', 'frank', 'jordan', ',', 'told', 'cnn', \"'s\", 'jim', 'sciutto', 'that', 'he', 'was', 'expecting', 'his', 'son', 'to', 'look', 'different', '.', '``', 'he', 'looked', 'good', '.', 'had', \"n't\", 'lost', 'too', 'much', 'weight', '.', 'he', 'was', \"n't\", 'badly', 'sunburned', 'like', 'i', 'thought', 'he', 'probably', 'would', 'be', ',', \"''\", 'he', 'said', '.', 'lost', 'at', 'sea', 'for', '66', 'days', '.', 'after', 'his', 'food', 'and', 'water', 'ran', 'out', ',', 'it', 'became', 'an', 'issue', 'of', 'survival', '.', 'collecting', 'fresh', 'water', 'was', 'a', 'nightmare', 'for', 'jordan', '.', 'the', 'weather', 'would', \"n't\", 'cooperate', '.', 'records', 'show', 'there', 'were', 'more', 'than', 'a', 'dozen', 'storms', 'off', 'the', 'coast', 'of', 'the', 'carolinas', 'during', 'the', 'time', 'he', 'was', 'missing', '.', 'the', 'precipitation', 'came', 'at', 'night', 'during', 'harsh', 'conditions', '.', '``', 'i', 'had', 'tried', 'to', 'collect', '-lrb-', 'rain', '-rrb-', 'water', '...', 'but', 'every', 'time', 'the', 'waves', 'would', 'splash', 'into', 'the', 'boat', ',', \"''\", 'jordan', 'said', '.', '``', 'the', 'waves', 'would', 'put', 'saltwater', 'into', 'my', 'freshwater', 'and']\n",
            "PRED 0: <t> louis jordan , 37 , had an amazing story . </t> <t> he 'd been drifting on the 35-foot pearson sailboat for more than two months since leaving conway , south carolina . </t>\n",
            "PRED SCORE: -2.9360\n",
            "GOLD 0: <t> father : `` i know he went through what he went through '' </t> <t> louis jordan was found on his sailboat , which was listing and in bad shape , rescuer says . </t> <t> he appears to be in good shape , physically and mentally . </t>\n",
            "GOLD SCORE: -579.5532\n",
            "\n",
            "\n",
            "SENT 0: ['-lrb-', 'cnn', '-rrb-', 'paul', 'walker', 'is', 'hardly', 'the', 'first', 'actor', 'to', 'die', 'during', 'a', 'production', '.', 'but', 'walker', \"'s\", 'death', 'in', 'november', '2013', 'at', 'the', 'age', 'of', '40', 'after', 'a', 'car', 'crash', 'was', 'especially', 'eerie', 'given', 'his', 'rise', 'to', 'fame', 'in', 'the', '``', 'fast', 'and', 'furious', \"''\", 'film', 'franchise', '.', 'the', 'release', 'of', '``', 'furious', '7', \"''\", 'on', 'friday', 'offers', 'the', 'opportunity', 'for', 'fans', 'to', 'remember', '--', 'and', 'possibly', 'grieve', 'again', '--', 'the', 'man', 'that', 'so', 'many', 'have', 'praised', 'as', 'one', 'of', 'the', 'nicest', 'guys', 'in', 'hollywood', '.', '``', 'he', 'was', 'a', 'person', 'of', 'humility', ',', 'integrity', ',', 'and', 'compassion', ',', \"''\", 'military', 'veteran', 'kyle', 'upham', 'said', 'in', 'an', 'email', 'to', 'cnn', '.', 'walker', 'secretly', 'paid', 'for', 'the', 'engagement', 'ring', 'upham', 'shopped', 'for', 'with', 'his', 'bride', '.', '``', 'we', 'did', \"n't\", 'know', 'him', 'personally', 'but', 'this', 'was', 'apparent', 'in', 'the', 'short', 'time', 'we', 'spent', 'with', 'him', '.', 'i', 'know', 'that', 'we', 'will', 'never', 'forget', 'him', 'and', 'he', 'will', 'always', 'be', 'someone', 'very', 'special', 'to', 'us', ',', \"''\", 'said', 'upham', '.', 'the', 'actor', 'was', 'on', 'break', 'from', 'filming', '``', 'furious', '7', \"''\", 'at', 'the', 'time', 'of', 'the', 'fiery', 'accident', ',', 'which', 'also', 'claimed', 'the', 'life', 'of', 'the', 'car', \"'s\", 'driver', ',', 'roger', 'rodas', '.', 'producers', 'said', 'early', 'on', 'that', 'they', 'would', 'not', 'kill', 'off', 'walker', \"'s\", 'character', ',', 'brian', \"o'connor\", ',', 'a', 'former', 'cop', 'turned', 'road', 'racer', '.', 'instead', ',', 'the', 'script', 'was', 'rewritten', 'and', 'special', 'effects', 'were', 'used', 'to', 'finish', 'scenes', ',', 'with', 'walker', \"'s\", 'brothers', ',', 'cody', 'and', 'caleb', ',', 'serving', 'as', 'body', 'doubles', '.', 'there', 'are', 'scenes', 'that', 'will', 'resonate', 'with', 'the', 'audience', '--', 'including', 'the', 'ending', ',', 'in', 'which', 'the', 'filmmakers', 'figured', 'out', 'a', 'touching', 'way', 'to', 'pay', 'tribute', 'to', 'walker', 'while', '``', 'retiring', \"''\", 'his', 'character', '.', 'at', 'the', 'premiere', 'wednesday', 'night', 'in', 'hollywood', ',', 'walker', \"'s\", 'co-star', 'and', 'close', 'friend', 'vin', 'diesel', 'gave', 'a', 'tearful', 'speech', 'before', 'the', 'screening', ',', 'saying', '``', 'this', 'movie', 'is', 'more', 'than', 'a', 'movie', '.', \"''\", '``', 'you', \"'ll\", 'feel', 'it', 'when', 'you', 'see', 'it', ',', \"''\", 'diesel', 'said', '.', '``', 'there', \"'s\", 'something', 'emotional', 'that', 'happens', 'to', 'you', ',', 'where', 'you', 'walk', 'out', 'of', 'this', 'movie', 'and', 'you', 'appreciate', 'everyone', 'you', 'love', 'because', 'you', 'just', 'never', 'know', 'when', 'the', 'last', 'day', 'is', 'you', \"'re\", 'gon', 'na', 'see', 'them', '.', \"''\", 'there', 'have', 'been', 'multiple', 'tributes', 'to', 'walker', 'leading', 'up', 'to', 'the', 'release', '.', 'diesel', 'revealed', 'in', 'an', 'interview', 'with']\n",
            "PRED 0: <t> paul walker is hardly the first actor to die during a production . </t> <t> the actor was on break from filming `` furious 7 '' at the time of the fiery accident . </t>\n",
            "PRED SCORE: -2.3223\n",
            "GOLD 0: <t> `` furious 7 '' pays tribute to star paul walker , who died during filming . </t> <t> vin diesel : `` this movie is more than a movie '' </t> <t> `` furious 7 '' opens friday . </t>\n",
            "GOLD SCORE: -477.8621\n",
            "\n"
          ],
          "name": "stdout"
        }
      ]
    },
    {
      "cell_type": "markdown",
      "metadata": {
        "id": "QWaqffoBWkGG"
      },
      "source": [
        "Sin embargo estas no son muy legibles como pueden ver previamente, así que utilizaremos también una función propia en donde seleccionaremos al azar uno de estos ejemplos y lo miraremos más en detalle."
      ]
    },
    {
      "cell_type": "code",
      "metadata": {
        "colab": {
          "base_uri": "https://localhost:8080/"
        },
        "id": "Oa9TgqcgWkGJ",
        "outputId": "6c6b1c2b-c414-40dd-fdf5-cf89274ebee9"
      },
      "source": [
        "random_translation = random.choice(translations)\n",
        "display_translation(random_translation)"
      ],
      "execution_count": null,
      "outputs": [
        {
          "output_type": "stream",
          "text": [
            "\u001b[1mSource Text:\u001b[0m\n",
            "-lrb- cnn -rrb- never mind cats having nine lives . a stray pooch in\n",
            "washington state has used up at least three of her own after being hit\n",
            "by a car , apparently whacked on the head with a hammer in a misguided\n",
            "mercy killing and then buried in a field -- only to survive . that 's\n",
            "according to washington state university , where the dog -- a friendly\n",
            "white-and-black bully breed mix now named theia -- has been receiving\n",
            "care at the veterinary teaching hospital . four days after her\n",
            "apparent death , the dog managed to stagger to a nearby farm , dirt-\n",
            "covered and emaciated , where she was found by a worker who took her\n",
            "to a vet for help . she was taken in by moses lake , washington ,\n",
            "resident sara mellado . `` considering everything that she 's been\n",
            "through , she 's incredibly gentle and loving , '' mellado said ,\n",
            "according to wsu news . `` she 's a true miracle dog and she deserves\n",
            "a good life . '' theia is only one year old but the dog 's brush with\n",
            "death did not leave her unscathed . she suffered a dislocated jaw ,\n",
            "leg injuries and a caved-in sinus cavity -- and still requires surgery\n",
            "to help her breathe . the veterinary hospital 's good samaritan fund\n",
            "committee awarded some money to help pay for the dog 's treatment ,\n",
            "but mellado has set up a fundraising page to help meet the remaining\n",
            "cost of the dog 's care . she 's also created a facebook page to keep\n",
            "supporters updated . donors have already surpassed the $ 10,000 target\n",
            ", inspired by theia 's tale of survival against the odds . on the\n",
            "fundraising page , mellado writes , `` she is in desperate need of\n",
            "extensive medical procedures to fix her nasal damage and reset her jaw\n",
            ". i agreed to foster her until she finally found a loving home . ''\n",
            "she is dedicated to making sure theia gets the medical attention she\n",
            "needs , mellado adds , and wants to `` make sure she gets placed in a\n",
            "family where this will never happen to her again ! '' any additional\n",
            "funds raised will be `` paid forward '' to help other animals . theia\n",
            "is not the only animal to apparently rise from the\n",
            "\n",
            "\u001b[1mGold Standard Summarization:\u001b[0m\n",
            "<unk> , a bully breed mix , was apparently hit by a car , whacked with\n",
            "a hammer and buried in a field .  `` she 's a true miracle dog and she\n",
            "deserves a good life , '' says sara <unk> , who is looking for a home\n",
            "for <unk> .\n",
            "\n",
            "\u001b[1mPredicted Summarization:\u001b[0m\n",
            "a stray pooch in washington state has used up at least three of her\n",
            "own after being hit by a car .  she suffered a dislocated jaw , leg\n",
            "injuries and a caved-in sinus cavity and still requires surgery to\n",
            "help her breathe .\n",
            "\n"
          ],
          "name": "stdout"
        }
      ]
    },
    {
      "cell_type": "markdown",
      "metadata": {
        "id": "f32nJ1iQWkGN"
      },
      "source": [
        "#### Evaluación cuantitativa\n",
        "\n",
        "Ya habiendo visto ejemplos de las predicciones que genera nuestro modelo, podemos calcular también una métrica de rendimineto basada en ROUGE.\n",
        "\n",
        "Primero calculemos cuanto es el ROUGE para el ejemplo particular visto previamente."
      ]
    },
    {
      "cell_type": "code",
      "metadata": {
        "colab": {
          "base_uri": "https://localhost:8080/"
        },
        "id": "tfR_FYSZWkGO",
        "outputId": "9be04f78-4f56-49f7-d188-5b94bc55049f"
      },
      "source": [
        "src, tgt, preds = translation2texts(random_translation)\n",
        "scorer = rouge_scorer.RougeScorer(['rouge1', 'rouge2', 'rougeLsum'], use_stemmer=False)\n",
        "scores = scorer.score(tgt, preds[0])\n",
        "for score_type in scores:\n",
        "    score = scores[score_type].fmeasure\n",
        "    print(f'{score_type:10.10s}: {score:.4f}')"
      ],
      "execution_count": null,
      "outputs": [
        {
          "output_type": "stream",
          "text": [
            "rouge1    : 0.2588\n",
            "rouge2    : 0.0723\n",
            "rougeLsum : 0.2353\n"
          ],
          "name": "stdout"
        }
      ]
    },
    {
      "cell_type": "markdown",
      "metadata": {
        "id": "OV5WHMCRWkGR"
      },
      "source": [
        "Finalmente calculemos la métrica ROUGE para el set de test. Calcularla toma un buen rato (una hora aproximadamente) por lo que solo utilizaremos el 10% del set de test y así tener una mejor idea de como estea funcionando nuestro generador de resumenes."
      ]
    },
    {
      "cell_type": "code",
      "metadata": {
        "colab": {
          "base_uri": "https://localhost:8080/",
          "height": 103,
          "referenced_widgets": [
            "e4c7df4aafdd4172a9520cacfad084fe",
            "20e57666eadf400998b10f6df4706ef6",
            "123b4af02b884ebc8f75792b23ff4897",
            "5be8f4ebaf3146fdb4dcbe2d003b05b7",
            "9875ee7c6da541208fd2babb4c3bdcac",
            "0b1f81f250d64d0b983f541f79f3536d",
            "5a92327206884de189ca1753bde53fa6",
            "d3cbdc34602b48b99d08633e97629bb1"
          ]
        },
        "id": "eFYifjOcWkGS",
        "outputId": "efc34fad-bada-4584-db3b-6a31101ee6a1"
      },
      "source": [
        "aggregator = BootstrapAggregator()\n",
        "\n",
        "total = len(data_iter)\n",
        "\n",
        "# calcularemos el ROUGE sobre el 10% del set de test solamente, cambiar a 1 para el set completo\n",
        "test_ratio = 0.1\n",
        "stop = int(test_ratio * total)\n",
        "\n",
        "for i, batch in tqdm(enumerate(data_iter), total=min(stop, total)):\n",
        "    if i > stop:\n",
        "        break\n",
        "    trans_batch = translator.translate_batch(\n",
        "        batch=batch, src_vocabs=dataset.src_vocabs,\n",
        "        attn_debug=False)\n",
        "    translations = builder.from_batch(trans_batch)\n",
        "\n",
        "    for translation in translations:\n",
        "        score = translation_score(translation)\n",
        "        aggregator.add_scores(score)\n",
        "\n",
        "result = aggregator.aggregate()\n",
        "\n",
        "for score_type in result:\n",
        "    score = result[score_type].mid.fmeasure\n",
        "    print(f'{score_type:10.10s}: {score:.4f}')"
      ],
      "execution_count": null,
      "outputs": [
        {
          "output_type": "display_data",
          "data": {
            "application/vnd.jupyter.widget-view+json": {
              "model_id": "e4c7df4aafdd4172a9520cacfad084fe",
              "version_minor": 0,
              "version_major": 2
            },
            "text/plain": [
              "HBox(children=(FloatProgress(value=0.0, max=57.0), HTML(value='')))"
            ]
          },
          "metadata": {
            "tags": []
          }
        },
        {
          "output_type": "stream",
          "text": [
            "rouge1    : 0.2724\n",
            "rouge2    : 0.0957\n",
            "rougeLsum : 0.2439\n"
          ],
          "name": "stdout"
        }
      ]
    },
    {
      "cell_type": "markdown",
      "metadata": {
        "id": "qMaayH1yiMup"
      },
      "source": [
        "#### Actividad 2\n",
        "\n",
        "A continuación responda las siguientes preguntas.\n",
        "1. ¿Qué diferencia (una) cualitativa nota entre las predicciones del model base con el que usa pointer networks?\n",
        "2. ¿Qué modelo alcanzó mejor rendimiento en ROUGE? Responda para las tres métrias de ROUGE distintas."
      ]
    },
    {
      "cell_type": "markdown",
      "metadata": {
        "id": "x2Iy2vI4nCnf"
      },
      "source": [
        "**Respuestas:**\n",
        "\n",
        "1."
      ]
    },
    {
      "cell_type": "code",
      "metadata": {
        "cellView": "form",
        "id": "q09ekuGUnC5Q"
      },
      "source": [
        "Diferencias = \"Se observa que el modelo con pointer tiene menos vectores unknown que el modelo base\" #@param {type:\"string\"}"
      ],
      "execution_count": null,
      "outputs": []
    },
    {
      "cell_type": "markdown",
      "metadata": {
        "id": "W1ZRQxcPnDRS"
      },
      "source": [
        "2."
      ]
    },
    {
      "cell_type": "markdown",
      "metadata": {
        "id": "-N3DBtgcBNoi"
      },
      "source": [
        "En los tres tipos de rouge el modelo pointer tiene mayores valores que el modelo base"
      ]
    },
    {
      "cell_type": "code",
      "metadata": {
        "cellView": "form",
        "id": "xO6gzhiwmo1B"
      },
      "source": [
        "rouge_1 = \"modelo base= 0.2631; modelo pointer = 0.2724\" #@param {type:\"string\"}\n",
        "rouge_2 = \"modelo base= 0.0846; modelo pointer = 0.0957\" #@param {type:\"string\"}\n",
        "rouge_L = \"modelo base= 0.2379; modelo pointer = 0.2439\" #@param {type:\"string\"}"
      ],
      "execution_count": null,
      "outputs": []
    },
    {
      "cell_type": "markdown",
      "metadata": {
        "id": "O2kVqHVELyGR"
      },
      "source": [
        "### Actividad 3: Modelo Coverage\n",
        "\n",
        "Descomente y ejecute la evaluación cualitativa y cuantitativa del modelo de coverage. Reporte al final los resultados obtenidos en la evaluación cuantitativa.\n",
        "\n",
        "**Ayuda:** No debe modificar el código, pero si fijarse de setear los archivos de configuración correctos correspondientes."
      ]
    },
    {
      "cell_type": "code",
      "metadata": {
        "id": "UYNgXG8bL6LV"
      },
      "source": [
        "checkpoint_path = 'checkpoints/coverage_checkpoint.pt'\n",
        "config_path = 'configs/config-cnndm-coverage.yaml'\n",
        "\n",
        "checkpoint, fields, opts = get_checkpoint_data(checkpoint_path)\n",
        "opts, model_opt = update_opts(opts, config_path)"
      ],
      "execution_count": 17,
      "outputs": []
    },
    {
      "cell_type": "code",
      "metadata": {
        "id": "-5xyC9Q1WueK"
      },
      "source": [
        "src_val = \"data/cnndm/val.txt.src\"\n",
        "tgt_val = \"data/cnndm/val.txt.tgt.tagged\"\n",
        "src_test = \"data/cnndm/test.txt.src\"\n",
        "tgt_test = \"data/cnndm/test.txt.tgt.tagged\"\n",
        "\n",
        "src = src_test\n",
        "tgt = tgt_test\n",
        "\n",
        "dataset = build_dataset(src, tgt)\n",
        "data_iter = onmt.inputters.OrderedIterator(\n",
        "                dataset=dataset,\n",
        "                device=device,\n",
        "                batch_size=opts.batch_size,\n",
        "                train=False,\n",
        "                sort=False,\n",
        "                sort_within_batch=True,\n",
        "                shuffle=False,\n",
        "            )"
      ],
      "execution_count": 18,
      "outputs": []
    },
    {
      "cell_type": "markdown",
      "metadata": {
        "id": "x9UWB7YRWueQ"
      },
      "source": [
        "Debemos crear nuestro modelo en base la configuración que tenemos para nuestro modelo base."
      ]
    },
    {
      "cell_type": "code",
      "metadata": {
        "id": "ZcOzt4KkWueQ"
      },
      "source": [
        "model = build_model(model_opt, opts, fields, checkpoint)\n",
        "model.to(device)\n",
        "\n",
        "translator, scorer, builder =build_translator(opts, model, dataset, fields, tgt)"
      ],
      "execution_count": 19,
      "outputs": []
    },
    {
      "cell_type": "markdown",
      "metadata": {
        "id": "UAMSGfksWueT"
      },
      "source": [
        "#### Evaluación cualitativa\n",
        "\n",
        "Veamos algunos de los ejemplos abstractivos que produce nuestro modelo. Podemos aprovechar funciones que nos da `OpenNMT` para realizar esta inspección."
      ]
    },
    {
      "cell_type": "code",
      "metadata": {
        "id": "Qkkwgx69WueV",
        "colab": {
          "base_uri": "https://localhost:8080/"
        },
        "outputId": "2abf480b-583a-45d5-889e-8efa096770bb"
      },
      "source": [
        "for batch in data_iter:\n",
        "    trans_batch = translator.translate_batch(\n",
        "        batch=batch, src_vocabs=dataset.src_vocabs,\n",
        "        attn_debug=False)\n",
        "    translations = builder.from_batch(trans_batch)\n",
        "    for trans in translations:\n",
        "        print(trans.log(0))\n",
        "    break"
      ],
      "execution_count": 20,
      "outputs": [
        {
          "output_type": "stream",
          "text": [
            "\n",
            "SENT 0: ['marseille', ',', 'france', '-lrb-', 'cnn', '-rrb-', 'the', 'french', 'prosecutor', 'leading', 'an', 'investigation', 'into', 'the', 'crash', 'of', 'germanwings', 'flight', '9525', 'insisted', 'wednesday', 'that', 'he', 'was', 'not', 'aware', 'of', 'any', 'video', 'footage', 'from', 'on', 'board', 'the', 'plane', '.', 'marseille', 'prosecutor', 'brice', 'robin', 'told', 'cnn', 'that', '``', 'so', 'far', 'no', 'videos', 'were', 'used', 'in', 'the', 'crash', 'investigation', '.', \"''\", 'he', 'added', ',', '``', 'a', 'person', 'who', 'has', 'such', 'a', 'video', 'needs', 'to', 'immediately', 'give', 'it', 'to', 'the', 'investigators', '.', \"''\", 'robin', \"'s\", 'comments', 'follow', 'claims', 'by', 'two', 'magazines', ',', 'german', 'daily', 'bild', 'and', 'french', 'paris', 'match', ',', 'of', 'a', 'cell', 'phone', 'video', 'showing', 'the', 'harrowing', 'final', 'seconds', 'from', 'on', 'board', 'germanwings', 'flight', '9525', 'as', 'it', 'crashed', 'into', 'the', 'french', 'alps', '.', 'all', '150', 'on', 'board', 'were', 'killed', '.', 'paris', 'match', 'and', 'bild', 'reported', 'that', 'the', 'video', 'was', 'recovered', 'from', 'a', 'phone', 'at', 'the', 'wreckage', 'site', '.', 'the', 'two', 'publications', 'described', 'the', 'supposed', 'video', ',', 'but', 'did', 'not', 'post', 'it', 'on', 'their', 'websites', '.', 'the', 'publications', 'said', 'that', 'they', 'watched', 'the', 'video', ',', 'which', 'was', 'found', 'by', 'a', 'source', 'close', 'to', 'the', 'investigation', '.', '``', 'one', 'can', 'hear', 'cries', 'of', '`', 'my', 'god', \"'\", 'in', 'several', 'languages', ',', \"''\", 'paris', 'match', 'reported', '.', '``', 'metallic', 'banging', 'can', 'also', 'be', 'heard', 'more', 'than', 'three', 'times', ',', 'perhaps', 'of', 'the', 'pilot', 'trying', 'to', 'open', 'the', 'cockpit', 'door', 'with', 'a', 'heavy', 'object', '.', 'towards', 'the', 'end', ',', 'after', 'a', 'heavy', 'shake', ',', 'stronger', 'than', 'the', 'others', ',', 'the', 'screaming', 'intensifies', '.', 'then', 'nothing', '.', \"''\", '``', 'it', 'is', 'a', 'very', 'disturbing', 'scene', ',', \"''\", 'said', 'julian', 'reichelt', ',', 'editor-in-chief', 'of', 'bild', 'online', '.', 'an', 'official', 'with', 'france', \"'s\", 'accident', 'investigation', 'agency', ',', 'the', 'bea', ',', 'said', 'the', 'agency', 'is', 'not', 'aware', 'of', 'any', 'such', 'video', '.', 'lt.', 'col.', 'jean-marc', 'menichini', ',', 'a', 'french', 'gendarmerie', 'spokesman', 'in', 'charge', 'of', 'communications', 'on', 'rescue', 'efforts', 'around', 'the', 'germanwings', 'crash', 'site', ',', 'told', 'cnn', 'that', 'the', 'reports', 'were', '``', 'completely', 'wrong', \"''\", 'and', '``', 'unwarranted', '.', \"''\", 'cell', 'phones', 'have', 'been', 'collected', 'at', 'the', 'site', ',', 'he', 'said', ',', 'but', 'that', 'they', '``', 'had', \"n't\", 'been', 'exploited', 'yet', '.', \"''\", 'menichini', 'said', 'he', 'believed', 'the', 'cell', 'phones', 'would', 'need', 'to', 'be', 'sent', 'to', 'the', 'criminal', 'research', 'institute', 'in', 'rosny', 'sous-bois', ',', 'near', 'paris', ',', 'in', 'order', 'to', 'be', 'analyzed', 'by', 'specialized', 'technicians', 'working', 'hand-in-hand', 'with', 'investigators', '.', 'but', 'none', 'of', 'the', 'cell', 'phones', 'found', 'so', 'far', 'have', 'been', 'sent', 'to', 'the']\n",
            "PRED 0: <t> robin 's comments follow claims by two magazines , german daily bild and french paris match , of a cell phone video showing the harrowing final seconds from on board germanwings flight 9525 . </t> <t> all 150 on board were killed . </t>\n",
            "PRED SCORE: -2.5525\n",
            "GOLD 0: <t> marseille prosecutor says `` so far no videos were used in the crash investigation '' despite media reports . </t> <t> journalists at bild and paris match are `` very confident '' the video clip is real , an editor says . </t> <t> andreas <unk> had informed his lufthansa training school of an episode of severe depression , airline says . </t>\n",
            "GOLD SCORE: -702.7999\n",
            "\n",
            "\n",
            "SENT 0: ['-lrb-', 'cnn', '-rrb-', 'the', 'palestinian', 'authority', 'officially', 'became', 'the', '123rd', 'member', 'of', 'the', 'international', 'criminal', 'court', 'on', 'wednesday', ',', 'a', 'step', 'that', 'gives', 'the', 'court', 'jurisdiction', 'over', 'alleged', 'crimes', 'in', 'palestinian', 'territories', '.', 'the', 'formal', 'accession', 'was', 'marked', 'with', 'a', 'ceremony', 'at', 'the', 'hague', ',', 'in', 'the', 'netherlands', ',', 'where', 'the', 'court', 'is', 'based', '.', 'the', 'palestinians', 'signed', 'the', 'icc', \"'s\", 'founding', 'rome', 'statute', 'in', 'january', ',', 'when', 'they', 'also', 'accepted', 'its', 'jurisdiction', 'over', 'alleged', 'crimes', 'committed', '``', 'in', 'the', 'occupied', 'palestinian', 'territory', ',', 'including', 'east', 'jerusalem', ',', 'since', 'june', '13', ',', '2014', '.', \"''\", 'later', 'that', 'month', ',', 'the', 'icc', 'opened', 'a', 'preliminary', 'examination', 'into', 'the', 'situation', 'in', 'palestinian', 'territories', ',', 'paving', 'the', 'way', 'for', 'possible', 'war', 'crimes', 'investigations', 'against', 'israelis', '.', 'as', 'members', 'of', 'the', 'court', ',', 'palestinians', 'may', 'be', 'subject', 'to', 'counter-charges', 'as', 'well', '.', 'israel', 'and', 'the', 'united', 'states', ',', 'neither', 'of', 'which', 'is', 'an', 'icc', 'member', ',', 'opposed', 'the', 'palestinians', \"'\", 'efforts', 'to', 'join', 'the', 'body', '.', 'but', 'palestinian', 'foreign', 'minister', 'riad', 'al-malki', ',', 'speaking', 'at', 'wednesday', \"'s\", 'ceremony', ',', 'said', 'it', 'was', 'a', 'move', 'toward', 'greater', 'justice', '.', '``', 'as', 'palestine', 'formally', 'becomes', 'a', 'state', 'party', 'to', 'the', 'rome', 'statute', 'today', ',', 'the', 'world', 'is', 'also', 'a', 'step', 'closer', 'to', 'ending', 'a', 'long', 'era', 'of', 'impunity', 'and', 'injustice', ',', \"''\", 'he', 'said', ',', 'according', 'to', 'an', 'icc', 'news', 'release', '.', '``', 'indeed', ',', 'today', 'brings', 'us', 'closer', 'to', 'our', 'shared', 'goals', 'of', 'justice', 'and', 'peace', '.', \"''\", 'judge', 'kuniko', 'ozaki', ',', 'a', 'vice', 'president', 'of', 'the', 'icc', ',', 'said', 'acceding', 'to', 'the', 'treaty', 'was', 'just', 'the', 'first', 'step', 'for', 'the', 'palestinians', '.', '``', 'as', 'the', 'rome', 'statute', 'today', 'enters', 'into', 'force', 'for', 'the', 'state', 'of', 'palestine', ',', 'palestine', 'acquires', 'all', 'the', 'rights', 'as', 'well', 'as', 'responsibilities', 'that', 'come', 'with', 'being', 'a', 'state', 'party', 'to', 'the', 'statute', '.', 'these', 'are', 'substantive', 'commitments', ',', 'which', 'can', 'not', 'be', 'taken', 'lightly', ',', \"''\", 'she', 'said', '.', 'rights', 'group', 'human', 'rights', 'watch', 'welcomed', 'the', 'development', '.', '``', 'governments', 'seeking', 'to', 'penalize', 'palestine', 'for', 'joining', 'the', 'icc', 'should', 'immediately', 'end', 'their', 'pressure', ',', 'and', 'countries', 'that', 'support', 'universal', 'acceptance', 'of', 'the', 'court', \"'s\", 'treaty', 'should', 'speak', 'out', 'to', 'welcome', 'its', 'membership', ',', \"''\", 'said', 'balkees', 'jarrah', ',', 'international', 'justice', 'counsel', 'for', 'the', 'group', '.', '``', 'what', \"'s\", 'objectionable', 'is', 'the', 'attempts', 'to', 'undermine', 'international', 'justice', ',', 'not', 'palestine', \"'s\", 'decision', 'to', 'join', 'a', 'treaty', 'to', 'which', 'over', '100', 'countries']\n",
            "PRED 0: <t> the formal accession was marked with a ceremony at the hague , in the netherlands . </t> <t> they also accepted its jurisdiction over alleged crimes committed `` in the occupied palestinian territory '' </t> <t> palestinian foreign minister riad al-malki said it was a move toward greater justice . </t>\n",
            "PRED SCORE: -2.5255\n",
            "GOLD 0: <t> membership gives the icc jurisdiction over alleged crimes committed in palestinian territories since last june . </t> <t> israel and the united states opposed the move , which could open the door to war crimes investigations against israelis . </t>\n",
            "GOLD SCORE: -503.0926\n",
            "\n",
            "\n",
            "SENT 0: ['-lrb-', 'cnn', '-rrb-', 'governments', 'around', 'the', 'world', 'are', 'using', 'the', 'threat', 'of', 'terrorism', '--', 'real', 'or', 'perceived', '--', 'to', 'advance', 'executions', ',', 'amnesty', 'international', 'alleges', 'in', 'its', 'annual', 'report', 'on', 'the', 'death', 'penalty', '.', '``', 'the', 'dark', 'trend', 'of', 'governments', 'using', 'the', 'death', 'penalty', 'in', 'a', 'futile', 'attempt', 'to', 'tackle', 'real', 'or', 'imaginary', 'threats', 'to', 'state', 'security', 'and', 'public', 'safety', 'was', 'stark', 'last', 'year', ',', \"''\", 'said', 'salil', 'shetty', ',', 'amnesty', \"'s\", 'secretary', 'general', 'in', 'a', 'release', '.', '``', 'it', 'is', 'shameful', 'that', 'so', 'many', 'states', 'around', 'the', 'world', 'are', 'essentially', 'playing', 'with', 'people', \"'s\", 'lives', '--', 'putting', 'people', 'to', 'death', 'for', '`', 'terrorism', \"'\", 'or', 'to', 'quell', 'internal', 'instability', 'on', 'the', 'ill-conceived', 'premise', 'of', 'deterrence', '.', \"''\", 'the', 'report', ',', '``', 'death', 'sentences', 'and', 'executions', '2014', ',', \"''\", 'cites', 'the', 'example', 'of', 'pakistan', 'lifting', 'a', 'six-year', 'moratorium', 'on', 'the', 'execution', 'of', 'civilians', 'following', 'the', 'horrific', 'attack', 'on', 'a', 'school', 'in', 'peshawar', 'in', 'december', '.', 'china', 'is', 'also', 'mentioned', ',', 'as', 'having', 'used', 'the', 'death', 'penalty', 'as', 'a', 'tool', 'in', 'its', '``', 'strike', 'hard', \"''\", 'campaign', 'against', 'terrorism', 'in', 'the', 'restive', 'far-western', 'province', 'of', 'xinjiang', '.', 'the', 'annual', 'report', 'catalogs', 'the', 'use', 'of', 'state-sanctioned', 'killing', 'as', 'a', 'punitive', 'measure', 'across', 'the', 'globe', ',', 'and', 'this', 'year', \"'s\", 'edition', 'contains', 'some', 'mixed', 'findings', '.', 'on', 'one', 'hand', ',', 'the', 'number', 'of', 'executions', 'worldwide', 'has', 'gone', 'down', 'by', 'almost', '22', '%', 'on', 'the', 'previous', 'year', '.', 'at', 'least', '607', 'people', 'were', 'executed', 'around', 'the', 'world', 'in', '2014', ',', 'compared', 'to', '778', 'in', '2013', '.', 'amnesty', \"'s\", 'figures', 'do', 'not', 'include', 'statistics', 'on', 'executions', 'carried', 'out', 'in', 'china', ',', 'where', 'information', 'on', 'the', 'practice', 'is', 'regarded', 'as', 'a', 'state', 'secret', '.', 'belarus', 'and', 'vietnam', ',', 'too', ',', 'do', 'not', 'release', 'data', 'on', 'death', 'penalty', 'cases', '.', '``', 'the', 'long-term', 'trend', 'is', 'definitely', 'positive', '--', 'we', 'are', 'seeing', 'a', 'decrease', 'in', 'the', 'number', 'of', 'executions', '-lrb-', 'worldwide', '-rrb-', ',', \"''\", 'audrey', 'gaughran', ',', 'amnesty', \"'s\", 'director', 'of', 'global', 'issues', ',', 'told', 'cnn', '.', '``', 'a', 'number', 'of', 'countries', 'are', 'closer', 'to', 'abolition', ',', 'and', 'there', 'are', 'some', 'signs', 'that', 'some', 'countries', 'will', 'be', 'abolitionist', 'by', '2015', '.', '-lrb-', 'there', 'are', '-rrb-', 'signals', 'of', 'a', 'world', 'that', 'is', 'nearing', 'abolition', '.', \"''\", 'while', 'the', 'report', 'notes', 'some', 'encouraging', 'signs', ',', 'it', 'also', 'highlights', 'a', 'marked', 'increase', 'in', 'the', 'number', 'of', 'people', 'sentenced', 'to', 'death', 'in', '2014', '.', 'at', 'least', '2,466', 'people', 'globally', 'are', 'confirmed', 'to']\n",
            "PRED 0: <t> amnesty international : `` the dark trend of governments using the death penalty in a futile attempt to tackle real or imaginary threats to state security and public safety was stark last year ' </t> <t> the report , `` death sentences and executions 2014 , '' cites the example of pakistan lifting a six-year moratorium on the execution of civilians . </t> <t> at least 607 people were executed around the world in 2014 , compared to 778 in 2013 . </t>\n",
            "PRED SCORE: -2.3736\n",
            "GOLD 0: <t> amnesty 's annual death penalty report <unk> encouraging signs , but setbacks in numbers of those sentenced to death . </t> <t> organization claims that governments around the world are using the threat of terrorism to advance executions . </t> <t> the number of executions worldwide has gone down by almost 22 % compared with 2013 , but death sentences up by 28 % . </t>\n",
            "GOLD SCORE: -744.4806\n",
            "\n",
            "\n",
            "SENT 0: ['-lrb-', 'cnn', '-rrb-', 'on', 'may', '28', ',', '2014', ',', 'some', '7,000', 'people', 'gathered', 'in', 'a', 'stadium', 'in', 'china', \"'s\", 'northwestern', 'xinjiang', 'region', '.', 'but', 'they', 'had', 'not', 'come', 'to', 'watch', 'the', 'local', 'football', 'team', 'or', 'any', 'other', 'grand', 'sporting', 'event', '.', 'instead', ',', 'the', 'authorities', 'paraded', 'scores', 'of', 'prisoners', 'dressed', 'in', 'orange', 'jumpsuits', '.', 'armed', 'soldiers', 'guarded', 'the', 'exits', '.', 'in', 'the', 'patently', 'unfair', ',', 'open', 'air', 'trial', 'that', 'followed', ',', '55', 'people', 'were', 'found', 'guilty', 'of', 'a', 'range', 'of', 'offenses', 'linked', 'to', 'violent', 'attacks', 'in', 'the', 'region', 'and', 'jailed', '.', 'three', 'were', 'sentenced', 'to', 'death', '.', 'the', 'public', 'mass', 'sentencing', 'was', 'part', 'a', 'china', \"'s\", '``', 'strike', 'hard', \"''\", 'campaign', 'against', 'unrest', 'in', 'xinjiang', ',', 'a', 'campaign', 'the', 'government', 'claims', 'was', 'launched', 'to', 'combat', '``', 'terrorism', \"''\", 'and', '``', 'separatism', '.', \"''\", 'but', 'it', 'was', 'also', 'indicative', 'of', 'a', 'trend', 'that', 'was', 'starkly', 'evident', 'last', 'year', 'around', 'the', 'world', '--', 'governments', 'using', 'the', 'death', 'penalty', 'in', 'a', 'misguided', ',', 'and', 'often', 'cynical', ',', 'attempt', 'to', 'tackle', 'crime', 'and', 'terrorism', '.', 'today', ',', 'amnesty', 'international', 'releases', 'its', 'annual', 'review', 'of', 'the', 'death', 'penalty', 'worldwide', '.', 'much', 'of', 'it', 'makes', 'for', 'grim', 'reading', '.', 'in', 'pakistan', ',', 'the', 'government', 'lifted', 'a', 'six-year', 'moratorium', 'on', 'the', 'execution', 'of', 'civilians', 'in', 'the', 'wake', 'of', 'the', 'horrific', 'taliban', 'attack', 'on', 'a', 'school', 'in', 'peshawar', 'in', 'december', '.', 'more', 'than', '60', 'people', 'have', 'been', 'put', 'to', 'death', 'since', ',', 'and', 'the', 'government', 'has', 'threatened', 'to', 'send', 'thousands', 'more', 'death', 'row', 'prisoners', 'to', 'the', 'gallows', '.', 'iran', 'and', 'iraq', 'executed', 'people', 'for', '``', 'terrorism', ',', \"''\", 'and', 'other', 'countries', 'expanded', 'the', 'scope', 'of', 'capital', 'crimes', 'in', 'their', 'penal', 'codes', '.', 'in', 'a', 'year', 'when', 'abhorrent', 'summary', 'executions', 'by', 'armed', 'groups', 'were', 'branded', 'on', 'the', 'global', 'consciousness', 'as', 'never', 'before', ',', 'governments', 'are', 'themselves', 'resorting', 'to', 'more', 'executions', 'in', 'a', 'knee-jerk', 'reaction', 'to', 'terrorism', '.', 'other', 'countries', 'made', 'use', 'of', 'executions', 'in', 'similarly', 'flawed', 'attempts', 'to', 'address', '--', 'or', 'appear', 'to', 'address', '--', 'crime', 'rates', '.', 'jordan', 'ended', 'an', 'eight-year', 'moratorium', 'in', 'december', ',', 'putting', '11', 'murder', 'convicts', 'to', 'death', ',', 'with', 'the', 'government', 'saying', 'it', 'was', 'a', 'move', 'to', 'end', 'a', 'surge', 'in', 'violent', 'crime', '.', 'in', 'indonesia', ',', 'authorities', 'announced', 'plans', 'to', 'execute', 'mainly', 'drug', 'traffickers', 'to', 'tackle', 'a', 'public', 'safety', '``', 'national', 'emergency', '.', \"''\", 'six', 'people', 'have', 'already', 'been', 'executed', 'this', 'year', '.', 'a', 'sharp', 'spike', 'in', 'death', 'sentences', 'recorded', 'in', '2014', '--']\n",
            "PRED 0: <t> some 7,000 people gathered in a stadium in china 's northwestern xinjiang region . </t> <t> it was also indicative of a trend that was starkly evident last year around the world . </t>\n",
            "PRED SCORE: -3.3133\n",
            "GOLD 0: <t> amnesty international releases its annual review of the death penalty worldwide ; much of it makes for grim reading . </t> <t> <unk> shetty : countries that use executions to deal with problems are on the wrong side of history . </t>\n",
            "GOLD SCORE: -486.5357\n",
            "\n",
            "\n",
            "SENT 0: ['-lrb-', 'cnn', '-rrb-', 'seventy', 'years', 'ago', ',', 'anne', 'frank', 'died', 'of', 'typhus', 'in', 'a', 'nazi', 'concentration', 'camp', 'at', 'the', 'age', 'of', '15', '.', 'just', 'two', 'weeks', 'after', 'her', 'supposed', 'death', 'on', 'march', '31', ',', '1945', ',', 'the', 'bergen-belsen', 'concentration', 'camp', 'where', 'she', 'had', 'been', 'imprisoned', 'was', 'liberated', '--', 'timing', 'that', 'showed', 'how', 'close', 'the', 'jewish', 'diarist', 'had', 'been', 'to', 'surviving', 'the', 'holocaust', '.', 'but', 'new', 'research', 'released', 'by', 'the', 'anne', 'frank', 'house', 'shows', 'that', 'anne', 'and', 'her', 'older', 'sister', ',', 'margot', 'frank', ',', 'died', 'at', 'least', 'a', 'month', 'earlier', 'than', 'previously', 'thought', '.', 'researchers', 're-examined', 'archives', 'of', 'the', 'red', 'cross', ',', 'the', 'international', 'training', 'service', 'and', 'the', 'bergen-belsen', 'memorial', ',', 'along', 'with', 'testimonies', 'of', 'survivors', '.', 'they', 'concluded', 'that', 'anne', 'and', 'margot', 'probably', 'did', 'not', 'survive', 'to', 'march', '1945', '--', 'contradicting', 'the', 'date', 'of', 'death', 'which', 'had', 'previously', 'been', 'determined', 'by', 'dutch', 'authorities', '.', 'in', '1944', ',', 'anne', 'and', 'seven', 'others', 'hiding', 'in', 'the', 'amsterdam', 'secret', 'annex', 'were', 'arrested', 'and', 'sent', 'to', 'the', 'auschwitz-birkenau', 'concentration', 'camp', '.', 'anne', 'frank', \"'s\", 'final', 'entry', '.', 'that', 'same', 'year', ',', 'anne', 'and', 'margot', 'were', 'separated', 'from', 'their', 'mother', 'and', 'sent', 'away', 'to', 'work', 'as', 'slave', 'labor', 'at', 'the', 'bergen-belsen', 'camp', 'in', 'germany', '.', 'days', 'at', 'the', 'camp', 'were', 'filled', 'with', 'terror', 'and', 'dread', ',', 'witnesses', 'said', '.', 'the', 'sisters', 'stayed', 'in', 'a', 'section', 'of', 'the', 'overcrowded', 'camp', 'with', 'no', 'lighting', ',', 'little', 'water', 'and', 'no', 'latrine', '.', 'they', 'slept', 'on', 'lice-ridden', 'straw', 'and', 'violent', 'storms', 'shredded', 'the', 'tents', ',', 'according', 'to', 'the', 'researchers', '.', 'like', 'the', 'other', 'prisoners', ',', 'the', 'sisters', 'endured', 'long', 'hours', 'at', 'roll', 'call', '.', 'her', 'classmate', ',', 'nannette', 'blitz', ',', 'recalled', 'seeing', 'anne', 'there', 'in', 'december', '1944', ':', '``', 'she', 'was', 'no', 'more', 'than', 'a', 'skeleton', 'by', 'then', '.', 'she', 'was', 'wrapped', 'in', 'a', 'blanket', ';', 'she', 'could', \"n't\", 'bear', 'to', 'wear', 'her', 'clothes', 'anymore', 'because', 'they', 'were', 'crawling', 'with', 'lice', '.', \"''\", 'listen', 'to', 'anne', 'frank', \"'s\", 'friends', 'describe', 'her', 'concentration', 'camp', 'experience', '.', 'as', 'the', 'russians', 'advanced', 'further', ',', 'the', 'bergen-belsen', 'concentration', 'camp', 'became', 'even', 'more', 'crowded', ',', 'bringing', 'more', 'disease', '.', 'a', 'deadly', 'typhus', 'outbreak', 'caused', 'thousands', 'to', 'die', 'each', 'day', '.', 'typhus', 'is', 'an', 'infectious', 'disease', 'caused', 'by', 'lice', 'that', 'breaks', 'out', 'in', 'places', 'with', 'poor', 'hygiene', '.', 'the', 'disease', 'causes', 'high', 'fever', ',', 'chills', 'and', 'skin', 'eruptions', '.', '``', 'because', 'of', 'the', 'lice', 'infesting', 'the', 'bedstraw', 'and', 'her', 'clothes', ',', 'anne', 'was', 'exposed', 'to']\n",
            "PRED 0: <t> anne and her older sister margot frank died at least a month earlier than previously thought . </t> <t> researchers re-examined archives of the red cross , the international training service and the bergen-belsen memorial , along with testimonies . </t>\n",
            "PRED SCORE: -2.5068\n",
            "GOLD 0: <t> museum : anne frank died earlier than previously believed . </t> <t> researchers re-examined archives and testimonies of survivors . </t> <t> anne and older sister margot frank are believed to have died in february 1945 . </t>\n",
            "GOLD SCORE: -516.5862\n",
            "\n",
            "\n",
            "SENT 0: ['-lrb-', 'cnn', '-rrb-', 'a', 'duke', 'student', 'has', 'admitted', 'to', 'hanging', 'a', 'noose', 'made', 'of', 'rope', 'from', 'a', 'tree', 'near', 'a', 'student', 'union', ',', 'university', 'officials', 'said', 'thursday', '.', 'the', 'prestigious', 'private', 'school', 'did', \"n't\", 'identify', 'the', 'student', ',', 'citing', 'federal', 'privacy', 'laws', '.', 'in', 'a', 'news', 'release', ',', 'it', 'said', 'the', 'student', 'was', 'no', 'longer', 'on', 'campus', 'and', 'will', 'face', 'student', 'conduct', 'review', '.', 'the', 'student', 'was', 'identified', 'during', 'an', 'investigation', 'by', 'campus', 'police', 'and', 'the', 'office', 'of', 'student', 'affairs', 'and', 'admitted', 'to', 'placing', 'the', 'noose', 'on', 'the', 'tree', 'early', 'wednesday', ',', 'the', 'university', 'said', '.', 'officials', 'are', 'still', 'trying', 'to', 'determine', 'if', 'other', 'people', 'were', 'involved', '.', 'criminal', 'investigations', 'into', 'the', 'incident', 'are', 'ongoing', 'as', 'well', '.', 'students', 'and', 'faculty', 'members', 'marched', 'wednesday', 'afternoon', 'chanting', '``', 'we', 'are', 'not', 'afraid', '.', 'we', 'stand', 'together', ',', \"''\", 'after', 'pictures', 'of', 'the', 'noose', 'were', 'passed', 'around', 'on', 'social', 'media', '.', 'at', 'a', 'forum', 'held', 'on', 'the', 'steps', 'of', 'duke', 'chapel', ',', 'close', 'to', 'where', 'the', 'noose', 'was', 'discovered', 'at', '2', 'a.m.', ',', 'hundreds', 'of', 'people', 'gathered', '.', '``', 'you', 'came', 'here', 'for', 'the', 'reason', 'that', 'you', 'want', 'to', 'say', 'with', 'me', ',', '`', 'this', 'is', 'no', 'duke', 'we', 'will', 'accept', '.', 'this', 'is', 'no', 'duke', 'we', 'want', '.', 'this', 'is', 'not', 'the', 'duke', 'we', \"'re\", 'here', 'to', 'experience', '.', 'and', 'this', 'is', 'not', 'the', 'duke', 'we', \"'re\", 'here', 'to', 'create', ',', \"'\", \"''\", 'duke', 'president', 'richard', 'brodhead', 'told', 'the', 'crowd', '.', 'the', 'incident', 'is', 'one', 'of', 'several', 'recent', 'racist', 'events', 'to', 'affect', 'college', 'students', '.', 'last', 'month', 'a', 'fraternity', 'at', 'the', 'university', 'of', 'oklahoma', 'had', 'its', 'charter', 'removed', 'after', 'a', 'video', 'surfaced', 'showing', 'members', 'using', 'the', 'n-word', 'and', 'referring', 'to', 'lynching', 'in', 'a', 'chant', '.', 'two', 'students', 'were', 'expelled', '.', 'in', 'february', ',', 'a', 'noose', 'was', 'hung', 'around', 'the', 'neck', 'of', 'a', 'statue', 'of', 'a', 'famous', 'civil', 'rights', 'figure', 'at', 'the', 'university', 'of', 'mississippi', '.', 'a', 'statement', 'issued', 'by', 'duke', 'said', 'there', 'was', 'a', 'previous', 'report', 'of', 'hate', 'speech', 'directed', 'at', 'students', 'on', 'campus', '.', 'in', 'the', 'news', 'release', ',', 'the', 'vice', 'president', 'for', 'student', 'affairs', 'called', 'the', 'noose', 'incident', 'a', '``', 'cowardly', 'act', '.', \"''\", '``', 'to', 'whomever', 'committed', 'this', 'hateful', 'and', 'stupid', 'act', ',', 'i', 'just', 'want', 'to', 'say', 'that', 'if', 'your', 'intent', 'was', 'to', 'create', 'fear', ',', 'it', 'will', 'have', 'the', 'opposite', 'effect', ',', \"''\", 'larry', 'moneta', 'said', 'wednesday', '.', 'duke', 'university', 'is', 'a', 'private', 'college', 'with', 'about']\n",
            "PRED 0: <t> a duke student has admitted to hanging a noose made of rope from a tree near a student union . </t> <t> the student was no longer on campus and will face student conduct review . </t>\n",
            "PRED SCORE: -2.5193\n",
            "GOLD 0: <t> student is no longer on duke university campus and will face disciplinary review . </t> <t> school officials identified student during investigation and the person admitted to hanging the noose , duke says . </t> <t> the noose , made of rope , was discovered on campus about 2 a.m. </t>\n",
            "GOLD SCORE: -569.9290\n",
            "\n",
            "\n",
            "SENT 0: ['-lrb-', 'cnn', '-rrb-', 'the', 'rev.', 'robert', 'h.', 'schuller', ',', 'california', 'televangelist', 'and', 'founder', 'of', 'the', 'television', 'ministry', '``', 'hour', 'of', 'power', ',', \"''\", 'died', 'thursday', ',', 'according', 'to', 'his', 'family', '.', 'he', 'was', '88', 'years', 'old', '.', 'schuller', ',', 'also', 'the', 'founder', 'of', 'crystal', 'cathedral', 'megachurch', ',', 'had', 'been', 'diagnosed', 'with', 'esophageal', 'cancer', 'in', 'august', '2013', ',', 'a', 'release', 'from', '``', 'hour', 'of', 'power', \"''\", 'said', '.', '``', 'my', 'father-in-law', 'passed', 'away', 'peacefully', 'early', 'this', 'morning', '.', 'he', 'was', 'a', 'great', 'dad', 'and', 'a', 'great', 'man', 'of', 'god', ',', \"''\", 'said', 'schuller', \"'s\", 'daughter-in-law', ',', 'donna', 'schuller', ',', 'in', 'a', 'twitter', 'message', '.', 'schuller', \"'s\", 'life', 'followed', 'an', 'almost', 'shakespearean', 'arc', '.', 'he', 'was', 'born', 'in', 'a', 'iowa', 'farmhouse', 'without', 'running', 'water', 'and', 'longed', 'to', 'preach', 'from', 'his', 'earliest', 'days', '.', 'in', 'his', 'autobiography', ',', '``', 'prayer', ':', 'my', 'soul', \"'s\", 'adventure', 'with', 'god', ',', \"''\", 'he', 'described', 'standing', 'alone', 'by', 'a', 'river', 'and', 'picturing', 'himself', 'delivering', 'sermons', 'to', 'a', 'rapt', 'congregation', '.', 'after', 'attending', 'a', 'hope', 'college', 'and', 'western', 'theological', 'seminary', 'in', 'michigan', ',', 'he', 'met', 'his', 'wife', 'of', 'more', 'than', '60', 'years', ',', 'arvella', ',', 'while', 'preaching', 'at', 'her', 'church', '-lrb-', 'she', 'was', 'the', 'organist', '-rrb-', '.', 'with', 'their', 'young', 'family', 'in', 'tow', ',', 'the', 'schullers', 'caravanned', 'west', 'to', 'california', ',', 'where', 'he', 'rented', 'a', 'drive-in', 'theater', 'and', 'preached', 'from', 'the', 'roof', 'of', 'the', 'snack', 'bar', '.', 'it', 'was', 'beneath', 'the', 'dignity', 'of', 'christian', 'ministry', ',', 'some', 'local', 'pastors', 'huffed', '.', 'the', '``', 'passion', 'pits', \"''\", 'where', 'teenagers', 'necked', 'was', 'no', 'place', 'for', 'the', 'gospel', '.', 'schuller', 'was', 'undeterred', ',', 'and', 'he', 'quickly', 'outgrew', 'the', 'drive-in', '.', 'he', 'called', 'the', 'explosive', 'growth', 'of', 'his', 'tiny', 'congregation', 'a', '``', 'miracle', ',', \"''\", 'though', 'his', 'many', 'mainstream', 'critics', 'had', 'other', 'names', 'for', 'it', '.', 'his', 'confident', ',', 'breezy', 'version', 'of', 'christianity', '--', 'too', 'breezy', ',', 'by', 'some', 'estimations', '--', 'drew', 'hordes', 'of', 'seekers', 'and', 'lapsed', 'christians', 'who', 'were', 'put', 'off', 'by', 'the', 'hellfire', 'fulminations', 'of', 'many', 'post-war', 'american', 'preachers', '.', 'schuller', 'sold', 'a', 'softer', ',', 'gentler', 'message', ',', 'which', 'borrowed', 'heavily', ',', 'he', 'acknowledged', ',', 'from', 'the', 'father', 'of', 'the', 'feel-good', 'gospel', ',', 'norman', 'vincent', 'peale', '.', 'he', 'preached', 'not', 'to', 'convert', 'or', 'condemn', 'people', ',', 'but', 'to', 'encourage', 'them', ',', 'a', 'sentiment', 'he', 'called', '``', 'possibility', 'thinking', '.', \"''\", 'people', 'loved', 'it', '.', '``', 'evangelicalism', 'at', 'its', 'best', 'wants', 'to', 'be', 'innovative', 'and', 'reach', 'people', ',', \"''\", 'said', 'timothy']\n",
            "PRED 0: <t> the rev. robert h. schuller , california televangelist and founder of crystal cathedral megachurch , had been diagnosed with esophageal cancer in august 2013 , a release from `` hour of power '' </t> <t> he was born in a iowa farmhouse without running water and longed to preach from his earliest days . </t>\n",
            "PRED SCORE: -2.3978\n",
            "GOLD 0: <t> the rev. robert <unk> , 88 , had been diagnosed with <unk> cancer in 2013 . </t> <t> his tv show , `` hour of power , '' was enormously popular in the 1970s and 1980s . </t>\n",
            "GOLD SCORE: -406.3229\n",
            "\n",
            "\n",
            "SENT 0: ['-lrb-', 'cnn', '-rrb-', 'never', 'mind', 'cats', 'having', 'nine', 'lives', '.', 'a', 'stray', 'pooch', 'in', 'washington', 'state', 'has', 'used', 'up', 'at', 'least', 'three', 'of', 'her', 'own', 'after', 'being', 'hit', 'by', 'a', 'car', ',', 'apparently', 'whacked', 'on', 'the', 'head', 'with', 'a', 'hammer', 'in', 'a', 'misguided', 'mercy', 'killing', 'and', 'then', 'buried', 'in', 'a', 'field', '--', 'only', 'to', 'survive', '.', 'that', \"'s\", 'according', 'to', 'washington', 'state', 'university', ',', 'where', 'the', 'dog', '--', 'a', 'friendly', 'white-and-black', 'bully', 'breed', 'mix', 'now', 'named', 'theia', '--', 'has', 'been', 'receiving', 'care', 'at', 'the', 'veterinary', 'teaching', 'hospital', '.', 'four', 'days', 'after', 'her', 'apparent', 'death', ',', 'the', 'dog', 'managed', 'to', 'stagger', 'to', 'a', 'nearby', 'farm', ',', 'dirt-covered', 'and', 'emaciated', ',', 'where', 'she', 'was', 'found', 'by', 'a', 'worker', 'who', 'took', 'her', 'to', 'a', 'vet', 'for', 'help', '.', 'she', 'was', 'taken', 'in', 'by', 'moses', 'lake', ',', 'washington', ',', 'resident', 'sara', 'mellado', '.', '``', 'considering', 'everything', 'that', 'she', \"'s\", 'been', 'through', ',', 'she', \"'s\", 'incredibly', 'gentle', 'and', 'loving', ',', \"''\", 'mellado', 'said', ',', 'according', 'to', 'wsu', 'news', '.', '``', 'she', \"'s\", 'a', 'true', 'miracle', 'dog', 'and', 'she', 'deserves', 'a', 'good', 'life', '.', \"''\", 'theia', 'is', 'only', 'one', 'year', 'old', 'but', 'the', 'dog', \"'s\", 'brush', 'with', 'death', 'did', 'not', 'leave', 'her', 'unscathed', '.', 'she', 'suffered', 'a', 'dislocated', 'jaw', ',', 'leg', 'injuries', 'and', 'a', 'caved-in', 'sinus', 'cavity', '--', 'and', 'still', 'requires', 'surgery', 'to', 'help', 'her', 'breathe', '.', 'the', 'veterinary', 'hospital', \"'s\", 'good', 'samaritan', 'fund', 'committee', 'awarded', 'some', 'money', 'to', 'help', 'pay', 'for', 'the', 'dog', \"'s\", 'treatment', ',', 'but', 'mellado', 'has', 'set', 'up', 'a', 'fundraising', 'page', 'to', 'help', 'meet', 'the', 'remaining', 'cost', 'of', 'the', 'dog', \"'s\", 'care', '.', 'she', \"'s\", 'also', 'created', 'a', 'facebook', 'page', 'to', 'keep', 'supporters', 'updated', '.', 'donors', 'have', 'already', 'surpassed', 'the', '$', '10,000', 'target', ',', 'inspired', 'by', 'theia', \"'s\", 'tale', 'of', 'survival', 'against', 'the', 'odds', '.', 'on', 'the', 'fundraising', 'page', ',', 'mellado', 'writes', ',', '``', 'she', 'is', 'in', 'desperate', 'need', 'of', 'extensive', 'medical', 'procedures', 'to', 'fix', 'her', 'nasal', 'damage', 'and', 'reset', 'her', 'jaw', '.', 'i', 'agreed', 'to', 'foster', 'her', 'until', 'she', 'finally', 'found', 'a', 'loving', 'home', '.', \"''\", 'she', 'is', 'dedicated', 'to', 'making', 'sure', 'theia', 'gets', 'the', 'medical', 'attention', 'she', 'needs', ',', 'mellado', 'adds', ',', 'and', 'wants', 'to', '``', 'make', 'sure', 'she', 'gets', 'placed', 'in', 'a', 'family', 'where', 'this', 'will', 'never', 'happen', 'to', 'her', 'again', '!', \"''\", 'any', 'additional', 'funds', 'raised', 'will', 'be', '``', 'paid', 'forward', \"''\", 'to', 'help', 'other', 'animals', '.', 'theia', 'is', 'not', 'the', 'only', 'animal', 'to', 'apparently', 'rise', 'from', 'the']\n",
            "PRED 0: <t> a stray pooch in washington state has used up at least three of her own after being hit by a car . </t> <t> she suffered a dislocated jaw , leg injuries and a caved-in sinus cavity -- and still requires surgery to help her breathe . </t>\n",
            "PRED SCORE: -2.5523\n",
            "GOLD 0: <t> <unk> , a bully breed mix , was apparently hit by a car , whacked with a hammer and buried in a field . </t> <t> `` she 's a true miracle dog and she deserves a good life , '' says sara <unk> , who is looking for a home for <unk> . </t>\n",
            "GOLD SCORE: -570.2239\n",
            "\n",
            "\n",
            "SENT 0: ['-lrb-', 'cnn', '-rrb-', 'if', 'you', \"'ve\", 'been', 'following', 'the', 'news', 'lately', ',', 'there', 'are', 'certain', 'things', 'you', 'doubtless', 'know', 'about', 'mohammad', 'javad', 'zarif', '.', 'he', 'is', ',', 'of', 'course', ',', 'the', 'iranian', 'foreign', 'minister', '.', 'he', 'has', 'been', 'u.s.', 'secretary', 'of', 'state', 'john', 'kerry', \"'s\", 'opposite', 'number', 'in', 'securing', 'a', 'breakthrough', 'in', 'nuclear', 'discussions', 'that', 'could', 'lead', 'to', 'an', 'end', 'to', 'sanctions', 'against', 'iran', '--', 'if', 'the', 'details', 'can', 'be', 'worked', 'out', 'in', 'the', 'coming', 'weeks', '.', 'and', 'he', 'received', 'a', 'hero', \"'s\", 'welcome', 'as', 'he', 'arrived', 'in', 'iran', 'on', 'a', 'sunny', 'friday', 'morning', '.', '``', 'long', 'live', 'zarif', ',', \"''\", 'crowds', 'chanted', 'as', 'his', 'car', 'rolled', 'slowly', 'down', 'the', 'packed', 'street', '.', 'you', 'may', 'well', 'have', 'read', 'that', 'he', 'is', '``', 'polished', \"''\", 'and', ',', 'unusually', 'for', 'one', 'burdened', 'with', 'such', 'weighty', 'issues', ',', '``', 'jovial', '.', \"''\", 'an', 'internet', 'search', 'for', '``', 'mohammad', 'javad', 'zarif', \"''\", 'and', '``', 'jovial', \"''\", 'yields', 'thousands', 'of', 'results', '.', 'he', 'certainly', 'has', 'gone', 'a', 'long', 'way', 'to', 'bring', 'iran', 'in', 'from', 'the', 'cold', 'and', 'allow', 'it', 'to', 'rejoin', 'the', 'international', 'community', '.', 'but', 'there', 'are', 'some', 'facts', 'about', 'zarif', 'that', 'are', 'less', 'well-known', '.', 'here', 'are', 'six', ':', '.', 'in', 'september', '2013', ',', 'zarif', 'tweeted', '``', 'happy', 'rosh', 'hashanah', ',', \"''\", 'referring', 'to', 'the', 'jewish', 'new', 'year', '.', 'that', 'prompted', 'christine', 'pelosi', ',', 'the', 'daughter', 'of', 'house', 'minority', 'leader', 'nancy', 'pelosi', ',', 'to', 'respond', 'with', 'a', 'tweet', 'of', 'her', 'own', ':', '``', 'thanks', '.', 'the', 'new', 'year', 'would', 'be', 'even', 'sweeter', 'if', 'you', 'would', 'end', 'iran', \"'s\", 'holocaust', 'denial', ',', 'sir', '.', \"''\", 'and', ',', 'perhaps', 'to', 'her', 'surprise', ',', 'pelosi', 'got', 'a', 'response', '.', '``', 'iran', 'never', 'denied', 'it', ',', \"''\", 'zarif', 'tweeted', 'back', '.', '``', 'the', 'man', 'who', 'was', 'perceived', 'to', 'be', 'denying', 'it', 'is', 'now', 'gone', '.', 'happy', 'new', 'year', '.', \"''\", 'the', 'reference', 'was', 'likely', 'to', 'former', 'iranian', 'president', 'mahmoud', 'ahmadinejad', ',', 'who', 'had', 'left', 'office', 'the', 'previous', 'month', '.', 'zarif', 'was', 'nominated', 'to', 'be', 'foreign', 'minister', 'by', 'ahmadinejad', \"'s\", 'successor', ',', 'hassan', 'rouhami', '.', 'his', 'foreign', 'ministry', 'notes', ',', 'perhaps', 'defensively', ',', 'that', '``', 'due', 'to', 'the', 'political', 'and', 'security', 'conditions', 'of', 'the', 'time', ',', 'he', 'decided', 'to', 'continue', 'his', 'education', 'in', 'the', 'united', 'states', '.', \"''\", 'that', 'is', 'another', 'way', 'of', 'saying', 'that', 'he', 'was', 'outside', 'the', 'country', 'during', 'the', 'demonstrations', 'against', 'the', 'shah', 'of', 'iran', ',', 'which', 'began', 'in', '1977', ',', 'and', 'during', 'the', 'iranian']\n",
            "PRED 0: <t> `` long live zarif , '' crowds chanted as his car rolled slowly down the packed street . </t> <t> the reference was likely to former iranian president mahmoud ahmadinejad , who had left office the previous month . </t>\n",
            "PRED SCORE: -2.6896\n",
            "GOLD 0: <t> mohammad javad zarif has spent more time with john kerry than any other foreign minister . </t> <t> he once participated in a takeover of the iranian consulate in san francisco . </t> <t> the iranian foreign minister tweets in english . </t>\n",
            "GOLD SCORE: -505.5524\n",
            "\n",
            "\n",
            "SENT 0: ['-lrb-', 'cnn', '-rrb-', 'for', 'the', 'first', 'time', 'in', 'eight', 'years', ',', 'a', 'tv', 'legend', 'returned', 'to', 'doing', 'what', 'he', 'does', 'best', '.', 'contestants', 'told', 'to', '``', 'come', 'on', 'down', '!', \"''\", 'on', 'the', 'april', '1', 'edition', 'of', '``', 'the', 'price', 'is', 'right', \"''\", 'encountered', 'not', 'host', 'drew', 'carey', 'but', 'another', 'familiar', 'face', 'in', 'charge', 'of', 'the', 'proceedings', '.', 'instead', ',', 'there', 'was', 'bob', 'barker', ',', 'who', 'hosted', 'the', 'tv', 'game', 'show', 'for', '35', 'years', 'before', 'stepping', 'down', 'in', '2007', '.', 'looking', 'spry', 'at', '91', ',', 'barker', 'handled', 'the', 'first', 'price-guessing', 'game', 'of', 'the', 'show', ',', 'the', 'classic', '``', 'lucky', 'seven', ',', \"''\", 'before', 'turning', 'hosting', 'duties', 'over', 'to', 'carey', ',', 'who', 'finished', 'up', '.', 'despite', 'being', 'away', 'from', 'the', 'show', 'for', 'most', 'of', 'the', 'past', 'eight', 'years', ',', 'barker', 'did', \"n't\", 'seem', 'to', 'miss', 'a', 'beat', '.']\n",
            "PRED 0: <t> contestants told to `` come on down ! '' on april 1 edition of `` the price is right '' </t> <t> he hosted the first price-guessing game of the show , the classic `` lucky seven '' </t> <t> despite being away from the show for most of the past eight years , barker did n't seem to miss a beat . </t>\n",
            "PRED SCORE: -3.4801\n",
            "GOLD 0: <t> bob barker returned to host `` the price is right '' on wednesday . </t> <t> barker , 91 , had retired as host in 2007 . </t>\n",
            "GOLD SCORE: -330.3707\n",
            "\n",
            "\n",
            "SENT 0: ['-lrb-', 'cnn', '-rrb-', 'he', \"'s\", 'a', 'blue', 'chip', 'college', 'basketball', 'recruit', '.', 'she', \"'s\", 'a', 'high', 'school', 'freshman', 'with', 'down', 'syndrome', '.', 'at', 'first', 'glance', 'trey', 'moses', 'and', 'ellie', 'meredith', 'could', \"n't\", 'be', 'more', 'different', '.', 'but', 'all', 'that', 'changed', 'thursday', 'when', 'trey', 'asked', 'ellie', 'to', 'be', 'his', 'prom', 'date', '.', 'trey', '--', 'a', 'star', 'on', 'eastern', 'high', 'school', \"'s\", 'basketball', 'team', 'in', 'louisville', ',', 'kentucky', ',', 'who', \"'s\", 'headed', 'to', 'play', 'college', 'ball', 'next', 'year', 'at', 'ball', 'state', '--', 'was', 'originally', 'going', 'to', 'take', 'his', 'girlfriend', 'to', 'eastern', \"'s\", 'prom', '.', 'so', 'why', 'is', 'he', 'taking', 'ellie', 'instead', '?', '``', 'she', \"'s\", 'great', '...', 'she', 'listens', 'and', 'she', \"'s\", 'easy', 'to', 'talk', 'to', \"''\", 'he', 'said', '.', 'trey', 'made', 'the', 'prom-posal', '-lrb-', 'yes', ',', 'that', \"'s\", 'what', 'they', 'are', 'calling', 'invites', 'to', 'prom', 'these', 'days', '-rrb-', 'in', 'the', 'gym', 'during', 'ellie', \"'s\", 'p.e.', 'class', '.', 'trina', 'helson', ',', 'a', 'teacher', 'at', 'eastern', ',', 'alerted', 'the', 'school', \"'s\", 'newspaper', 'staff', 'to', 'the', 'prom-posal', 'and', 'posted', 'photos', 'of', 'trey', 'and', 'ellie', 'on', 'twitter', 'that', 'have', 'gone', 'viral', '.', 'she', 'was', \"n't\", 'surpristed', 'by', 'trey', \"'s\", 'actions', '.', '``', 'that', \"'s\", 'the', 'kind', 'of', 'person', 'trey', 'is', ',', \"''\", 'she', 'said', '.', 'to', 'help', 'make', 'sure', 'she', 'said', 'yes', ',', 'trey', 'entered', 'the', 'gym', 'armed', 'with', 'flowers', 'and', 'a', 'poster', 'that', 'read', '``', 'let', \"'s\", 'party', 'like', 'it', \"'s\", '1989', ',', \"''\", 'a', 'reference', 'to', 'the', 'latest', 'album', 'by', 'taylor', 'swift', ',', 'ellie', \"'s\", 'favorite', 'singer', '.', 'trey', 'also', 'got', 'the', 'ok', 'from', 'ellie', \"'s\", 'parents', 'the', 'night', 'before', 'via', 'text', '.', 'they', 'were', 'thrilled', '.', '``', 'you', 'just', 'feel', 'numb', 'to', 'those', 'moments', 'raising', 'a', 'special', 'needs', 'child', ',', \"''\", 'said', 'darla', 'meredith', ',', 'ellie', \"'s\", 'mom', '.', '``', 'you', 'first', 'feel', 'the', 'need', 'to', 'protect', 'and', 'then', 'to', 'overprotect', '.', \"''\", 'darla', 'meredith', 'said', 'ellie', 'has', 'struggled', 'with', 'friendships', 'since', 'elementary', 'school', ',', 'but', 'a', 'special', 'program', 'at', 'eastern', 'called', 'best', 'buddies', 'had', 'made', 'things', 'easier', 'for', 'her', '.', 'she', 'said', 'best', 'buddies', 'cultivates', 'friendships', 'between', 'students', 'with', 'and', 'without', 'developmental', 'disabilities', 'and', 'prevents', 'students', 'like', 'ellie', 'from', 'feeling', 'isolated', 'and', 'left', 'out', 'of', 'social', 'functions', '.', '``', 'i', 'guess', 'around', 'middle', 'school', 'is', 'when', 'kids', 'started', 'to', 'care', 'about', 'what', 'others', 'thought', ',', \"''\", 'she', 'said', ',', 'but', '``', 'this', 'school', ',', 'this', 'year', 'has', 'been', 'a', 'relief', '.', \"''\", 'trey', \"'s\", 'future', 'coach', 'at', 'ball', 'state', ',', 'james']\n",
            "PRED 0: <t> trey made the prom-posal -lrb- yes , that 's what they are calling invites to prom these days in the gym during ellie 's p.e. class . </t> <t> trey also got the ok from ellie 's parents the night before via text . </t>\n",
            "PRED SCORE: -2.5656\n",
            "GOLD 0: <t> <unk> basketball star asks girl with down syndrome to high school prom . </t> <t> pictures of the two during the `` <unk> '' have gone viral . </t>\n",
            "GOLD SCORE: -352.3943\n",
            "\n",
            "\n",
            "SENT 0: ['-lrb-', 'cnn', '-rrb-', 'michele', 'bachmann', 'is', 'comparing', 'president', 'obama', 'to', 'the', 'co-pilot', 'of', 'the', 'doomed', 'germanwings', 'flight', '.', '``', 'with', 'his', 'iran', 'deal', ',', 'barack', 'obama', 'is', 'for', 'the', '300', 'million', 'souls', 'of', 'the', 'united', 'states', 'what', 'andreas', 'lubitz', 'was', 'for', 'the', '150', 'souls', 'on', 'the', 'german', 'wings', 'flight', '-', 'a', 'deranged', 'pilot', 'flying', 'his', 'entire', 'nation', 'into', 'the', 'rocks', ',', \"''\", 'the', 'minnesota', 'republican', 'and', 'former', 'representative', 'wrote', 'in', 'a', 'facebook', 'comment', 'posted', 'march', '31', '.', '``', 'after', 'the', 'fact', ',', 'among', 'the', 'smoldering', 'remains', 'of', 'american', 'cities', ',', 'the', 'shocked', 'survivors', 'will', 'ask', ',', 'why', 'did', 'he', 'do', 'it', '?', \"''\", 'andreas', 'lubitz', ',', 'the', 'co-pilot', 'of', 'germanwings', 'flight', '9525', ',', 'is', 'accused', 'by', 'authorities', 'of', 'deliberately', 'crashing', 'the', 'plane', 'in', 'the', 'french', 'alps', '.', 'he', 'died', 'in', 'the', 'crash', 'along', 'with', '149', 'other', 'crew', 'and', 'passengers', '.', 'the', 'motive', 'of', 'the', 'march', '24', 'crash', 'is', 'under', 'investigation', ',', 'though', 'investigators', 'are', 'looking', 'in', 'to', 'whether', 'lubitz', 'feared', 'a', 'medical', 'condition', 'would', 'cause', 'him', 'to', 'lose', 'his', 'pilot', \"'s\", 'license', '.', 'many', 'comments', 'posted', 'on', 'her', 'facebook', 'page', 'blasted', 'the', 'former', 'representative', '.', 'melissa', 'coca', 'wrote', ',', '``', 'comparing', 'this', 'tragedy', 'to', 'anything', 'is', 'moronic', 'and', 'despicable', '.', \"''\", 'michael', 'j', 'pristash', 'wrote', ',', '``', 'your', 'allusion', 'is', 'so', 'inappropriate', 'and', 'divisive', ',', 'not', 'to', 'mention', 'disrespectful', 'on', 'so', 'many', 'levels', '.', 'shame', 'on', 'you', '.', \"''\", 'some', 'also', 'accused', 'her', 'of', 'taking', 'desperate', 'measures', 'to', 'stay', 'in', 'the', 'public', 'eye', '.', 'lynda', 'anderson', 'wrote', ',', '``', 'posting', 'outrageous', 'things', 'in', 'a', 'pathetic', 'attempt', 'to', 'stay', 'relevant', '?', \"''\", 'negotiations', 'are', 'coming', 'down', 'to', 'the', 'wire', 'between', 'iran', ',', 'the', 'united', 'states', 'and', 'other', 'nations', 'on', 'restricting', 'tehran', \"'s\", 'nuclear', 'program', 'to', 'prevent', 'the', 'ability', 'to', 'develop', 'an', 'atomic', 'bomb', '.', 'one', 'deadline', 'passed', 'tuesday', ',', 'but', 'there', 'is', 'a', 'june', '30', 'deadline', 'for', 'a', 'comprehensive', 'deal', '--', 'with', 'all', 'technical', 'and', 'diplomatic', 'impasses', 'fully', 'worked', 'out', '.', 'bachmann', 'is', 'no', 'stranger', 'to', 'voicing', 'her', 'opinion', 'on', 'the', 'president', \"'s\", 'dealing', 'with', 'iran', ',', 'personally', 'telling', 'him', 'to', '``', 'bomb', 'iran', \"''\", 'during', 'the', '2014', 'white', 'house', 'christmas', 'party', '.', '``', 'i', 'turned', 'to', 'the', 'president', 'and', 'i', 'said', ',', 'something', 'to', 'the', 'effect', 'of', ',', '`', 'mr.', 'president', ',', 'you', 'need', 'to', 'bomb', 'the', 'iranian', 'nuclear', 'facilities', ',', 'because', 'if', 'you', 'do', \"n't\", ',', 'iran', 'will', 'have', 'a', 'nuclear', 'weapon', 'on', 'your', 'watch', 'and', 'the', 'course', 'of']\n",
            "PRED 0: <t> andreas lubitz , the co-pilot of germanwings flight 9525 , is accused by authorities of deliberately crashing the plane in the french alps . </t> <t> he died in the crash along with 149 other crew and passengers . </t>\n",
            "PRED SCORE: -2.6363\n",
            "GOLD 0: <t> former gop representative compares president obama to andreas <unk> . </t> <t> bachmann said with possible iran deal , obama will fly `` entire nation into the rocks '' </t> <t> reaction on social media ? she was blasted by facebook commenters . </t>\n",
            "GOLD SCORE: -479.4441\n",
            "\n",
            "\n",
            "SENT 0: ['los', 'angeles', '-lrb-', 'cnn', '-rrb-', 'it', \"'s\", 'more', 'than', 'just', 'one', 'state', \"'s\", 'internal', 'problem', '.', 'the', 'historic', 'california', 'drought', 'hurts', 'the', 'rest', 'of', 'the', 'union', ',', 'too', '.', 'that', \"'s\", 'because', 'california', 'is', 'a', 'breadbasket', 'to', 'the', 'nation', ',', 'growing', 'more', 'than', 'a', 'third', 'of', 'its', 'vegetables', 'and', 'nearly', 'two-thirds', 'of', 'its', 'fruits', 'and', 'nuts', '.', 'here', \"'s\", 'why', 'we', 'should', 'heed', 'the', 'ongoing', 'drought', 'in', 'the', 'most', 'populous', 'state', ',', 'a', 'slowly', 'expanding', 'natural', 'disaster', 'now', 'in', 'its', 'fourth', 'year', 'that', 'this', 'week', 'prompted', 'gov.', 'jerry', 'brown', 'to', 'announce', 'a', 'mandatory', '25', '%', 'cutback', 'in', 'water', 'consumption', 'in', 'all', 'cities', '.', 'in', '2014', ',', 'one', 'expert', 'predicted', 'consumers', 'would', 'pay', 'more', 'for', 'some', 'groceries', 'because', 'of', 'the', 'california', 'drought', '.', 'he', 'was', 'often', 'right', ',', 'according', 'to', 'statistics', 'gathered', 'by', 'timothy', 'richards', ',', 'agribusiness', 'professor', 'at', 'arizona', 'state', 'university', '.', 'prices', 'rose', 'last', 'year', 'for', 'these', 'items', 'on', 'your', 'kitchen', 'table', ':', '.', '•', 'berries', 'rose', 'in', 'price', 'by', 'about', '80', 'cents', 'per', 'clamshell', 'to', '$', '3.88', '.', '•', 'broccoli', 'by', '11', 'cents', 'per', 'pound', 'to', '$', '1.89', '.', '•', 'grapes', 'by', '64', 'cents', 'a', 'pound', 'to', '$', '3.06', '.', '•', 'melons', 'by', '24', 'cents', 'a', 'pound', 'to', '$', '1.23', '.', '•', 'packaged', 'salad', 'by', '23', 'cents', 'a', 'bag', 'to', '$', '2.91', '.', '•', 'peppers', 'by', '26', 'cents', 'a', 'pound', 'to', '$', '2.39', '.', 'though', 'fruits', 'and', 'vegetable', 'prices', 'fell', 'in', 'february', ',', 'overall', 'prices', 'are', 'expected', 'to', 'rise', 'this', 'year', ',', 'because', 'of', 'inflation', ',', 'u.s.', 'department', 'of', 'agriculture', 'economist', 'annemarie', 'kuhns', 'said', '.', 'fresh', 'fruit', 'prices', 'are', 'projected', 'to', 'rise', 'between', '2.5', '%', 'and', '3.5', '%', ',', 'and', 'vegetables', 'between', '2', '%', 'and', '3', '%', ',', 'close', 'to', 'historical', 'average', 'increases', ',', 'kuhns', 'said', '.', 'whether', 'the', 'california', 'drought', 'will', 'affect', 'food', 'prices', 'again', 'this', 'year', 'is', 'unknown', ',', 'thanks', 'to', 'a', 'strong', 'dollar', '.', 'the', 'greenback', \"'s\", 'strength', 'allows', 'producers', 'to', 'import', 'crops', 'that', 'may', 'be', 'withering', 'under', 'the', 'absence', 'of', 'west', 'coast', 'rain', 'or', 'other', 'misfortunes', 'elsewhere', 'in', 'the', 'nation', ',', 'kuhns', 'said', '.', 'moreover', ',', 'the', 'drop', 'in', 'oil', 'prices', 'also', 'eases', 'the', 'cost', 'of', 'transporting', 'food', 'from', 'california', 'to', 'the', 'other', '49', 'states', ',', 'she', 'said', '.', 'what', 'economists', 'do', \"n't\", 'know', 'yet', 'is', 'whether', 'farmers', 'will', 'plant', 'fewer', 'crops', 'because', 'of', 'the', 'drought', '.', 'those', 'decisions', 'are', 'now', 'being', 'made', 'in', 'the', 'field', 'and', 'could', 'boost', 'supermarket', 'prices', ',', 'she', 'said']\n",
            "PRED 0: <t> the historic california drought hurts the rest of the union , too . </t> <t> in 2014 , one expert predicted consumers would pay more for some groceries because of the california drought . </t>\n",
            "PRED SCORE: -2.4433\n",
            "GOLD 0: <t> americans paid more for some fruits and vegetables last year because of the drought . </t> <t> tourists will now have to ask for a glass of water at a california restaurant . </t> <t> perhaps the only good thing is another `` great '' wine grape harvest last year . </t>\n",
            "GOLD SCORE: -558.5885\n",
            "\n",
            "\n",
            "SENT 0: ['-lrb-', 'cnn', '-rrb-', 'as', 'goes', 'walmart', ',', 'so', 'goes', 'the', 'nation', '?', 'everyone', 'from', 'apple', 'ceo', 'tim', 'cook', 'to', 'the', 'head', 'of', 'the', 'ncaa', 'slammed', 'religious', 'freedom', 'laws', 'being', 'considered', 'in', 'several', 'states', 'this', 'week', ',', 'warning', 'that', 'they', 'would', 'open', 'the', 'door', 'to', 'discrimination', 'against', 'gay', 'and', 'lesbian', 'customers', '.', 'but', 'it', 'was', 'the', 'opposition', 'from', 'walmart', ',', 'the', 'ubiquitous', 'retailer', 'that', 'dots', 'the', 'american', 'landscape', ',', 'that', 'perhaps', 'resonated', 'most', 'deeply', ',', 'providing', 'the', 'latest', 'evidence', 'of', 'growing', 'support', 'for', 'gay', 'rights', 'in', 'the', 'heartland', '.', 'walmart', \"'s\", 'staunch', 'criticism', 'of', 'a', 'religious', 'freedom', 'law', 'in', 'its', 'home', 'state', 'of', 'arkansas', 'came', 'after', 'the', 'company', 'said', 'in', 'february', 'it', 'would', 'boost', 'pay', 'for', 'about', '500,000', 'workers', 'well', 'above', 'the', 'federal', 'minimum', 'wage', '.', 'taken', 'together', ',', 'the', 'company', 'is', 'emerging', 'as', 'a', 'bellwether', 'for', 'shifting', 'public', 'opinion', 'on', 'hot-button', 'political', 'issues', 'that', 'divide', 'conservatives', 'and', 'liberals', '.', 'and', 'some', 'prominent', 'republicans', 'are', 'urging', 'the', 'party', 'to', 'take', 'notice', '.', 'former', 'minnesota', 'gov.', 'tim', 'pawlenty', ',', 'who', 'famously', 'called', 'on', 'the', 'gop', 'to', '``', 'be', 'the', 'party', 'of', 'sam', \"'s\", 'club', ',', 'not', 'just', 'the', 'country', 'club', ',', \"''\", 'told', 'cnn', 'that', 'walmart', \"'s\", 'actions', '``', 'foreshadow', 'where', 'the', 'republican', 'party', 'will', 'need', 'to', 'move', '.', \"''\", '``', 'the', 'republican', 'party', 'will', 'have', 'to', 'better', 'stand', 'for', \"''\", 'ideas', 'on', 'helping', 'the', 'middle', 'class', ',', 'said', 'pawlenty', ',', 'the', 'head', 'of', 'the', 'financial', 'services', 'roundtable', ',', 'a', 'washington', 'lobbying', 'group', 'for', 'the', 'finance', 'industry', '.', 'the', 'party', \"'s\", 'leaders', 'must', 'be', '``', 'willing', 'to', 'put', 'forward', 'ideas', 'that', 'will', 'help', 'modest', 'income', 'workers', ',', 'such', 'as', 'a', 'reasonable', 'increase', 'in', 'the', 'minimum', 'wage', ',', 'and', 'prohibit', 'discrimination', 'in', 'things', 'such', 'as', 'jobs', ',', 'housing', ',', 'public', 'accommodation', 'against', 'gays', 'and', 'lesbians', '.', \"''\", 'walmart', ',', 'which', 'employs', 'more', 'than', '50,000', 'people', 'in', 'arkansas', ',', 'emerged', 'victorious', 'on', 'wednesday', '.', 'hours', 'after', 'the', 'company', \"'s\", 'ceo', ',', 'doug', 'mcmillon', ',', 'called', 'on', 'republican', 'gov.', 'asa', 'hutchinson', 'to', 'veto', 'the', 'bill', ',', 'the', 'governor', 'held', 'a', 'news', 'conference', 'and', 'announced', 'he', 'would', 'not', 'sign', 'the', 'legislation', 'unless', 'its', 'language', 'was', 'fixed', '.', 'walmart', \"'s\", 'opposition', 'to', 'the', 'religious', 'freedom', 'law', 'once', 'again', 'puts', 'the', 'company', 'at', 'odds', 'with', 'many', 'in', 'the', 'republican', 'party', ',', 'which', 'the', 'company', \"'s\", 'political', 'action', 'committee', 'has', 'tended', 'to', 'support', '.', 'in', '2004', ',', 'the', 'walmart', 'pac', 'gave', 'around', '$', '2', 'million', 'to', 'republicans', 'versus', 'less']\n",
            "PRED 0: <t> walmart 's staunch criticism of a religious freedom law came after the company said in february it would boost pay for 500,000 workers well above the federal minimum wage . </t> <t> the company is emerging as a bellwether for shifting public opinion on hot-button political issues that divide conservatives and liberals . </t>\n",
            "PRED SCORE: -2.7430\n",
            "GOLD 0: <t> while republican gov. asa hutchinson was weighing an arkansas religious freedom bill , walmart voiced its opposition . </t> <t> walmart and other high-profile businesses are showing their support for gay and lesbian rights . </t> <t> their stance puts them in conflict with socially conservative republicans , traditionally seen as allies . </t>\n",
            "GOLD SCORE: -654.8071\n",
            "\n",
            "\n",
            "SENT 0: ['-lrb-', 'cnn', '-rrb-', 'five', 'americans', 'who', 'were', 'monitored', 'for', 'three', 'weeks', 'at', 'an', 'omaha', ',', 'nebraska', ',', 'hospital', 'after', 'being', 'exposed', 'to', 'ebola', 'in', 'west', 'africa', 'have', 'been', 'released', ',', 'a', 'nebraska', 'medicine', 'spokesman', 'said', 'in', 'an', 'email', 'wednesday', '.', 'one', 'of', 'the', 'five', 'had', 'a', 'heart-related', 'issue', 'on', 'saturday', 'and', 'has', 'been', 'discharged', 'but', 'has', \"n't\", 'left', 'the', 'area', ',', 'taylor', 'wilson', 'wrote', '.', 'the', 'others', 'have', 'already', 'gone', 'home', '.', 'they', 'were', 'exposed', 'to', 'ebola', 'in', 'sierra', 'leone', 'in', 'march', ',', 'but', 'none', 'developed', 'the', 'deadly', 'virus', '.', 'they', 'are', 'clinicians', 'for', 'partners', 'in', 'health', ',', 'a', 'boston-based', 'aid', 'group', '.', 'they', 'all', 'had', 'contact', 'with', 'a', 'colleague', 'who', 'was', 'diagnosed', 'with', 'the', 'disease', 'and', 'is', 'being', 'treated', 'at', 'the', 'national', 'institutes', 'of', 'health', 'in', 'bethesda', ',', 'maryland', '.', 'as', 'of', 'monday', ',', 'that', 'health', 'care', 'worker', 'is', 'in', 'fair', 'condition', '.', 'the', 'centers', 'for', 'disease', 'control', 'and', 'prevention', 'in', 'atlanta', 'has', 'said', 'the', 'last', 'of', '17', 'patients', 'who', 'were', 'being', 'monitored', 'are', 'expected', 'to', 'be', 'released', 'by', 'thursday', '.', 'more', 'than', '10,000', 'people', 'have', 'died', 'in', 'a', 'west', 'african', 'epidemic', 'of', 'ebola', 'that', 'dates', 'to', 'december', '2013', ',', 'according', 'to', 'the', 'world', 'health', 'organization', '.', 'almost', 'all', 'the', 'deaths', 'have', 'been', 'in', 'guinea', ',', 'liberia', 'and', 'sierra', 'leone', '.', 'ebola', 'is', 'spread', 'by', 'direct', 'contact', 'with', 'the', 'bodily', 'fluids', 'of', 'an', 'infected', 'person', '.']\n",
            "PRED 0: <t> one of the five had a heart-related issue on saturday and has been discharged . </t> <t> they were exposed to ebola in sierra leone in march , but none developed the virus . </t>\n",
            "PRED SCORE: -2.6206\n",
            "GOLD 0: <t> 17 americans were exposed to the ebola virus while in sierra leone in march . </t> <t> another person was diagnosed with the disease and taken to hospital in maryland . </t> <t> national institutes of health says the patient is in fair condition after weeks of treatment . </t>\n",
            "GOLD SCORE: -529.9832\n",
            "\n",
            "\n",
            "SENT 0: ['-lrb-', 'cnn', '-rrb-', 'andrew', 'getty', ',', 'one', 'of', 'the', 'heirs', 'to', 'billions', 'of', 'oil', 'money', ',', 'appears', 'to', 'have', 'died', 'of', 'natural', 'causes', ',', 'a', 'los', 'angeles', 'police', 'department', 'spokesman', 'said', '.', 'the', 'coroner', \"'s\", 'preliminary', 'assessment', 'is', 'there', 'was', 'no', 'foul', 'play', 'involved', 'in', 'the', 'death', 'of', 'getty', ',', 'grandson', 'of', 'oil', 'tycoon', 'j.', 'paul', 'getty', ',', 'said', 'detective', 'meghan', 'aguilar', '.', 'andrew', 'getty', ',', '47', ',', 'had', '``', 'several', 'health', 'issues', ',', \"''\", 'aguilar', 'said', ',', 'adding', 'that', 'an', 'autopsy', 'will', 'be', 'conducted', '.', 'there', 'is', 'no', 'criminal', 'investigation', 'underway', ',', 'he', 'said', '.', 'some', 'medication', 'had', 'also', 'been', 'recovered', 'from', 'getty', \"'s\", 'home', ',', 'though', 'investigators', 'do', \"n't\", 'know', 'whether', 'getty', 'was', 'taking', 'it', 'or', 'what', 'his', 'medical', 'history', 'was', ',', 'ed', 'winter', ',', 'assistant', 'chief', 'in', 'the', 'los', 'angeles', 'county', 'coroner', \"'s\", 'office', ',', 'told', 'cnn', 'affiliate', 'ktla', 'tuesday', 'night', '.', 'ktla', 'reported', 'that', 'getty', 'was', 'found', 'on', 'his', 'side', 'near', 'a', 'bathroom', 'in', 'his', 'home', '.', 'getty', \"'s\", 'parents', ',', 'ann', 'and', 'gordon', 'getty', ',', 'released', 'a', 'statement', 'confirming', 'their', 'son', \"'s\", 'death', 'and', 'asking', 'for', 'privacy', '.', 'where', 'the', 'getty', 'family', 'fortune', 'came', 'from', '.', 'gordon', 'getty', 'is', 'one', 'of', 'three', 'living', 'sons', 'of', 'j.', 'paul', 'getty', ',', 'the', 'oil', 'baron', 'who', 'was', 'thought', 'to', 'be', 'the', 'richest', 'man', 'in', 'the', 'world', 'at', 'the', 'time', 'of', 'his', 'death', 'in', '1976', '.', 'gordon', 'getty', ',', '81', ',', 'has', 'a', 'net', 'worth', 'of', '$', '2.1', 'billion', ',', 'according', 'to', 'forbes', '.', 'one', 'other', 'son', 'died', 'in', '1958', 'and', 'another', 'died', 'in', '1973', '.', 'gordon', 'getty', 'spearheaded', 'the', 'controversial', 'sale', 'of', 'getty', 'to', 'texaco', 'for', '$', '10', 'billion', 'in', '1984', '.', 'in', 'its', 'list', 'of', 'richest', 'american', 'families', ',', 'forbes', 'estimated', 'the', 'gettys', \"'\", 'net', 'worth', 'to', 'be', 'about', '$', '5', 'billion', '.', 'court', 'records', 'show', 'andrew', 'getty', 'had', 'recently', 'filed', 'to', 'get', 'a', 'restraining', 'order', 'against', 'an', 'ex-girlfriend', '.', 'a', 'hearing', 'in', 'the', 'case', 'had', 'been', 'scheduled', 'for', 'next', 'week', '.', 'in', 'his', 'request', ',', 'getty', 'said', 'he', 'had', 'been', 'diagnosed', 'with', 'a', 'serious', 'medical', 'condition', 'in', '2013', '.', '``', 'a', 'rise', 'in', 'my', 'blood', 'pressure', 'places', 'me', 'in', 'grave', 'risk', 'of', 'substantial', 'and', 'irreparable', 'injury', 'or', 'death', ',', \"''\", 'he', 'wrote', 'in', 'the', 'petition', '.', '``', 'my', 'doctors', 'have', 'advised', 'that', 'heated', 'arguments', 'can', 'cause', 'my', 'blood', 'pressure', 'to', 'rise', 'dangerously', '.', \"''\", 'andrew', 'getty', 'had', 'three', 'brothers', 'and', 'three', 'half-sisters', '.', 'people', 'we', \"'ve\"]\n",
            "PRED 0: <t> coroner 's preliminary assessment is there was no foul play involved in the death of getty , grandson of oil tycoon j. paul getty . </t> <t> getty 's parents , ann and gordon getty , released a statement confirming their son 's death and asking for privacy . </t>\n",
            "PRED SCORE: -2.2019\n",
            "GOLD 0: <t> andrew getty 's death appears to be from natural causes , police say , citing coroner 's early assessment . </t> <t> in a petition for a restraining order , getty had written he had a serious medical condition . </t> <t> police say this is not a criminal matter at this time . </t>\n",
            "GOLD SCORE: -620.0543\n",
            "\n",
            "\n",
            "SENT 0: ['-lrb-', 'cnn', '-rrb-', 'a', 'year', 'ago', 'bloomberg', 'published', 'a', 'story', 'with', 'the', 'following', 'headline', ':', 'mike', 'pence', ',', 'a', 'koch', 'favorite', ',', 'mulls', '2016', 'run', 'for', 'president', '.', 'the', 'story', 'ticked', 'off', 'items', 'on', 'pence', \"'s\", 'conservative', 'things-to-do', 'list', 'while', 'also', 'noting', 'his', 'close', 'ties', 'to', 'the', 'deep-pocketed', 'koch', 'brothers', ',', 'as', 'well', 'as', 'other', 'right-wing', 'lobbying', 'groups', '.', 'last', 'august', 'the', 'indiana', 'governor', 'was', 'in', 'dallas', 'for', 'an', 'americans', 'for', 'prosperity', 'event', ';', 'the', 'group', 'is', 'backed', 'by', 'the', 'conservative', 'koch', 'brothers', ',', 'and', 'supported', 'gov.', 'pence', \"'s\", 'tax-slashing', 'budget', '.', 'now', ',', 'pence', 'is', 'drawing', 'huge', 'heat', 'for', 'his', 'controversial', 'decision', 'to', 'sign', 'a', 'religious', 'freedom', 'law', 'last', 'week', 'that', 'opens', 'the', 'door', 'to', 'discrimination', 'against', 'gays', 'and', 'lesbians', '.', 'why', 'would', 'pence', 'ignore', 'the', 'pleas', 'of', 'indiana', \"'s\", 'chamber', 'of', 'commerce', 'as', 'well', 'as', 'the', 'republican', 'mayor', 'of', 'his', 'state', 'capital', 'and', 'sign', 'such', 'a', 'bill', '?', 'because', 'there', \"'s\", 'a', 'very', 'powerful', 'wing', 'of', 'his', 'party', 'that', 'wants', 'a', 'conservative', 'as', 'its', '2016', 'candidate', 'and', 'this', 'bill', 'was', 'pence', \"'s\", 'way', 'of', 'shoring', 'up', 'his', 'street', 'cred', '.', 'it', 'is', 'also', 'the', 'reason', 'why', 'republican', 'jeb', 'bush', ',', 'pence', \"'s\", 'fellow', 'white', 'house', 'hopeful', ',', 'who', 'is', 'viewed', 'as', 'a', 'little', 'light', 'in', 'that', 'category', ',', 'was', 'first', 'to', 'rush', 'in', 'to', 'defend', 'pence', 'and', 'the', 'law', '.', 'one', 'lesson', 'here', ':', 'just', 'because', 'more', 'than', '70', '%', 'of', 'the', 'country', 'now', 'lives', 'in', 'states', 'where', 'same-sex', 'marriage', 'is', 'legal', 'does', 'not', 'mean', '70', '%', 'of', 'the', 'country', 'is', 'happy', 'about', 'it', '.', 'backlash', 'aside', ',', 'the', 'fact', 'is', 'pence', 'has', 'scored', 'a', 'lot', 'of', 'points', 'this', 'week', 'among', 'ultraconservatives', '.', 'and', 'while', 'that', 'may', 'not', 'be', 'enough', 'to', 'get', 'him', 'over', 'this', 'political', 'hump', ',', 'the', 'very', 'public', 'debate', 'that', 'now', 'embroils', 'him', '--', 'and', 'arkansas', 'gov.', 'asa', 'hutchinson', ',', 'and', 'likely', '14', 'other', 'states', 'considering', 'similar', 'proposals', 'this', 'year', '--', 'is', 'more', 'than', 'enough', 'to', 'drag', 'the', 'entire', 'republican', 'field', 'farther', 'to', 'the', 'right', 'than', 'the', 'party', 'had', 'hoped', '.', 'pence', ':', '`', 'was', 'i', 'expecting', 'this', 'kind', 'of', 'backlash', '?', 'heavens', 'no', '.', \"'\", 'for', 'there', 'is', 'no', 'way', 'a', 'republican', 'can', 'get', 'through', 'the', 'pending', 'primary', 'without', 'denouncing', 'lgbt', 'rights', ',', 'which', 'unfortunately', 'will', 'turn', 'numerous', 'americans', 'into', 'single-issue', 'voters', '.', 'i', 'foolishly', 'hoped', 'the', 'issue', 'of', 'lgbt', 'rights', 'would', 'be', 'a', 'bit', 'player', 'in', 'the', '2016', 'general', 'election', ',', 'overshadowed', 'by']\n",
            "PRED 0: <t> the indiana governor was in dallas for an americans for prosperity event . </t> <t> it is also the reason why republican jeb bush , pence 's fellow white house hopeful , is more than enough to drag the entire republican field farther to the right than the party had hoped . </t>\n",
            "PRED SCORE: -3.1485\n",
            "GOLD 0: <t> lz : indiana law pushing back lgbt rights , and other states ' <unk> moves , bow to far right wing that gop candidates need for 2016 . </t> <t> cruz , huckabee , jindal , carson , walker are reviving culture wars , he says . equality for lgbt has not yet `` won '' in america . </t>\n",
            "GOLD SCORE: -642.7607\n",
            "\n",
            "\n",
            "SENT 0: ['-lrb-', 'cnn', '-rrb-', 'filipinos', 'are', 'being', 'warned', 'to', 'be', 'on', 'guard', 'for', 'flash', 'floods', 'and', 'landslides', 'as', 'tropical', 'storm', 'maysak', 'approached', 'the', 'asian', 'island', 'nation', 'saturday', '.', 'just', 'a', 'few', 'days', 'ago', ',', 'maysak', 'gained', 'super', 'typhoon', 'status', 'thanks', 'to', 'its', 'sustained', '150', 'mph', 'winds', '.', 'it', 'has', 'since', 'lost', 'a', 'lot', 'of', 'steam', 'as', 'it', 'has', 'spun', 'west', 'in', 'the', 'pacific', 'ocean', '.', 'it', \"'s\", 'now', 'classified', 'as', 'a', 'tropical', 'storm', ',', 'according', 'to', 'the', 'philippine', 'national', 'weather', 'service', ',', 'which', 'calls', 'it', 'a', 'different', 'name', ',', 'chedeng', '.', 'it', 'boasts', 'steady', 'winds', 'of', 'more', 'than', '70', 'mph', '-lrb-', '115', 'kph', '-rrb-', 'and', 'gusts', 'up', 'to', '90', 'mph', 'as', 'of', '5', 'p.m.', '-lrb-', '5', 'a.m.', 'et', '-rrb-', 'saturday', '.', 'still', ',', 'that', 'does', \"n't\", 'mean', 'maysak', 'wo', \"n't\", 'pack', 'a', 'wallop', '.', 'authorities', 'took', 'preemptive', 'steps', 'to', 'keep', 'people', 'safe', 'such', 'as', 'barring', 'outdoor', 'activities', 'like', 'swimming', ',', 'surfing', ',', 'diving', 'and', 'boating', 'in', 'some', 'locales', ',', 'as', 'well', 'as', 'a', 'number', 'of', 'precautionary', 'evacuations', '.', 'gabriel', 'llave', ',', 'a', 'disaster', 'official', ',', 'told', 'pna', 'that', 'tourists', 'who', 'arrive', 'saturday', 'in', 'and', 'around', 'the', 'coastal', 'town', 'of', 'aurora', '``', 'will', 'not', 'be', 'accepted', 'by', 'the', 'owners', 'of', 'hotels', ',', 'resorts', ',', 'inns', 'and', 'the', 'like', '...', 'and', 'will', 'be', 'advised', 'to', 'return', 'to', 'their', 'respective', 'places', '.', \"''\", 'aldczar', 'aurelio', ',', 'a', 'meteorologist', 'with', 'the', 'philippine', 'atmospheric', ',', 'geophysical', 'and', 'astronomical', 'services', 'administration', '-lrb-', 'pagasa', '-rrb-', ',', 'said', 'the', 'storm', 'was', 'centered', '200', 'miles', 'southwest', 'of', 'aurora', 'province', 'as', 'of', '5', 'p.m.', '-lrb-', '5', 'a.m.', 'et', '-rrb-', 'and', 'heading', 'west', 'at', 'a', '12.5', 'mph', 'clip', '.', 'it', \"'s\", 'expected', 'to', 'make', 'landfall', 'sunday', 'morning', 'on', 'the', 'southeastern', 'coast', 'of', 'isabela', 'province', 'and', 'be', 'out', 'of', 'the', 'philippines', 'by', 'monday', '.', 'ahead', 'of', 'the', 'storm', '.', 'isabela', 'gov.', 'faustino', 'dry', 'iii', 'warned', 'saturday', 'that', 'residents', 'should', 'act', 'as', 'if', 'this', 'will', 'be', '``', 'no', 'ordinary', 'typhoon', '.', \"''\", 'dry', 'told', 'pna', ',', '``', 'we', 'do', 'not', 'know', 'what', 'the', 'impact', 'will', 'be', 'once', 'it', 'will', 'make', 'landfall', '.', \"''\"]\n",
            "PRED 0: <t> maysak gained super typhoon status thanks to its sustained 150 mph winds . </t> <t> it boasts steady winds of more than 70 mph -lrb- 115 kph -rrb- and gusts up to 90 mph . </t> <t> it 's expected to make landfall sunday morning on the southeastern coast of isabela province . </t>\n",
            "PRED SCORE: -2.2822\n",
            "GOLD 0: <t> once a super typhoon , <unk> is now a tropical storm with 70 mph winds . </t> <t> it could still cause flooding , landslides and other problems in the philippines . </t>\n",
            "GOLD SCORE: -349.2680\n",
            "\n",
            "\n",
            "SENT 0: ['norfolk', ',', 'virginia', '-lrb-', 'cnn', '-rrb-', 'the', 'second', 'mate', 'of', 'the', 'houston', 'express', 'probably', 'could', \"n't\", 'believe', 'what', 'he', 'was', 'seeing', '.', 'hundreds', 'of', 'miles', 'from', 'land', 'there', 'was', 'a', 'small', 'boat', 'nearby', '.', 'at', 'first', 'it', 'looked', 'abandoned', '.', 'it', 'was', 'in', 'bad', 'shape', ',', 'listing', 'to', 'one', 'side', '.', 'the', 'crew', 'of', 'the', '1,000-foot', 'long', 'container', 'ship', 'thought', 'it', 'was', 'a', 'yacht', 'that', 'had', 'wrecked', '.', 'incredibly', ',', 'as', 'they', 'got', 'closer', ',', 'they', 'saw', 'there', 'was', 'a', 'man', 'on', 'it', ',', 'signaling', 'for', 'help', '.', '``', 'he', 'was', 'moving', ',', 'walking', 'around', ',', 'waving', 'to', 'us', 'and', 'in', 'surprisingly', 'good', 'condition', ',', \"''\", 'capt.', 'thomas', 'grenz', 'told', 'cnn', 'by', 'phone', 'friday', '.', 'that', 'man', ',', 'louis', 'jordan', ',', '37', ',', 'had', 'an', 'amazing', 'story', '.', 'he', \"'d\", 'been', 'drifting', 'on', 'the', '35-foot', 'pearson', 'sailboat', 'for', 'more', 'than', 'two', 'months', 'since', 'leaving', 'conway', ',', 'south', 'carolina', ',', 'to', 'fish', 'in', 'the', 'ocean', '.', 'just', 'a', 'few', 'days', 'into', 'his', 'trip', ',', 'a', 'storm', 'capsized', 'his', 'boat', 'and', 'broke', 'his', 'mast', '.', 'one', 'of', 'his', 'shoulders', 'was', 'broken', ',', 'too', ',', 'so', 'he', 'could', \"n't\", 'fix', 'the', 'boat', 'right', 'away', '.', 'eventually', 'he', 'was', 'able', 'to', 'rig', 'a', 'makeshift', 'mast', 'and', 'sail', ',', 'but', 'he', 'could', 'make', 'little', 'headway', 'against', 'the', 'currents', '.', '``', 'it', 'took', 'so', 'long', ',', \"''\", 'jordan', 'said', '.', '``', 'it', 'moved', 'so', 'slowly', '.', \"''\", 'the', 'boat', 'capsized', 'two', 'more', 'times', 'before', 'he', 'was', 'rescued', ',', 'according', 'to', 'jordan', '.', 'his', 'father', ',', 'frank', 'jordan', ',', 'told', 'cnn', \"'s\", 'jim', 'sciutto', 'that', 'he', 'was', 'expecting', 'his', 'son', 'to', 'look', 'different', '.', '``', 'he', 'looked', 'good', '.', 'had', \"n't\", 'lost', 'too', 'much', 'weight', '.', 'he', 'was', \"n't\", 'badly', 'sunburned', 'like', 'i', 'thought', 'he', 'probably', 'would', 'be', ',', \"''\", 'he', 'said', '.', 'lost', 'at', 'sea', 'for', '66', 'days', '.', 'after', 'his', 'food', 'and', 'water', 'ran', 'out', ',', 'it', 'became', 'an', 'issue', 'of', 'survival', '.', 'collecting', 'fresh', 'water', 'was', 'a', 'nightmare', 'for', 'jordan', '.', 'the', 'weather', 'would', \"n't\", 'cooperate', '.', 'records', 'show', 'there', 'were', 'more', 'than', 'a', 'dozen', 'storms', 'off', 'the', 'coast', 'of', 'the', 'carolinas', 'during', 'the', 'time', 'he', 'was', 'missing', '.', 'the', 'precipitation', 'came', 'at', 'night', 'during', 'harsh', 'conditions', '.', '``', 'i', 'had', 'tried', 'to', 'collect', '-lrb-', 'rain', '-rrb-', 'water', '...', 'but', 'every', 'time', 'the', 'waves', 'would', 'splash', 'into', 'the', 'boat', ',', \"''\", 'jordan', 'said', '.', '``', 'the', 'waves', 'would', 'put', 'saltwater', 'into', 'my', 'freshwater', 'and']\n",
            "PRED 0: <t> `` he was moving , walking around , waving to us and in surprisingly good condition , '' capt. thomas grenz says . </t> <t> the boat capsized two more times before he was rescued . </t>\n",
            "PRED SCORE: -3.0294\n",
            "GOLD 0: <t> father : `` i know he went through what he went through '' </t> <t> louis jordan was found on his sailboat , which was listing and in bad shape , rescuer says . </t> <t> he appears to be in good shape , physically and mentally . </t>\n",
            "GOLD SCORE: -589.4239\n",
            "\n",
            "\n",
            "SENT 0: ['-lrb-', 'cnn', '-rrb-', 'paul', 'walker', 'is', 'hardly', 'the', 'first', 'actor', 'to', 'die', 'during', 'a', 'production', '.', 'but', 'walker', \"'s\", 'death', 'in', 'november', '2013', 'at', 'the', 'age', 'of', '40', 'after', 'a', 'car', 'crash', 'was', 'especially', 'eerie', 'given', 'his', 'rise', 'to', 'fame', 'in', 'the', '``', 'fast', 'and', 'furious', \"''\", 'film', 'franchise', '.', 'the', 'release', 'of', '``', 'furious', '7', \"''\", 'on', 'friday', 'offers', 'the', 'opportunity', 'for', 'fans', 'to', 'remember', '--', 'and', 'possibly', 'grieve', 'again', '--', 'the', 'man', 'that', 'so', 'many', 'have', 'praised', 'as', 'one', 'of', 'the', 'nicest', 'guys', 'in', 'hollywood', '.', '``', 'he', 'was', 'a', 'person', 'of', 'humility', ',', 'integrity', ',', 'and', 'compassion', ',', \"''\", 'military', 'veteran', 'kyle', 'upham', 'said', 'in', 'an', 'email', 'to', 'cnn', '.', 'walker', 'secretly', 'paid', 'for', 'the', 'engagement', 'ring', 'upham', 'shopped', 'for', 'with', 'his', 'bride', '.', '``', 'we', 'did', \"n't\", 'know', 'him', 'personally', 'but', 'this', 'was', 'apparent', 'in', 'the', 'short', 'time', 'we', 'spent', 'with', 'him', '.', 'i', 'know', 'that', 'we', 'will', 'never', 'forget', 'him', 'and', 'he', 'will', 'always', 'be', 'someone', 'very', 'special', 'to', 'us', ',', \"''\", 'said', 'upham', '.', 'the', 'actor', 'was', 'on', 'break', 'from', 'filming', '``', 'furious', '7', \"''\", 'at', 'the', 'time', 'of', 'the', 'fiery', 'accident', ',', 'which', 'also', 'claimed', 'the', 'life', 'of', 'the', 'car', \"'s\", 'driver', ',', 'roger', 'rodas', '.', 'producers', 'said', 'early', 'on', 'that', 'they', 'would', 'not', 'kill', 'off', 'walker', \"'s\", 'character', ',', 'brian', \"o'connor\", ',', 'a', 'former', 'cop', 'turned', 'road', 'racer', '.', 'instead', ',', 'the', 'script', 'was', 'rewritten', 'and', 'special', 'effects', 'were', 'used', 'to', 'finish', 'scenes', ',', 'with', 'walker', \"'s\", 'brothers', ',', 'cody', 'and', 'caleb', ',', 'serving', 'as', 'body', 'doubles', '.', 'there', 'are', 'scenes', 'that', 'will', 'resonate', 'with', 'the', 'audience', '--', 'including', 'the', 'ending', ',', 'in', 'which', 'the', 'filmmakers', 'figured', 'out', 'a', 'touching', 'way', 'to', 'pay', 'tribute', 'to', 'walker', 'while', '``', 'retiring', \"''\", 'his', 'character', '.', 'at', 'the', 'premiere', 'wednesday', 'night', 'in', 'hollywood', ',', 'walker', \"'s\", 'co-star', 'and', 'close', 'friend', 'vin', 'diesel', 'gave', 'a', 'tearful', 'speech', 'before', 'the', 'screening', ',', 'saying', '``', 'this', 'movie', 'is', 'more', 'than', 'a', 'movie', '.', \"''\", '``', 'you', \"'ll\", 'feel', 'it', 'when', 'you', 'see', 'it', ',', \"''\", 'diesel', 'said', '.', '``', 'there', \"'s\", 'something', 'emotional', 'that', 'happens', 'to', 'you', ',', 'where', 'you', 'walk', 'out', 'of', 'this', 'movie', 'and', 'you', 'appreciate', 'everyone', 'you', 'love', 'because', 'you', 'just', 'never', 'know', 'when', 'the', 'last', 'day', 'is', 'you', \"'re\", 'gon', 'na', 'see', 'them', '.', \"''\", 'there', 'have', 'been', 'multiple', 'tributes', 'to', 'walker', 'leading', 'up', 'to', 'the', 'release', '.', 'diesel', 'revealed', 'in', 'an', 'interview', 'with']\n",
            "PRED 0: <t> paul walker is hardly the first actor to die during a production . </t> <t> the actor was on break from filming `` furious 7 '' at the time of the fiery accident . </t>\n",
            "PRED SCORE: -2.4312\n",
            "GOLD 0: <t> `` furious 7 '' pays tribute to star paul walker , who died during filming . </t> <t> vin diesel : `` this movie is more than a movie '' </t> <t> `` furious 7 '' opens friday . </t>\n",
            "GOLD SCORE: -471.5543\n",
            "\n"
          ],
          "name": "stdout"
        }
      ]
    },
    {
      "cell_type": "markdown",
      "metadata": {
        "id": "QuZNBlo7WueY"
      },
      "source": [
        "Sin embargo estas no son muy legibles como pueden ver previamente, así que utilizaremos también una función propia en donde seleccionaremos al azar uno de estos ejemplos y lo miraremos más en detalle."
      ]
    },
    {
      "cell_type": "code",
      "metadata": {
        "id": "bYyZx0wYWueb",
        "colab": {
          "base_uri": "https://localhost:8080/"
        },
        "outputId": "8414437d-2397-4792-89cf-4ba0e6c981e3"
      },
      "source": [
        "random_translation = random.choice(translations)\n",
        "display_translation(random_translation)"
      ],
      "execution_count": 21,
      "outputs": [
        {
          "output_type": "stream",
          "text": [
            "\u001b[1mSource Text:\u001b[0m\n",
            "-lrb- cnn -rrb- never mind cats having nine lives . a stray pooch in\n",
            "washington state has used up at least three of her own after being hit\n",
            "by a car , apparently whacked on the head with a hammer in a misguided\n",
            "mercy killing and then buried in a field -- only to survive . that 's\n",
            "according to washington state university , where the dog -- a friendly\n",
            "white-and-black bully breed mix now named theia -- has been receiving\n",
            "care at the veterinary teaching hospital . four days after her\n",
            "apparent death , the dog managed to stagger to a nearby farm , dirt-\n",
            "covered and emaciated , where she was found by a worker who took her\n",
            "to a vet for help . she was taken in by moses lake , washington ,\n",
            "resident sara mellado . `` considering everything that she 's been\n",
            "through , she 's incredibly gentle and loving , '' mellado said ,\n",
            "according to wsu news . `` she 's a true miracle dog and she deserves\n",
            "a good life . '' theia is only one year old but the dog 's brush with\n",
            "death did not leave her unscathed . she suffered a dislocated jaw ,\n",
            "leg injuries and a caved-in sinus cavity -- and still requires surgery\n",
            "to help her breathe . the veterinary hospital 's good samaritan fund\n",
            "committee awarded some money to help pay for the dog 's treatment ,\n",
            "but mellado has set up a fundraising page to help meet the remaining\n",
            "cost of the dog 's care . she 's also created a facebook page to keep\n",
            "supporters updated . donors have already surpassed the $ 10,000 target\n",
            ", inspired by theia 's tale of survival against the odds . on the\n",
            "fundraising page , mellado writes , `` she is in desperate need of\n",
            "extensive medical procedures to fix her nasal damage and reset her jaw\n",
            ". i agreed to foster her until she finally found a loving home . ''\n",
            "she is dedicated to making sure theia gets the medical attention she\n",
            "needs , mellado adds , and wants to `` make sure she gets placed in a\n",
            "family where this will never happen to her again ! '' any additional\n",
            "funds raised will be `` paid forward '' to help other animals . theia\n",
            "is not the only animal to apparently rise from the\n",
            "\n",
            "\u001b[1mGold Standard Summarization:\u001b[0m\n",
            "<unk> , a bully breed mix , was apparently hit by a car , whacked with\n",
            "a hammer and buried in a field .  `` she 's a true miracle dog and she\n",
            "deserves a good life , '' says sara <unk> , who is looking for a home\n",
            "for <unk> .\n",
            "\n",
            "\u001b[1mPredicted Summarization:\u001b[0m\n",
            "a stray pooch in washington state has used up at least three of her\n",
            "own after being hit by a car .  she suffered a dislocated jaw , leg\n",
            "injuries and a caved-in sinus cavity -- and still requires surgery to\n",
            "help her breathe .\n",
            "\n"
          ],
          "name": "stdout"
        }
      ]
    },
    {
      "cell_type": "markdown",
      "metadata": {
        "id": "E2QFB_-5Wuee"
      },
      "source": [
        "#### Evaluación cuantitativa\n",
        "\n",
        "Ya habiendo visto ejemplos de las predicciones que genera nuestro modelo, podemos calcular también una métrica de rendimiento basada en ROUGE.\n",
        "\n",
        "Primero calculemos cuanto es el ROUGE para el ejemplo particular visto previamente."
      ]
    },
    {
      "cell_type": "code",
      "metadata": {
        "id": "GfD9VmktWuee",
        "colab": {
          "base_uri": "https://localhost:8080/"
        },
        "outputId": "d1132c60-f1ba-42f0-c0e8-94f23cc82697"
      },
      "source": [
        "src, tgt, preds = translation2texts(random_translation)\n",
        "scorer = rouge_scorer.RougeScorer(['rouge1', 'rouge2', 'rougeLsum'], use_stemmer=False)\n",
        "scores = scorer.score(tgt, preds[0])\n",
        "for score_type in scores:\n",
        "    score = scores[score_type].fmeasure\n",
        "    print(f'{score_type:10.10s}: {score:.4f}')"
      ],
      "execution_count": 22,
      "outputs": [
        {
          "output_type": "stream",
          "text": [
            "rouge1    : 0.2588\n",
            "rouge2    : 0.0723\n",
            "rougeLsum : 0.2353\n"
          ],
          "name": "stdout"
        }
      ]
    },
    {
      "cell_type": "markdown",
      "metadata": {
        "id": "piqiaGxaWuej"
      },
      "source": [
        "Finalmente calculemos la métrica ROUGE para el set de test. Calcularla toma un buen rato (una hora aproximadamente) por lo que solo utilizaremos el 10% del set de test y así tener una mejor idea de como está funcionando nuestro generador de resumenes."
      ]
    },
    {
      "cell_type": "code",
      "metadata": {
        "id": "cXxXscDtWuek",
        "colab": {
          "base_uri": "https://localhost:8080/",
          "height": 103,
          "referenced_widgets": [
            "fc898800a99345dc9bb4ec8c2e9ef13f",
            "bc1e4caa46ac4e3c8026fc7191e19d5c",
            "221d2e4d88eb49b8b49dad3cdbf43573",
            "2b571f0b1d024a969d5fe3bd48859ac7",
            "8e525293e74748b3b4034cd5b4c8e20e",
            "91a63afd331c4fef9f8cb82ca8f3e288",
            "c90adfb6c49d46b68955c4a6a387e107",
            "62a4563ead644daa9b7b151d1a050434"
          ]
        },
        "outputId": "8b661ae9-7d23-468f-ab3b-2793186ce330"
      },
      "source": [
        "aggregator = BootstrapAggregator()\n",
        "\n",
        "total = len(data_iter)\n",
        "\n",
        "# calcularemos el ROUGE sobre el 10% del set de test solamente, cambiar a 1 para el set completo\n",
        "test_ratio = 0.1\n",
        "stop = int(test_ratio * total)\n",
        "\n",
        "for i, batch in tqdm(enumerate(data_iter), total=min(stop, total)):\n",
        "    if i > stop:\n",
        "        break\n",
        "    trans_batch = translator.translate_batch(\n",
        "        batch=batch, src_vocabs=dataset.src_vocabs,\n",
        "        attn_debug=False)\n",
        "    translations = builder.from_batch(trans_batch)\n",
        "\n",
        "    for translation in translations:\n",
        "        score = translation_score(translation)\n",
        "        aggregator.add_scores(score)\n",
        "\n",
        "result = aggregator.aggregate()\n",
        "\n",
        "for score_type in result:\n",
        "    score = result[score_type].mid.fmeasure\n",
        "    print(f'{score_type:10.10s}: {score:.4f}')"
      ],
      "execution_count": 23,
      "outputs": [
        {
          "output_type": "display_data",
          "data": {
            "application/vnd.jupyter.widget-view+json": {
              "model_id": "fc898800a99345dc9bb4ec8c2e9ef13f",
              "version_minor": 0,
              "version_major": 2
            },
            "text/plain": [
              "HBox(children=(FloatProgress(value=0.0, max=57.0), HTML(value='')))"
            ]
          },
          "metadata": {
            "tags": []
          }
        },
        {
          "output_type": "stream",
          "text": [
            "rouge1    : 0.2705\n",
            "rouge2    : 0.0943\n",
            "rougeLsum : 0.2433\n"
          ],
          "name": "stdout"
        }
      ]
    },
    {
      "cell_type": "markdown",
      "metadata": {
        "id": "EKL2gbIyVHRG"
      },
      "source": [
        "#### Respuesta Actividad 3"
      ]
    },
    {
      "cell_type": "code",
      "metadata": {
        "cellView": "form",
        "id": "WDy4rRgtyFAh"
      },
      "source": [
        "rouge_1 = 0.2705 #@param {type:\"number\"}\n",
        "rouge_2 = 0.0943 #@param {type:\"number\"}\n",
        "rouge_L = 0.2433 #@param {type:\"number\"}"
      ],
      "execution_count": null,
      "outputs": []
    },
    {
      "cell_type": "markdown",
      "metadata": {
        "id": "hnBfyXg-Nywb"
      },
      "source": [
        "Se observa que estos valores de rouge son levemente menores al del modelo de pointer, pero mayores que el modelo base"
      ]
    },
    {
      "cell_type": "code",
      "metadata": {
        "id": "UugRVi8EOBQl"
      },
      "source": [
        ""
      ],
      "execution_count": null,
      "outputs": []
    }
  ]
}