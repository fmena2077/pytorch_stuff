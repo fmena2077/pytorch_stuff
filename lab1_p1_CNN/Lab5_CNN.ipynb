{
  "nbformat": 4,
  "nbformat_minor": 0,
  "metadata": {
    "colab": {
      "name": "tarea_FranciscoMena.ipynb",
      "provenance": [],
      "collapsed_sections": [
        "9AMNKf9FRyZF",
        "eX6vFBBZOkoX"
      ],
      "toc_visible": true
    },
    "kernelspec": {
      "name": "python3",
      "display_name": "Python 3"
    },
    "accelerator": "GPU",
    "widgets": {
      "application/vnd.jupyter.widget-state+json": {
        "b168e16cdcfc4e1dac94df2725d773c2": {
          "model_module": "@jupyter-widgets/controls",
          "model_name": "HBoxModel",
          "state": {
            "_view_name": "HBoxView",
            "_dom_classes": [],
            "_model_name": "HBoxModel",
            "_view_module": "@jupyter-widgets/controls",
            "_model_module_version": "1.5.0",
            "_view_count": null,
            "_view_module_version": "1.5.0",
            "box_style": "",
            "layout": "IPY_MODEL_0375d2cad54d44f2a7de4b2a6a16d98b",
            "_model_module": "@jupyter-widgets/controls",
            "children": [
              "IPY_MODEL_c3115435f2d5443e9944d06300d227fa",
              "IPY_MODEL_0019e79ab8b543afa82ab4fd625e421f"
            ]
          }
        },
        "0375d2cad54d44f2a7de4b2a6a16d98b": {
          "model_module": "@jupyter-widgets/base",
          "model_name": "LayoutModel",
          "state": {
            "_view_name": "LayoutView",
            "grid_template_rows": null,
            "right": null,
            "justify_content": null,
            "_view_module": "@jupyter-widgets/base",
            "overflow": null,
            "_model_module_version": "1.2.0",
            "_view_count": null,
            "flex_flow": null,
            "width": null,
            "min_width": null,
            "border": null,
            "align_items": null,
            "bottom": null,
            "_model_module": "@jupyter-widgets/base",
            "top": null,
            "grid_column": null,
            "overflow_y": null,
            "overflow_x": null,
            "grid_auto_flow": null,
            "grid_area": null,
            "grid_template_columns": null,
            "flex": null,
            "_model_name": "LayoutModel",
            "justify_items": null,
            "grid_row": null,
            "max_height": null,
            "align_content": null,
            "visibility": null,
            "align_self": null,
            "height": null,
            "min_height": null,
            "padding": null,
            "grid_auto_rows": null,
            "grid_gap": null,
            "max_width": null,
            "order": null,
            "_view_module_version": "1.2.0",
            "grid_template_areas": null,
            "object_position": null,
            "object_fit": null,
            "grid_auto_columns": null,
            "margin": null,
            "display": null,
            "left": null
          }
        },
        "c3115435f2d5443e9944d06300d227fa": {
          "model_module": "@jupyter-widgets/controls",
          "model_name": "FloatProgressModel",
          "state": {
            "_view_name": "ProgressView",
            "style": "IPY_MODEL_e8bfaffcfb744585bea75cb8469d2d71",
            "_dom_classes": [],
            "description": "100%",
            "_model_name": "FloatProgressModel",
            "bar_style": "success",
            "max": 300,
            "_view_module": "@jupyter-widgets/controls",
            "_model_module_version": "1.5.0",
            "value": 300,
            "_view_count": null,
            "_view_module_version": "1.5.0",
            "orientation": "horizontal",
            "min": 0,
            "description_tooltip": null,
            "_model_module": "@jupyter-widgets/controls",
            "layout": "IPY_MODEL_aeb84c6f79554cc9a0e68705d0c00f62"
          }
        },
        "0019e79ab8b543afa82ab4fd625e421f": {
          "model_module": "@jupyter-widgets/controls",
          "model_name": "HTMLModel",
          "state": {
            "_view_name": "HTMLView",
            "style": "IPY_MODEL_2635f505989941279c6cccba892780af",
            "_dom_classes": [],
            "description": "",
            "_model_name": "HTMLModel",
            "placeholder": "​",
            "_view_module": "@jupyter-widgets/controls",
            "_model_module_version": "1.5.0",
            "value": " 300/300 [02:02&lt;00:00,  2.45it/s]",
            "_view_count": null,
            "_view_module_version": "1.5.0",
            "description_tooltip": null,
            "_model_module": "@jupyter-widgets/controls",
            "layout": "IPY_MODEL_7f26f0ef96194746bdbd82deb58eb8ea"
          }
        },
        "e8bfaffcfb744585bea75cb8469d2d71": {
          "model_module": "@jupyter-widgets/controls",
          "model_name": "ProgressStyleModel",
          "state": {
            "_view_name": "StyleView",
            "_model_name": "ProgressStyleModel",
            "description_width": "initial",
            "_view_module": "@jupyter-widgets/base",
            "_model_module_version": "1.5.0",
            "_view_count": null,
            "_view_module_version": "1.2.0",
            "bar_color": null,
            "_model_module": "@jupyter-widgets/controls"
          }
        },
        "aeb84c6f79554cc9a0e68705d0c00f62": {
          "model_module": "@jupyter-widgets/base",
          "model_name": "LayoutModel",
          "state": {
            "_view_name": "LayoutView",
            "grid_template_rows": null,
            "right": null,
            "justify_content": null,
            "_view_module": "@jupyter-widgets/base",
            "overflow": null,
            "_model_module_version": "1.2.0",
            "_view_count": null,
            "flex_flow": null,
            "width": null,
            "min_width": null,
            "border": null,
            "align_items": null,
            "bottom": null,
            "_model_module": "@jupyter-widgets/base",
            "top": null,
            "grid_column": null,
            "overflow_y": null,
            "overflow_x": null,
            "grid_auto_flow": null,
            "grid_area": null,
            "grid_template_columns": null,
            "flex": null,
            "_model_name": "LayoutModel",
            "justify_items": null,
            "grid_row": null,
            "max_height": null,
            "align_content": null,
            "visibility": null,
            "align_self": null,
            "height": null,
            "min_height": null,
            "padding": null,
            "grid_auto_rows": null,
            "grid_gap": null,
            "max_width": null,
            "order": null,
            "_view_module_version": "1.2.0",
            "grid_template_areas": null,
            "object_position": null,
            "object_fit": null,
            "grid_auto_columns": null,
            "margin": null,
            "display": null,
            "left": null
          }
        },
        "2635f505989941279c6cccba892780af": {
          "model_module": "@jupyter-widgets/controls",
          "model_name": "DescriptionStyleModel",
          "state": {
            "_view_name": "StyleView",
            "_model_name": "DescriptionStyleModel",
            "description_width": "",
            "_view_module": "@jupyter-widgets/base",
            "_model_module_version": "1.5.0",
            "_view_count": null,
            "_view_module_version": "1.2.0",
            "_model_module": "@jupyter-widgets/controls"
          }
        },
        "7f26f0ef96194746bdbd82deb58eb8ea": {
          "model_module": "@jupyter-widgets/base",
          "model_name": "LayoutModel",
          "state": {
            "_view_name": "LayoutView",
            "grid_template_rows": null,
            "right": null,
            "justify_content": null,
            "_view_module": "@jupyter-widgets/base",
            "overflow": null,
            "_model_module_version": "1.2.0",
            "_view_count": null,
            "flex_flow": null,
            "width": null,
            "min_width": null,
            "border": null,
            "align_items": null,
            "bottom": null,
            "_model_module": "@jupyter-widgets/base",
            "top": null,
            "grid_column": null,
            "overflow_y": null,
            "overflow_x": null,
            "grid_auto_flow": null,
            "grid_area": null,
            "grid_template_columns": null,
            "flex": null,
            "_model_name": "LayoutModel",
            "justify_items": null,
            "grid_row": null,
            "max_height": null,
            "align_content": null,
            "visibility": null,
            "align_self": null,
            "height": null,
            "min_height": null,
            "padding": null,
            "grid_auto_rows": null,
            "grid_gap": null,
            "max_width": null,
            "order": null,
            "_view_module_version": "1.2.0",
            "grid_template_areas": null,
            "object_position": null,
            "object_fit": null,
            "grid_auto_columns": null,
            "margin": null,
            "display": null,
            "left": null
          }
        }
      }
    }
  },
  "cells": [
    {
      "cell_type": "markdown",
      "metadata": {
        "id": "r1esAJyY_XZV"
      },
      "source": [
        "# RNNs \\#2: Tarea\n",
        "\n",
        "| Cristóbal Eyzaguirre |  | ceyzaguirre4@uc.cl |  | https://ceyzaguirre4.github.io |\n",
        "| :---: | :---: | :---: | :---: | :---: |\n",
        "\n",
        "\n",
        "<br> \n",
        "\n",
        "The following code is the same as the first half of the appropiate lab.\n",
        "The only major changes were done to the decoder to add **teacher forcing**.\n",
        "\n",
        "Additional changes were added to other modules so as to allow the passing of the correct answer to the decoder module.\n",
        "\n",
        "Your homework is to run this notebook and compare and comment on the training results (primarily convergence times) between using and not using teacher forcing.\n",
        "\n"
      ]
    },
    {
      "cell_type": "markdown",
      "metadata": {
        "id": "BuwMIZ_PRZRW"
      },
      "source": [
        "# Import Base Dependencies"
      ]
    },
    {
      "cell_type": "code",
      "metadata": {
        "id": "mzVHNb63wXkj"
      },
      "source": [
        "from collections import defaultdict\n",
        "import matplotlib.pyplot as plt\n",
        "try:\n",
        "    from tqdm.notebook import tqdm, trange\n",
        "except:\n",
        "    from tqdm import tqdm, trange"
      ],
      "execution_count": 1,
      "outputs": []
    },
    {
      "cell_type": "code",
      "metadata": {
        "id": "VWJrh8TQQS_i"
      },
      "source": [
        "import torch\n",
        "import torch.nn as nn\n",
        "import torch.nn.functional as F\n",
        "from torch.utils.data import Dataset, DataLoader\n",
        "from torchtext import data, datasets, vocab"
      ],
      "execution_count": 2,
      "outputs": []
    },
    {
      "cell_type": "code",
      "metadata": {
        "id": "tsqeabd1Rr5d"
      },
      "source": [
        "# for reproducibility\n",
        "torch.manual_seed(42)\n",
        "torch.backends.cudnn.deterministic = True\n",
        "torch.backends.cudnn.benchmark = False"
      ],
      "execution_count": 3,
      "outputs": []
    },
    {
      "cell_type": "code",
      "metadata": {
        "id": "As2dm0QZQcG5",
        "colab": {
          "base_uri": "https://localhost:8080/"
        },
        "outputId": "b9275cbd-9ee2-416a-9d62-0a84f35cb848"
      },
      "source": [
        "DEVICE = torch.device('cuda' if torch.cuda.is_available() else 'cpu')\n",
        "print(f'using {DEVICE}')"
      ],
      "execution_count": 4,
      "outputs": [
        {
          "output_type": "stream",
          "text": [
            "using cuda\n"
          ],
          "name": "stdout"
        }
      ]
    },
    {
      "cell_type": "markdown",
      "metadata": {
        "id": "9AMNKf9FRyZF"
      },
      "source": [
        "# General Utilities"
      ]
    },
    {
      "cell_type": "code",
      "metadata": {
        "id": "HTQUsytiQkzt"
      },
      "source": [
        "def num_trainable_parameters(model):\n",
        "    return sum(p.numel() for p in model.parameters() if p.requires_grad)"
      ],
      "execution_count": 5,
      "outputs": []
    },
    {
      "cell_type": "markdown",
      "metadata": {
        "id": "rdAOmLNVF9fD"
      },
      "source": [
        "# Sequence to sequence (seq2seq): Translation\n",
        "\n",
        "![seq2seq.png](data:image/png;base64,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)\n",
        "\n",
        "based on [tutorials.pytorch](https://jeddy92.github.io/JEddy92.github.io/ts_seq2seq_intro/)"
      ]
    },
    {
      "cell_type": "markdown",
      "metadata": {
        "id": "fX5B7I_TOFD5"
      },
      "source": [
        "## Encoder\n",
        "\n",
        "Pretty much the same encoder as in the first part (sentiment analysis).\n",
        "We embedd the input words and then pass them through a bi-directional LSTM.\n",
        "The last hidden-state will be used to condition the decoder on the input sequence."
      ]
    },
    {
      "cell_type": "code",
      "metadata": {
        "id": "3i9CFIj7Ky99"
      },
      "source": [
        "class EncoderModule(nn.Module):\n",
        "    def __init__(self, embedding_size, hidden_size, source_vocab_size):\n",
        "        super().__init__()\n",
        "        self.embeddings_table = nn.Embedding(source_vocab_size,\n",
        "                                             embedding_size,\n",
        "                                             padding_idx=0)\n",
        "        self.embedding_size = embedding_size\n",
        "        self.hidden_size = hidden_size\n",
        "        self.lstm = nn.LSTM(input_size=embedding_size,\n",
        "                            hidden_size=hidden_size,\n",
        "                            bidirectional=True,\n",
        "                            batch_first=True)\n",
        "\n",
        "    # forward pass\n",
        "    def forward(self, src_sentences):\n",
        "        \"\"\"\n",
        "        src_sentences shape (batch, seq_len)\n",
        "        \"\"\"\n",
        "        # embed input sequences (batch, seq_len, embed_size)\n",
        "        embedded = self.embeddings_table(src_sentences)\n",
        "\n",
        "        # run lstm on full input sequence Tuple(Tensor, Tensor)\n",
        "        _, hidden_state = self.lstm(embedded)\n",
        "\n",
        "        return hidden_state"
      ],
      "execution_count": 6,
      "outputs": []
    },
    {
      "cell_type": "markdown",
      "metadata": {
        "id": "y0APYvagOJsc"
      },
      "source": [
        "## Decoder\n",
        "\n",
        "- In order to decode multiple words we will predict one word at a time using a LSTM cell.\n",
        "  In **pseudo-code**:\n",
        "\n",
        "    ~~~python\n",
        "    predicted_words = []\n",
        "    for word_idx in range(max_output_len):\n",
        "        prediction = model.predict()\n",
        "        predicted_words.append(prediction)\n",
        "\n",
        "    return predicted_words\n",
        "    ~~~\n",
        "\n",
        "- To condition the decoder on the input sequence we will use the last hidden-state of the encoder as the first hidden-state of the decoder.\n",
        "\n",
        "### <b><u>TEACHER FORCING</u></b>\n",
        "\n",
        "Before the decoder received the last predicted word as input.\n",
        "However, this time we will do this differently:\n",
        "- during **training** we will use the correct word rather than the prediction.\n",
        "  This is called **teacher forcing** and helps with convergence times.\n",
        "- during **evaluation/test** we use the models prediction.\n",
        "\n",
        "As before, the first iteration will receive a special `<SOS>` (start of sentence) token."
      ]
    },
    {
      "cell_type": "code",
      "metadata": {
        "id": "EWiEpr9WHu0c"
      },
      "source": [
        "class DecoderModule(nn.Module):\n",
        "    def __init__(self, embedding_size, hidden_size, start_idx, dst_vocab_size):\n",
        "        super().__init__()\n",
        "        self.embeddings_table = nn.Embedding(dst_vocab_size,\n",
        "                                             embedding_size,\n",
        "                                             padding_idx=0)\n",
        "        self.start_idx = torch.tensor(start_idx).to(DEVICE)\n",
        "        self.hidden_size = hidden_size\n",
        "\n",
        "        self.h2o = torch.nn.Linear(hidden_size, dst_vocab_size)\n",
        "        self.lstm_cell = torch.nn.LSTMCell(input_size=embedding_size,\n",
        "                                           hidden_size=hidden_size)\n",
        "\n",
        "    # forward pass\n",
        "    def forward(self, encoder_hidden_state, max_output_length, correct_answer=None):\n",
        "        \"\"\"\n",
        "        encoder_hidden_state: Tuple(\n",
        "            Tensor: (batch, hidden_size)\n",
        "            Tensor: (batch, hidden_size)\n",
        "        )\n",
        "        max_output_length: int\n",
        "\n",
        "        returns Tensor: (batch, max_output_length, dst_vocab_size)\n",
        "        \"\"\"\n",
        "        batch_size = encoder_hidden_state[0].shape[0]\n",
        "\n",
        "        out = []\n",
        "        # initial decoder hidden state is final encoder hidden state\n",
        "        state = encoder_hidden_state\n",
        "        \n",
        "        # decoding loop (decode one output word at a time)\n",
        "        y_t = self.embeddings_table(self.start_idx.repeat(batch_size))\n",
        "        for i in range(max_output_length):\n",
        "            state  = self.lstm_cell(y_t, state)\n",
        "\n",
        "            # calculate output probs (batch, dst_vocab_size)\n",
        "            P_t = self.h2o(state[0])\n",
        "            out.append(P_t)\n",
        "\n",
        "            if not self.training:\n",
        "                # run as normal\n",
        "                _, max_indices = P_t.max(dim=1)\n",
        "                y_t = self.embeddings_table(max_indices)\n",
        "            else:\n",
        "                # teacher forcing during training\n",
        "                y_t = self.embeddings_table(correct_answer[:,i])\n",
        "\n",
        "        return torch.stack(out, dim=1)"
      ],
      "execution_count": 7,
      "outputs": []
    },
    {
      "cell_type": "markdown",
      "metadata": {
        "id": "eX6vFBBZOkoX"
      },
      "source": [
        "## Data\n",
        "\n",
        "SCAN dataset ([link](https://github.com/brendenlake/SCAN))\n",
        "\n",
        "Translates english commands to robot actions:\n",
        "\n",
        "| Input |   | Output |\n",
        "| --- | --- | --- |\n",
        "| jump\t|| JUMP |\n",
        "| jump left\t|| LTURN JUMP|\n",
        "| jump around right\t|| RTURN JUMP RTURN JUMP RTURN JUMP RTURN JUMP |\n"
      ]
    },
    {
      "cell_type": "markdown",
      "metadata": {
        "id": "Ip2Gh1tFVDAH"
      },
      "source": [
        "### Download dataset"
      ]
    },
    {
      "cell_type": "code",
      "metadata": {
        "id": "PpntlQZNOn1U"
      },
      "source": [
        "import requests\n",
        "\n",
        "BASE_PATH = 'https://gist.githubusercontent.com/ceyzaguirre4/707273ad9fc1729ebe2daac442a8f5a8/raw/'\n",
        "\n",
        "def download_scan(split):\n",
        "    filename = f'{split}.txt'\n",
        "    url = BASE_PATH + filename\n",
        "    response = requests.get(url)\n",
        "\n",
        "    with open(filename, 'w') as out_file:\n",
        "        out_file.write(response.text)\n",
        "\n",
        "download_scan('tasks_test_simple')\n",
        "download_scan('tasks_train_simple')"
      ],
      "execution_count": 8,
      "outputs": []
    },
    {
      "cell_type": "code",
      "metadata": {
        "id": "v4wTL31rSQgl",
        "colab": {
          "base_uri": "https://localhost:8080/"
        },
        "outputId": "3ce61693-6e82-4363-9b7e-de52829c51f4"
      },
      "source": [
        "!head tasks_test_simple.txt"
      ],
      "execution_count": 9,
      "outputs": [
        {
          "output_type": "stream",
          "text": [
            "turn opposite right thrice and turn opposite left\tI_TURN_RIGHT I_TURN_RIGHT I_TURN_RIGHT I_TURN_RIGHT I_TURN_RIGHT I_TURN_RIGHT I_TURN_LEFT I_TURN_LEFT\n",
            "run right twice after walk right twice\tI_TURN_RIGHT I_WALK I_TURN_RIGHT I_WALK I_TURN_RIGHT I_RUN I_TURN_RIGHT I_RUN\n",
            "look around right twice and turn left thrice\tI_TURN_RIGHT I_LOOK I_TURN_RIGHT I_LOOK I_TURN_RIGHT I_LOOK I_TURN_RIGHT I_LOOK I_TURN_RIGHT I_LOOK I_TURN_RIGHT I_LOOK I_TURN_RIGHT I_LOOK I_TURN_RIGHT I_LOOK I_TURN_LEFT I_TURN_LEFT I_TURN_LEFT\n",
            "jump around left thrice and run right thrice\tI_TURN_LEFT I_JUMP I_TURN_LEFT I_JUMP I_TURN_LEFT I_JUMP I_TURN_LEFT I_JUMP I_TURN_LEFT I_JUMP I_TURN_LEFT I_JUMP I_TURN_LEFT I_JUMP I_TURN_LEFT I_JUMP I_TURN_LEFT I_JUMP I_TURN_LEFT I_JUMP I_TURN_LEFT I_JUMP I_TURN_LEFT I_JUMP I_TURN_RIGHT I_RUN I_TURN_RIGHT I_RUN I_TURN_RIGHT I_RUN\n",
            "run thrice and walk opposite left\tI_RUN I_RUN I_RUN I_TURN_LEFT I_TURN_LEFT I_WALK\n",
            "jump opposite right after walk around right thrice\tI_TURN_RIGHT I_WALK I_TURN_RIGHT I_WALK I_TURN_RIGHT I_WALK I_TURN_RIGHT I_WALK I_TURN_RIGHT I_WALK I_TURN_RIGHT I_WALK I_TURN_RIGHT I_WALK I_TURN_RIGHT I_WALK I_TURN_RIGHT I_WALK I_TURN_RIGHT I_WALK I_TURN_RIGHT I_WALK I_TURN_RIGHT I_WALK I_TURN_RIGHT I_TURN_RIGHT I_JUMP\n",
            "look around left after jump around left twice\tI_TURN_LEFT I_JUMP I_TURN_LEFT I_JUMP I_TURN_LEFT I_JUMP I_TURN_LEFT I_JUMP I_TURN_LEFT I_JUMP I_TURN_LEFT I_JUMP I_TURN_LEFT I_JUMP I_TURN_LEFT I_JUMP I_TURN_LEFT I_LOOK I_TURN_LEFT I_LOOK I_TURN_LEFT I_LOOK I_TURN_LEFT I_LOOK\n",
            "look opposite right twice and jump opposite left twice\tI_TURN_RIGHT I_TURN_RIGHT I_LOOK I_TURN_RIGHT I_TURN_RIGHT I_LOOK I_TURN_LEFT I_TURN_LEFT I_JUMP I_TURN_LEFT I_TURN_LEFT I_JUMP\n",
            "look opposite right thrice after look around left\tI_TURN_LEFT I_LOOK I_TURN_LEFT I_LOOK I_TURN_LEFT I_LOOK I_TURN_LEFT I_LOOK I_TURN_RIGHT I_TURN_RIGHT I_LOOK I_TURN_RIGHT I_TURN_RIGHT I_LOOK I_TURN_RIGHT I_TURN_RIGHT I_LOOK\n",
            "walk twice after look opposite left\tI_TURN_LEFT I_TURN_LEFT I_LOOK I_WALK I_WALK\n"
          ],
          "name": "stdout"
        }
      ]
    },
    {
      "cell_type": "markdown",
      "metadata": {
        "id": "UDEWibqiVHvz"
      },
      "source": [
        "### Load data"
      ]
    },
    {
      "cell_type": "code",
      "metadata": {
        "id": "VWufZkkcUyJl"
      },
      "source": [
        "# convert text into tokens\n",
        "def tokenize(text):\n",
        "    return text.strip().lower().split()"
      ],
      "execution_count": 10,
      "outputs": []
    },
    {
      "cell_type": "code",
      "metadata": {
        "id": "UX9K2tN0VeSV"
      },
      "source": [
        "SOURCE = data.Field(tokenize=tokenize, unk_token=None, batch_first=True)\n",
        "TARGET = data.Field(tokenize=tokenize, unk_token=None, batch_first=True)\n",
        "\n",
        "train, test = data.TabularDataset.splits(\".\",\n",
        "                                         train=\"tasks_train_simple.txt\",\n",
        "                                         test=\"tasks_test_simple.txt\",\n",
        "                                         format=\"tsv\",\n",
        "                                         fields=[\n",
        "                                                 (\"source\", SOURCE), \n",
        "                                                 (\"target\", TARGET)],\n",
        "                                         skip_header=False)\n",
        "\n",
        "SOURCE.build_vocab(train)\n",
        "TARGET.build_vocab(train)\n",
        "\n",
        "train_iter, test_iter = data.BucketIterator.splits((train, test), \n",
        "                                                   batch_sizes=(128, 128),\n",
        "                                                   device=DEVICE,\n",
        "                                                   sort_key=lambda x: len(x.target))"
      ],
      "execution_count": 11,
      "outputs": []
    },
    {
      "cell_type": "markdown",
      "metadata": {
        "id": "3scyCzoLdOih"
      },
      "source": [
        "## Train Utils"
      ]
    },
    {
      "cell_type": "code",
      "metadata": {
        "id": "NMt7GYEddOii"
      },
      "source": [
        "def train_one_epoch(model, dataloader, optimizer, history):\n",
        "    model.train()\n",
        "    for batch in dataloader:\n",
        "        # forward pass\n",
        "        y_gt = batch.target\n",
        "        batch_size, max_ouput_len = batch.target.shape\n",
        "        y_pred = model(batch.source, max_ouput_len, y_gt)\n",
        " \n",
        "        loss = F.cross_entropy(y_pred.flatten(end_dim=-2),\n",
        "                               y_gt.view(-1))\n",
        "\n",
        "        history['train_loss'].append(loss.item())\n",
        "\n",
        "        # backward pass\n",
        "        optimizer.zero_grad()\n",
        "        loss.backward()\n",
        "        optimizer.step()"
      ],
      "execution_count": 12,
      "outputs": []
    },
    {
      "cell_type": "code",
      "metadata": {
        "id": "9CburwE_dOil"
      },
      "source": [
        "def eval_one_epoch(model, dataloader, optimizer, history):\n",
        "    model.eval()\n",
        "    history['eval_acc'].append(0)\n",
        "    history['eval_loss'].append(0)\n",
        "    with torch.no_grad():\n",
        "        for batch in dataloader:\n",
        "            # forward pass\n",
        "            y_gt = batch.target\n",
        "            batch_size, max_ouput_len = batch.target.shape\n",
        "            y_pred = model(batch.source, max_ouput_len)\n",
        "    \n",
        "            loss = F.cross_entropy(y_pred.flatten(end_dim=-2),\n",
        "                                y_gt.view(-1))\n",
        "            accuracy = (y_pred.argmax(dim=2) == y_gt).float().mean()\n",
        "\n",
        "            history['eval_acc'][-1] += (accuracy / len(dataloader)).item()\n",
        "            history['eval_loss'][-1] += (loss / len(dataloader)).item()"
      ],
      "execution_count": 13,
      "outputs": []
    },
    {
      "cell_type": "code",
      "metadata": {
        "id": "QJjIqcYddOio"
      },
      "source": [
        "def train_model(model, train_dataloader, test_dataloader, optimizer, epochs):\n",
        "    history = defaultdict(list)\n",
        "    for epoch in trange(epochs):\n",
        "        train_one_epoch(model, train_dataloader, optimizer, history)\n",
        "        eval_one_epoch(model, test_dataloader, optimizer, history)\n",
        "    return history"
      ],
      "execution_count": 14,
      "outputs": []
    },
    {
      "cell_type": "markdown",
      "metadata": {
        "id": "s8MZZgS5W4MM"
      },
      "source": [
        "## Full Model"
      ]
    },
    {
      "cell_type": "code",
      "metadata": {
        "id": "I87qooz-VtVs"
      },
      "source": [
        "class SeqToSeq(nn.Module):\n",
        "    def __init__(self, embedding_size, hidden_size, source_vocab_size, dest_vocab_size, start_idx):\n",
        "        super().__init__()\n",
        "        self.hidden_size = hidden_size\n",
        "\n",
        "        self.encoder = EncoderModule(embedding_size, hidden_size, source_vocab_size)\n",
        "        self.decoder = DecoderModule(embedding_size, 2*hidden_size, start_idx, dest_vocab_size)\n",
        "\n",
        "    def reshape_enc_states(self, enc_hidden_states):\n",
        "        \"\"\"\n",
        "        enc_hidden_states: Tuple(\n",
        "            hidden_state: Tensor (2, batch, hidden_size)\n",
        "            cell_state: Tensor (2, batch, hidden_size)\n",
        "        )\n",
        "\n",
        "        returns Tuple(\n",
        "            hidden_state: Tensor (batch, 2*hidden_size)\n",
        "            cell_state: Tensor (batch, 2*hidden_size)\n",
        "        )\n",
        "        \"\"\"\n",
        "        def _reshape_enc_state(enc_hidden_state):\n",
        "            enc_hidden_state = enc_hidden_state\\\n",
        "                .permute(1, 0, 2)\\\n",
        "                .reshape(-1, 2*self.hidden_size)\n",
        "            return enc_hidden_state\n",
        "\n",
        "        hidden_state, cell_state = enc_hidden_states\n",
        "\n",
        "        hidden_state = _reshape_enc_state(hidden_state)\n",
        "        cell_state = _reshape_enc_state(cell_state)\n",
        "\n",
        "        return (hidden_state, cell_state)\n",
        "\n",
        "    def forward(self, src_sentences, max_output_length, correct_answer=None):\n",
        "        # run encoder\n",
        "        encoder_hidden_states = self.encoder(src_sentences)\n",
        "        \n",
        "        # reshape encoder state tensors for decoder\n",
        "        encoder_hidden_states = self.reshape_enc_states(encoder_hidden_states)\n",
        "        \n",
        "        # run decoder (batch, max_output_length, dst_vocab_size)\n",
        "        outputs = self.decoder(encoder_hidden_states, max_output_length, correct_answer)\n",
        "\n",
        "        return outputs"
      ],
      "execution_count": 15,
      "outputs": []
    },
    {
      "cell_type": "code",
      "metadata": {
        "id": "76ksF4embQug",
        "colab": {
          "base_uri": "https://localhost:8080/"
        },
        "outputId": "83349093-3999-4713-f668-d296cedfcb68"
      },
      "source": [
        "# embeddings_size, hidden_size, source_vocab_size, dest_vocab_size, start_idx\n",
        "model = SeqToSeq(100, 150,\n",
        "                 len(SOURCE.vocab),\n",
        "                 len(TARGET.vocab)+1,\n",
        "                 len(TARGET.vocab))\n",
        "model.to(DEVICE)"
      ],
      "execution_count": 16,
      "outputs": [
        {
          "output_type": "execute_result",
          "data": {
            "text/plain": [
              "SeqToSeq(\n",
              "  (encoder): EncoderModule(\n",
              "    (embeddings_table): Embedding(14, 100, padding_idx=0)\n",
              "    (lstm): LSTM(100, 150, batch_first=True, bidirectional=True)\n",
              "  )\n",
              "  (decoder): DecoderModule(\n",
              "    (embeddings_table): Embedding(9, 100, padding_idx=0)\n",
              "    (h2o): Linear(in_features=300, out_features=9, bias=True)\n",
              "    (lstm_cell): LSTMCell(100, 300)\n",
              "  )\n",
              ")"
            ]
          },
          "metadata": {
            "tags": []
          },
          "execution_count": 16
        }
      ]
    },
    {
      "cell_type": "code",
      "metadata": {
        "id": "3mbIJlM-au4a",
        "colab": {
          "base_uri": "https://localhost:8080/"
        },
        "outputId": "9b9567fb-4286-4bca-97e1-78716a5edcfd"
      },
      "source": [
        "num_trainable_parameters(model)"
      ],
      "execution_count": 17,
      "outputs": [
        {
          "output_type": "execute_result",
          "data": {
            "text/plain": [
              "789809"
            ]
          },
          "metadata": {
            "tags": []
          },
          "execution_count": 17
        }
      ]
    },
    {
      "cell_type": "code",
      "metadata": {
        "id": "oneBGkv7hXrt"
      },
      "source": [
        "optimizer = torch.optim.Adam(model.parameters(), lr=0.001)"
      ],
      "execution_count": 18,
      "outputs": []
    },
    {
      "cell_type": "code",
      "metadata": {
        "id": "uojZyvA7eVGi",
        "colab": {
          "base_uri": "https://localhost:8080/",
          "height": 67,
          "referenced_widgets": [
            "b168e16cdcfc4e1dac94df2725d773c2",
            "0375d2cad54d44f2a7de4b2a6a16d98b",
            "c3115435f2d5443e9944d06300d227fa",
            "0019e79ab8b543afa82ab4fd625e421f",
            "e8bfaffcfb744585bea75cb8469d2d71",
            "aeb84c6f79554cc9a0e68705d0c00f62",
            "2635f505989941279c6cccba892780af",
            "7f26f0ef96194746bdbd82deb58eb8ea"
          ]
        },
        "outputId": "22c0ac00-fe96-4262-b0e5-74f281d524b5"
      },
      "source": [
        "history = train_model(model, train_iter, test_iter, optimizer, 300)"
      ],
      "execution_count": 19,
      "outputs": [
        {
          "output_type": "display_data",
          "data": {
            "application/vnd.jupyter.widget-view+json": {
              "model_id": "b168e16cdcfc4e1dac94df2725d773c2",
              "version_minor": 0,
              "version_major": 2
            },
            "text/plain": [
              "HBox(children=(FloatProgress(value=0.0, max=300.0), HTML(value='')))"
            ]
          },
          "metadata": {
            "tags": []
          }
        },
        {
          "output_type": "stream",
          "text": [
            "\n"
          ],
          "name": "stdout"
        }
      ]
    },
    {
      "cell_type": "code",
      "metadata": {
        "id": "jP9_ZgUdhhpB",
        "colab": {
          "base_uri": "https://localhost:8080/",
          "height": 283
        },
        "outputId": "355e2c99-5517-4ab8-f81a-d3c3feb25ee9"
      },
      "source": [
        "plt.plot(history['eval_acc'])"
      ],
      "execution_count": 20,
      "outputs": [
        {
          "output_type": "execute_result",
          "data": {
            "text/plain": [
              "[<matplotlib.lines.Line2D at 0x7fcf86616e48>]"
            ]
          },
          "metadata": {
            "tags": []
          },
          "execution_count": 20
        },
        {
          "output_type": "display_data",
          "data": {
            "image/png": "[encoded data removed]",
            "text/plain": [
              "<Figure size 432x288 with 1 Axes>"
            ]
          },
          "metadata": {
            "tags": [],
            "needs_background": "light"
          }
        }
      ]
    },
    {
      "cell_type": "code",
      "metadata": {
        "colab": {
          "base_uri": "https://localhost:8080/"
        },
        "id": "2Xu8zBl8ToH1",
        "outputId": "7bfc1462-8af9-4a8e-8dbf-cc51073317d2"
      },
      "source": [
        "max(history['eval_acc'])"
      ],
      "execution_count": 24,
      "outputs": [
        {
          "output_type": "execute_result",
          "data": {
            "text/plain": [
              "0.896286852657795"
            ]
          },
          "metadata": {
            "tags": []
          },
          "execution_count": 24
        }
      ]
    },
    {
      "cell_type": "markdown",
      "metadata": {
        "id": "Rno8Rp1NTRbR"
      },
      "source": [
        "**Respuesta**\n",
        "\n",
        "El modelo sin teacher forcing se demoró 2:41, mientras que este modelo se demoró 2:02, indicando que teacher forcing hacer el entrenamiento más rápido.\n",
        "\n",
        "En termino de accuracy, ambos modelos logran un accuracy de un 90%, lo cual indica que ambos son buenos modelos. Ambos convergen bastante rápido tambien."
      ]
    },
    {
      "cell_type": "code",
      "metadata": {
        "id": "m3hK2auf6mHx"
      },
      "source": [
        ""
      ],
      "execution_count": 20,
      "outputs": []
    }
  ]
}