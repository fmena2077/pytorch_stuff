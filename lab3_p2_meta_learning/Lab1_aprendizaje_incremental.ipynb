{
  "nbformat": 4,
  "nbformat_minor": 0,
  "metadata": {
    "accelerator": "GPU",
    "colab": {
      "name": "Practico1_FranciscoMena.ipynb",
      "provenance": [],
      "collapsed_sections": [],
      "toc_visible": true
    },
    "kernelspec": {
      "display_name": "Python 3",
      "language": "python",
      "name": "python3"
    },
    "language_info": {
      "codemirror_mode": {
        "name": "ipython",
        "version": 3
      },
      "file_extension": ".py",
      "mimetype": "text/x-python",
      "name": "python",
      "nbconvert_exporter": "python",
      "pygments_lexer": "ipython3",
      "version": "3.7.1"
    },
    "widgets": {
      "application/vnd.jupyter.widget-state+json": {
        "daf096e4694e485dbdd3a0bd509d4275": {
          "model_module": "@jupyter-widgets/controls",
          "model_name": "HBoxModel",
          "state": {
            "_view_name": "HBoxView",
            "_dom_classes": [],
            "_model_name": "HBoxModel",
            "_view_module": "@jupyter-widgets/controls",
            "_model_module_version": "1.5.0",
            "_view_count": null,
            "_view_module_version": "1.5.0",
            "box_style": "",
            "layout": "IPY_MODEL_d51335b517734449b2c5c897327d8615",
            "_model_module": "@jupyter-widgets/controls",
            "children": [
              "IPY_MODEL_4d2f53fba45244ccb3d5b5d6acb517e2",
              "IPY_MODEL_754d157da7e2405691ffca94f959d5e8"
            ]
          }
        },
        "d51335b517734449b2c5c897327d8615": {
          "model_module": "@jupyter-widgets/base",
          "model_name": "LayoutModel",
          "state": {
            "_view_name": "LayoutView",
            "grid_template_rows": null,
            "right": null,
            "justify_content": null,
            "_view_module": "@jupyter-widgets/base",
            "overflow": null,
            "_model_module_version": "1.2.0",
            "_view_count": null,
            "flex_flow": null,
            "width": null,
            "min_width": null,
            "border": null,
            "align_items": null,
            "bottom": null,
            "_model_module": "@jupyter-widgets/base",
            "top": null,
            "grid_column": null,
            "overflow_y": null,
            "overflow_x": null,
            "grid_auto_flow": null,
            "grid_area": null,
            "grid_template_columns": null,
            "flex": null,
            "_model_name": "LayoutModel",
            "justify_items": null,
            "grid_row": null,
            "max_height": null,
            "align_content": null,
            "visibility": null,
            "align_self": null,
            "height": null,
            "min_height": null,
            "padding": null,
            "grid_auto_rows": null,
            "grid_gap": null,
            "max_width": null,
            "order": null,
            "_view_module_version": "1.2.0",
            "grid_template_areas": null,
            "object_position": null,
            "object_fit": null,
            "grid_auto_columns": null,
            "margin": null,
            "display": null,
            "left": null
          }
        },
        "4d2f53fba45244ccb3d5b5d6acb517e2": {
          "model_module": "@jupyter-widgets/controls",
          "model_name": "FloatProgressModel",
          "state": {
            "_view_name": "ProgressView",
            "style": "IPY_MODEL_3a02bffecd9343719cc5681de96c4079",
            "_dom_classes": [],
            "description": "",
            "_model_name": "FloatProgressModel",
            "bar_style": "success",
            "max": 9912422,
            "_view_module": "@jupyter-widgets/controls",
            "_model_module_version": "1.5.0",
            "value": 9912422,
            "_view_count": null,
            "_view_module_version": "1.5.0",
            "orientation": "horizontal",
            "min": 0,
            "description_tooltip": null,
            "_model_module": "@jupyter-widgets/controls",
            "layout": "IPY_MODEL_9dc72a1886c84e8f8ba4ef43b14b4947"
          }
        },
        "754d157da7e2405691ffca94f959d5e8": {
          "model_module": "@jupyter-widgets/controls",
          "model_name": "HTMLModel",
          "state": {
            "_view_name": "HTMLView",
            "style": "IPY_MODEL_b9ba3e4ba2384223883736405b720128",
            "_dom_classes": [],
            "description": "",
            "_model_name": "HTMLModel",
            "placeholder": "​",
            "_view_module": "@jupyter-widgets/controls",
            "_model_module_version": "1.5.0",
            "value": " 9913344/? [03:36&lt;00:00, 45842.80it/s]",
            "_view_count": null,
            "_view_module_version": "1.5.0",
            "description_tooltip": null,
            "_model_module": "@jupyter-widgets/controls",
            "layout": "IPY_MODEL_4235d903a05b48dd83e121d5dd38680e"
          }
        },
        "3a02bffecd9343719cc5681de96c4079": {
          "model_module": "@jupyter-widgets/controls",
          "model_name": "ProgressStyleModel",
          "state": {
            "_view_name": "StyleView",
            "_model_name": "ProgressStyleModel",
            "description_width": "initial",
            "_view_module": "@jupyter-widgets/base",
            "_model_module_version": "1.5.0",
            "_view_count": null,
            "_view_module_version": "1.2.0",
            "bar_color": null,
            "_model_module": "@jupyter-widgets/controls"
          }
        },
        "9dc72a1886c84e8f8ba4ef43b14b4947": {
          "model_module": "@jupyter-widgets/base",
          "model_name": "LayoutModel",
          "state": {
            "_view_name": "LayoutView",
            "grid_template_rows": null,
            "right": null,
            "justify_content": null,
            "_view_module": "@jupyter-widgets/base",
            "overflow": null,
            "_model_module_version": "1.2.0",
            "_view_count": null,
            "flex_flow": null,
            "width": null,
            "min_width": null,
            "border": null,
            "align_items": null,
            "bottom": null,
            "_model_module": "@jupyter-widgets/base",
            "top": null,
            "grid_column": null,
            "overflow_y": null,
            "overflow_x": null,
            "grid_auto_flow": null,
            "grid_area": null,
            "grid_template_columns": null,
            "flex": null,
            "_model_name": "LayoutModel",
            "justify_items": null,
            "grid_row": null,
            "max_height": null,
            "align_content": null,
            "visibility": null,
            "align_self": null,
            "height": null,
            "min_height": null,
            "padding": null,
            "grid_auto_rows": null,
            "grid_gap": null,
            "max_width": null,
            "order": null,
            "_view_module_version": "1.2.0",
            "grid_template_areas": null,
            "object_position": null,
            "object_fit": null,
            "grid_auto_columns": null,
            "margin": null,
            "display": null,
            "left": null
          }
        },
        "b9ba3e4ba2384223883736405b720128": {
          "model_module": "@jupyter-widgets/controls",
          "model_name": "DescriptionStyleModel",
          "state": {
            "_view_name": "StyleView",
            "_model_name": "DescriptionStyleModel",
            "description_width": "",
            "_view_module": "@jupyter-widgets/base",
            "_model_module_version": "1.5.0",
            "_view_count": null,
            "_view_module_version": "1.2.0",
            "_model_module": "@jupyter-widgets/controls"
          }
        },
        "4235d903a05b48dd83e121d5dd38680e": {
          "model_module": "@jupyter-widgets/base",
          "model_name": "LayoutModel",
          "state": {
            "_view_name": "LayoutView",
            "grid_template_rows": null,
            "right": null,
            "justify_content": null,
            "_view_module": "@jupyter-widgets/base",
            "overflow": null,
            "_model_module_version": "1.2.0",
            "_view_count": null,
            "flex_flow": null,
            "width": null,
            "min_width": null,
            "border": null,
            "align_items": null,
            "bottom": null,
            "_model_module": "@jupyter-widgets/base",
            "top": null,
            "grid_column": null,
            "overflow_y": null,
            "overflow_x": null,
            "grid_auto_flow": null,
            "grid_area": null,
            "grid_template_columns": null,
            "flex": null,
            "_model_name": "LayoutModel",
            "justify_items": null,
            "grid_row": null,
            "max_height": null,
            "align_content": null,
            "visibility": null,
            "align_self": null,
            "height": null,
            "min_height": null,
            "padding": null,
            "grid_auto_rows": null,
            "grid_gap": null,
            "max_width": null,
            "order": null,
            "_view_module_version": "1.2.0",
            "grid_template_areas": null,
            "object_position": null,
            "object_fit": null,
            "grid_auto_columns": null,
            "margin": null,
            "display": null,
            "left": null
          }
        },
        "6db8374b51814f54a50f71adaf92b46e": {
          "model_module": "@jupyter-widgets/controls",
          "model_name": "HBoxModel",
          "state": {
            "_view_name": "HBoxView",
            "_dom_classes": [],
            "_model_name": "HBoxModel",
            "_view_module": "@jupyter-widgets/controls",
            "_model_module_version": "1.5.0",
            "_view_count": null,
            "_view_module_version": "1.5.0",
            "box_style": "",
            "layout": "IPY_MODEL_2beada72008741efad8a53f445a72f25",
            "_model_module": "@jupyter-widgets/controls",
            "children": [
              "IPY_MODEL_55bc135c80964e97b12841c1ad0545b7",
              "IPY_MODEL_26f8186520834df69d78066d62837f6d"
            ]
          }
        },
        "2beada72008741efad8a53f445a72f25": {
          "model_module": "@jupyter-widgets/base",
          "model_name": "LayoutModel",
          "state": {
            "_view_name": "LayoutView",
            "grid_template_rows": null,
            "right": null,
            "justify_content": null,
            "_view_module": "@jupyter-widgets/base",
            "overflow": null,
            "_model_module_version": "1.2.0",
            "_view_count": null,
            "flex_flow": null,
            "width": null,
            "min_width": null,
            "border": null,
            "align_items": null,
            "bottom": null,
            "_model_module": "@jupyter-widgets/base",
            "top": null,
            "grid_column": null,
            "overflow_y": null,
            "overflow_x": null,
            "grid_auto_flow": null,
            "grid_area": null,
            "grid_template_columns": null,
            "flex": null,
            "_model_name": "LayoutModel",
            "justify_items": null,
            "grid_row": null,
            "max_height": null,
            "align_content": null,
            "visibility": null,
            "align_self": null,
            "height": null,
            "min_height": null,
            "padding": null,
            "grid_auto_rows": null,
            "grid_gap": null,
            "max_width": null,
            "order": null,
            "_view_module_version": "1.2.0",
            "grid_template_areas": null,
            "object_position": null,
            "object_fit": null,
            "grid_auto_columns": null,
            "margin": null,
            "display": null,
            "left": null
          }
        },
        "55bc135c80964e97b12841c1ad0545b7": {
          "model_module": "@jupyter-widgets/controls",
          "model_name": "FloatProgressModel",
          "state": {
            "_view_name": "ProgressView",
            "style": "IPY_MODEL_39f043f55814426b93f6038fff22e031",
            "_dom_classes": [],
            "description": "",
            "_model_name": "FloatProgressModel",
            "bar_style": "success",
            "max": 28881,
            "_view_module": "@jupyter-widgets/controls",
            "_model_module_version": "1.5.0",
            "value": 28881,
            "_view_count": null,
            "_view_module_version": "1.5.0",
            "orientation": "horizontal",
            "min": 0,
            "description_tooltip": null,
            "_model_module": "@jupyter-widgets/controls",
            "layout": "IPY_MODEL_a216ce919cca4735ae6fa57b3a6adb8b"
          }
        },
        "26f8186520834df69d78066d62837f6d": {
          "model_module": "@jupyter-widgets/controls",
          "model_name": "HTMLModel",
          "state": {
            "_view_name": "HTMLView",
            "style": "IPY_MODEL_a2fa0cc371c846eaa379f2350579c5ef",
            "_dom_classes": [],
            "description": "",
            "_model_name": "HTMLModel",
            "placeholder": "​",
            "_view_module": "@jupyter-widgets/controls",
            "_model_module_version": "1.5.0",
            "value": " 29696/? [00:00&lt;00:00, 234660.08it/s]",
            "_view_count": null,
            "_view_module_version": "1.5.0",
            "description_tooltip": null,
            "_model_module": "@jupyter-widgets/controls",
            "layout": "IPY_MODEL_92a11b73c12b4dd196907a96f20f5b04"
          }
        },
        "39f043f55814426b93f6038fff22e031": {
          "model_module": "@jupyter-widgets/controls",
          "model_name": "ProgressStyleModel",
          "state": {
            "_view_name": "StyleView",
            "_model_name": "ProgressStyleModel",
            "description_width": "initial",
            "_view_module": "@jupyter-widgets/base",
            "_model_module_version": "1.5.0",
            "_view_count": null,
            "_view_module_version": "1.2.0",
            "bar_color": null,
            "_model_module": "@jupyter-widgets/controls"
          }
        },
        "a216ce919cca4735ae6fa57b3a6adb8b": {
          "model_module": "@jupyter-widgets/base",
          "model_name": "LayoutModel",
          "state": {
            "_view_name": "LayoutView",
            "grid_template_rows": null,
            "right": null,
            "justify_content": null,
            "_view_module": "@jupyter-widgets/base",
            "overflow": null,
            "_model_module_version": "1.2.0",
            "_view_count": null,
            "flex_flow": null,
            "width": null,
            "min_width": null,
            "border": null,
            "align_items": null,
            "bottom": null,
            "_model_module": "@jupyter-widgets/base",
            "top": null,
            "grid_column": null,
            "overflow_y": null,
            "overflow_x": null,
            "grid_auto_flow": null,
            "grid_area": null,
            "grid_template_columns": null,
            "flex": null,
            "_model_name": "LayoutModel",
            "justify_items": null,
            "grid_row": null,
            "max_height": null,
            "align_content": null,
            "visibility": null,
            "align_self": null,
            "height": null,
            "min_height": null,
            "padding": null,
            "grid_auto_rows": null,
            "grid_gap": null,
            "max_width": null,
            "order": null,
            "_view_module_version": "1.2.0",
            "grid_template_areas": null,
            "object_position": null,
            "object_fit": null,
            "grid_auto_columns": null,
            "margin": null,
            "display": null,
            "left": null
          }
        },
        "a2fa0cc371c846eaa379f2350579c5ef": {
          "model_module": "@jupyter-widgets/controls",
          "model_name": "DescriptionStyleModel",
          "state": {
            "_view_name": "StyleView",
            "_model_name": "DescriptionStyleModel",
            "description_width": "",
            "_view_module": "@jupyter-widgets/base",
            "_model_module_version": "1.5.0",
            "_view_count": null,
            "_view_module_version": "1.2.0",
            "_model_module": "@jupyter-widgets/controls"
          }
        },
        "92a11b73c12b4dd196907a96f20f5b04": {
          "model_module": "@jupyter-widgets/base",
          "model_name": "LayoutModel",
          "state": {
            "_view_name": "LayoutView",
            "grid_template_rows": null,
            "right": null,
            "justify_content": null,
            "_view_module": "@jupyter-widgets/base",
            "overflow": null,
            "_model_module_version": "1.2.0",
            "_view_count": null,
            "flex_flow": null,
            "width": null,
            "min_width": null,
            "border": null,
            "align_items": null,
            "bottom": null,
            "_model_module": "@jupyter-widgets/base",
            "top": null,
            "grid_column": null,
            "overflow_y": null,
            "overflow_x": null,
            "grid_auto_flow": null,
            "grid_area": null,
            "grid_template_columns": null,
            "flex": null,
            "_model_name": "LayoutModel",
            "justify_items": null,
            "grid_row": null,
            "max_height": null,
            "align_content": null,
            "visibility": null,
            "align_self": null,
            "height": null,
            "min_height": null,
            "padding": null,
            "grid_auto_rows": null,
            "grid_gap": null,
            "max_width": null,
            "order": null,
            "_view_module_version": "1.2.0",
            "grid_template_areas": null,
            "object_position": null,
            "object_fit": null,
            "grid_auto_columns": null,
            "margin": null,
            "display": null,
            "left": null
          }
        },
        "7ad232fc3874414e991aecd78d9a2fc0": {
          "model_module": "@jupyter-widgets/controls",
          "model_name": "HBoxModel",
          "state": {
            "_view_name": "HBoxView",
            "_dom_classes": [],
            "_model_name": "HBoxModel",
            "_view_module": "@jupyter-widgets/controls",
            "_model_module_version": "1.5.0",
            "_view_count": null,
            "_view_module_version": "1.5.0",
            "box_style": "",
            "layout": "IPY_MODEL_d86ac7c25e3f4dd295791fd47310b1cc",
            "_model_module": "@jupyter-widgets/controls",
            "children": [
              "IPY_MODEL_b339917cc2174581a1d5375049d8bc0d",
              "IPY_MODEL_527b32b0e3de4115a112860160cab3b0"
            ]
          }
        },
        "d86ac7c25e3f4dd295791fd47310b1cc": {
          "model_module": "@jupyter-widgets/base",
          "model_name": "LayoutModel",
          "state": {
            "_view_name": "LayoutView",
            "grid_template_rows": null,
            "right": null,
            "justify_content": null,
            "_view_module": "@jupyter-widgets/base",
            "overflow": null,
            "_model_module_version": "1.2.0",
            "_view_count": null,
            "flex_flow": null,
            "width": null,
            "min_width": null,
            "border": null,
            "align_items": null,
            "bottom": null,
            "_model_module": "@jupyter-widgets/base",
            "top": null,
            "grid_column": null,
            "overflow_y": null,
            "overflow_x": null,
            "grid_auto_flow": null,
            "grid_area": null,
            "grid_template_columns": null,
            "flex": null,
            "_model_name": "LayoutModel",
            "justify_items": null,
            "grid_row": null,
            "max_height": null,
            "align_content": null,
            "visibility": null,
            "align_self": null,
            "height": null,
            "min_height": null,
            "padding": null,
            "grid_auto_rows": null,
            "grid_gap": null,
            "max_width": null,
            "order": null,
            "_view_module_version": "1.2.0",
            "grid_template_areas": null,
            "object_position": null,
            "object_fit": null,
            "grid_auto_columns": null,
            "margin": null,
            "display": null,
            "left": null
          }
        },
        "b339917cc2174581a1d5375049d8bc0d": {
          "model_module": "@jupyter-widgets/controls",
          "model_name": "FloatProgressModel",
          "state": {
            "_view_name": "ProgressView",
            "style": "IPY_MODEL_c931add2518344d2823b0d05d9a69df8",
            "_dom_classes": [],
            "description": "",
            "_model_name": "FloatProgressModel",
            "bar_style": "success",
            "max": 1648877,
            "_view_module": "@jupyter-widgets/controls",
            "_model_module_version": "1.5.0",
            "value": 1648877,
            "_view_count": null,
            "_view_module_version": "1.5.0",
            "orientation": "horizontal",
            "min": 0,
            "description_tooltip": null,
            "_model_module": "@jupyter-widgets/controls",
            "layout": "IPY_MODEL_749dbe5575344c07a7571e4cc002d551"
          }
        },
        "527b32b0e3de4115a112860160cab3b0": {
          "model_module": "@jupyter-widgets/controls",
          "model_name": "HTMLModel",
          "state": {
            "_view_name": "HTMLView",
            "style": "IPY_MODEL_b9d4242d1a904891acaf639249419f9c",
            "_dom_classes": [],
            "description": "",
            "_model_name": "HTMLModel",
            "placeholder": "​",
            "_view_module": "@jupyter-widgets/controls",
            "_model_module_version": "1.5.0",
            "value": " 1649664/? [00:00&lt;00:00, 2578318.99it/s]",
            "_view_count": null,
            "_view_module_version": "1.5.0",
            "description_tooltip": null,
            "_model_module": "@jupyter-widgets/controls",
            "layout": "IPY_MODEL_30511de0f66b47c990f27ebcb752fd42"
          }
        },
        "c931add2518344d2823b0d05d9a69df8": {
          "model_module": "@jupyter-widgets/controls",
          "model_name": "ProgressStyleModel",
          "state": {
            "_view_name": "StyleView",
            "_model_name": "ProgressStyleModel",
            "description_width": "initial",
            "_view_module": "@jupyter-widgets/base",
            "_model_module_version": "1.5.0",
            "_view_count": null,
            "_view_module_version": "1.2.0",
            "bar_color": null,
            "_model_module": "@jupyter-widgets/controls"
          }
        },
        "749dbe5575344c07a7571e4cc002d551": {
          "model_module": "@jupyter-widgets/base",
          "model_name": "LayoutModel",
          "state": {
            "_view_name": "LayoutView",
            "grid_template_rows": null,
            "right": null,
            "justify_content": null,
            "_view_module": "@jupyter-widgets/base",
            "overflow": null,
            "_model_module_version": "1.2.0",
            "_view_count": null,
            "flex_flow": null,
            "width": null,
            "min_width": null,
            "border": null,
            "align_items": null,
            "bottom": null,
            "_model_module": "@jupyter-widgets/base",
            "top": null,
            "grid_column": null,
            "overflow_y": null,
            "overflow_x": null,
            "grid_auto_flow": null,
            "grid_area": null,
            "grid_template_columns": null,
            "flex": null,
            "_model_name": "LayoutModel",
            "justify_items": null,
            "grid_row": null,
            "max_height": null,
            "align_content": null,
            "visibility": null,
            "align_self": null,
            "height": null,
            "min_height": null,
            "padding": null,
            "grid_auto_rows": null,
            "grid_gap": null,
            "max_width": null,
            "order": null,
            "_view_module_version": "1.2.0",
            "grid_template_areas": null,
            "object_position": null,
            "object_fit": null,
            "grid_auto_columns": null,
            "margin": null,
            "display": null,
            "left": null
          }
        },
        "b9d4242d1a904891acaf639249419f9c": {
          "model_module": "@jupyter-widgets/controls",
          "model_name": "DescriptionStyleModel",
          "state": {
            "_view_name": "StyleView",
            "_model_name": "DescriptionStyleModel",
            "description_width": "",
            "_view_module": "@jupyter-widgets/base",
            "_model_module_version": "1.5.0",
            "_view_count": null,
            "_view_module_version": "1.2.0",
            "_model_module": "@jupyter-widgets/controls"
          }
        },
        "30511de0f66b47c990f27ebcb752fd42": {
          "model_module": "@jupyter-widgets/base",
          "model_name": "LayoutModel",
          "state": {
            "_view_name": "LayoutView",
            "grid_template_rows": null,
            "right": null,
            "justify_content": null,
            "_view_module": "@jupyter-widgets/base",
            "overflow": null,
            "_model_module_version": "1.2.0",
            "_view_count": null,
            "flex_flow": null,
            "width": null,
            "min_width": null,
            "border": null,
            "align_items": null,
            "bottom": null,
            "_model_module": "@jupyter-widgets/base",
            "top": null,
            "grid_column": null,
            "overflow_y": null,
            "overflow_x": null,
            "grid_auto_flow": null,
            "grid_area": null,
            "grid_template_columns": null,
            "flex": null,
            "_model_name": "LayoutModel",
            "justify_items": null,
            "grid_row": null,
            "max_height": null,
            "align_content": null,
            "visibility": null,
            "align_self": null,
            "height": null,
            "min_height": null,
            "padding": null,
            "grid_auto_rows": null,
            "grid_gap": null,
            "max_width": null,
            "order": null,
            "_view_module_version": "1.2.0",
            "grid_template_areas": null,
            "object_position": null,
            "object_fit": null,
            "grid_auto_columns": null,
            "margin": null,
            "display": null,
            "left": null
          }
        },
        "1d75b3e6422f427dbff5c195ce60ae8c": {
          "model_module": "@jupyter-widgets/controls",
          "model_name": "HBoxModel",
          "state": {
            "_view_name": "HBoxView",
            "_dom_classes": [],
            "_model_name": "HBoxModel",
            "_view_module": "@jupyter-widgets/controls",
            "_model_module_version": "1.5.0",
            "_view_count": null,
            "_view_module_version": "1.5.0",
            "box_style": "",
            "layout": "IPY_MODEL_c98061e4af074d4c82cdc40e0473c8fd",
            "_model_module": "@jupyter-widgets/controls",
            "children": [
              "IPY_MODEL_575411b9ac4c4864bcaaaf8d4651c0fc",
              "IPY_MODEL_2bbaf8ac24014824b5ebdc8af10c441d"
            ]
          }
        },
        "c98061e4af074d4c82cdc40e0473c8fd": {
          "model_module": "@jupyter-widgets/base",
          "model_name": "LayoutModel",
          "state": {
            "_view_name": "LayoutView",
            "grid_template_rows": null,
            "right": null,
            "justify_content": null,
            "_view_module": "@jupyter-widgets/base",
            "overflow": null,
            "_model_module_version": "1.2.0",
            "_view_count": null,
            "flex_flow": null,
            "width": null,
            "min_width": null,
            "border": null,
            "align_items": null,
            "bottom": null,
            "_model_module": "@jupyter-widgets/base",
            "top": null,
            "grid_column": null,
            "overflow_y": null,
            "overflow_x": null,
            "grid_auto_flow": null,
            "grid_area": null,
            "grid_template_columns": null,
            "flex": null,
            "_model_name": "LayoutModel",
            "justify_items": null,
            "grid_row": null,
            "max_height": null,
            "align_content": null,
            "visibility": null,
            "align_self": null,
            "height": null,
            "min_height": null,
            "padding": null,
            "grid_auto_rows": null,
            "grid_gap": null,
            "max_width": null,
            "order": null,
            "_view_module_version": "1.2.0",
            "grid_template_areas": null,
            "object_position": null,
            "object_fit": null,
            "grid_auto_columns": null,
            "margin": null,
            "display": null,
            "left": null
          }
        },
        "575411b9ac4c4864bcaaaf8d4651c0fc": {
          "model_module": "@jupyter-widgets/controls",
          "model_name": "FloatProgressModel",
          "state": {
            "_view_name": "ProgressView",
            "style": "IPY_MODEL_59a080c209054ceeba8c4c67375b31d8",
            "_dom_classes": [],
            "description": "",
            "_model_name": "FloatProgressModel",
            "bar_style": "success",
            "max": 4542,
            "_view_module": "@jupyter-widgets/controls",
            "_model_module_version": "1.5.0",
            "value": 4542,
            "_view_count": null,
            "_view_module_version": "1.5.0",
            "orientation": "horizontal",
            "min": 0,
            "description_tooltip": null,
            "_model_module": "@jupyter-widgets/controls",
            "layout": "IPY_MODEL_633b33e039a04af990038b646a4b04a5"
          }
        },
        "2bbaf8ac24014824b5ebdc8af10c441d": {
          "model_module": "@jupyter-widgets/controls",
          "model_name": "HTMLModel",
          "state": {
            "_view_name": "HTMLView",
            "style": "IPY_MODEL_09c7dd54180541319d3fa028f28d836e",
            "_dom_classes": [],
            "description": "",
            "_model_name": "HTMLModel",
            "placeholder": "​",
            "_view_module": "@jupyter-widgets/controls",
            "_model_module_version": "1.5.0",
            "value": " 5120/? [00:00&lt;00:00, 12809.23it/s]",
            "_view_count": null,
            "_view_module_version": "1.5.0",
            "description_tooltip": null,
            "_model_module": "@jupyter-widgets/controls",
            "layout": "IPY_MODEL_d1a90772b7914f50a9d66f7a18b14179"
          }
        },
        "59a080c209054ceeba8c4c67375b31d8": {
          "model_module": "@jupyter-widgets/controls",
          "model_name": "ProgressStyleModel",
          "state": {
            "_view_name": "StyleView",
            "_model_name": "ProgressStyleModel",
            "description_width": "initial",
            "_view_module": "@jupyter-widgets/base",
            "_model_module_version": "1.5.0",
            "_view_count": null,
            "_view_module_version": "1.2.0",
            "bar_color": null,
            "_model_module": "@jupyter-widgets/controls"
          }
        },
        "633b33e039a04af990038b646a4b04a5": {
          "model_module": "@jupyter-widgets/base",
          "model_name": "LayoutModel",
          "state": {
            "_view_name": "LayoutView",
            "grid_template_rows": null,
            "right": null,
            "justify_content": null,
            "_view_module": "@jupyter-widgets/base",
            "overflow": null,
            "_model_module_version": "1.2.0",
            "_view_count": null,
            "flex_flow": null,
            "width": null,
            "min_width": null,
            "border": null,
            "align_items": null,
            "bottom": null,
            "_model_module": "@jupyter-widgets/base",
            "top": null,
            "grid_column": null,
            "overflow_y": null,
            "overflow_x": null,
            "grid_auto_flow": null,
            "grid_area": null,
            "grid_template_columns": null,
            "flex": null,
            "_model_name": "LayoutModel",
            "justify_items": null,
            "grid_row": null,
            "max_height": null,
            "align_content": null,
            "visibility": null,
            "align_self": null,
            "height": null,
            "min_height": null,
            "padding": null,
            "grid_auto_rows": null,
            "grid_gap": null,
            "max_width": null,
            "order": null,
            "_view_module_version": "1.2.0",
            "grid_template_areas": null,
            "object_position": null,
            "object_fit": null,
            "grid_auto_columns": null,
            "margin": null,
            "display": null,
            "left": null
          }
        },
        "09c7dd54180541319d3fa028f28d836e": {
          "model_module": "@jupyter-widgets/controls",
          "model_name": "DescriptionStyleModel",
          "state": {
            "_view_name": "StyleView",
            "_model_name": "DescriptionStyleModel",
            "description_width": "",
            "_view_module": "@jupyter-widgets/base",
            "_model_module_version": "1.5.0",
            "_view_count": null,
            "_view_module_version": "1.2.0",
            "_model_module": "@jupyter-widgets/controls"
          }
        },
        "d1a90772b7914f50a9d66f7a18b14179": {
          "model_module": "@jupyter-widgets/base",
          "model_name": "LayoutModel",
          "state": {
            "_view_name": "LayoutView",
            "grid_template_rows": null,
            "right": null,
            "justify_content": null,
            "_view_module": "@jupyter-widgets/base",
            "overflow": null,
            "_model_module_version": "1.2.0",
            "_view_count": null,
            "flex_flow": null,
            "width": null,
            "min_width": null,
            "border": null,
            "align_items": null,
            "bottom": null,
            "_model_module": "@jupyter-widgets/base",
            "top": null,
            "grid_column": null,
            "overflow_y": null,
            "overflow_x": null,
            "grid_auto_flow": null,
            "grid_area": null,
            "grid_template_columns": null,
            "flex": null,
            "_model_name": "LayoutModel",
            "justify_items": null,
            "grid_row": null,
            "max_height": null,
            "align_content": null,
            "visibility": null,
            "align_self": null,
            "height": null,
            "min_height": null,
            "padding": null,
            "grid_auto_rows": null,
            "grid_gap": null,
            "max_width": null,
            "order": null,
            "_view_module_version": "1.2.0",
            "grid_template_areas": null,
            "object_position": null,
            "object_fit": null,
            "grid_auto_columns": null,
            "margin": null,
            "display": null,
            "left": null
          }
        }
      }
    }
  },
  "cells": [
    {
      "cell_type": "markdown",
      "metadata": {
        "id": "Akow7qGQPeWX"
      },
      "source": [
        "# **Diplomado IA: Inteligencia Artificial II - Parte 2**. <br> Práctico 1: Aprendizaje Incremental y  Olvido Catastrófico\n",
        "---\n",
        "---\n",
        "\n",
        "**Profesores:**\n",
        "- Julio Hurtado\n",
        "- Pablo Messina\n",
        "\n",
        "**Ayudante:**\n",
        "- \n",
        "\n",
        "---\n",
        "---\n",
        "\n",
        "Tarea es individual"
      ]
    },
    {
      "cell_type": "markdown",
      "metadata": {
        "id": "t-HqB_EaQls0"
      },
      "source": [
        "# Introducción\n",
        "\n",
        "Este laboratorio se basó en una serie de Notebooks del grupo [Continual AI](https://https://www.continualai.org/), la cual es una comunidad abierta que busca desarrollar investigación y divulgación sobre Aprendizaje Continuo.\n",
        " \n",
        "Tal como vimos en clases, el aprendizaje incremental estudia modelos y métodos que permitan un proceso de aprendizaje continuo de varias tareas diferentes.\n",
        " \n",
        "En este laboratorio vamos a ver cómo se comportan diferentes métodos simples en una secuencia de tareas muy utilizadas para comparación entre métodos.\n"
      ]
    },
    {
      "cell_type": "markdown",
      "metadata": {
        "id": "qz1xPNPuRfwT"
      },
      "source": [
        "Lo primero que tenemos que hacer es verificar cómo están los niveles de memoria y disco. Luego verificamos si tenemos acceso a GPU."
      ]
    },
    {
      "cell_type": "code",
      "metadata": {
        "id": "jUBywE9xQwoH",
        "colab": {
          "base_uri": "https://localhost:8080/"
        },
        "outputId": "4b07239f-2eb5-46df-c1ef-61e4447d9900"
      },
      "source": [
        "!free -m\n",
        "!df -h\n",
        "!nvidia-smi"
      ],
      "execution_count": 4,
      "outputs": [
        {
          "output_type": "stream",
          "text": [
            "              total        used        free      shared  buff/cache   available\n",
            "Mem:          13021         553       10435           0        2031       12196\n",
            "Swap:             0           0           0\n",
            "Filesystem      Size  Used Avail Use% Mounted on\n",
            "overlay          69G   39G   30G  57% /\n",
            "tmpfs            64M     0   64M   0% /dev\n",
            "tmpfs           6.4G     0  6.4G   0% /sys/fs/cgroup\n",
            "shm             5.8G     0  5.8G   0% /dev/shm\n",
            "tmpfs           6.4G   24K  6.4G   1% /var/colab\n",
            "/dev/sda1        75G   40G   35G  54% /opt/bin\n",
            "tmpfs           6.4G     0  6.4G   0% /proc/acpi\n",
            "tmpfs           6.4G     0  6.4G   0% /proc/scsi\n",
            "tmpfs           6.4G     0  6.4G   0% /sys/firmware\n",
            "Sun Mar 14 22:18:23 2021       \n",
            "+-----------------------------------------------------------------------------+\n",
            "| NVIDIA-SMI 460.56       Driver Version: 460.32.03    CUDA Version: 11.2     |\n",
            "|-------------------------------+----------------------+----------------------+\n",
            "| GPU  Name        Persistence-M| Bus-Id        Disp.A | Volatile Uncorr. ECC |\n",
            "| Fan  Temp  Perf  Pwr:Usage/Cap|         Memory-Usage | GPU-Util  Compute M. |\n",
            "|                               |                      |               MIG M. |\n",
            "|===============================+======================+======================|\n",
            "|   0  Tesla T4            Off  | 00000000:00:04.0 Off |                    0 |\n",
            "| N/A   39C    P8     9W /  70W |      0MiB / 15109MiB |      0%      Default |\n",
            "|                               |                      |                  N/A |\n",
            "+-------------------------------+----------------------+----------------------+\n",
            "                                                                               \n",
            "+-----------------------------------------------------------------------------+\n",
            "| Processes:                                                                  |\n",
            "|  GPU   GI   CI        PID   Type   Process name                  GPU Memory |\n",
            "|        ID   ID                                                   Usage      |\n",
            "|=============================================================================|\n",
            "|  No running processes found                                                 |\n",
            "+-----------------------------------------------------------------------------+\n"
          ],
          "name": "stdout"
        }
      ]
    },
    {
      "cell_type": "code",
      "metadata": {
        "id": "0mSG3OccRejQ",
        "colab": {
          "base_uri": "https://localhost:8080/"
        },
        "outputId": "630258b0-4ab4-4042-fc8a-f3cad892760e"
      },
      "source": [
        "import torch\n",
        "torch.cuda.is_available()"
      ],
      "execution_count": 5,
      "outputs": [
        {
          "output_type": "execute_result",
          "data": {
            "text/plain": [
              "True"
            ]
          },
          "metadata": {
            "tags": []
          },
          "execution_count": 5
        }
      ]
    },
    {
      "cell_type": "markdown",
      "metadata": {
        "id": "4GoGlxBHRtEV"
      },
      "source": [
        "Cargamos todas las librerias que vamos a utilziar durante este laboratorio"
      ]
    },
    {
      "cell_type": "code",
      "metadata": {
        "id": "1-G5T-11Rqip"
      },
      "source": [
        "import random\n",
        "import torch\n",
        "import torch.nn as nn\n",
        "import torchvision.datasets as datasets\n",
        "import torchvision.transforms as transforms\n",
        "import torch.optim as optim\n",
        "import torch.nn.functional as F\n",
        "import numpy as np\n",
        "import matplotlib.pyplot as plt"
      ],
      "execution_count": 6,
      "outputs": []
    },
    {
      "cell_type": "markdown",
      "metadata": {
        "id": "baEsU4PGXsgS"
      },
      "source": [
        "# Modelo"
      ]
    },
    {
      "cell_type": "code",
      "metadata": {
        "id": "ztZAPQNXZ4ll"
      },
      "source": [
        "# switch to False to use CPU\n",
        "use_cuda = True\n",
        "\n",
        "use_cuda = use_cuda and torch.cuda.is_available()\n",
        "device = torch.device(\"cuda\" if use_cuda else \"cpu\")\n",
        "torch.manual_seed(1);"
      ],
      "execution_count": 7,
      "outputs": []
    },
    {
      "cell_type": "markdown",
      "metadata": {
        "id": "0Ek0mErIac6n"
      },
      "source": [
        "El modelo consiste en 2 capas convolucionales más dos capas lineales, se agregan capas de max pooling y funciones de activación. \n",
        " \n",
        "El modelo utilizado es simple ya que la motivación no es lograr los mejores resultados en cada tarea, sino que nos permite reflejar lo que ocurre cuando no tenemos precauciones al entrenar una nueva tarea.\n"
      ]
    },
    {
      "cell_type": "code",
      "metadata": {
        "id": "ONMdybG4Be0z"
      },
      "source": [
        "class Net(nn.Module):\n",
        "    def __init__(self):\n",
        "        super(Net, self).__init__()\n",
        "        self.conv1 = nn.Conv2d(1, 10, kernel_size=5)\n",
        "        self.conv2 = nn.Conv2d(10, 20, kernel_size=5)\n",
        "        self.conv2_drop = nn.Dropout2d()\n",
        "        self.fc1 = nn.Linear(320, 50)\n",
        "        self.fc2 = nn.Linear(50, 10)\n",
        "\n",
        "    def forward(self, x):\n",
        "        x = F.relu(F.max_pool2d(self.conv1(x), 2))\n",
        "        x = F.relu(F.max_pool2d(self.conv2_drop(self.conv2(x)), 2))\n",
        "        x = x.view(-1, 320)\n",
        "        x = F.relu(self.fc1(x))\n",
        "        x = F.dropout(x, training=self.training)\n",
        "        x = self.fc2(x)\n",
        "        return x"
      ],
      "execution_count": 8,
      "outputs": []
    },
    {
      "cell_type": "markdown",
      "metadata": {
        "id": "zEeQDIFuQ3YP"
      },
      "source": [
        "# Dataset\n",
        "\n",
        "En este laboratorio vamos a utilizar el dataset *MNIST* (LeCun, Yann, et al. \"Gradient-based learning applied to document recognition.\" Proceedings of the IEEE 86.11 (1998): 2278-2324.). Este dataset consiste en 60.000 imágenes de 28x28 pixeles, y cada una es una imagen de un dígito del 0 al 9 escrita a mano. Es decir, tiene 10 clases diferentes (una por dígito).\n",
        " \n",
        "Por simplicidad vamos a utilizar las funciones de descarga de Continual AI, ya que nos va a facilitar la creación de nuevas tareas. \n"
      ]
    },
    {
      "cell_type": "code",
      "metadata": {
        "id": "QRkR1JCBlCDa",
        "colab": {
          "base_uri": "https://localhost:8080/"
        },
        "outputId": "b42bfb3d-3f88-4cac-d0dc-5c68e9989e5c"
      },
      "source": [
        "!git clone https://github.com/ContinualAI/colab.git continualai/colab"
      ],
      "execution_count": 9,
      "outputs": [
        {
          "output_type": "stream",
          "text": [
            "Cloning into 'continualai/colab'...\n",
            "remote: Enumerating objects: 93, done.\u001b[K\n",
            "remote: Counting objects: 100% (93/93), done.\u001b[K\n",
            "remote: Compressing objects: 100% (57/57), done.\u001b[K\n",
            "remote: Total 213 (delta 48), reused 69 (delta 32), pack-reused 120\u001b[K\n",
            "Receiving objects: 100% (213/213), 10.19 MiB | 32.01 MiB/s, done.\n",
            "Resolving deltas: 100% (90/90), done.\n"
          ],
          "name": "stdout"
        }
      ]
    },
    {
      "cell_type": "markdown",
      "metadata": {
        "id": "i3bFzjoDl3oL"
      },
      "source": [
        "Descargamos el dataset en nuestro entorno de colab"
      ]
    },
    {
      "cell_type": "code",
      "metadata": {
        "id": "kWqKTFPlldTn",
        "colab": {
          "base_uri": "https://localhost:8080/",
          "height": 553,
          "referenced_widgets": [
            "daf096e4694e485dbdd3a0bd509d4275",
            "d51335b517734449b2c5c897327d8615",
            "4d2f53fba45244ccb3d5b5d6acb517e2",
            "754d157da7e2405691ffca94f959d5e8",
            "3a02bffecd9343719cc5681de96c4079",
            "9dc72a1886c84e8f8ba4ef43b14b4947",
            "b9ba3e4ba2384223883736405b720128",
            "4235d903a05b48dd83e121d5dd38680e",
            "6db8374b51814f54a50f71adaf92b46e",
            "2beada72008741efad8a53f445a72f25",
            "55bc135c80964e97b12841c1ad0545b7",
            "26f8186520834df69d78066d62837f6d",
            "39f043f55814426b93f6038fff22e031",
            "a216ce919cca4735ae6fa57b3a6adb8b",
            "a2fa0cc371c846eaa379f2350579c5ef",
            "92a11b73c12b4dd196907a96f20f5b04",
            "7ad232fc3874414e991aecd78d9a2fc0",
            "d86ac7c25e3f4dd295791fd47310b1cc",
            "b339917cc2174581a1d5375049d8bc0d",
            "527b32b0e3de4115a112860160cab3b0",
            "c931add2518344d2823b0d05d9a69df8",
            "749dbe5575344c07a7571e4cc002d551",
            "b9d4242d1a904891acaf639249419f9c",
            "30511de0f66b47c990f27ebcb752fd42",
            "1d75b3e6422f427dbff5c195ce60ae8c",
            "c98061e4af074d4c82cdc40e0473c8fd",
            "575411b9ac4c4864bcaaaf8d4651c0fc",
            "2bbaf8ac24014824b5ebdc8af10c441d",
            "59a080c209054ceeba8c4c67375b31d8",
            "633b33e039a04af990038b646a4b04a5",
            "09c7dd54180541319d3fa028f28d836e",
            "d1a90772b7914f50a9d66f7a18b14179"
          ]
        },
        "outputId": "fb635b1d-b706-4ca3-b5d5-331823a03652"
      },
      "source": [
        "from continualai.colab.scripts import mnist\n",
        "mnist.init()"
      ],
      "execution_count": 10,
      "outputs": [
        {
          "output_type": "stream",
          "text": [
            "Downloading train-images-idx3-ubyte.gz...\n",
            "Downloading t10k-images-idx3-ubyte.gz...\n",
            "Downloading train-labels-idx1-ubyte.gz...\n",
            "Downloading t10k-labels-idx1-ubyte.gz...\n",
            "Download complete.\n",
            "Save complete.\n",
            "Downloading https://storage.googleapis.com/cvdf-datasets/mnist/train-images-idx3-ubyte.gz to data/mnist/MNIST/raw/train-images-idx3-ubyte.gz\n"
          ],
          "name": "stdout"
        },
        {
          "output_type": "display_data",
          "data": {
            "application/vnd.jupyter.widget-view+json": {
              "model_id": "daf096e4694e485dbdd3a0bd509d4275",
              "version_minor": 0,
              "version_major": 2
            },
            "text/plain": [
              "HBox(children=(FloatProgress(value=0.0, max=9912422.0), HTML(value='')))"
            ]
          },
          "metadata": {
            "tags": []
          }
        },
        {
          "output_type": "stream",
          "text": [
            "\n",
            "Extracting data/mnist/MNIST/raw/train-images-idx3-ubyte.gz to data/mnist/MNIST/raw\n",
            "Downloading https://storage.googleapis.com/cvdf-datasets/mnist/train-labels-idx1-ubyte.gz to data/mnist/MNIST/raw/train-labels-idx1-ubyte.gz\n"
          ],
          "name": "stdout"
        },
        {
          "output_type": "display_data",
          "data": {
            "application/vnd.jupyter.widget-view+json": {
              "model_id": "6db8374b51814f54a50f71adaf92b46e",
              "version_minor": 0,
              "version_major": 2
            },
            "text/plain": [
              "HBox(children=(FloatProgress(value=0.0, max=28881.0), HTML(value='')))"
            ]
          },
          "metadata": {
            "tags": []
          }
        },
        {
          "output_type": "stream",
          "text": [
            "\n",
            "Extracting data/mnist/MNIST/raw/train-labels-idx1-ubyte.gz to data/mnist/MNIST/raw\n",
            "Downloading https://storage.googleapis.com/cvdf-datasets/mnist/t10k-images-idx3-ubyte.gz to data/mnist/MNIST/raw/t10k-images-idx3-ubyte.gz\n"
          ],
          "name": "stdout"
        },
        {
          "output_type": "display_data",
          "data": {
            "application/vnd.jupyter.widget-view+json": {
              "model_id": "7ad232fc3874414e991aecd78d9a2fc0",
              "version_minor": 0,
              "version_major": 2
            },
            "text/plain": [
              "HBox(children=(FloatProgress(value=0.0, max=1648877.0), HTML(value='')))"
            ]
          },
          "metadata": {
            "tags": []
          }
        },
        {
          "output_type": "stream",
          "text": [
            "\n",
            "Extracting data/mnist/MNIST/raw/t10k-images-idx3-ubyte.gz to data/mnist/MNIST/raw\n",
            "Downloading https://storage.googleapis.com/cvdf-datasets/mnist/t10k-labels-idx1-ubyte.gz to data/mnist/MNIST/raw/t10k-labels-idx1-ubyte.gz\n"
          ],
          "name": "stdout"
        },
        {
          "output_type": "display_data",
          "data": {
            "application/vnd.jupyter.widget-view+json": {
              "model_id": "1d75b3e6422f427dbff5c195ce60ae8c",
              "version_minor": 0,
              "version_major": 2
            },
            "text/plain": [
              "HBox(children=(FloatProgress(value=0.0, max=4542.0), HTML(value='')))"
            ]
          },
          "metadata": {
            "tags": []
          }
        },
        {
          "output_type": "stream",
          "text": [
            "\n",
            "Extracting data/mnist/MNIST/raw/t10k-labels-idx1-ubyte.gz to data/mnist/MNIST/raw\n",
            "Processing...\n",
            "Done!\n"
          ],
          "name": "stdout"
        },
        {
          "output_type": "stream",
          "text": [
            "/usr/local/lib/python3.7/dist-packages/torchvision/datasets/mnist.py:479: UserWarning: The given NumPy array is not writeable, and PyTorch does not support non-writeable tensors. This means you can write to the underlying (supposedly non-writeable) NumPy array using the tensor. You may want to copy the array to protect its data or make it writeable before converting it to a tensor. This type of warning will be suppressed for the rest of this program. (Triggered internally at  /pytorch/torch/csrc/utils/tensor_numpy.cpp:143.)\n",
            "  return torch.from_numpy(parsed.astype(m[2], copy=False)).view(*s)\n"
          ],
          "name": "stderr"
        }
      ]
    },
    {
      "cell_type": "markdown",
      "metadata": {
        "id": "y_RBeJeUl8qx"
      },
      "source": [
        "Luego lo cargamos a memoria.\n",
        " \n",
        "El dataset que estamos utilizando es muy simple, ideal para hacer pruebas de concepto, ya que tiene varias imagenes pequeñas. Al ser pequeñas, estas se pueden cargar en memoria completamente, lo que acelera bastante el proceso de entrenamiento.\n",
        " \n",
        "Lo bueno de probar estos métodos en pequeños dataset es que nos permite validar nuestra propuesta antes de consumir horas o días de computo probando en otra secuencia de tareas. Pero una vez que validamos las ideas, podemos probar los mismos métodos en otras tareas."
      ]
    },
    {
      "cell_type": "code",
      "metadata": {
        "id": "c9FOSHpylfvs"
      },
      "source": [
        "x_train, y_train, x_test, y_test = mnist.load()"
      ],
      "execution_count": 11,
      "outputs": []
    },
    {
      "cell_type": "code",
      "metadata": {
        "id": "JVB7-acRllQ7",
        "colab": {
          "base_uri": "https://localhost:8080/",
          "height": 248
        },
        "outputId": "3fe7132d-ca50-439a-de78-67b1087c27cf"
      },
      "source": [
        "f, axarr = plt.subplots(2,2)\n",
        "axarr[0,0].imshow(x_train[1, 0], cmap=\"gray\")\n",
        "axarr[0,1].imshow(x_train[2, 0], cmap=\"gray\")\n",
        "axarr[1,0].imshow(x_train[3, 0], cmap=\"gray\")\n",
        "axarr[1,1].imshow(x_train[4, 0], cmap=\"gray\")\n",
        "np.vectorize(lambda ax:ax.axis('off'))(axarr);"
      ],
      "execution_count": 12,
      "outputs": [
        {
          "output_type": "display_data",
          "data": {
            "image/png": "[encoded data removed]",
            "text/plain": [
              "<Figure size 432x288 with 4 Axes>"
            ]
          },
          "metadata": {
            "tags": [],
            "needs_background": "light"
          }
        }
      ]
    },
    {
      "cell_type": "markdown",
      "metadata": {
        "id": "2dn-5gOGq08g"
      },
      "source": [
        "## Permuted MNIST\n",
        "\n",
        "Esta secuencia de tareas consiste en tomar cada imagen del set original del dataset MNIST, y realizar una permutación de los pixeles para que refleje otros patrones en la imagen.\n",
        " \n",
        "Cada tarea que queremos agregar es una nueva permutación que se hace a cada una de las imágenes. Por ejemplo, una nueva tarea puede ser mover todos los píxeles uno a la derecha. Pero lo que se hace normalmente es que cada tarea es una permutación aleatoria de todos los píxeles, buscando generar patrones únicos en cada tarea."
      ]
    },
    {
      "cell_type": "code",
      "metadata": {
        "id": "6Xq_4UvjgXPQ"
      },
      "source": [
        "def permute_mnist(mnist, seed):\n",
        "    \"\"\" Given the training set, permute pixels of each img the same way. \"\"\"\n",
        "\n",
        "    np.random.seed(seed)\n",
        "    print(\"starting permutation...\")\n",
        "    h = w = 28\n",
        "    perm_inds = list(range(h*w))\n",
        "    np.random.shuffle(perm_inds)\n",
        "    # print(perm_inds)\n",
        "    perm_mnist = []\n",
        "    for set in mnist:\n",
        "        num_img = set.shape[0]\n",
        "        flat_set = set.reshape(num_img, w * h)\n",
        "        perm_mnist.append(flat_set[:, perm_inds].reshape(num_img, 1, w, h))\n",
        "    print(\"done.\")\n",
        "    return perm_mnist"
      ],
      "execution_count": 14,
      "outputs": []
    },
    {
      "cell_type": "code",
      "metadata": {
        "id": "4xG5LFwLgkpu",
        "colab": {
          "base_uri": "https://localhost:8080/",
          "height": 218
        },
        "outputId": "bfebc7f3-8485-432d-b57e-5ca5ea61a9c8"
      },
      "source": [
        "x_train2, x_test2 = permute_mnist([x_train, x_test], 0)\n",
        "f, axarr = plt.subplots(1,2)\n",
        "axarr[0].imshow(x_train[1, 0], cmap=\"gray\")\n",
        "axarr[1].imshow(x_train2[2, 0], cmap=\"gray\")\n",
        "np.vectorize(lambda ax:ax.axis('off'))(axarr);"
      ],
      "execution_count": 15,
      "outputs": [
        {
          "output_type": "stream",
          "text": [
            "starting permutation...\n",
            "done.\n"
          ],
          "name": "stdout"
        },
        {
          "output_type": "display_data",
          "data": {
            "image/png": "[encoded data removed]",
            "text/plain": [
              "<Figure size 432x288 with 2 Axes>"
            ]
          },
          "metadata": {
            "tags": [],
            "needs_background": "light"
          }
        }
      ]
    },
    {
      "cell_type": "code",
      "metadata": {
        "id": "LYBa_Gedh_do",
        "colab": {
          "base_uri": "https://localhost:8080/",
          "height": 218
        },
        "outputId": "2247002b-d4f2-40e4-a0d3-f030af1ef905"
      },
      "source": [
        "x_train2, x_test2 = permute_mnist([x_train, x_test], 5)\n",
        "f, axarr = plt.subplots(1,2)\n",
        "axarr[0].imshow(x_train[1, 0], cmap=\"gray\")\n",
        "axarr[1].imshow(x_train2[2, 0], cmap=\"gray\")\n",
        "np.vectorize(lambda ax:ax.axis('off'))(axarr);"
      ],
      "execution_count": 16,
      "outputs": [
        {
          "output_type": "stream",
          "text": [
            "starting permutation...\n",
            "done.\n"
          ],
          "name": "stdout"
        },
        {
          "output_type": "display_data",
          "data": {
            "image/png": "[encoded data removed]",
            "text/plain": [
              "<Figure size 432x288 with 2 Axes>"
            ]
          },
          "metadata": {
            "tags": [],
            "needs_background": "light"
          }
        }
      ]
    },
    {
      "cell_type": "markdown",
      "metadata": {
        "id": "F8GU8BswqLxV"
      },
      "source": [
        "# Entrenamiento\n",
        "\n",
        "Tal como en laboratorios anteriores, tenemos dos funciones que nos ayudan a entrenar e ir verificando cómo van los entrenamientos de nuestro modelo.\n",
        " \n",
        "**train**: Es la encargada de entrenar el modelo con los datos que le entregamos. Estos deben ser de la tarea actual.\n",
        " \n",
        "**test**: Nos devuelve el accuracy logrado por el modelo con los datos que le entregamos."
      ]
    },
    {
      "cell_type": "code",
      "metadata": {
        "id": "HGJJfXhJB-zk"
      },
      "source": [
        "def train(model, device, x_train, y_train, optimizer, epoch):\n",
        "    model.train()\n",
        "    \n",
        "    for start in range(0, len(y_train)-1, 256):\n",
        "        end = start + 256\n",
        "        x, y = torch.from_numpy(x_train[start:end]), torch.from_numpy(y_train[start:end]).long()\n",
        "        x, y = x.to(device), y.to(device)\n",
        "      \n",
        "        optimizer.zero_grad()\n",
        "\n",
        "        output = model(x)\n",
        "        loss = F.cross_entropy(output, y)\n",
        "        loss.backward()\n",
        "        optimizer.step()\n",
        "        #print(loss.item())\n",
        "    print('Train Epoch: {} \\tLoss: {:.6f}'.format(epoch, loss.item()))\n",
        "\n",
        "def test(model, device, x_test, y_test):\n",
        "    model.eval()\n",
        "    test_loss = 0\n",
        "    correct = 0\n",
        "    for start in range(0, len(y_test)-1, 256):\n",
        "       end = start + 256\n",
        "       with torch.no_grad():\n",
        "          x, y = torch.from_numpy(x_test[start:end]), torch.from_numpy(y_test[start:end]).long()\n",
        "          x, y = x.to(device), y.to(device)\n",
        "          output = model(x)\n",
        "          test_loss += F.cross_entropy(output, y).item() # sum up batch loss\n",
        "          pred = output.max(1, keepdim=True)[1] # get the index of the max logit\n",
        "          correct += pred.eq(y.view_as(pred)).sum().item()\n",
        "\n",
        "    test_loss /= len(y_test)\n",
        "    print('Test set: Average loss: {:.4f}, Accuracy: {}/{} ({:.0f}%)\\n'.format(\n",
        "        test_loss, correct, len(y_test),\n",
        "        100. * correct / len(y_test)))\n",
        "    return 100. * correct / len(y_test)"
      ],
      "execution_count": 17,
      "outputs": []
    },
    {
      "cell_type": "markdown",
      "metadata": {
        "id": "IxIISdDPaqb9"
      },
      "source": [
        "Es importante inicializar el modelo cada vez que queramos entrenar una nueva secuencia, ya que si no lo hacemos estamos partiendo con un modelo que ya tiene información de alguna tarea en sus pesos."
      ]
    },
    {
      "cell_type": "code",
      "metadata": {
        "id": "1cJURe0JCFh8"
      },
      "source": [
        "model = Net().to(device)\n",
        "optimizer = optim.SGD(model.parameters(), lr=0.01, momentum=0.9)"
      ],
      "execution_count": 14,
      "outputs": []
    },
    {
      "cell_type": "code",
      "metadata": {
        "id": "BlhVt8vylpUv",
        "colab": {
          "base_uri": "https://localhost:8080/"
        },
        "outputId": "75b92201-7401-4af9-e3aa-9d4716ed992f"
      },
      "source": [
        "for epoch in range(1, 5):\n",
        "   train(model, device, x_train, y_train, optimizer, epoch)\n",
        "   test(model, device, x_test, y_test)"
      ],
      "execution_count": 15,
      "outputs": [
        {
          "output_type": "stream",
          "text": [
            "Train Epoch: 1 \tLoss: 0.754571\n",
            "Test set: Average loss: 0.0013, Accuracy: 9015/10000 (90%)\n",
            "\n",
            "Train Epoch: 2 \tLoss: 0.504929\n",
            "Test set: Average loss: 0.0007, Accuracy: 9433/10000 (94%)\n",
            "\n",
            "Train Epoch: 3 \tLoss: 0.467992\n",
            "Test set: Average loss: 0.0006, Accuracy: 9548/10000 (95%)\n",
            "\n",
            "Train Epoch: 4 \tLoss: 0.456822\n",
            "Test set: Average loss: 0.0005, Accuracy: 9619/10000 (96%)\n",
            "\n"
          ],
          "name": "stdout"
        }
      ]
    },
    {
      "cell_type": "markdown",
      "metadata": {
        "id": "46wHcbNAchH-"
      },
      "source": [
        "Con los resultados anteriores, podemos ver que el modelo logró un muy buen rendimiento en la tarea con los datos original. Lo mejor, es que no necesita una gran cantidad de épocas para alcanzar esos resultados."
      ]
    },
    {
      "cell_type": "markdown",
      "metadata": {
        "id": "dVIKRe8OyON1"
      },
      "source": [
        "## Olvido Catastrófico\n",
        "\n",
        "El mayor problema que tiene el aprender tareas de manera secuencial es lo que se conoce como Olvido Catastrófico, donde al entrenar una nueva tarea, el rendimiento alcanzado en tareas anteriores se ve fuertemente afectado.\n",
        "\n",
        "Primero veamos el accuracy que alcanza un modelo en dos tareas, cuando fue entrenado solo en la primera:"
      ]
    },
    {
      "cell_type": "code",
      "metadata": {
        "id": "Sxusb8s3itli",
        "colab": {
          "base_uri": "https://localhost:8080/"
        },
        "outputId": "83412a18-3475-45a6-e4c5-ce7f97980924"
      },
      "source": [
        "print(\"Testing on the first task:\")\n",
        "test(model, device, x_test, y_test)\n",
        "\n",
        "print(\"Testing on the second task:\")\n",
        "test(model, device, x_test2, y_test);"
      ],
      "execution_count": 16,
      "outputs": [
        {
          "output_type": "stream",
          "text": [
            "Testing on the first task:\n",
            "Test set: Average loss: 0.0005, Accuracy: 9619/10000 (96%)\n",
            "\n",
            "Testing on the second task:\n",
            "Test set: Average loss: 0.0099, Accuracy: 1034/10000 (10%)\n",
            "\n"
          ],
          "name": "stdout"
        }
      ]
    },
    {
      "cell_type": "markdown",
      "metadata": {
        "id": "0pHMg4G_dHFY"
      },
      "source": [
        "Como era esperado, a nuestro modelo no le va bien en una tarea en la cual no ha sido entrenado. Esto se refleja más todavía cuando las imágenes entre las tareas son bien diferentes.\n",
        " \n",
        "Debido a lo anterior, es necesario entrenar el modelo en este nuevo dataset para que adquiera los conocimientos necesarios, y se pueda desempeñar de manera correcta en esta nueva tarea.\n"
      ]
    },
    {
      "cell_type": "code",
      "metadata": {
        "id": "J5PtR8Gqib00",
        "colab": {
          "base_uri": "https://localhost:8080/"
        },
        "outputId": "dc17d17b-fd02-4138-cc11-603b819f4c18"
      },
      "source": [
        "for epoch in range(1, 3):\n",
        "  train(model, device, x_train2, y_train, optimizer, epoch)\n",
        "  test(model, device, x_test2, y_test)"
      ],
      "execution_count": 17,
      "outputs": [
        {
          "output_type": "stream",
          "text": [
            "Train Epoch: 1 \tLoss: 1.241655\n",
            "Test set: Average loss: 0.0031, Accuracy: 7567/10000 (76%)\n",
            "\n",
            "Train Epoch: 2 \tLoss: 0.990397\n",
            "Test set: Average loss: 0.0022, Accuracy: 8254/10000 (83%)\n",
            "\n"
          ],
          "name": "stdout"
        }
      ]
    },
    {
      "cell_type": "code",
      "metadata": {
        "id": "ML7Evzb9jPAZ",
        "colab": {
          "base_uri": "https://localhost:8080/"
        },
        "outputId": "a7540814-d304-4651-eee7-2d2a22768238"
      },
      "source": [
        "print(\"Testing on the first task:\")\n",
        "test(model, device, x_test, y_test)\n",
        "\n",
        "print(\"Testing on the second task:\")\n",
        "test(model, device, x_test2, y_test);"
      ],
      "execution_count": 18,
      "outputs": [
        {
          "output_type": "stream",
          "text": [
            "Testing on the first task:\n",
            "Test set: Average loss: 0.0148, Accuracy: 3595/10000 (36%)\n",
            "\n",
            "Testing on the second task:\n",
            "Test set: Average loss: 0.0022, Accuracy: 8254/10000 (83%)\n",
            "\n"
          ],
          "name": "stdout"
        }
      ]
    },
    {
      "cell_type": "markdown",
      "metadata": {
        "id": "0UZ6FBuHdm7N"
      },
      "source": [
        "Pero tal como vimos en clases, se produce el problema de olvido catastrófico, donde obtenemos un buen rendimiento en la segunda tarea pero en la primera tarea olvidamos casi todo lo aprendido."
      ]
    },
    {
      "cell_type": "markdown",
      "metadata": {
        "id": "9rUgLpUakTy6"
      },
      "source": [
        "# Estrategias de Aprendizaje Continuo\n",
        "\n",
        "En este laboratorio vamos a comprobar el rendimiento de 3 metodos diferentes:\n",
        "\n",
        "1.   Naive: Entrenamiento sin ningun tipo de metodo preocupado de alivianar el problema del olvido\n",
        "2.   Rehearsal: Tener una memoria con datos de tareas pasadas\n",
        "3.   Elastic Weight Consolidation (EWC): Uno de los metodo que vimos en clases\n",
        "\n",
        "Primero vamos a crear las diferentes tareas que vamos a utilizar. La variable *num_tasks* es la encargada de determinar la cantidad de tareas que vamos a probar, y *num_epoch* por cuantas iteraciones vamos a entrenar cada tarea."
      ]
    },
    {
      "cell_type": "code",
      "metadata": {
        "id": "Yu0T_V24joGY",
        "colab": {
          "base_uri": "https://localhost:8080/"
        },
        "outputId": "5d4d2a7a-a709-4383-a01d-41bbbd416486"
      },
      "source": [
        "num_tasks = 3\n",
        "num_epoch = 3\n",
        "tasks = []\n",
        "for i in range(num_tasks):\n",
        "    if i > 0:\n",
        "        train_x, test_x = permute_mnist([x_train, x_test], i)\n",
        "        task = [(train_x, y_train), (test_x, y_test)]\n",
        "    else:\n",
        "        task = [(x_train, y_train), (x_test, y_test)]\n",
        "    \n",
        "    tasks.append(task)"
      ],
      "execution_count": 18,
      "outputs": [
        {
          "output_type": "stream",
          "text": [
            "starting permutation...\n",
            "done.\n",
            "starting permutation...\n",
            "done.\n"
          ],
          "name": "stdout"
        }
      ]
    },
    {
      "cell_type": "markdown",
      "metadata": {
        "id": "yUNaukXyiJni"
      },
      "source": [
        "## Naive Strategy\n",
        "\n",
        "A modo de *baseline*, vamos a entrenar el modelo con la estrategia más simple.  Esta consiste en entrenar de manera secuencial todas las tareas sin ningún tipo de estrategia contra el olvido."
      ]
    },
    {
      "cell_type": "code",
      "metadata": {
        "id": "gzFEA5F8pI_O"
      },
      "source": [
        "modelOG = Net().to(device)\n",
        "optimizer = optim.SGD(model.parameters(), lr=0.01, momentum=0.9)"
      ],
      "execution_count": 61,
      "outputs": []
    },
    {
      "cell_type": "code",
      "metadata": {
        "id": "dLU6KdIbnLMN",
        "colab": {
          "base_uri": "https://localhost:8080/"
        },
        "outputId": "52369e3f-383e-4d01-9bac-4298fb893d00"
      },
      "source": [
        "naive_accs = []\n",
        "\n",
        "for id, task in enumerate(tasks):\n",
        "    avg_acc = 0\n",
        "    print(\"Training on task: \", id)\n",
        "  \n",
        "    (x_train, y_train), _ = task\n",
        "  \n",
        "    for epoch in range(1, num_epoch):\n",
        "        train(modelOG, device, x_train, y_train, optimizer, epoch)\n",
        "    \n",
        "    for id_test, task in enumerate(tasks):\n",
        "        print(\"Testing on task: \", id_test)\n",
        "        _, (x_test, y_test) = task\n",
        "        acc = test(modelOG, device, x_test, y_test)\n",
        "        avg_acc = avg_acc + acc \n",
        "  \n",
        "    naive_accs.append(avg_acc / 3)\n",
        "    print(\"Avg acc: \", avg_acc / 3)\n",
        "  "
      ],
      "execution_count": 62,
      "outputs": [
        {
          "output_type": "stream",
          "text": [
            "Training on task:  0\n",
            "Train Epoch: 1 \tLoss: 2.303092\n",
            "Train Epoch: 2 \tLoss: 2.317416\n",
            "Testing on task:  0\n",
            "Test set: Average loss: 0.0092, Accuracy: 867/10000 (9%)\n",
            "\n",
            "Testing on task:  1\n",
            "Test set: Average loss: 0.0092, Accuracy: 983/10000 (10%)\n",
            "\n",
            "Testing on task:  2\n",
            "Test set: Average loss: 0.0092, Accuracy: 927/10000 (9%)\n",
            "\n",
            "Testing on task:  3\n",
            "Test set: Average loss: 0.0092, Accuracy: 747/10000 (7%)\n",
            "\n",
            "Testing on task:  4\n",
            "Test set: Average loss: 0.0092, Accuracy: 828/10000 (8%)\n",
            "\n",
            "Avg acc:  14.506666666666668\n",
            "Training on task:  1\n",
            "Train Epoch: 1 \tLoss: 2.313515\n",
            "Train Epoch: 2 \tLoss: 2.320403\n",
            "Testing on task:  0\n",
            "Test set: Average loss: 0.0092, Accuracy: 867/10000 (9%)\n",
            "\n",
            "Testing on task:  1\n",
            "Test set: Average loss: 0.0092, Accuracy: 983/10000 (10%)\n",
            "\n",
            "Testing on task:  2\n",
            "Test set: Average loss: 0.0092, Accuracy: 927/10000 (9%)\n",
            "\n",
            "Testing on task:  3\n",
            "Test set: Average loss: 0.0092, Accuracy: 747/10000 (7%)\n",
            "\n",
            "Testing on task:  4\n",
            "Test set: Average loss: 0.0092, Accuracy: 828/10000 (8%)\n",
            "\n",
            "Avg acc:  14.506666666666668\n",
            "Training on task:  2\n",
            "Train Epoch: 1 \tLoss: 2.334979\n",
            "Train Epoch: 2 \tLoss: 2.335487\n",
            "Testing on task:  0\n",
            "Test set: Average loss: 0.0092, Accuracy: 867/10000 (9%)\n",
            "\n",
            "Testing on task:  1\n",
            "Test set: Average loss: 0.0092, Accuracy: 983/10000 (10%)\n",
            "\n",
            "Testing on task:  2\n",
            "Test set: Average loss: 0.0092, Accuracy: 927/10000 (9%)\n",
            "\n",
            "Testing on task:  3\n",
            "Test set: Average loss: 0.0092, Accuracy: 747/10000 (7%)\n",
            "\n",
            "Testing on task:  4\n",
            "Test set: Average loss: 0.0092, Accuracy: 828/10000 (8%)\n",
            "\n",
            "Avg acc:  14.506666666666668\n",
            "Training on task:  3\n",
            "Train Epoch: 1 \tLoss: 2.315969\n",
            "Train Epoch: 2 \tLoss: 2.341276\n",
            "Testing on task:  0\n",
            "Test set: Average loss: 0.0092, Accuracy: 867/10000 (9%)\n",
            "\n",
            "Testing on task:  1\n",
            "Test set: Average loss: 0.0092, Accuracy: 983/10000 (10%)\n",
            "\n",
            "Testing on task:  2\n",
            "Test set: Average loss: 0.0092, Accuracy: 927/10000 (9%)\n",
            "\n",
            "Testing on task:  3\n",
            "Test set: Average loss: 0.0092, Accuracy: 747/10000 (7%)\n",
            "\n",
            "Testing on task:  4\n",
            "Test set: Average loss: 0.0092, Accuracy: 828/10000 (8%)\n",
            "\n",
            "Avg acc:  14.506666666666668\n",
            "Training on task:  4\n",
            "Train Epoch: 1 \tLoss: 2.319340\n",
            "Train Epoch: 2 \tLoss: 2.320258\n",
            "Testing on task:  0\n",
            "Test set: Average loss: 0.0092, Accuracy: 867/10000 (9%)\n",
            "\n",
            "Testing on task:  1\n",
            "Test set: Average loss: 0.0092, Accuracy: 983/10000 (10%)\n",
            "\n",
            "Testing on task:  2\n",
            "Test set: Average loss: 0.0092, Accuracy: 927/10000 (9%)\n",
            "\n",
            "Testing on task:  3\n",
            "Test set: Average loss: 0.0092, Accuracy: 747/10000 (7%)\n",
            "\n",
            "Testing on task:  4\n",
            "Test set: Average loss: 0.0092, Accuracy: 828/10000 (8%)\n",
            "\n",
            "Avg acc:  14.506666666666668\n"
          ],
          "name": "stdout"
        }
      ]
    },
    {
      "cell_type": "markdown",
      "metadata": {
        "id": "ANJfdFD3s0oT"
      },
      "source": [
        "### Actividad Practica 1\n",
        "\n",
        "- ¿Afecta el orden de las tareas? Por ejemplo si invertimos el orden de las tareas, entrenando la última, luego la penúltima, se ven resultados diferentes?\n",
        "- ¿Cómo afecta el rendimiento promedio de este método cuando agregamos más tareas?"
      ]
    },
    {
      "cell_type": "markdown",
      "metadata": {
        "id": "EITKOjoVcMzY"
      },
      "source": [
        "*Respuesta*\r\n",
        "\r\n",
        "1) Como se observa aqui abajo en el calculo, al cambiar el orden de las tareas se observa el mismo patron, es decir, la tarea que se esta entrenando en cada epoch tiene la mejor accuracy, y las otras dos tareas decrecen en accuracy."
      ]
    },
    {
      "cell_type": "code",
      "metadata": {
        "id": "Qje4nk92aGpP"
      },
      "source": [
        "model = Net().to(device)\r\n",
        "optimizer = optim.SGD(model.parameters(), lr=0.01, momentum=0.9)"
      ],
      "execution_count": 24,
      "outputs": []
    },
    {
      "cell_type": "code",
      "metadata": {
        "id": "DAQvqMVzu_jV",
        "colab": {
          "base_uri": "https://localhost:8080/"
        },
        "outputId": "388771c5-0e3f-4eda-a1ec-f9bda49dd9fd"
      },
      "source": [
        "# Experimentos aquí #\r\n",
        "\r\n",
        "nuevo_orden_tarea = [tasks[2], tasks[1], tasks[0]]\r\n",
        "\r\n",
        "naive_accs = []\r\n",
        "\r\n",
        "for id, task in enumerate(nuevo_orden_tarea):\r\n",
        "    avg_acc = 0\r\n",
        "    print(\"Training on task: \", id)\r\n",
        "  \r\n",
        "    (x_train, y_train), _ = task\r\n",
        "  \r\n",
        "    for epoch in range(1, num_epoch):\r\n",
        "        train(model, device, x_train, y_train, optimizer, epoch)\r\n",
        "    \r\n",
        "    for id_test, task in enumerate(nuevo_orden_tarea):\r\n",
        "        print(\"Testing on task: \", id_test)\r\n",
        "        _, (x_test, y_test) = task\r\n",
        "        acc = test(model, device, x_test, y_test)\r\n",
        "        avg_acc = avg_acc + acc \r\n",
        "  \r\n",
        "    naive_accs.append(avg_acc / 3)\r\n",
        "    print(\"Avg acc: \", avg_acc / 3)\r\n",
        "  "
      ],
      "execution_count": 25,
      "outputs": [
        {
          "output_type": "stream",
          "text": [
            "Training on task:  0\n",
            "Train Epoch: 1 \tLoss: 2.045251\n",
            "Train Epoch: 2 \tLoss: 1.012216\n",
            "Testing on task:  0\n",
            "Test set: Average loss: 0.0028, Accuracy: 7942/10000 (79%)\n",
            "\n",
            "Testing on task:  1\n",
            "Test set: Average loss: 0.0103, Accuracy: 1352/10000 (14%)\n",
            "\n",
            "Testing on task:  2\n",
            "Test set: Average loss: 0.0289, Accuracy: 1054/10000 (11%)\n",
            "\n",
            "Avg acc:  34.49333333333333\n",
            "Training on task:  1\n",
            "Train Epoch: 1 \tLoss: 0.947041\n",
            "Train Epoch: 2 \tLoss: 0.797456\n",
            "Testing on task:  0\n",
            "Test set: Average loss: 0.0065, Accuracy: 4227/10000 (42%)\n",
            "\n",
            "Testing on task:  1\n",
            "Test set: Average loss: 0.0017, Accuracy: 8721/10000 (87%)\n",
            "\n",
            "Testing on task:  2\n",
            "Test set: Average loss: 0.0402, Accuracy: 423/10000 (4%)\n",
            "\n",
            "Avg acc:  44.56999999999999\n",
            "Training on task:  2\n",
            "Train Epoch: 1 \tLoss: 1.114115\n",
            "Train Epoch: 2 \tLoss: 0.692899\n",
            "Testing on task:  0\n",
            "Test set: Average loss: 0.0096, Accuracy: 1350/10000 (14%)\n",
            "\n",
            "Testing on task:  1\n",
            "Test set: Average loss: 0.0117, Accuracy: 841/10000 (8%)\n",
            "\n",
            "Testing on task:  2\n",
            "Test set: Average loss: 0.0012, Accuracy: 9145/10000 (91%)\n",
            "\n",
            "Avg acc:  37.78666666666667\n"
          ],
          "name": "stdout"
        }
      ]
    },
    {
      "cell_type": "markdown",
      "metadata": {
        "id": "RJWgH8Vqcrn2"
      },
      "source": [
        "RESPUESTA 2) Al agregar mas tareas se observa el mismo patron, es decir, la tarea que se esta entrenando tiene el mejor accuracy, mientras que el resto baja en su accuracy. Con respecto al accuracy promedio, subió levemente, de un 45% a un 55% al usar 5 tareas, Codigo aqui abajo:"
      ]
    },
    {
      "cell_type": "code",
      "metadata": {
        "colab": {
          "base_uri": "https://localhost:8080/"
        },
        "id": "qrC9wbPfeCGf",
        "outputId": "f1121613-3d34-432f-fec2-0027881b8d64"
      },
      "source": [
        "num_tasks = 5\r\n",
        "num_epoch = 3\r\n",
        "tasks = []\r\n",
        "for i in range(num_tasks):\r\n",
        "    if i > 0:\r\n",
        "        train_x, test_x = permute_mnist([x_train, x_test], i)\r\n",
        "        task = [(train_x, y_train), (test_x, y_test)]\r\n",
        "    else:\r\n",
        "        task = [(x_train, y_train), (x_test, y_test)]\r\n",
        "    \r\n",
        "    tasks.append(task)"
      ],
      "execution_count": 35,
      "outputs": [
        {
          "output_type": "stream",
          "text": [
            "starting permutation...\n",
            "done.\n",
            "starting permutation...\n",
            "done.\n",
            "starting permutation...\n",
            "done.\n",
            "starting permutation...\n",
            "done.\n"
          ],
          "name": "stdout"
        }
      ]
    },
    {
      "cell_type": "code",
      "metadata": {
        "colab": {
          "base_uri": "https://localhost:8080/"
        },
        "id": "6l7abRU2eLAW",
        "outputId": "36bd0c57-8df4-44a9-f7f8-e280b1719d6a"
      },
      "source": [
        "len(tasks)"
      ],
      "execution_count": 36,
      "outputs": [
        {
          "output_type": "execute_result",
          "data": {
            "text/plain": [
              "5"
            ]
          },
          "metadata": {
            "tags": []
          },
          "execution_count": 36
        }
      ]
    },
    {
      "cell_type": "code",
      "metadata": {
        "id": "iEg85CJrco3L"
      },
      "source": [
        "model = Net().to(device)\r\n",
        "optimizer = optim.SGD(model.parameters(), lr=0.01, momentum=0.9)"
      ],
      "execution_count": 37,
      "outputs": []
    },
    {
      "cell_type": "code",
      "metadata": {
        "colab": {
          "base_uri": "https://localhost:8080/"
        },
        "id": "h5ZKzpnrcqwz",
        "outputId": "e80c2393-19a2-435e-fde9-61e6fe95a38f"
      },
      "source": [
        "# Experimentos aquí #\r\n",
        "\r\n",
        "naive_accs = []\r\n",
        "\r\n",
        "for id, task in enumerate(tasks):\r\n",
        "    avg_acc = 0\r\n",
        "    print(\"Training on task: \", id)\r\n",
        "  \r\n",
        "    (x_train, y_train), _ = task\r\n",
        "  \r\n",
        "    for epoch in range(1, num_epoch):\r\n",
        "        train(model, device, x_train, y_train, optimizer, epoch)\r\n",
        "    \r\n",
        "    for id_test, task in enumerate(tasks):\r\n",
        "        print(\"Testing on task: \", id_test)\r\n",
        "        _, (x_test, y_test) = task\r\n",
        "        acc = test(model, device, x_test, y_test)\r\n",
        "        avg_acc = avg_acc + acc \r\n",
        "  \r\n",
        "    naive_accs.append(avg_acc / 3)\r\n",
        "    print(\"Avg acc: \", avg_acc / 3)\r\n",
        "  "
      ],
      "execution_count": 38,
      "outputs": [
        {
          "output_type": "stream",
          "text": [
            "Training on task:  0\n",
            "Train Epoch: 1 \tLoss: 1.889102\n",
            "Train Epoch: 2 \tLoss: 0.896592\n",
            "Testing on task:  0\n",
            "Test set: Average loss: 0.0029, Accuracy: 7985/10000 (80%)\n",
            "\n",
            "Testing on task:  1\n",
            "Test set: Average loss: 0.0098, Accuracy: 1796/10000 (18%)\n",
            "\n",
            "Testing on task:  2\n",
            "Test set: Average loss: 0.0110, Accuracy: 1320/10000 (13%)\n",
            "\n",
            "Testing on task:  3\n",
            "Test set: Average loss: 0.0112, Accuracy: 813/10000 (8%)\n",
            "\n",
            "Testing on task:  4\n",
            "Test set: Average loss: 0.0109, Accuracy: 1119/10000 (11%)\n",
            "\n",
            "Avg acc:  43.443333333333335\n",
            "Training on task:  1\n",
            "Train Epoch: 1 \tLoss: 0.844432\n",
            "Train Epoch: 2 \tLoss: 0.650373\n",
            "Testing on task:  0\n",
            "Test set: Average loss: 0.0059, Accuracy: 4802/10000 (48%)\n",
            "\n",
            "Testing on task:  1\n",
            "Test set: Average loss: 0.0018, Accuracy: 8755/10000 (88%)\n",
            "\n",
            "Testing on task:  2\n",
            "Test set: Average loss: 0.0110, Accuracy: 1051/10000 (11%)\n",
            "\n",
            "Testing on task:  3\n",
            "Test set: Average loss: 0.0106, Accuracy: 1019/10000 (10%)\n",
            "\n",
            "Testing on task:  4\n",
            "Test set: Average loss: 0.0107, Accuracy: 792/10000 (8%)\n",
            "\n",
            "Avg acc:  54.72999999999999\n",
            "Training on task:  2\n",
            "Train Epoch: 1 \tLoss: 1.256113\n",
            "Train Epoch: 2 \tLoss: 0.733715\n",
            "Testing on task:  0\n",
            "Test set: Average loss: 0.0095, Accuracy: 2092/10000 (21%)\n",
            "\n",
            "Testing on task:  1\n",
            "Test set: Average loss: 0.0067, Accuracy: 4029/10000 (40%)\n",
            "\n",
            "Testing on task:  2\n",
            "Test set: Average loss: 0.0020, Accuracy: 8606/10000 (86%)\n",
            "\n",
            "Testing on task:  3\n",
            "Test set: Average loss: 0.0106, Accuracy: 993/10000 (10%)\n",
            "\n",
            "Testing on task:  4\n",
            "Test set: Average loss: 0.0098, Accuracy: 1572/10000 (16%)\n",
            "\n",
            "Avg acc:  57.64000000000001\n",
            "Training on task:  3\n",
            "Train Epoch: 1 \tLoss: 1.427371\n",
            "Train Epoch: 2 \tLoss: 0.872191\n",
            "Testing on task:  0\n",
            "Test set: Average loss: 0.0101, Accuracy: 1275/10000 (13%)\n",
            "\n",
            "Testing on task:  1\n",
            "Test set: Average loss: 0.0090, Accuracy: 2127/10000 (21%)\n",
            "\n",
            "Testing on task:  2\n",
            "Test set: Average loss: 0.0064, Accuracy: 4377/10000 (44%)\n",
            "\n",
            "Testing on task:  3\n",
            "Test set: Average loss: 0.0022, Accuracy: 8386/10000 (84%)\n",
            "\n",
            "Testing on task:  4\n",
            "Test set: Average loss: 0.0107, Accuracy: 1030/10000 (10%)\n",
            "\n",
            "Avg acc:  57.31666666666666\n",
            "Training on task:  4\n",
            "Train Epoch: 1 \tLoss: 0.994063\n",
            "Train Epoch: 2 \tLoss: 0.785648\n",
            "Testing on task:  0\n",
            "Test set: Average loss: 0.0099, Accuracy: 1313/10000 (13%)\n",
            "\n",
            "Testing on task:  1\n",
            "Test set: Average loss: 0.0090, Accuracy: 2035/10000 (20%)\n",
            "\n",
            "Testing on task:  2\n",
            "Test set: Average loss: 0.0097, Accuracy: 1604/10000 (16%)\n",
            "\n",
            "Testing on task:  3\n",
            "Test set: Average loss: 0.0072, Accuracy: 3568/10000 (36%)\n",
            "\n",
            "Testing on task:  4\n",
            "Test set: Average loss: 0.0020, Accuracy: 8525/10000 (85%)\n",
            "\n",
            "Avg acc:  56.81666666666666\n"
          ],
          "name": "stdout"
        }
      ]
    },
    {
      "cell_type": "markdown",
      "metadata": {
        "id": "lCK0EYT-pJa8"
      },
      "source": [
        "## Rehearsal Strategy\n",
        "\n",
        "Una manera simple de no perder rendimiento en tareas pasadas es la de ir acumulando los datos en un gran dataset, de manera de siempre tener la distribución de los datos antiguos y nuevos disponible. Existen tres problemas con esto:\n",
        "* El costo computacional de entrenar el modelo con cada vez más datos\n",
        "* El costo en memoria, al ir guardando todos los datos aumenta\n",
        "* El costo en privacidad que tiene guardar estos datos\n",
        " \n",
        "Una alternativa a guardar todos los datos, podemos guardar un porcentaje de los datos de tareas anteriores, alivianando en parte los problemas mencionados. Pero cómo vamos a ver a continuación, existe un trade-off entre la cantidad de datos que estamos guardando y el rendimiento que podemos alcanzar.\n",
        "\n",
        "\n"
      ]
    },
    {
      "cell_type": "code",
      "metadata": {
        "id": "FdWpT2jhfu3o"
      },
      "source": [
        "def shuffle_in_unison(dataset, seed, in_place=False):\n",
        "    \"\"\" Shuffle two (or more) list in unison. \"\"\"\n",
        "\n",
        "    np.random.seed(seed)\n",
        "    rng_state = np.random.get_state()\n",
        "    new_dataset = []\n",
        "    for x in dataset:\n",
        "        if in_place:\n",
        "            np.random.shuffle(x)\n",
        "        else:\n",
        "            new_dataset.append(np.random.permutation(x))\n",
        "        np.random.set_state(rng_state)\n",
        "\n",
        "    if not in_place:\n",
        "        return new_dataset"
      ],
      "execution_count": 28,
      "outputs": []
    },
    {
      "cell_type": "markdown",
      "metadata": {
        "id": "94hg1UrtqFmT"
      },
      "source": [
        "Luego tenemos que re-inicializar el modelo para no partir de una base previamente entrenada y tener una comparación más justa."
      ]
    },
    {
      "cell_type": "code",
      "metadata": {
        "id": "62TY0Ajgbsgk"
      },
      "source": [
        "model = Net().to(device)\n",
        "optimizer = optim.SGD(model.parameters(), lr=0.01, momentum=0.9)"
      ],
      "execution_count": 29,
      "outputs": []
    },
    {
      "cell_type": "code",
      "metadata": {
        "id": "y_No-qvDbuZi",
        "colab": {
          "base_uri": "https://localhost:8080/"
        },
        "outputId": "8aeb0036-68ea-4338-e33b-9d199af9b520"
      },
      "source": [
        "rehe_accs = []\n",
        "num_past_elem = 1000 #50000 -> Dataset total\n",
        "\n",
        "for id, task in enumerate(tasks):\n",
        "    avg_acc = 0\n",
        "    print(\"Training on task: \", id)\n",
        "  \n",
        "    (x_train, y_train), _ = task\n",
        "  \n",
        "    # for previous task\n",
        "    for i in range(id):\n",
        "        (past_x_train, past_y_train), _ = tasks[i]\n",
        "        idx = random.sample(list(range(len(past_y_train))), num_past_elem)\n",
        "        x_train = np.concatenate((x_train, past_x_train[idx]))\n",
        "        y_train = np.concatenate((y_train, past_y_train[idx]))\n",
        "  \n",
        "    x_train, y_train = shuffle_in_unison([x_train, y_train], 0)\n",
        "  \n",
        "    for epoch in range(1, num_epoch):\n",
        "        train(model, device, x_train, y_train, optimizer, epoch)\n",
        "    \n",
        "    for id_test, task in enumerate(tasks):\n",
        "        print(\"Testing on task: \", id_test)\n",
        "        _, (x_test, y_test) = task\n",
        "        acc = test(model, device, x_test, y_test)\n",
        "        avg_acc = avg_acc + acc\n",
        "   \n",
        "    print(\"Avg acc: \", avg_acc / len(tasks))\n",
        "    rehe_accs.append(avg_acc/len(tasks))"
      ],
      "execution_count": 30,
      "outputs": [
        {
          "output_type": "stream",
          "text": [
            "Training on task:  0\n",
            "Train Epoch: 1 \tLoss: 0.523789\n",
            "Train Epoch: 2 \tLoss: 0.346071\n",
            "Testing on task:  0\n",
            "Test set: Average loss: 0.0007, Accuracy: 9470/10000 (95%)\n",
            "\n",
            "Testing on task:  1\n",
            "Test set: Average loss: 0.0112, Accuracy: 713/10000 (7%)\n",
            "\n",
            "Testing on task:  2\n",
            "Test set: Average loss: 0.0097, Accuracy: 1181/10000 (12%)\n",
            "\n",
            "Avg acc:  37.88\n",
            "Training on task:  1\n",
            "Train Epoch: 1 \tLoss: 1.437485\n",
            "Train Epoch: 2 \tLoss: 1.052907\n",
            "Testing on task:  0\n",
            "Test set: Average loss: 0.0024, Accuracy: 8223/10000 (82%)\n",
            "\n",
            "Testing on task:  1\n",
            "Test set: Average loss: 0.0026, Accuracy: 8098/10000 (81%)\n",
            "\n",
            "Testing on task:  2\n",
            "Test set: Average loss: 0.0098, Accuracy: 1544/10000 (15%)\n",
            "\n",
            "Avg acc:  59.550000000000004\n",
            "Training on task:  2\n",
            "Train Epoch: 1 \tLoss: 1.093941\n",
            "Train Epoch: 2 \tLoss: 1.055043\n",
            "Testing on task:  0\n",
            "Test set: Average loss: 0.0028, Accuracy: 7985/10000 (80%)\n",
            "\n",
            "Testing on task:  1\n",
            "Test set: Average loss: 0.0054, Accuracy: 5558/10000 (56%)\n",
            "\n",
            "Testing on task:  2\n",
            "Test set: Average loss: 0.0020, Accuracy: 8488/10000 (85%)\n",
            "\n",
            "Avg acc:  73.43666666666667\n"
          ],
          "name": "stdout"
        }
      ]
    },
    {
      "cell_type": "markdown",
      "metadata": {
        "id": "jCna5k0DtN-X"
      },
      "source": [
        "### Actividad Práctica 2\n",
        "\n",
        "*  Gráfique cómo evoluciona el accuracy promedio con diferentes valores de *num_past_elem*. Explique los resultados.\n",
        "*  Explique el trade-off que existe entre el accuracy logrado y la memoria utilizada por los datos anteriores. Puede utilizar [getsizeof](https://docs.python.org/2/library/sys.html#sys.getsizeof)\n",
        "*  Porque es necesario aplicar la función *shuffle* antes de entrenar con los datos de la tarea actual y la pasada."
      ]
    },
    {
      "cell_type": "markdown",
      "metadata": {
        "id": "HIqeRWwTgszU"
      },
      "source": [
        "**RESPUESTA 1**\r\n",
        "Grafico para distintos valores de num_past_elem:"
      ]
    },
    {
      "cell_type": "code",
      "metadata": {
        "id": "swCPhRzie3sH"
      },
      "source": [
        "modelDos = Net().to(device)\r\n",
        "optimizer = optim.SGD(model.parameters(), lr=0.01, momentum=0.9)"
      ],
      "execution_count": 58,
      "outputs": []
    },
    {
      "cell_type": "code",
      "metadata": {
        "id": "Wqzig4Ao_Zkh",
        "colab": {
          "base_uri": "https://localhost:8080/"
        },
        "outputId": "579645b4-d13b-46c4-bbd8-c565515d01b5"
      },
      "source": [
        "# Respuestas # \r\n",
        "lista_num_past_elem = [50, 500, 1000, 3000, 6000, 10000]\r\n",
        "\r\n",
        "avg_accuracies = []\r\n",
        "\r\n",
        "for num_past_elem in lista_num_past_elem:\r\n",
        "  rehe_accs = []\r\n",
        "  #num_past_elem = 1000 #50000 -> Dataset total\r\n",
        "\r\n",
        "  for id, task in enumerate(tasks):\r\n",
        "      avg_acc = 0\r\n",
        "      print(\"Training on task: \", id)\r\n",
        "    \r\n",
        "      (x_train, y_train), _ = task\r\n",
        "    \r\n",
        "      # for previous task\r\n",
        "      for i in range(id):\r\n",
        "          (past_x_train, past_y_train), _ = tasks[i]\r\n",
        "          idx = random.sample(list(range(len(past_y_train))), num_past_elem)\r\n",
        "          x_train = np.concatenate((x_train, past_x_train[idx]))\r\n",
        "          y_train = np.concatenate((y_train, past_y_train[idx]))\r\n",
        "    \r\n",
        "      x_train, y_train = shuffle_in_unison([x_train, y_train], 0)\r\n",
        "    \r\n",
        "      for epoch in range(1, num_epoch):\r\n",
        "          train(modelDos, device, x_train, y_train, optimizer, epoch)\r\n",
        "      \r\n",
        "      for id_test, task in enumerate(tasks):\r\n",
        "          print(\"Testing on task: \", id_test)\r\n",
        "          _, (x_test, y_test) = task\r\n",
        "          acc = test(modelDos, device, x_test, y_test)\r\n",
        "          avg_acc = avg_acc + acc\r\n",
        "    \r\n",
        "      print(\"Avg acc: \", avg_acc / len(tasks))\r\n",
        "      rehe_accs.append(avg_acc/len(tasks))\r\n",
        "\r\n",
        "  avg_accuracies.append( np.mean(rehe_accs))"
      ],
      "execution_count": 59,
      "outputs": [
        {
          "output_type": "stream",
          "text": [
            "Training on task:  0\n",
            "Train Epoch: 1 \tLoss: 2.271771\n",
            "Train Epoch: 2 \tLoss: 2.303206\n",
            "Testing on task:  0\n",
            "Test set: Average loss: 0.0092, Accuracy: 982/10000 (10%)\n",
            "\n",
            "Testing on task:  1\n",
            "Test set: Average loss: 0.0092, Accuracy: 982/10000 (10%)\n",
            "\n",
            "Testing on task:  2\n",
            "Test set: Average loss: 0.0092, Accuracy: 982/10000 (10%)\n",
            "\n",
            "Testing on task:  3\n",
            "Test set: Average loss: 0.0092, Accuracy: 982/10000 (10%)\n",
            "\n",
            "Testing on task:  4\n",
            "Test set: Average loss: 0.0092, Accuracy: 982/10000 (10%)\n",
            "\n",
            "Avg acc:  9.82\n",
            "Training on task:  1\n",
            "Train Epoch: 1 \tLoss: 2.300273\n",
            "Train Epoch: 2 \tLoss: 2.307965\n",
            "Testing on task:  0\n",
            "Test set: Average loss: 0.0092, Accuracy: 982/10000 (10%)\n",
            "\n",
            "Testing on task:  1\n",
            "Test set: Average loss: 0.0092, Accuracy: 982/10000 (10%)\n",
            "\n",
            "Testing on task:  2\n",
            "Test set: Average loss: 0.0092, Accuracy: 982/10000 (10%)\n",
            "\n",
            "Testing on task:  3\n",
            "Test set: Average loss: 0.0092, Accuracy: 982/10000 (10%)\n",
            "\n",
            "Testing on task:  4\n",
            "Test set: Average loss: 0.0092, Accuracy: 982/10000 (10%)\n",
            "\n",
            "Avg acc:  9.82\n",
            "Training on task:  2\n",
            "Train Epoch: 1 \tLoss: 2.296578\n",
            "Train Epoch: 2 \tLoss: 2.297435\n",
            "Testing on task:  0\n",
            "Test set: Average loss: 0.0092, Accuracy: 982/10000 (10%)\n",
            "\n",
            "Testing on task:  1\n",
            "Test set: Average loss: 0.0092, Accuracy: 982/10000 (10%)\n",
            "\n",
            "Testing on task:  2\n",
            "Test set: Average loss: 0.0092, Accuracy: 982/10000 (10%)\n",
            "\n",
            "Testing on task:  3\n",
            "Test set: Average loss: 0.0092, Accuracy: 982/10000 (10%)\n",
            "\n",
            "Testing on task:  4\n",
            "Test set: Average loss: 0.0092, Accuracy: 982/10000 (10%)\n",
            "\n",
            "Avg acc:  9.82\n",
            "Training on task:  3\n",
            "Train Epoch: 1 \tLoss: 2.297017\n",
            "Train Epoch: 2 \tLoss: 2.306146\n",
            "Testing on task:  0\n",
            "Test set: Average loss: 0.0092, Accuracy: 982/10000 (10%)\n",
            "\n",
            "Testing on task:  1\n",
            "Test set: Average loss: 0.0092, Accuracy: 982/10000 (10%)\n",
            "\n",
            "Testing on task:  2\n",
            "Test set: Average loss: 0.0092, Accuracy: 982/10000 (10%)\n",
            "\n",
            "Testing on task:  3\n",
            "Test set: Average loss: 0.0092, Accuracy: 982/10000 (10%)\n",
            "\n",
            "Testing on task:  4\n",
            "Test set: Average loss: 0.0092, Accuracy: 982/10000 (10%)\n",
            "\n",
            "Avg acc:  9.82\n",
            "Training on task:  4\n",
            "Train Epoch: 1 \tLoss: 2.305702\n",
            "Train Epoch: 2 \tLoss: 2.313165\n",
            "Testing on task:  0\n",
            "Test set: Average loss: 0.0092, Accuracy: 982/10000 (10%)\n",
            "\n",
            "Testing on task:  1\n",
            "Test set: Average loss: 0.0092, Accuracy: 982/10000 (10%)\n",
            "\n",
            "Testing on task:  2\n",
            "Test set: Average loss: 0.0092, Accuracy: 982/10000 (10%)\n",
            "\n",
            "Testing on task:  3\n",
            "Test set: Average loss: 0.0092, Accuracy: 982/10000 (10%)\n",
            "\n",
            "Testing on task:  4\n",
            "Test set: Average loss: 0.0092, Accuracy: 982/10000 (10%)\n",
            "\n",
            "Avg acc:  9.82\n",
            "Training on task:  0\n",
            "Train Epoch: 1 \tLoss: 2.278559\n",
            "Train Epoch: 2 \tLoss: 2.289820\n",
            "Testing on task:  0\n",
            "Test set: Average loss: 0.0092, Accuracy: 982/10000 (10%)\n",
            "\n",
            "Testing on task:  1\n",
            "Test set: Average loss: 0.0092, Accuracy: 982/10000 (10%)\n",
            "\n",
            "Testing on task:  2\n",
            "Test set: Average loss: 0.0092, Accuracy: 982/10000 (10%)\n",
            "\n",
            "Testing on task:  3\n",
            "Test set: Average loss: 0.0092, Accuracy: 982/10000 (10%)\n",
            "\n",
            "Testing on task:  4\n",
            "Test set: Average loss: 0.0092, Accuracy: 982/10000 (10%)\n",
            "\n",
            "Avg acc:  9.82\n",
            "Training on task:  1\n",
            "Train Epoch: 1 \tLoss: 2.288392\n",
            "Train Epoch: 2 \tLoss: 2.310489\n",
            "Testing on task:  0\n",
            "Test set: Average loss: 0.0092, Accuracy: 982/10000 (10%)\n",
            "\n",
            "Testing on task:  1\n",
            "Test set: Average loss: 0.0092, Accuracy: 982/10000 (10%)\n",
            "\n",
            "Testing on task:  2\n",
            "Test set: Average loss: 0.0092, Accuracy: 982/10000 (10%)\n",
            "\n",
            "Testing on task:  3\n",
            "Test set: Average loss: 0.0092, Accuracy: 982/10000 (10%)\n",
            "\n",
            "Testing on task:  4\n",
            "Test set: Average loss: 0.0092, Accuracy: 982/10000 (10%)\n",
            "\n",
            "Avg acc:  9.82\n",
            "Training on task:  2\n",
            "Train Epoch: 1 \tLoss: 2.297518\n",
            "Train Epoch: 2 \tLoss: 2.316686\n",
            "Testing on task:  0\n",
            "Test set: Average loss: 0.0092, Accuracy: 982/10000 (10%)\n",
            "\n",
            "Testing on task:  1\n",
            "Test set: Average loss: 0.0092, Accuracy: 982/10000 (10%)\n",
            "\n",
            "Testing on task:  2\n",
            "Test set: Average loss: 0.0092, Accuracy: 982/10000 (10%)\n",
            "\n",
            "Testing on task:  3\n",
            "Test set: Average loss: 0.0092, Accuracy: 982/10000 (10%)\n",
            "\n",
            "Testing on task:  4\n",
            "Test set: Average loss: 0.0092, Accuracy: 982/10000 (10%)\n",
            "\n",
            "Avg acc:  9.82\n",
            "Training on task:  3\n",
            "Train Epoch: 1 \tLoss: 2.372403\n",
            "Train Epoch: 2 \tLoss: 2.281730\n",
            "Testing on task:  0\n",
            "Test set: Average loss: 0.0092, Accuracy: 982/10000 (10%)\n",
            "\n",
            "Testing on task:  1\n",
            "Test set: Average loss: 0.0092, Accuracy: 982/10000 (10%)\n",
            "\n",
            "Testing on task:  2\n",
            "Test set: Average loss: 0.0092, Accuracy: 982/10000 (10%)\n",
            "\n",
            "Testing on task:  3\n",
            "Test set: Average loss: 0.0092, Accuracy: 982/10000 (10%)\n",
            "\n",
            "Testing on task:  4\n",
            "Test set: Average loss: 0.0092, Accuracy: 982/10000 (10%)\n",
            "\n",
            "Avg acc:  9.82\n",
            "Training on task:  4\n",
            "Train Epoch: 1 \tLoss: 2.302511\n",
            "Train Epoch: 2 \tLoss: 2.297638\n",
            "Testing on task:  0\n",
            "Test set: Average loss: 0.0092, Accuracy: 982/10000 (10%)\n",
            "\n",
            "Testing on task:  1\n",
            "Test set: Average loss: 0.0092, Accuracy: 982/10000 (10%)\n",
            "\n",
            "Testing on task:  2\n",
            "Test set: Average loss: 0.0092, Accuracy: 982/10000 (10%)\n",
            "\n",
            "Testing on task:  3\n",
            "Test set: Average loss: 0.0092, Accuracy: 982/10000 (10%)\n",
            "\n",
            "Testing on task:  4\n",
            "Test set: Average loss: 0.0092, Accuracy: 982/10000 (10%)\n",
            "\n",
            "Avg acc:  9.82\n",
            "Training on task:  0\n",
            "Train Epoch: 1 \tLoss: 2.277092\n",
            "Train Epoch: 2 \tLoss: 2.317871\n",
            "Testing on task:  0\n",
            "Test set: Average loss: 0.0092, Accuracy: 982/10000 (10%)\n",
            "\n",
            "Testing on task:  1\n",
            "Test set: Average loss: 0.0092, Accuracy: 982/10000 (10%)\n",
            "\n",
            "Testing on task:  2\n",
            "Test set: Average loss: 0.0092, Accuracy: 982/10000 (10%)\n",
            "\n",
            "Testing on task:  3\n",
            "Test set: Average loss: 0.0092, Accuracy: 982/10000 (10%)\n",
            "\n",
            "Testing on task:  4\n",
            "Test set: Average loss: 0.0092, Accuracy: 982/10000 (10%)\n",
            "\n",
            "Avg acc:  9.82\n",
            "Training on task:  1\n",
            "Train Epoch: 1 \tLoss: 2.315801\n",
            "Train Epoch: 2 \tLoss: 2.351072\n",
            "Testing on task:  0\n",
            "Test set: Average loss: 0.0092, Accuracy: 982/10000 (10%)\n",
            "\n",
            "Testing on task:  1\n",
            "Test set: Average loss: 0.0092, Accuracy: 982/10000 (10%)\n",
            "\n",
            "Testing on task:  2\n",
            "Test set: Average loss: 0.0092, Accuracy: 982/10000 (10%)\n",
            "\n",
            "Testing on task:  3\n",
            "Test set: Average loss: 0.0092, Accuracy: 982/10000 (10%)\n",
            "\n",
            "Testing on task:  4\n",
            "Test set: Average loss: 0.0092, Accuracy: 982/10000 (10%)\n",
            "\n",
            "Avg acc:  9.82\n",
            "Training on task:  2\n",
            "Train Epoch: 1 \tLoss: 2.303672\n",
            "Train Epoch: 2 \tLoss: 2.293159\n",
            "Testing on task:  0\n",
            "Test set: Average loss: 0.0092, Accuracy: 982/10000 (10%)\n",
            "\n",
            "Testing on task:  1\n",
            "Test set: Average loss: 0.0092, Accuracy: 982/10000 (10%)\n",
            "\n",
            "Testing on task:  2\n",
            "Test set: Average loss: 0.0092, Accuracy: 982/10000 (10%)\n",
            "\n",
            "Testing on task:  3\n",
            "Test set: Average loss: 0.0092, Accuracy: 982/10000 (10%)\n",
            "\n",
            "Testing on task:  4\n",
            "Test set: Average loss: 0.0092, Accuracy: 982/10000 (10%)\n",
            "\n",
            "Avg acc:  9.82\n",
            "Training on task:  3\n",
            "Train Epoch: 1 \tLoss: 2.311273\n",
            "Train Epoch: 2 \tLoss: 2.315068\n",
            "Testing on task:  0\n",
            "Test set: Average loss: 0.0092, Accuracy: 982/10000 (10%)\n",
            "\n",
            "Testing on task:  1\n",
            "Test set: Average loss: 0.0092, Accuracy: 982/10000 (10%)\n",
            "\n",
            "Testing on task:  2\n",
            "Test set: Average loss: 0.0092, Accuracy: 982/10000 (10%)\n",
            "\n",
            "Testing on task:  3\n",
            "Test set: Average loss: 0.0092, Accuracy: 982/10000 (10%)\n",
            "\n",
            "Testing on task:  4\n",
            "Test set: Average loss: 0.0092, Accuracy: 982/10000 (10%)\n",
            "\n",
            "Avg acc:  9.82\n",
            "Training on task:  4\n",
            "Train Epoch: 1 \tLoss: 2.307505\n",
            "Train Epoch: 2 \tLoss: 2.306012\n",
            "Testing on task:  0\n",
            "Test set: Average loss: 0.0092, Accuracy: 982/10000 (10%)\n",
            "\n",
            "Testing on task:  1\n",
            "Test set: Average loss: 0.0092, Accuracy: 982/10000 (10%)\n",
            "\n",
            "Testing on task:  2\n",
            "Test set: Average loss: 0.0092, Accuracy: 982/10000 (10%)\n",
            "\n",
            "Testing on task:  3\n",
            "Test set: Average loss: 0.0092, Accuracy: 982/10000 (10%)\n",
            "\n",
            "Testing on task:  4\n",
            "Test set: Average loss: 0.0092, Accuracy: 982/10000 (10%)\n",
            "\n",
            "Avg acc:  9.82\n",
            "Training on task:  0\n",
            "Train Epoch: 1 \tLoss: 2.291118\n",
            "Train Epoch: 2 \tLoss: 2.297784\n",
            "Testing on task:  0\n",
            "Test set: Average loss: 0.0092, Accuracy: 982/10000 (10%)\n",
            "\n",
            "Testing on task:  1\n",
            "Test set: Average loss: 0.0092, Accuracy: 982/10000 (10%)\n",
            "\n",
            "Testing on task:  2\n",
            "Test set: Average loss: 0.0092, Accuracy: 982/10000 (10%)\n",
            "\n",
            "Testing on task:  3\n",
            "Test set: Average loss: 0.0092, Accuracy: 982/10000 (10%)\n",
            "\n",
            "Testing on task:  4\n",
            "Test set: Average loss: 0.0092, Accuracy: 982/10000 (10%)\n",
            "\n",
            "Avg acc:  9.82\n",
            "Training on task:  1\n",
            "Train Epoch: 1 \tLoss: 2.313336\n",
            "Train Epoch: 2 \tLoss: 2.308307\n",
            "Testing on task:  0\n",
            "Test set: Average loss: 0.0092, Accuracy: 982/10000 (10%)\n",
            "\n",
            "Testing on task:  1\n",
            "Test set: Average loss: 0.0092, Accuracy: 982/10000 (10%)\n",
            "\n",
            "Testing on task:  2\n",
            "Test set: Average loss: 0.0092, Accuracy: 982/10000 (10%)\n",
            "\n",
            "Testing on task:  3\n",
            "Test set: Average loss: 0.0092, Accuracy: 982/10000 (10%)\n",
            "\n",
            "Testing on task:  4\n",
            "Test set: Average loss: 0.0092, Accuracy: 982/10000 (10%)\n",
            "\n",
            "Avg acc:  9.82\n",
            "Training on task:  2\n",
            "Train Epoch: 1 \tLoss: 2.299160\n",
            "Train Epoch: 2 \tLoss: 2.296145\n",
            "Testing on task:  0\n",
            "Test set: Average loss: 0.0092, Accuracy: 982/10000 (10%)\n",
            "\n",
            "Testing on task:  1\n",
            "Test set: Average loss: 0.0092, Accuracy: 982/10000 (10%)\n",
            "\n",
            "Testing on task:  2\n",
            "Test set: Average loss: 0.0092, Accuracy: 982/10000 (10%)\n",
            "\n",
            "Testing on task:  3\n",
            "Test set: Average loss: 0.0092, Accuracy: 982/10000 (10%)\n",
            "\n",
            "Testing on task:  4\n",
            "Test set: Average loss: 0.0092, Accuracy: 982/10000 (10%)\n",
            "\n",
            "Avg acc:  9.82\n",
            "Training on task:  3\n",
            "Train Epoch: 1 \tLoss: 2.301054\n",
            "Train Epoch: 2 \tLoss: 2.294795\n",
            "Testing on task:  0\n",
            "Test set: Average loss: 0.0092, Accuracy: 982/10000 (10%)\n",
            "\n",
            "Testing on task:  1\n",
            "Test set: Average loss: 0.0092, Accuracy: 982/10000 (10%)\n",
            "\n",
            "Testing on task:  2\n",
            "Test set: Average loss: 0.0092, Accuracy: 982/10000 (10%)\n",
            "\n",
            "Testing on task:  3\n",
            "Test set: Average loss: 0.0092, Accuracy: 982/10000 (10%)\n",
            "\n",
            "Testing on task:  4\n",
            "Test set: Average loss: 0.0092, Accuracy: 982/10000 (10%)\n",
            "\n",
            "Avg acc:  9.82\n",
            "Training on task:  4\n",
            "Train Epoch: 1 \tLoss: 2.313407\n",
            "Train Epoch: 2 \tLoss: 2.310687\n",
            "Testing on task:  0\n",
            "Test set: Average loss: 0.0092, Accuracy: 982/10000 (10%)\n",
            "\n",
            "Testing on task:  1\n",
            "Test set: Average loss: 0.0092, Accuracy: 982/10000 (10%)\n",
            "\n",
            "Testing on task:  2\n",
            "Test set: Average loss: 0.0092, Accuracy: 982/10000 (10%)\n",
            "\n",
            "Testing on task:  3\n",
            "Test set: Average loss: 0.0092, Accuracy: 982/10000 (10%)\n",
            "\n",
            "Testing on task:  4\n",
            "Test set: Average loss: 0.0092, Accuracy: 982/10000 (10%)\n",
            "\n",
            "Avg acc:  9.82\n",
            "Training on task:  0\n",
            "Train Epoch: 1 \tLoss: 2.304309\n",
            "Train Epoch: 2 \tLoss: 2.296455\n",
            "Testing on task:  0\n",
            "Test set: Average loss: 0.0092, Accuracy: 982/10000 (10%)\n",
            "\n",
            "Testing on task:  1\n",
            "Test set: Average loss: 0.0092, Accuracy: 982/10000 (10%)\n",
            "\n",
            "Testing on task:  2\n",
            "Test set: Average loss: 0.0092, Accuracy: 982/10000 (10%)\n",
            "\n",
            "Testing on task:  3\n",
            "Test set: Average loss: 0.0092, Accuracy: 982/10000 (10%)\n",
            "\n",
            "Testing on task:  4\n",
            "Test set: Average loss: 0.0092, Accuracy: 982/10000 (10%)\n",
            "\n",
            "Avg acc:  9.82\n",
            "Training on task:  1\n",
            "Train Epoch: 1 \tLoss: 2.309668\n",
            "Train Epoch: 2 \tLoss: 2.311143\n",
            "Testing on task:  0\n",
            "Test set: Average loss: 0.0092, Accuracy: 982/10000 (10%)\n",
            "\n",
            "Testing on task:  1\n",
            "Test set: Average loss: 0.0092, Accuracy: 982/10000 (10%)\n",
            "\n",
            "Testing on task:  2\n",
            "Test set: Average loss: 0.0092, Accuracy: 982/10000 (10%)\n",
            "\n",
            "Testing on task:  3\n",
            "Test set: Average loss: 0.0092, Accuracy: 982/10000 (10%)\n",
            "\n",
            "Testing on task:  4\n",
            "Test set: Average loss: 0.0092, Accuracy: 982/10000 (10%)\n",
            "\n",
            "Avg acc:  9.82\n",
            "Training on task:  2\n",
            "Train Epoch: 1 \tLoss: 2.336158\n",
            "Train Epoch: 2 \tLoss: 2.291242\n",
            "Testing on task:  0\n",
            "Test set: Average loss: 0.0092, Accuracy: 982/10000 (10%)\n",
            "\n",
            "Testing on task:  1\n",
            "Test set: Average loss: 0.0092, Accuracy: 982/10000 (10%)\n",
            "\n",
            "Testing on task:  2\n",
            "Test set: Average loss: 0.0092, Accuracy: 982/10000 (10%)\n",
            "\n",
            "Testing on task:  3\n",
            "Test set: Average loss: 0.0092, Accuracy: 982/10000 (10%)\n",
            "\n",
            "Testing on task:  4\n",
            "Test set: Average loss: 0.0092, Accuracy: 982/10000 (10%)\n",
            "\n",
            "Avg acc:  9.82\n",
            "Training on task:  3\n",
            "Train Epoch: 1 \tLoss: 2.311812\n",
            "Train Epoch: 2 \tLoss: 2.305434\n",
            "Testing on task:  0\n",
            "Test set: Average loss: 0.0092, Accuracy: 982/10000 (10%)\n",
            "\n",
            "Testing on task:  1\n",
            "Test set: Average loss: 0.0092, Accuracy: 982/10000 (10%)\n",
            "\n",
            "Testing on task:  2\n",
            "Test set: Average loss: 0.0092, Accuracy: 982/10000 (10%)\n",
            "\n",
            "Testing on task:  3\n",
            "Test set: Average loss: 0.0092, Accuracy: 982/10000 (10%)\n",
            "\n",
            "Testing on task:  4\n",
            "Test set: Average loss: 0.0092, Accuracy: 982/10000 (10%)\n",
            "\n",
            "Avg acc:  9.82\n",
            "Training on task:  4\n",
            "Train Epoch: 1 \tLoss: 2.294766\n",
            "Train Epoch: 2 \tLoss: 2.297227\n",
            "Testing on task:  0\n",
            "Test set: Average loss: 0.0092, Accuracy: 982/10000 (10%)\n",
            "\n",
            "Testing on task:  1\n",
            "Test set: Average loss: 0.0092, Accuracy: 982/10000 (10%)\n",
            "\n",
            "Testing on task:  2\n",
            "Test set: Average loss: 0.0092, Accuracy: 982/10000 (10%)\n",
            "\n",
            "Testing on task:  3\n",
            "Test set: Average loss: 0.0092, Accuracy: 982/10000 (10%)\n",
            "\n",
            "Testing on task:  4\n",
            "Test set: Average loss: 0.0092, Accuracy: 982/10000 (10%)\n",
            "\n",
            "Avg acc:  9.82\n",
            "Training on task:  0\n",
            "Train Epoch: 1 \tLoss: 2.301719\n",
            "Train Epoch: 2 \tLoss: 2.302952\n",
            "Testing on task:  0\n",
            "Test set: Average loss: 0.0092, Accuracy: 982/10000 (10%)\n",
            "\n",
            "Testing on task:  1\n",
            "Test set: Average loss: 0.0092, Accuracy: 982/10000 (10%)\n",
            "\n",
            "Testing on task:  2\n",
            "Test set: Average loss: 0.0092, Accuracy: 982/10000 (10%)\n",
            "\n",
            "Testing on task:  3\n",
            "Test set: Average loss: 0.0092, Accuracy: 982/10000 (10%)\n",
            "\n",
            "Testing on task:  4\n",
            "Test set: Average loss: 0.0092, Accuracy: 982/10000 (10%)\n",
            "\n",
            "Avg acc:  9.82\n",
            "Training on task:  1\n",
            "Train Epoch: 1 \tLoss: 2.330946\n",
            "Train Epoch: 2 \tLoss: 2.309276\n",
            "Testing on task:  0\n",
            "Test set: Average loss: 0.0092, Accuracy: 982/10000 (10%)\n",
            "\n",
            "Testing on task:  1\n",
            "Test set: Average loss: 0.0092, Accuracy: 982/10000 (10%)\n",
            "\n",
            "Testing on task:  2\n",
            "Test set: Average loss: 0.0092, Accuracy: 982/10000 (10%)\n",
            "\n",
            "Testing on task:  3\n",
            "Test set: Average loss: 0.0092, Accuracy: 982/10000 (10%)\n",
            "\n",
            "Testing on task:  4\n",
            "Test set: Average loss: 0.0092, Accuracy: 982/10000 (10%)\n",
            "\n",
            "Avg acc:  9.82\n",
            "Training on task:  2\n",
            "Train Epoch: 1 \tLoss: 2.304777\n",
            "Train Epoch: 2 \tLoss: 2.310561\n",
            "Testing on task:  0\n",
            "Test set: Average loss: 0.0092, Accuracy: 982/10000 (10%)\n",
            "\n",
            "Testing on task:  1\n",
            "Test set: Average loss: 0.0092, Accuracy: 982/10000 (10%)\n",
            "\n",
            "Testing on task:  2\n",
            "Test set: Average loss: 0.0092, Accuracy: 982/10000 (10%)\n",
            "\n",
            "Testing on task:  3\n",
            "Test set: Average loss: 0.0092, Accuracy: 982/10000 (10%)\n",
            "\n",
            "Testing on task:  4\n",
            "Test set: Average loss: 0.0092, Accuracy: 982/10000 (10%)\n",
            "\n",
            "Avg acc:  9.82\n",
            "Training on task:  3\n",
            "Train Epoch: 1 \tLoss: 2.279501\n",
            "Train Epoch: 2 \tLoss: 2.283339\n",
            "Testing on task:  0\n",
            "Test set: Average loss: 0.0092, Accuracy: 982/10000 (10%)\n",
            "\n",
            "Testing on task:  1\n",
            "Test set: Average loss: 0.0092, Accuracy: 982/10000 (10%)\n",
            "\n",
            "Testing on task:  2\n",
            "Test set: Average loss: 0.0092, Accuracy: 982/10000 (10%)\n",
            "\n",
            "Testing on task:  3\n",
            "Test set: Average loss: 0.0092, Accuracy: 982/10000 (10%)\n",
            "\n",
            "Testing on task:  4\n",
            "Test set: Average loss: 0.0092, Accuracy: 982/10000 (10%)\n",
            "\n",
            "Avg acc:  9.82\n",
            "Training on task:  4\n",
            "Train Epoch: 1 \tLoss: 2.300453\n",
            "Train Epoch: 2 \tLoss: 2.289280\n",
            "Testing on task:  0\n",
            "Test set: Average loss: 0.0092, Accuracy: 982/10000 (10%)\n",
            "\n",
            "Testing on task:  1\n",
            "Test set: Average loss: 0.0092, Accuracy: 982/10000 (10%)\n",
            "\n",
            "Testing on task:  2\n",
            "Test set: Average loss: 0.0092, Accuracy: 982/10000 (10%)\n",
            "\n",
            "Testing on task:  3\n",
            "Test set: Average loss: 0.0092, Accuracy: 982/10000 (10%)\n",
            "\n",
            "Testing on task:  4\n",
            "Test set: Average loss: 0.0092, Accuracy: 982/10000 (10%)\n",
            "\n",
            "Avg acc:  9.82\n"
          ],
          "name": "stdout"
        }
      ]
    },
    {
      "cell_type": "code",
      "metadata": {
        "colab": {
          "base_uri": "https://localhost:8080/",
          "height": 283
        },
        "id": "TWw_QR9pfVkk",
        "outputId": "df5a0a2b-e0f1-4be6-8618-dad7d43220c1"
      },
      "source": [
        "import matplotlib.pyplot as plt\r\n",
        "\r\n",
        "plt.scatter(lista_num_past_elem, avg_accuracies)"
      ],
      "execution_count": 49,
      "outputs": [
        {
          "output_type": "execute_result",
          "data": {
            "text/plain": [
              "<matplotlib.collections.PathCollection at 0x7f6d0cc9ff90>"
            ]
          },
          "metadata": {
            "tags": []
          },
          "execution_count": 49
        },
        {
          "output_type": "display_data",
          "data": {
            "image/png": "[encoded data removed]",
            "text/plain": [
              "<Figure size 432x288 with 1 Axes>"
            ]
          },
          "metadata": {
            "tags": [],
            "needs_background": "light"
          }
        }
      ]
    },
    {
      "cell_type": "markdown",
      "metadata": {
        "id": "9OJjQ5bOhlke"
      },
      "source": [
        "El grafico muestra que el accuracy promedio (eje Y) aumenta poco a poco a medida que aumentamos Num_Past_Elem (eje X)"
      ]
    },
    {
      "cell_type": "markdown",
      "metadata": {
        "id": "8n0B9gVfg1i7"
      },
      "source": [
        "**RESPUESTA 2**\r\n",
        "memoria vs accuracy:"
      ]
    },
    {
      "cell_type": "code",
      "metadata": {
        "colab": {
          "base_uri": "https://localhost:8080/"
        },
        "id": "VMZ__n2sg624",
        "outputId": "c72198d8-8087-4ecf-ec67-829243ace2b9"
      },
      "source": [
        "import sys\r\n",
        "print( sys.getsizeof(modelOG) )\r\n"
      ],
      "execution_count": 63,
      "outputs": [
        {
          "output_type": "stream",
          "text": [
            "64\n"
          ],
          "name": "stdout"
        }
      ]
    },
    {
      "cell_type": "code",
      "metadata": {
        "colab": {
          "base_uri": "https://localhost:8080/"
        },
        "id": "zCYCAu5jhaHL",
        "outputId": "316a890c-3a8f-4b2b-f4fe-7df7be880c45"
      },
      "source": [
        "print( sys.getsizeof(modelDos))"
      ],
      "execution_count": 60,
      "outputs": [
        {
          "output_type": "stream",
          "text": [
            "64\n"
          ],
          "name": "stdout"
        }
      ]
    },
    {
      "cell_type": "markdown",
      "metadata": {
        "id": "NdxVeUUih2NK"
      },
      "source": [
        "Ambos modelos me dieron el mismo valor, al usar getsizeof(). "
      ]
    },
    {
      "cell_type": "markdown",
      "metadata": {
        "id": "_mItp4M2i2JS"
      },
      "source": [
        "**RESPUESTA 3**\r\n",
        "Se usa el shuffle para evitar que el modelo memorize los datos simplemente por su ubicación entre la tarea actual y la pasada."
      ]
    },
    {
      "cell_type": "markdown",
      "metadata": {
        "id": "AqofPHt01Zog"
      },
      "source": [
        "## Elastic Weights Consolidation (EWC) Strategy\n",
        "\n",
        "Como vimos en clases, EWC es una estrategia que se propuso en: \"[Overcoming catastrophic forgetting in neural networks](https://arxiv.org/abs/1612.00796)\".\n",
        " \n",
        "Este método busca penalizar la modificación de ciertos pesos relevantes para tareas anteriores y que al modificarlos pueden provocar una reducción del rendimiento de estas tareas. Los pesos importantes se encuentran mediante la información de la matriz de Fisher, que se puede aproximar con el valor del gradiente al cuadrado.\n",
        " \n",
        "Este método tiene la gran ventaja de que no necesita guardar elementos de tareas anteriores, lo cual lo hace eficiente con el uso de la memoria."
      ]
    },
    {
      "cell_type": "code",
      "metadata": {
        "id": "e9iry5W56xtO"
      },
      "source": [
        "fisher_dict = {}\n",
        "optpar_dict = {}\n",
        "ewc_lambda = 0.4"
      ],
      "execution_count": 19,
      "outputs": []
    },
    {
      "cell_type": "code",
      "metadata": {
        "id": "0ZlyqcICEps_"
      },
      "source": [
        "model = Net().to(device)\n",
        "optimizer = optim.SGD(model.parameters(), lr=0.01, momentum=0.9)"
      ],
      "execution_count": 20,
      "outputs": []
    },
    {
      "cell_type": "markdown",
      "metadata": {
        "id": "Clm_QFF12mO9"
      },
      "source": [
        "Necesitamos una función que nos entregue la importancia de cada peso para cada una de las tareas, ya que como podemos ver en la siguiente ecuación:\n",
        " \n",
        "> $L_{EWC} = \\sum_i \\frac{\\lambda}{2} F_i (\\theta_i - \\theta_{A,i}^*) $\n",
        " \n",
        "Cada peso tiene un valor asociado, si este valor es alto implica que es un peso importante y cambiarlo mucho aumentaría el valor de la función de pérdida.\n",
        "\n",
        "Tal como dijimos en clases, el valor de $F_i$ se puede aproximar con el gradiente:\n",
        " \n",
        "> $ F_i =  g_i^2 $\n"
      ]
    },
    {
      "cell_type": "code",
      "metadata": {
        "id": "iEmBNkaO1Ykq"
      },
      "source": [
        "def on_task_update(task_id, x_mem, t_mem):\n",
        "\n",
        "  model.train()\n",
        "  optimizer.zero_grad()\n",
        "  \n",
        "  # accumulating gradients\n",
        "  for start in range(0, len(t_mem)-1, 256):\n",
        "      end = start + 256\n",
        "      x, y = torch.from_numpy(x_mem[start:end]), torch.from_numpy(t_mem[start:end]).long()\n",
        "      x, y = x.to(device), y.to(device)\n",
        "      output = model(x)\n",
        "      loss = F.cross_entropy(output, y)\n",
        "      loss.backward()\n",
        "\n",
        "  fisher_dict[task_id] = {}\n",
        "  optpar_dict[task_id] = {}\n",
        "\n",
        "  # gradients accumulated can be used to calculate fisher\n",
        "  for name, param in model.named_parameters():\n",
        "    \n",
        "      optpar_dict[task_id][name] = param.data.clone()\n",
        "      fisher_dict[task_id][name] = param.grad.data.clone().pow(2)"
      ],
      "execution_count": 21,
      "outputs": []
    },
    {
      "cell_type": "markdown",
      "metadata": {
        "id": "2hGp0Qsf2wa-"
      },
      "source": [
        "Como es una estrategia de regularización, necesitamos cambiar nuestra función de pérdida para agregar el el valor descrito anteriormente:\n",
        " \n",
        "> $ L = L_T + L_{EWC} $\n"
      ]
    },
    {
      "cell_type": "code",
      "metadata": {
        "id": "IorTFus1Gs5H"
      },
      "source": [
        "def train_ewc(model, device, task_id, x_train, t_train, optimizer, epoch, ewc_lambda):\n",
        "    model.train()\n",
        "\n",
        "    for start in range(0, len(t_train)-1, 256):\n",
        "        end = start + 256\n",
        "        x, y = torch.from_numpy(x_train[start:end]), torch.from_numpy(t_train[start:end]).long()\n",
        "        x, y = x.to(device), y.to(device)\n",
        "      \n",
        "        optimizer.zero_grad()\n",
        "\n",
        "        output = model(x)\n",
        "        loss = F.cross_entropy(output, y)\n",
        "      \n",
        "        ### EWC! :-)\n",
        "        for task in range(task_id):\n",
        "            for name, param in model.named_parameters():\n",
        "                fisher = fisher_dict[task][name]\n",
        "                optpar = optpar_dict[task][name]\n",
        "                loss += (fisher * (optpar - param).pow(2)).sum() * ewc_lambda\n",
        "      \n",
        "        loss.backward()\n",
        "        optimizer.step()\n",
        "        #print(loss.item())\n",
        "    print('Train Epoch: {} \\tLoss: {:.6f}'.format(epoch, loss.item()))"
      ],
      "execution_count": 24,
      "outputs": []
    },
    {
      "cell_type": "markdown",
      "metadata": {
        "id": "u754qi423EEc"
      },
      "source": [
        "Con el método y las funciones ya definidas, solo nos queda entrenar nuestro modelo."
      ]
    },
    {
      "cell_type": "code",
      "metadata": {
        "id": "IkUCo4C6-QpT"
      },
      "source": [
        "ewc_accs = []\n",
        "for id, task in enumerate(tasks):\n",
        "    avg_acc = 0\n",
        "    print(\"Training on task: \", id)\n",
        "  \n",
        "    (x_train, y_train), _ = task\n",
        "  \n",
        "    for epoch in range(1, 3):\n",
        "        train_ewc(model, device, id, x_train, y_train, optimizer, epoch)\n",
        "    on_task_update(id, x_train, y_train)\n",
        "    \n",
        "    for id_test, task in enumerate(tasks):\n",
        "        print(\"Testing on task: \", id_test)\n",
        "        _, (x_test, y_test) = task\n",
        "        acc = test(model, device, x_test, y_test)\n",
        "        avg_acc = avg_acc + acc\n",
        "   \n",
        "    print(\"Avg acc: \", avg_acc / 3)\n",
        "    ewc_accs.append(avg_acc / 3)"
      ],
      "execution_count": null,
      "outputs": []
    },
    {
      "cell_type": "code",
      "metadata": {
        "colab": {
          "base_uri": "https://localhost:8080/"
        },
        "id": "Obuwz_t02msT",
        "outputId": "96785e78-d37d-459c-a16b-2d7dbfccbdc8"
      },
      "source": [
        "ewc_accs"
      ],
      "execution_count": 25,
      "outputs": [
        {
          "output_type": "execute_result",
          "data": {
            "text/plain": [
              "[36.71666666666666, 48.903333333333336, 57.95333333333334]"
            ]
          },
          "metadata": {
            "tags": []
          },
          "execution_count": 25
        }
      ]
    },
    {
      "cell_type": "markdown",
      "metadata": {
        "id": "LcDrwMVb5HX6"
      },
      "source": [
        "### Actividad Práctica 3\n",
        " \n",
        "* Graficar el accuracy promedio con diferentes valores de lambda. Explique los resultados.\n",
        "* Compare la memoria extra utilizada por la estrategia de Rehersal (con 500 elementos por tarea) con lo utilizado por EWC. Explique el procedimiento y resultados, comparandolo con el mejor lambda obtenido en el punto anterior."
      ]
    },
    {
      "cell_type": "code",
      "metadata": {
        "id": "l_sUCC_V3JjE"
      },
      "source": [
        "model = Net().to(device)\r\n",
        "optimizer = optim.SGD(model.parameters(), lr=0.01, momentum=0.9)"
      ],
      "execution_count": 26,
      "outputs": []
    },
    {
      "cell_type": "code",
      "metadata": {
        "id": "JM0wkaCn0FrS"
      },
      "source": [
        "# Resultados #\r\n",
        "lambda_list = [0, 0.1, 0.4, 0.8, 1. , 2., 5. , 10.]\r\n",
        "\r\n",
        "avg_accurarers = []\r\n",
        "for lambdav in lambda_list:\r\n",
        "  \r\n",
        "  ewc_accs = []\r\n",
        "  for id, task in enumerate(tasks):\r\n",
        "      avg_acc = 0\r\n",
        "      print(\"Training on task: \", id)\r\n",
        "    \r\n",
        "      (x_train, y_train), _ = task\r\n",
        "    \r\n",
        "      for epoch in range(1, 3):\r\n",
        "          train_ewc(model, device, id, x_train, y_train, optimizer, epoch, lambdav)\r\n",
        "      on_task_update(id, x_train, y_train)\r\n",
        "      \r\n",
        "      for id_test, task in enumerate(tasks):\r\n",
        "          print(\"Testing on task: \", id_test)\r\n",
        "          _, (x_test, y_test) = task\r\n",
        "          acc = test(model, device, x_test, y_test)\r\n",
        "          avg_acc = avg_acc + acc\r\n",
        "    \r\n",
        "      print(\"Avg acc: \", avg_acc / 3)\r\n",
        "      ewc_accs.append(avg_acc / 3)\r\n",
        "\r\n",
        "  avg_accurarers.append( np.mean( ewc_accs))"
      ],
      "execution_count": null,
      "outputs": []
    },
    {
      "cell_type": "code",
      "metadata": {
        "colab": {
          "base_uri": "https://localhost:8080/",
          "height": 296
        },
        "id": "y9KHLFi93dLm",
        "outputId": "06ff1621-f635-4427-b7d5-c3f2a36b0982"
      },
      "source": [
        "plt.scatter(lambda_list, avg_accurarers)\r\n",
        "plt.xlabel('lambdas')\r\n",
        "plt.xlabel('accuracy promedio')"
      ],
      "execution_count": 29,
      "outputs": [
        {
          "output_type": "execute_result",
          "data": {
            "text/plain": [
              "Text(0.5, 0, 'accuracy promedio')"
            ]
          },
          "metadata": {
            "tags": []
          },
          "execution_count": 29
        },
        {
          "output_type": "display_data",
          "data": {
            "image/png": "[encoded data removed]",
            "text/plain": [
              "<Figure size 432x288 with 1 Axes>"
            ]
          },
          "metadata": {
            "tags": [],
            "needs_background": "light"
          }
        }
      ]
    },
    {
      "cell_type": "markdown",
      "metadata": {
        "id": "5sVziCSU3xKq"
      },
      "source": [
        "**RESPUESTA 1** \r\n",
        "Interesantemente, hay un valor de lambda optimo donde el accuracy promedio es maximo. A mayor lambda que ese maximo empieza a bajar el accuracy. Es razonable ya que a mayor lambda, mayor importancia se le da a cada peso. Por esto si el lambda es muy grande, entonces muchos pesos se consideran importantes y no se cambian, por lo que la red no aprende nuevas tareas sino que se queda con los pesos de las tareas antiguas. "
      ]
    },
    {
      "cell_type": "markdown",
      "metadata": {
        "id": "LL84MqRR4XCY"
      },
      "source": [
        "**RESPUESTA 2** la funcion getsizeof muestra que este nuevo modelo tambien vale 64, como lo vimos en los ejercicios anteriores. "
      ]
    },
    {
      "cell_type": "code",
      "metadata": {
        "colab": {
          "base_uri": "https://localhost:8080/"
        },
        "id": "s5lr8bU-4c4N",
        "outputId": "ccf735ae-3b8d-4e98-8aed-3ef5870c3dd5"
      },
      "source": [
        "import sys\r\n",
        "sys.getsizeof(model)"
      ],
      "execution_count": 31,
      "outputs": [
        {
          "output_type": "execute_result",
          "data": {
            "text/plain": [
              "64"
            ]
          },
          "metadata": {
            "tags": []
          },
          "execution_count": 31
        }
      ]
    },
    {
      "cell_type": "markdown",
      "metadata": {
        "id": "o3SM7U5fwTqV"
      },
      "source": [
        "## Comparación de Resultados\n",
        " \n",
        "Para una mejor comparación de los métodos que vimos hoy en el laboratorio, vamos a graficar los resultados del accuracy promedio obtenido por los diferentes métodos, después de entrenar cada una de las tareas.\n",
        " \n",
        "Con este gráfico estamos diciendo que no solo es importante no olvidar, sino que el poder aprender pesos que puedan servir a tareas futuras también es relevante.\n",
        "\n"
      ]
    },
    {
      "cell_type": "code",
      "metadata": {
        "id": "sIQEVVpDwPP5",
        "colab": {
          "base_uri": "https://localhost:8080/",
          "height": 300
        },
        "outputId": "a81fb77b-1342-4aab-fd93-7d797c83864f"
      },
      "source": [
        "plt.plot([1, 2, 3], naive_accs, '-o', label=\"Naive\")\n",
        "plt.plot([1, 2, 3], rehe_accs, '-o', label=\"Rehearsal\")\n",
        "plt.plot([1, 2, 3], ewc_accs, '-o', label=\"EWC\")\n",
        "plt.xlabel('Tasks Encountered', fontsize=14)\n",
        "plt.ylabel('Average Accuracy', fontsize=14)\n",
        "plt.title('CL Strategies Comparison on MNSIT', fontsize=14);\n",
        "plt.xticks([1, 2, 3])\n",
        "plt.legend(prop={'size': 16});"
      ],
      "execution_count": 33,
      "outputs": [
        {
          "output_type": "display_data",
          "data": {
            "image/png": "[encoded data removed]",
            "text/plain": [
              "<Figure size 432x288 with 1 Axes>"
            ]
          },
          "metadata": {
            "tags": [],
            "needs_background": "light"
          }
        }
      ]
    },
    {
      "cell_type": "markdown",
      "metadata": {
        "id": "9x1D3O7iunxS"
      },
      "source": [
        "### Actividad Práctica 4\n",
        " \n",
        "*  Explique y haga una comparación entre los diferentes métodos mostrados en el gráfico anterior.\n",
        "*  De ejemplos donde es mejor un método u otro. Explique sus razones."
      ]
    },
    {
      "cell_type": "markdown",
      "metadata": {
        "id": "CBwT0ciD4z6V"
      },
      "source": [
        "**RESPUESTA**\r\n",
        "El metodo Naive tiene el peor accuracy promedio porque cada vez que se entrena con una nueva tarea, se olvida de los pesos de las tareas anteriores. No es muy bueno aprendiendo nuevas tareas y manteniendo el accuracy de las tareas anteriores.\r\n",
        "\r\n",
        "El metodo Rehearsal es mejor que Naive porque, al guardar algo de la data de la tarea anterior, al entrenarse con la data de la nueva tarea, parte de la data es de la tarea anterior. De esta manera se evita perder demasiado de los pesos de la tarea anterior. Por eso el accuracy promedio es mejor que en Naive.\r\n",
        "\r\n",
        "El metodo EWC es el mejor de todos porque explicitamente busca los pesos mas importantes de la tarea anterior, y los guarda. De esta manera al entrenar en nuevas tareas, se mantienen los pesos importantes de tareas anteriores. Por eso EWC tiene el mejor accuracy promedio de los 3 metodos.\r\n",
        "\r\n",
        "**EJEMPLOS** Naive seria mejor que el resto si en realidad lo unico que importa es aprender bien la nueva tarea, y las tareas anteriores ya no son relevantes. En este caso Naive seria mejor ya que todos los pesos se ajustan a la nueva tarea.\r\n",
        "EWC es mejor cuando es importante que el modelo sea bueno en ambas la tarea nueva y las tareas anteriores.\r\n",
        "Rehersal es un buen balance entre ambos."
      ]
    },
    {
      "cell_type": "markdown",
      "metadata": {
        "id": "Utw692SaE9dv"
      },
      "source": [
        "# Privacidad\n",
        " \n",
        "Uno de los factores más importantes en el mundo de hoy es la privacidad de los datos. Queremos que nuestros datos no sean compartidos con terceros, y si lo son, que estos sean compartidos de tal forma que no sea posible identificar lo que dicen a simple vista.\n",
        " \n",
        "Tal como conversamos en clases, y hemos visto en este laboratorio, existen métodos que logran buenos resultados pero necesitan datos de las tareas anteriores para poder recordar la distribución que estos tenían.\n",
        " \n",
        "Una alternativa a utilizar los datos duros del input, es utilizar un descriptor intermedio del modelo. Para esto debemos modificar el modelo para que nos devuelva un descriptor intermedio, y utilizar este para recordar tareas pasadas."
      ]
    },
    {
      "cell_type": "code",
      "metadata": {
        "id": "Wo44udHZJzZ2"
      },
      "source": [
        "class Net(nn.Module):\n",
        "    def __init__(self):\n",
        "        super(Net, self).__init__()\n",
        "        self.conv1 = nn.Conv2d(1, 10, kernel_size=5)\n",
        "        self.conv2 = nn.Conv2d(10, 20, kernel_size=5)\n",
        "        self.conv2_drop = nn.Dropout2d()\n",
        "        self.fc1 = nn.Linear(320, 50)\n",
        "        self.fc2 = nn.Linear(50, 10)\n",
        "\n",
        "    def forward(self, x):\n",
        "        if x.size(1) != 320:\n",
        "            x = F.relu(F.max_pool2d(self.conv1(x), 2))\n",
        "            x = F.relu(F.max_pool2d(self.conv2_drop(self.conv2(x)), 2))\n",
        "            x = x.view(-1, 320)\n",
        "        feats = x.clone()\n",
        "        x = F.relu(self.fc1(x))\n",
        "        x = F.dropout(x, training=self.training)\n",
        "        x = self.fc2(x)\n",
        "        return x, feats"
      ],
      "execution_count": 32,
      "outputs": []
    },
    {
      "cell_type": "markdown",
      "metadata": {
        "id": "4tNI6IMWXuWG"
      },
      "source": [
        "Al igual que el modelo, las funciones de entrenamiento deben cambiar para poder adaptarse al nuevo proceso, para aceptar inputs de diferentes tamaños. Por un lado vamos a tener los elementos de la tarea actual, y por otro lado los descriptores intermedios de las tareas anteriores."
      ]
    },
    {
      "cell_type": "code",
      "metadata": {
        "id": "vuDJEKY1KXaH"
      },
      "source": [
        "def train_private(model, device, x_train, y_train, past_x, past_y, optimizer, epoch, prob = 0.5):\n",
        "    model.train()\n",
        "    feats_vects = []\n",
        "    total_iter = int((len(y_train))/256) + int(len(past_y)/256)\n",
        "    s_pres = 0\n",
        "    s_past = 0\n",
        "    for _ in range(total_iter+1):\n",
        "        num = random.random()\n",
        "        if (num < prob and s_pres < len(y_train)) or s_past >= len(past_y):\n",
        "            start = s_pres\n",
        "            end = start + 256\n",
        "            x, y = torch.from_numpy(x_train[start:end]), torch.from_numpy(y_train[start:end]).long()\n",
        "            s_pres += 256\n",
        "        else:\n",
        "            start = s_past\n",
        "            end = start + 256\n",
        "            x, y = torch.from_numpy(past_x[start:end]), torch.from_numpy(past_y[start:end]).long()\n",
        "            s_past += 256\n",
        "        x, y = x.to(device), y.to(device)\n",
        "      \n",
        "        optimizer.zero_grad()\n",
        "\n",
        "        output, feats = model(x)\n",
        "        loss = F.cross_entropy(output, y)\n",
        "        loss.backward()\n",
        "        optimizer.step()\n",
        "        if (num < prob and s_pres < len(y_train)) or s_past >= len(past_y):\n",
        "            feats_vects.extend(feats.cpu().detach().numpy())\n",
        "    print('Train Epoch: {} \\tLoss: {:.6f}'.format(epoch, loss.item()))\n",
        "    return feats_vects\n",
        "\n",
        "def test_private(model, device, x_test, y_test):\n",
        "    model.eval()\n",
        "    test_loss = 0\n",
        "    correct = 0\n",
        "    for start in range(0, len(y_test)-1, 256):\n",
        "       end = start + 256\n",
        "       with torch.no_grad():\n",
        "          x, y = torch.from_numpy(x_test[start:end]), torch.from_numpy(y_test[start:end]).long()\n",
        "          x, y = x.to(device), y.to(device)\n",
        "          output,_ = model(x)\n",
        "          test_loss += F.cross_entropy(output, y).item() # sum up batch loss\n",
        "          pred = output.max(1, keepdim=True)[1] # get the index of the max logit\n",
        "          correct += pred.eq(y.view_as(pred)).sum().item()\n",
        "\n",
        "    test_loss /= len(y_test)\n",
        "    print('Test set: Average loss: {:.4f}, Accuracy: {}/{} ({:.0f}%)\\n'.format(\n",
        "        test_loss, correct, len(y_test),\n",
        "        100. * correct / len(y_test)))\n",
        "    return 100. * correct / len(y_test)"
      ],
      "execution_count": 33,
      "outputs": []
    },
    {
      "cell_type": "markdown",
      "metadata": {
        "id": "dPwh8fA2Zj7X"
      },
      "source": [
        "Tal como los procesos anteriores, debemos inicializar el modelo para que no tenga información adquirida por procesos anteriores."
      ]
    },
    {
      "cell_type": "code",
      "metadata": {
        "id": "NEHyvKeDK6_T"
      },
      "source": [
        "model = Net().to(device)\n",
        "optimizer = optim.SGD(model.parameters(), lr=0.01, momentum=0.9)"
      ],
      "execution_count": 34,
      "outputs": []
    },
    {
      "cell_type": "code",
      "metadata": {
        "id": "BB_stZ_XK4gz",
        "colab": {
          "base_uri": "https://localhost:8080/"
        },
        "outputId": "edf1d988-b677-40a2-fe01-d682ccc0a830"
      },
      "source": [
        "import random\n",
        "\n",
        "rehe_accs_priv = []\n",
        "num_past_elem = 1000\n",
        "feats_tasks = []\n",
        "\n",
        "for id, task in enumerate(tasks):\n",
        "    avg_acc = 0\n",
        "    print(\"Training on task: \", id)\n",
        "  \n",
        "    (x_train, y_train), _ = task\n",
        "  \n",
        "    # for previous task\n",
        "    past_x_train, past_y_train = [], []\n",
        "    for i in range(id):\n",
        "        (past_x, past_y) = feats_tasks[i]\n",
        "        idx = random.sample(list(range(len(past_y))), num_past_elem)\n",
        "        past_x_train.extend(past_x[idx])\n",
        "        past_y_train.extend(past_y[idx])\n",
        "\n",
        "    past_x_train = np.array(past_x_train)\n",
        "    past_y_train = np.array(past_y_train)\n",
        "\n",
        "    for epoch in range(1, num_epoch):\n",
        "        feats = train_private(model, device, x_train, y_train, past_x_train, past_y_train, optimizer, epoch)\n",
        "    feats_tasks.append([np.array(feats), y_train])\n",
        "    \n",
        "    for id_test, task in enumerate(tasks):\n",
        "        print(\"Testing on task: \", id_test)\n",
        "        _, (x_test, y_test) = task\n",
        "        acc = test_private(model, device, x_test, y_test)\n",
        "        avg_acc = avg_acc + acc\n",
        "   \n",
        "    print(\"Avg acc: \", avg_acc / len(tasks))\n",
        "    rehe_accs_priv.append(avg_acc/len(tasks))"
      ],
      "execution_count": 35,
      "outputs": [
        {
          "output_type": "stream",
          "text": [
            "Training on task:  0\n",
            "Train Epoch: 1 \tLoss: 0.853645\n",
            "Train Epoch: 2 \tLoss: 0.629740\n",
            "Testing on task:  0\n",
            "Test set: Average loss: 0.0007, Accuracy: 9438/10000 (94%)\n",
            "\n",
            "Testing on task:  1\n",
            "Test set: Average loss: 0.0118, Accuracy: 624/10000 (6%)\n",
            "\n",
            "Testing on task:  2\n",
            "Test set: Average loss: 0.0100, Accuracy: 1275/10000 (13%)\n",
            "\n",
            "Avg acc:  37.79\n",
            "Training on task:  1\n",
            "Train Epoch: 1 \tLoss: 1.421765\n",
            "Train Epoch: 2 \tLoss: 1.033660\n",
            "Testing on task:  0\n",
            "Test set: Average loss: 0.0239, Accuracy: 1761/10000 (18%)\n",
            "\n",
            "Testing on task:  1\n",
            "Test set: Average loss: 0.0029, Accuracy: 7976/10000 (80%)\n",
            "\n",
            "Testing on task:  2\n",
            "Test set: Average loss: 0.0137, Accuracy: 800/10000 (8%)\n",
            "\n",
            "Avg acc:  35.123333333333335\n",
            "Training on task:  2\n",
            "Train Epoch: 1 \tLoss: 1.305927\n",
            "Train Epoch: 2 \tLoss: 0.947514\n",
            "Testing on task:  0\n",
            "Test set: Average loss: 0.0194, Accuracy: 1546/10000 (15%)\n",
            "\n",
            "Testing on task:  1\n",
            "Test set: Average loss: 0.0086, Accuracy: 2695/10000 (27%)\n",
            "\n",
            "Testing on task:  2\n",
            "Test set: Average loss: 0.0025, Accuracy: 8170/10000 (82%)\n",
            "\n",
            "Avg acc:  41.37\n"
          ],
          "name": "stdout"
        }
      ]
    },
    {
      "cell_type": "code",
      "metadata": {
        "id": "RSTgOEStVGGU",
        "colab": {
          "base_uri": "https://localhost:8080/",
          "height": 300
        },
        "outputId": "3f49a7a6-2332-4f4f-d9d6-2c7117831d29"
      },
      "source": [
        "plt.plot([1, 2, 3], naive_accs, '-o', label=\"Naive\")\n",
        "plt.plot([1, 2, 3], rehe_accs, '-o', label=\"Rehearsal\")\n",
        "plt.plot([1, 2, 3], rehe_accs_priv, '-o', label=\"Rehearsal Private\")\n",
        "plt.plot([1, 2, 3], ewc_accs, '-o', label=\"EWC\")\n",
        "plt.xlabel('Tasks Encountered', fontsize=14)\n",
        "plt.ylabel('Average Accuracy', fontsize=14)\n",
        "plt.title('CL Strategies Comparison on MNSIT', fontsize=14);\n",
        "plt.xticks([1, 2, 3])\n",
        "plt.legend(prop={'size': 16});"
      ],
      "execution_count": 38,
      "outputs": [
        {
          "output_type": "display_data",
          "data": {
            "image/png": "[encoded data removed]",
            "text/plain": [
              "<Figure size 432x288 with 1 Axes>"
            ]
          },
          "metadata": {
            "tags": [],
            "needs_background": "light"
          }
        }
      ]
    },
    {
      "cell_type": "markdown",
      "metadata": {
        "id": "h-moDPoKVcnN"
      },
      "source": [
        "## Actividad Práctica 5\n",
        " \n",
        "* Explique porque la nueva versión de Rehersal (Rehearsal Private) no tiene buenos resultados comparados con la Rehearsal original.\n",
        "* De alguna alternativa de cómo este proceso de entrenamiento pueda mejorar su resultado."
      ]
    },
    {
      "cell_type": "markdown",
      "metadata": {
        "id": "JWIXHFQg6pVN"
      },
      "source": [
        "**RESPUESTA**\r\n",
        "Rehearsal Private es peor que todos porque le estamos dado al modelo una representacion de las capas convolusionales que se olvida cuando se entrena la nueva tarea. Se podria mejorar al congelar las capas convolucionales antes de entrenarlas, similar que cuando uno hace transfer learning."
      ]
    },
    {
      "cell_type": "code",
      "metadata": {
        "id": "s5jdsi2r62fU"
      },
      "source": [
        ""
      ],
      "execution_count": null,
      "outputs": []
    }
  ]
}